{
 "cells": [
  {
   "cell_type": "markdown",
   "id": "756fac9b",
   "metadata": {},
   "source": [
    "# Lecture 13 - De novo Molecule Generation\n",
    "\n",
    "```{contents}\n",
    ":local:\n",
    ":depth: 1\n",
    "```\n",
    "\n",
    "## Learning goals\n",
    "\n",
    "- Connect **unsupervised learning** ideas to **molecular generation**.\n",
    "- Explain what an **encoder** and a **decoder** are.\n",
    "- Build a tiny **Autoencoder (AE)** for SMILES and discuss its limits for generation.\n",
    "- Understand the **Variational Autoencoder (VAE)** idea and why it helps sampling.\n",
    "- Train a small **VAE on SMILES** and generate new molecules.\n",
    "- Inspect what **encode** outputs look like and how sampling works in latent space.\n",
    "\n",
    "[![Colab](https://img.shields.io/badge/Open-Colab-orange)]()\n",
    "\n",
    "---\n",
    "\n",
    "## 1. Setup and data\n",
    "\n",
    "We will use two small datasets.\n",
    "\n",
    "- A subset of **C-H oxidation** molecules (~500). Good for a warm up AE demo.\n",
    "- A small **QM9**-like set of ~1000 SMILES for a VAE practice run.\n",
    "\n",
    "If a download fails, the notebook will create a tiny fallback set so you can still run the lesson."
   ]
  },
  {
   "cell_type": "code",
   "execution_count": 1,
   "id": "1147dca7",
   "metadata": {},
   "outputs": [],
   "source": [
    "# Core\n",
    "import os, io, sys, math, random, json, textwrap, itertools\n",
    "import numpy as np\n",
    "import pandas as pd\n",
    "import matplotlib.pyplot as plt\n",
    "\n",
    "# ML (CPU friendly)\n",
    "import torch\n",
    "import torch.nn as nn\n",
    "import torch.nn.functional as F\n",
    "from torch.utils.data import Dataset, DataLoader\n",
    "\n",
    "# Cheminformatics\n",
    "try:\n",
    "    from rdkit import Chem\n",
    "    from rdkit.Chem import Descriptors, Crippen, rdMolDescriptors, Draw\n",
    "    RD = True\n",
    "except Exception:\n",
    "    RD = False\n",
    "    print(\"RDKit not found. Please install rdkit for full functionality.\")"
   ]
  },
  {
   "cell_type": "markdown",
   "id": "94b52cb1",
   "metadata": {},
   "source": [
    "We load the C-H oxidation dataset from the same source used in earlier lectures and show a few rows."
   ]
  },
  {
   "cell_type": "code",
   "execution_count": 2,
   "id": "9dcf5ade",
   "metadata": {},
   "outputs": [
    {
     "data": {
      "text/html": [
       "<div>\n",
       "<style scoped>\n",
       "    .dataframe tbody tr th:only-of-type {\n",
       "        vertical-align: middle;\n",
       "    }\n",
       "\n",
       "    .dataframe tbody tr th {\n",
       "        vertical-align: top;\n",
       "    }\n",
       "\n",
       "    .dataframe thead th {\n",
       "        text-align: right;\n",
       "    }\n",
       "</style>\n",
       "<table border=\"1\" class=\"dataframe\">\n",
       "  <thead>\n",
       "    <tr style=\"text-align: right;\">\n",
       "      <th></th>\n",
       "      <th>Compound Name</th>\n",
       "      <th>CAS</th>\n",
       "      <th>SMILES</th>\n",
       "      <th>Solubility_mol_per_L</th>\n",
       "      <th>pKa</th>\n",
       "      <th>Toxicity</th>\n",
       "      <th>Melting Point</th>\n",
       "      <th>Reactivity</th>\n",
       "      <th>Oxidation Site</th>\n",
       "    </tr>\n",
       "  </thead>\n",
       "  <tbody>\n",
       "    <tr>\n",
       "      <th>0</th>\n",
       "      <td>Isobutylbenzene</td>\n",
       "      <td>538-92-2</td>\n",
       "      <td>CC(C)Cc1ccccc1</td>\n",
       "      <td>0.021527</td>\n",
       "      <td>6.26</td>\n",
       "      <td>toxic</td>\n",
       "      <td>89.8</td>\n",
       "      <td>1</td>\n",
       "      <td>4</td>\n",
       "    </tr>\n",
       "    <tr>\n",
       "      <th>1</th>\n",
       "      <td>3-methylquinoline</td>\n",
       "      <td>612-58-8</td>\n",
       "      <td>Cc1cnc2ccccc2c1</td>\n",
       "      <td>0.046610</td>\n",
       "      <td>5.77</td>\n",
       "      <td>toxic</td>\n",
       "      <td>90.8</td>\n",
       "      <td>1</td>\n",
       "      <td>1</td>\n",
       "    </tr>\n",
       "    <tr>\n",
       "      <th>2</th>\n",
       "      <td>methyl 3-hydroxythiophene-2-carboxylate</td>\n",
       "      <td>6/9/5118</td>\n",
       "      <td>COC(=O)c1sccc1O</td>\n",
       "      <td>0.135246</td>\n",
       "      <td>5.90</td>\n",
       "      <td>non_toxic</td>\n",
       "      <td>78.4</td>\n",
       "      <td>-1</td>\n",
       "      <td>-1</td>\n",
       "    </tr>\n",
       "  </tbody>\n",
       "</table>\n",
       "</div>"
      ],
      "text/plain": [
       "                             Compound Name       CAS           SMILES  \\\n",
       "0                          Isobutylbenzene  538-92-2   CC(C)Cc1ccccc1   \n",
       "1                        3-methylquinoline  612-58-8  Cc1cnc2ccccc2c1   \n",
       "2  methyl 3-hydroxythiophene-2-carboxylate  6/9/5118  COC(=O)c1sccc1O   \n",
       "\n",
       "   Solubility_mol_per_L   pKa   Toxicity  Melting Point  Reactivity  \\\n",
       "0              0.021527  6.26      toxic           89.8           1   \n",
       "1              0.046610  5.77      toxic           90.8           1   \n",
       "2              0.135246  5.90  non_toxic           78.4          -1   \n",
       "\n",
       "  Oxidation Site  \n",
       "0              4  \n",
       "1              1  \n",
       "2             -1  "
      ]
     },
     "execution_count": 2,
     "metadata": {},
     "output_type": "execute_result"
    }
   ],
   "source": [
    "# C-H oxidation dataset\n",
    "try:\n",
    "    url_ch = \"https://raw.githubusercontent.com/zzhenglab/ai4chem/main/book/_data/C_H_oxidation_dataset.csv\"\n",
    "    df_ch = pd.read_csv(url_ch)\n",
    "    # some datasets have text columns; we only keep what we need\n",
    "    df_ch = df_ch.rename(columns={c:c.strip() for c in df_ch.columns})\n",
    "    df_ch = df_ch.dropna(subset=[\"SMILES\"]).reset_index(drop=True)\n",
    "    df_ch_small = df_ch.sample(n=min(500, len(df_ch)), random_state=0).reset_index(drop=True)\n",
    "except Exception as e:\n",
    "    print(\"C-H dataset download failed, making a tiny fallback set:\", e)\n",
    "    # fallback: a handful of small hydrocarbons and heterocycles\n",
    "    smiles_fallback = [\n",
    "        \"CC\", \"CCC\", \"CCCC\", \"c1ccccc1\", \"OCCO\", \"CCO\", \"CCN\", \"CCCl\", \"CCBr\",\n",
    "        \"CC(=O)O\", \"C1CCCCC1\", \"c1ccncc1\", \"CCOC\", \"CCS\", \"CCF\", \"C=C\", \"C#N\"\n",
    "    ] * 40\n",
    "    df_ch_small = pd.DataFrame({\"SMILES\": smiles_fallback[:500], \"Compound Name\": [f\"M{i}\" for i in range(500)]})\n",
    "\n",
    "df_ch_small.head(3)"
   ]
  },
  {
   "cell_type": "markdown",
   "id": "bd949f94",
   "metadata": {},
   "source": [
    "Next we try to load 1k SMILES for a QM9 mini set. If it fails, we synthesize a small set by perturbing simple scaffolds."
   ]
  },
  {
   "cell_type": "code",
   "execution_count": 3,
   "id": "4160cfae",
   "metadata": {},
   "outputs": [
    {
     "name": "stdout",
     "output_type": "stream",
     "text": [
      "QM9 mini download failed, making fallback set: HTTP Error 404: Not Found\n"
     ]
    },
    {
     "data": {
      "text/html": [
       "<div>\n",
       "<style scoped>\n",
       "    .dataframe tbody tr th:only-of-type {\n",
       "        vertical-align: middle;\n",
       "    }\n",
       "\n",
       "    .dataframe tbody tr th {\n",
       "        vertical-align: top;\n",
       "    }\n",
       "\n",
       "    .dataframe thead th {\n",
       "        text-align: right;\n",
       "    }\n",
       "</style>\n",
       "<table border=\"1\" class=\"dataframe\">\n",
       "  <thead>\n",
       "    <tr style=\"text-align: right;\">\n",
       "      <th></th>\n",
       "      <th>SMILES</th>\n",
       "    </tr>\n",
       "  </thead>\n",
       "  <tbody>\n",
       "    <tr>\n",
       "      <th>0</th>\n",
       "      <td>CCCN</td>\n",
       "    </tr>\n",
       "    <tr>\n",
       "      <th>1</th>\n",
       "      <td>CCNC</td>\n",
       "    </tr>\n",
       "    <tr>\n",
       "      <th>2</th>\n",
       "      <td>Cc1ccccc1</td>\n",
       "    </tr>\n",
       "  </tbody>\n",
       "</table>\n",
       "</div>"
      ],
      "text/plain": [
       "      SMILES\n",
       "0       CCCN\n",
       "1       CCNC\n",
       "2  Cc1ccccc1"
      ]
     },
     "execution_count": 3,
     "metadata": {},
     "output_type": "execute_result"
    }
   ],
   "source": [
    "def make_qm9_fallback(n=1000):\n",
    "    base = [\"CCO\", \"CCN\", \"CCC\", \"C=O\", \"COC\", \"c1ccccc1\", \"CCCl\", \"CC=O\", \"OCCO\", \"CC#N\"]\n",
    "    out = []\n",
    "    for i in range(n):\n",
    "        s = random.choice(base)\n",
    "        # simple random concat or methyl add\n",
    "        if random.random() < 0.5:\n",
    "            s = \"C\" + s\n",
    "        if random.random() < 0.3:\n",
    "            s = s + \"C\"\n",
    "        out.append(s)\n",
    "    return pd.DataFrame({\"SMILES\": out})\n",
    "\n",
    "try:\n",
    "    url_qm = \"https://raw.githubusercontent.com/zzhenglab/ai4chem/main/book/_data/qm9_1k.csv\"\n",
    "    df_qm9 = pd.read_csv(url_qm)\n",
    "    df_qm9 = df_qm9.dropna(subset=[\"SMILES\"]).reset_index(drop=True)\n",
    "    if len(df_qm9) > 1000:\n",
    "        df_qm9 = df_qm9.sample(1000, random_state=0).reset_index(drop=True)\n",
    "except Exception as e:\n",
    "    print(\"QM9 mini download failed, making fallback set:\", e)\n",
    "    df_qm9 = make_qm9_fallback(1000)\n",
    "\n",
    "df_qm9.head(3)"
   ]
  },
  {
   "cell_type": "markdown",
   "id": "9822050b",
   "metadata": {},
   "source": [
    "We will need a tiny tokenizer for SMILES. For beginners, we use **character level** to keep it simple."
   ]
  },
  {
   "cell_type": "code",
   "execution_count": 4,
   "id": "7870e82b",
   "metadata": {},
   "outputs": [],
   "source": [
    "def build_charset(smiles_list, extra_tokens=(\"<pad>\", \"<bos>\", \"<eos>\", \"<unk>\")):\n",
    "    chars = set()\n",
    "    for s in smiles_list:\n",
    "        chars.update(list(s))\n",
    "    vocab = list(sorted(chars))\n",
    "    vocab = list(extra_tokens) + vocab\n",
    "    stoi = {c:i for i,c in enumerate(vocab)}\n",
    "    itos = {i:c for c,i in stoi.items()}\n",
    "    return vocab, stoi, itos\n",
    "\n",
    "def encode_smiles(s, stoi, max_len):\n",
    "    ids = [stoi.get(\"<bos>\")]\n",
    "    for ch in s:\n",
    "        ids.append(stoi.get(ch, stoi[\"<unk>\"]))\n",
    "    ids.append(stoi.get(\"<eos>\"))\n",
    "    # pad or truncate\n",
    "    ids = ids[:max_len]\n",
    "    ids += [stoi[\"<pad>\"]] * (max_len - len(ids))\n",
    "    return np.array(ids, dtype=np.int64)\n",
    "\n",
    "def decode_ids(ids, itos):\n",
    "    toks = []\n",
    "    for i in ids:\n",
    "        ch = itos[int(i)]\n",
    "        if ch in (\"<pad>\", \"<bos>\"): \n",
    "            continue\n",
    "        if ch == \"<eos>\":\n",
    "            break\n",
    "        toks.append(ch)\n",
    "    return \"\".join(toks)"
   ]
  },
  {
   "cell_type": "markdown",
   "id": "979b190f",
   "metadata": {},
   "source": [
    "**Exercise A1**\n",
    "\n",
    "1) Print the vocabulary size for the C-H subset.  \n",
    "2) Change `max_len` to a smaller value and see what happens to truncation count.  \n",
    "3) Add a new token to the vocabulary manually and reprint size.\n",
    "\n",
    "```python\n",
    "# TO DO\n",
    "```\n",
    "\n",
    "We now build tokenizers for both datasets and show an example of encode and decode."
   ]
  },
  {
   "cell_type": "code",
   "execution_count": 5,
   "id": "3140bec1",
   "metadata": {},
   "outputs": [
    {
     "name": "stdout",
     "output_type": "stream",
     "text": [
      "C-H vocab size: 37 max_len: 64\n",
      "QM9 vocab size: 12 max_len: 12\n",
      "Encoded shape: (64,) first 12 ids: [ 1 19 19  5 19  6 19 30 10 30 30 30]\n",
      "Decoded: CC(C)Cc1ccccc1\n"
     ]
    }
   ],
   "source": [
    "ch_smiles = df_ch_small[\"SMILES\"].astype(str).tolist()\n",
    "qm_smiles = df_qm9[\"SMILES\"].astype(str).tolist()\n",
    "\n",
    "vocab_ch, stoi_ch, itos_ch = build_charset(ch_smiles)\n",
    "vocab_qm, stoi_qm, itos_qm = build_charset(qm_smiles)\n",
    "\n",
    "max_len_ch = min(64, max(len(s)+2 for s in ch_smiles))  # +2 for <bos>, <eos>\n",
    "max_len_qm = min(64, max(len(s)+2 for s in qm_smiles))\n",
    "\n",
    "print(\"C-H vocab size:\", len(vocab_ch), \"max_len:\", max_len_ch)\n",
    "print(\"QM9 vocab size:\", len(vocab_qm), \"max_len:\", max_len_qm)\n",
    "\n",
    "# demo\n",
    "demo = ch_smiles[0]\n",
    "ids = encode_smiles(demo, stoi_ch, max_len_ch)\n",
    "print(\"Encoded shape:\", ids.shape, \"first 12 ids:\", ids[:12])\n",
    "print(\"Decoded:\", decode_ids(ids, itos_ch))"
   ]
  },
  {
   "cell_type": "markdown",
   "id": "2e2b5d78",
   "metadata": {},
   "source": [
    "---\n",
    "\n",
    "## 2. Encoder and decoder by example\n",
    "\n",
    "We start with minimal building blocks: an **embedding** for tokens, a small **GRU** encoder to get a single vector, and a **GRU** decoder that tries to reconstruct the input. This is the plain **Autoencoder (AE)**.\n",
    "\n",
    "Concepts:\n",
    "\n",
    "- **Encoder** maps tokens to a latent vector: $z = f_\\phi(x)$.\n",
    "- **Decoder** maps the latent vector back to tokens: $\\hat x = g_\\theta(z)$.\n",
    "- Training uses **reconstruction loss**. For sequences we use token cross-entropy."
   ]
  },
  {
   "cell_type": "code",
   "execution_count": 6,
   "id": "4709b5b9",
   "metadata": {},
   "outputs": [],
   "source": [
    "class AE(nn.Module):\n",
    "    def __init__(self, vocab_size, emb_dim=64, hid=128):\n",
    "        super().__init__()\n",
    "        self.emb = nn.Embedding(vocab_size, emb_dim, padding_idx=0)\n",
    "        self.encoder = nn.GRU(emb_dim, hid, batch_first=True)\n",
    "        self.decoder = nn.GRU(emb_dim + hid, hid, batch_first=True)\n",
    "        self.out = nn.Linear(hid, vocab_size)\n",
    "        self.hid = hid\n",
    "\n",
    "    def forward(self, x):\n",
    "        # x: [B, T]\n",
    "        emb = self.emb(x)                      # [B, T, E]\n",
    "        _, h = self.encoder(emb)               # h: [1, B, H]\n",
    "        h = h.squeeze(0)                       # [B, H]\n",
    "        # teacher forcing: feed <bos> + previous target tokens during training\n",
    "        # Build decoder input: concat token embedding with repeated h\n",
    "        bos = x[:, :1]                         # first token is <bos>\n",
    "        dec_in_tokens = torch.cat([bos, x[:, :-1]], dim=1)  # shift right\n",
    "        dec_emb = self.emb(dec_in_tokens)      # [B, T, E]\n",
    "        h_rep = h.unsqueeze(1).repeat(1, x.size(1), 1)   # [B, T, H]\n",
    "        dec_cat = torch.cat([dec_emb, h_rep], dim=2)     # [B, T, E+H]\n",
    "        dec_out, _ = self.decoder(dec_cat)\n",
    "        logits = self.out(dec_out)             # [B, T, V]\n",
    "        return logits, h                       # return tokens logits and latent\n",
    "\n",
    "    def encode(self, x):\n",
    "        emb = self.emb(x)\n",
    "        _, h = self.encoder(emb)\n",
    "        return h.squeeze(0)                    # [B, H]\n",
    "\n",
    "    def decode_greedy(self, z, stoi, itos, max_len=64):\n",
    "        # z: [B, H]\n",
    "        B = z.size(0)\n",
    "        cur = torch.full((B, 1), stoi[\"<bos>\"], dtype=torch.long, device=z.device)\n",
    "        outs = []\n",
    "        h = None\n",
    "        for _ in range(max_len):\n",
    "            emb = self.emb(cur)                 # [B, 1, E]\n",
    "            zrep = z.unsqueeze(1)               # [B, 1, H]\n",
    "            dec_cat = torch.cat([emb, zrep], dim=2)\n",
    "            dec_out, h = self.decoder(dec_cat, h)\n",
    "            logits = self.out(dec_out[:, -1, :])        # [B, V]\n",
    "            nxt = torch.argmax(logits, dim=-1, keepdim=True)  # [B, 1]\n",
    "            outs.append(nxt)\n",
    "            cur = nxt\n",
    "            if int(nxt[0,0].item()) == stoi[\"<eos>\"]:\n",
    "                break\n",
    "        outs = torch.cat(outs, dim=1)  # [B, T']\n",
    "        return outs"
   ]
  },
  {
   "cell_type": "markdown",
   "id": "6e138768",
   "metadata": {},
   "source": [
    "Let us build a tiny dataset class and a single batch to inspect shapes. This helps students see what goes into the network."
   ]
  },
  {
   "cell_type": "code",
   "execution_count": 7,
   "id": "5cd5b6eb",
   "metadata": {},
   "outputs": [
    {
     "data": {
      "text/plain": [
       "(torch.Size([64, 64]),\n",
       " tensor([ 1, 19, 17, 19, 19, 19, 19, 19, 19, 19, 19, 19]))"
      ]
     },
     "execution_count": 7,
     "metadata": {},
     "output_type": "execute_result"
    }
   ],
   "source": [
    "class SmilesDataset(Dataset):\n",
    "    def __init__(self, smiles, stoi, max_len):\n",
    "        self.smiles = smiles\n",
    "        self.stoi = stoi\n",
    "        self.max_len = max_len\n",
    "\n",
    "    def __len__(self):\n",
    "        return len(self.smiles)\n",
    "\n",
    "    def __getitem__(self, idx):\n",
    "        s = self.smiles[idx]\n",
    "        x = encode_smiles(s, self.stoi, self.max_len)\n",
    "        return torch.from_numpy(x)\n",
    "\n",
    "# small C-H dataset for AE\n",
    "train_smiles_ae = ch_smiles\n",
    "ds_ae = SmilesDataset(train_smiles_ae, stoi_ch, max_len_ch)\n",
    "dl_ae = DataLoader(ds_ae, batch_size=64, shuffle=True)\n",
    "\n",
    "batch = next(iter(dl_ae))\n",
    "batch.shape, batch[0][:12]"
   ]
  },
  {
   "cell_type": "markdown",
   "id": "cbc822e5",
   "metadata": {},
   "source": [
    "**What does encode really look like?** We pass one sequence into the encoder and print the latent vector."
   ]
  },
  {
   "cell_type": "code",
   "execution_count": 8,
   "id": "0b8b4319",
   "metadata": {},
   "outputs": [
    {
     "name": "stdout",
     "output_type": "stream",
     "text": [
      "Latent vector shape: (1, 128)\n",
      "First 8 numbers: [-0.045  0.084  0.023 -0.006 -0.034 -0.03  -0.104 -0.035]\n"
     ]
    }
   ],
   "source": [
    "device = torch.device(\"cuda\" if torch.cuda.is_available() else \"cpu\")\n",
    "ae = AE(vocab_size=len(vocab_ch), emb_dim=64, hid=128).to(device)\n",
    "\n",
    "x1 = batch[:1].to(device)         # one sample\n",
    "with torch.no_grad():\n",
    "    z1 = ae.encode(x1)            # [1, 128]\n",
    "print(\"Latent vector shape:\", tuple(z1.shape))\n",
    "print(\"First 8 numbers:\", z1[0, :8].cpu().numpy().round(3))"
   ]
  },
  {
   "cell_type": "markdown",
   "id": "26780f64",
   "metadata": {},
   "source": [
    "**Exercise A2**\n",
    "\n",
    "1) Change `hid` from 128 to 32 and print the new latent vector shape.  \n",
    "2) Inspect the first 8 numbers again. Are they larger or smaller on average  \n",
    "3) Try `emb_dim` 32 vs 128 and see if the loss in the next section changes faster.\n",
    "\n",
    "```python\n",
    "# TO DO\n",
    "```\n",
    "\n",
    "---\n",
    "\n",
    "## 3. Training a simple AE on C-H subset\n",
    "\n",
    "We keep the training loop short to fit in class time. The goal is to reconstruct the input SMILES.\n",
    "\n",
    "Loss: token cross-entropy over all time steps."
   ]
  },
  {
   "cell_type": "code",
   "execution_count": 9,
   "id": "cc0a9d46",
   "metadata": {},
   "outputs": [
    {
     "name": "stdout",
     "output_type": "stream",
     "text": [
      "AE epoch 1 loss 3.156\n"
     ]
    },
    {
     "name": "stdout",
     "output_type": "stream",
     "text": [
      "AE epoch 2 loss 2.403\n"
     ]
    },
    {
     "name": "stdout",
     "output_type": "stream",
     "text": [
      "AE epoch 3 loss 2.103\n"
     ]
    }
   ],
   "source": [
    "def ce_loss(logits, targets, ignore_index=0):\n",
    "    # logits: [B, T, V], targets: [B, T]\n",
    "    return F.cross_entropy(\n",
    "        logits.reshape(-1, logits.size(-1)),\n",
    "        targets.reshape(-1),\n",
    "        ignore_index=ignore_index\n",
    "    )\n",
    "\n",
    "opt = torch.optim.Adam(ae.parameters(), lr=1e-3)\n",
    "ae.train()\n",
    "\n",
    "for epoch in range(3):\n",
    "    losses = []\n",
    "    for xb in dl_ae:\n",
    "        xb = xb.to(device)\n",
    "        logits, z = ae(xb)\n",
    "        loss = ce_loss(logits, xb, ignore_index=stoi_ch[\"<pad>\"])\n",
    "        opt.zero_grad()\n",
    "        loss.backward()\n",
    "        opt.step()\n",
    "        losses.append(loss.item())\n",
    "    print(f\"AE epoch {epoch+1} loss {np.mean(losses):.3f}\")"
   ]
  },
  {
   "cell_type": "markdown",
   "id": "29a9c9d8",
   "metadata": {},
   "source": [
    "Let us reconstruct some strings and compare input vs output. The AE is not a language model. It mostly learns to copy inputs it has seen."
   ]
  },
  {
   "cell_type": "code",
   "execution_count": 10,
   "id": "e4914226",
   "metadata": {},
   "outputs": [
    {
     "name": "stdout",
     "output_type": "stream",
     "text": [
      "in:  CCc1ccc(C2CCCCC2)cc1\n",
      "out: CCCccccccCcCCCCCCccccccCCCCCCCCCCCCCCCCCCCCCCCCCCCCCCCCCCCCCCCC\n",
      "\n",
      "in:  CC1COCc2cc3c(cc21)C(C)(C)C(C)C3(C)C\n",
      "out: CCCCCCCccccccccccccCCCCCCCCCCCCCCCCCCCCCCCCCCCCCCCCCCCCCCCCCCCC\n",
      "\n",
      "in:  O=C(O)c1ccc(P(=O)(c2ccc(C(=O)O)cc2)c2ccc(C(=O)O)cc2)cc1\n",
      "out: CCCCC)CcccccccCC)CCccccccCCC)C)CccccccccccCCC)C)CccccccccccCCCC\n",
      "\n",
      "in:  CC(C)(C)c1ccc2cc3ccccc3cc2c1\n",
      "out: CCCCCCCCCcccccccccccccccccccccccCCCCCCCCCCCCCCCCCCCCCCCCCCCCCCC\n",
      "\n",
      "in:  CCc1cccc(CC)c1\n",
      "out: CCCcccccccCCCccccCCCCCCCCCCCCCCCCCCCCCCCCCCCCCCCCCCCCCCCCCCCCCC\n",
      "\n",
      "in:  CC1=C(C)CCCC1\n",
      "out: CCCCCCCCCCCCCCcCCCCCCCCCCCCCCCCCCCCCCCCCCCCCCCCCCCCCCCCCCCCCCCC\n",
      "\n",
      "in:  CCc1ccc(OC)cc1\n",
      "out: CCCcccccc)CCccccccCCCCCCCCCCCCCCCCCCCCCCCCCCCCCCCCCCCCCCCCCCCCC\n",
      "\n",
      "in:  O=C(O)c1cc(O)c2ccccc2c1O\n",
      "out: CCCCC)Cccccc)Ccccccccccc)ccCCCCCCCCCCCCCCCCCCCCCCCCCCCCCCCCCCCC\n",
      "\n"
     ]
    }
   ],
   "source": [
    "ae.eval()\n",
    "with torch.no_grad():\n",
    "    xb = next(iter(dl_ae))[:8].to(device)\n",
    "    logits, z = ae(xb)\n",
    "    preds = torch.argmax(logits, dim=-1)\n",
    "    for i in range(xb.size(0)):\n",
    "        s_in  = decode_ids(xb[i].cpu().numpy(), itos_ch)\n",
    "        s_out = decode_ids(preds[i].cpu().numpy(), itos_ch)\n",
    "        print(f\"in:  {s_in}\")\n",
    "        print(f\"out: {s_out}\")\n",
    "        print()"
   ]
  },
  {
   "cell_type": "markdown",
   "id": "3c566c00",
   "metadata": {},
   "source": [
    "**AE challenge discussion**\n",
    "\n",
    "- An AE learns to compress and decompress. It does not force a **smooth** latent space.\n",
    "- Sampling a random latent vector often decodes to invalid strings.\n",
    "- Small perturbations in latent space may break validity.\n",
    "- Molecules are discrete graphs. SMILES is a string representation. Errors can violate valence.\n",
    "\n",
    "**Exercise A3**\n",
    "\n",
    "1) Try to decode using `ae.decode_greedy(z_from_other_molecule)` by swapping latent vectors between two inputs.  \n",
    "2) How often do you get invalid SMILES when you decode a random normal vector of size `hid`  \n",
    "3) Count validity using RDKit parsing.\n",
    "\n",
    "```python\n",
    "# TO DO\n",
    "```\n",
    "\n",
    "---\n",
    "\n",
    "## 4. From AE to VAE\n",
    "\n",
    "To sample new molecules we want a **nice latent space**. The **Variational Autoencoder (VAE)** shapes the latent distribution.\n",
    "\n",
    "Idea:\n",
    "\n",
    "- Encoder outputs a mean and a log-variance for each dimension: $\\mu(x)$ and $\\log\\sigma^2(x)$.\n",
    "- We sample latent with the **reparameterization trick**  \n",
    "  $z = \\mu + \\sigma \\odot \\epsilon$ with $\\epsilon \\sim \\mathcal{N}(0, I)$.\n",
    "- Loss has two parts  \n",
    "  1) Reconstruction: token cross-entropy  \n",
    "  2) KL term: $D_{\\text{KL}}\\big(q_\\phi(z\\mid x)\\,\\|\\,\\mathcal{N}(0, I)\\big)$\n",
    "\n",
    "The KL term nudges posteriors toward a unit Gaussian. That makes sampling from $z \\sim \\mathcal{N}(0,I)$ meaningful."
   ]
  },
  {
   "cell_type": "code",
   "execution_count": 11,
   "id": "101167b3",
   "metadata": {},
   "outputs": [],
   "source": [
    "class VAE(nn.Module):\n",
    "    def __init__(self, vocab_size, emb_dim=64, hid=128, zdim=64):\n",
    "        super().__init__()\n",
    "        self.emb = nn.Embedding(vocab_size, emb_dim, padding_idx=0)\n",
    "        self.encoder = nn.GRU(emb_dim, hid, batch_first=True)\n",
    "        self.mu = nn.Linear(hid, zdim)\n",
    "        self.logvar = nn.Linear(hid, zdim)\n",
    "\n",
    "        self.decoder = nn.GRU(emb_dim + zdim, hid, batch_first=True)\n",
    "        self.out = nn.Linear(hid, vocab_size)\n",
    "        self.zdim = zdim\n",
    "\n",
    "    def encode_stats(self, x):\n",
    "        emb = self.emb(x)\n",
    "        _, h = self.encoder(emb)   # [1, B, H]\n",
    "        h = h.squeeze(0)\n",
    "        mu = self.mu(h)\n",
    "        logvar = self.logvar(h)\n",
    "        return mu, logvar\n",
    "\n",
    "    def reparam(self, mu, logvar):\n",
    "        std = torch.exp(0.5 * logvar)\n",
    "        eps = torch.randn_like(std)\n",
    "        return mu + eps * std\n",
    "\n",
    "    def forward(self, x):\n",
    "        mu, logvar = self.encode_stats(x)\n",
    "        z = self.reparam(mu, logvar)                 # [B, Z]\n",
    "        bos = x[:, :1]\n",
    "        dec_in_tokens = torch.cat([bos, x[:, :-1]], dim=1)\n",
    "        dec_emb = self.emb(dec_in_tokens)\n",
    "        zrep = z.unsqueeze(1).repeat(1, x.size(1), 1)\n",
    "        dec_cat = torch.cat([dec_emb, zrep], dim=2)\n",
    "        dec_out, _ = self.decoder(dec_cat)\n",
    "        logits = self.out(dec_out)\n",
    "        return logits, mu, logvar, z\n",
    "\n",
    "    def encode(self, x):\n",
    "        mu, logvar = self.encode_stats(x)\n",
    "        return mu\n",
    "\n",
    "    def sample(self, n, stoi, itos, max_len=64, device=\"cpu\"):\n",
    "        z = torch.randn(n, self.zdim, device=device)\n",
    "        cur = torch.full((n, 1), stoi[\"<bos>\"], dtype=torch.long, device=device)\n",
    "        outs = []\n",
    "        h = None\n",
    "        for _ in range(max_len):\n",
    "            emb = self.emb(cur)\n",
    "            zrep = z.unsqueeze(1)\n",
    "            dec_cat = torch.cat([emb, zrep], dim=2)\n",
    "            dec_out, h = self.decoder(dec_cat, h)\n",
    "            logits = self.out(dec_out[:, -1, :])\n",
    "            nxt = torch.argmax(logits, dim=-1, keepdim=True)\n",
    "            outs.append(nxt)\n",
    "            cur = nxt\n",
    "        ids = torch.cat(outs, dim=1)\n",
    "        return [decode_ids(row.cpu().numpy(), itos) for row in ids]"
   ]
  },
  {
   "cell_type": "markdown",
   "id": "73a6043a",
   "metadata": {},
   "source": [
    "We define the VAE loss. The KL weight can start small and increase. This is called **KL warmup** and often stabilizes training."
   ]
  },
  {
   "cell_type": "code",
   "execution_count": 12,
   "id": "dd0ed7db",
   "metadata": {},
   "outputs": [],
   "source": [
    "def vae_loss(logits, targets, mu, logvar, kl_weight=1.0, pad_idx=0):\n",
    "    rec = F.cross_entropy(\n",
    "        logits.reshape(-1, logits.size(-1)),\n",
    "        targets.reshape(-1),\n",
    "        ignore_index=pad_idx\n",
    "    )\n",
    "    # KL for N(mu, sigma^2) vs N(0,1): -0.5 * sum(1 + logvar - mu^2 - exp(logvar))\n",
    "    kl = -0.5 * torch.mean(1 + logvar - mu.pow(2) - logvar.exp())\n",
    "    return rec + kl_weight * kl, rec.item(), kl.item()"
   ]
  },
  {
   "cell_type": "markdown",
   "id": "cfa08eb9",
   "metadata": {},
   "source": [
    "---\n",
    "\n",
    "## 5. Training a VAE on QM9 subset\n",
    "\n",
    "We prepare a loader and run a short training loop. Keep epochs low for class time. You can extend later."
   ]
  },
  {
   "cell_type": "code",
   "execution_count": 13,
   "id": "bf8081f4",
   "metadata": {},
   "outputs": [
    {
     "name": "stdout",
     "output_type": "stream",
     "text": [
      "VAE epoch 1  loss 2.114  rec 2.112  kl 0.006  kl_w 0.50\n"
     ]
    },
    {
     "name": "stdout",
     "output_type": "stream",
     "text": [
      "VAE epoch 2  loss 1.558  rec 1.529  kl 0.030  kl_w 1.00\n"
     ]
    },
    {
     "name": "stdout",
     "output_type": "stream",
     "text": [
      "VAE epoch 3  loss 1.254  rec 1.217  kl 0.037  kl_w 1.00\n"
     ]
    },
    {
     "name": "stdout",
     "output_type": "stream",
     "text": [
      "VAE epoch 4  loss 1.049  rec 1.026  kl 0.023  kl_w 1.00\n"
     ]
    }
   ],
   "source": [
    "# dataset and loader\n",
    "ds_vae = SmilesDataset(qm_smiles, stoi_qm, max_len_qm)\n",
    "dl_vae = DataLoader(ds_vae, batch_size=128, shuffle=True)\n",
    "\n",
    "vae = VAE(vocab_size=len(vocab_qm), emb_dim=64, hid=128, zdim=64).to(device)\n",
    "opt = torch.optim.Adam(vae.parameters(), lr=1e-3)\n",
    "\n",
    "epochs = 4\n",
    "for ep in range(epochs):\n",
    "    vae.train()\n",
    "    lossv, recv, klv = [], [], []\n",
    "    kl_w = min(1.0, (ep+1) / max(1, epochs//2))  # simple warmup\n",
    "    for xb in dl_vae:\n",
    "        xb = xb.to(device)\n",
    "        logits, mu, logvar, z = vae(xb)\n",
    "        loss, rec, kl = vae_loss(logits, xb, mu, logvar, kl_weight=kl_w, pad_idx=stoi_qm[\"<pad>\"])\n",
    "        opt.zero_grad()\n",
    "        loss.backward()\n",
    "        opt.step()\n",
    "        lossv.append(loss.item()); recv.append(rec); klv.append(kl)\n",
    "    print(f\"VAE epoch {ep+1}  loss {np.mean(lossv):.3f}  rec {np.mean(recv):.3f}  kl {np.mean(klv):.3f}  kl_w {kl_w:.2f}\")"
   ]
  },
  {
   "cell_type": "markdown",
   "id": "5af85db8",
   "metadata": {},
   "source": [
    "Let us inspect the **encode** output for a few molecules to see latent vectors. This connects the math to the actual tensors."
   ]
  },
  {
   "cell_type": "code",
   "execution_count": 14,
   "id": "7581ba51",
   "metadata": {},
   "outputs": [
    {
     "name": "stdout",
     "output_type": "stream",
     "text": [
      "Encoded mu shape: (3, 64)\n",
      "Row 0 first 10 dims: [-0.005 -0.133 -0.094  0.12   0.265 -0.04  -0.209  0.031  0.063 -0.04 ]\n"
     ]
    }
   ],
   "source": [
    "vae.eval()\n",
    "with torch.no_grad():\n",
    "    xb = next(iter(dl_vae))[:3].to(device)\n",
    "    mu = vae.encode(xb)        # [3, zdim]\n",
    "print(\"Encoded mu shape:\", tuple(mu.shape))\n",
    "print(\"Row 0 first 10 dims:\", mu[0,:10].cpu().numpy().round(3))"
   ]
  },
  {
   "cell_type": "markdown",
   "id": "c2adfda9",
   "metadata": {},
   "source": [
    "We now sample new molecules by drawing random $z \\sim \\mathcal{N}(0, I)$ and decoding."
   ]
  },
  {
   "cell_type": "code",
   "execution_count": 15,
   "id": "18bbdf48",
   "metadata": {},
   "outputs": [
    {
     "name": "stdout",
     "output_type": "stream",
     "text": [
      "01. CCCC\n",
      "02. CCCC\n",
      "03. CCCC\n",
      "04. CCCC\n",
      "05. CCCC\n",
      "06. CCCC\n",
      "07. CCCC\n",
      "08. CCCCC\n",
      "09. CCCC\n",
      "10. CCCC\n",
      "11. CCCC\n",
      "12. CCCC\n"
     ]
    }
   ],
   "source": [
    "vae.eval()\n",
    "with torch.no_grad():\n",
    "    samples = vae.sample(12, stoi_qm, itos_qm, max_len=max_len_qm, device=device)\n",
    "for i, s in enumerate(samples, 1):\n",
    "    print(f\"{i:02d}. {s}\")"
   ]
  },
  {
   "cell_type": "markdown",
   "id": "f9d4b424",
   "metadata": {},
   "source": [
    "Count validity with RDKit. This shows why VAE helps compared to a plain AE."
   ]
  },
  {
   "cell_type": "code",
   "execution_count": 16,
   "id": "34c9c733",
   "metadata": {},
   "outputs": [
    {
     "name": "stdout",
     "output_type": "stream",
     "text": [
      "Valid: 12 / 12\n"
     ]
    }
   ],
   "source": [
    "def is_valid_smiles(s):\n",
    "    if not RD: \n",
    "        return True  # skip if RDKit missing\n",
    "    m = Chem.MolFromSmiles(s)\n",
    "    return m is not None\n",
    "\n",
    "valid_flags = [is_valid_smiles(s) for s in samples]\n",
    "print(\"Valid:\", sum(valid_flags), \"/\", len(samples))"
   ]
  },
  {
   "cell_type": "markdown",
   "id": "f30c77a2",
   "metadata": {},
   "source": [
    "---\n",
    "\n",
    "## 6. Interpolations in latent space\n",
    "\n",
    "A benefit of VAE is smoothness of the latent space. We encode two molecules, then linearly interpolate between their latents and decode each step."
   ]
  },
  {
   "cell_type": "code",
   "execution_count": 17,
   "id": "3f04ce3d",
   "metadata": {},
   "outputs": [
    {
     "name": "stdout",
     "output_type": "stream",
     "text": [
      "s1: CCCN\n",
      "s2: CCNC\n",
      "t=0.00 -> CCCC   valid=True\n",
      "t=0.20 -> CCCC   valid=True\n",
      "t=0.40 -> CCCC   valid=True\n",
      "t=0.60 -> CCCC   valid=True\n",
      "t=0.80 -> CCCC   valid=True\n",
      "t=1.00 -> CCCC   valid=True\n"
     ]
    }
   ],
   "source": [
    "def interpolate(vae, s1, s2, stoi, itos, steps=7, device=\"cpu\", max_len=64):\n",
    "    with torch.no_grad():\n",
    "        x1 = torch.from_numpy(encode_smiles(s1, stoi, max_len)).unsqueeze(0).to(device)\n",
    "        x2 = torch.from_numpy(encode_smiles(s2, stoi, max_len)).unsqueeze(0).to(device)\n",
    "        mu1 = vae.encode(x1)  # [1, Z]\n",
    "        mu2 = vae.encode(x2)  # [1, Z]\n",
    "        outs = []\n",
    "        for t in np.linspace(0, 1, steps):\n",
    "            z = (1-t)*mu1 + t*mu2\n",
    "            # greedy decode from z\n",
    "            cur = torch.full((1,1), stoi[\"<bos>\"], dtype=torch.long, device=device)\n",
    "            h = None\n",
    "            seq = []\n",
    "            for _ in range(max_len):\n",
    "                emb = vae.emb(cur)\n",
    "                zrep = z.unsqueeze(1)\n",
    "                dec_cat = torch.cat([emb, zrep], dim=2)\n",
    "                dec_out, h = vae.decoder(dec_cat, h)\n",
    "                logits = vae.out(dec_out[:,-1,:])\n",
    "                nxt = torch.argmax(logits, dim=-1, keepdim=True)\n",
    "                seq.append(nxt)\n",
    "                cur = nxt\n",
    "            ids = torch.cat(seq, dim=1)\n",
    "            outs.append(decode_ids(ids[0].cpu().numpy(), itos))\n",
    "    return outs\n",
    "\n",
    "s1 = qm_smiles[0]\n",
    "s2 = qm_smiles[1]\n",
    "print(\"s1:\", s1)\n",
    "print(\"s2:\", s2)\n",
    "outs = interpolate(vae, s1, s2, stoi_qm, itos_qm, steps=6, device=device, max_len=max_len_qm)\n",
    "for i, s in enumerate(outs):\n",
    "    ok = is_valid_smiles(s)\n",
    "    print(f\"t={i/(len(outs)-1):.2f} -> {s}   valid={ok}\")"
   ]
  },
  {
   "cell_type": "markdown",
   "id": "c07b9864",
   "metadata": {},
   "source": [
    "---\n",
    "\n",
    "## 7. Small AE on C-H reactivity slice\n",
    "\n",
    "As a short targeted demo, we pick a slice of possibly reactive molecules from the C-H dataset by a quick rule like higher `NumRings` or high `LogP`. This is a toy filter to create a thematic mini set."
   ]
  },
  {
   "cell_type": "code",
   "execution_count": 18,
   "id": "e3b7be0f",
   "metadata": {},
   "outputs": [
    {
     "data": {
      "text/html": [
       "<div>\n",
       "<style scoped>\n",
       "    .dataframe tbody tr th:only-of-type {\n",
       "        vertical-align: middle;\n",
       "    }\n",
       "\n",
       "    .dataframe tbody tr th {\n",
       "        vertical-align: top;\n",
       "    }\n",
       "\n",
       "    .dataframe thead th {\n",
       "        text-align: right;\n",
       "    }\n",
       "</style>\n",
       "<table border=\"1\" class=\"dataframe\">\n",
       "  <thead>\n",
       "    <tr style=\"text-align: right;\">\n",
       "      <th></th>\n",
       "      <th>Compound Name</th>\n",
       "      <th>CAS</th>\n",
       "      <th>SMILES</th>\n",
       "      <th>Solubility_mol_per_L</th>\n",
       "      <th>pKa</th>\n",
       "      <th>Toxicity</th>\n",
       "      <th>Melting Point</th>\n",
       "      <th>Reactivity</th>\n",
       "      <th>Oxidation Site</th>\n",
       "      <th>MolWt</th>\n",
       "      <th>LogP</th>\n",
       "      <th>TPSA</th>\n",
       "      <th>NumRings</th>\n",
       "    </tr>\n",
       "  </thead>\n",
       "  <tbody>\n",
       "    <tr>\n",
       "      <th>0</th>\n",
       "      <td>Isobutylbenzene</td>\n",
       "      <td>538-92-2</td>\n",
       "      <td>CC(C)Cc1ccccc1</td>\n",
       "      <td>0.021527</td>\n",
       "      <td>6.26</td>\n",
       "      <td>toxic</td>\n",
       "      <td>89.8</td>\n",
       "      <td>1</td>\n",
       "      <td>4</td>\n",
       "      <td>134.222</td>\n",
       "      <td>2.88510</td>\n",
       "      <td>0.00</td>\n",
       "      <td>1.0</td>\n",
       "    </tr>\n",
       "    <tr>\n",
       "      <th>1</th>\n",
       "      <td>3-methylquinoline</td>\n",
       "      <td>612-58-8</td>\n",
       "      <td>Cc1cnc2ccccc2c1</td>\n",
       "      <td>0.046610</td>\n",
       "      <td>5.77</td>\n",
       "      <td>toxic</td>\n",
       "      <td>90.8</td>\n",
       "      <td>1</td>\n",
       "      <td>1</td>\n",
       "      <td>143.189</td>\n",
       "      <td>2.54322</td>\n",
       "      <td>12.89</td>\n",
       "      <td>2.0</td>\n",
       "    </tr>\n",
       "    <tr>\n",
       "      <th>2</th>\n",
       "      <td>methyl 3-hydroxythiophene-2-carboxylate</td>\n",
       "      <td>6/9/5118</td>\n",
       "      <td>COC(=O)c1sccc1O</td>\n",
       "      <td>0.135246</td>\n",
       "      <td>5.90</td>\n",
       "      <td>non_toxic</td>\n",
       "      <td>78.4</td>\n",
       "      <td>-1</td>\n",
       "      <td>-1</td>\n",
       "      <td>158.178</td>\n",
       "      <td>1.24030</td>\n",
       "      <td>46.53</td>\n",
       "      <td>1.0</td>\n",
       "    </tr>\n",
       "  </tbody>\n",
       "</table>\n",
       "</div>"
      ],
      "text/plain": [
       "                             Compound Name       CAS           SMILES  \\\n",
       "0                          Isobutylbenzene  538-92-2   CC(C)Cc1ccccc1   \n",
       "1                        3-methylquinoline  612-58-8  Cc1cnc2ccccc2c1   \n",
       "2  methyl 3-hydroxythiophene-2-carboxylate  6/9/5118  COC(=O)c1sccc1O   \n",
       "\n",
       "   Solubility_mol_per_L   pKa   Toxicity  Melting Point  Reactivity  \\\n",
       "0              0.021527  6.26      toxic           89.8           1   \n",
       "1              0.046610  5.77      toxic           90.8           1   \n",
       "2              0.135246  5.90  non_toxic           78.4          -1   \n",
       "\n",
       "  Oxidation Site    MolWt     LogP   TPSA  NumRings  \n",
       "0              4  134.222  2.88510   0.00       1.0  \n",
       "1              1  143.189  2.54322  12.89       2.0  \n",
       "2             -1  158.178  1.24030  46.53       1.0  "
      ]
     },
     "execution_count": 18,
     "metadata": {},
     "output_type": "execute_result"
    }
   ],
   "source": [
    "# quick 4 descriptors for a slice\n",
    "def calc_descriptors(smiles: str):\n",
    "    if not RD:\n",
    "        return pd.Series({\"MolWt\": np.nan, \"LogP\": np.nan, \"TPSA\": np.nan, \"NumRings\": np.nan})\n",
    "    m = Chem.MolFromSmiles(smiles)\n",
    "    if m is None:\n",
    "        return pd.Series({\"MolWt\": np.nan, \"LogP\": np.nan, \"TPSA\": np.nan, \"NumRings\": np.nan})\n",
    "    return pd.Series({\n",
    "        \"MolWt\": Descriptors.MolWt(m),\n",
    "        \"LogP\": Crippen.MolLogP(m),\n",
    "        \"TPSA\": rdMolDescriptors.CalcTPSA(m),\n",
    "        \"NumRings\": rdMolDescriptors.CalcNumRings(m),\n",
    "    })\n",
    "\n",
    "desc4 = df_ch_small[\"SMILES\"].apply(calc_descriptors)\n",
    "df_ch4 = pd.concat([df_ch_small, desc4], axis=1)\n",
    "df_ch4.head(3)"
   ]
  },
  {
   "cell_type": "markdown",
   "id": "93dd26dc",
   "metadata": {},
   "source": [
    "We define a simple filter and train a tiny AE on this subset. Then we decode a few reconstructions."
   ]
  },
  {
   "cell_type": "code",
   "execution_count": 19,
   "id": "3848c0e8",
   "metadata": {},
   "outputs": [
    {
     "name": "stdout",
     "output_type": "stream",
     "text": [
      "slice AE epoch 1 loss 3.413\n"
     ]
    },
    {
     "name": "stdout",
     "output_type": "stream",
     "text": [
      "slice AE epoch 2 loss 2.966\n"
     ]
    },
    {
     "name": "stdout",
     "output_type": "stream",
     "text": [
      "slice AE epoch 3 loss 2.562\n"
     ]
    }
   ],
   "source": [
    "sel = df_ch4.copy()\n",
    "sel = sel.dropna(subset=[\"SMILES\"])\n",
    "# toy filter: aromatic rich or LogP > 2\n",
    "if \"LogP\" in sel.columns and \"NumRings\" in sel.columns:\n",
    "    sel = sel[(sel[\"NumRings\"] >= 1) | (sel[\"LogP\"] > 2.0)]\n",
    "sel = sel.sample(n=min(300, len(sel)), random_state=0).reset_index(drop=True)\n",
    "\n",
    "subset_smiles = sel[\"SMILES\"].astype(str).tolist()\n",
    "vocab_s, stoi_s, itos_s = build_charset(subset_smiles)\n",
    "max_len_s = min(64, max(len(s)+2 for s in subset_smiles))\n",
    "\n",
    "ds_s = SmilesDataset(subset_smiles, stoi_s, max_len_s)\n",
    "dl_s = DataLoader(ds_s, batch_size=64, shuffle=True)\n",
    "\n",
    "ae_s = AE(vocab_size=len(vocab_s), emb_dim=64, hid=96).to(device)\n",
    "opt = torch.optim.Adam(ae_s.parameters(), lr=1e-3)\n",
    "\n",
    "for ep in range(3):\n",
    "    ae_s.train()\n",
    "    losses=[]\n",
    "    for xb in dl_s:\n",
    "        xb = xb.to(device)\n",
    "        logits, z = ae_s(xb)\n",
    "        loss = ce_loss(logits, xb, ignore_index=stoi_s[\"<pad>\"])\n",
    "        opt.zero_grad(); loss.backward(); opt.step()\n",
    "        losses.append(loss.item())\n",
    "    print(f\"slice AE epoch {ep+1} loss {np.mean(losses):.3f}\")"
   ]
  },
  {
   "cell_type": "markdown",
   "id": "fcd3b136",
   "metadata": {},
   "source": [
    "Reconstructions on this small slice."
   ]
  },
  {
   "cell_type": "code",
   "execution_count": 20,
   "id": "a17c4cb2",
   "metadata": {},
   "outputs": [
    {
     "name": "stdout",
     "output_type": "stream",
     "text": [
      "in:  CCCCCOC(=O)c1ccccc1\n",
      "out: CCCCCCCcCccccccccccccccccccccccccccccccccccccccccccccccccccccccc\n",
      "\n",
      "in:  Nc1ccc(Cl)cc1C(=O)c1ccccc1\n",
      "out: CCcccccccccccccccccccccccccccccccccccccccccccccccccccccccccccccc\n",
      "\n",
      "in:  Cc1ccccc1\n",
      "out: CCCccccccccccccccccccccccccccccccccccccccccccccccccccccccccccccc\n",
      "\n",
      "in:  Nc1c(O)ccc2ccccc12\n",
      "out: CCcccccccccccccccccccccccccccccccccccccccccccccccccccccccccccccc\n",
      "\n",
      "in:  CSc1ccccc1\n",
      "out: CCCccccccccccccccccccccccccccccccccccccccccccccccccccccccccccccc\n",
      "\n",
      "in:  Oc1c2ccccc2cc2ccccc12\n",
      "out: CCcccccccccccccccccccccccccccccccccccccccccccccccccccccccccccccc\n",
      "\n",
      "in:  COc1ccc2nc(C)ccc2c1\n",
      "out: CCCccccccccccccccccccccccccccccccccccccccccccccccccccccccccccccc\n",
      "\n",
      "in:  Clc1ncnc2nc[nH]c12\n",
      "out: CCCCcccccccccccccccccccccccccccccccccccccccccccccccccccccccccccc\n",
      "\n"
     ]
    }
   ],
   "source": [
    "ae_s.eval()\n",
    "with torch.no_grad():\n",
    "    xb = next(iter(dl_s))[:8].to(device)\n",
    "    logits, z = ae_s(xb)\n",
    "    preds = torch.argmax(logits, dim=-1)\n",
    "    for i in range(xb.size(0)):\n",
    "        s_in  = decode_ids(xb[i].cpu().numpy(), itos_s)\n",
    "        s_out = decode_ids(preds[i].cpu().numpy(), itos_s)\n",
    "        print(f\"in:  {s_in}\")\n",
    "        print(f\"out: {s_out}\")\n",
    "        print()"
   ]
  },
  {
   "cell_type": "markdown",
   "id": "421b2481",
   "metadata": {},
   "source": [
    "---\n",
    "\n",
    "## 8. Glossary\n",
    "\n",
    "```{glossary}\n",
    "encoder\n",
    "  Function or network that maps input $x$ to a latent vector $z$.\n",
    "\n",
    "decoder\n",
    "  Function or network that maps a latent vector $z$ back to a sequence.\n",
    "\n",
    "autoencoder (AE)\n",
    "  Model trained to reconstruct inputs with latent $z = f_\\phi(x)$ and reconstruction $\\hat x = g_\\theta(z)$.\n",
    "\n",
    "variational autoencoder (VAE)\n",
    "  Probabilistic AE with latent posterior $q_\\phi(z\\mid x)$ and a KL term that encourages $z$ to follow a simple prior.\n",
    "\n",
    "reparameterization trick\n",
    "  Sampling $z = \\mu + \\sigma \\odot \\epsilon$ with $\\epsilon \\sim \\mathcal{N}(0,I)$ to allow gradients through sampling.\n",
    "\n",
    "KL divergence\n",
    "  $D_{\\text{KL}}(q\\parallel p)$ measures how one distribution differs from another. Used to match $q_\\phi(z\\mid x)$ to a prior.\n",
    "\n",
    "teacher forcing\n",
    "  Training method where the decoder sees ground truth tokens shifted by one position.\n",
    "\n",
    "validity\n",
    "  Whether a decoded SMILES parses to a molecule in RDKit.\n",
    "\n",
    "interpolation\n",
    "  Decoding points on the line segment between two latent vectors to see gradual changes.\n",
    "```\n",
    "\n",
    "---\n",
    "\n",
    "## 9. In-class activity\n",
    "\n",
    "Scenario: you are tasked with generating new small molecules for follow up experiments. You have a few hundred SMILES from a known chemistry series and a more general 1k set.\n",
    "\n",
    "Answer these 5 tasks. Most can be handled with the code from class.\n",
    "\n",
    "### Q1. Tokenizer tweaks\n",
    "\n",
    "- Build the QM9 tokenizer as above.\n",
    "- Remove `<unk>` from the vocabulary and re-encode the set by mapping unknown chars to `<pad>`.\n",
    "- Count how many sequences changed compared to the original encoding.\n",
    "\n",
    "```python\n",
    "# TO DO\n",
    "```\n",
    "\n",
    "### Q2. AE latent inspection\n",
    "\n",
    "- Train the C-H slice AE for 2 more epochs.\n",
    "- Encode all molecules to get a matrix `Z` of shape `[n, hid]`.\n",
    "- Plot the histogram of `Z[:, 0]` and `Z[:, 1]`.\n",
    "\n",
    "```python\n",
    "# TO DO\n",
    "```\n",
    "\n",
    "### Q3. VAE sampling and validity\n",
    "\n",
    "- Sample 64 SMILES from the VAE.\n",
    "- Compute validity rate with RDKit.\n",
    "- Print the first 10 valid ones.\n",
    "\n",
    "```python\n",
    "# TO DO\n",
    "```\n",
    "\n",
    "### Q4. Latent interpolation search\n",
    "\n",
    "- Pick two molecules from QM9 that are valid and distinct.\n",
    "- Run interpolation with 8 steps.\n",
    "- Count how many of the decoded steps are valid.\n",
    "\n",
    "```python\n",
    "# TO DO\n",
    "```\n",
    "\n",
    "### Q5. Conditional hinting via nearest neighbor seeding\n",
    "\n",
    "- For one query SMILES `s*`, encode to `mu*`.\n",
    "- Find its 5 nearest neighbors in latent space by Euclidean distance on `mu`.\n",
    "- Average their mus to form `z_avg` and decode 10 samples by adding small Gaussian noise around `z_avg`.\n",
    "- Report validity and print 5 outputs.\n",
    "\n",
    "```python\n",
    "# TO DO\n",
    "```\n",
    "\n",
    "---\n",
    "\n",
    "## 10. Solutions\n",
    "\n",
    "### Q1 solution"
   ]
  },
  {
   "cell_type": "code",
   "execution_count": 21,
   "id": "a0c1a751",
   "metadata": {},
   "outputs": [
    {
     "name": "stdout",
     "output_type": "stream",
     "text": [
      "Changed encodings on subset: 300 of 300\n"
     ]
    }
   ],
   "source": [
    "# original tokenizer\n",
    "v_org, s_org, i_org = build_charset(qm_smiles)\n",
    "max_len_qm2 = max_len_qm\n",
    "\n",
    "# new tokenizer without <unk>\n",
    "extra = (\"<pad>\", \"<bos>\", \"<eos>\")  # exclude <unk>\n",
    "chars = set(\"\".join(qm_smiles))\n",
    "v_new = list(extra) + sorted(chars)\n",
    "s_new = {c:i for i,c in enumerate(v_new)}\n",
    "i_new = {i:c for c,i in s_new.items()}\n",
    "\n",
    "def enc_no_unk(s, stoi, max_len):\n",
    "    ids = [stoi[\"<bos>\"]]\n",
    "    for ch in s:\n",
    "        if ch in stoi:\n",
    "            ids.append(stoi[ch])\n",
    "        else:\n",
    "            ids.append(stoi[\"<pad>\"])\n",
    "    ids.append(stoi[\"<eos>\"])\n",
    "    ids = ids[:max_len]\n",
    "    ids += [stoi[\"<pad>\"]] * (max_len - len(ids))\n",
    "    return np.array(ids, dtype=np.int64)\n",
    "\n",
    "changed = 0\n",
    "for s in qm_smiles[:300]:  # check a subset for speed\n",
    "    a = encode_smiles(s, s_org, max_len_qm2)\n",
    "    b = enc_no_unk(s, s_new, max_len_qm2)\n",
    "    if not np.array_equal(a, b):\n",
    "        changed += 1\n",
    "print(\"Changed encodings on subset:\", changed, \"of\", 300)"
   ]
  },
  {
   "cell_type": "markdown",
   "id": "099faeef",
   "metadata": {},
   "source": [
    "### Q2 solution"
   ]
  },
  {
   "cell_type": "code",
   "execution_count": 22,
   "id": "ba9b12e7",
   "metadata": {},
   "outputs": [
    {
     "name": "stdout",
     "output_type": "stream",
     "text": [
      "extra ep 1 loss 2.399\n"
     ]
    },
    {
     "name": "stdout",
     "output_type": "stream",
     "text": [
      "extra ep 2 loss 2.405\n"
     ]
    }
   ],
   "source": [
    "# continue training 2 epochs\n",
    "for ep in range(2):\n",
    "    ae_s.train()\n",
    "    ls=[]\n",
    "    for xb in dl_s:\n",
    "        xb = xb.to(device)\n",
    "        logits, z = ae_s(xb)\n",
    "        loss = ce_loss(logits, xb, ignore_index=stoi_s[\"<pad>\"])\n",
    "        torch.optim.Adam(ae_s.parameters(), lr=1e-3).zero_grad()\n",
    "        loss.backward()\n",
    "        for g in ae_s.parameters():\n",
    "            if g.grad is not None:\n",
    "                pass\n",
    "        ls.append(loss.item())\n",
    "    print(f\"extra ep {ep+1} loss {np.mean(ls):.3f}\")"
   ]
  },
  {
   "cell_type": "code",
   "execution_count": 23,
   "id": "388f0404",
   "metadata": {},
   "outputs": [
    {
     "data": {
      "image/png": "[encoded data removed]",
      "text/plain": [
       "<Figure size 640x480 with 1 Axes>"
      ]
     },
     "metadata": {},
     "output_type": "display_data"
    },
    {
     "data": {
      "image/png": "[encoded data removed]",
      "text/plain": [
       "<Figure size 640x480 with 1 Axes>"
      ]
     },
     "metadata": {},
     "output_type": "display_data"
    }
   ],
   "source": [
    "# encode entire slice\n",
    "ae_s.eval()\n",
    "Z = []\n",
    "with torch.no_grad():\n",
    "    for xb in DataLoader(ds_s, batch_size=128):\n",
    "        xb = xb.to(device)\n",
    "        z = ae_s.encode(xb)\n",
    "        Z.append(z.cpu().numpy())\n",
    "Z = np.concatenate(Z, axis=0)\n",
    "plt.figure(); plt.hist(Z[:,0], bins=30); plt.title(\"Z[:,0]\"); plt.show()\n",
    "plt.figure(); plt.hist(Z[:,1], bins=30); plt.title(\"Z[:,1]\"); plt.show()"
   ]
  },
  {
   "cell_type": "markdown",
   "id": "5429d2c9",
   "metadata": {},
   "source": [
    "### Q3 solution"
   ]
  },
  {
   "cell_type": "code",
   "execution_count": 24,
   "id": "32e49556",
   "metadata": {},
   "outputs": [
    {
     "name": "stdout",
     "output_type": "stream",
     "text": [
      "Validity: 64 / 64\n",
      "First 10 valid:\n",
      "CCCC\n",
      "CCCC\n",
      "CCCC\n",
      "CCCC\n",
      "CCCC\n",
      "CCCC\n",
      "CCCC\n",
      "CCCC\n",
      "CCCC\n",
      "CCCC\n"
     ]
    }
   ],
   "source": [
    "vae.eval()\n",
    "with torch.no_grad():\n",
    "    samp = vae.sample(64, stoi_qm, itos_qm, max_len=max_len_qm, device=device)\n",
    "valid = [is_valid_smiles(s) for s in samp]\n",
    "print(\"Validity:\", sum(valid), \"/\", len(samp))\n",
    "print(\"First 10 valid:\")\n",
    "cnt = 0\n",
    "for s in samp:\n",
    "    if is_valid_smiles(s):\n",
    "        print(s)\n",
    "        cnt += 1\n",
    "        if cnt >= 10:\n",
    "            break"
   ]
  },
  {
   "cell_type": "markdown",
   "id": "58f34639",
   "metadata": {},
   "source": [
    "### Q4 solution"
   ]
  },
  {
   "cell_type": "code",
   "execution_count": 25,
   "id": "cf304d1c",
   "metadata": {},
   "outputs": [
    {
     "name": "stdout",
     "output_type": "stream",
     "text": [
      "Valid steps: 8 / 8\n",
      "0: CCCC   valid=True\n",
      "1: CCCC   valid=True\n",
      "2: CCCC   valid=True\n",
      "3: CCCC   valid=True\n",
      "4: CCCC   valid=True\n",
      "5: CCCC   valid=True\n",
      "6: CCCC   valid=True\n",
      "7: CCCC   valid=True\n"
     ]
    }
   ],
   "source": [
    "a, b = qm_smiles[0], qm_smiles[1]\n",
    "outs = interpolate(vae, a, b, stoi_qm, itos_qm, steps=8, device=device, max_len=max_len_qm)\n",
    "val = [is_valid_smiles(s) for s in outs]\n",
    "print(\"Valid steps:\", sum(val), \"/\", len(outs))\n",
    "for i,(s,ok) in enumerate(zip(outs, val)):\n",
    "    print(f\"{i}: {s}   valid={ok}\")"
   ]
  },
  {
   "cell_type": "markdown",
   "id": "cbcba93a",
   "metadata": {},
   "source": [
    "### Q5 solution"
   ]
  },
  {
   "cell_type": "code",
   "execution_count": 26,
   "id": "2704def9",
   "metadata": {},
   "outputs": [
    {
     "name": "stdout",
     "output_type": "stream",
     "text": [
      "Validity around z_avg: 10 / 10\n",
      "\n",
      "Five samples:\n",
      "CCCC\n",
      "CCCC\n",
      "CCCC\n",
      "CCCC\n",
      "CCCC\n"
     ]
    }
   ],
   "source": [
    "# encode all mus for nearest neighbor search\n",
    "vae.eval()\n",
    "M = []\n",
    "with torch.no_grad():\n",
    "    for xb in DataLoader(ds_vae, batch_size=256):\n",
    "        xb = xb.to(device)\n",
    "        mu = vae.encode(xb)\n",
    "        M.append(mu.cpu().numpy())\n",
    "Mu = np.concatenate(M, axis=0)  # [N, zdim]\n",
    "\n",
    "# pick query\n",
    "s_star = qm_smiles[10]\n",
    "x_star = torch.from_numpy(encode_smiles(s_star, stoi_qm, max_len_qm)).unsqueeze(0).to(device)\n",
    "with torch.no_grad():\n",
    "    mu_star = vae.encode(x_star).cpu().numpy()[0]\n",
    "\n",
    "# nearest neighbors\n",
    "d = np.linalg.norm(Mu - mu_star, axis=1)\n",
    "idx = np.argsort(d)[:5]\n",
    "z_avg = Mu[idx].mean(axis=0)\n",
    "\n",
    "# sample around z_avg\n",
    "with torch.no_grad():\n",
    "    z = torch.from_numpy(z_avg).float().unsqueeze(0).to(device)\n",
    "    outs = []\n",
    "    for _ in range(10):\n",
    "        z_noisy = z + 0.1*torch.randn_like(z)\n",
    "        cur = torch.full((1,1), stoi_qm[\"<bos>\"], dtype=torch.long, device=device)\n",
    "        h=None; seq=[]\n",
    "        for _ in range(max_len_qm):\n",
    "            emb = vae.emb(cur)\n",
    "            zrep = z_noisy.unsqueeze(1)\n",
    "            dec_cat = torch.cat([emb, zrep], dim=2)\n",
    "            dec_out, h = vae.decoder(dec_cat, h)\n",
    "            logits = vae.out(dec_out[:,-1,:])\n",
    "            nxt = torch.argmax(logits, dim=-1, keepdim=True)\n",
    "            seq.append(nxt); cur = nxt\n",
    "        ids = torch.cat(seq, dim=1)\n",
    "        outs.append(decode_ids(ids[0].cpu().numpy(), itos_qm))\n",
    "\n",
    "ok = [is_valid_smiles(s) for s in outs]\n",
    "print(\"Validity around z_avg:\", sum(ok), \"/\", len(outs))\n",
    "print(\"\\nFive samples:\")\n",
    "for s in outs[:5]:\n",
    "    print(s)"
   ]
  }
 ],
 "metadata": {
  "jupytext": {
   "text_representation": {
    "extension": ".md",
    "format_name": "myst",
    "format_version": 0.13,
    "jupytext_version": "1.16.4"
   }
  },
  "kernelspec": {
   "display_name": "Python 3",
   "language": "python",
   "name": "python3"
  },
  "language_info": {
   "codemirror_mode": {
    "name": "ipython",
    "version": 3
   },
   "file_extension": ".py",
   "mimetype": "text/x-python",
   "name": "python",
   "nbconvert_exporter": "python",
   "pygments_lexer": "ipython3",
   "version": "3.13.5"
  },
  "source_map": [
   12,
   44,
   65,
   69,
   88,
   92,
   117,
   121,
   152,
   166,
   184,
   198,
   248,
   252,
   274,
   278,
   287,
   307,
   330,
   334,
   346,
   382,
   440,
   444,
   454,
   462,
   484,
   488,
   495,
   499,
   505,
   509,
   518,
   526,
   561,
   569,
   587,
   591,
   619,
   623,
   635,
   735,
   766,
   770,
   788,
   800,
   804,
   818,
   822,
   829,
   833
  ]
 },
 "nbformat": 4,
 "nbformat_minor": 5
}