{
 "cells": [
  {
   "cell_type": "markdown",
   "id": "94d03f6e",
   "metadata": {},
   "source": [
    "# Lecture 11 - Dimension Reduction and Clustering\n",
    "\n",
    "{contents}\n",
    ":local:\n",
    ":depth: 1\n",
    "\n",
    "## Learning goals\n",
    "\n",
    "- Understand **unsupervised learning** vs **supervised learning** in chemistry.\n",
    "- Explain the intuition and math of **PCA** and read **loadings**, **scores**, and **explained variance**.\n",
    "- Use **t-SNE** and **UMAP** to embed high dimensional chemical features to 2D for visualization.\n",
    "- Perform **K-means** clustering, choose **K** using elbow and silhouette, and interpret clusters.\n",
    "\n",
    "---\n",
    "\n",
    "## 1. Setup and data\n",
    "\n",
    "We will reuse the C–H oxidation dataset and compute a small set of descriptors."
   ]
  },
  {
   "cell_type": "code",
   "execution_count": 1,
   "id": "b1d935e9",
   "metadata": {
    "tags": [
     "hide-input"
    ]
   },
   "outputs": [],
   "source": [
    "# Core\n",
    "import numpy as np\n",
    "import pandas as pd\n",
    "import matplotlib.pyplot as plt\n",
    "\n",
    "# ML\n",
    "from sklearn.preprocessing import StandardScaler\n",
    "from sklearn.decomposition import PCA\n",
    "from sklearn.manifold import TSNE\n",
    "from sklearn.cluster import KMeans, AgglomerativeClustering, DBSCAN\n",
    "from sklearn.metrics import silhouette_score, silhouette_samples, pairwise_distances\n",
    "\n",
    "try:\n",
    "  import umap.umap_ as umap\n",
    "except:\n",
    "  %pip install umap-learn\n",
    "  import umap.umap_ as umap\n",
    "\n",
    "# Utils\n",
    "import warnings\n",
    "warnings.filterwarnings(\"ignore\")\n",
    "\n",
    "\n",
    "try:\n",
    "    from rdkit import Chem\n",
    "    from rdkit.Chem import Descriptors, Crippen, rdMolDescriptors\n",
    "    RD = True\n",
    "except Exception:\n",
    "    try:\n",
    "      %pip install rdkit\n",
    "      from rdkit import Chem\n",
    "      from rdkit.Chem import Descriptors, Crippen, rdMolDescriptors\n",
    "      RD = True\n",
    "    except:\n",
    "      RD = False\n",
    "      Chem = None"
   ]
  },
  {
   "cell_type": "code",
   "execution_count": 2,
   "id": "b0556cf4",
   "metadata": {},
   "outputs": [
    {
     "data": {
      "text/html": [
       "<div>\n",
       "<style scoped>\n",
       "    .dataframe tbody tr th:only-of-type {\n",
       "        vertical-align: middle;\n",
       "    }\n",
       "\n",
       "    .dataframe tbody tr th {\n",
       "        vertical-align: top;\n",
       "    }\n",
       "\n",
       "    .dataframe thead th {\n",
       "        text-align: right;\n",
       "    }\n",
       "</style>\n",
       "<table border=\"1\" class=\"dataframe\">\n",
       "  <thead>\n",
       "    <tr style=\"text-align: right;\">\n",
       "      <th></th>\n",
       "      <th>Compound Name</th>\n",
       "      <th>CAS</th>\n",
       "      <th>SMILES</th>\n",
       "      <th>Solubility_mol_per_L</th>\n",
       "      <th>pKa</th>\n",
       "      <th>Toxicity</th>\n",
       "      <th>Melting Point</th>\n",
       "      <th>Reactivity</th>\n",
       "      <th>Oxidation Site</th>\n",
       "    </tr>\n",
       "  </thead>\n",
       "  <tbody>\n",
       "    <tr>\n",
       "      <th>0</th>\n",
       "      <td>3,4-dihydro-1H-isochromene</td>\n",
       "      <td>493-05-0</td>\n",
       "      <td>c1ccc2c(c1)CCOC2</td>\n",
       "      <td>0.103906</td>\n",
       "      <td>5.80</td>\n",
       "      <td>non_toxic</td>\n",
       "      <td>65.8</td>\n",
       "      <td>1</td>\n",
       "      <td>8,10</td>\n",
       "    </tr>\n",
       "    <tr>\n",
       "      <th>1</th>\n",
       "      <td>9H-fluorene</td>\n",
       "      <td>86-73-7</td>\n",
       "      <td>c1ccc2c(c1)Cc1ccccc1-2</td>\n",
       "      <td>0.010460</td>\n",
       "      <td>5.82</td>\n",
       "      <td>toxic</td>\n",
       "      <td>90.0</td>\n",
       "      <td>1</td>\n",
       "      <td>7</td>\n",
       "    </tr>\n",
       "    <tr>\n",
       "      <th>2</th>\n",
       "      <td>1,2,3,4-tetrahydronaphthalene</td>\n",
       "      <td>119-64-2</td>\n",
       "      <td>c1ccc2c(c1)CCCC2</td>\n",
       "      <td>0.020589</td>\n",
       "      <td>5.74</td>\n",
       "      <td>toxic</td>\n",
       "      <td>69.4</td>\n",
       "      <td>1</td>\n",
       "      <td>7,10</td>\n",
       "    </tr>\n",
       "  </tbody>\n",
       "</table>\n",
       "</div>"
      ],
      "text/plain": [
       "                   Compound Name       CAS                  SMILES  \\\n",
       "0     3,4-dihydro-1H-isochromene  493-05-0        c1ccc2c(c1)CCOC2   \n",
       "1                    9H-fluorene   86-73-7  c1ccc2c(c1)Cc1ccccc1-2   \n",
       "2  1,2,3,4-tetrahydronaphthalene  119-64-2        c1ccc2c(c1)CCCC2   \n",
       "\n",
       "   Solubility_mol_per_L   pKa   Toxicity  Melting Point  Reactivity  \\\n",
       "0              0.103906  5.80  non_toxic           65.8           1   \n",
       "1              0.010460  5.82      toxic           90.0           1   \n",
       "2              0.020589  5.74      toxic           69.4           1   \n",
       "\n",
       "  Oxidation Site  \n",
       "0           8,10  \n",
       "1              7  \n",
       "2           7,10  "
      ]
     },
     "execution_count": 2,
     "metadata": {},
     "output_type": "execute_result"
    }
   ],
   "source": [
    "url = \"https://raw.githubusercontent.com/zzhenglab/ai4chem/main/book/_data/C_H_oxidation_dataset.csv\"\n",
    "df_raw = pd.read_csv(url)\n",
    "df_raw.head(3)"
   ]
  },
  {
   "cell_type": "markdown",
   "id": "62c83734",
   "metadata": {},
   "source": [
    "We compute four quick descriptors for everyone. If RDKit is available, we will also compute a binary Morgan fingerprint."
   ]
  },
  {
   "cell_type": "code",
   "execution_count": 3,
   "id": "9206da78",
   "metadata": {},
   "outputs": [
    {
     "name": "stdout",
     "output_type": "stream",
     "text": [
      "Rows x Cols: (575, 13)\n"
     ]
    },
    {
     "data": {
      "text/html": [
       "<div>\n",
       "<style scoped>\n",
       "    .dataframe tbody tr th:only-of-type {\n",
       "        vertical-align: middle;\n",
       "    }\n",
       "\n",
       "    .dataframe tbody tr th {\n",
       "        vertical-align: top;\n",
       "    }\n",
       "\n",
       "    .dataframe thead th {\n",
       "        text-align: right;\n",
       "    }\n",
       "</style>\n",
       "<table border=\"1\" class=\"dataframe\">\n",
       "  <thead>\n",
       "    <tr style=\"text-align: right;\">\n",
       "      <th></th>\n",
       "      <th>Compound Name</th>\n",
       "      <th>SMILES</th>\n",
       "      <th>MolWt</th>\n",
       "      <th>LogP</th>\n",
       "      <th>TPSA</th>\n",
       "      <th>NumRings</th>\n",
       "      <th>Toxicity</th>\n",
       "    </tr>\n",
       "  </thead>\n",
       "  <tbody>\n",
       "    <tr>\n",
       "      <th>0</th>\n",
       "      <td>3,4-dihydro-1H-isochromene</td>\n",
       "      <td>c1ccc2c(c1)CCOC2</td>\n",
       "      <td>134.178</td>\n",
       "      <td>1.7593</td>\n",
       "      <td>9.23</td>\n",
       "      <td>2.0</td>\n",
       "      <td>non_toxic</td>\n",
       "    </tr>\n",
       "    <tr>\n",
       "      <th>1</th>\n",
       "      <td>9H-fluorene</td>\n",
       "      <td>c1ccc2c(c1)Cc1ccccc1-2</td>\n",
       "      <td>166.223</td>\n",
       "      <td>3.2578</td>\n",
       "      <td>0.00</td>\n",
       "      <td>3.0</td>\n",
       "      <td>toxic</td>\n",
       "    </tr>\n",
       "    <tr>\n",
       "      <th>2</th>\n",
       "      <td>1,2,3,4-tetrahydronaphthalene</td>\n",
       "      <td>c1ccc2c(c1)CCCC2</td>\n",
       "      <td>132.206</td>\n",
       "      <td>2.5654</td>\n",
       "      <td>0.00</td>\n",
       "      <td>2.0</td>\n",
       "      <td>toxic</td>\n",
       "    </tr>\n",
       "    <tr>\n",
       "      <th>3</th>\n",
       "      <td>ethylbenzene</td>\n",
       "      <td>CCc1ccccc1</td>\n",
       "      <td>106.168</td>\n",
       "      <td>2.2490</td>\n",
       "      <td>0.00</td>\n",
       "      <td>1.0</td>\n",
       "      <td>non_toxic</td>\n",
       "    </tr>\n",
       "    <tr>\n",
       "      <th>4</th>\n",
       "      <td>cyclohexene</td>\n",
       "      <td>C1=CCCCC1</td>\n",
       "      <td>82.146</td>\n",
       "      <td>2.1166</td>\n",
       "      <td>0.00</td>\n",
       "      <td>1.0</td>\n",
       "      <td>non_toxic</td>\n",
       "    </tr>\n",
       "  </tbody>\n",
       "</table>\n",
       "</div>"
      ],
      "text/plain": [
       "                   Compound Name                  SMILES    MolWt    LogP  \\\n",
       "0     3,4-dihydro-1H-isochromene        c1ccc2c(c1)CCOC2  134.178  1.7593   \n",
       "1                    9H-fluorene  c1ccc2c(c1)Cc1ccccc1-2  166.223  3.2578   \n",
       "2  1,2,3,4-tetrahydronaphthalene        c1ccc2c(c1)CCCC2  132.206  2.5654   \n",
       "3                   ethylbenzene              CCc1ccccc1  106.168  2.2490   \n",
       "4                    cyclohexene               C1=CCCCC1   82.146  2.1166   \n",
       "\n",
       "   TPSA  NumRings   Toxicity  \n",
       "0  9.23       2.0  non_toxic  \n",
       "1  0.00       3.0      toxic  \n",
       "2  0.00       2.0      toxic  \n",
       "3  0.00       1.0  non_toxic  \n",
       "4  0.00       1.0  non_toxic  "
      ]
     },
     "execution_count": 3,
     "metadata": {},
     "output_type": "execute_result"
    }
   ],
   "source": [
    "def calc_descriptors(smiles: str):\n",
    "    if not RD or smiles is None:\n",
    "        return pd.Series({\"MolWt\": np.nan, \"LogP\": np.nan, \"TPSA\": np.nan, \"NumRings\": np.nan})\n",
    "    m = Chem.MolFromSmiles(smiles)\n",
    "    if m is None:\n",
    "        return pd.Series({\"MolWt\": np.nan, \"LogP\": np.nan, \"TPSA\": np.nan, \"NumRings\": np.nan})\n",
    "    return pd.Series({\n",
    "        \"MolWt\": Descriptors.MolWt(m),\n",
    "        \"LogP\": Crippen.MolLogP(m),\n",
    "        \"TPSA\": rdMolDescriptors.CalcTPSA(m),\n",
    "        \"NumRings\": rdMolDescriptors.CalcNumRings(m),\n",
    "    })\n",
    "\n",
    "desc = df_raw[\"SMILES\"].apply(calc_descriptors)\n",
    "df = pd.concat([df_raw, desc], axis=1)\n",
    "\n",
    "print(\"Rows x Cols:\", df.shape)\n",
    "df[[\"Compound Name\",\"SMILES\",\"MolWt\",\"LogP\",\"TPSA\",\"NumRings\",\"Toxicity\"]].head()"
   ]
  },
  {
   "cell_type": "markdown",
   "id": "284feed0",
   "metadata": {},
   "source": [
    "Now we build a 1024-bit Morgan fingerprint ($r=2$). We keep both a **small descriptor table** and a **high dimensional fingerprint** table."
   ]
  },
  {
   "cell_type": "code",
   "execution_count": 4,
   "id": "24b8b5fe",
   "metadata": {},
   "outputs": [
    {
     "name": "stdout",
     "output_type": "stream",
     "text": [
      "Fingerprint shape: (575, 1024)\n",
      "Small descriptor matrix: (575, 4)   Toxicity labels: (array([0, 1], dtype=int64), array([101, 474], dtype=int64))\n"
     ]
    }
   ],
   "source": [
    "if RD:\n",
    "    def morgan_bits(smiles, n_bits=1024, radius=2):\n",
    "        m = Chem.MolFromSmiles(smiles)\n",
    "        if m is None:\n",
    "            return np.zeros(n_bits, dtype=np.int8)\n",
    "        bv = rdMolDescriptors.GetMorganFingerprintAsBitVect(m, radius=radius, nBits=n_bits)\n",
    "        arr = np.zeros((n_bits,), dtype=np.int8)\n",
    "        _ = Chem.DataStructs.ConvertToNumpyArray(bv, arr)  # fills arr in place\n",
    "        return arr\n",
    "\n",
    "    X_fp = np.vstack(df[\"SMILES\"].apply(morgan_bits).to_numpy())\n",
    "    print(\"Fingerprint shape:\", X_fp.shape)\n",
    "else:\n",
    "    X_fp = None\n",
    "    print(\"RDKit not available. Fingerprints will be skipped.\")\n",
    "\n",
    "# Small numeric descriptors\n",
    "X_small = df[[\"MolWt\",\"LogP\",\"TPSA\",\"NumRings\"]].astype(float).to_numpy()\n",
    "mask_small = np.isfinite(X_small).all(axis=1)\n",
    "X_small = X_small[mask_small]\n",
    "labels_all = df.loc[mask_small, \"Toxicity\"].str.lower().map({\"toxic\":1, \"non_toxic\":0})\n",
    "y_toxic = labels_all.fillna(-1).to_numpy()  # -1 if missing\n",
    "\n",
    "print(\"Small descriptor matrix:\", X_small.shape, \"  Toxicity labels:\", np.unique(y_toxic, return_counts=True))"
   ]
  },
  {
   "cell_type": "markdown",
   "id": "b91d4dfa",
   "metadata": {},
   "source": [
    "```{admonition} Data choices\n",
    "- **X_small** uses 4 descriptors. Good for first PCA stories.\n",
    "- **X_fp** has 1024 bits. Good for t-SNE or UMAP since it is very high dimensional.\n",
    "```\n",
    "\n",
    "```{admonition} ⏰ Exercise 1\n",
    "1. How many rows were dropped because of missing descriptor values? Use `mask_small.sum()` and `len(mask_small)` to compute it.\n",
    "2. If RDKit is available, check the fraction of 1-bits in the fingerprints for the first 5 molecules.\n",
    "```\n",
    "\n",
    "### 1.4 Why two feature tables\n",
    "\n",
    "We keep both a low dimensional table and a high dimensional table on purpose.\n",
    "\n",
    "- The 4-descriptor table is easy to standardize and to interpret.\n",
    "- The 1024-bit fingerprint captures substructure presence or absence and is useful for neighborhood maps.\n",
    "\n",
    "When you learn a new method, start with the small table. Once the idea feels solid, switch to fingerprints to stress test the method.\n",
    "\n",
    "### 1.5 Sanity checks on raw data\n",
    "\n",
    "Before any modeling, confirm shapes, missing values, and duplicates. We will store a few quick counts that we will reuse in later plots."
   ]
  },
  {
   "cell_type": "code",
   "execution_count": 5,
   "id": "71833e06",
   "metadata": {},
   "outputs": [
    {
     "name": "stdout",
     "output_type": "stream",
     "text": [
      "Rows: 575\n",
      "Unique SMILES: 575\n",
      "Missing SMILES: 0\n",
      "Missing toxicity labels: 0\n"
     ]
    }
   ],
   "source": [
    "n_rows = len(df)\n",
    "n_unique_smiles = df[\"SMILES\"].nunique()\n",
    "n_missing_smiles = df[\"SMILES\"].isna().sum()\n",
    "n_missing_tox = df[\"Toxicity\"].isna().sum()\n",
    "print(\"Rows:\", n_rows)\n",
    "print(\"Unique SMILES:\", n_unique_smiles)\n",
    "print(\"Missing SMILES:\", n_missing_smiles)\n",
    "print(\"Missing toxicity labels:\", n_missing_tox)"
   ]
  },
  {
   "cell_type": "markdown",
   "id": "ca7dffc7",
   "metadata": {},
   "source": [
    "Narrative:\n",
    "\n",
    "- The number of unique SMILES tells us how many unique structures exist in this dataset.\n",
    "- Missing toxicity does not block unsupervised methods since they do not use labels. We will still color points by the available labels for interpretation.\n",
    "\n",
    "### 1.6 Fixing a possible RDKit quirk\n",
    "\n",
    "Some RDKit builds expose `ConvertToNumpyArray` via `rdkit.DataStructs` rather than `Chem.DataStructs`. If your earlier fingerprint cell failed, run this patch cell. It will recompute `X_fp` only when needed."
   ]
  },
  {
   "cell_type": "code",
   "execution_count": 6,
   "id": "61cffb29",
   "metadata": {},
   "outputs": [],
   "source": [
    "if RD:\n",
    "    try:\n",
    "        _ = Chem.DataStructs\n",
    "        rdkit_ok = True\n",
    "    except Exception:\n",
    "        rdkit_ok = False\n",
    "\n",
    "    if (X_fp is None) or (not rdkit_ok) or (isinstance(X_fp, str)):\n",
    "        try:\n",
    "            from rdkit import DataStructs\n",
    "            def morgan_bits_safe(smiles, n_bits=1024, radius=2):\n",
    "                m = Chem.MolFromSmiles(smiles)\n",
    "                if m is None:\n",
    "                    return np.zeros(n_bits, dtype=np.int8)\n",
    "                bv = rdMolDescriptors.GetMorganFingerprintAsBitVect(m, radius=radius, nBits=n_bits)\n",
    "                arr = np.zeros((n_bits,), dtype=np.int8)\n",
    "                DataStructs.ConvertToNumpyArray(bv, arr)\n",
    "                return arr\n",
    "            X_fp = np.vstack(df[\"SMILES\"].apply(morgan_bits_safe).to_numpy())\n",
    "            print(\"Rebuilt fingerprints with rdkit.DataStructs. Shape:\", X_fp.shape)\n",
    "        except Exception as e:\n",
    "            print(\"Could not rebuild fingerprints. Proceed with X_small only.\", e)"
   ]
  },
  {
   "cell_type": "markdown",
   "id": "4e18bd51",
   "metadata": {},
   "source": [
    "### 1.7 A first look at Morgan fingerprints\n",
    "\n",
    "Morgan fingerprints are circular substructure fingerprints. Bit $j$ equals 1 if at least one circular environment of a given radius hashes to that bit. For radius $r=2$, the environment includes neighbors up to two bonds away.\n",
    "\n",
    "We will compute for the first few molecules:\n",
    "\n",
    "- the number of set bits,\n",
    "- the fraction of set bits,\n",
    "- an index list of which bits are active."
   ]
  },
  {
   "cell_type": "code",
   "execution_count": 7,
   "id": "c396ff05",
   "metadata": {},
   "outputs": [
    {
     "name": "stdout",
     "output_type": "stream",
     "text": [
      "Active bit counts (first 10): [19, 14, 13, 14, 8, 8, 17, 17, 22, 16]\n",
      "Fraction active (first 10): [0.0186, 0.0137, 0.0127, 0.0137, 0.0078, 0.0078, 0.0166, 0.0166, 0.0215, 0.0156]\n"
     ]
    }
   ],
   "source": [
    "if RD and X_fp is not None:\n",
    "    active_counts = X_fp[:10].sum(axis=1)\n",
    "    frac_active = active_counts / X_fp.shape[1]\n",
    "    print(\"Active bit counts (first 10):\", active_counts.tolist())\n",
    "    print(\"Fraction active (first 10):\", np.round(frac_active, 4).tolist())"
   ]
  },
  {
   "cell_type": "markdown",
   "id": "d3bceed9",
   "metadata": {},
   "source": [
    "Let us also peek at which bit indices are set for the very first molecule. This gives a sense of sparsity."
   ]
  },
  {
   "cell_type": "code",
   "execution_count": 8,
   "id": "0f7a9799",
   "metadata": {},
   "outputs": [
    {
     "name": "stdout",
     "output_type": "stream",
     "text": [
      "First molecule. Active bit indices: [64, 128, 140, 175, 212, 242, 356, 364, 523, 609, 656, 684, 714, 726, 752, 776, 849, 926, 950]  ... total = 19\n"
     ]
    }
   ],
   "source": [
    "if RD and X_fp is not None:\n",
    "    idx0 = np.where(X_fp[0] == 1)[0]\n",
    "    print(\"First molecule. Active bit indices:\", idx0[:25].tolist(), \" ... total =\", len(idx0))"
   ]
  },
  {
   "cell_type": "markdown",
   "id": "204be86a",
   "metadata": {},
   "source": [
    "```{admonition} Tip\n",
    "Binary fingerprints are sparse. Most bits are zero for any particular molecule. This is why cosine or Jaccard distances often behave better than Euclidean on raw bit vectors.\n",
    "```\n",
    "\n",
    "### 1.8 Optional: recover substructures for a few bits\n",
    "\n",
    "RDKit can report which atom environments triggered a bit via the `bitInfo` dictionary. This gives intuition about what the fingerprint encodes."
   ]
  },
  {
   "cell_type": "code",
   "execution_count": 9,
   "id": "ca8fa442",
   "metadata": {},
   "outputs": [
    {
     "name": "stdout",
     "output_type": "stream",
     "text": [
      "Example bit environments (bit id -> (atom_index, radius)): {64: ((1, 1), (0, 1)), 128: ((8, 2),), 140: ((6, 2),), 175: ((1, 2), (0, 2)), 212: ((4, 1), (3, 1))}\n"
     ]
    }
   ],
   "source": [
    "if RD:\n",
    "    from rdkit.Chem import rdMolDescriptors as rdm\n",
    "    def bit_environment_examples(smiles, n_bits=1024, radius=2, max_show=5):\n",
    "        m = Chem.MolFromSmiles(smiles)\n",
    "        if m is None:\n",
    "            return {}\n",
    "        bitInfo = {}\n",
    "        bv = rdm.GetMorganFingerprintAsBitVect(m, radius=radius, nBits=n_bits, bitInfo=bitInfo)\n",
    "        # bitInfo: {bit_id: [(atom_idx, radius), ...]}\n",
    "        # Return only a few entries for display\n",
    "        out = {}\n",
    "        for k, v in list(bitInfo.items())[:max_show]:\n",
    "            out[k] = v\n",
    "        return out\n",
    "\n",
    "    env = bit_environment_examples(df.loc[0, \"SMILES\"])\n",
    "    print(\"Example bit environments (bit id -> (atom_index, radius)):\", env)"
   ]
  },
  {
   "cell_type": "markdown",
   "id": "97f23746",
   "metadata": {},
   "source": [
    "Narrative:\n",
    "\n",
    "- The same bit can be set by multiple distinct environments because of hashing.\n",
    "- For teaching, pick one molecule and inspect two or three bits with the largest number of occurrences.\n",
    "\n",
    "```{admonition} ⏰ Mini exercise\n",
    "Pick a molecule by index. Use the helper above to list a few bit environments. Change the radius to 3 and compare how many environments get recorded.\n",
    "```\n",
    "\n",
    "---\n",
    "\n",
    "## 2. Supervised vs unsupervised\n",
    "\n",
    "In Lectures 6 to 8 we learned supervised models that map $x \\to y$ with labeled targets. Today we switch to **unsupervised learning**.\n",
    "\n",
    "- **Dimension reduction**: summarize high dimensional $x \\in \\mathbb{R}^p$ to a few coordinates $z \\in \\mathbb{R}^k$ with $k \\ll p$. You do not use $y$ during the fit.\n",
    "- **Clustering**: group samples into clusters based on a similarity or distance rule. Again no labels during the fit.\n",
    "\n",
    "We will color plots using toxicity when available. That is only to **interpret** the embedding or clusters. It is not used in the algorithms.\n",
    "\n",
    "```{admonition} Key idea\n",
    "Unsupervised learning looks for structure that is already present in $X$. Labels are for *evaluation* and interpretation only, not for fitting.\n",
    "```\n",
    "\n",
    "```{admonition} ⏰ Exercise 2\n",
    "State whether each task is supervised or unsupervised:\n",
    "\n",
    "- Predict melting point from descriptors.\n",
    "- Group molecules by scaffold similarity.\n",
    "- Map 1024-bit fingerprints to 2D for plotting.\n",
    "- Predict toxicity from descriptors.\n",
    "```\n",
    "\n",
    "### 2.1 What counts as a feature in chemistry\n",
    "\n",
    "Feature choices will drive everything downstream. You can use:\n",
    "\n",
    "- Scalar descriptors like MolWt, LogP, TPSA, ring counts.\n",
    "- Fingerprints like Morgan bits or MACCS keys.\n",
    "- Learned embeddings from a graph neural network. We will not use those here, but the same methods apply.\n",
    "\n",
    "If two students use different features, their PCA or UMAP plots will look different. That is expected.\n",
    "\n",
    "### 2.2 Data leakage in unsupervised settings\n",
    "\n",
    "Even in unsupervised workflows, leakage can happen. A common mistake is to use the full dataset to standardize, then later split for evaluation. Safer pattern:\n",
    "\n",
    "1. Split the dataset.\n",
    "2. Fit the scaler on the training subset.\n",
    "3. Transform train and test with the fitted scaler."
   ]
  },
  {
   "cell_type": "code",
   "execution_count": 10,
   "id": "5d6189fd",
   "metadata": {},
   "outputs": [
    {
     "name": "stdout",
     "output_type": "stream",
     "text": [
      "Standardized shapes: (431, 4) (144, 4)\n"
     ]
    }
   ],
   "source": [
    "from sklearn.model_selection import train_test_split\n",
    "Xs_leak = StandardScaler().fit_transform(X_small)  # risky pattern if you plan to evaluate downstream\n",
    "\n",
    "Xtr, Xte = train_test_split(X_small, test_size=0.25, random_state=0)\n",
    "sc = StandardScaler().fit(Xtr)\n",
    "Xtr_s = sc.transform(Xtr)\n",
    "Xte_s = sc.transform(Xte)\n",
    "print(\"Standardized shapes:\", Xtr_s.shape, Xte_s.shape)"
   ]
  },
  {
   "cell_type": "markdown",
   "id": "b6b1ee85",
   "metadata": {},
   "source": [
    "Narrative:\n",
    "\n",
    "- In pure visualization use cases, the risk is smaller since we are not optimizing a predictive model.\n",
    "- For cluster analysis that will be compared to labels afterward, keep the split discipline.\n",
    "\n",
    "---\n",
    "\n",
    "## 3. Standardization and distance\n",
    "\n",
    "PCA and K-means are sensitive to scale. Always check the mean and standard deviation of features."
   ]
  },
  {
   "cell_type": "code",
   "execution_count": 11,
   "id": "36e75d10",
   "metadata": {},
   "outputs": [
    {
     "name": "stdout",
     "output_type": "stream",
     "text": [
      "Means (should be ~0): [ 0.  0.  0. -0.]\n",
      "Stds  (should be ~1): [1. 1. 1. 1.]\n"
     ]
    }
   ],
   "source": [
    "scaler = StandardScaler()\n",
    "Xs = scaler.fit_transform(X_small)\n",
    "\n",
    "print(\"Means (should be ~0):\", np.round(Xs.mean(axis=0), 3))\n",
    "print(\"Stds  (should be ~1):\", np.round(Xs.std(axis=0), 3))"
   ]
  },
  {
   "cell_type": "markdown",
   "id": "574528e2",
   "metadata": {},
   "source": [
    "We also pick a distance. Two common choices:\n",
    "\n",
    "- **Euclidean** on standardized features.\n",
    "- **Cosine** which compares angles and ignores magnitude.\n",
    "\n",
    "Below we compute both between the first 5 rows."
   ]
  },
  {
   "cell_type": "code",
   "execution_count": 12,
   "id": "366e1c50",
   "metadata": {},
   "outputs": [
    {
     "name": "stdout",
     "output_type": "stream",
     "text": [
      "Euclidean distances (5x5):\n",
      " [[0.    1.207 0.564 0.856 0.958]\n",
      " [1.207 0.    0.876 1.624 1.772]\n",
      " [0.564 0.876 0.    0.761 0.91 ]\n",
      " [0.856 1.624 0.761 0.    0.271]\n",
      " [0.958 1.772 0.91  0.271 0.   ]]\n",
      "\n",
      "Cosine distances (5x5):\n",
      " [[0.    0.372 0.073 0.09  0.075]\n",
      " [0.372 0.    0.186 0.444 0.443]\n",
      " [0.073 0.186 0.    0.068 0.068]\n",
      " [0.09  0.444 0.068 0.    0.004]\n",
      " [0.075 0.443 0.068 0.004 0.   ]]\n"
     ]
    }
   ],
   "source": [
    "sub = Xs[:5]\n",
    "D_euc = pairwise_distances(sub, metric=\"euclidean\")\n",
    "D_cos = pairwise_distances(sub, metric=\"cosine\")\n",
    "\n",
    "print(\"Euclidean distances (5x5):\\n\", np.round(D_euc, 3))\n",
    "print(\"\\nCosine distances (5x5):\\n\", np.round(D_cos, 3))"
   ]
  },
  {
   "cell_type": "markdown",
   "id": "9adf4a22",
   "metadata": {},
   "source": [
    "```{admonition} Tip\n",
    "For sparse fingerprints, cosine distance or Jaccard often makes more sense than raw Euclidean. For dense scaled descriptors, Euclidean is fine.\n",
    "```\n",
    "\n",
    "### 3.1 Jaccard and Tanimoto for binary fingerprints\n",
    "\n",
    "For bit vectors $A$ and $B$:\n",
    "\n",
    "- Count $a = \\|A\\|_1$, $b = \\|B\\|_1$, and $c = A \\cdot B$ which is the count of shared 1s.\n",
    "- **Tanimoto similarity** is $S = \\dfrac{c}{a + b - c}$.\n",
    "- **Jaccard distance** is $1 - S$.\n",
    "\n",
    "We can implement a tiny helper that computes Tanimoto for a small batch. The code is simple but gives a concrete feel."
   ]
  },
  {
   "cell_type": "code",
   "execution_count": 13,
   "id": "f777a1b7",
   "metadata": {},
   "outputs": [
    {
     "name": "stdout",
     "output_type": "stream",
     "text": [
      "Tanimoto similarity (6x6):\n",
      " [[1.    0.32  0.455 0.179 0.08  0.038]\n",
      " [0.32  1.    0.421 0.217 0.1   0.048]\n",
      " [0.455 0.421 1.    0.227 0.167 0.105]\n",
      " [0.179 0.217 0.227 1.    0.048 0.   ]\n",
      " [0.08  0.1   0.167 0.048 1.    0.143]\n",
      " [0.038 0.048 0.105 0.    0.143 1.   ]]\n"
     ]
    }
   ],
   "source": [
    "def tanimoto_pairwise(Xbin):\n",
    "    Xbin = Xbin.astype(np.uint8)\n",
    "    n = Xbin.shape[0]\n",
    "    out = np.eye(n, dtype=float)\n",
    "    ones = Xbin.sum(axis=1)\n",
    "    for i in range(n):\n",
    "        for j in range(i+1, n):\n",
    "            c = np.dot(Xbin[i], Xbin[j])\n",
    "            denom = ones[i] + ones[j] - c\n",
    "            s = 0.0 if denom == 0 else c / denom\n",
    "            out[i, j] = s\n",
    "            out[j, i] = s\n",
    "    return out\n",
    "\n",
    "if RD and X_fp is not None:\n",
    "    S_tan = tanimoto_pairwise(X_fp[:6])\n",
    "    print(\"Tanimoto similarity (6x6):\\n\", np.round(S_tan, 3))"
   ]
  },
  {
   "cell_type": "markdown",
   "id": "5fe33356",
   "metadata": {},
   "source": [
    "Narrative:\n",
    "\n",
    "- If two molecules have no bits set in common, $S=0$.\n",
    "- If they are identical in bits, $S=1$.\n",
    "- For Morgan fingerprints, Tanimoto is the default similarity used in many cheminformatics tools.\n",
    "\n",
    "### 3.2 Robust scaling and outliers\n",
    "\n",
    "Chemistry features like TPSA or MolWt can have long tails. Robust scaling uses the median and IQR instead of mean and standard deviation."
   ]
  },
  {
   "cell_type": "code",
   "execution_count": 14,
   "id": "0106235e",
   "metadata": {},
   "outputs": [
    {
     "name": "stdout",
     "output_type": "stream",
     "text": [
      "Robust-scaled feature medians ~0: [0. 0. 0. 0.]\n"
     ]
    }
   ],
   "source": [
    "from sklearn.preprocessing import RobustScaler\n",
    "Xr = RobustScaler().fit_transform(X_small)\n",
    "print(\"Robust-scaled feature medians ~0:\", np.round(np.median(Xr, axis=0), 3))"
   ]
  },
  {
   "cell_type": "markdown",
   "id": "35e14056",
   "metadata": {},
   "source": [
    "When should you use robust scaling:\n",
    "\n",
    "- Many outliers.\n",
    "- You care about relative ordering more than exact distances.\n",
    "\n",
    "### 3.3 Visual check of feature distributions\n",
    "\n",
    "Small histograms help you decide scaling. We will plot the four descriptors in simple panels."
   ]
  },
  {
   "cell_type": "code",
   "execution_count": 15,
   "id": "04cfe6ab",
   "metadata": {},
   "outputs": [
    {
     "data": {
      "image/png": "[encoded data removed]",
      "text/plain": [
       "<Figure size 900x300 with 4 Axes>"
      ]
     },
     "metadata": {},
     "output_type": "display_data"
    }
   ],
   "source": [
    "cols = [\"MolWt\",\"LogP\",\"TPSA\",\"NumRings\"]\n",
    "plt.figure(figsize=(9,3))\n",
    "for i, c in enumerate(cols, 1):\n",
    "    plt.subplot(1,4,i)\n",
    "    plt.hist(df.loc[mask_small, c], bins=20, alpha=0.8)\n",
    "    plt.title(c); plt.tight_layout()\n",
    "plt.show()"
   ]
  },
  {
   "cell_type": "markdown",
   "id": "e4f74431",
   "metadata": {},
   "source": [
    "Observation:\n",
    "\n",
    "- Skewed distributions suggest log transforms or robust scaling.\n",
    "- Counts near zero for NumRings show many monocyclic or bicyclic molecules. That will influence PCA loadings.\n",
    "\n",
    "---\n",
    "\n",
    "## 4. PCA by hand: step by step\n",
    "\n",
    "PCA finds orthogonal directions that capture maximum variance. We implement the steps on the standardized matrix.\n",
    "\n",
    "Mathematical pieces:\n",
    "\n",
    "- Centered data $\\tilde X$ is already produced by StandardScaler.\n",
    "- Covariance $S = \\frac{1}{n-1}\\tilde X^\\top \\tilde X$.\n",
    "- Either eigen-decompose $S$, or compute SVD of $\\tilde X = U \\Sigma V^\\top$.\n",
    "- The top $k$ columns of $V$ are the principal directions. Scores are $Z = \\tilde X V_k$.\n",
    "\n",
    "### 4.1 Centering and covariance"
   ]
  },
  {
   "cell_type": "code",
   "execution_count": 16,
   "id": "2750b33b",
   "metadata": {},
   "outputs": [
    {
     "name": "stdout",
     "output_type": "stream",
     "text": [
      "Xc shape: (575, 4)\n",
      "Covariance shape: (4, 4)\n"
     ]
    }
   ],
   "source": [
    "n, p = Xs.shape\n",
    "Xc = Xs  # already standardized\n",
    "S = (Xc.T @ Xc) / (n - 1)\n",
    "\n",
    "print(\"Xc shape:\", Xc.shape)\n",
    "print(\"Covariance shape:\", S.shape)"
   ]
  },
  {
   "cell_type": "markdown",
   "id": "88de1e41",
   "metadata": {},
   "source": [
    "### 4.2 SVD and explained variance"
   ]
  },
  {
   "cell_type": "code",
   "execution_count": 17,
   "id": "286ecc2d",
   "metadata": {},
   "outputs": [
    {
     "name": "stdout",
     "output_type": "stream",
     "text": [
      "Singular values: [36.978 26.855 12.106  8.052]\n",
      "Explained variance ratio: [0.595 0.314 0.064 0.028]\n"
     ]
    }
   ],
   "source": [
    "U, Sig, VT = np.linalg.svd(Xc, full_matrices=False)  # Xc = U * diag(Sig) * VT\n",
    "eigvals = (Sig ** 2) / (n - 1)\n",
    "evr = eigvals / eigvals.sum()\n",
    "\n",
    "print(\"Singular values:\", np.round(Sig, 3))\n",
    "print(\"Explained variance ratio:\", np.round(evr, 3))"
   ]
  },
  {
   "cell_type": "markdown",
   "id": "83e05b8f",
   "metadata": {},
   "source": [
    "### 4.3 Project to 2D and inspect"
   ]
  },
  {
   "cell_type": "code",
   "execution_count": 18,
   "id": "bea45200",
   "metadata": {},
   "outputs": [
    {
     "name": "stdout",
     "output_type": "stream",
     "text": [
      "Scores shape: (575, 2)\n",
      "First 3 rows:\n",
      " [[-1.224  0.346]\n",
      " [-0.258  1.043]\n",
      " [-1.08   0.863]]\n"
     ]
    },
    {
     "data": {
      "image/png": "[encoded data removed]",
      "text/plain": [
       "<Figure size 460x420 with 1 Axes>"
      ]
     },
     "metadata": {},
     "output_type": "display_data"
    }
   ],
   "source": [
    "V2 = VT[:2].T             # p x 2\n",
    "Z2 = Xc @ V2              # n x 2 scores\n",
    "print(\"Scores shape:\", Z2.shape)\n",
    "print(\"First 3 rows:\\n\", np.round(Z2[:3], 3))\n",
    "\n",
    "plt.figure(figsize=(4.6,4.2))\n",
    "plt.scatter(Z2[:,0], Z2[:,1], s=10, alpha=0.7)\n",
    "plt.axhline(0, ls=\":\", c=\"k\"); plt.axvline(0, ls=\":\", c=\"k\")\n",
    "plt.xlabel(\"PC1\"); plt.ylabel(\"PC2\"); plt.title(\"PCA scores (by SVD)\")\n",
    "plt.gca().set_aspect(\"equal\", adjustable=\"box\")\n",
    "plt.show()"
   ]
  },
  {
   "cell_type": "markdown",
   "id": "fc566729",
   "metadata": {},
   "source": [
    "```{admonition} Loadings\n",
    "Columns of $V$ are **loadings**. They tell how each original feature contributes to each PC. Large magnitude means strong contribution.\n",
    "```\n",
    "\n",
    "```{admonition} ⏰ Exercise 4\n",
    "Print the 4x2 loading matrix `V2` with 3 decimals. Which descriptor dominates PC1?\n",
    "```\n",
    "\n",
    "### 4.4 Reconstructing original features from PCs\n",
    "\n",
    "Given $Z_k$ and $V_k$, you can reconstruct an approximation of $X$ as $\\hat X = Z_k V_k^\\top$. Since we standardized, this returns standardized units."
   ]
  },
  {
   "cell_type": "code",
   "execution_count": 19,
   "id": "800d2fb8",
   "metadata": {},
   "outputs": [
    {
     "name": "stdout",
     "output_type": "stream",
     "text": [
      "RMSE of 2-PC reconstruction in standardized units: 0.303\n"
     ]
    }
   ],
   "source": [
    "Xhat = Z2 @ V2.T\n",
    "rmse = np.sqrt(np.mean((Xc - Xhat)**2))\n",
    "print(\"RMSE of 2-PC reconstruction in standardized units:\", round(rmse, 3))"
   ]
  },
  {
   "cell_type": "markdown",
   "id": "7a42ab5d",
   "metadata": {},
   "source": [
    "Narrative:\n",
    "\n",
    "- As $k$ increases, $Xhat$ gets closer to $X$.\n",
    "- A small $k$ gives a compressed summary useful for visualization and clustering.\n",
    "\n",
    "### 4.5 Hotelling $T^2$ and Q residuals\n",
    "\n",
    "Two common PCA diagnostics:\n",
    "\n",
    "- Hotelling $T^2$ is the squared Mahalanobis distance in score space: $T^2 = \\sum_{j=1}^{k}\\frac{z_{ij}^2}{\\lambda_j}$.\n",
    "- Q residuals measure leftover variance outside the model: $Q = \\lVert x_i - \\hat x_i\\rVert^2$.\n",
    "\n",
    "We will compute both for $k=2$ and highlight the top outliers."
   ]
  },
  {
   "cell_type": "code",
   "execution_count": 20,
   "id": "5f4d7674",
   "metadata": {},
   "outputs": [
    {
     "name": "stdout",
     "output_type": "stream",
     "text": [
      "T2 range: (0.0017864424718611982, 40.251470053322144)\n",
      "Q  range: (0.00014111758268102242, 17.164253116068526)\n"
     ]
    }
   ],
   "source": [
    "lam = eigvals[:2]\n",
    "T2 = (Z2**2 / lam).sum(axis=1)\n",
    "Q  = ((Xc - Xhat)**2).sum(axis=1)\n",
    "print(\"T2 range:\", (float(T2.min()), float(T2.max())))\n",
    "print(\"Q  range:\", (float(Q.min()), float(Q.max())))"
   ]
  },
  {
   "cell_type": "markdown",
   "id": "dc5d49ca",
   "metadata": {},
   "source": [
    "Plot the Q residuals as a simple stem plot."
   ]
  },
  {
   "cell_type": "code",
   "execution_count": 21,
   "id": "6f16497b",
   "metadata": {},
   "outputs": [
    {
     "data": {
      "image/png": "[encoded data removed]",
      "text/plain": [
       "<Figure size 600x260 with 1 Axes>"
      ]
     },
     "metadata": {},
     "output_type": "display_data"
    }
   ],
   "source": [
    "plt.figure(figsize=(6,2.6))\n",
    "plt.stem(Q[:80], use_line_collection=True)\n",
    "plt.xlabel(\"Sample index\"); plt.ylabel(\"Q residual\")\n",
    "plt.title(\"First 80 samples. Larger Q means worse reconstruction by 2 PCs.\")\n",
    "plt.tight_layout(); plt.show()"
   ]
  },
  {
   "cell_type": "markdown",
   "id": "39e83d96",
   "metadata": {},
   "source": [
    "### 4.6 Sign indeterminacy and rotation\n",
    "\n",
    "Loadings have arbitrary sign. If you multiply a loading vector by $-1$, scores flip sign as well, and the model remains the same. Do not interpret signs as absolute truths. Interpret directions relative to each other."
   ]
  },
  {
   "cell_type": "code",
   "execution_count": 22,
   "id": "7a882324",
   "metadata": {},
   "outputs": [
    {
     "name": "stdout",
     "output_type": "stream",
     "text": [
      "Sign flip leaves model equivalent: True\n"
     ]
    }
   ],
   "source": [
    "# Demonstrate sign flip\n",
    "V2_flip = V2.copy()\n",
    "V2_flip[:,0] *= -1\n",
    "Z2_flip = Xc @ V2_flip\n",
    "d = np.allclose(Z2_flip[:,0], -Z2[:,0]) and np.allclose(Z2_flip[:,1], Z2[:,1])\n",
    "print(\"Sign flip leaves model equivalent:\", d)"
   ]
  },
  {
   "cell_type": "markdown",
   "id": "facac676",
   "metadata": {},
   "source": [
    "### 4.7 PCA with and without scaling\n",
    "\n",
    "To see why scaling matters, run PCA without standardizing."
   ]
  },
  {
   "cell_type": "code",
   "execution_count": 23,
   "id": "36fd0b40",
   "metadata": {},
   "outputs": [
    {
     "data": {
      "image/png": "[encoded data removed]",
      "text/plain": [
       "<Figure size 440x400 with 1 Axes>"
      ]
     },
     "metadata": {},
     "output_type": "display_data"
    },
    {
     "name": "stdout",
     "output_type": "stream",
     "text": [
      "Unscaled EVR: [0.924 0.076]\n"
     ]
    }
   ],
   "source": [
    "pca_noscale = PCA(n_components=2).fit(X_small)  # no scaling\n",
    "Z_ns = pca_noscale.transform(X_small)\n",
    "\n",
    "plt.figure(figsize=(4.4,4.0))\n",
    "plt.scatter(Z_ns[:,0], Z_ns[:,1], s=10, alpha=0.7)\n",
    "plt.title(\"PCA without scaling\")\n",
    "plt.xticks([]); plt.yticks([])\n",
    "plt.show()\n",
    "\n",
    "print(\"Unscaled EVR:\", np.round(pca_noscale.explained_variance_ratio_, 3))"
   ]
  },
  {
   "cell_type": "markdown",
   "id": "64a75afd",
   "metadata": {},
   "source": [
    "Observation:\n",
    "\n",
    "- MolWt typically dominates variance if you skip scaling. That can hide patterns from TPSA or LogP.\n",
    "\n",
    "---\n",
    "\n",
    "## 5. PCA with scikit-learn and interpretation\n",
    "\n",
    "Now we use `sklearn.decomposition.PCA` and compare to the by-hand result.\n",
    "\n",
    "### 5.1 Fit PCA and compare EVR"
   ]
  },
  {
   "cell_type": "code",
   "execution_count": 24,
   "id": "0c3cae4c",
   "metadata": {},
   "outputs": [
    {
     "name": "stdout",
     "output_type": "stream",
     "text": [
      "Explained variance ratio: [0.595 0.314 0.064 0.028]\n",
      "Cumulative: [0.595 0.908 0.972 1.   ]\n",
      "Components shape: (4, 4)\n"
     ]
    }
   ],
   "source": [
    "pca = PCA(n_components=4, random_state=0)\n",
    "Z = pca.fit_transform(Xs)\n",
    "\n",
    "print(\"Explained variance ratio:\", np.round(pca.explained_variance_ratio_, 3))\n",
    "print(\"Cumulative:\", np.round(pca.explained_variance_ratio_.cumsum(), 3))\n",
    "print(\"Components shape:\", pca.components_.shape)  # 4 x 4 (each row is a PC)"
   ]
  },
  {
   "cell_type": "markdown",
   "id": "e0679310",
   "metadata": {},
   "source": [
    "### 5.2 Scree plot"
   ]
  },
  {
   "cell_type": "code",
   "execution_count": 25,
   "id": "d5d50d0b",
   "metadata": {},
   "outputs": [
    {
     "data": {
      "image/png": "[encoded data removed]",
      "text/plain": [
       "<Figure size 480x320 with 1 Axes>"
      ]
     },
     "metadata": {},
     "output_type": "display_data"
    }
   ],
   "source": [
    "plt.figure(figsize=(4.8,3.2))\n",
    "plt.plot(np.arange(1, p+1), pca.explained_variance_ratio_, marker=\"o\")\n",
    "plt.xlabel(\"PC index\"); plt.ylabel(\"Explained variance ratio\")\n",
    "plt.title(\"Scree plot\")\n",
    "plt.grid(True, alpha=0.4)\n",
    "plt.show()"
   ]
  },
  {
   "cell_type": "markdown",
   "id": "e2ba333b",
   "metadata": {},
   "source": [
    "### 5.3 Biplot: scores and loadings\n",
    "\n",
    "We plot PC1 vs PC2 and overlay loading vectors. For color we use toxicity when known. This color is for **reading** the map only."
   ]
  },
  {
   "cell_type": "code",
   "execution_count": 26,
   "id": "0a19cc49",
   "metadata": {},
   "outputs": [
    {
     "data": {
      "image/png": "[encoded data removed]",
      "text/plain": [
       "<Figure size 500x460 with 1 Axes>"
      ]
     },
     "metadata": {},
     "output_type": "display_data"
    }
   ],
   "source": [
    "scores = Z[:, :2]\n",
    "loads = pca.components_[:2, :].T  # shape 4x2\n",
    "cols = [\"MolWt\",\"LogP\",\"TPSA\",\"NumRings\"]\n",
    "\n",
    "plt.figure(figsize=(5,4.6))\n",
    "c = np.where(y_toxic[:len(scores)]==1, \"crimson\",\n",
    "    np.where(y_toxic[:len(scores)]==0, \"steelblue\", \"gray\"))\n",
    "plt.scatter(scores[:,0], scores[:,1], s=12, alpha=0.7, c=c)\n",
    "plt.axhline(0, ls=\":\", c=\"k\"); plt.axvline(0, ls=\":\", c=\"k\")\n",
    "\n",
    "for i, name in enumerate(cols):\n",
    "    x, y = loads[i,0]*2.2, loads[i,1]*2.2\n",
    "    plt.arrow(0, 0, x, y, head_width=0.05, length_includes_head=True)\n",
    "    plt.text(x*1.05, y*1.05, name, fontsize=9)\n",
    "\n",
    "plt.xlabel(\"PC1\"); plt.ylabel(\"PC2\"); plt.title(\"PCA biplot\")\n",
    "plt.gca().set_aspect(\"equal\", adjustable=\"box\")\n",
    "plt.show()"
   ]
  },
  {
   "cell_type": "markdown",
   "id": "bc2aa2cd",
   "metadata": {},
   "source": [
    "```{admonition} Reading a biplot\n",
    "- Points near each other have similar standardized descriptors.\n",
    "- A loading arrow points in the direction of increase of that feature.\n",
    "- The projection of a point onto an arrow relates to that feature value.\n",
    "```\n",
    "\n",
    "```{admonition} ⏰ Exercise 5\n",
    "Set `PCA(n_components=2, whiten=True)` and replot the biplot. How do the axes scale and the scatter change?\n",
    "```\n",
    "\n",
    "### 5.4 Which molecules live at extremes of PCs\n",
    "\n",
    "A simple trick to interpret PCs is to find molecules at the tails of PC1 and PC2. We will print their SMILES and descriptor values."
   ]
  },
  {
   "cell_type": "code",
   "execution_count": 27,
   "id": "010477f7",
   "metadata": {},
   "outputs": [
    {
     "data": {
      "text/html": [
       "<div>\n",
       "<style scoped>\n",
       "    .dataframe tbody tr th:only-of-type {\n",
       "        vertical-align: middle;\n",
       "    }\n",
       "\n",
       "    .dataframe tbody tr th {\n",
       "        vertical-align: top;\n",
       "    }\n",
       "\n",
       "    .dataframe thead th {\n",
       "        text-align: right;\n",
       "    }\n",
       "</style>\n",
       "<table border=\"1\" class=\"dataframe\">\n",
       "  <thead>\n",
       "    <tr style=\"text-align: right;\">\n",
       "      <th></th>\n",
       "      <th>idx</th>\n",
       "      <th>SMILES</th>\n",
       "      <th>PC1</th>\n",
       "      <th>PC2</th>\n",
       "      <th>MolWt</th>\n",
       "      <th>LogP</th>\n",
       "      <th>TPSA</th>\n",
       "      <th>NumRings</th>\n",
       "    </tr>\n",
       "  </thead>\n",
       "  <tbody>\n",
       "    <tr>\n",
       "      <th>462</th>\n",
       "      <td>462</td>\n",
       "      <td>[Na+].[O-][Cl+3]([O-])([O-])[O-]</td>\n",
       "      <td>-4.152</td>\n",
       "      <td>5.006</td>\n",
       "      <td>122.439</td>\n",
       "      <td>-7.752</td>\n",
       "      <td>92.24</td>\n",
       "      <td>0.0</td>\n",
       "    </tr>\n",
       "    <tr>\n",
       "      <th>453</th>\n",
       "      <td>453</td>\n",
       "      <td>O=N[O-].[Na+]</td>\n",
       "      <td>-3.397</td>\n",
       "      <td>2.211</td>\n",
       "      <td>68.995</td>\n",
       "      <td>-2.745</td>\n",
       "      <td>52.49</td>\n",
       "      <td>0.0</td>\n",
       "    </tr>\n",
       "    <tr>\n",
       "      <th>459</th>\n",
       "      <td>459</td>\n",
       "      <td>CC(C)(C)[O-].[K+]</td>\n",
       "      <td>-3.366</td>\n",
       "      <td>1.514</td>\n",
       "      <td>112.213</td>\n",
       "      <td>-2.851</td>\n",
       "      <td>23.06</td>\n",
       "      <td>0.0</td>\n",
       "    </tr>\n",
       "    <tr>\n",
       "      <th>61</th>\n",
       "      <td>61</td>\n",
       "      <td>CC12CCC3C(CC=C4CC(OC5OC(COC(=O)c6ccccc6)C(OC(=...</td>\n",
       "      <td>9.482</td>\n",
       "      <td>1.775</td>\n",
       "      <td>867.004</td>\n",
       "      <td>9.162</td>\n",
       "      <td>140.73</td>\n",
       "      <td>9.0</td>\n",
       "    </tr>\n",
       "    <tr>\n",
       "      <th>338</th>\n",
       "      <td>338</td>\n",
       "      <td>c1ccc(-n2c(-c3cc(-c4nc5ccccc5n4-c4ccccc4)cc(-c...</td>\n",
       "      <td>8.269</td>\n",
       "      <td>-1.376</td>\n",
       "      <td>654.777</td>\n",
       "      <td>10.704</td>\n",
       "      <td>53.46</td>\n",
       "      <td>10.0</td>\n",
       "    </tr>\n",
       "    <tr>\n",
       "      <th>340</th>\n",
       "      <td>340</td>\n",
       "      <td>Ic1ccc(C(=C(c2ccc(I)cc2)c2ccc(I)cc2)c2ccc(I)cc...</td>\n",
       "      <td>6.177</td>\n",
       "      <td>-2.039</td>\n",
       "      <td>836.030</td>\n",
       "      <td>9.112</td>\n",
       "      <td>0.00</td>\n",
       "      <td>4.0</td>\n",
       "    </tr>\n",
       "    <tr>\n",
       "      <th>290</th>\n",
       "      <td>290</td>\n",
       "      <td>c1ccc2c(c1)=c1ccc3c4ccc5c6c(ccc(c7ccc=2c1c37)c...</td>\n",
       "      <td>4.898</td>\n",
       "      <td>-2.117</td>\n",
       "      <td>400.480</td>\n",
       "      <td>7.512</td>\n",
       "      <td>0.00</td>\n",
       "      <td>9.0</td>\n",
       "    </tr>\n",
       "    <tr>\n",
       "      <th>532</th>\n",
       "      <td>532</td>\n",
       "      <td>c1cc2ccc3ccc4ccc5ccc6ccc1c1c2c3c4c5c61</td>\n",
       "      <td>3.267</td>\n",
       "      <td>-2.062</td>\n",
       "      <td>300.360</td>\n",
       "      <td>6.919</td>\n",
       "      <td>0.00</td>\n",
       "      <td>7.0</td>\n",
       "    </tr>\n",
       "    <tr>\n",
       "      <th>340</th>\n",
       "      <td>340</td>\n",
       "      <td>Ic1ccc(C(=C(c2ccc(I)cc2)c2ccc(I)cc2)c2ccc(I)cc...</td>\n",
       "      <td>6.177</td>\n",
       "      <td>-2.039</td>\n",
       "      <td>836.030</td>\n",
       "      <td>9.112</td>\n",
       "      <td>0.00</td>\n",
       "      <td>4.0</td>\n",
       "    </tr>\n",
       "    <tr>\n",
       "      <th>510</th>\n",
       "      <td>510</td>\n",
       "      <td>C=C1c2cccc(O)c2C(O)=C2C(=O)C3(O)C(O)=C(C(N)=O)...</td>\n",
       "      <td>2.606</td>\n",
       "      <td>5.410</td>\n",
       "      <td>478.885</td>\n",
       "      <td>-0.173</td>\n",
       "      <td>181.62</td>\n",
       "      <td>4.0</td>\n",
       "    </tr>\n",
       "    <tr>\n",
       "      <th>462</th>\n",
       "      <td>462</td>\n",
       "      <td>[Na+].[O-][Cl+3]([O-])([O-])[O-]</td>\n",
       "      <td>-4.152</td>\n",
       "      <td>5.006</td>\n",
       "      <td>122.439</td>\n",
       "      <td>-7.752</td>\n",
       "      <td>92.24</td>\n",
       "      <td>0.0</td>\n",
       "    </tr>\n",
       "    <tr>\n",
       "      <th>507</th>\n",
       "      <td>507</td>\n",
       "      <td>O=C([O-])[O-].[Cs+].[Cs+]</td>\n",
       "      <td>-3.233</td>\n",
       "      <td>4.734</td>\n",
       "      <td>325.818</td>\n",
       "      <td>-8.439</td>\n",
       "      <td>63.19</td>\n",
       "      <td>0.0</td>\n",
       "    </tr>\n",
       "  </tbody>\n",
       "</table>\n",
       "</div>"
      ],
      "text/plain": [
       "     idx                                             SMILES    PC1    PC2  \\\n",
       "462  462                   [Na+].[O-][Cl+3]([O-])([O-])[O-] -4.152  5.006   \n",
       "453  453                                      O=N[O-].[Na+] -3.397  2.211   \n",
       "459  459                                  CC(C)(C)[O-].[K+] -3.366  1.514   \n",
       "61    61  CC12CCC3C(CC=C4CC(OC5OC(COC(=O)c6ccccc6)C(OC(=...  9.482  1.775   \n",
       "338  338  c1ccc(-n2c(-c3cc(-c4nc5ccccc5n4-c4ccccc4)cc(-c...  8.269 -1.376   \n",
       "340  340  Ic1ccc(C(=C(c2ccc(I)cc2)c2ccc(I)cc2)c2ccc(I)cc...  6.177 -2.039   \n",
       "290  290  c1ccc2c(c1)=c1ccc3c4ccc5c6c(ccc(c7ccc=2c1c37)c...  4.898 -2.117   \n",
       "532  532             c1cc2ccc3ccc4ccc5ccc6ccc1c1c2c3c4c5c61  3.267 -2.062   \n",
       "340  340  Ic1ccc(C(=C(c2ccc(I)cc2)c2ccc(I)cc2)c2ccc(I)cc...  6.177 -2.039   \n",
       "510  510  C=C1c2cccc(O)c2C(O)=C2C(=O)C3(O)C(O)=C(C(N)=O)...  2.606  5.410   \n",
       "462  462                   [Na+].[O-][Cl+3]([O-])([O-])[O-] -4.152  5.006   \n",
       "507  507                          O=C([O-])[O-].[Cs+].[Cs+] -3.233  4.734   \n",
       "\n",
       "       MolWt    LogP    TPSA  NumRings  \n",
       "462  122.439  -7.752   92.24       0.0  \n",
       "453   68.995  -2.745   52.49       0.0  \n",
       "459  112.213  -2.851   23.06       0.0  \n",
       "61   867.004   9.162  140.73       9.0  \n",
       "338  654.777  10.704   53.46      10.0  \n",
       "340  836.030   9.112    0.00       4.0  \n",
       "290  400.480   7.512    0.00       9.0  \n",
       "532  300.360   6.919    0.00       7.0  \n",
       "340  836.030   9.112    0.00       4.0  \n",
       "510  478.885  -0.173  181.62       4.0  \n",
       "462  122.439  -7.752   92.24       0.0  \n",
       "507  325.818  -8.439   63.19       0.0  "
      ]
     },
     "execution_count": 27,
     "metadata": {},
     "output_type": "execute_result"
    }
   ],
   "source": [
    "df_pc = pd.DataFrame(scores, columns=[\"PC1\",\"PC2\"])\n",
    "df_pc[\"idx\"] = np.arange(len(df_pc))\n",
    "df_pc[\"SMILES\"] = df.loc[mask_small, \"SMILES\"].values\n",
    "df_pc = pd.concat([df_pc, pd.DataFrame(X_small, columns=[\"MolWt\",\"LogP\",\"TPSA\",\"NumRings\"]).reset_index(drop=True)], axis=1)\n",
    "\n",
    "tails = pd.concat([\n",
    "    df_pc.nsmallest(3, \"PC1\"),\n",
    "    df_pc.nlargest(3, \"PC1\"),\n",
    "    df_pc.nsmallest(3, \"PC2\"),\n",
    "    df_pc.nlargest(3, \"PC2\"),\n",
    "], axis=0)\n",
    "\n",
    "cols_show = [\"idx\",\"SMILES\",\"PC1\",\"PC2\",\"MolWt\",\"LogP\",\"TPSA\",\"NumRings\"]\n",
    "tails[cols_show].round(3)"
   ]
  },
  {
   "cell_type": "markdown",
   "id": "cf270200",
   "metadata": {},
   "source": [
    "Narrative:\n",
    "\n",
    "- Extreme PC1 to the right will have larger values on features with positive loadings on PC1.\n",
    "- Extreme PC1 to the left will have larger values on features with negative loadings on PC1.\n",
    "\n",
    "### 5.5 Annotate a few molecules on the PC1 vs PC2 scatter\n",
    "\n",
    "We randomly pick a few molecules and label them by index to show how you can connect points to SMILES."
   ]
  },
  {
   "cell_type": "code",
   "execution_count": 28,
   "id": "4b627613",
   "metadata": {},
   "outputs": [
    {
     "data": {
      "image/png": "[encoded data removed]",
      "text/plain": [
       "<Figure size 520x480 with 1 Axes>"
      ]
     },
     "metadata": {},
     "output_type": "display_data"
    },
    {
     "name": "stdout",
     "output_type": "stream",
     "text": [
      "Labeled indices and SMILES:\n"
     ]
    },
    {
     "data": {
      "text/html": [
       "<div>\n",
       "<style scoped>\n",
       "    .dataframe tbody tr th:only-of-type {\n",
       "        vertical-align: middle;\n",
       "    }\n",
       "\n",
       "    .dataframe tbody tr th {\n",
       "        vertical-align: top;\n",
       "    }\n",
       "\n",
       "    .dataframe thead th {\n",
       "        text-align: right;\n",
       "    }\n",
       "</style>\n",
       "<table border=\"1\" class=\"dataframe\">\n",
       "  <thead>\n",
       "    <tr style=\"text-align: right;\">\n",
       "      <th></th>\n",
       "      <th>idx</th>\n",
       "      <th>SMILES</th>\n",
       "    </tr>\n",
       "  </thead>\n",
       "  <tbody>\n",
       "    <tr>\n",
       "      <th>96</th>\n",
       "      <td>96</td>\n",
       "      <td>Cc1cnc2ccccc2c1</td>\n",
       "    </tr>\n",
       "    <tr>\n",
       "      <th>235</th>\n",
       "      <td>235</td>\n",
       "      <td>CCc1ccc(COC(=O)c2ccccc2)cc1</td>\n",
       "    </tr>\n",
       "    <tr>\n",
       "      <th>344</th>\n",
       "      <td>344</td>\n",
       "      <td>O=c1c(-c2ccc(O)cc2)coc2cc(O)ccc12</td>\n",
       "    </tr>\n",
       "    <tr>\n",
       "      <th>414</th>\n",
       "      <td>414</td>\n",
       "      <td>CC(C)Cc1ccccc1</td>\n",
       "    </tr>\n",
       "    <tr>\n",
       "      <th>427</th>\n",
       "      <td>427</td>\n",
       "      <td>CCOc1ccc(C(=O)OC)cc1</td>\n",
       "    </tr>\n",
       "    <tr>\n",
       "      <th>479</th>\n",
       "      <td>479</td>\n",
       "      <td>COC(=O)c1sccc1O</td>\n",
       "    </tr>\n",
       "    <tr>\n",
       "      <th>485</th>\n",
       "      <td>485</td>\n",
       "      <td>CC(C)(C)c1ccc(C=O)cc1</td>\n",
       "    </tr>\n",
       "    <tr>\n",
       "      <th>497</th>\n",
       "      <td>497</td>\n",
       "      <td>N#Cc1ccc(C(=O)c2ccccc2)cc1</td>\n",
       "    </tr>\n",
       "  </tbody>\n",
       "</table>\n",
       "</div>"
      ],
      "text/plain": [
       "     idx                             SMILES\n",
       "96    96                    Cc1cnc2ccccc2c1\n",
       "235  235        CCc1ccc(COC(=O)c2ccccc2)cc1\n",
       "344  344  O=c1c(-c2ccc(O)cc2)coc2cc(O)ccc12\n",
       "414  414                     CC(C)Cc1ccccc1\n",
       "427  427               CCOc1ccc(C(=O)OC)cc1\n",
       "479  479                    COC(=O)c1sccc1O\n",
       "485  485              CC(C)(C)c1ccc(C=O)cc1\n",
       "497  497         N#Cc1ccc(C(=O)c2ccccc2)cc1"
      ]
     },
     "metadata": {},
     "output_type": "display_data"
    }
   ],
   "source": [
    "np.random.seed(0)\n",
    "idx_pick = np.random.choice(len(scores), size=min(8, len(scores)), replace=False)\n",
    "plt.figure(figsize=(5.2,4.8))\n",
    "plt.scatter(scores[:,0], scores[:,1], s=10, alpha=0.6, color=\"gray\")\n",
    "for i in idx_pick:\n",
    "    plt.scatter(scores[i,0], scores[i,1], s=28)\n",
    "    plt.text(scores[i,0]+0.03, scores[i,1]+0.03, str(int(i)), fontsize=8)\n",
    "plt.title(\"PC1 vs PC2 with a few labeled points\")\n",
    "plt.xlabel(\"PC1\"); plt.ylabel(\"PC2\")\n",
    "plt.gca().set_aspect(\"equal\", adjustable=\"box\")\n",
    "plt.show()\n",
    "\n",
    "print(\"Labeled indices and SMILES:\")\n",
    "display(df_pc.loc[idx_pick, [\"idx\",\"SMILES\"]].sort_values(\"idx\"))"
   ]
  },
  {
   "cell_type": "markdown",
   "id": "3f7d9df5",
   "metadata": {},
   "source": [
    "### 5.6 A loadings heatmap for all four descriptors\n",
    "\n",
    "For small $p$ a heatmap is readable and builds intuition for how loadings spread across components."
   ]
  },
  {
   "cell_type": "code",
   "execution_count": 29,
   "id": "90711382",
   "metadata": {},
   "outputs": [
    {
     "data": {
      "image/png": "[encoded data removed]",
      "text/plain": [
       "<Figure size 460x280 with 2 Axes>"
      ]
     },
     "metadata": {},
     "output_type": "display_data"
    }
   ],
   "source": [
    "plt.figure(figsize=(4.6,2.8))\n",
    "plt.imshow(pca.components_, aspect=\"auto\", interpolation=\"nearest\")\n",
    "plt.colorbar(label=\"loading\")\n",
    "plt.yticks(range(4), [f\"PC{i+1}\" for i in range(4)])\n",
    "plt.xticks(range(4), [\"MolWt\",\"LogP\",\"TPSA\",\"NumRings\"], rotation=20)\n",
    "plt.title(\"PCA loadings matrix\")\n",
    "plt.tight_layout(); plt.show()"
   ]
  },
  {
   "cell_type": "markdown",
   "id": "9ecfc440",
   "metadata": {},
   "source": [
    "### 5.7 Case study: MOF screening dataset\n",
    "\n",
    "We now add a second dataset for practice. It describes a grid of synthetic experiments for metal organic framework formation. Columns:\n",
    "\n",
    "- `linker_smiles` for the organic linker,\n",
    "- `temperature` in °C,\n",
    "- `time_h` in hours,\n",
    "- `concentration_M` in molarity,\n",
    "- `solvent_DMF` as a binary flag (0 for water, 1 for DMF),\n",
    "- `yield` as the output variable.\n",
    "\n",
    "We will read it and compute descriptor columns for each unique linker. Then we will merge descriptors back to the experiment table."
   ]
  },
  {
   "cell_type": "code",
   "execution_count": 30,
   "id": "e73c18a6",
   "metadata": {},
   "outputs": [
    {
     "ename": "HTTPError",
     "evalue": "HTTP Error 404: Not Found",
     "output_type": "error",
     "traceback": [
      "\u001b[1;31m---------------------------------------------------------------------------\u001b[0m",
      "\u001b[1;31mHTTPError\u001b[0m                                 Traceback (most recent call last)",
      "Cell \u001b[1;32mIn[30], line 2\u001b[0m\n\u001b[0;32m      1\u001b[0m url_mof \u001b[38;5;241m=\u001b[39m \u001b[38;5;124m\"\u001b[39m\u001b[38;5;124mhttps://raw.githubusercontent.com/zzhenglab/ai4chem/main/book/_data/mof_yield_dataset.csv\u001b[39m\u001b[38;5;124m\"\u001b[39m\n\u001b[1;32m----> 2\u001b[0m mof \u001b[38;5;241m=\u001b[39m \u001b[43mpd\u001b[49m\u001b[38;5;241;43m.\u001b[39;49m\u001b[43mread_csv\u001b[49m\u001b[43m(\u001b[49m\u001b[43murl_mof\u001b[49m\u001b[43m)\u001b[49m\n\u001b[0;32m      3\u001b[0m \u001b[38;5;28mprint\u001b[39m(\u001b[38;5;124m\"\u001b[39m\u001b[38;5;124mMOF rows x cols:\u001b[39m\u001b[38;5;124m\"\u001b[39m, mof\u001b[38;5;241m.\u001b[39mshape)\n\u001b[0;32m      4\u001b[0m mof\u001b[38;5;241m.\u001b[39mhead(\u001b[38;5;241m3\u001b[39m)\n",
      "File \u001b[1;32mc:\\users\\52377\\appdata\\local\\programs\\python\\python38\\lib\\site-packages\\pandas\\io\\parsers\\readers.py:912\u001b[0m, in \u001b[0;36mread_csv\u001b[1;34m(filepath_or_buffer, sep, delimiter, header, names, index_col, usecols, dtype, engine, converters, true_values, false_values, skipinitialspace, skiprows, skipfooter, nrows, na_values, keep_default_na, na_filter, verbose, skip_blank_lines, parse_dates, infer_datetime_format, keep_date_col, date_parser, date_format, dayfirst, cache_dates, iterator, chunksize, compression, thousands, decimal, lineterminator, quotechar, quoting, doublequote, escapechar, comment, encoding, encoding_errors, dialect, on_bad_lines, delim_whitespace, low_memory, memory_map, float_precision, storage_options, dtype_backend)\u001b[0m\n\u001b[0;32m    899\u001b[0m kwds_defaults \u001b[38;5;241m=\u001b[39m _refine_defaults_read(\n\u001b[0;32m    900\u001b[0m     dialect,\n\u001b[0;32m    901\u001b[0m     delimiter,\n\u001b[1;32m   (...)\u001b[0m\n\u001b[0;32m    908\u001b[0m     dtype_backend\u001b[38;5;241m=\u001b[39mdtype_backend,\n\u001b[0;32m    909\u001b[0m )\n\u001b[0;32m    910\u001b[0m kwds\u001b[38;5;241m.\u001b[39mupdate(kwds_defaults)\n\u001b[1;32m--> 912\u001b[0m \u001b[38;5;28;01mreturn\u001b[39;00m \u001b[43m_read\u001b[49m\u001b[43m(\u001b[49m\u001b[43mfilepath_or_buffer\u001b[49m\u001b[43m,\u001b[49m\u001b[43m \u001b[49m\u001b[43mkwds\u001b[49m\u001b[43m)\u001b[49m\n",
      "File \u001b[1;32mc:\\users\\52377\\appdata\\local\\programs\\python\\python38\\lib\\site-packages\\pandas\\io\\parsers\\readers.py:577\u001b[0m, in \u001b[0;36m_read\u001b[1;34m(filepath_or_buffer, kwds)\u001b[0m\n\u001b[0;32m    574\u001b[0m _validate_names(kwds\u001b[38;5;241m.\u001b[39mget(\u001b[38;5;124m\"\u001b[39m\u001b[38;5;124mnames\u001b[39m\u001b[38;5;124m\"\u001b[39m, \u001b[38;5;28;01mNone\u001b[39;00m))\n\u001b[0;32m    576\u001b[0m \u001b[38;5;66;03m# Create the parser.\u001b[39;00m\n\u001b[1;32m--> 577\u001b[0m parser \u001b[38;5;241m=\u001b[39m \u001b[43mTextFileReader\u001b[49m\u001b[43m(\u001b[49m\u001b[43mfilepath_or_buffer\u001b[49m\u001b[43m,\u001b[49m\u001b[43m \u001b[49m\u001b[38;5;241;43m*\u001b[39;49m\u001b[38;5;241;43m*\u001b[39;49m\u001b[43mkwds\u001b[49m\u001b[43m)\u001b[49m\n\u001b[0;32m    579\u001b[0m \u001b[38;5;28;01mif\u001b[39;00m chunksize \u001b[38;5;129;01mor\u001b[39;00m iterator:\n\u001b[0;32m    580\u001b[0m     \u001b[38;5;28;01mreturn\u001b[39;00m parser\n",
      "File \u001b[1;32mc:\\users\\52377\\appdata\\local\\programs\\python\\python38\\lib\\site-packages\\pandas\\io\\parsers\\readers.py:1407\u001b[0m, in \u001b[0;36mTextFileReader.__init__\u001b[1;34m(self, f, engine, **kwds)\u001b[0m\n\u001b[0;32m   1404\u001b[0m     \u001b[38;5;28mself\u001b[39m\u001b[38;5;241m.\u001b[39moptions[\u001b[38;5;124m\"\u001b[39m\u001b[38;5;124mhas_index_names\u001b[39m\u001b[38;5;124m\"\u001b[39m] \u001b[38;5;241m=\u001b[39m kwds[\u001b[38;5;124m\"\u001b[39m\u001b[38;5;124mhas_index_names\u001b[39m\u001b[38;5;124m\"\u001b[39m]\n\u001b[0;32m   1406\u001b[0m \u001b[38;5;28mself\u001b[39m\u001b[38;5;241m.\u001b[39mhandles: IOHandles \u001b[38;5;241m|\u001b[39m \u001b[38;5;28;01mNone\u001b[39;00m \u001b[38;5;241m=\u001b[39m \u001b[38;5;28;01mNone\u001b[39;00m\n\u001b[1;32m-> 1407\u001b[0m \u001b[38;5;28mself\u001b[39m\u001b[38;5;241m.\u001b[39m_engine \u001b[38;5;241m=\u001b[39m \u001b[38;5;28;43mself\u001b[39;49m\u001b[38;5;241;43m.\u001b[39;49m\u001b[43m_make_engine\u001b[49m\u001b[43m(\u001b[49m\u001b[43mf\u001b[49m\u001b[43m,\u001b[49m\u001b[43m \u001b[49m\u001b[38;5;28;43mself\u001b[39;49m\u001b[38;5;241;43m.\u001b[39;49m\u001b[43mengine\u001b[49m\u001b[43m)\u001b[49m\n",
      "File \u001b[1;32mc:\\users\\52377\\appdata\\local\\programs\\python\\python38\\lib\\site-packages\\pandas\\io\\parsers\\readers.py:1661\u001b[0m, in \u001b[0;36mTextFileReader._make_engine\u001b[1;34m(self, f, engine)\u001b[0m\n\u001b[0;32m   1659\u001b[0m     \u001b[38;5;28;01mif\u001b[39;00m \u001b[38;5;124m\"\u001b[39m\u001b[38;5;124mb\u001b[39m\u001b[38;5;124m\"\u001b[39m \u001b[38;5;129;01mnot\u001b[39;00m \u001b[38;5;129;01min\u001b[39;00m mode:\n\u001b[0;32m   1660\u001b[0m         mode \u001b[38;5;241m+\u001b[39m\u001b[38;5;241m=\u001b[39m \u001b[38;5;124m\"\u001b[39m\u001b[38;5;124mb\u001b[39m\u001b[38;5;124m\"\u001b[39m\n\u001b[1;32m-> 1661\u001b[0m \u001b[38;5;28mself\u001b[39m\u001b[38;5;241m.\u001b[39mhandles \u001b[38;5;241m=\u001b[39m \u001b[43mget_handle\u001b[49m\u001b[43m(\u001b[49m\n\u001b[0;32m   1662\u001b[0m \u001b[43m    \u001b[49m\u001b[43mf\u001b[49m\u001b[43m,\u001b[49m\n\u001b[0;32m   1663\u001b[0m \u001b[43m    \u001b[49m\u001b[43mmode\u001b[49m\u001b[43m,\u001b[49m\n\u001b[0;32m   1664\u001b[0m \u001b[43m    \u001b[49m\u001b[43mencoding\u001b[49m\u001b[38;5;241;43m=\u001b[39;49m\u001b[38;5;28;43mself\u001b[39;49m\u001b[38;5;241;43m.\u001b[39;49m\u001b[43moptions\u001b[49m\u001b[38;5;241;43m.\u001b[39;49m\u001b[43mget\u001b[49m\u001b[43m(\u001b[49m\u001b[38;5;124;43m\"\u001b[39;49m\u001b[38;5;124;43mencoding\u001b[39;49m\u001b[38;5;124;43m\"\u001b[39;49m\u001b[43m,\u001b[49m\u001b[43m \u001b[49m\u001b[38;5;28;43;01mNone\u001b[39;49;00m\u001b[43m)\u001b[49m\u001b[43m,\u001b[49m\n\u001b[0;32m   1665\u001b[0m \u001b[43m    \u001b[49m\u001b[43mcompression\u001b[49m\u001b[38;5;241;43m=\u001b[39;49m\u001b[38;5;28;43mself\u001b[39;49m\u001b[38;5;241;43m.\u001b[39;49m\u001b[43moptions\u001b[49m\u001b[38;5;241;43m.\u001b[39;49m\u001b[43mget\u001b[49m\u001b[43m(\u001b[49m\u001b[38;5;124;43m\"\u001b[39;49m\u001b[38;5;124;43mcompression\u001b[39;49m\u001b[38;5;124;43m\"\u001b[39;49m\u001b[43m,\u001b[49m\u001b[43m \u001b[49m\u001b[38;5;28;43;01mNone\u001b[39;49;00m\u001b[43m)\u001b[49m\u001b[43m,\u001b[49m\n\u001b[0;32m   1666\u001b[0m \u001b[43m    \u001b[49m\u001b[43mmemory_map\u001b[49m\u001b[38;5;241;43m=\u001b[39;49m\u001b[38;5;28;43mself\u001b[39;49m\u001b[38;5;241;43m.\u001b[39;49m\u001b[43moptions\u001b[49m\u001b[38;5;241;43m.\u001b[39;49m\u001b[43mget\u001b[49m\u001b[43m(\u001b[49m\u001b[38;5;124;43m\"\u001b[39;49m\u001b[38;5;124;43mmemory_map\u001b[39;49m\u001b[38;5;124;43m\"\u001b[39;49m\u001b[43m,\u001b[49m\u001b[43m \u001b[49m\u001b[38;5;28;43;01mFalse\u001b[39;49;00m\u001b[43m)\u001b[49m\u001b[43m,\u001b[49m\n\u001b[0;32m   1667\u001b[0m \u001b[43m    \u001b[49m\u001b[43mis_text\u001b[49m\u001b[38;5;241;43m=\u001b[39;49m\u001b[43mis_text\u001b[49m\u001b[43m,\u001b[49m\n\u001b[0;32m   1668\u001b[0m \u001b[43m    \u001b[49m\u001b[43merrors\u001b[49m\u001b[38;5;241;43m=\u001b[39;49m\u001b[38;5;28;43mself\u001b[39;49m\u001b[38;5;241;43m.\u001b[39;49m\u001b[43moptions\u001b[49m\u001b[38;5;241;43m.\u001b[39;49m\u001b[43mget\u001b[49m\u001b[43m(\u001b[49m\u001b[38;5;124;43m\"\u001b[39;49m\u001b[38;5;124;43mencoding_errors\u001b[39;49m\u001b[38;5;124;43m\"\u001b[39;49m\u001b[43m,\u001b[49m\u001b[43m \u001b[49m\u001b[38;5;124;43m\"\u001b[39;49m\u001b[38;5;124;43mstrict\u001b[39;49m\u001b[38;5;124;43m\"\u001b[39;49m\u001b[43m)\u001b[49m\u001b[43m,\u001b[49m\n\u001b[0;32m   1669\u001b[0m \u001b[43m    \u001b[49m\u001b[43mstorage_options\u001b[49m\u001b[38;5;241;43m=\u001b[39;49m\u001b[38;5;28;43mself\u001b[39;49m\u001b[38;5;241;43m.\u001b[39;49m\u001b[43moptions\u001b[49m\u001b[38;5;241;43m.\u001b[39;49m\u001b[43mget\u001b[49m\u001b[43m(\u001b[49m\u001b[38;5;124;43m\"\u001b[39;49m\u001b[38;5;124;43mstorage_options\u001b[39;49m\u001b[38;5;124;43m\"\u001b[39;49m\u001b[43m,\u001b[49m\u001b[43m \u001b[49m\u001b[38;5;28;43;01mNone\u001b[39;49;00m\u001b[43m)\u001b[49m\u001b[43m,\u001b[49m\n\u001b[0;32m   1670\u001b[0m \u001b[43m\u001b[49m\u001b[43m)\u001b[49m\n\u001b[0;32m   1671\u001b[0m \u001b[38;5;28;01massert\u001b[39;00m \u001b[38;5;28mself\u001b[39m\u001b[38;5;241m.\u001b[39mhandles \u001b[38;5;129;01mis\u001b[39;00m \u001b[38;5;129;01mnot\u001b[39;00m \u001b[38;5;28;01mNone\u001b[39;00m\n\u001b[0;32m   1672\u001b[0m f \u001b[38;5;241m=\u001b[39m \u001b[38;5;28mself\u001b[39m\u001b[38;5;241m.\u001b[39mhandles\u001b[38;5;241m.\u001b[39mhandle\n",
      "File \u001b[1;32mc:\\users\\52377\\appdata\\local\\programs\\python\\python38\\lib\\site-packages\\pandas\\io\\common.py:716\u001b[0m, in \u001b[0;36mget_handle\u001b[1;34m(path_or_buf, mode, encoding, compression, memory_map, is_text, errors, storage_options)\u001b[0m\n\u001b[0;32m    713\u001b[0m     codecs\u001b[38;5;241m.\u001b[39mlookup_error(errors)\n\u001b[0;32m    715\u001b[0m \u001b[38;5;66;03m# open URLs\u001b[39;00m\n\u001b[1;32m--> 716\u001b[0m ioargs \u001b[38;5;241m=\u001b[39m \u001b[43m_get_filepath_or_buffer\u001b[49m\u001b[43m(\u001b[49m\n\u001b[0;32m    717\u001b[0m \u001b[43m    \u001b[49m\u001b[43mpath_or_buf\u001b[49m\u001b[43m,\u001b[49m\n\u001b[0;32m    718\u001b[0m \u001b[43m    \u001b[49m\u001b[43mencoding\u001b[49m\u001b[38;5;241;43m=\u001b[39;49m\u001b[43mencoding\u001b[49m\u001b[43m,\u001b[49m\n\u001b[0;32m    719\u001b[0m \u001b[43m    \u001b[49m\u001b[43mcompression\u001b[49m\u001b[38;5;241;43m=\u001b[39;49m\u001b[43mcompression\u001b[49m\u001b[43m,\u001b[49m\n\u001b[0;32m    720\u001b[0m \u001b[43m    \u001b[49m\u001b[43mmode\u001b[49m\u001b[38;5;241;43m=\u001b[39;49m\u001b[43mmode\u001b[49m\u001b[43m,\u001b[49m\n\u001b[0;32m    721\u001b[0m \u001b[43m    \u001b[49m\u001b[43mstorage_options\u001b[49m\u001b[38;5;241;43m=\u001b[39;49m\u001b[43mstorage_options\u001b[49m\u001b[43m,\u001b[49m\n\u001b[0;32m    722\u001b[0m \u001b[43m\u001b[49m\u001b[43m)\u001b[49m\n\u001b[0;32m    724\u001b[0m handle \u001b[38;5;241m=\u001b[39m ioargs\u001b[38;5;241m.\u001b[39mfilepath_or_buffer\n\u001b[0;32m    725\u001b[0m handles: \u001b[38;5;28mlist\u001b[39m[BaseBuffer]\n",
      "File \u001b[1;32mc:\\users\\52377\\appdata\\local\\programs\\python\\python38\\lib\\site-packages\\pandas\\io\\common.py:368\u001b[0m, in \u001b[0;36m_get_filepath_or_buffer\u001b[1;34m(filepath_or_buffer, encoding, compression, mode, storage_options)\u001b[0m\n\u001b[0;32m    366\u001b[0m \u001b[38;5;66;03m# assuming storage_options is to be interpreted as headers\u001b[39;00m\n\u001b[0;32m    367\u001b[0m req_info \u001b[38;5;241m=\u001b[39m urllib\u001b[38;5;241m.\u001b[39mrequest\u001b[38;5;241m.\u001b[39mRequest(filepath_or_buffer, headers\u001b[38;5;241m=\u001b[39mstorage_options)\n\u001b[1;32m--> 368\u001b[0m \u001b[38;5;28;01mwith\u001b[39;00m \u001b[43murlopen\u001b[49m\u001b[43m(\u001b[49m\u001b[43mreq_info\u001b[49m\u001b[43m)\u001b[49m \u001b[38;5;28;01mas\u001b[39;00m req:\n\u001b[0;32m    369\u001b[0m     content_encoding \u001b[38;5;241m=\u001b[39m req\u001b[38;5;241m.\u001b[39mheaders\u001b[38;5;241m.\u001b[39mget(\u001b[38;5;124m\"\u001b[39m\u001b[38;5;124mContent-Encoding\u001b[39m\u001b[38;5;124m\"\u001b[39m, \u001b[38;5;28;01mNone\u001b[39;00m)\n\u001b[0;32m    370\u001b[0m     \u001b[38;5;28;01mif\u001b[39;00m content_encoding \u001b[38;5;241m==\u001b[39m \u001b[38;5;124m\"\u001b[39m\u001b[38;5;124mgzip\u001b[39m\u001b[38;5;124m\"\u001b[39m:\n\u001b[0;32m    371\u001b[0m         \u001b[38;5;66;03m# Override compression based on Content-Encoding header\u001b[39;00m\n",
      "File \u001b[1;32mc:\\users\\52377\\appdata\\local\\programs\\python\\python38\\lib\\site-packages\\pandas\\io\\common.py:270\u001b[0m, in \u001b[0;36murlopen\u001b[1;34m(*args, **kwargs)\u001b[0m\n\u001b[0;32m    264\u001b[0m \u001b[38;5;250m\u001b[39m\u001b[38;5;124;03m\"\"\"\u001b[39;00m\n\u001b[0;32m    265\u001b[0m \u001b[38;5;124;03mLazy-import wrapper for stdlib urlopen, as that imports a big chunk of\u001b[39;00m\n\u001b[0;32m    266\u001b[0m \u001b[38;5;124;03mthe stdlib.\u001b[39;00m\n\u001b[0;32m    267\u001b[0m \u001b[38;5;124;03m\"\"\"\u001b[39;00m\n\u001b[0;32m    268\u001b[0m \u001b[38;5;28;01mimport\u001b[39;00m\u001b[38;5;250m \u001b[39m\u001b[38;5;21;01murllib\u001b[39;00m\u001b[38;5;21;01m.\u001b[39;00m\u001b[38;5;21;01mrequest\u001b[39;00m\n\u001b[1;32m--> 270\u001b[0m \u001b[38;5;28;01mreturn\u001b[39;00m \u001b[43murllib\u001b[49m\u001b[38;5;241;43m.\u001b[39;49m\u001b[43mrequest\u001b[49m\u001b[38;5;241;43m.\u001b[39;49m\u001b[43murlopen\u001b[49m\u001b[43m(\u001b[49m\u001b[38;5;241;43m*\u001b[39;49m\u001b[43margs\u001b[49m\u001b[43m,\u001b[49m\u001b[43m \u001b[49m\u001b[38;5;241;43m*\u001b[39;49m\u001b[38;5;241;43m*\u001b[39;49m\u001b[43mkwargs\u001b[49m\u001b[43m)\u001b[49m\n",
      "File \u001b[1;32mc:\\users\\52377\\appdata\\local\\programs\\python\\python38\\lib\\urllib\\request.py:222\u001b[0m, in \u001b[0;36murlopen\u001b[1;34m(url, data, timeout, cafile, capath, cadefault, context)\u001b[0m\n\u001b[0;32m    220\u001b[0m \u001b[38;5;28;01melse\u001b[39;00m:\n\u001b[0;32m    221\u001b[0m     opener \u001b[38;5;241m=\u001b[39m _opener\n\u001b[1;32m--> 222\u001b[0m \u001b[38;5;28;01mreturn\u001b[39;00m \u001b[43mopener\u001b[49m\u001b[38;5;241;43m.\u001b[39;49m\u001b[43mopen\u001b[49m\u001b[43m(\u001b[49m\u001b[43murl\u001b[49m\u001b[43m,\u001b[49m\u001b[43m \u001b[49m\u001b[43mdata\u001b[49m\u001b[43m,\u001b[49m\u001b[43m \u001b[49m\u001b[43mtimeout\u001b[49m\u001b[43m)\u001b[49m\n",
      "File \u001b[1;32mc:\\users\\52377\\appdata\\local\\programs\\python\\python38\\lib\\urllib\\request.py:531\u001b[0m, in \u001b[0;36mOpenerDirector.open\u001b[1;34m(self, fullurl, data, timeout)\u001b[0m\n\u001b[0;32m    529\u001b[0m \u001b[38;5;28;01mfor\u001b[39;00m processor \u001b[38;5;129;01min\u001b[39;00m \u001b[38;5;28mself\u001b[39m\u001b[38;5;241m.\u001b[39mprocess_response\u001b[38;5;241m.\u001b[39mget(protocol, []):\n\u001b[0;32m    530\u001b[0m     meth \u001b[38;5;241m=\u001b[39m \u001b[38;5;28mgetattr\u001b[39m(processor, meth_name)\n\u001b[1;32m--> 531\u001b[0m     response \u001b[38;5;241m=\u001b[39m \u001b[43mmeth\u001b[49m\u001b[43m(\u001b[49m\u001b[43mreq\u001b[49m\u001b[43m,\u001b[49m\u001b[43m \u001b[49m\u001b[43mresponse\u001b[49m\u001b[43m)\u001b[49m\n\u001b[0;32m    533\u001b[0m \u001b[38;5;28;01mreturn\u001b[39;00m response\n",
      "File \u001b[1;32mc:\\users\\52377\\appdata\\local\\programs\\python\\python38\\lib\\urllib\\request.py:640\u001b[0m, in \u001b[0;36mHTTPErrorProcessor.http_response\u001b[1;34m(self, request, response)\u001b[0m\n\u001b[0;32m    637\u001b[0m \u001b[38;5;66;03m# According to RFC 2616, \"2xx\" code indicates that the client's\u001b[39;00m\n\u001b[0;32m    638\u001b[0m \u001b[38;5;66;03m# request was successfully received, understood, and accepted.\u001b[39;00m\n\u001b[0;32m    639\u001b[0m \u001b[38;5;28;01mif\u001b[39;00m \u001b[38;5;129;01mnot\u001b[39;00m (\u001b[38;5;241m200\u001b[39m \u001b[38;5;241m<\u001b[39m\u001b[38;5;241m=\u001b[39m code \u001b[38;5;241m<\u001b[39m \u001b[38;5;241m300\u001b[39m):\n\u001b[1;32m--> 640\u001b[0m     response \u001b[38;5;241m=\u001b[39m \u001b[38;5;28;43mself\u001b[39;49m\u001b[38;5;241;43m.\u001b[39;49m\u001b[43mparent\u001b[49m\u001b[38;5;241;43m.\u001b[39;49m\u001b[43merror\u001b[49m\u001b[43m(\u001b[49m\n\u001b[0;32m    641\u001b[0m \u001b[43m        \u001b[49m\u001b[38;5;124;43m'\u001b[39;49m\u001b[38;5;124;43mhttp\u001b[39;49m\u001b[38;5;124;43m'\u001b[39;49m\u001b[43m,\u001b[49m\u001b[43m \u001b[49m\u001b[43mrequest\u001b[49m\u001b[43m,\u001b[49m\u001b[43m \u001b[49m\u001b[43mresponse\u001b[49m\u001b[43m,\u001b[49m\u001b[43m \u001b[49m\u001b[43mcode\u001b[49m\u001b[43m,\u001b[49m\u001b[43m \u001b[49m\u001b[43mmsg\u001b[49m\u001b[43m,\u001b[49m\u001b[43m \u001b[49m\u001b[43mhdrs\u001b[49m\u001b[43m)\u001b[49m\n\u001b[0;32m    643\u001b[0m \u001b[38;5;28;01mreturn\u001b[39;00m response\n",
      "File \u001b[1;32mc:\\users\\52377\\appdata\\local\\programs\\python\\python38\\lib\\urllib\\request.py:569\u001b[0m, in \u001b[0;36mOpenerDirector.error\u001b[1;34m(self, proto, *args)\u001b[0m\n\u001b[0;32m    567\u001b[0m \u001b[38;5;28;01mif\u001b[39;00m http_err:\n\u001b[0;32m    568\u001b[0m     args \u001b[38;5;241m=\u001b[39m (\u001b[38;5;28mdict\u001b[39m, \u001b[38;5;124m'\u001b[39m\u001b[38;5;124mdefault\u001b[39m\u001b[38;5;124m'\u001b[39m, \u001b[38;5;124m'\u001b[39m\u001b[38;5;124mhttp_error_default\u001b[39m\u001b[38;5;124m'\u001b[39m) \u001b[38;5;241m+\u001b[39m orig_args\n\u001b[1;32m--> 569\u001b[0m     \u001b[38;5;28;01mreturn\u001b[39;00m \u001b[38;5;28;43mself\u001b[39;49m\u001b[38;5;241;43m.\u001b[39;49m\u001b[43m_call_chain\u001b[49m\u001b[43m(\u001b[49m\u001b[38;5;241;43m*\u001b[39;49m\u001b[43margs\u001b[49m\u001b[43m)\u001b[49m\n",
      "File \u001b[1;32mc:\\users\\52377\\appdata\\local\\programs\\python\\python38\\lib\\urllib\\request.py:502\u001b[0m, in \u001b[0;36mOpenerDirector._call_chain\u001b[1;34m(self, chain, kind, meth_name, *args)\u001b[0m\n\u001b[0;32m    500\u001b[0m \u001b[38;5;28;01mfor\u001b[39;00m handler \u001b[38;5;129;01min\u001b[39;00m handlers:\n\u001b[0;32m    501\u001b[0m     func \u001b[38;5;241m=\u001b[39m \u001b[38;5;28mgetattr\u001b[39m(handler, meth_name)\n\u001b[1;32m--> 502\u001b[0m     result \u001b[38;5;241m=\u001b[39m \u001b[43mfunc\u001b[49m\u001b[43m(\u001b[49m\u001b[38;5;241;43m*\u001b[39;49m\u001b[43margs\u001b[49m\u001b[43m)\u001b[49m\n\u001b[0;32m    503\u001b[0m     \u001b[38;5;28;01mif\u001b[39;00m result \u001b[38;5;129;01mis\u001b[39;00m \u001b[38;5;129;01mnot\u001b[39;00m \u001b[38;5;28;01mNone\u001b[39;00m:\n\u001b[0;32m    504\u001b[0m         \u001b[38;5;28;01mreturn\u001b[39;00m result\n",
      "File \u001b[1;32mc:\\users\\52377\\appdata\\local\\programs\\python\\python38\\lib\\urllib\\request.py:649\u001b[0m, in \u001b[0;36mHTTPDefaultErrorHandler.http_error_default\u001b[1;34m(self, req, fp, code, msg, hdrs)\u001b[0m\n\u001b[0;32m    648\u001b[0m \u001b[38;5;28;01mdef\u001b[39;00m\u001b[38;5;250m \u001b[39m\u001b[38;5;21mhttp_error_default\u001b[39m(\u001b[38;5;28mself\u001b[39m, req, fp, code, msg, hdrs):\n\u001b[1;32m--> 649\u001b[0m     \u001b[38;5;28;01mraise\u001b[39;00m HTTPError(req\u001b[38;5;241m.\u001b[39mfull_url, code, msg, hdrs, fp)\n",
      "\u001b[1;31mHTTPError\u001b[0m: HTTP Error 404: Not Found"
     ]
    }
   ],
   "source": [
    "url_mof = \"https://raw.githubusercontent.com/zzhenglab/ai4chem/main/book/_data/mof_yield_dataset.csv\"\n",
    "mof = pd.read_csv(url_mof)\n",
    "print(\"MOF rows x cols:\", mof.shape)\n",
    "mof.head(3)"
   ]
  },
  {
   "cell_type": "markdown",
   "id": "ecb4f3ec",
   "metadata": {},
   "source": [
    "Compute descriptors for the 10 linkers and merge."
   ]
  },
  {
   "cell_type": "code",
   "execution_count": null,
   "id": "23102572",
   "metadata": {},
   "outputs": [],
   "source": [
    "if RD:\n",
    "    linkers = pd.DataFrame({\"linker_smiles\": sorted(mof[\"linker_smiles\"].unique())})\n",
    "    linkers_desc = linkers[\"linker_smiles\"].apply(calc_descriptors)\n",
    "    linkers_full = pd.concat([linkers, linkers_desc], axis=1)\n",
    "    mof_full = mof.merge(linkers_full, on=\"linker_smiles\", how=\"left\")\n",
    "else:\n",
    "    mof_full = mof.copy()\n",
    "    for c in [\"MolWt\",\"LogP\",\"TPSA\",\"NumRings\"]:\n",
    "        mof_full[c] = np.nan\n",
    "\n",
    "mof_full.describe(include=\"all\").T.head(12)"
   ]
  },
  {
   "cell_type": "markdown",
   "id": "f86fd331",
   "metadata": {},
   "source": [
    "### 5.8 Explore MOF inputs and outputs\n",
    "\n",
    "We plot histograms for the continuous inputs and the yield distribution."
   ]
  },
  {
   "cell_type": "code",
   "execution_count": null,
   "id": "c1f3b88d",
   "metadata": {},
   "outputs": [],
   "source": [
    "fig, axes = plt.subplots(2,3, figsize=(9,5))\n",
    "ax = axes.ravel()\n",
    "cols_cont = [\"temperature\",\"time_h\",\"concentration_M\",\"yield\"]\n",
    "labels = [\"Temperature (°C)\",\"Time (h)\",\"Concentration (M)\",\"Yield (%)\"]\n",
    "for i, (c, lab) in enumerate(zip(cols_cont, labels)):\n",
    "    ax[i].hist(mof_full[c], bins=20)\n",
    "    ax[i].set_title(lab)\n",
    "ax[3].axis(\"off\"); ax[5].axis(\"off\")\n",
    "plt.tight_layout(); plt.show()\n",
    "\n",
    "print(\"Unique solvents:\", mof_full[\"solvent_DMF\"].unique().tolist())\n",
    "print(\"Unique linkers:\", len(mof_full[\"linker_smiles\"].unique()))"
   ]
  },
  {
   "cell_type": "markdown",
   "id": "f2dc778a",
   "metadata": {},
   "source": [
    "Observations for students:\n",
    "\n",
    "- The grid is regular. This is a full factorial design with 10 temperatures, 10 times, 10 concentrations, 2 solvents, and 10 linkers.\n",
    "- Yield distribution can be unimodal or multimodal depending on the linkers. We will look at slices next.\n",
    "\n",
    "### 5.9 Heatmaps of yield across conditions\n",
    "\n",
    "Pick a linker, fix a concentration, and compare temperature vs time as a 2D heatmap. We show one heatmap for water and another for DMF."
   ]
  },
  {
   "cell_type": "code",
   "execution_count": null,
   "id": "f625e968",
   "metadata": {},
   "outputs": [],
   "source": [
    "def yield_heatmaps_for_linker(smiles, conc=0.05):\n",
    "    dfL = mof_full.query(\"linker_smiles == @smiles and concentration_M == @conc\")\n",
    "    # pivot by solvent then temperature vs time\n",
    "    Ts = sorted(dfL[\"temperature\"].unique())\n",
    "    Hs = sorted(dfL[\"time_h\"].unique())\n",
    "    fig, axes = plt.subplots(1,2, figsize=(9,3.6), sharex=True, sharey=True)\n",
    "    for j, solv in enumerate([0,1]):\n",
    "        sub = dfL.query(\"solvent_DMF == @solv\").pivot(index=\"temperature\", columns=\"time_h\", values=\"yield\")\n",
    "        im = axes[j].imshow(sub.values, origin=\"lower\", aspect=\"auto\")\n",
    "        axes[j].set_title(f\"{'H2O' if solv==0 else 'DMF'}\")\n",
    "        axes[j].set_xticks(range(len(Hs))); axes[j].set_xticklabels(Hs, rotation=45)\n",
    "        axes[j].set_yticks(range(len(Ts))); axes[j].set_yticklabels(Ts)\n",
    "        axes[j].set_xlabel(\"time_h\")\n",
    "        if j == 0:\n",
    "            axes[j].set_ylabel(\"temperature\")\n",
    "    fig.colorbar(im, ax=axes.ravel().tolist(), label=\"yield\")\n",
    "    plt.suptitle(f\"Yield heatmaps at concentration={conc} for linker:\\n{smiles}\", y=1.05)\n",
    "    plt.tight_layout(); plt.show()\n",
    "\n",
    "example_linker = mof_full[\"linker_smiles\"].iloc[0]\n",
    "yield_heatmaps_for_linker(example_linker, conc=0.05)"
   ]
  },
  {
   "cell_type": "markdown",
   "id": "76c0d919",
   "metadata": {},
   "source": [
    "Narrative:\n",
    "\n",
    "- The gradient of color across temperature or time suggests where to explore next.\n",
    "- You can imagine a simple decision pathway for screening: move toward directions that increase the gradient.\n",
    "\n",
    "### 5.10 A simple gradient heuristic for screening\n",
    "\n",
    "We simulate a greedy path: start at a random setting and move to a neighbor with higher yield until a local maximum."
   ]
  },
  {
   "cell_type": "code",
   "execution_count": null,
   "id": "ae5830b9",
   "metadata": {},
   "outputs": [],
   "source": [
    "def greedy_path(dfL):\n",
    "    # assumes single linker and single solvent for simplicity\n",
    "    Tvals = sorted(dfL[\"temperature\"].unique())\n",
    "    Hvals = sorted(dfL[\"time_h\"].unique())\n",
    "    Cvals = sorted(dfL[\"concentration_M\"].unique())\n",
    "    # pick solvent and concentration\n",
    "    solv = dfL[\"solvent_DMF\"].iloc[0]\n",
    "    conc = Cvals[len(Cvals)//2]\n",
    "    grid = dfL.query(\"solvent_DMF == @solv and concentration_M == @conc]\")  # will fix below if typo"
   ]
  },
  {
   "cell_type": "code",
   "execution_count": null,
   "id": "8666a1b9",
   "metadata": {},
   "outputs": [],
   "source": [
    "# Fix small bracket typo in the function above and implement fully\n",
    "def greedy_path(dfL):\n",
    "    Tvals = sorted(dfL[\"temperature\"].unique())\n",
    "    Hvals = sorted(dfL[\"time_h\"].unique())\n",
    "    Cvals = sorted(dfL[\"concentration_M\"].unique())\n",
    "    solv = dfL[\"solvent_DMF\"].iloc[0]\n",
    "    conc = Cvals[len(Cvals)//2]\n",
    "    grid = dfL.query(\"solvent_DMF == @solv and concentration_M == @conc\")\n",
    "    Y = grid.pivot(index=\"temperature\", columns=\"time_h\", values=\"yield\")\n",
    "    Ti, Hi = np.random.randint(len(Tvals)), np.random.randint(len(Hvals))\n",
    "    path = [(Tvals[Ti], Hvals[Hi], float(Y.iloc[Ti, Hi]))]\n",
    "    improved = True\n",
    "    while improved:\n",
    "        improved = False\n",
    "        best = path[-1]\n",
    "        Ti0, Hi0 = Tvals.index(best[0]), Hvals.index(best[1])\n",
    "        for dT, dH in [(1,0), (-1,0), (0,1), (0,-1)]:\n",
    "            Ti1, Hi1 = Ti0 + dT, Hi0 + dH\n",
    "            if 0 <= Ti1 < len(Tvals) and 0 <= Hi1 < len(Hvals):\n",
    "                y1 = float(Y.iloc[Ti1, Hi1])\n",
    "                if y1 > best[2]:\n",
    "                    best = (Tvals[Ti1], Hvals[Hi1], y1)\n",
    "                    improved = True\n",
    "        if improved:\n",
    "            path.append(best)\n",
    "    return path, Y\n",
    "\n",
    "np.random.seed(0)\n",
    "dfL = mof_full.query(\"linker_smiles == @example_linker and solvent_DMF == 0\")\n",
    "path, Ygrid = greedy_path(dfL)\n",
    "\n",
    "print(\"Path length:\", len(path))\n",
    "print(\"Path:\", path[:5], \" ...\")"
   ]
  },
  {
   "cell_type": "markdown",
   "id": "b3973df8",
   "metadata": {},
   "source": [
    "Plot the path on top of the heatmap."
   ]
  },
  {
   "cell_type": "code",
   "execution_count": null,
   "id": "c7090d7d",
   "metadata": {},
   "outputs": [],
   "source": [
    "plt.figure(figsize=(5.8,4.6))\n",
    "plt.imshow(Ygrid.values, origin=\"lower\", aspect=\"auto\")\n",
    "Ts = sorted(dfL[\"temperature\"].unique())\n",
    "Hs = sorted(dfL[\"time_h\"].unique())\n",
    "plt.xticks(range(len(Hs)), Hs, rotation=45)\n",
    "plt.yticks(range(len(Ts)), Ts)\n",
    "plt.xlabel(\"time_h\"); plt.ylabel(\"temperature\")\n",
    "plt.colorbar(label=\"yield\")\n",
    "# Overlay path\n",
    "xy = [(Hs.index(h), Ts.index(t)) for t, h, _ in path]\n",
    "xs, ys = zip(*xy)\n",
    "plt.plot(xs, ys, marker=\"o\", lw=2)\n",
    "plt.title(\"Greedy path toward higher yield\")\n",
    "plt.tight_layout(); plt.show()"
   ]
  },
  {
   "cell_type": "markdown",
   "id": "7f835d7e",
   "metadata": {},
   "source": [
    "```{admonition} Discussion\n",
    "A greedy path is a baseline strategy. Real screening uses smarter designs that balance exploration and exploitation. Still, this tiny script shows how to visualize a decision pathway on a grid.\n",
    "```\n",
    "\n",
    "### 5.11 PCA on MOF experiments\n",
    "\n",
    "We can apply PCA to the MOF dataset by combining process variables with linker descriptors. This produces a mixed feature space."
   ]
  },
  {
   "cell_type": "code",
   "execution_count": null,
   "id": "a0bae2d3",
   "metadata": {},
   "outputs": [],
   "source": [
    "feat_cols = [\"temperature\",\"time_h\",\"concentration_M\",\"solvent_DMF\",\"MolWt\",\"LogP\",\"TPSA\",\"NumRings\"]\n",
    "mofX = mof_full[feat_cols].copy()\n",
    "mofX_s = StandardScaler().fit_transform(mofX.fillna(0.0))  # if RDKit not present, the descriptor columns are NaN -> set to 0\n",
    "\n",
    "pca_mof = PCA(n_components=2, random_state=0).fit(mofX_s)\n",
    "Zm = pca_mof.transform(mofX_s)\n",
    "\n",
    "plt.figure(figsize=(5.2,4.6))\n",
    "plt.scatter(Zm[:,0], Zm[:,1], s=6, alpha=0.5)\n",
    "plt.title(\"MOF experiments in 2D PC space\")\n",
    "plt.xlabel(\"PC1\"); plt.ylabel(\"PC2\")\n",
    "plt.gca().set_aspect(\"equal\", adjustable=\"box\")\n",
    "plt.show()\n",
    "\n",
    "print(\"MOF EVR:\", np.round(pca_mof.explained_variance_ratio_, 3))\n",
    "print(\"Top loadings per PC:\\n\", pd.DataFrame(pca_mof.components_.T, index=feat_cols, columns=[\"PC1\",\"PC2\"]).round(3))"
   ]
  },
  {
   "cell_type": "markdown",
   "id": "18f7d855",
   "metadata": {},
   "source": [
    "We can color by yield to see if the embedding separates high yield regions."
   ]
  },
  {
   "cell_type": "code",
   "execution_count": null,
   "id": "5e3d0710",
   "metadata": {},
   "outputs": [],
   "source": [
    "cmap_vals = mof_full[\"yield\"].values\n",
    "plt.figure(figsize=(5.4,4.6))\n",
    "sc = plt.scatter(Zm[:,0], Zm[:,1], s=8, c=cmap_vals, alpha=0.7)\n",
    "plt.colorbar(sc, label=\"yield\")\n",
    "plt.title(\"MOF PC map colored by yield\")\n",
    "plt.xlabel(\"PC1\"); plt.ylabel(\"PC2\")\n",
    "plt.gca().set_aspect(\"equal\", adjustable=\"box\")\n",
    "plt.show()"
   ]
  },
  {
   "cell_type": "markdown",
   "id": "2bb65dd3",
   "metadata": {},
   "source": [
    "### 5.12 Which inputs correlate most with yield\n",
    "\n",
    "We compute simple Pearson correlations between inputs and yield. This is not a model, just a direction finder."
   ]
  },
  {
   "cell_type": "code",
   "execution_count": null,
   "id": "1a0b725c",
   "metadata": {},
   "outputs": [],
   "source": [
    "corr = mof_full[feat_cols + [\"yield\"]].corr(numeric_only=True)[\"yield\"].sort_values(ascending=False)\n",
    "corr"
   ]
  },
  {
   "cell_type": "markdown",
   "id": "d2588fd8",
   "metadata": {},
   "source": [
    "Interpretation:\n",
    "\n",
    "- Positive correlation with temperature suggests hotter conditions increase yield for this dataset.\n",
    "- Check how solvent_DMF correlates. If positive, DMF might be more favorable on average.\n",
    "\n",
    "---\n",
    "\n",
    "## 6. Nonlinear embeddings: t-SNE and UMAP\n",
    "\n",
    "Linear PCA often works, but some manifolds curve. t-SNE and UMAP aim to keep local neighborhoods together in 2D. We will use 1024-bit fingerprints as well.\n",
    "\n",
    "### 6.1 Prepare features for embedding"
   ]
  },
  {
   "cell_type": "code",
   "execution_count": null,
   "id": "55343c70",
   "metadata": {},
   "outputs": [],
   "source": [
    "if X_fp is not None:\n",
    "    X_embed = X_fp.astype(float)\n",
    "    feature_kind = \"Morgan-1024\"\n",
    "else:\n",
    "    X_embed = Xs\n",
    "    feature_kind = \"4-desc (scaled)\"\n",
    "\n",
    "print(\"Embedding on:\", feature_kind, \"| shape:\", X_embed.shape)"
   ]
  },
  {
   "cell_type": "markdown",
   "id": "ac441c6f",
   "metadata": {},
   "source": [
    "### 6.2 t-SNE with two perplexities\n",
    "\n",
    "Perplexity sets the effective neighbor count. Small values highlight very local neighborhoods. Larger values make broader groups."
   ]
  },
  {
   "cell_type": "code",
   "execution_count": null,
   "id": "bc372cde",
   "metadata": {},
   "outputs": [],
   "source": [
    "perps = [10, 30]\n",
    "embeds = []\n",
    "for perp in perps:\n",
    "    tsne = TSNE(n_components=2, perplexity=perp, init=\"random\", learning_rate=\"auto\", random_state=0)\n",
    "    Z_tsne = tsne.fit_transform(X_embed)\n",
    "    embeds.append((perp, Z_tsne))\n",
    "\n",
    "# Plot\n",
    "fig, axes = plt.subplots(1, len(perps), figsize=(10,4), sharex=False, sharey=False)\n",
    "for ax, (perp, Zt) in zip(axes, embeds):\n",
    "    c = np.where(y_toxic[:len(Zt)]==1, \"crimson\",\n",
    "        np.where(y_toxic[:len(Zt)]==0, \"steelblue\", \"gray\"))\n",
    "    ax.scatter(Zt[:,0], Zt[:,1], s=8, c=c, alpha=0.8)\n",
    "    ax.set_title(f\"t-SNE perplexity={perp}\")\n",
    "    ax.set_xticks([]); ax.set_yticks([])\n",
    "plt.tight_layout()\n",
    "plt.show()"
   ]
  },
  {
   "cell_type": "markdown",
   "id": "a93c6dc3",
   "metadata": {},
   "source": [
    "### 6.3 UMAP"
   ]
  },
  {
   "cell_type": "code",
   "execution_count": null,
   "id": "e5a2bb58",
   "metadata": {},
   "outputs": [],
   "source": [
    "try:\n",
    "    import umap.umap_ as umap\n",
    "    um = umap.UMAP(n_neighbors=15, min_dist=0.1, random_state=0)\n",
    "    Z_umap = um.fit_transform(X_embed)\n",
    "    plt.figure(figsize=(4.8,4.0))\n",
    "    c = np.where(y_toxic[:len(Z_umap)]==1, \"crimson\",\n",
    "        np.where(y_toxic[:len(Z_umap)]==0, \"steelblue\", \"gray\"))\n",
    "    plt.scatter(Z_umap[:,0], Z_umap[:,1], s=8, c=c, alpha=0.8)\n",
    "    plt.xticks([]); plt.yticks([])\n",
    "    plt.title(\"UMAP 2D\")\n",
    "    plt.show()\n",
    "except Exception as e:\n",
    "    print(\"UMAP is not installed in this environment. Skipping UMAP demo.\")"
   ]
  },
  {
   "cell_type": "markdown",
   "id": "f949e137",
   "metadata": {},
   "source": [
    "```{admonition} Practical notes\n",
    "- t-SNE preserves local neighborhoods but does not preserve global distances or cluster sizes.\n",
    "- UMAP often runs faster on large sets and can preserve more of the global shape.\n",
    "- Random seeds matter. Always record `random_state` for reproducibility.\n",
    "```\n",
    "\n",
    "```{admonition} ⏰ Exercise 6\n",
    "1. Try t-SNE with `perplexity=50`. Compare the layout to 10 and 30.\n",
    "2. For UMAP, change `n_neighbors` to 5 and 30. What changes in the map?\n",
    "```\n",
    "\n",
    "### 6.4 Metric choices for embeddings\n",
    "\n",
    "Both t-SNE and UMAP accept a metric. For fingerprints, try Jaccard in UMAP."
   ]
  },
  {
   "cell_type": "code",
   "execution_count": null,
   "id": "48d665d6",
   "metadata": {},
   "outputs": [],
   "source": [
    "if X_fp is not None:\n",
    "    try:\n",
    "        um_j = umap.UMAP(n_neighbors=15, min_dist=0.05, metric=\"jaccard\", random_state=0)\n",
    "        Zj = um_j.fit_transform(X_fp.astype(bool))\n",
    "        plt.figure(figsize=(4.8,4.0))\n",
    "        plt.scatter(Zj[:,0], Zj[:,1], s=6, alpha=0.7)\n",
    "        plt.title(\"UMAP with Jaccard on fingerprints\")\n",
    "        plt.xticks([]); plt.yticks([])\n",
    "        plt.show()\n",
    "    except Exception as e:\n",
    "        print(\"UMAP Jaccard failed:\", e)"
   ]
  },
  {
   "cell_type": "markdown",
   "id": "131dd63c",
   "metadata": {},
   "source": [
    "Narrative:\n",
    "\n",
    "- Jaccard on boolean arrays aligns with Tanimoto similarity. It often produces cleaner neighborhoods for bit vectors.\n",
    "- For descriptor matrices, Euclidean or cosine are common.\n",
    "\n",
    "### 6.5 Stability check with multiple runs\n",
    "\n",
    "Run t-SNE twice with different seeds and compare if large groups are stable."
   ]
  },
  {
   "cell_type": "code",
   "execution_count": null,
   "id": "09373a32",
   "metadata": {},
   "outputs": [],
   "source": [
    "if X_embed is not None:\n",
    "    tsne_a = TSNE(n_components=2, perplexity=30, init=\"random\", learning_rate=\"auto\", random_state=0)\n",
    "    tsne_b = TSNE(n_components=2, perplexity=30, init=\"random\", learning_rate=\"auto\", random_state=42)\n",
    "    Za = tsne_a.fit_transform(X_embed)\n",
    "    Zb = tsne_b.fit_transform(X_embed)\n",
    "\n",
    "    fig, axes = plt.subplots(1,2, figsize=(9.6,4))\n",
    "    axes[0].scatter(Za[:,0], Za[:,1], s=6, alpha=0.7); axes[0].set_title(\"Seed 0\")\n",
    "    axes[1].scatter(Zb[:,0], Zb[:,1], s=6, alpha=0.7); axes[1].set_title(\"Seed 42\")\n",
    "    for ax in axes:\n",
    "        ax.set_xticks([]); ax.set_yticks([])\n",
    "    plt.tight_layout(); plt.show()"
   ]
  },
  {
   "cell_type": "markdown",
   "id": "86d2a0ca",
   "metadata": {},
   "source": [
    "Discussion:\n",
    "\n",
    "- The layout can rotate or reflect. That is fine. What you want is preservation of which points are near each other.\n",
    "\n",
    "### 6.6 Label a few SMILES on the embedding\n",
    "\n",
    "We will choose three molecules and annotate their positions on UMAP or t-SNE."
   ]
  },
  {
   "cell_type": "code",
   "execution_count": null,
   "id": "47675d77",
   "metadata": {},
   "outputs": [],
   "source": [
    "Zplot = Z_umap if ('Z_umap' in globals()) else embeds[1][1]  # prefer UMAP if available\n",
    "np.random.seed(1)\n",
    "idx_sel = np.random.choice(len(Zplot), size=min(5, len(Zplot)), replace=False)\n",
    "plt.figure(figsize=(5.4,4.6))\n",
    "plt.scatter(Zplot[:,0], Zplot[:,1], s=6, alpha=0.6, color=\"gray\")\n",
    "for i in idx_sel:\n",
    "    plt.scatter(Zplot[i,0], Zplot[i,1], s=30)\n",
    "    smi = df.loc[mask_small, \"SMILES\"].iloc[i]\n",
    "    plt.text(Zplot[i,0]+0.5, Zplot[i,1]+0.5, smi[:12]+\"...\", fontsize=7)\n",
    "plt.title(\"Embedding with a few SMILES labels\")\n",
    "plt.xticks([]); plt.yticks([])\n",
    "plt.tight_layout(); plt.show()"
   ]
  },
  {
   "cell_type": "markdown",
   "id": "07e86e94",
   "metadata": {},
   "source": [
    "### 6.7 Nearest neighbors under different metrics\n",
    "\n",
    "Compare the 5 nearest neighbors of a chosen molecule using Euclidean on descriptors and Tanimoto on fingerprints."
   ]
  },
  {
   "cell_type": "code",
   "execution_count": null,
   "id": "a6de1d7b",
   "metadata": {},
   "outputs": [],
   "source": [
    "from sklearn.neighbors import NearestNeighbors\n",
    "\n",
    "if RD and X_fp is not None:\n",
    "    idx0 = 0\n",
    "    # Euclidean on Xs\n",
    "    nn_euc = NearestNeighbors(n_neighbors=6, metric=\"euclidean\").fit(Xs)\n",
    "    dist_euc, ind_euc = nn_euc.kneighbors(Xs[idx0:idx0+1])\n",
    "    # Jaccard on binary fingerprints\n",
    "    nn_jac = NearestNeighbors(n_neighbors=6, metric=\"jaccard\").fit(X_fp.astype(bool))\n",
    "    dist_jac, ind_jac = nn_jac.kneighbors(X_fp[idx0:idx0+1].astype(bool))\n",
    "\n",
    "    print(\"Euclidean neighbors (indices):\", ind_euc[0].tolist())\n",
    "    print(\"Jaccard neighbors (indices):  \", ind_jac[0].tolist())\n",
    "    print(\"SMILES for Jaccard neighbors:\")\n",
    "    display(df.loc[mask_small, \"SMILES\"].iloc[ind_jac[0]].reset_index(drop=True).to_frame(\"SMILES\"))"
   ]
  },
  {
   "cell_type": "markdown",
   "id": "c5824de3",
   "metadata": {},
   "source": [
    "Observation:\n",
    "\n",
    "- Different metrics retrieve different neighbors because they emphasize different aspects of similarity.\n",
    "\n",
    "### 6.8 MOF dataset with UMAP\n",
    "\n",
    "We can embed MOF experiments using UMAP to mix process variables and linker descriptors."
   ]
  },
  {
   "cell_type": "code",
   "execution_count": null,
   "id": "b6f5b62b",
   "metadata": {},
   "outputs": [],
   "source": [
    "mX = mof_full[feat_cols].fillna(0.0).values\n",
    "mX_s = StandardScaler().fit_transform(mX)\n",
    "try:\n",
    "    um_m = umap.UMAP(n_neighbors=20, min_dist=0.1, random_state=0)\n",
    "    Zm_umap = um_m.fit_transform(mX_s)\n",
    "    plt.figure(figsize=(5.6,4.6))\n",
    "    sc = plt.scatter(Zm_umap[:,0], Zm_umap[:,1], s=6, c=mof_full[\"yield\"].values, alpha=0.7)\n",
    "    plt.colorbar(sc, label=\"yield\")\n",
    "    plt.title(\"MOF UMAP colored by yield\")\n",
    "    plt.xticks([]); plt.yticks([])\n",
    "    plt.tight_layout(); plt.show()\n",
    "except Exception as e:\n",
    "    print(\"UMAP not available for MOF:\", e)"
   ]
  },
  {
   "cell_type": "markdown",
   "id": "b2de1c50",
   "metadata": {},
   "source": [
    "Interpretation:\n",
    "\n",
    "- If high yield points cluster together, a cluster-based design might help target good regions.\n",
    "- If yield gradients run across the embedding, a regression model may be more suitable than hard clusters.\n",
    "\n",
    "---\n",
    "\n",
    "## 7. Clustering with K-means\n",
    "\n",
    "K-means partitions points into K clusters by minimizing within-cluster squared distances. It works best when clusters are roughly spherical in the chosen space.\n",
    "\n",
    "Objective:\n",
    "\n",
    "$$\n",
    " \\min_{\\{\\mathcal{C}_k\\}, \\{\\mu_k\\}} \\sum_{k=1}^{K} \\sum_{x_i \\in \\mathcal{C}_k} \\lVert x_i - \\mu_k \\rVert^2.\n",
    "$$\n",
    "\n",
    "We will cluster PCA scores rather than raw descriptors. This reduces noise and helps K-means.\n",
    "\n",
    "### 7.1 Build PCA features for clustering"
   ]
  },
  {
   "cell_type": "code",
   "execution_count": null,
   "id": "4e7fc917",
   "metadata": {},
   "outputs": [],
   "source": [
    "pca10 = PCA(n_components=min(10, Xs.shape[1]), random_state=0).fit(Xs)\n",
    "Z10 = pca10.transform(Xs)\n",
    "print(\"Z10 shape:\", Z10.shape, \"  EVR cum:\", np.round(pca10.explained_variance_ratio_.cumsum()[-1], 3))"
   ]
  },
  {
   "cell_type": "markdown",
   "id": "5cdbd84c",
   "metadata": {},
   "source": [
    "### 7.2 Choose K: elbow and silhouette"
   ]
  },
  {
   "cell_type": "code",
   "execution_count": null,
   "id": "2c8d57e7",
   "metadata": {},
   "outputs": [],
   "source": [
    "Ks = range(2, 9)\n",
    "inertia, sil = [], []\n",
    "for K in Ks:\n",
    "    km = KMeans(n_clusters=K, n_init=20, random_state=0).fit(Z10)\n",
    "    inertia.append(km.inertia_)\n",
    "    sil.append(silhouette_score(Z10, km.labels_))\n",
    "\n",
    "fig, ax = plt.subplots(1,2, figsize=(9,3.2))\n",
    "ax[0].plot(list(Ks), inertia, marker=\"o\"); ax[0].set_xlabel(\"K\"); ax[0].set_ylabel(\"Inertia\"); ax[0].set_title(\"Elbow\")\n",
    "ax[1].plot(list(Ks), sil, marker=\"o\"); ax[1].set_xlabel(\"K\"); ax[1].set_ylabel(\"Silhouette\"); ax[1].set_title(\"Silhouette vs K\")\n",
    "plt.tight_layout(); plt.show()"
   ]
  },
  {
   "cell_type": "markdown",
   "id": "e73c867d",
   "metadata": {},
   "source": [
    "### 7.3 Fit a K and visualize on PC1–PC2"
   ]
  },
  {
   "cell_type": "code",
   "execution_count": null,
   "id": "73dedaa9",
   "metadata": {},
   "outputs": [],
   "source": [
    "K_best = 3\n",
    "km = KMeans(n_clusters=K_best, n_init=50, random_state=0).fit(Z10)\n",
    "labs = km.labels_\n",
    "sc2 = Z10[:, :2]\n",
    "\n",
    "plt.figure(figsize=(4.8,4.4))\n",
    "plt.scatter(sc2[:,0], sc2[:,1], s=12, c=labs, alpha=0.8)\n",
    "plt.xlabel(\"PC1\"); plt.ylabel(\"PC2\"); plt.title(f\"K-means on PCA (K={K_best})\")\n",
    "plt.gca().set_aspect(\"equal\", adjustable=\"box\")\n",
    "plt.show()"
   ]
  },
  {
   "cell_type": "markdown",
   "id": "211530e4",
   "metadata": {},
   "source": [
    "### 7.4 Interpret clusters with loadings\n",
    "\n",
    "We can see which original descriptors drive each cluster by comparing cluster means in the original standardized space."
   ]
  },
  {
   "cell_type": "code",
   "execution_count": null,
   "id": "f7018fff",
   "metadata": {},
   "outputs": [],
   "source": [
    "df_feat = pd.DataFrame(Xs, columns=[\"MolWt\",\"LogP\",\"TPSA\",\"NumRings\"])\n",
    "df_feat[\"cluster\"] = labs\n",
    "means = df_feat.groupby(\"cluster\").mean()\n",
    "means"
   ]
  },
  {
   "cell_type": "markdown",
   "id": "5431ba61",
   "metadata": {},
   "source": [
    "```{admonition} Reading cluster means\n",
    "Large positive mean for a descriptor means that cluster has higher than average values for that feature in standardized units.\n",
    "```\n",
    "\n",
    "```{admonition} ⏰ Exercise 7\n",
    "1. Compute the silhouette score for K=2,3,4 and report which is largest.\n",
    "2. Change the space for K-means to the **t-SNE** coordinates and try K=3. Does the silhouette improve or get worse? Why might that happen?\n",
    "```\n",
    "\n",
    "### 7.5 Silhouette plot per sample\n",
    "\n",
    "A silhouette plot lets you see compactness per cluster. Higher is better. We sort samples within each cluster by their silhouette value."
   ]
  },
  {
   "cell_type": "code",
   "execution_count": null,
   "id": "2342900d",
   "metadata": {},
   "outputs": [],
   "source": [
    "svals = silhouette_samples(Z10, labs)\n",
    "y_lower = 10\n",
    "plt.figure(figsize=(6.6,4.2))\n",
    "for k in sorted(np.unique(labs)):\n",
    "    sv = svals[labs==k]\n",
    "    sv.sort()\n",
    "    y_upper = y_lower + len(sv)\n",
    "    plt.fill_betweenx(np.arange(y_lower, y_upper), 0, sv, alpha=0.6)\n",
    "    plt.text(-0.05, y_lower + 0.5*len(sv), str(k))\n",
    "    y_lower = y_upper + 10\n",
    "plt.axvline(np.mean(svals), color=\"k\", ls=\"--\")\n",
    "plt.xlabel(\"silhouette value\"); plt.ylabel(\"sample index in cluster\")\n",
    "plt.title(\"Silhouette plot K=3\")\n",
    "plt.tight_layout(); plt.show()"
   ]
  },
  {
   "cell_type": "markdown",
   "id": "f94093db",
   "metadata": {},
   "source": [
    "### 7.6 Link cluster labels back to SMILES\n",
    "\n",
    "We display a small table per cluster showing a few example SMILES. This connects clusters to chemistry."
   ]
  },
  {
   "cell_type": "code",
   "execution_count": null,
   "id": "94d8ed59",
   "metadata": {},
   "outputs": [],
   "source": [
    "df_view = pd.DataFrame({\n",
    "    \"SMILES\": df.loc[mask_small, \"SMILES\"].values,\n",
    "    \"cluster\": labs\n",
    "})\n",
    "for k in sorted(df_view[\"cluster\"].unique()):\n",
    "    print(f\"\\nCluster {k} examples:\")\n",
    "    display(df_view.query(\"cluster == @k\").head(5))"
   ]
  },
  {
   "cell_type": "markdown",
   "id": "e144c587",
   "metadata": {},
   "source": [
    "### 7.7 K-means on MOF experiments\n",
    "\n",
    "Cluster the MOF PCA space and color by cluster, then inspect yield per cluster."
   ]
  },
  {
   "cell_type": "code",
   "execution_count": null,
   "id": "c7454132",
   "metadata": {},
   "outputs": [],
   "source": [
    "km_m = KMeans(n_clusters=4, n_init=50, random_state=0).fit(Zm)\n",
    "labs_m = km_m.labels_\n",
    "\n",
    "plt.figure(figsize=(5.6,4.6))\n",
    "plt.scatter(Zm[:,0], Zm[:,1], s=8, c=labs_m, alpha=0.8)\n",
    "plt.title(\"MOF PCA clustering\")\n",
    "plt.xlabel(\"PC1\"); plt.ylabel(\"PC2\")\n",
    "plt.gca().set_aspect(\"equal\", adjustable=\"box\")\n",
    "plt.show()\n",
    "\n",
    "print(\"Yield per cluster (mean ± std):\")\n",
    "display(mof_full.assign(cluster=labs_m).groupby(\"cluster\")[\"yield\"].agg([\"mean\",\"std\",\"count\"]).round(2))"
   ]
  },
  {
   "cell_type": "markdown",
   "id": "107a1de3",
   "metadata": {},
   "source": [
    "Discussion:\n",
    "\n",
    "- If one cluster has high mean yield, what process conditions define it\n",
    "  Based on the PCA loadings, check which features are elevated in that cluster.\n",
    "\n",
    "### 7.8 Cluster centroids in original units\n",
    "\n",
    "We compute means for the process variables per cluster to describe them in natural units."
   ]
  },
  {
   "cell_type": "code",
   "execution_count": null,
   "id": "322f4606",
   "metadata": {},
   "outputs": [],
   "source": [
    "summ = (mof_full.assign(cluster=labs_m)\n",
    "        .groupby(\"cluster\")[[\"temperature\",\"time_h\",\"concentration_M\",\"solvent_DMF\"]]\n",
    "        .mean().round(2))\n",
    "summ"
   ]
  },
  {
   "cell_type": "markdown",
   "id": "8444664a",
   "metadata": {},
   "source": [
    "---\n",
    "\n",
    "## 8. Beyond K-means: Agglomerative and DBSCAN\n",
    "\n",
    "Some clusters are not spherical. Two alternatives:\n",
    "\n",
    "- **Agglomerative (hierarchical)**: start with each point as a cluster, then merge nearest clusters until K remains. Linkage can be ward, average, or complete.\n",
    "- **DBSCAN**: density based. Finds core points with at least `min_samples` neighbors within `eps`, then builds clusters of connected dense regions. Good for outliers.\n",
    "\n",
    "We use the PCA 10D space again.\n",
    "\n",
    "### 8.1 Agglomerative"
   ]
  },
  {
   "cell_type": "code",
   "execution_count": null,
   "id": "e1e38ef5",
   "metadata": {},
   "outputs": [],
   "source": [
    "agg = AgglomerativeClustering(n_clusters=3, linkage=\"ward\")\n",
    "labs_agg = agg.fit_predict(Z10)\n",
    "\n",
    "plt.figure(figsize=(4.6,4.2))\n",
    "plt.scatter(sc2[:,0], sc2[:,1], s=12, c=labs_agg, alpha=0.85)\n",
    "plt.xlabel(\"PC1\"); plt.ylabel(\"PC2\"); plt.title(\"Agglomerative on PCA\")\n",
    "plt.gca().set_aspect(\"equal\", adjustable=\"box\")\n",
    "plt.show()\n",
    "\n",
    "print(\"Silhouette (agg):\", round(silhouette_score(Z10, labs_agg), 3))"
   ]
  },
  {
   "cell_type": "markdown",
   "id": "80efa618",
   "metadata": {},
   "source": [
    "### 8.2 DBSCAN"
   ]
  },
  {
   "cell_type": "code",
   "execution_count": null,
   "id": "87f46508",
   "metadata": {},
   "outputs": [],
   "source": [
    "db = DBSCAN(eps=0.9, min_samples=6)  # eps is sensitive to scale\n",
    "labs_db = db.fit_predict(Z10)\n",
    "\n",
    "plt.figure(figsize=(4.6,4.2))\n",
    "plt.scatter(sc2[:,0], sc2[:,1], s=12, c=labs_db, alpha=0.9)\n",
    "plt.xlabel(\"PC1\"); plt.ylabel(\"PC2\"); plt.title(\"DBSCAN on PCA (-1 are noise)\")\n",
    "plt.gca().set_aspect(\"equal\", adjustable=\"box\")\n",
    "plt.show()\n",
    "\n",
    "vals, cnts = np.unique(labs_db, return_counts=True)\n",
    "dict(zip(vals, cnts))"
   ]
  },
  {
   "cell_type": "markdown",
   "id": "c8873c12",
   "metadata": {},
   "source": [
    "```{admonition} Tips for DBSCAN\n",
    "- Scale matters. Tune `eps` after standardization or PCA.\n",
    "- `-1` labels are noise or outliers.\n",
    "- You can grid search `eps` on a small set to find stable clusters.\n",
    "```\n",
    "\n",
    "### 8.3 Linkage variants\n",
    "\n",
    "Ward linkage assumes Euclidean geometry and tries to minimize variance. Average and complete linkage use pairwise distances between clusters."
   ]
  },
  {
   "cell_type": "code",
   "execution_count": null,
   "id": "a902420d",
   "metadata": {},
   "outputs": [],
   "source": [
    "for link in [\"ward\",\"average\",\"complete\"]:\n",
    "    agg = AgglomerativeClustering(n_clusters=3, linkage=link)\n",
    "    labs_link = agg.fit_predict(Z10)\n",
    "    sil_link = silhouette_score(Z10, labs_link)\n",
    "    print(f\"Linkage={link:8s} silhouette={sil_link:.3f}\")"
   ]
  },
  {
   "cell_type": "markdown",
   "id": "f69f2f1c",
   "metadata": {},
   "source": [
    "### 8.4 DBSCAN parameter sweep\n",
    "\n",
    "A quick sweep gives a feel for sensitivity."
   ]
  },
  {
   "cell_type": "code",
   "execution_count": null,
   "id": "59522a02",
   "metadata": {},
   "outputs": [],
   "source": [
    "eps_list = [0.6, 0.8, 1.0, 1.2]\n",
    "res = []\n",
    "for eps in eps_list:\n",
    "    db = DBSCAN(eps=eps, min_samples=6).fit(Z10)\n",
    "    vals, cnts = np.unique(db.labels_, return_counts=True)\n",
    "    n_noise = cnts[vals==-1][0] if (-1 in vals) else 0\n",
    "    n_clusters = (vals >= 0).sum()\n",
    "    sil = silhouette_score(Z10, db.labels_) if n_clusters > 1 else np.nan\n",
    "    res.append({\"eps\": eps, \"n_clusters\": int(n_clusters), \"n_noise\": int(n_noise), \"silhouette\": sil})\n",
    "pd.DataFrame(res)"
   ]
  },
  {
   "cell_type": "markdown",
   "id": "679c8e58",
   "metadata": {},
   "source": [
    "### 8.5 Outlier molecules\n",
    "\n",
    "List a few outliers when DBSCAN marks them as noise."
   ]
  },
  {
   "cell_type": "code",
   "execution_count": null,
   "id": "b94d3ef2",
   "metadata": {},
   "outputs": [],
   "source": [
    "out_idx = np.where(labs_db == -1)[0]\n",
    "print(\"Noise points:\", len(out_idx))\n",
    "if len(out_idx) > 0:\n",
    "    print(\"First few outliers with SMILES:\")\n",
    "    display(df.loc[mask_small, \"SMILES\"].iloc[out_idx[:8]].reset_index(drop=True).to_frame(\"SMILES\"))"
   ]
  },
  {
   "cell_type": "markdown",
   "id": "f4613b6e",
   "metadata": {},
   "source": [
    "---\n",
    "\n",
    "## 9. Glossary\n",
    "\n",
    "```{glossary}\n",
    "dimension reduction\n",
    "  Map $p$-dimensional features to a few coordinates that keep the most structure for your task.\n",
    "\n",
    "PCA\n",
    "  Linear method that finds orthogonal directions of maximum variance.\n",
    "\n",
    "loading\n",
    "  The weight of each original feature for a principal component.\n",
    "\n",
    "score\n",
    "  The coordinates of each sample in PC space.\n",
    "\n",
    "scree plot\n",
    "  Bar or line plot of explained variance ratio per PC.\n",
    "\n",
    "t-SNE\n",
    "  Nonlinear embedding that preserves local neighbor relations. Uses a KL divergence objective.\n",
    "\n",
    "UMAP\n",
    "  Graph-based embedding that models fuzzy set cross entropy on a kNN graph.\n",
    "\n",
    "K-means\n",
    "  Clustering by minimizing within-cluster squared distances to centroids.\n",
    "\n",
    "silhouette\n",
    "  For a point, $s=(b-a)/\\max(a,b)$ where $a$ is mean intra-cluster distance and $b$ is the smallest mean distance to another cluster.\n",
    "\n",
    "DBSCAN\n",
    "  Density-based clustering that finds core points and expands clusters. Labels noise as $-1$.\n",
    "\n",
    "Tanimoto similarity\n",
    "  For bit vectors $A$ and $B$, $S=\\dfrac{A\\cdot B}{\\lVert A\\rVert_1+\\lVert B\\rVert_1 - A\\cdot B}$.\n",
    "\n",
    "Jaccard distance\n",
    "  One minus Tanimoto similarity on binary vectors.\n",
    "\n",
    "Hotelling $T^2$\n",
    "  Squared Mahalanobis distance in PCA score space. Large values indicate leverage points in scores.\n",
    "\n",
    "Q residuals\n",
    "  Reconstruction error in original space after projecting onto the first $k$ PCs.\n",
    "\n",
    "bit environment\n",
    "  In Morgan fingerprints, the center atom index and radius that triggered a specific bit.\n",
    "```\n",
    "\n",
    "---\n",
    "\n",
    "## 10. In-class activity with solutions\n",
    "\n",
    "Five hands-on questions. Each can be solved with code from this lecture. Write your answers in small blocks and explain what you see.\n",
    "\n",
    "### Q1. PCA for interpretation\n",
    "\n",
    "- Use `X_small` scaled. Fit `PCA(n_components=4)`.\n",
    "- Report the loading vector for PC1 and PC2.\n",
    "- Write one sentence per PC about what chemical trend each PC seems to capture."
   ]
  },
  {
   "cell_type": "code",
   "execution_count": null,
   "id": "d00c7d9d",
   "metadata": {},
   "outputs": [],
   "source": [
    "scaler = StandardScaler()\n",
    "Xs = scaler.fit_transform(X_small)\n",
    "pca = PCA(n_components=4, random_state=0).fit(Xs)\n",
    "loads = pd.DataFrame(pca.components_.T, index=[\"MolWt\",\"LogP\",\"TPSA\",\"NumRings\"], columns=[f\"PC{i+1}\" for i in range(4)])\n",
    "loads.round(3)\n",
    "\n",
    "cum = pca.explained_variance_ratio_.cumsum()\n",
    "print(\"EVR:\", np.round(pca.explained_variance_ratio_,3), \"  Cumulative:\", np.round(cum,3))\n",
    "loads"
   ]
  },
  {
   "cell_type": "markdown",
   "id": "8884b1ab",
   "metadata": {},
   "source": [
    "Narrative template for students:\n",
    "\n",
    "- PC1: If the largest magnitude loading is on MolWt and TPSA is moderate, then PC1 tracks overall molecular size with polarity elements.\n",
    "- PC2: If LogP has a large positive loading and TPSA negative, PC2 contrasts hydrophobicity with polarity.\n",
    "\n",
    "```{admonition} Hint\n",
    "If you flip the sign of the loadings, the interpretation stays the same. Always talk about relative direction and magnitude.\n",
    "```\n",
    "\n",
    "---\n",
    "\n",
    "### Q2. Choose K by silhouette\n",
    "\n",
    "- Use `Z10` from PCA on `X_small`.\n",
    "- Compute silhouette for `K=2..8` and pick the best K.\n",
    "- Plot silhouette vs K."
   ]
  },
  {
   "cell_type": "code",
   "execution_count": null,
   "id": "73ef7653",
   "metadata": {},
   "outputs": [],
   "source": [
    "Ks = range(2, 9)\n",
    "scores = []\n",
    "for K in Ks:\n",
    "    km = KMeans(n_clusters=K, n_init=30, random_state=0).fit(Z10)\n",
    "    scores.append(silhouette_score(Z10, km.labels_))\n",
    "pd.DataFrame({\"K\": list(Ks), \"silhouette\": np.round(scores,3)})\n",
    "plt.plot(list(Ks), scores, marker=\"o\"); plt.xlabel(\"K\"); plt.ylabel(\"Silhouette\"); plt.grid(True, alpha=0.4)\n",
    "K_best = Ks[int(np.argmax(scores))]\n",
    "print(\"Best K by silhouette:\", K_best)"
   ]
  },
  {
   "cell_type": "markdown",
   "id": "018994f7",
   "metadata": {},
   "source": [
    "Narrative template:\n",
    "\n",
    "- If the curve peaks at K=3 and then drops, pick K=3.\n",
    "- A very flat curve suggests weak cluster structure. In that case, focus more on interpretation than strict assignment.\n",
    "\n",
    "---\n",
    "\n",
    "### Q3. t-SNE vs UMAP on fingerprints\n",
    "\n",
    "- If RDKit is available, embed `X_fp` with t-SNE and UMAP.\n",
    "- Use the same `random_state` and similar neighbor counts.\n",
    "- Color by toxicity when available."
   ]
  },
  {
   "cell_type": "code",
   "execution_count": null,
   "id": "dd8ee37a",
   "metadata": {},
   "outputs": [],
   "source": [
    "if X_fp is not None:\n",
    "    X_embed = X_fp.astype(float)\n",
    "    tsne = TSNE(n_components=2, perplexity=30, init=\"random\", learning_rate=\"auto\", random_state=0)\n",
    "    Zt = tsne.fit_transform(X_embed)\n",
    "    try:\n",
    "        import umap.umap_ as umap\n",
    "        Zu = umap.UMAP(n_neighbors=15, min_dist=0.1, random_state=0).fit_transform(X_embed)\n",
    "    except Exception:\n",
    "        Zu = None\n",
    "else:\n",
    "    print(\"Skip. No fingerprints.\")\n",
    "\n",
    "if X_fp is not None:\n",
    "    plt.figure(figsize=(9,4))\n",
    "    c = np.where(y_toxic[:len(Zt)]==1, \"crimson\", np.where(y_toxic[:len(Zt)]==0, \"steelblue\", \"gray\"))\n",
    "    plt.subplot(1,2,1); plt.scatter(Zt[:,0], Zt[:,1], s=8, c=c, alpha=0.8); plt.title(\"t-SNE\"); plt.xticks([]); plt.yticks([])\n",
    "    if Zu is not None:\n",
    "        plt.subplot(1,2,2); plt.scatter(Zu[:,0], Zu[:,1], s=8, c=c, alpha=0.8); plt.title(\"UMAP\"); plt.xticks([]); plt.yticks([])\n",
    "    plt.tight_layout(); plt.show()"
   ]
  },
  {
   "cell_type": "markdown",
   "id": "5fbed485",
   "metadata": {},
   "source": [
    "Comment on whether groups align between methods. If they do, that increases confidence in those local neighborhoods.\n",
    "\n",
    "---\n",
    "\n",
    "### Q4. DBSCAN to find outliers\n",
    "\n",
    "- Work in PCA 10D space.\n",
    "- Tune `eps` to find at least one noise point.\n",
    "- Print cluster counts."
   ]
  },
  {
   "cell_type": "code",
   "execution_count": null,
   "id": "8f6064e4",
   "metadata": {},
   "outputs": [],
   "source": [
    "for eps in [0.6, 0.8, 1.0]:\n",
    "    db = DBSCAN(eps=eps, min_samples=6).fit(Z10)\n",
    "    vals, cnts = np.unique(db.labels_, return_counts=True)\n",
    "    print(\"eps=\", eps, dict(zip(vals, cnts)))\n",
    "\n",
    "\n",
    "eps = 0.8\n",
    "db = DBSCAN(eps=eps, min_samples=6).fit(Z10)\n",
    "labs = db.labels_\n",
    "plt.scatter(Z10[:,0], Z10[:,1], s=12, c=labs, alpha=0.9)\n",
    "plt.title(f\"DBSCAN on PCA, eps={eps}\")\n",
    "plt.show()"
   ]
  },
  {
   "cell_type": "markdown",
   "id": "56cf61f7",
   "metadata": {},
   "source": [
    "Narrative template:\n",
    "\n",
    "- If the number of noise points is very high, reduce `eps`. If there are no noise points and only one cluster, increase `eps` or `min_samples`.\n",
    "\n",
    "---\n",
    "\n",
    "### Q5. Cluster meaning in original units\n",
    "\n",
    "- Fit K-means with K=3 on `Z10`.\n",
    "- For each cluster, compute the mean of original descriptors **before** scaling.\n",
    "- Report a small table and give one sentence per cluster.\n",
    "- Cluster 0: higher MolWt and NumRings, moderate TPSA.\n",
    "- Cluster 1: lower MolWt, higher TPSA, more polar.\n",
    "- Cluster 2: hydrophobic with higher LogP."
   ]
  },
  {
   "cell_type": "code",
   "execution_count": null,
   "id": "25de6a62",
   "metadata": {},
   "outputs": [],
   "source": [
    "km = KMeans(n_clusters=3, n_init=50, random_state=0).fit(Z10)\n",
    "labs = km.labels_\n",
    "D_orig = df.loc[mask_small, [\"MolWt\",\"LogP\",\"TPSA\",\"NumRings\"]].reset_index(drop=True)\n",
    "D_orig[\"cluster\"] = labs\n",
    "D_orig.groupby(\"cluster\").mean().round(2)\n",
    "\n",
    "tbl = D_orig.groupby(\"cluster\").agg([\"mean\",\"std\"]).round(2)"
   ]
  }
 ],
 "metadata": {
  "jupytext": {
   "jupytext_version": "1.16.4",
   "text_representation": {
    "extension": ".md",
    "format_name": "myst",
    "format_version": 0.13
   }
  },
  "kernelspec": {
   "display_name": "Python 3",
   "language": "python",
   "name": "python3"
  },
  "language_info": {
   "codemirror_mode": {
    "name": "ipython",
    "version": 3
   },
   "file_extension": ".py",
   "mimetype": "text/x-python",
   "name": "python",
   "nbconvert_exporter": "python",
   "pygments_lexer": "ipython3",
   "version": "3.8.10"
  },
  "source_map": [
   12,
   33,
   74,
   78,
   82,
   101,
   105,
   130,
   155,
   164,
   175,
   198,
   210,
   216,
   220,
   224,
   234,
   252,
   305,
   314,
   327,
   333,
   342,
   349,
   365,
   383,
   395,
   399,
   410,
   418,
   440,
   447,
   451,
   458,
   462,
   474,
   488,
   492,
   508,
   514,
   518,
   524,
   530,
   537,
   543,
   554,
   568,
   575,
   579,
   586,
   592,
   611,
   627,
   642,
   653,
   668,
   674,
   682,
   697,
   702,
   706,
   718,
   724,
   737,
   748,
   770,
   781,
   793,
   827,
   831,
   846,
   856,
   873,
   877,
   886,
   892,
   895,
   910,
   919,
   925,
   943,
   947,
   961,
   978,
   990,
   1001,
   1014,
   1024,
   1037,
   1043,
   1059,
   1069,
   1083,
   1106,
   1110,
   1114,
   1126,
   1130,
   1141,
   1147,
   1152,
   1167,
   1182,
   1188,
   1196,
   1202,
   1215,
   1226,
   1231,
   1246,
   1257,
   1261,
   1273,
   1285,
   1291,
   1297,
   1308,
   1314,
   1320,
   1385,
   1395,
   1414,
   1424,
   1439,
   1459,
   1471,
   1484,
   1502
  ]
 },
 "nbformat": 4,
 "nbformat_minor": 5
}