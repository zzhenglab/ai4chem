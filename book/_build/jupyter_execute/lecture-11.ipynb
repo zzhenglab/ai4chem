{
 "cells": [
  {
   "cell_type": "markdown",
   "id": "9136e92e",
   "metadata": {},
   "source": [
    "# Lecture 11 - Placeholders\n",
    "\n",
    "\n",
    "```{contents}\n",
    ":local:\n",
    ":depth: 1\n",
    "```\n",
    "## Learning goals\n",
    "\n",
    "- \n",
    "  [![Colab](https://img.shields.io/badge/Open-Colab-orange)](https://colab.research.google.com/drive/1UYUb5xw7lxDQrZYjJPixfILLrhFCYBlb?usp=sharing)"
   ]
  }
 ],
 "metadata": {
  "jupytext": {
   "text_representation": {
    "extension": ".md",
    "format_name": "myst",
    "format_version": 0.13,
    "jupytext_version": "1.16.4"
   }
  },
  "kernelspec": {
   "display_name": "Python 3",
   "language": "python",
   "name": "python3"
  },
  "source_map": [
   12
  ]
 },
 "nbformat": 4,
 "nbformat_minor": 5
}