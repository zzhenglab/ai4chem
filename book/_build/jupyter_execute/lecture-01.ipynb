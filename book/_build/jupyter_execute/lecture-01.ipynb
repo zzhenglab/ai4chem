{
 "cells": [
  {
   "cell_type": "markdown",
   "id": "9bfb9d0c",
   "metadata": {},
   "source": [
    "# Lecture 1 - Python Primer\n",
    "\n",
    "\n",
    "> Learn just enough Python to start doing chemistry right away.\n",
    "\n",
    "```{admonition} Who is this for?\n",
    "Absolute beginners. If you can open a notebook and type, you can follow along.\n",
    "```\n",
    "\n",
    "```{contents}\n",
    ":local:\n",
    ":depth: 1\n",
    "```\n",
    "\n",
    "## Learning goals\n",
    "\n",
    "- Run code cells in a notebook and switch between **Code** and **Markdown**.\n",
    "- Use Python as a calculator for quick chemical math.\n",
    "- Store values in **variables**, use **lists** and **dictionaries**.\n",
    "- Write tiny **functions** to avoid repeating yourself.\n",
    "- Make a simple **plot** for a chemistry relationship.\n",
    "- Read error messages without panic.\n",
    "\n",
    "::::{grid}\n",
    ":gutter: 3\n",
    "\n",
    ":::{grid-item-card} What you will do\n",
    "^^^\n",
    "- Compute molar masses\n",
    "- Convert mass to moles\n",
    "- Plot Beer-Lambert style data\n",
    "+++\n",
    "Keep this page open as a reference.\n",
    ":::\n",
    "\n",
    ":::{grid-item-card} What you will not do\n",
    "^^^\n",
    "- Heavy theory\n",
    "- Long scripts\n",
    "- Package installation rabbit holes\n",
    "+++\n",
    "We keep it short and friendly.\n",
    ":::\n",
    "::::\n",
    "\n",
    "---\n",
    "\n",
    "\n",
    "(content:setup)=\n",
    "## 1. Setup - choose your path\n",
    "\n",
    "\n",
    "Right-click the badge below and select “**Open link in new tab**”\n",
    "\n",
    "[![Colab](https://img.shields.io/badge/Open-Colab-orange)](https://colab.research.google.com/drive/1h9Mott1rGHXHo9MpmTKND-SiMk5t2u2H?usp=sharing)\n",
    "\n",
    "Log in to your Google account. Then in the top left menu, go to **File** > **Save a copy** in Drive to keep your own editable version.\n",
    "\n",
    "\n",
    "\n",
    "```{note}\n",
    "You can also download and run locally on your laptop with Anaconda (JupyterLab) or Miniconda.  \n",
    "If this is your first time coding, we recommend starting with Google Colab for simplicity.\n",
    "```\n",
    "\n",
    "---\n",
    "\n",
    "(content:notebooks)=\n",
    "## 2. Meet the notebook\n",
    "\n",
    "- A notebook has **cells**.\n",
    "- **Code cells** run Python.\n",
    "- **Markdown cells** hold text, titles, and math like $PV = nRT$.\n",
    "\n",
    "```{admonition} Handy keys\n",
    "- `Shift+Enter` - run cell\n",
    "- `A` - new cell above\n",
    "- `B` - new cell below\n",
    "- `M` - turn into Markdown\n",
    "- `Y` - turn into Code\n",
    "```\n",
    "To run your first code cell, hover over the left edge of the cell. \n",
    "A play icon (circle with a triangle) appears. \n",
    "Click it to run. \n",
    "The first run may take a few seconds while the runtime starts.\n",
    "\n",
    "You can also click inside a cell and press `Shift+Enter`.\n",
    "\n",
    "\n",
    "```{margin}\n",
    "Tip - you can click on \"Copy of Lecture 1.ipynb\" to rename your notebook.\n",
    "```\n",
    "\n",
    "---\n",
    "## 3. Python as a calculator\n",
    "\n",
    "We will run a few short cells and see results right away.\n",
    "\n",
    "### 3.1 Run your first cell"
   ]
  },
  {
   "cell_type": "code",
   "execution_count": 1,
   "id": "dd51b4e1",
   "metadata": {},
   "outputs": [
    {
     "name": "stdout",
     "output_type": "stream",
     "text": [
      "Hello World\n"
     ]
    }
   ],
   "source": [
    "print(\"Hello World\")"
   ]
  },
  {
   "cell_type": "markdown",
   "id": "873513be",
   "metadata": {},
   "source": [
    "- `print(...)` shows text or values in the output area.\n",
    "- In a code cell, the **value of the last line** also displays automatically.\n",
    "\n",
    "### 3.2 Simple arithmetic"
   ]
  },
  {
   "cell_type": "code",
   "execution_count": 2,
   "id": "c9e6cefb",
   "metadata": {},
   "outputs": [
    {
     "data": {
      "text/plain": [
       "4"
      ]
     },
     "execution_count": 2,
     "metadata": {},
     "output_type": "execute_result"
    }
   ],
   "source": [
    "2 + 2"
   ]
  },
  {
   "cell_type": "markdown",
   "id": "9ef10793",
   "metadata": {},
   "source": [
    "```{admonition} Tip\n",
    "You can edit the numbers in Colab and run again. Nothing breaks if you try things.\n",
    "In this web page, you will only be able to view input and output.\n",
    "```\n",
    "\n",
    "### 3.3 Comments do not run\n",
    "\n",
    "Lines that start with `#` are **comments**. Python ignores them."
   ]
  },
  {
   "cell_type": "code",
   "execution_count": 3,
   "id": "17c60333",
   "metadata": {},
   "outputs": [],
   "source": [
    "# This line is a comment. Remove the # and the line will run.\n",
    "# 1 + 3"
   ]
  },
  {
   "cell_type": "markdown",
   "id": "1f425beb",
   "metadata": {},
   "source": [
    "You can also add a comment at the end of a line:"
   ]
  },
  {
   "cell_type": "code",
   "execution_count": 4,
   "id": "56e69f8d",
   "metadata": {},
   "outputs": [
    {
     "data": {
      "text/plain": [
       "2"
      ]
     },
     "execution_count": 4,
     "metadata": {},
     "output_type": "execute_result"
    }
   ],
   "source": [
    "1 + 1  # this adds one plus one"
   ]
  },
  {
   "cell_type": "markdown",
   "id": "91cfd05d",
   "metadata": {},
   "source": [
    "### 3.4 Only the last line shows by default"
   ]
  },
  {
   "cell_type": "code",
   "execution_count": 5,
   "id": "deb4bdae",
   "metadata": {},
   "outputs": [
    {
     "data": {
      "text/plain": [
       "2"
      ]
     },
     "execution_count": 5,
     "metadata": {},
     "output_type": "execute_result"
    }
   ],
   "source": [
    "2 + 2\n",
    "1 + 1   # only this result will display"
   ]
  },
  {
   "cell_type": "markdown",
   "id": "a5d32d73",
   "metadata": {},
   "source": [
    "To show **both** results, either use two `print` calls or return a pair of values:"
   ]
  },
  {
   "cell_type": "code",
   "execution_count": 6,
   "id": "70aaaba0",
   "metadata": {},
   "outputs": [
    {
     "name": "stdout",
     "output_type": "stream",
     "text": [
      "4\n",
      "2\n"
     ]
    },
    {
     "data": {
      "text/plain": [
       "(4, 2)"
      ]
     },
     "execution_count": 6,
     "metadata": {},
     "output_type": "execute_result"
    }
   ],
   "source": [
    "print(2 + 2)\n",
    "print(1 + 1)\n",
    "\n",
    "# or as a pair (tuple)\n",
    "(2 + 2, 1 + 1)"
   ]
  },
  {
   "cell_type": "markdown",
   "id": "f973f743",
   "metadata": {},
   "source": [
    "### 3.5 Common operators"
   ]
  },
  {
   "cell_type": "code",
   "execution_count": 7,
   "id": "63bdd650",
   "metadata": {},
   "outputs": [
    {
     "data": {
      "text/plain": [
       "32"
      ]
     },
     "execution_count": 7,
     "metadata": {},
     "output_type": "execute_result"
    }
   ],
   "source": [
    "3 * 4      # multiply\n",
    "10 / 4     # true division (float)\n",
    "10 // 4    # floor division (integer result)\n",
    "10 % 4     # remainder (modulo)\n",
    "2 ** 5     # exponent (2 to the 5)"
   ]
  },
  {
   "cell_type": "markdown",
   "id": "51040cc8",
   "metadata": {},
   "source": [
    "### 3.6 Order of operations"
   ]
  },
  {
   "cell_type": "code",
   "execution_count": 8,
   "id": "99917e08",
   "metadata": {},
   "outputs": [
    {
     "data": {
      "text/plain": [
       "20"
      ]
     },
     "execution_count": 8,
     "metadata": {},
     "output_type": "execute_result"
    }
   ],
   "source": [
    "2 + 3 * 4        # multiplication first\n",
    "(2 + 3) * 4      # parentheses change the order"
   ]
  },
  {
   "cell_type": "markdown",
   "id": "988467fc",
   "metadata": {},
   "source": [
    "### 3.7 Types from division"
   ]
  },
  {
   "cell_type": "code",
   "execution_count": 9,
   "id": "afdab7df",
   "metadata": {},
   "outputs": [
    {
     "data": {
      "text/plain": [
       "(float, int)"
      ]
     },
     "execution_count": 9,
     "metadata": {},
     "output_type": "execute_result"
    }
   ],
   "source": [
    "type(10 / 3), type(10 // 3)"
   ]
  },
  {
   "cell_type": "markdown",
   "id": "0f5475b8",
   "metadata": {},
   "source": [
    "```{warning}\n",
    "- `10/3` gives a **float** like `3.3333333333`.\n",
    "- `10//3` gives **integer division** `3`. With negatives it floors: `-10//3` is `-4`.\n",
    "```\n",
    "\n",
    "```{admonition} Try it\n",
    "- Change the numbers above and re-run.\n",
    "- What is `15 % 4`? What about `-15 % 4`?\n",
    "```\n",
    "\n",
    "---\n",
    "\n",
    "(content:variables)=\n",
    "## 4. Variables - names for values\n",
    "\n",
    "A variable is a **name** that points to a value. You can reuse it.\n",
    "\n",
    "### 4.1 Create and read a variable"
   ]
  },
  {
   "cell_type": "code",
   "execution_count": 10,
   "id": "88371e41",
   "metadata": {},
   "outputs": [
    {
     "data": {
      "text/plain": [
       "100"
      ]
     },
     "execution_count": 10,
     "metadata": {},
     "output_type": "execute_result"
    }
   ],
   "source": [
    "x = 100        # set x to one hundred\n",
    "x"
   ]
  },
  {
   "cell_type": "markdown",
   "id": "cb88747d",
   "metadata": {},
   "source": [
    "Use a variable inside an expression:"
   ]
  },
  {
   "cell_type": "code",
   "execution_count": 11,
   "id": "bf9fafa6",
   "metadata": {},
   "outputs": [
    {
     "data": {
      "text/plain": [
       "201"
      ]
     },
     "execution_count": 11,
     "metadata": {},
     "output_type": "execute_result"
    }
   ],
   "source": [
    "2 * x + 1"
   ]
  },
  {
   "cell_type": "markdown",
   "id": "0e444a07",
   "metadata": {},
   "source": [
    "### 4.2 Update a variable"
   ]
  },
  {
   "cell_type": "code",
   "execution_count": 12,
   "id": "44e4724d",
   "metadata": {},
   "outputs": [
    {
     "data": {
      "text/plain": [
       "1.1"
      ]
     },
     "execution_count": 12,
     "metadata": {},
     "output_type": "execute_result"
    }
   ],
   "source": [
    "x = 1.1        # replace the old value with a new one\n",
    "x"
   ]
  },
  {
   "cell_type": "markdown",
   "id": "9308d254",
   "metadata": {},
   "source": [
    "### 4.3 Descriptive names and units\n",
    "\n",
    "Choose names that tell you what the value is and, if helpful, its units."
   ]
  },
  {
   "cell_type": "code",
   "execution_count": 13,
   "id": "71bb37fa",
   "metadata": {},
   "outputs": [
    {
     "data": {
      "text/plain": [
       "(float, float)"
      ]
     },
     "execution_count": 13,
     "metadata": {},
     "output_type": "execute_result"
    }
   ],
   "source": [
    "temperature_K = 298.15              # Kelvin\n",
    "R = 0.082057                         # L·atm·mol^-1·K^-1\n",
    "type(temperature_K), type(R)"
   ]
  },
  {
   "cell_type": "markdown",
   "id": "6fa71272",
   "metadata": {},
   "source": [
    "```{admonition} Rules of thumb\n",
    "- Names can use letters, numbers, and `_`, but cannot start with a number.\n",
    "- Names are case-sensitive: `mass` and `Mass` are different.\n",
    "- Use clear names. Add units to the name if it helps (`temperature_K`, `volume_L`).\n",
    "```\n",
    "\n",
    "```{admonition} Try it\n",
    "Make `y = 3`, then compute `y**3`. Change `y` to `10` and run again.\n",
    "```\n",
    "\n",
    "---\n",
    "\n",
    "(content:chem-quick)=\n",
    "## 5. Quick chemistry - molar mass and moles\n",
    "\n",
    "We will compute a molar mass, then convert mass to moles.\n",
    "\n",
    "### 5.1 Molar mass of CO₂\n",
    "\n",
    "Define atomic weights and add them with the correct counts."
   ]
  },
  {
   "cell_type": "code",
   "execution_count": 14,
   "id": "17da76f5",
   "metadata": {},
   "outputs": [
    {
     "data": {
      "text/plain": [
       "44.009"
      ]
     },
     "execution_count": 14,
     "metadata": {},
     "output_type": "execute_result"
    }
   ],
   "source": [
    "C = 12.011     # g mol^-1\n",
    "O = 15.999     # g mol^-1\n",
    "\n",
    "M_CO2 = C + 2 * O   # 1 carbon and 2 oxygens\n",
    "M_CO2"
   ]
  },
  {
   "cell_type": "markdown",
   "id": "75145765",
   "metadata": {},
   "source": [
    "Format it nicely with units:"
   ]
  },
  {
   "cell_type": "code",
   "execution_count": 15,
   "id": "7ed5885e",
   "metadata": {},
   "outputs": [
    {
     "name": "stdout",
     "output_type": "stream",
     "text": [
      "M_CO2 = 44.009 g mol^-1\n"
     ]
    }
   ],
   "source": [
    "print(f\"M_CO2 = {M_CO2:.3f} g mol^-1\")"
   ]
  },
  {
   "cell_type": "markdown",
   "id": "d80d60ab",
   "metadata": {},
   "source": [
    "### 5.2 Mass to moles\n",
    "\n",
    "Use \\( n = \\dfrac{m}{M} \\). Keep units consistent."
   ]
  },
  {
   "cell_type": "code",
   "execution_count": 16,
   "id": "b3cefc76",
   "metadata": {},
   "outputs": [
    {
     "data": {
      "text/plain": [
       "0.22722624917630485"
      ]
     },
     "execution_count": 16,
     "metadata": {},
     "output_type": "execute_result"
    }
   ],
   "source": [
    "mass_g = 10.0            # grams of CO2\n",
    "moles = mass_g / M_CO2   # mol\n",
    "moles"
   ]
  },
  {
   "cell_type": "markdown",
   "id": "c82ce316",
   "metadata": {},
   "source": [
    "Report with a friendly number of decimals:"
   ]
  },
  {
   "cell_type": "code",
   "execution_count": 17,
   "id": "c9601c27",
   "metadata": {},
   "outputs": [
    {
     "name": "stdout",
     "output_type": "stream",
     "text": [
      "moles of CO2 in 10.0 g = 0.2272 mol\n"
     ]
    }
   ],
   "source": [
    "print(f\"moles of CO2 in {mass_g} g = {moles:.4f} mol\")"
   ]
  },
  {
   "cell_type": "markdown",
   "id": "db356035",
   "metadata": {},
   "source": [
    "```{note}\n",
    "Unit check: grams divided by grams per mole gives moles.\n",
    "```\n",
    "\n",
    "```{admonition} Try it\n",
    "Change `mass_g` to `22.0` or `5.5` and re-run. Does the mole amount scale as you expect?\n",
    "```\n",
    "\n",
    "### 5.3 Small sanity checks\n",
    "\n",
    "- If you double the mass, moles should double.\n",
    "- If you switch to kilograms by mistake, the result will be off by 1000. Keep everything in grams here.\n",
    "\n",
    "```{warning}\n",
    "Do not use `//` for chemistry math. `//` floors the result and throws away decimals. Use `/`.\n",
    "```\n",
    "\n",
    "```{admonition} Exercise 5.1 - Water\n",
    "Compute the molar mass of water and the moles in 36.0 g of water.\n",
    "Atomic weights: H = 1.008, O = 15.999\n",
    "```\n",
    "\n",
    "```{dropdown} Hint\n",
    "```python\n",
    "H = 1.008\n",
    "O = 15.999\n",
    "M_H2O = 2*H + O\n",
    "moles_water = 36.0 / M_H2O\n",
    "M_H2O, moles_water\n",
    "```\n",
    "```\n",
    "\n",
    "```{admonition} Exercise 5.2 - Mixture\n",
    "You have 2.00 g of CO2 and 3.00 g of H2O. How many total moles of molecules are present?\n",
    "```\n",
    "\n",
    "```{dropdown} Hint\n",
    "Compute moles for each compound, then add them.\n",
    "```\n",
    "---\n",
    "\n",
    "\n",
    "## 6. Tiny data structures - lists and dictionaries\n",
    "\n",
    "Lists keep an ordered set of items. Dictionaries map keys to values.\n",
    "\n",
    "### 6.1 Make a list and read from it"
   ]
  },
  {
   "cell_type": "code",
   "execution_count": 18,
   "id": "0cb390f5",
   "metadata": {},
   "outputs": [
    {
     "data": {
      "text/plain": [
       "(['HCl', 'HNO3', 'H2SO4'], 3)"
      ]
     },
     "execution_count": 18,
     "metadata": {},
     "output_type": "execute_result"
    }
   ],
   "source": [
    "acids = [\"HCl\", \"HNO3\", \"H2SO4\"]   # a list of strings\n",
    "acids, len(acids)"
   ]
  },
  {
   "cell_type": "markdown",
   "id": "a698f055",
   "metadata": {},
   "source": [
    "```{admonition} Key points\n",
    "- Square brackets `[...]` create a list.\n",
    "- Lists keep order. Indexing starts at 0.\n",
    "```\n",
    "\n",
    "Access items by index. Negative indexes count from the end."
   ]
  },
  {
   "cell_type": "code",
   "execution_count": 19,
   "id": "72087e77",
   "metadata": {},
   "outputs": [
    {
     "data": {
      "text/plain": [
       "('HCl', 'HNO3', 'H2SO4')"
      ]
     },
     "execution_count": 19,
     "metadata": {},
     "output_type": "execute_result"
    }
   ],
   "source": [
    "acids[0], acids[1], acids[-1]"
   ]
  },
  {
   "cell_type": "markdown",
   "id": "6b7994d9",
   "metadata": {},
   "source": [
    "Take a slice to get a sublist."
   ]
  },
  {
   "cell_type": "code",
   "execution_count": 20,
   "id": "1402d607",
   "metadata": {},
   "outputs": [
    {
     "data": {
      "text/plain": [
       "['HCl', 'HNO3']"
      ]
     },
     "execution_count": 20,
     "metadata": {},
     "output_type": "execute_result"
    }
   ],
   "source": [
    "acids[0:2]   # from index 0 up to but not including 2"
   ]
  },
  {
   "cell_type": "markdown",
   "id": "8cae18e6",
   "metadata": {},
   "source": [
    "### 6.2 Change a list\n",
    "\n",
    "Replace, append, insert, and remove."
   ]
  },
  {
   "cell_type": "code",
   "execution_count": 21,
   "id": "6017846e",
   "metadata": {},
   "outputs": [
    {
     "data": {
      "text/plain": [
       "['HCl', 'HF', 'HBr', 'H2SO4', 'HNO3']"
      ]
     },
     "execution_count": 21,
     "metadata": {},
     "output_type": "execute_result"
    }
   ],
   "source": [
    "acids[1] = \"HBr\"     # replace the second item\n",
    "acids.append(\"HNO3\") # add to the end\n",
    "acids.insert(1, \"HF\")# insert at position 1\n",
    "acids"
   ]
  },
  {
   "cell_type": "markdown",
   "id": "419f80e3",
   "metadata": {},
   "source": [
    "Remove by value or by position."
   ]
  },
  {
   "cell_type": "code",
   "execution_count": 22,
   "id": "1ae90977",
   "metadata": {},
   "outputs": [
    {
     "data": {
      "text/plain": [
       "('HCl', ['HBr', 'H2SO4', 'HNO3'])"
      ]
     },
     "execution_count": 22,
     "metadata": {},
     "output_type": "execute_result"
    }
   ],
   "source": [
    "acids.remove(\"HF\")   # removes the first matching \"HF\"\n",
    "popped = acids.pop(0) # removes and returns the item at index 0\n",
    "popped, acids"
   ]
  },
  {
   "cell_type": "markdown",
   "id": "7ac8db2a",
   "metadata": {},
   "source": [
    "Add many at once."
   ]
  },
  {
   "cell_type": "code",
   "execution_count": 23,
   "id": "8492b021",
   "metadata": {},
   "outputs": [
    {
     "data": {
      "text/plain": [
       "['HBr', 'H2SO4', 'HNO3', 'HClO4', 'HI']"
      ]
     },
     "execution_count": 23,
     "metadata": {},
     "output_type": "execute_result"
    }
   ],
   "source": [
    "acids.extend([\"HClO4\", \"HI\"])\n",
    "acids"
   ]
  },
  {
   "cell_type": "markdown",
   "id": "132801fe",
   "metadata": {},
   "source": [
    "```{admonition} Common gotchas\n",
    "- `remove(x)` deletes the first match only.\n",
    "- `pop()` without an index removes the last item.\n",
    "- Lists are mutable. If `b = acids`, then changing `b` also changes `acids`. Use `acids.copy()` if you want a separate copy.\n",
    "```\n",
    "\n",
    "### 6.3 Check membership and find positions"
   ]
  },
  {
   "cell_type": "code",
   "execution_count": 24,
   "id": "18d1f806",
   "metadata": {},
   "outputs": [
    {
     "data": {
      "text/plain": [
       "(True, False)"
      ]
     },
     "execution_count": 24,
     "metadata": {},
     "output_type": "execute_result"
    }
   ],
   "source": [
    "\"HBr\" in acids, \"NaOH\" in acids   # True or False"
   ]
  },
  {
   "cell_type": "code",
   "execution_count": 25,
   "id": "c5fa2573",
   "metadata": {},
   "outputs": [
    {
     "data": {
      "text/plain": [
       "0"
      ]
     },
     "execution_count": 25,
     "metadata": {},
     "output_type": "execute_result"
    }
   ],
   "source": [
    "acids.index(\"HBr\")   # index of the first \"HBr\" if present"
   ]
  },
  {
   "cell_type": "code",
   "execution_count": 26,
   "id": "855a4db7",
   "metadata": {},
   "outputs": [
    {
     "data": {
      "text/plain": [
       "4"
      ]
     },
     "execution_count": 26,
     "metadata": {},
     "output_type": "execute_result"
    }
   ],
   "source": [
    "acids.index(\"HI\")   # index of the first \"HI\" if present"
   ]
  },
  {
   "cell_type": "markdown",
   "id": "adf6ee5e",
   "metadata": {},
   "source": [
    "```{warning}\n",
    "Python list index starts with 0.\n",
    "`acids.index(\"HCl\")` raises a `ValueError` if the item is not present.\n",
    "```\n",
    "\n",
    "### 6.4 Make a dictionary and read from it\n",
    "\n",
    "Dictionaries use curly braces and `key: value` pairs."
   ]
  },
  {
   "cell_type": "code",
   "execution_count": 27,
   "id": "ac2a84bc",
   "metadata": {},
   "outputs": [
    {
     "data": {
      "text/plain": [
       "(15.999, True)"
      ]
     },
     "execution_count": 27,
     "metadata": {},
     "output_type": "execute_result"
    }
   ],
   "source": [
    "aw = {\"H\": 1.008, \"C\": 12.011, \"O\": 15.999, \"N\": 14.007, \"Cl\": 35.45}\n",
    "aw[\"O\"], \"H\" in aw"
   ]
  },
  {
   "cell_type": "markdown",
   "id": "f1ab1990",
   "metadata": {},
   "source": [
    "Add or update entries."
   ]
  },
  {
   "cell_type": "code",
   "execution_count": 28,
   "id": "1a912be4",
   "metadata": {},
   "outputs": [
    {
     "data": {
      "text/plain": [
       "(22.99, 32.06)"
      ]
     },
     "execution_count": 28,
     "metadata": {},
     "output_type": "execute_result"
    }
   ],
   "source": [
    "aw[\"Na\"] = 22.990          # add sodium\n",
    "aw.update({\"S\": 32.06})    # add sulfur with update\n",
    "aw[\"Na\"], aw[\"S\"]"
   ]
  },
  {
   "cell_type": "markdown",
   "id": "c6dbe549",
   "metadata": {},
   "source": [
    "Safe lookup with a default."
   ]
  },
  {
   "cell_type": "code",
   "execution_count": 29,
   "id": "d0785f7f",
   "metadata": {},
   "outputs": [
    {
     "data": {
      "text/plain": [
       "(None, 39.1)"
      ]
     },
     "execution_count": 29,
     "metadata": {},
     "output_type": "execute_result"
    }
   ],
   "source": [
    "aw.get(\"K\"), aw.get(\"K\", 39.10)   # None vs default value if missing"
   ]
  },
  {
   "cell_type": "markdown",
   "id": "64cc372e",
   "metadata": {},
   "source": [
    "Delete a key."
   ]
  },
  {
   "cell_type": "code",
   "execution_count": 30,
   "id": "28b9a812",
   "metadata": {},
   "outputs": [
    {
     "data": {
      "text/plain": [
       "False"
      ]
     },
     "execution_count": 30,
     "metadata": {},
     "output_type": "execute_result"
    }
   ],
   "source": [
    "del aw[\"S\"]\n",
    "\"S\" in aw"
   ]
  },
  {
   "cell_type": "markdown",
   "id": "ba0c2564",
   "metadata": {},
   "source": [
    "```{admonition} Key points\n",
    "- Use `aw[\"O\"]` to get a value. If the key might be missing, use `aw.get(\"O\")`.\n",
    "- Keys must be unique. Assigning the same key again overwrites the old value.\n",
    "```\n",
    "\n",
    "### 6.5 Use the dictionary for quick chemistry\n",
    "\n",
    "Compute molar mass directly from atomic weights in `aw`."
   ]
  },
  {
   "cell_type": "code",
   "execution_count": 31,
   "id": "3173026f",
   "metadata": {},
   "outputs": [
    {
     "data": {
      "text/plain": [
       "(44.009, 18.015)"
      ]
     },
     "execution_count": 31,
     "metadata": {},
     "output_type": "execute_result"
    }
   ],
   "source": [
    "M_CO2 = aw[\"C\"] + 2 * aw[\"O\"]\n",
    "M_H2O = 2 * aw[\"H\"] + aw[\"O\"]\n",
    "M_CO2, M_H2O"
   ]
  },
  {
   "cell_type": "markdown",
   "id": "18c990fa",
   "metadata": {},
   "source": [
    "Report with units."
   ]
  },
  {
   "cell_type": "code",
   "execution_count": 32,
   "id": "2de6e39c",
   "metadata": {},
   "outputs": [
    {
     "name": "stdout",
     "output_type": "stream",
     "text": [
      "M_CO2 = 44.009 g mol^-1\n",
      "M_H2O = 18.015 g mol^-1\n"
     ]
    }
   ],
   "source": [
    "print(f\"M_CO2 = {M_CO2:.3f} g mol^-1\")\n",
    "print(f\"M_H2O = {M_H2O:.3f} g mol^-1\")"
   ]
  },
  {
   "cell_type": "markdown",
   "id": "b63e4667",
   "metadata": {},
   "source": [
    "### 6.6 Small practice\n",
    "\n",
    "```{admonition} Try it\n",
    "- Make a list `bases = [\"NaOH\", \"KOH\"]`, append `\"NH3\"`, then replace the first item with `\"Ca(OH)2\"`.\n",
    "- Add `\"K\": 39.10` to `aw`. Compute the molar mass of KCl using only `aw`.\n",
    "```\n",
    "\n",
    "```{admonition} Exercise 6.1\n",
    "Build a dictionary entry for Na and Cl if not present, then compute molar mass of NaCl.\n",
    ":class: dropdown\n",
    "\n",
    "**Solution**\n",
    "```python\n",
    "aw.update({\"Na\": 22.990, \"Cl\": 35.45})\n",
    "M_NaCl = aw[\"Na\"] + aw[\"Cl\"]\n",
    "M_NaCl\n",
    "```\n",
    "```\n",
    "\n",
    "```{admonition} Common mistakes\n",
    "- Using parentheses instead of brackets for indexing: write `aw[\"O\"]`, not `aw(\"O\")`.\n",
    "- Typos in keys: `\"CL\"` is not the same as `\"Cl\"`.\n",
    "- Forgetting that list indexes start at 0.\n",
    "```\n",
    "\n",
    "---\n",
    "\n",
    "\n",
    "## 7. Control flow - if, for, while\n",
    "\n",
    "Control flow lets your code make choices and repeat steps.\n",
    "\n",
    "### 7.1 if - pick a path"
   ]
  },
  {
   "cell_type": "code",
   "execution_count": 33,
   "id": "2aff73ab",
   "metadata": {},
   "outputs": [
    {
     "data": {
      "text/plain": [
       "['acidic', 'neutral', 'basic']"
      ]
     },
     "execution_count": 33,
     "metadata": {},
     "output_type": "execute_result"
    }
   ],
   "source": [
    "def classify_pH(pH):\n",
    "    if pH < 7:\n",
    "        return \"acidic\"\n",
    "    elif pH > 7:\n",
    "        return \"basic\"\n",
    "    else:\n",
    "        return \"neutral\"\n",
    "\n",
    "[classify_pH(x) for x in [2.0, 7.0, 8.3]]"
   ]
  },
  {
   "cell_type": "markdown",
   "id": "0ec2f945",
   "metadata": {},
   "source": [
    "```{admonition} Read this\n",
    "- Conditions use `<`, `>`, `<=`, `>=`, `==`, `!=`\n",
    "- Only one branch runs\n",
    "```\n",
    "\n",
    "### 7.2 for - loop over a collection"
   ]
  },
  {
   "cell_type": "code",
   "execution_count": 34,
   "id": "6e22ef09",
   "metadata": {},
   "outputs": [
    {
     "name": "stdout",
     "output_type": "stream",
     "text": [
      "Formula: CO2\n",
      "Formula: H2O\n",
      "Formula: NH3\n"
     ]
    }
   ],
   "source": [
    "formulas = [\"CO2\", \"H2O\", \"NH3\"]\n",
    "for f in formulas:\n",
    "    print(\"Formula:\", f)"
   ]
  },
  {
   "cell_type": "markdown",
   "id": "b93d29d6",
   "metadata": {},
   "source": [
    "```{admonition} Tip\n",
    "Use `for item in list:` when you know how many items you have.\n",
    "```\n",
    "\n",
    "### 7.3 while - repeat until a condition is false"
   ]
  },
  {
   "cell_type": "code",
   "execution_count": 35,
   "id": "5380a067",
   "metadata": {},
   "outputs": [
    {
     "name": "stdout",
     "output_type": "stream",
     "text": [
      "i = 1\n",
      "i = 2\n",
      "i = 3\n"
     ]
    }
   ],
   "source": [
    "# Count up to 3\n",
    "i = 1\n",
    "while i <= 3:\n",
    "    print(\"i =\", i)\n",
    "    i += 1"
   ]
  },
  {
   "cell_type": "markdown",
   "id": "6ff381ca",
   "metadata": {},
   "source": [
    "A small string example that reads digits from the front of a string:"
   ]
  },
  {
   "cell_type": "code",
   "execution_count": 36,
   "id": "55f895f1",
   "metadata": {},
   "outputs": [
    {
     "data": {
      "text/plain": [
       "(123, 'abc')"
      ]
     },
     "execution_count": 36,
     "metadata": {},
     "output_type": "execute_result"
    }
   ],
   "source": [
    "s = \"123abc\"\n",
    "i = 0\n",
    "num = 0\n",
    "while i < len(s) and s[i].isdigit():\n",
    "    num = num * 10 + int(s[i])\n",
    "    i += 1\n",
    "num, s[i:]"
   ]
  },
  {
   "cell_type": "markdown",
   "id": "f0925665",
   "metadata": {},
   "source": [
    "```{admonition} Common gotchas\n",
    "- Forgetting to update the counter in a `while` loop can cause an infinite loop\n",
    "- `for` is usually simpler than `while` when looping over lists\n",
    "```\n",
    "\n",
    "```{admonition} Practice\n",
    "- Change `classify_pH` to return \"very acidic\" for pH < 3\n",
    "- Use a `for` loop to print each element in `[\"H\", \"C\", \"O\"]` with its atomic weight from `aw`\n",
    "- Use a `while` loop to sum numbers from 1 to 100\n",
    "```\n",
    "\n",
    "\n",
    "## 8. Functions - small reusable steps\n",
    "\n",
    "A function is a named recipe. Inputs go in parentheses. The result is returned.\n",
    "\n",
    "### 8.1 Tiny functions without control flow"
   ]
  },
  {
   "cell_type": "code",
   "execution_count": 37,
   "id": "7bb8001d",
   "metadata": {},
   "outputs": [
    {
     "data": {
      "text/plain": [
       "(298.15, 0.227223667617219)"
      ]
     },
     "execution_count": 37,
     "metadata": {},
     "output_type": "execute_result"
    }
   ],
   "source": [
    "def celsius_to_kelvin(c):\n",
    "    return c + 273.15\n",
    "\n",
    "def grams_to_moles(mass_g, molar_mass):\n",
    "    return mass_g / molar_mass\n",
    "\n",
    "celsius_to_kelvin(25.0), grams_to_moles(10.0, 44.0095)"
   ]
  },
  {
   "cell_type": "markdown",
   "id": "84392495",
   "metadata": {},
   "source": [
    "```{admonition} Key ideas\n",
    "- `def name(args):` starts a function\n",
    "- `return` sends back the answer\n",
    "```\n",
    "\n",
    "### 8.2 Molar mass from element counts (uses `for`)"
   ]
  },
  {
   "cell_type": "code",
   "execution_count": 38,
   "id": "a8330149",
   "metadata": {},
   "outputs": [
    {
     "data": {
      "text/plain": [
       "44.009"
      ]
     },
     "execution_count": 38,
     "metadata": {},
     "output_type": "execute_result"
    }
   ],
   "source": [
    "def molar_mass_from_counts(counts, atomic_weights):\n",
    "    \"\"\"\n",
    "    counts: dict like {'C': 1, 'O': 2}\n",
    "    atomic_weights: dict of element -> atomic weight\n",
    "    \"\"\"\n",
    "    total = 0.0\n",
    "    for elem, count in counts.items():\n",
    "        total += atomic_weights[elem] * count\n",
    "    return total\n",
    "\n",
    "molar_mass_from_counts({\"C\": 1, \"O\": 2}, aw)"
   ]
  },
  {
   "cell_type": "markdown",
   "id": "4a3974b9",
   "metadata": {},
   "source": [
    "### 8.3 Parse a simple formula string (uses `if` and `while`)\n",
    "\n",
    "We now turn \"CO2\" into `{\"C\": 1, \"O\": 2}`.\n",
    "\n",
    "```{note}\n",
    "Scope: symbols with optional lowercase letter, followed by an optional number. No parentheses or dots.\n",
    "```"
   ]
  },
  {
   "cell_type": "code",
   "execution_count": 39,
   "id": "e4e89de2",
   "metadata": {},
   "outputs": [
    {
     "data": {
      "text/plain": [
       "{'C': 6, 'H': 12, 'O': 6}"
      ]
     },
     "execution_count": 39,
     "metadata": {},
     "output_type": "execute_result"
    }
   ],
   "source": [
    "def parse_formula(formula):\n",
    "    counts = {}\n",
    "    i = 0\n",
    "    while i < len(formula):\n",
    "        # element symbol\n",
    "        elem = formula[i]\n",
    "        i += 1\n",
    "        if i < len(formula) and formula[i].islower():\n",
    "            elem += formula[i]\n",
    "            i += 1\n",
    "        # digits (may be empty)\n",
    "        num = 0\n",
    "        while i < len(formula) and formula[i].isdigit():\n",
    "            num = num * 10 + int(formula[i])\n",
    "            i += 1\n",
    "        num = num or 1\n",
    "        counts[elem] = counts.get(elem, 0) + num\n",
    "    return counts\n",
    "\n",
    "parse_formula(\"C6H12O6\")"
   ]
  },
  {
   "cell_type": "markdown",
   "id": "65a89d9b",
   "metadata": {},
   "source": [
    "### 8.4 Final convenience function"
   ]
  },
  {
   "cell_type": "code",
   "execution_count": 40,
   "id": "837997f7",
   "metadata": {},
   "outputs": [
    {
     "data": {
      "text/plain": [
       "(44.009, 18.015, 180.156)"
      ]
     },
     "execution_count": 40,
     "metadata": {},
     "output_type": "execute_result"
    }
   ],
   "source": [
    "def molar_mass(formula, atomic_weights):\n",
    "    return molar_mass_from_counts(parse_formula(formula), atomic_weights)\n",
    "\n",
    "molar_mass(\"CO2\", aw), molar_mass(\"H2O\", aw), molar_mass(\"C6H12O6\", aw)"
   ]
  },
  {
   "cell_type": "markdown",
   "id": "9ef96095",
   "metadata": {},
   "source": [
    "```{admonition} Try it\n",
    "Check that `grams_to_moles(36.0, molar_mass(\"H2O\", aw))` matches your earlier result.\n",
    "```\n",
    "\n",
    "```{warning}\n",
    "If you see `KeyError: 'Na'`, add the element to `aw` first.\n",
    "```\n",
    "---\n",
    "\n",
    "## 9. First plot - a Beer-Lambert style line\n",
    "\n",
    "Assume path length $b=1$ cm and molar absorptivity $\\epsilon=120\\ \\mathrm{L\\ mol^{-1}\\ cm^{-1}}$. Plot absorbance vs concentration."
   ]
  },
  {
   "cell_type": "code",
   "execution_count": 41,
   "id": "1ba89579",
   "metadata": {},
   "outputs": [
    {
     "data": {
      "image/png": "[encoded data removed]",
      "text/plain": [
       "<Figure size 640x480 with 1 Axes>"
      ]
     },
     "metadata": {},
     "output_type": "display_data"
    }
   ],
   "source": [
    "import numpy as np\n",
    "import matplotlib.pyplot as plt\n",
    "\n",
    "epsilon = 120.0   # L mol^-1 cm^-1\n",
    "b = 1.0           # cm\n",
    "c = np.linspace(0, 0.02, 21)     # mol L^-1\n",
    "A = epsilon * b * c\n",
    "\n",
    "plt.plot(c, A, marker=\"o\")\n",
    "plt.xlabel(\"concentration, mol L$^{-1}$\")\n",
    "plt.ylabel(\"absorbance, A\")\n",
    "plt.title(\"Beer-Lambert A = ε b c\")\n",
    "plt.grid(True)"
   ]
  },
  {
   "cell_type": "markdown",
   "id": "215ac2c2",
   "metadata": {},
   "source": [
    "### 9.A What each plotting call means\n",
    "\n",
    "**`plt.figure(figsize=(w, h))`**  \n",
    "Start a new blank figure. Use it when you do not want a new plot to draw on top of an old one.  \n",
    "- `figsize` is width and height in inches. Example: `(6, 4)`.\n",
    "\n",
    "**`plt.plot(x, y, marker=\"o\", linestyle=\"-\", linewidth=1, label=\"text\")`**  \n",
    "Draw a line plot of `y` vs `x`.  \n",
    "- `marker=\"o\"` puts a circle at each data point.  \n",
    "- `linestyle` can be `\"-\"`, `\"--\"`, `\":\"`, or `\"-.\"`.  \n",
    "- `linewidth` controls line thickness.  \n",
    "- `label` sets the name shown in a legend.\n",
    "\n",
    "**`plt.xlabel(\"text\")`, `plt.ylabel(\"text\")`**  \n",
    "Label the horizontal and vertical axes. You can include math with `$...$`, for example `mol L$^{-1}$`.\n",
    "\n",
    "**`plt.title(\"text\")`**  \n",
    "Add a title to the axes.\n",
    "\n",
    "**`plt.grid(True)`**  \n",
    "Show a grid to make reading values easier.  \n",
    "- You can target one axis with `plt.grid(axis=\"y\")`.\n",
    "\n",
    "**`plt.xlim(left, right)`, `plt.ylim(bottom, top)`**  \n",
    "Set the visible range for each axis. Use these to zoom in or to force the origin to be visible.  \n",
    "- Example: `plt.xlim(0, c.max())`.\n",
    "\n",
    "**`plt.legend()`**  \n",
    "Show a legend for any lines that have a `label=`.\n",
    "\n",
    "**`plt.savefig(\"name.png\", dpi=150, bbox_inches=\"tight\")`**  \n",
    "Save the current figure to a file.  \n",
    "- `dpi` controls sharpness for raster formats.  \n",
    "- `bbox_inches=\"tight\"` trims extra margins.\n",
    "\n",
    "---\n",
    "\n",
    "### 9.B Mini examples\n",
    "\n",
    "**1) Basic line with markers**"
   ]
  },
  {
   "cell_type": "code",
   "execution_count": 42,
   "id": "9966ba7a",
   "metadata": {},
   "outputs": [
    {
     "data": {
      "image/png": "[encoded data removed]",
      "text/plain": [
       "<Figure size 600x400 with 1 Axes>"
      ]
     },
     "metadata": {},
     "output_type": "display_data"
    }
   ],
   "source": [
    "import numpy as np\n",
    "import matplotlib.pyplot as plt\n",
    "\n",
    "x = np.linspace(0, 10, 11)\n",
    "y = 2 * x\n",
    "\n",
    "plt.figure(figsize=(6, 4))\n",
    "plt.plot(x, y, marker=\"o\")         # line plus markers\n",
    "plt.xlabel(\"x\")\n",
    "plt.ylabel(\"y\")\n",
    "plt.title(\"y = 2x\")\n",
    "plt.grid(True)"
   ]
  },
  {
   "cell_type": "markdown",
   "id": "f710bf06",
   "metadata": {},
   "source": [
    "**2) Change style and set limits**"
   ]
  },
  {
   "cell_type": "code",
   "execution_count": 43,
   "id": "716bac63",
   "metadata": {},
   "outputs": [
    {
     "data": {
      "text/plain": [
       "(0.0, 25.0)"
      ]
     },
     "execution_count": 43,
     "metadata": {},
     "output_type": "execute_result"
    },
    {
     "data": {
      "image/png": "[encoded data removed]",
      "text/plain": [
       "<Figure size 600x400 with 1 Axes>"
      ]
     },
     "metadata": {},
     "output_type": "display_data"
    }
   ],
   "source": [
    "plt.figure(figsize=(6, 4))\n",
    "plt.plot(x, y, linestyle=\"--\", marker=\"s\", linewidth=2)\n",
    "plt.xlabel(\"time, s\")\n",
    "plt.ylabel(\"distance, m\")\n",
    "plt.title(\"Dashed line with square markers\")\n",
    "plt.grid(axis=\"y\")\n",
    "plt.xlim(0, 10)\n",
    "plt.ylim(0, 25)"
   ]
  },
  {
   "cell_type": "markdown",
   "id": "1bba7e34",
   "metadata": {},
   "source": [
    "**3) Two lines and a legend**"
   ]
  },
  {
   "cell_type": "code",
   "execution_count": 44,
   "id": "e1d8db02",
   "metadata": {},
   "outputs": [
    {
     "data": {
      "text/plain": [
       "<matplotlib.legend.Legend at 0x17fbe84aaf0>"
      ]
     },
     "execution_count": 44,
     "metadata": {},
     "output_type": "execute_result"
    },
    {
     "data": {
      "image/png": "[encoded data removed]",
      "text/plain": [
       "<Figure size 600x400 with 1 Axes>"
      ]
     },
     "metadata": {},
     "output_type": "display_data"
    }
   ],
   "source": [
    "c = np.linspace(0.0, 0.020, 21)   # mol L^-1\n",
    "epsilon = 120.0                   # L mol^-1 cm^-1\n",
    "b1 = 1.0                          # cm\n",
    "b2 = 2.0                          # cm\n",
    "\n",
    "A1 = epsilon * b1 * c\n",
    "A2 = epsilon * b2 * c\n",
    "\n",
    "plt.figure(figsize=(6, 4))\n",
    "plt.plot(c, A1, marker=\"o\", label=\"b = 1.0 cm\")\n",
    "plt.plot(c, A2, marker=\"x\", linestyle=\":\", label=\"b = 2.0 cm\")\n",
    "plt.xlabel(\"concentration, mol L$^{-1}$\")\n",
    "plt.ylabel(\"absorbance, A\")\n",
    "plt.title(\"Beer-Lambert: effect of path length\")\n",
    "plt.grid(True)\n",
    "plt.legend()"
   ]
  },
  {
   "cell_type": "markdown",
   "id": "c20af647",
   "metadata": {},
   "source": [
    "**4) Save the figure to a file**"
   ]
  },
  {
   "cell_type": "code",
   "execution_count": 45,
   "id": "89e8e373",
   "metadata": {},
   "outputs": [
    {
     "data": {
      "text/plain": [
       "'Saved file: beer_lambert_example.png'"
      ]
     },
     "execution_count": 45,
     "metadata": {},
     "output_type": "execute_result"
    },
    {
     "data": {
      "text/plain": [
       "<Figure size 640x480 with 0 Axes>"
      ]
     },
     "metadata": {},
     "output_type": "display_data"
    }
   ],
   "source": [
    "plt.savefig(\"beer_lambert_example.png\", dpi=150, bbox_inches=\"tight\")\n",
    "\"Saved file: beer_lambert_example.png\""
   ]
  },
  {
   "cell_type": "markdown",
   "id": "8b8aa502",
   "metadata": {},
   "source": [
    "---\n",
    "\n",
    "### 9.C Quick troubleshooting\n",
    "\n",
    "- New plot drew on top of the old one  \n",
    "  → Call `plt.figure()` before the new `plt.plot(...)`.\n",
    "- Empty figure in some environments  \n",
    "  → In classic Jupyter, add `%matplotlib inline` near the top of the notebook.\n",
    "- Labels cut off when saving  \n",
    "  → Use `bbox_inches=\"tight\"` in `plt.savefig(...)`.\n",
    "\n",
    "\n",
    "```{admonition} Exercise 9.1\n",
    "Change $\\epsilon$ to 80 and re-run. What happens to the slope?\n",
    ":class: dropdown\n",
    "\n",
    "**Answer** - the line is less steep because absorbance is proportional to $\\epsilon$.\n",
    "```\n",
    "\n",
    "\n",
    "```{admonition} Common message types\n",
    ":class: tip\n",
    "- **NameError** - you misspelled a name or used it before defining it.\n",
    "- **TypeError** - you used the wrong kind of value.\n",
    "- **KeyError** - dictionary key not found, e.g. `\"Na\"` missing from `aw`.\n",
    "```\n",
    "\n",
    "\n",
    "```{admonition} Save your work\n",
    "Click **Save** or press `Ctrl+S`. Commit to version control if you use git.\n",
    "```\n",
    "---\n",
    "\n",
    "## 10. Glossary\n",
    "\n",
    "```{glossary}\n",
    "variable\n",
    "  A name that points to a value, like a label on a box. Example: `x = 10`.\n",
    "\n",
    "function\n",
    "  A named block of code that performs a task and returns a result. Example: `print()`, or your own `grams_to_moles()`.\n",
    "\n",
    "dictionary\n",
    "  A mapping from keys to values, written with curly braces. Example: `{\"H\": 1.008, \"O\": 15.999}`.\n",
    "\n",
    "list\n",
    "  An ordered collection of items, written with square brackets. Example: `[\"HCl\", \"HNO3\", \"H2SO4\"]`.\n",
    "\n",
    "comment\n",
    "  Text starting with `#` in code. Ignored by Python. Useful for notes and explanations.\n",
    "\n",
    "float\n",
    "  A number with a decimal point. Example: `3.14`.\n",
    "\n",
    "integer\n",
    "  A whole number without a decimal point. Example: `42`.\n",
    "\n",
    "string\n",
    "  Text written between quotes. Example: `\"Hello\"`.\n",
    "\n",
    "if statement\n",
    "  A way to make decisions in code: run different blocks depending on a condition.\n",
    "\n",
    "for loop\n",
    "  A way to repeat an action for each item in a list or sequence.\n",
    "\n",
    "while loop\n",
    "  A way to repeat an action until a condition is no longer true.\n",
    "\n",
    "module\n",
    "  A file or library that provides extra tools for Python. Example: `import math`.\n",
    "\n",
    "array\n",
    "  A grid of values from NumPy that supports math on entire sets of numbers at once.\n",
    "\n",
    "plot\n",
    "  A figure showing data graphically. Made here with Matplotlib using commands like `plt.plot(...)`.\n",
    "\n",
    "error\n",
    "  A message from Python when something goes wrong. Example: `NameError`, `TypeError`.\n",
    "\n",
    "operator\n",
    "  A symbol that performs an action on values. Examples: `+`, `-`, `*`, `/`, `**`.\n",
    "```"
   ]
  }
 ],
 "metadata": {
  "jupytext": {
   "text_representation": {
    "extension": ".md",
    "format_name": "myst",
    "format_version": 0.13,
    "jupytext_version": "1.16.4"
   }
  },
  "kernelspec": {
   "display_name": "Python 3",
   "language": "python",
   "name": "python3"
  },
  "language_info": {
   "codemirror_mode": {
    "name": "ipython",
    "version": 3
   },
   "file_extension": ".py",
   "mimetype": "text/x-python",
   "name": "python",
   "nbconvert_exporter": "python",
   "pygments_lexer": "ipython3",
   "version": "3.8.10"
  },
  "source_map": [
   12,
   115,
   117,
   124,
   126,
   137,
   140,
   144,
   146,
   150,
   153,
   157,
   163,
   167,
   173,
   177,
   180,
   184,
   186,
   207,
   210,
   214,
   216,
   220,
   223,
   229,
   233,
   256,
   262,
   266,
   268,
   274,
   278,
   282,
   284,
   334,
   337,
   346,
   348,
   352,
   354,
   360,
   365,
   369,
   373,
   377,
   380,
   390,
   394,
   398,
   400,
   411,
   414,
   418,
   422,
   426,
   428,
   432,
   435,
   446,
   450,
   454,
   457,
   493,
   503,
   512,
   516,
   524,
   530,
   534,
   542,
   562,
   570,
   579,
   591,
   601,
   622,
   626,
   631,
   646,
   660,
   703,
   716,
   720,
   729,
   733,
   750,
   754,
   757
  ]
 },
 "nbformat": 4,
 "nbformat_minor": 5
}