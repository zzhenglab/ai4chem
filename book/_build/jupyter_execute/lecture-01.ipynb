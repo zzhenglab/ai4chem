{
 "cells": [
  {
   "cell_type": "markdown",
   "id": "1dbcf8d6",
   "metadata": {},
   "source": [
    "# Lecture 1 - Python Primer\n",
    "\n",
    "\n",
    "> Learn just enough Python to start doing chemistry right away.\n",
    "\n",
    "```{admonition} Who is this for?\n",
    "Absolute beginners. If you can open a notebook and type, you can follow along.\n",
    "```\n",
    "\n",
    "```{contents}\n",
    ":local:\n",
    ":depth: 2\n",
    "```\n",
    "\n",
    "## Learning goals\n",
    "\n",
    "- Run code cells in a notebook and switch between **Code** and **Markdown**.\n",
    "- Use Python as a calculator for quick chemical math.\n",
    "- Store values in **variables**, use **lists** and **dictionaries**.\n",
    "- Write tiny **functions** to avoid repeating yourself.\n",
    "- Make a simple **plot** for a chemistry relationship.\n",
    "- Read error messages without panic.\n",
    "\n",
    "::::{grid}\n",
    ":gutter: 3\n",
    "\n",
    ":::{grid-item-card} What you will do\n",
    "^^^\n",
    "- Compute molar masses\n",
    "- Convert mass to moles\n",
    "- Plot Beer-Lambert style data\n",
    "+++\n",
    "Keep this page open as a reference.\n",
    ":::\n",
    "\n",
    ":::{grid-item-card} What you will not do\n",
    "^^^\n",
    "- Heavy theory\n",
    "- Long scripts\n",
    "- Package installation rabbit holes\n",
    "+++\n",
    "We keep it short and friendly.\n",
    ":::\n",
    "::::\n",
    "\n",
    "---\n",
    "\n",
    "(content:setup)=\n",
    "## 1. Setup - choose your path\n",
    "\n",
    "`````{tab-set}\n",
    "````{tab-item} Anaconda\n",
    "Install **Anaconda** and open **JupyterLab**. Create a new notebook with the Python kernel.\n",
    "````\n",
    "````{tab-item} Miniconda\n",
    "Install **Miniconda**, then in a terminal:\n",
    "```bash\n",
    "conda create -n aichem python=3.11 -y\n",
    "conda activate aichem\n",
    "pip install jupyter matplotlib numpy pandas\n",
    "jupyter lab\n",
    "```\n",
    "Create a new notebook.\n",
    "````\n",
    "````{tab-item} Google Colab\n",
    "Go to Colab, click **New Notebook**. When you see a code cell, you are ready.\n",
    "````\n",
    "`````\n",
    "\n",
    "```{note}\n",
    "If you already have a working notebook with {{ pyver }}, you are good to go.\n",
    "```\n",
    "\n",
    "---\n",
    "\n",
    "(content:notebooks)=\n",
    "## 2. Meet the notebook\n",
    "\n",
    "- A notebook has **cells**.\n",
    "- **Code cells** run Python.\n",
    "- **Markdown cells** hold text, titles, and math like $PV = nRT$.\n",
    "\n",
    "```{admonition} Handy keys\n",
    "- `Shift+Enter` - run cell\n",
    "- `A` - new cell above\n",
    "- `B` - new cell below\n",
    "- `M` - turn into Markdown\n",
    "- `Y` - turn into Code\n",
    "```\n",
    "\n",
    "```{margin}\n",
    "Tip - rename your notebook to `01_python_primer.ipynb`.\n",
    "```\n",
    "\n",
    "---\n",
    "\n",
    "(content:calculator)=\n",
    "## 3. Python as a calculator\n",
    "\n",
    "Start with a code cell."
   ]
  },
  {
   "cell_type": "code",
   "execution_count": 1,
   "id": "398dcc38",
   "metadata": {},
   "outputs": [
    {
     "data": {
      "text/plain": [
       "4"
      ]
     },
     "execution_count": 1,
     "metadata": {},
     "output_type": "execute_result"
    }
   ],
   "source": [
    "2 + 2"
   ]
  },
  {
   "cell_type": "code",
   "execution_count": 2,
   "id": "bd7077a0",
   "metadata": {},
   "outputs": [
    {
     "data": {
      "text/plain": [
       "(12, 2.5, 32)"
      ]
     },
     "execution_count": 2,
     "metadata": {},
     "output_type": "execute_result"
    }
   ],
   "source": [
    "# Multiplication, division, powers\n",
    "3 * 4, 10 / 4, 2 ** 5"
   ]
  },
  {
   "cell_type": "markdown",
   "id": "9dae1702",
   "metadata": {},
   "source": [
    "```{admonition} Try it\n",
    "Change the numbers and run again. Nothing breaks if you experiment.\n",
    "```\n",
    "\n",
    "### Common gotchas\n",
    "\n",
    "````{warning}\n",
    "- `10/3` gives a **float** like `3.3333333333`.\n",
    "- `10//3` gives **integer division** `3`.\n",
    "````\n",
    "\n",
    "---\n",
    "\n",
    "(content:variables)=\n",
    "## 4. Variables - names for values"
   ]
  },
  {
   "cell_type": "code",
   "execution_count": 3,
   "id": "9f15ccbe",
   "metadata": {},
   "outputs": [
    {
     "data": {
      "text/plain": [
       "(float, float)"
      ]
     },
     "execution_count": 3,
     "metadata": {},
     "output_type": "execute_result"
    }
   ],
   "source": [
    "temperature_K = 298.15\n",
    "R = 0.082057  # L·atm·mol^-1·K^-1\n",
    "type(temperature_K), type(R)"
   ]
  },
  {
   "cell_type": "markdown",
   "id": "fd2fccd4",
   "metadata": {},
   "source": [
    "```{note}\n",
    "A variable is just a label that points to a value. You can reuse it many times.\n",
    "```\n",
    "\n",
    "---\n",
    "\n",
    "(content:chem-quick)=\n",
    "## 5. Quick chemistry - molar mass and moles\n",
    "\n",
    "Let’s compute the molar mass of carbon dioxide."
   ]
  },
  {
   "cell_type": "code",
   "execution_count": 4,
   "id": "8a83ef5e",
   "metadata": {},
   "outputs": [
    {
     "data": {
      "text/plain": [
       "44.009"
      ]
     },
     "execution_count": 4,
     "metadata": {},
     "output_type": "execute_result"
    }
   ],
   "source": [
    "C = 12.011\n",
    "O = 15.999\n",
    "M_CO2 = C + 2 * O\n",
    "M_CO2"
   ]
  },
  {
   "cell_type": "markdown",
   "id": "9922899b",
   "metadata": {},
   "source": [
    "Convert mass to moles."
   ]
  },
  {
   "cell_type": "code",
   "execution_count": 5,
   "id": "4a535226",
   "metadata": {},
   "outputs": [
    {
     "data": {
      "text/plain": [
       "0.22722624917630485"
      ]
     },
     "execution_count": 5,
     "metadata": {},
     "output_type": "execute_result"
    }
   ],
   "source": [
    "mass_g = 10.0\n",
    "moles = mass_g / M_CO2\n",
    "moles"
   ]
  },
  {
   "cell_type": "markdown",
   "id": "78e96535",
   "metadata": {},
   "source": [
    "```{admonition} Exercise 5.1 - Water\n",
    "Compute the molar mass of water and the moles in 36.0 g of water.\n",
    ":class: dropdown\n",
    "\n",
    "**Solution**\n",
    "```python\n",
    "H = 1.008\n",
    "O = 15.999\n",
    "M_H2O = 2*H + O\n",
    "moles_water = 36.0 / M_H2O\n",
    "M_H2O, moles_water\n",
    "```\n",
    "```\n",
    "\n",
    "```{admonition} Exercise 5.2 - Mixture\n",
    "You have 2.00 g of CO2 and 3.00 g of H2O. How many total moles of molecules are present?\n",
    ":class: dropdown\n",
    "\n",
    "**Hint** - compute each separately and add.\n",
    "```\n",
    "\n",
    "---\n",
    "\n",
    "(content:lists-dicts)=\n",
    "## 6. Tiny data structures - lists and dictionaries\n",
    "\n",
    "A **list** holds an ordered collection."
   ]
  },
  {
   "cell_type": "code",
   "execution_count": 6,
   "id": "0d582af7",
   "metadata": {},
   "outputs": [
    {
     "data": {
      "text/plain": [
       "('HCl', 3)"
      ]
     },
     "execution_count": 6,
     "metadata": {},
     "output_type": "execute_result"
    }
   ],
   "source": [
    "acids = [\"HCl\", \"HNO3\", \"H2SO4\"]\n",
    "acids[0], len(acids)"
   ]
  },
  {
   "cell_type": "markdown",
   "id": "0c28cc93",
   "metadata": {},
   "source": [
    "A **dictionary** maps keys to values. Great for atomic weights."
   ]
  },
  {
   "cell_type": "code",
   "execution_count": 7,
   "id": "3555f6c0",
   "metadata": {},
   "outputs": [
    {
     "data": {
      "text/plain": [
       "(15.999, True)"
      ]
     },
     "execution_count": 7,
     "metadata": {},
     "output_type": "execute_result"
    }
   ],
   "source": [
    "aw = {\"H\": 1.008, \"C\": 12.011, \"O\": 15.999, \"N\": 14.007, \"Cl\": 35.45}\n",
    "aw[\"O\"], \"H\" in aw"
   ]
  },
  {
   "cell_type": "markdown",
   "id": "da2b6b1f",
   "metadata": {},
   "source": [
    "```{admonition} Exercise 6.1\n",
    "Build a dictionary for Na and Cl, then compute molar mass of NaCl.\n",
    ":class: dropdown\n",
    "\n",
    "**Solution**\n",
    "```python\n",
    "aw.update({\"Na\": 22.990, \"Cl\": 35.45})\n",
    "M_NaCl = aw[\"Na\"] + aw[\"Cl\"]\n",
    "M_NaCl\n",
    "```\n",
    "```\n",
    "\n",
    "---\n",
    "\n",
    "(content:functions)=\n",
    "## 7. Functions - your own little tools\n",
    "\n",
    "Write a function to compute molar mass from a simple formula string like `\"CO2\"` or `\"H2O\"`.\n",
    "\n",
    "````{note}\n",
    "We will accept only very simple formulas - element followed by optional one-digit count.\n",
    "````"
   ]
  },
  {
   "cell_type": "code",
   "execution_count": 8,
   "id": "0c0fb213",
   "metadata": {},
   "outputs": [
    {
     "data": {
      "text/plain": [
       "(44.009, 18.015)"
      ]
     },
     "execution_count": 8,
     "metadata": {},
     "output_type": "execute_result"
    }
   ],
   "source": [
    "def molar_mass(formula, atomic_weights):\n",
    "    total = 0.0\n",
    "    i = 0\n",
    "    while i < len(formula):\n",
    "        # read element symbol\n",
    "        if i+1 < len(formula) and formula[i+1].islower():\n",
    "            elem = formula[i:i+2]\n",
    "            i += 2\n",
    "        else:\n",
    "            elem = formula[i]\n",
    "            i += 1\n",
    "        # read optional count\n",
    "        count = 0\n",
    "        while i < len(formula) and formula[i].isdigit():\n",
    "            count = count*10 + int(formula[i])\n",
    "            i += 1\n",
    "        count = count or 1\n",
    "        total += atomic_weights[elem] * count\n",
    "    return total\n",
    "\n",
    "m_co2 = molar_mass(\"CO2\", aw)\n",
    "m_h2o = molar_mass(\"H2O\", aw)\n",
    "m_co2, m_h2o"
   ]
  },
  {
   "cell_type": "markdown",
   "id": "74e89569",
   "metadata": {},
   "source": [
    "```{admonition} Try it\n",
    "Test `\"C6H12O6\"`. Then compare with a hand calculation.\n",
    "```\n",
    "\n",
    "---\n",
    "\n",
    "(content:control)=\n",
    "## 8. Control flow - if and for\n",
    "\n",
    "Classify solutions by a simple rule."
   ]
  },
  {
   "cell_type": "code",
   "execution_count": 9,
   "id": "db220188",
   "metadata": {},
   "outputs": [
    {
     "data": {
      "text/plain": [
       "['acidic', 'neutral', 'basic']"
      ]
     },
     "execution_count": 9,
     "metadata": {},
     "output_type": "execute_result"
    }
   ],
   "source": [
    "def classify_pH(pH):\n",
    "    if pH < 7:\n",
    "        return \"acidic\"\n",
    "    elif pH > 7:\n",
    "        return \"basic\"\n",
    "    else:\n",
    "        return \"neutral\"\n",
    "\n",
    "[classify_pH(x) for x in [2.0, 7.0, 8.3]]"
   ]
  },
  {
   "cell_type": "markdown",
   "id": "94ad2af2",
   "metadata": {},
   "source": [
    "Loop over formulas and report molar masses."
   ]
  },
  {
   "cell_type": "code",
   "execution_count": 10,
   "id": "9d99a5bc",
   "metadata": {},
   "outputs": [
    {
     "name": "stdout",
     "output_type": "stream",
     "text": [
      "CO2 44.009\n",
      "H2O 18.015\n",
      "C6H12O6 180.156\n"
     ]
    }
   ],
   "source": [
    "formulas = [\"CO2\", \"H2O\", \"C6H12O6\"]\n",
    "for f in formulas:\n",
    "    print(f, molar_mass(f, aw))"
   ]
  },
  {
   "cell_type": "markdown",
   "id": "0f18237c",
   "metadata": {},
   "source": [
    "---\n",
    "\n",
    "(content:plot)=\n",
    "## 9. First plot - a Beer-Lambert style line\n",
    "\n",
    "Assume path length $b=1$ cm and molar absorptivity $\\epsilon=120\\ \\mathrm{L\\ mol^{-1}\\ cm^{-1}}$. Plot absorbance vs concentration."
   ]
  },
  {
   "cell_type": "code",
   "execution_count": 11,
   "id": "99630348",
   "metadata": {},
   "outputs": [
    {
     "data": {
      "image/png": "[encoded data removed]",
      "text/plain": [
       "<Figure size 640x480 with 1 Axes>"
      ]
     },
     "metadata": {},
     "output_type": "display_data"
    }
   ],
   "source": [
    "import numpy as np\n",
    "import matplotlib.pyplot as plt\n",
    "\n",
    "epsilon = 120.0   # L mol^-1 cm^-1\n",
    "b = 1.0           # cm\n",
    "c = np.linspace(0, 0.02, 21)     # mol L^-1\n",
    "A = epsilon * b * c\n",
    "\n",
    "plt.plot(c, A, marker=\"o\")\n",
    "plt.xlabel(\"concentration, mol L$^{-1}$\")\n",
    "plt.ylabel(\"absorbance, A\")\n",
    "plt.title(\"Beer-Lambert A = ε b c\")\n",
    "plt.grid(True)"
   ]
  },
  {
   "cell_type": "markdown",
   "id": "8ed98faa",
   "metadata": {},
   "source": [
    "```{admonition} Exercise 9.1\n",
    "Change $\\epsilon$ to 80 and re-run. What happens to the slope?\n",
    ":class: dropdown\n",
    "\n",
    "**Answer** - the line is less steep because absorbance is proportional to $\\epsilon$.\n",
    "```\n",
    "\n",
    "---\n",
    "\n",
    "(content:glue)=\n",
    "## 10. Glue - reuse values in text\n",
    "\n",
    "We can run a calculation and **paste** the result inside Markdown. This keeps your narrative and numbers in sync."
   ]
  },
  {
   "cell_type": "code",
   "execution_count": 12,
   "id": "3f56c2ad",
   "metadata": {},
   "outputs": [
    {
     "data": {
      "text/plain": [
       "46.069"
      ]
     },
     "metadata": {
      "scrapbook": {
       "mime_prefix": "",
       "name": "MW_ethanol"
      }
     },
     "output_type": "display_data"
    }
   ],
   "source": [
    "from myst_nb import glue\n",
    "MW_ethanol = molar_mass(\"C2H6O\", aw)\n",
    "glue(\"MW_ethanol\", MW_ethanol)"
   ]
  },
  {
   "cell_type": "markdown",
   "id": "ee8f710c",
   "metadata": {},
   "source": [
    "The molar mass of ethanol is **{glue:text}`MW_ethanol:.3f` g mol^-1**.\n",
    "\n",
    "```{admonition} Why this helps\n",
    "If you change the atomic weights or the formula later, the number in your text updates the next time you build the notebook or book.\n",
    "```\n",
    "\n",
    "---\n",
    "\n",
    "(content:pv=nrt)=\n",
    "## 11. Mini task - using $PV=nRT$\n",
    "\n",
    "We will compute the pressure of 0.050 mol of gas at 298 K in a 2.0 L flask."
   ]
  },
  {
   "cell_type": "code",
   "execution_count": 13,
   "id": "67ca8b55",
   "metadata": {},
   "outputs": [
    {
     "data": {
      "text/plain": [
       "0.6113246500000001"
      ]
     },
     "execution_count": 13,
     "metadata": {},
     "output_type": "execute_result"
    }
   ],
   "source": [
    "R = 0.082057  # L·atm·mol^-1·K^-1\n",
    "n = 0.050\n",
    "T = 298.0\n",
    "V = 2.0\n",
    "P_atm = n * R * T / V\n",
    "P_atm"
   ]
  },
  {
   "cell_type": "markdown",
   "id": "614eba46",
   "metadata": {},
   "source": [
    "```{admonition} Exercise 11.1\n",
    "Change the temperature to 350 K. What is the new pressure in atm?\n",
    ":class: dropdown\n",
    "\n",
    "**Solution**\n",
    "```python\n",
    "T = 350.0\n",
    "P_atm = n * R * T / V\n",
    "P_atm\n",
    "```\n",
    "```\n",
    "\n",
    "---\n",
    "\n",
    "## 12. Reading errors without stress\n",
    "\n",
    "Make a typo to see a helpful error.\n",
    "\n",
    "```{code-cell} ipython3\n",
    "# Remove the leading # and run to see a NameError\n",
    "# print(molar_masss(\"CO2\", aw))\n",
    "```\n",
    "\n",
    "```{admonition} Common message types\n",
    ":class: tip\n",
    "- **NameError** - you misspelled a name or used it before defining it.\n",
    "- **TypeError** - you used the wrong kind of value.\n",
    "- **KeyError** - dictionary key not found, e.g. `\"Na\"` missing from `aw`.\n",
    "```\n",
    "\n",
    "---\n",
    "\n",
    "(content:challenges)=\n",
    "## 13. Check your understanding\n",
    "\n",
    "````{dropdown} Quiz - three quick checks\n",
    "1. Which structure maps element symbols to masses?\n",
    "   - A. list  \n",
    "   - B. dictionary ✅  \n",
    "   - C. string\n",
    "\n",
    "2. If `A = ε b c`, doubling `b` while `ε` and `c` stay constant will:\n",
    "   - A. halve absorbance  \n",
    "   - B. double absorbance ✅  \n",
    "   - C. do nothing\n",
    "\n",
    "3. In `PV = nRT`, units must be consistent. If $R$ is in L atm mol^-1 K^-1 and $T$ is in K, what unit should $V$ use?\n",
    "   - A. L ✅  \n",
    "   - B. mL  \n",
    "   - C. Pa\n",
    "````\n",
    "```{note}\n",
    "mL also works if you convert to L before using the formula.\n",
    "```\n",
    "\n",
    "---\n",
    "\n",
    "(content:glossary)=\n",
    "## 14. Glossary\n",
    "\n",
    "```{glossary}\n",
    "variable\n",
    "  A name that points to a value.\n",
    "function\n",
    "  A named block of code that returns a result.\n",
    "dictionary\n",
    "  A mapping from keys to values.\n",
    "```\n",
    "\n",
    "---\n",
    "\n",
    "(content:references)=\n",
    "## 15. Quick links\n",
    "\n",
    "- [](content:setup) - setup options\n",
    "- [](content:chem-quick) - chemistry math\n",
    "- [](content:plot) - first plot\n",
    "\n",
    "```{index} General Index\n",
    "```\n",
    "\n",
    "For a full index see [](genindex).\n",
    "\n",
    "---\n",
    "\n",
    "(content:extras)=\n",
    "## 16. Optional extras\n",
    "\n",
    "`````{admonition} Try a simple interactive widget\n",
    ":class: dropdown\n",
    "Colab and Jupyter can run widgets. If `ipywidgets` is available:\n",
    "```python\n",
    "# pip install ipywidgets   # if needed\n",
    "import ipywidgets as w\n",
    "import numpy as np\n",
    "import matplotlib.pyplot as plt\n",
    "\n",
    "def beer_lambert(epsilon=120.0):\n",
    "    c = np.linspace(0, 0.02, 21)\n",
    "    A = epsilon * 1.0 * c\n",
    "    plt.figure()\n",
    "    plt.plot(c, A, marker=\"o\")\n",
    "    plt.xlabel(\"concentration, mol L$^{-1}$\")\n",
    "    plt.ylabel(\"absorbance, A\")\n",
    "    plt.title(f\"A = ε b c  (ε = {epsilon:.0f})\")\n",
    "    plt.grid(True)\n",
    "\n",
    "w.interact(beer_lambert, epsilon=(20.0, 200.0, 10.0));\n",
    "```\n",
    "`````\n",
    "\n",
    "---\n",
    "\n",
    "## 17. What’s next\n",
    "\n",
    "- Clean up your `molar_mass` function to support multi-digit counts like `\"C12H22O11\"`.  \n",
    "- Read a small CSV of concentrations and plot absorbance.  \n",
    "- Move on to the next lesson once you feel comfortable with variables, lists, dictionaries, functions, and plotting.\n",
    "\n",
    "```{admonition} Save your work\n",
    "Click **Save** or press `Ctrl+S`. Commit to version control if you use git.\n",
    "```"
   ]
  }
 ],
 "metadata": {
  "jupytext": {
   "text_representation": {
    "extension": ".md",
    "format_name": "myst",
    "format_version": 0.13,
    "jupytext_version": "1.16.4"
   }
  },
  "kernelspec": {
   "display_name": "Python 3",
   "language": "python",
   "name": "python3"
  },
  "language_info": {
   "codemirror_mode": {
    "name": "ipython",
    "version": 3
   },
   "file_extension": ".py",
   "mimetype": "text/x-python",
   "name": "python",
   "nbconvert_exporter": "python",
   "pygments_lexer": "ipython3",
   "version": "3.13.5"
  },
  "source_map": [
   12,
   116,
   120,
   123,
   141,
   145,
   158,
   163,
   167,
   171,
   201,
   204,
   208,
   211,
   236,
   260,
   273,
   283,
   287,
   291,
   300,
   314,
   330,
   334,
   349,
   356
  ]
 },
 "nbformat": 4,
 "nbformat_minor": 5
}