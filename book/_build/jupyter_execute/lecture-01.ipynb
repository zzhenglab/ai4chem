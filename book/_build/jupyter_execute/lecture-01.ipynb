{
 "cells": [
  {
   "cell_type": "markdown",
   "id": "b914673d",
   "metadata": {},
   "source": [
    "# Lecture 1 - Python Primer\n",
    "\n",
    "\n",
    "> Learn just enough Python to start doing chemistry right away.\n",
    "\n",
    "```{admonition} Who is this for?\n",
    "Absolute beginners. If you can open a notebook and type, you can follow along.\n",
    "```\n",
    "\n",
    "```{contents}\n",
    ":local:\n",
    ":depth: 1\n",
    "```\n",
    "\n",
    "## Learning goals\n",
    "\n",
    "- Run code cells in a notebook and switch between **Code** and **Markdown**.\n",
    "- Use Python as a calculator for quick chemical math.\n",
    "- Store values in **variables**, use **lists** and **dictionaries**.\n",
    "- Write tiny **functions** to avoid repeating yourself.\n",
    "- Make a simple **plot** for a chemistry relationship.\n",
    "- Read error messages without panic.\n",
    "::::{grid}\n",
    ":gutter: 3\n",
    "\n",
    ":::{grid-item-card} Section 1–9\n",
    "^^^\n",
    "- Recommended reading before class (especially notes and tips)  \n",
    "- We will review together during lecture (bring your questions!)  \n",
    "+++\n",
    "Keep this page open for reference.\n",
    ":::\n",
    "\n",
    ":::{grid-item-card} Section 10\n",
    "^^^\n",
    "- In-class activity  \n",
    "- Work with your neighbor to solve  \n",
    "+++\n",
    "Kept short and friendly.\n",
    ":::\n",
    "::::\n",
    "\n",
    "---\n",
    "\n",
    "\n",
    "(content:setup)=\n",
    "## 1. Setup - choose your path\n",
    "\n",
    "\n",
    "Right-click the badge below and select “**Open link in new tab**”\n",
    "\n",
    "[![Colab](https://img.shields.io/badge/Open-Colab-orange)](https://colab.research.google.com/drive/1GjDnelQwhJ7Dq2zNGlkQRzkto_2du637?usp=sharing)\n",
    "\n",
    "Log in to your Google account. Then in the top left menu, go to **File** > **Save a copy** in Drive to keep your own editable version.\n",
    "\n",
    "\n",
    "\n",
    "```{note}\n",
    "You can also download and run locally on your laptop with Anaconda (JupyterLab) or Miniconda.  \n",
    "If this is your first time coding, we recommend starting with Google Colab for simplicity.\n",
    "```\n",
    "\n",
    "---\n",
    "\n",
    "(content:notebooks)=\n",
    "## 2. Meet the notebook\n",
    "\n",
    "- A notebook has **cells**.\n",
    "- **Code cells** run Python.\n",
    "- **Markdown cells** hold text, titles, and math like $PV = nRT$.\n",
    "\n",
    "```{admonition} Handy keys\n",
    "- `Shift+Enter` - run cell\n",
    "- `A` - new cell above\n",
    "- `B` - new cell below\n",
    "- `M` - turn into Markdown\n",
    "- `Y` - turn into Code\n",
    "```\n",
    "To run your first code cell, hover over the left edge of the cell. \n",
    "A play icon (circle with a triangle) appears. \n",
    "Click it to run. \n",
    "The first run may take a few seconds while the runtime starts.\n",
    "\n",
    "You can also click inside a cell and press `Shift+Enter`.\n",
    "\n",
    "\n",
    "```{margin}\n",
    "Tip - you can click on \"Copy of Lecture 1.ipynb\" to rename your notebook.\n",
    "```\n",
    "\n",
    "---\n",
    "## 3. Python as a calculator\n",
    "\n",
    "We will run a few short cells and see results right away.\n",
    "\n",
    "### 3.1 Run your first cell"
   ]
  },
  {
   "cell_type": "code",
   "execution_count": 1,
   "id": "f373a2bb",
   "metadata": {},
   "outputs": [
    {
     "name": "stdout",
     "output_type": "stream",
     "text": [
      "Hello World\n"
     ]
    }
   ],
   "source": [
    "print(\"Hello World\")"
   ]
  },
  {
   "cell_type": "markdown",
   "id": "1e98d0e8",
   "metadata": {},
   "source": [
    "- `print(...)` shows text or values in the output area.\n",
    "- In a code cell, the **value of the last line** also displays automatically.\n",
    "\n",
    "### 3.2 Simple arithmetic"
   ]
  },
  {
   "cell_type": "code",
   "execution_count": 2,
   "id": "a2b591c0",
   "metadata": {},
   "outputs": [
    {
     "data": {
      "text/plain": [
       "4"
      ]
     },
     "execution_count": 2,
     "metadata": {},
     "output_type": "execute_result"
    }
   ],
   "source": [
    "2 + 2"
   ]
  },
  {
   "cell_type": "markdown",
   "id": "ce7466ef",
   "metadata": {},
   "source": [
    "```{admonition} Tip\n",
    "You can edit the numbers in Colab and run again. Nothing breaks if you try things.\n",
    "In this web page, you will only be able to view input and output.\n",
    "```\n",
    "\n",
    "### 3.3 Comments do not run\n",
    "\n",
    "Lines that start with `#` are **comments**. Python ignores them."
   ]
  },
  {
   "cell_type": "code",
   "execution_count": 3,
   "id": "ee75edc5",
   "metadata": {},
   "outputs": [],
   "source": [
    "# This line is a comment. Remove the # and the line will run.\n",
    "# 1 + 3"
   ]
  },
  {
   "cell_type": "markdown",
   "id": "b385509c",
   "metadata": {},
   "source": [
    "You can also add a comment at the end of a line:"
   ]
  },
  {
   "cell_type": "code",
   "execution_count": 4,
   "id": "ef3950a3",
   "metadata": {},
   "outputs": [
    {
     "data": {
      "text/plain": [
       "2"
      ]
     },
     "execution_count": 4,
     "metadata": {},
     "output_type": "execute_result"
    }
   ],
   "source": [
    "1 + 1  # this adds one plus one"
   ]
  },
  {
   "cell_type": "markdown",
   "id": "a1961dfb",
   "metadata": {},
   "source": [
    "### 3.4 Only the last line shows by default"
   ]
  },
  {
   "cell_type": "code",
   "execution_count": 5,
   "id": "a9ad694e",
   "metadata": {},
   "outputs": [
    {
     "data": {
      "text/plain": [
       "2"
      ]
     },
     "execution_count": 5,
     "metadata": {},
     "output_type": "execute_result"
    }
   ],
   "source": [
    "2 + 2\n",
    "1 + 1   # only this result will display"
   ]
  },
  {
   "cell_type": "markdown",
   "id": "b99da3bc",
   "metadata": {},
   "source": [
    "To show **both** results, either use two `print` calls or return a pair of values:"
   ]
  },
  {
   "cell_type": "code",
   "execution_count": 6,
   "id": "0ee4eef9",
   "metadata": {},
   "outputs": [
    {
     "name": "stdout",
     "output_type": "stream",
     "text": [
      "4\n",
      "2\n"
     ]
    },
    {
     "data": {
      "text/plain": [
       "(4, 2)"
      ]
     },
     "execution_count": 6,
     "metadata": {},
     "output_type": "execute_result"
    }
   ],
   "source": [
    "print(2 + 2)\n",
    "print(1 + 1)\n",
    "\n",
    "# or as a pair (tuple)\n",
    "(2 + 2, 1 + 1)"
   ]
  },
  {
   "cell_type": "markdown",
   "id": "485e68c5",
   "metadata": {},
   "source": [
    "### 3.5 Common operators"
   ]
  },
  {
   "cell_type": "code",
   "execution_count": 7,
   "id": "7e15ae6e",
   "metadata": {},
   "outputs": [
    {
     "data": {
      "text/plain": [
       "32"
      ]
     },
     "execution_count": 7,
     "metadata": {},
     "output_type": "execute_result"
    }
   ],
   "source": [
    "3 * 4      # multiply\n",
    "10 / 4     # true division (float)\n",
    "10 // 4    # floor division (integer result)\n",
    "10 % 4     # remainder (modulo)\n",
    "2 ** 5     # exponent (2 to the 5)"
   ]
  },
  {
   "cell_type": "markdown",
   "id": "65e2285a",
   "metadata": {},
   "source": [
    "### 3.6 Order of operations"
   ]
  },
  {
   "cell_type": "code",
   "execution_count": 8,
   "id": "e83ac1da",
   "metadata": {},
   "outputs": [
    {
     "data": {
      "text/plain": [
       "20"
      ]
     },
     "execution_count": 8,
     "metadata": {},
     "output_type": "execute_result"
    }
   ],
   "source": [
    "2 + 3 * 4        # multiplication first\n",
    "(2 + 3) * 4      # parentheses change the order"
   ]
  },
  {
   "cell_type": "markdown",
   "id": "5771c425",
   "metadata": {},
   "source": [
    "### 3.7 Types from division"
   ]
  },
  {
   "cell_type": "code",
   "execution_count": 9,
   "id": "7c14c4f5",
   "metadata": {},
   "outputs": [
    {
     "data": {
      "text/plain": [
       "(float, int)"
      ]
     },
     "execution_count": 9,
     "metadata": {},
     "output_type": "execute_result"
    }
   ],
   "source": [
    "type(10 / 3), type(10 // 3)"
   ]
  },
  {
   "cell_type": "markdown",
   "id": "7d5220b8",
   "metadata": {},
   "source": [
    "```{warning}\n",
    "- `10/3` gives a **float** like `3.3333333333`.\n",
    "- `10//3` gives **integer division** `3`. With negatives it floors: `-10//3` is `-4`.\n",
    "```\n",
    "\n",
    "```{admonition} Try it\n",
    "- Change the numbers above and re-run.\n",
    "- What is `15 % 4`? What about `-15 % 4`?\n",
    "```\n",
    "\n",
    "---\n",
    "\n",
    "(content:variables)=\n",
    "## 4. Variables - names for values\n",
    "\n",
    "A variable is a **name** that points to a value. You can reuse it.\n",
    "\n",
    "### 4.1 Create and read a variable"
   ]
  },
  {
   "cell_type": "code",
   "execution_count": 10,
   "id": "e825435d",
   "metadata": {},
   "outputs": [
    {
     "data": {
      "text/plain": [
       "100"
      ]
     },
     "execution_count": 10,
     "metadata": {},
     "output_type": "execute_result"
    }
   ],
   "source": [
    "x = 100        # set x to one hundred\n",
    "x"
   ]
  },
  {
   "cell_type": "markdown",
   "id": "de87a9ee",
   "metadata": {},
   "source": [
    "Use a variable inside an expression:"
   ]
  },
  {
   "cell_type": "code",
   "execution_count": 11,
   "id": "6471aa5c",
   "metadata": {},
   "outputs": [
    {
     "data": {
      "text/plain": [
       "201"
      ]
     },
     "execution_count": 11,
     "metadata": {},
     "output_type": "execute_result"
    }
   ],
   "source": [
    "2 * x + 1"
   ]
  },
  {
   "cell_type": "markdown",
   "id": "4bfbf55a",
   "metadata": {},
   "source": [
    "### 4.2 Update a variable"
   ]
  },
  {
   "cell_type": "code",
   "execution_count": 12,
   "id": "54b64721",
   "metadata": {},
   "outputs": [
    {
     "data": {
      "text/plain": [
       "1.1"
      ]
     },
     "execution_count": 12,
     "metadata": {},
     "output_type": "execute_result"
    }
   ],
   "source": [
    "x = 1.1        # replace the old value with a new one\n",
    "x"
   ]
  },
  {
   "cell_type": "markdown",
   "id": "66224693",
   "metadata": {},
   "source": [
    "### 4.3 Descriptive names and units\n",
    "\n",
    "Choose names that tell you what the value is and, if helpful, its units."
   ]
  },
  {
   "cell_type": "code",
   "execution_count": 13,
   "id": "7aea46ba",
   "metadata": {},
   "outputs": [
    {
     "data": {
      "text/plain": [
       "(float, float)"
      ]
     },
     "execution_count": 13,
     "metadata": {},
     "output_type": "execute_result"
    }
   ],
   "source": [
    "temperature_K = 298.15              # Kelvin\n",
    "R = 0.082057                         # L·atm·mol^-1·K^-1\n",
    "type(temperature_K), type(R)"
   ]
  },
  {
   "cell_type": "markdown",
   "id": "1a0045c8",
   "metadata": {},
   "source": [
    "```{admonition} Rules of thumb\n",
    "- Names can use letters, numbers, and `_`, but cannot start with a number.\n",
    "- Names are case-sensitive: `mass` and `Mass` are different.\n",
    "- Use clear names. Add units to the name if it helps (`temperature_K`, `volume_L`).\n",
    "```\n",
    "\n",
    "```{admonition} Try it\n",
    "Make `y = 3`, then compute `y**3`. Change `y` to `10` and run again.\n",
    "```\n",
    "\n",
    "---\n",
    "\n",
    "(content:chem-quick)=\n",
    "## 5. Quick chemistry - molar mass and moles\n",
    "\n",
    "We will compute a molar mass, then convert mass to moles.\n",
    "\n",
    "### 5.1 Molar mass of CO₂\n",
    "\n",
    "Define atomic weights and add them with the correct counts."
   ]
  },
  {
   "cell_type": "code",
   "execution_count": 14,
   "id": "f30c0493",
   "metadata": {},
   "outputs": [
    {
     "data": {
      "text/plain": [
       "44.009"
      ]
     },
     "execution_count": 14,
     "metadata": {},
     "output_type": "execute_result"
    }
   ],
   "source": [
    "C = 12.011     # g mol^-1\n",
    "O = 15.999     # g mol^-1\n",
    "\n",
    "M_CO2 = C + 2 * O   # 1 carbon and 2 oxygens\n",
    "M_CO2"
   ]
  },
  {
   "cell_type": "markdown",
   "id": "1e25ad07",
   "metadata": {},
   "source": [
    "Format it nicely with units:"
   ]
  },
  {
   "cell_type": "code",
   "execution_count": 15,
   "id": "05d1b055",
   "metadata": {},
   "outputs": [
    {
     "name": "stdout",
     "output_type": "stream",
     "text": [
      "M_CO2 = 44.009 g mol^-1\n"
     ]
    }
   ],
   "source": [
    "print(f\"M_CO2 = {M_CO2:.3f} g mol^-1\")"
   ]
  },
  {
   "cell_type": "markdown",
   "id": "d55e89cc",
   "metadata": {},
   "source": [
    "### 5.2 Mass to moles\n",
    "\n",
    "Use \\( n = \\dfrac{m}{M} \\). Keep units consistent."
   ]
  },
  {
   "cell_type": "code",
   "execution_count": 16,
   "id": "6c3a3dab",
   "metadata": {},
   "outputs": [
    {
     "data": {
      "text/plain": [
       "0.22722624917630485"
      ]
     },
     "execution_count": 16,
     "metadata": {},
     "output_type": "execute_result"
    }
   ],
   "source": [
    "mass_g = 10.0            # grams of CO2\n",
    "moles = mass_g / M_CO2   # mol\n",
    "moles"
   ]
  },
  {
   "cell_type": "markdown",
   "id": "31ee55a5",
   "metadata": {},
   "source": [
    "Report with a friendly number of decimals:"
   ]
  },
  {
   "cell_type": "code",
   "execution_count": 17,
   "id": "05e865d4",
   "metadata": {},
   "outputs": [
    {
     "name": "stdout",
     "output_type": "stream",
     "text": [
      "moles of CO2 in 10.0 g = 0.2272 mol\n"
     ]
    }
   ],
   "source": [
    "print(f\"moles of CO2 in {mass_g} g = {moles:.4f} mol\")"
   ]
  },
  {
   "cell_type": "markdown",
   "id": "66165a08",
   "metadata": {},
   "source": [
    "```{note}\n",
    "Unit check: grams divided by grams per mole gives moles.\n",
    "```\n",
    "\n",
    "```{admonition} Try it\n",
    "Change `mass_g` to `22.0` or `5.5` and re-run. Does the mole amount scale as you expect?\n",
    "```\n",
    "\n",
    "### 5.3 Small sanity checks\n",
    "\n",
    "- If you double the mass, moles should double.\n",
    "- If you switch to kilograms by mistake, the result will be off by 1000. Keep everything in grams here.\n",
    "\n",
    "```{warning}\n",
    "Do not use `//` for chemistry math. `//` floors the result and throws away decimals. Use `/`.\n",
    "```\n",
    "\n",
    "```{admonition} Exercise 5.1 - Water\n",
    "Compute the molar mass of water and the moles in 36.0 g of water.\n",
    "Atomic weights: H = 1.008, O = 15.999\n",
    "```\n",
    "\n",
    "```{dropdown} Hint\n",
    "```python\n",
    "H = 1.008\n",
    "O = 15.999\n",
    "M_H2O = 2*H + O\n",
    "moles_water = 36.0 / M_H2O\n",
    "M_H2O, moles_water\n",
    "```\n",
    "\n",
    "\n",
    "\n",
    "\n",
    "\n",
    "---\n",
    "\n",
    "\n",
    "## 6. Tiny data structures - lists and dictionaries\n",
    "\n",
    "Lists keep an ordered set of items. Dictionaries map keys to values.\n",
    "\n",
    "### 6.1 Make a list and read from it"
   ]
  },
  {
   "cell_type": "code",
   "execution_count": 18,
   "id": "3d9b6222",
   "metadata": {},
   "outputs": [
    {
     "data": {
      "text/plain": [
       "(['HCl', 'HNO3', 'H2SO4'], 3)"
      ]
     },
     "execution_count": 18,
     "metadata": {},
     "output_type": "execute_result"
    }
   ],
   "source": [
    "acids = [\"HCl\", \"HNO3\", \"H2SO4\"]   # a list of strings\n",
    "acids, len(acids)"
   ]
  },
  {
   "cell_type": "markdown",
   "id": "b321d471",
   "metadata": {},
   "source": [
    "```{admonition} Key points\n",
    "- Square brackets `[...]` create a list.\n",
    "- Lists keep order. Indexing starts at 0.\n",
    "```\n",
    "\n",
    "Access items by index. Negative indexes count from the end."
   ]
  },
  {
   "cell_type": "code",
   "execution_count": 19,
   "id": "c79df060",
   "metadata": {},
   "outputs": [
    {
     "data": {
      "text/plain": [
       "('HCl', 'HNO3', 'H2SO4')"
      ]
     },
     "execution_count": 19,
     "metadata": {},
     "output_type": "execute_result"
    }
   ],
   "source": [
    "acids[0], acids[1], acids[-1]"
   ]
  },
  {
   "cell_type": "markdown",
   "id": "aa3b5d4c",
   "metadata": {},
   "source": [
    "Take a slice to get a sublist."
   ]
  },
  {
   "cell_type": "code",
   "execution_count": 20,
   "id": "6cc73774",
   "metadata": {},
   "outputs": [
    {
     "data": {
      "text/plain": [
       "['HCl', 'HNO3']"
      ]
     },
     "execution_count": 20,
     "metadata": {},
     "output_type": "execute_result"
    }
   ],
   "source": [
    "acids[0:2]   # from index 0 up to but not including 2"
   ]
  },
  {
   "cell_type": "markdown",
   "id": "bd38a881",
   "metadata": {},
   "source": [
    "### 6.2 Change a list\n",
    "\n",
    "Replace, append, insert, and remove."
   ]
  },
  {
   "cell_type": "code",
   "execution_count": 21,
   "id": "8789c98a",
   "metadata": {},
   "outputs": [
    {
     "data": {
      "text/plain": [
       "['HCl', 'HF', 'HBr', 'H2SO4', 'HNO3']"
      ]
     },
     "execution_count": 21,
     "metadata": {},
     "output_type": "execute_result"
    }
   ],
   "source": [
    "acids[1] = \"HBr\"     # replace the second item\n",
    "acids.append(\"HNO3\") # add to the end\n",
    "acids.insert(1, \"HF\")# insert at position 1\n",
    "acids"
   ]
  },
  {
   "cell_type": "markdown",
   "id": "b1784cb0",
   "metadata": {},
   "source": [
    "Remove by value or by position."
   ]
  },
  {
   "cell_type": "code",
   "execution_count": 22,
   "id": "c1c1d48a",
   "metadata": {},
   "outputs": [
    {
     "data": {
      "text/plain": [
       "('HCl', ['HBr', 'H2SO4', 'HNO3'])"
      ]
     },
     "execution_count": 22,
     "metadata": {},
     "output_type": "execute_result"
    }
   ],
   "source": [
    "acids.remove(\"HF\")   # removes the first matching \"HF\"\n",
    "popped = acids.pop(0) # removes and returns the item at index 0\n",
    "popped, acids"
   ]
  },
  {
   "cell_type": "markdown",
   "id": "d229f182",
   "metadata": {},
   "source": [
    "Add many at once."
   ]
  },
  {
   "cell_type": "code",
   "execution_count": 23,
   "id": "3363966d",
   "metadata": {},
   "outputs": [
    {
     "data": {
      "text/plain": [
       "['HBr', 'H2SO4', 'HNO3', 'HClO4', 'HI']"
      ]
     },
     "execution_count": 23,
     "metadata": {},
     "output_type": "execute_result"
    }
   ],
   "source": [
    "acids.extend([\"HClO4\", \"HI\"])\n",
    "acids"
   ]
  },
  {
   "cell_type": "markdown",
   "id": "6d9232aa",
   "metadata": {},
   "source": [
    "```{admonition} Common gotchas\n",
    "- `remove(x)` deletes the first match only.\n",
    "- `pop()` without an index removes the last item.\n",
    "- Lists are mutable. If `b = acids`, then changing `b` also changes `acids`. Use `acids.copy()` if you want a separate copy.\n",
    "```\n",
    "\n",
    "### 6.3 Check membership and find positions"
   ]
  },
  {
   "cell_type": "code",
   "execution_count": 24,
   "id": "7ad06b93",
   "metadata": {},
   "outputs": [
    {
     "data": {
      "text/plain": [
       "(True, False)"
      ]
     },
     "execution_count": 24,
     "metadata": {},
     "output_type": "execute_result"
    }
   ],
   "source": [
    "\"HBr\" in acids, \"NaOH\" in acids   # True or False"
   ]
  },
  {
   "cell_type": "code",
   "execution_count": 25,
   "id": "ef5d1d86",
   "metadata": {},
   "outputs": [
    {
     "data": {
      "text/plain": [
       "0"
      ]
     },
     "execution_count": 25,
     "metadata": {},
     "output_type": "execute_result"
    }
   ],
   "source": [
    "acids.index(\"HBr\")   # index of the first \"HBr\" if present"
   ]
  },
  {
   "cell_type": "code",
   "execution_count": 26,
   "id": "a7c2025b",
   "metadata": {},
   "outputs": [
    {
     "data": {
      "text/plain": [
       "4"
      ]
     },
     "execution_count": 26,
     "metadata": {},
     "output_type": "execute_result"
    }
   ],
   "source": [
    "acids.index(\"HI\")   # index of the first \"HI\" if present"
   ]
  },
  {
   "cell_type": "markdown",
   "id": "20cf1cbe",
   "metadata": {},
   "source": [
    "```{warning}\n",
    "Python list index starts with 0.\n",
    "`acids.index(\"HCl\")` raises a `ValueError` if the item is not present.\n",
    "```\n",
    "\n",
    "### 6.4 Make a dictionary and read from it\n",
    "\n",
    "Dictionaries use curly braces and `key: value` pairs."
   ]
  },
  {
   "cell_type": "code",
   "execution_count": 27,
   "id": "f3d1cceb",
   "metadata": {},
   "outputs": [
    {
     "data": {
      "text/plain": [
       "(15.999, True)"
      ]
     },
     "execution_count": 27,
     "metadata": {},
     "output_type": "execute_result"
    }
   ],
   "source": [
    "aw = {\"H\": 1.008, \"C\": 12.011, \"O\": 15.999, \"N\": 14.007, \"Cl\": 35.45}\n",
    "aw[\"O\"], \"H\" in aw"
   ]
  },
  {
   "cell_type": "markdown",
   "id": "5c4941d0",
   "metadata": {},
   "source": [
    "Add or update entries."
   ]
  },
  {
   "cell_type": "code",
   "execution_count": 28,
   "id": "ada84b99",
   "metadata": {},
   "outputs": [
    {
     "data": {
      "text/plain": [
       "(22.99, 32.06)"
      ]
     },
     "execution_count": 28,
     "metadata": {},
     "output_type": "execute_result"
    }
   ],
   "source": [
    "aw[\"Na\"] = 22.990          # add sodium\n",
    "aw.update({\"S\": 32.06})    # add sulfur with update\n",
    "aw[\"Na\"], aw[\"S\"]"
   ]
  },
  {
   "cell_type": "markdown",
   "id": "4cab5ebd",
   "metadata": {},
   "source": [
    "Safe lookup with a default."
   ]
  },
  {
   "cell_type": "code",
   "execution_count": 29,
   "id": "794d8d96",
   "metadata": {},
   "outputs": [
    {
     "data": {
      "text/plain": [
       "(None, 39.1)"
      ]
     },
     "execution_count": 29,
     "metadata": {},
     "output_type": "execute_result"
    }
   ],
   "source": [
    "aw.get(\"K\"), aw.get(\"K\", 39.10)   # None vs default value if missing"
   ]
  },
  {
   "cell_type": "markdown",
   "id": "53488a1a",
   "metadata": {},
   "source": [
    "Delete a key."
   ]
  },
  {
   "cell_type": "code",
   "execution_count": 30,
   "id": "6911a1c0",
   "metadata": {},
   "outputs": [
    {
     "data": {
      "text/plain": [
       "False"
      ]
     },
     "execution_count": 30,
     "metadata": {},
     "output_type": "execute_result"
    }
   ],
   "source": [
    "del aw[\"S\"]\n",
    "\"S\" in aw"
   ]
  },
  {
   "cell_type": "markdown",
   "id": "1b7d2135",
   "metadata": {},
   "source": [
    "```{admonition} Key points\n",
    "- Use `aw[\"O\"]` to get a value. If the key might be missing, use `aw.get(\"O\")`.\n",
    "- Keys must be unique. Assigning the same key again overwrites the old value.\n",
    "```\n",
    "\n",
    "### 6.5 Use the dictionary for quick chemistry\n",
    "\n",
    "Compute molar mass directly from atomic weights in `aw`."
   ]
  },
  {
   "cell_type": "code",
   "execution_count": 31,
   "id": "1d64468d",
   "metadata": {},
   "outputs": [
    {
     "data": {
      "text/plain": [
       "(44.009, 18.015)"
      ]
     },
     "execution_count": 31,
     "metadata": {},
     "output_type": "execute_result"
    }
   ],
   "source": [
    "M_CO2 = aw[\"C\"] + 2 * aw[\"O\"]\n",
    "M_H2O = 2 * aw[\"H\"] + aw[\"O\"]\n",
    "M_CO2, M_H2O"
   ]
  },
  {
   "cell_type": "markdown",
   "id": "bd8d73d3",
   "metadata": {},
   "source": [
    "Report with units."
   ]
  },
  {
   "cell_type": "code",
   "execution_count": 32,
   "id": "ac5343aa",
   "metadata": {},
   "outputs": [
    {
     "name": "stdout",
     "output_type": "stream",
     "text": [
      "M_CO2 = 44.009 g mol^-1\n",
      "M_H2O = 18.015 g mol^-1\n"
     ]
    }
   ],
   "source": [
    "print(f\"M_CO2 = {M_CO2:.3f} g mol^-1\")\n",
    "print(f\"M_H2O = {M_H2O:.3f} g mol^-1\")"
   ]
  },
  {
   "cell_type": "markdown",
   "id": "aa9f60a6",
   "metadata": {},
   "source": [
    "### 6.6 Small practice\n",
    "\n",
    "```{admonition} Try it\n",
    "- Make a list `bases = [\"NaOH\", \"KOH\"]`, append `\"NH3\"`, then replace the first item with `\"Ca(OH)2\"`.\n",
    "- Add `\"K\": 39.10` to `aw`. Compute the molar mass of KCl using only `aw`.\n",
    "```\n",
    "\n",
    "```{admonition} Exercise 6.1\n",
    "Build a dictionary entry for Na and Cl if not present, then compute molar mass of NaCl.\n",
    ":class: dropdown\n",
    "\n",
    "**Solution**\n",
    "```python\n",
    "aw.update({\"Na\": 22.990, \"Cl\": 35.45})\n",
    "M_NaCl = aw[\"Na\"] + aw[\"Cl\"]\n",
    "M_NaCl\n",
    "```\n",
    "```\n",
    "\n",
    "```{admonition} Common mistakes\n",
    "- Using parentheses instead of brackets for indexing: write `aw[\"O\"]`, not `aw(\"O\")`.\n",
    "- Typos in keys: `\"CL\"` is not the same as `\"Cl\"`.\n",
    "- Forgetting that list indexes start at 0.\n",
    "```\n",
    "\n",
    "---\n",
    "\n",
    "\n",
    "## 7. Control flow - if, for, while\n",
    "\n",
    "Control flow lets your code make choices and repeat steps.\n",
    "\n",
    "### 7.1 if - pick a path"
   ]
  },
  {
   "cell_type": "code",
   "execution_count": 33,
   "id": "3a47db25",
   "metadata": {},
   "outputs": [
    {
     "data": {
      "text/plain": [
       "['acidic', 'neutral', 'basic']"
      ]
     },
     "execution_count": 33,
     "metadata": {},
     "output_type": "execute_result"
    }
   ],
   "source": [
    "def classify_pH(pH):\n",
    "    if pH < 7:\n",
    "        return \"acidic\"\n",
    "    elif pH > 7:\n",
    "        return \"basic\"\n",
    "    else:\n",
    "        return \"neutral\"\n",
    "\n",
    "[classify_pH(x) for x in [2.0, 7.0, 8.3]]"
   ]
  },
  {
   "cell_type": "markdown",
   "id": "5dcea82f",
   "metadata": {},
   "source": [
    "```{admonition} Read this\n",
    "- Conditions use `<`, `>`, `<=`, `>=`, `==`, `!=`\n",
    "- Only one branch runs\n",
    "```\n",
    "\n",
    "### 7.2 for - loop over a collection"
   ]
  },
  {
   "cell_type": "code",
   "execution_count": 34,
   "id": "b508285c",
   "metadata": {},
   "outputs": [
    {
     "name": "stdout",
     "output_type": "stream",
     "text": [
      "Formula: CO2\n",
      "Formula: H2O\n",
      "Formula: NH3\n"
     ]
    }
   ],
   "source": [
    "formulas = [\"CO2\", \"H2O\", \"NH3\"]\n",
    "for f in formulas:\n",
    "    print(\"Formula:\", f)"
   ]
  },
  {
   "cell_type": "markdown",
   "id": "e79e6c92",
   "metadata": {},
   "source": [
    "```{admonition} Tip\n",
    "Use `for item in list:` when you know how many items you have.\n",
    "```\n",
    "\n",
    "### 7.3 while - repeat until a condition is false"
   ]
  },
  {
   "cell_type": "code",
   "execution_count": 35,
   "id": "a8946b29",
   "metadata": {},
   "outputs": [
    {
     "name": "stdout",
     "output_type": "stream",
     "text": [
      "i = 1\n",
      "i = 2\n",
      "i = 3\n"
     ]
    }
   ],
   "source": [
    "# Count up to 3\n",
    "i = 1\n",
    "while i <= 3:\n",
    "    print(\"i =\", i)\n",
    "    i += 1"
   ]
  },
  {
   "cell_type": "markdown",
   "id": "258a6780",
   "metadata": {},
   "source": [
    "A small string example that reads digits from the front of a string:"
   ]
  },
  {
   "cell_type": "code",
   "execution_count": 36,
   "id": "785f1f34",
   "metadata": {},
   "outputs": [
    {
     "data": {
      "text/plain": [
       "(123, 'abc')"
      ]
     },
     "execution_count": 36,
     "metadata": {},
     "output_type": "execute_result"
    }
   ],
   "source": [
    "s = \"123abc\"\n",
    "i = 0\n",
    "num = 0\n",
    "while i < len(s) and s[i].isdigit():\n",
    "    num = num * 10 + int(s[i])\n",
    "    i += 1\n",
    "num, s[i:]"
   ]
  },
  {
   "cell_type": "markdown",
   "id": "745ace87",
   "metadata": {},
   "source": [
    "```{admonition} Common gotchas\n",
    "- Forgetting to update the counter in a `while` loop can cause an infinite loop\n",
    "- `for` is usually simpler than `while` when looping over lists\n",
    "```\n",
    "\n",
    "```{admonition} Practice\n",
    "- Change `classify_pH` to return \"very acidic\" for pH < 3\n",
    "- Use a `for` loop to print each element in `[\"H\", \"C\", \"O\"]` with its atomic weight from `aw`\n",
    "- Use a `while` loop to sum numbers from 1 to 100\n",
    "```\n",
    "\n",
    "\n",
    "## 8. Functions - small reusable steps\n",
    "\n",
    "A function is a named recipe. Inputs go in parentheses. The result is returned.\n",
    "\n",
    "### 8.1 Tiny functions without control flow"
   ]
  },
  {
   "cell_type": "code",
   "execution_count": 37,
   "id": "448625c3",
   "metadata": {},
   "outputs": [
    {
     "data": {
      "text/plain": [
       "(298.15, 0.227223667617219)"
      ]
     },
     "execution_count": 37,
     "metadata": {},
     "output_type": "execute_result"
    }
   ],
   "source": [
    "def celsius_to_kelvin(c):\n",
    "    return c + 273.15\n",
    "\n",
    "def grams_to_moles(mass_g, molar_mass):\n",
    "    return mass_g / molar_mass\n",
    "\n",
    "celsius_to_kelvin(25.0), grams_to_moles(10.0, 44.0095)"
   ]
  },
  {
   "cell_type": "markdown",
   "id": "9a39e410",
   "metadata": {},
   "source": [
    "```{admonition} Key ideas\n",
    "- `def name(args):` starts a function\n",
    "- `return` sends back the answer\n",
    "```\n",
    "\n",
    "### 8.2 Molar mass from element counts (uses `for`)"
   ]
  },
  {
   "cell_type": "code",
   "execution_count": 38,
   "id": "956b5fd9",
   "metadata": {},
   "outputs": [
    {
     "data": {
      "text/plain": [
       "44.009"
      ]
     },
     "execution_count": 38,
     "metadata": {},
     "output_type": "execute_result"
    }
   ],
   "source": [
    "def molar_mass_from_counts(counts, atomic_weights):\n",
    "    \"\"\"\n",
    "    counts: dict like {'C': 1, 'O': 2}\n",
    "    atomic_weights: dict of element -> atomic weight\n",
    "    \"\"\"\n",
    "    total = 0.0\n",
    "    for elem, count in counts.items():\n",
    "        total += atomic_weights[elem] * count\n",
    "    return total\n",
    "\n",
    "molar_mass_from_counts({\"C\": 1, \"O\": 2}, aw)"
   ]
  },
  {
   "cell_type": "markdown",
   "id": "ae64a921",
   "metadata": {},
   "source": [
    "### 8.3 Parse a simple formula string (uses `if` and `while`)\n",
    "\n",
    "We now turn \"CO2\" into `{\"C\": 1, \"O\": 2}`.\n",
    "\n",
    "```{note}\n",
    "Scope: symbols with optional lowercase letter, followed by an optional number. No parentheses or dots.\n",
    "```"
   ]
  },
  {
   "cell_type": "code",
   "execution_count": 39,
   "id": "2097f91a",
   "metadata": {},
   "outputs": [
    {
     "data": {
      "text/plain": [
       "{'C': 6, 'H': 12, 'O': 6}"
      ]
     },
     "execution_count": 39,
     "metadata": {},
     "output_type": "execute_result"
    }
   ],
   "source": [
    "def parse_formula(formula):\n",
    "    counts = {}\n",
    "    i = 0\n",
    "    while i < len(formula):\n",
    "        # element symbol\n",
    "        elem = formula[i]\n",
    "        i += 1\n",
    "        if i < len(formula) and formula[i].islower():\n",
    "            elem += formula[i]\n",
    "            i += 1\n",
    "        # digits (may be empty)\n",
    "        num = 0\n",
    "        while i < len(formula) and formula[i].isdigit():\n",
    "            num = num * 10 + int(formula[i])\n",
    "            i += 1\n",
    "        num = num or 1\n",
    "        counts[elem] = counts.get(elem, 0) + num\n",
    "    return counts\n",
    "\n",
    "parse_formula(\"C6H12O6\")"
   ]
  },
  {
   "cell_type": "markdown",
   "id": "915a4c5e",
   "metadata": {},
   "source": [
    "### 8.4 Final convenience function"
   ]
  },
  {
   "cell_type": "code",
   "execution_count": 40,
   "id": "ab15949c",
   "metadata": {},
   "outputs": [
    {
     "data": {
      "text/plain": [
       "(44.009, 18.015, 180.156)"
      ]
     },
     "execution_count": 40,
     "metadata": {},
     "output_type": "execute_result"
    }
   ],
   "source": [
    "def molar_mass(formula, atomic_weights):\n",
    "    return molar_mass_from_counts(parse_formula(formula), atomic_weights)\n",
    "\n",
    "molar_mass(\"CO2\", aw), molar_mass(\"H2O\", aw), molar_mass(\"C6H12O6\", aw)"
   ]
  },
  {
   "cell_type": "markdown",
   "id": "ef42dfc7",
   "metadata": {},
   "source": [
    "```{admonition} Try it\n",
    "Check that `grams_to_moles(36.0, molar_mass(\"H2O\", aw))` matches your earlier result.\n",
    "```\n",
    "\n",
    "```{warning}\n",
    "If you see `KeyError: 'Na'`, add the element to `aw` first.\n",
    "```\n",
    "---\n",
    "\n",
    "\n",
    "## 9. Glossary\n",
    "\n",
    "```{glossary}\n",
    "variable\n",
    "  A name that points to a value, like a label on a box. Example: `x = 10`.\n",
    "\n",
    "function\n",
    "  A named block of code that performs a task and returns a result. Example: `print()`, or your own `grams_to_moles()`.\n",
    "\n",
    "dictionary\n",
    "  A mapping from keys to values, written with curly braces. Example: `{\"H\": 1.008, \"O\": 15.999}`.\n",
    "\n",
    "list\n",
    "  An ordered collection of items, written with square brackets. Example: `[\"HCl\", \"HNO3\", \"H2SO4\"]`.\n",
    "\n",
    "comment\n",
    "  Text starting with `#` in code. Ignored by Python. Useful for notes and explanations.\n",
    "\n",
    "float\n",
    "  A number with a decimal point. Example: `3.14`.\n",
    "\n",
    "integer\n",
    "  A whole number without a decimal point. Example: `42`.\n",
    "\n",
    "string\n",
    "  Text written between quotes. Example: `\"Hello\"`.\n",
    "\n",
    "if statement\n",
    "  A way to make decisions in code: run different blocks depending on a condition.\n",
    "\n",
    "for loop\n",
    "  A way to repeat an action for each item in a list or sequence.\n",
    "\n",
    "while loop\n",
    "  A way to repeat an action until a condition is no longer true.\n",
    "\n",
    "module\n",
    "  A file or library that provides extra tools for Python. Example: `import math`.\n",
    "\n",
    "array\n",
    "  A grid of values from NumPy that supports math on entire sets of numbers at once.\n",
    "\n",
    "plot\n",
    "  A figure showing data graphically. Made here with Matplotlib using commands like `plt.plot(...)`.\n",
    "\n",
    "error\n",
    "  A message from Python when something goes wrong. Example: `NameError`, `TypeError`.\n",
    "\n",
    "operator\n",
    "  A symbol that performs an action on values. Examples: `+`, `-`, `*`, `/`, `**`.\n",
    "```\n",
    "\n",
    "---\n",
    "## 10. In-class activity\n",
    "\n",
    "Work in groups of 2 to 3. Each challenge is about 5 minutes. These are new scenarios that mirror what you practiced, and each task is self-contained. Stay within Sections 1 to 8.\n",
    "\n",
    "### 10.1 Ethanol mass to moles\n",
    "Compute the moles of ethanol C2H6O in 9.2 g using only arithmetic and variables.\n",
    "\n",
    "```python\n",
    "\n",
    "# Atomic weights (g mol^-1)\n",
    "C = 12.011\n",
    "H = 1.008\n",
    "O = 15.999\n",
    "\n",
    "# Molar mass of ethanol: C2H6O\n",
    "M_ethanol = ...   # TODO\n",
    "\n",
    "# Mass to moles\n",
    "mass_g = 9.2\n",
    "moles = ...       # TODO\n",
    "\n",
    "print(\"M_ethanol =\", M_ethanol, \"g mol^-1\")\n",
    "print(\"moles in\", mass_g, \"g =\", moles)\n",
    "```\n",
    "```{dropdown} Hint\n",
    "Use Section 3 for arithmetic and Section 5 for n = m / M.\n",
    "```\n",
    "\n",
    "\n",
    "### 10.2 Classify pH values in a list\n",
    "Given several pH readings \"2.5\", \"7.0\", \"8.1\", \"6.9\", \"7.3\", print a line for each saying acidic, basic, or neutral. Do not define a helper function.\n",
    "\n",
    "```python\n",
    "\n",
    "pH_values = ... #TODO\n",
    "\n",
    "for ... in ...:            # TODO\n",
    "    if ...:               # TODO\n",
    "        status = \"acidic\"\n",
    "    elif ...:             # TODO\n",
    "        status = \"basic\"\n",
    "    else:\n",
    "        status = \"neutral\"\n",
    "    print(pH, \"->\", status)\n",
    "```\n",
    "```{dropdown} Hint\n",
    "See Section 7.2 for for-loops and Section 7.1 for if / elif / else.\n",
    "```\n",
    "---\n",
    "\n",
    "### 10.3 Molar mass from a counts dictionary\n",
    "Compute the molar mass of glucose using a small dictionary of atomic weights and a counts dictionary. Do not reuse any earlier functions.\n",
    "\n",
    "```python\n",
    "\n",
    "# Atomic weights\n",
    "aw = {\"H\": 1.008, \"C\": 12.011, \"O\": 15.999}\n",
    "\n",
    "# Counts for C6H12O6\n",
    "counts = {\"C\": 6, \"H\": 12, \"O\": 6}\n",
    "\n",
    "M_glucose = 0.0\n",
    "for elem, n in ...:       # TODO\n",
    "    M_glucose = ...       # TODO \n",
    "\n",
    "print(\"M_glucose =\", M_glucose, \"g mol^-1\")\n",
    "```\n",
    "```{dropdown} Hint\n",
    "Section 6.4 covers dictionaries and Section 8.2 shows looping over dict items to build a sum.\n",
    "```\n",
    "\n",
    "### 10.4 Read leading integer from a string, then convert C to K\n",
    "A temperature string has digits followed by a letter, for example \"25C\" or \"298K\". Read the leading digits using a while-loop and convert Celsius to Kelvin. If the unit is K, leave it as is.\n",
    "\n",
    "```python\n",
    "s = \"25C\"   # try \"298K\" too\n",
    "\n",
    "# Parse leading integer value\n",
    "i = 0\n",
    "value = 0\n",
    "while i < len(s) and s[i].isdigit():\n",
    "    value = value * 10 + int(s[i])\n",
    "    i += 1\n",
    "\n",
    "unit = s[i:]  # the rest of the string, e.g. \"C\" or \"K\"\n",
    "\n",
    "if ...:                         # TODO\n",
    "    temp_K = ...                # TODO\n",
    "else:\n",
    "    temp_K = value\n",
    "\n",
    "print(\"Parsed:\", value, unit)\n",
    "print(\"Temperature in K:\", temp_K)\n",
    "```\n",
    "```{dropdown} Hint\n",
    "Section 7.3 shows isdigit with a while-loop. Section 8.1 has the C to K relation.\n",
    "```\n",
    "---\n",
    "\n",
    "### 10.5 Which sample has more moles\n",
    "You are given a mixture as a list of (mass_g, name, counts) where counts is a dictionary of element -> count in the formula. Compute the moles for each, then print the name of the sample with the largest moles. Do not call any functions from above; write the few lines you need here.\n",
    "\n",
    "```python\n",
    "aw = {\"H\": 1.008, \"C\": 12.011, \"O\": 15.999, \"N\": 14.007}\n",
    "\n",
    "mixture = [\n",
    "    (2.00, \"CO2\", {\"C\": 1, \"O\": 2}),\n",
    "    (3.00, \"H2O\", {\"H\": 2, \"O\": 1}),\n",
    "    (4.00, \"NH3\", {\"N\": 1, \"H\": 3}),\n",
    "]\n",
    "\n",
    "max_moles = -1.0\n",
    "winner = None\n",
    "\n",
    "for mass_g, name, counts in ...:         # TODO\n",
    "    # Compute molar mass from counts\n",
    "    M = 0.0\n",
    "    for elem, n in ...:                  # TODO\n",
    "        M = ...                          # TODO\n",
    "    n_moles = ...                        # TODO\n",
    "\n",
    "    if ...:                              # TODO\n",
    "        max_moles = n_moles\n",
    "        winner = name\n",
    "\n",
    "print(\"Largest moles:\", winner, \"with\", max_moles, \"mol\")\n",
    "```\n",
    "\n",
    "```{dropdown} Hint\n",
    "Section 6.1 lists and tuples, Section 6.4 dictionaries, Section 7.2 for-loops, Section 5.2 for moles = mass / M.\n",
    "```\n",
    "\n",
    "\n",
    "\n",
    "---\n",
    "## 11. In-class activity solution\n",
    "\n",
    "\n",
    "### 11.1 Ethanol mass to moles\n",
    "Compute the moles of ethanol C2H6O in 9.2 g using only arithmetic and variables."
   ]
  },
  {
   "cell_type": "code",
   "execution_count": 41,
   "id": "8a2ffcd3",
   "metadata": {},
   "outputs": [
    {
     "name": "stdout",
     "output_type": "stream",
     "text": [
      "M_ethanol = 46.069 g mol^-1\n",
      "moles in 9.2 g = 0.19970044932601097\n"
     ]
    }
   ],
   "source": [
    "# Atomic weights (g mol^-1)\n",
    "C = 12.011\n",
    "H = 1.008\n",
    "O = 15.999\n",
    "\n",
    "# Molar mass of ethanol: C2H6O\n",
    "M_ethanol = 2*C + 6*H + 1*O   # TODO\n",
    "\n",
    "# Mass to moles\n",
    "mass_g = 9.2\n",
    "moles = mass_g / M_ethanol       # TODO\n",
    "\n",
    "print(\"M_ethanol =\", M_ethanol, \"g mol^-1\")\n",
    "print(\"moles in\", mass_g, \"g =\", moles)"
   ]
  },
  {
   "cell_type": "markdown",
   "id": "2682c3bd",
   "metadata": {},
   "source": [
    "---\n",
    "\n",
    "### 11.2 Classify pH values in a list\n",
    "Given several pH readings \"2.5\", \"7.0\", \"8.1\", \"6.9\", \"7.3\", print a line for each saying acidic, basic, or neutral. Do not define a helper function."
   ]
  },
  {
   "cell_type": "code",
   "execution_count": 42,
   "id": "3675e7e1",
   "metadata": {},
   "outputs": [
    {
     "name": "stdout",
     "output_type": "stream",
     "text": [
      "2.5 -> acidic\n",
      "7.0 -> neutral\n",
      "8.1 -> basic\n",
      "6.9 -> acidic\n",
      "7.3 -> basic\n"
     ]
    }
   ],
   "source": [
    "pH_values = [2.5, 7.0, 8.1, 6.9, 7.3] #TODO\n",
    "\n",
    "for pH in pH_values:     # TODO\n",
    "    if pH < 7:               # TODO\n",
    "        status = \"acidic\"\n",
    "    elif pH > 7:             # TODO\n",
    "        status = \"basic\"\n",
    "    else:\n",
    "        status = \"neutral\"\n",
    "    print(pH, \"->\", status)"
   ]
  },
  {
   "cell_type": "markdown",
   "id": "936fc59f",
   "metadata": {},
   "source": [
    "---\n",
    "\n",
    "### 11.3 Molar mass from a counts dictionary\n",
    "Compute the molar mass of glucose using a small dictionary of atomic weights and a counts dictionary. Do not reuse any earlier functions."
   ]
  },
  {
   "cell_type": "code",
   "execution_count": 43,
   "id": "a5525618",
   "metadata": {},
   "outputs": [
    {
     "name": "stdout",
     "output_type": "stream",
     "text": [
      "M_glucose = 0.0 g mol^-1\n"
     ]
    }
   ],
   "source": [
    "# Atomic weights\n",
    "aw = {\"H\": 1.008, \"C\": 12.011, \"O\": 15.999}\n",
    "\n",
    "# Counts for C6H12O6\n",
    "counts = {\"C\": 6, \"H\": 12, \"O\": 6}\n",
    "\n",
    "M_glucose = 0.0\n",
    "for elem, n in counts.items():       # TODO\n",
    "    M_glucose + aw[elem] * n       # TODO \n",
    "\n",
    "print(\"M_glucose =\", M_glucose, \"g mol^-1\")"
   ]
  },
  {
   "cell_type": "markdown",
   "id": "5a87e295",
   "metadata": {},
   "source": [
    "### 11.4 Read leading integer from a string, then convert C to K\n",
    "A temperature string has digits followed by a letter, for example \"25C\" or \"298K\". Read the leading digits using a while-loop and convert Celsius to Kelvin. If the unit is K, leave it as is."
   ]
  },
  {
   "cell_type": "code",
   "execution_count": 44,
   "id": "01c46ca2",
   "metadata": {},
   "outputs": [
    {
     "name": "stdout",
     "output_type": "stream",
     "text": [
      "Parsed: 25 C\n",
      "Temperature in K: 298.15\n"
     ]
    }
   ],
   "source": [
    "s = \"25C\"   # try \"298K\" too\n",
    "\n",
    "# Parse leading integer value\n",
    "i = 0\n",
    "value = 0\n",
    "while i < len(s) and s[i].isdigit():\n",
    "    value = value * 10 + int(s[i])\n",
    "    i += 1\n",
    "\n",
    "unit = s[i:]  # the rest of the string, e.g. \"C\" or \"K\"\n",
    "\n",
    "if unit == \"C\":                  # TODO\n",
    "    temp_K = value + 273.15       # TODO\n",
    "else:\n",
    "    temp_K = value\n",
    "\n",
    "print(\"Parsed:\", value, unit)\n",
    "print(\"Temperature in K:\", temp_K)"
   ]
  },
  {
   "cell_type": "markdown",
   "id": "561b01f8",
   "metadata": {},
   "source": [
    "---\n",
    "\n",
    "### 11.5 Which sample has more moles\n",
    "You are given a mixture as a list of (mass_g, name, counts) where counts is a dictionary of element -> count in the formula. Compute the moles for each, then print the name of the sample with the largest moles. Do not call any functions from above; write the few lines you need here."
   ]
  },
  {
   "cell_type": "code",
   "execution_count": 45,
   "id": "913a22e7",
   "metadata": {},
   "outputs": [
    {
     "name": "stdout",
     "output_type": "stream",
     "text": [
      "Largest moles: NH3 with 0.23486583289295992 mol\n"
     ]
    }
   ],
   "source": [
    "aw = {\"H\": 1.008, \"C\": 12.011, \"O\": 15.999, \"N\": 14.007}\n",
    "\n",
    "mixture = [\n",
    "    (2.00, \"CO2\", {\"C\": 1, \"O\": 2}),\n",
    "    (3.00, \"H2O\", {\"H\": 2, \"O\": 1}),\n",
    "    (4.00, \"NH3\", {\"N\": 1, \"H\": 3}),\n",
    "]\n",
    "\n",
    "max_moles = -1.0\n",
    "winner = None\n",
    "\n",
    "for mass_g, name, counts in mixture:         # TODO\n",
    "    # Compute molar mass from counts\n",
    "    M = 0.0\n",
    "    for elem, n in counts.items():    # TODO\n",
    "        M = M + aw[elem] * n   # TODO\n",
    "    n_moles = mass_g / M        # TODO\n",
    "\n",
    "    if n_moles > max_moles:          # TODO\n",
    "        max_moles = n_moles\n",
    "        winner = name\n",
    "\n",
    "print(\"Largest moles:\", winner, \"with\", max_moles, \"mol\")"
   ]
  }
 ],
 "metadata": {
  "jupytext": {
   "text_representation": {
    "extension": ".md",
    "format_name": "myst",
    "format_version": 0.13,
    "jupytext_version": "1.16.4"
   }
  },
  "kernelspec": {
   "display_name": "Python 3",
   "language": "python",
   "name": "python3"
  },
  "language_info": {
   "codemirror_mode": {
    "name": "ipython",
    "version": 3
   },
   "file_extension": ".py",
   "mimetype": "text/x-python",
   "name": "python",
   "nbconvert_exporter": "python",
   "pygments_lexer": "ipython3",
   "version": "3.8.10"
  },
  "source_map": [
   12,
   112,
   114,
   121,
   123,
   134,
   137,
   141,
   143,
   147,
   150,
   154,
   160,
   164,
   170,
   174,
   177,
   181,
   183,
   204,
   207,
   211,
   213,
   217,
   220,
   226,
   230,
   253,
   259,
   263,
   265,
   271,
   275,
   279,
   281,
   327,
   330,
   339,
   341,
   345,
   347,
   353,
   358,
   362,
   366,
   370,
   373,
   383,
   387,
   391,
   393,
   404,
   407,
   411,
   415,
   419,
   421,
   425,
   428,
   439,
   443,
   447,
   450,
   486,
   496,
   505,
   509,
   517,
   523,
   527,
   535,
   555,
   563,
   572,
   584,
   594,
   615,
   619,
   624,
   830,
   846,
   852,
   864,
   871,
   884,
   890,
   909,
   916
  ]
 },
 "nbformat": 4,
 "nbformat_minor": 5
}