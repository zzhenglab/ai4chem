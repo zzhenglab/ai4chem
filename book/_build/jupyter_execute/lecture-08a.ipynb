{
 "cells": [
  {
   "cell_type": "markdown",
   "id": "f36af6f3",
   "metadata": {},
   "source": [
    "# Lecture 8 - Neural Networks\n",
    "\n",
    "```{contents}\n",
    ":local:\n",
    ":depth: 1\n",
    "```\n",
    "\n",
    "## Learning goals\n",
    "\n",
    "- Build an intuition for a **neuron**, **activation**, **layers**, and **loss**.\n",
    "- See why linear models from Lecture 5 need help on nonlinear patterns.\n",
    "- Train a first **neural network** for a toy problem, then for chemistry data.\n",
    "- Use **MLPRegressor** and **MLPClassifier** with scaling, early stopping, and basic tuning.\n",
    "- Read **loss curves**, **parity plots**, and **classification metrics**.\n",
    "- Practice with short exercises between steps and a final in‑class activity.\n",
    "\n",
    "---\n",
    "\n",
    "## 0. Setup"
   ]
  },
  {
   "cell_type": "code",
   "execution_count": 1,
   "id": "e6741ad5",
   "metadata": {
    "tags": [
     "hide-input"
    ]
   },
   "outputs": [],
   "source": [
    "# 0. Setup\n",
    "import numpy as np\n",
    "import pandas as pd\n",
    "import matplotlib.pyplot as plt\n",
    "\n",
    "# Try RDKit for descriptors. If unavailable, we will continue with numeric columns only.\n",
    "try:\n",
    "    from rdkit import Chem\n",
    "    from rdkit.Chem import Descriptors, Crippen, rdMolDescriptors\n",
    "except Exception:\n",
    "    Chem = None\n",
    "\n",
    "from sklearn.model_selection import train_test_split\n",
    "from sklearn.preprocessing import StandardScaler\n",
    "from sklearn.pipeline import Pipeline\n",
    "from sklearn.neural_network import MLPRegressor, MLPClassifier\n",
    "from sklearn.linear_model import LinearRegression, LogisticRegression, Ridge\n",
    "from sklearn.metrics import (\n",
    "    mean_squared_error, mean_absolute_error, r2_score,\n",
    "    accuracy_score, precision_score, recall_score, f1_score,\n",
    "    confusion_matrix, roc_auc_score, roc_curve\n",
    ")\n",
    "import warnings\n",
    "warnings.filterwarnings(\"ignore\", message=\"X does not have valid feature names\")\n",
    "warnings.filterwarnings(\"ignore\", message=\"X has feature names\")\n",
    "np.set_printoptions(precision=3, suppress=True)"
   ]
  },
  {
   "cell_type": "markdown",
   "id": "2d603efb",
   "metadata": {},
   "source": [
    "---\n",
    "\n",
    "## 1. From linear to nonlinear\n",
    "\n",
    "```{admonition} Recap from Lectures 5 to 7\n",
    "- Linear regression and logistic regression use a straight-line boundary in feature space.\n",
    "- Trees and forests cut space into rectangles by splitting on features.\n",
    "- Some patterns cannot be captured by a single line. We need **nonlinear** functions.\n",
    "```\n",
    "\n",
    "A **neural network** builds nonlinear functions by stacking simple blocks:\n",
    "\n",
    "- Linear transform: \\( z = W x + b \\)\n",
    "- Activation: \\( a = \\phi(z) \\) where \\(\\phi\\) is a nonlinearity such as `relu` or `tanh`\n",
    "- Repeat across layers and learn the weights from data by minimizing a **loss**.\n",
    "\n",
    "### 1.1 A tiny activation tour"
   ]
  },
  {
   "cell_type": "code",
   "execution_count": 2,
   "id": "1155d249",
   "metadata": {},
   "outputs": [
    {
     "data": {
      "text/html": [
       "<div>\n",
       "<style scoped>\n",
       "    .dataframe tbody tr th:only-of-type {\n",
       "        vertical-align: middle;\n",
       "    }\n",
       "\n",
       "    .dataframe tbody tr th {\n",
       "        vertical-align: top;\n",
       "    }\n",
       "\n",
       "    .dataframe thead th {\n",
       "        text-align: right;\n",
       "    }\n",
       "</style>\n",
       "<table border=\"1\" class=\"dataframe\">\n",
       "  <thead>\n",
       "    <tr style=\"text-align: right;\">\n",
       "      <th></th>\n",
       "      <th>x</th>\n",
       "      <th>relu(x)</th>\n",
       "      <th>tanh(x)</th>\n",
       "      <th>sigmoid(x)</th>\n",
       "    </tr>\n",
       "  </thead>\n",
       "  <tbody>\n",
       "    <tr>\n",
       "      <th>0</th>\n",
       "      <td>-3.0</td>\n",
       "      <td>0.0</td>\n",
       "      <td>-0.995055</td>\n",
       "      <td>0.047426</td>\n",
       "    </tr>\n",
       "    <tr>\n",
       "      <th>1</th>\n",
       "      <td>-2.0</td>\n",
       "      <td>0.0</td>\n",
       "      <td>-0.964028</td>\n",
       "      <td>0.119203</td>\n",
       "    </tr>\n",
       "    <tr>\n",
       "      <th>2</th>\n",
       "      <td>-1.0</td>\n",
       "      <td>0.0</td>\n",
       "      <td>-0.761594</td>\n",
       "      <td>0.268941</td>\n",
       "    </tr>\n",
       "    <tr>\n",
       "      <th>3</th>\n",
       "      <td>0.0</td>\n",
       "      <td>0.0</td>\n",
       "      <td>0.000000</td>\n",
       "      <td>0.500000</td>\n",
       "    </tr>\n",
       "    <tr>\n",
       "      <th>4</th>\n",
       "      <td>1.0</td>\n",
       "      <td>1.0</td>\n",
       "      <td>0.761594</td>\n",
       "      <td>0.731059</td>\n",
       "    </tr>\n",
       "    <tr>\n",
       "      <th>5</th>\n",
       "      <td>2.0</td>\n",
       "      <td>2.0</td>\n",
       "      <td>0.964028</td>\n",
       "      <td>0.880797</td>\n",
       "    </tr>\n",
       "    <tr>\n",
       "      <th>6</th>\n",
       "      <td>3.0</td>\n",
       "      <td>3.0</td>\n",
       "      <td>0.995055</td>\n",
       "      <td>0.952574</td>\n",
       "    </tr>\n",
       "  </tbody>\n",
       "</table>\n",
       "</div>"
      ],
      "text/plain": [
       "     x  relu(x)   tanh(x)  sigmoid(x)\n",
       "0 -3.0      0.0 -0.995055    0.047426\n",
       "1 -2.0      0.0 -0.964028    0.119203\n",
       "2 -1.0      0.0 -0.761594    0.268941\n",
       "3  0.0      0.0  0.000000    0.500000\n",
       "4  1.0      1.0  0.761594    0.731059\n",
       "5  2.0      2.0  0.964028    0.880797\n",
       "6  3.0      3.0  0.995055    0.952574"
      ]
     },
     "execution_count": 2,
     "metadata": {},
     "output_type": "execute_result"
    }
   ],
   "source": [
    "# Simple view of activations on a vector\n",
    "x = np.linspace(-3, 3, 7)\n",
    "relu = np.maximum(0, x)\n",
    "tanh = np.tanh(x)\n",
    "sigm = 1 / (1 + np.exp(-x))\n",
    "pd.DataFrame({\"x\": x, \"relu(x)\": relu, \"tanh(x)\": tanh, \"sigmoid(x)\": sigm})"
   ]
  },
  {
   "cell_type": "markdown",
   "id": "c2cff3a5",
   "metadata": {},
   "source": [
    "```{admonition} Tip\n",
    "- `relu` keeps positive parts and zeros negatives. Often trains fast.\n",
    "- `tanh` squashes to [-1, 1]. Works well for small problems and smooth signals.\n",
    "- `logistic` (sigmoid) squashes to [0, 1]. Common in small networks or output layers for probability.\n",
    "```\n",
    "\n",
    "---\n",
    "\n",
    "## 2. Toy example: XOR shows the need for a hidden layer\n",
    "\n",
    "XOR is a classic 2D classification where linear models fail. A small hidden layer fixes it.\n",
    "\n",
    "### 2.1 Build XOR data"
   ]
  },
  {
   "cell_type": "code",
   "execution_count": 3,
   "id": "5e305520",
   "metadata": {},
   "outputs": [
    {
     "data": {
      "text/plain": [
       "(array([[0., 0.],\n",
       "        [0., 1.],\n",
       "        [1., 0.],\n",
       "        [1., 1.]]),\n",
       " array([0, 1, 1, 0]))"
      ]
     },
     "execution_count": 3,
     "metadata": {},
     "output_type": "execute_result"
    }
   ],
   "source": [
    "# Four points and labels for XOR\n",
    "X_xor = np.array([[0,0],[0,1],[1,0],[1,1]], dtype=float)\n",
    "y_xor = np.array([0,1,1,0], dtype=int)\n",
    "\n",
    "X_xor, y_xor"
   ]
  },
  {
   "cell_type": "markdown",
   "id": "5229c970",
   "metadata": {},
   "source": [
    "### 2.2 Visualize points"
   ]
  },
  {
   "cell_type": "code",
   "execution_count": 4,
   "id": "d54bdb59",
   "metadata": {},
   "outputs": [
    {
     "data": {
      "image/png": "[encoded data removed]",
      "text/plain": [
       "<Figure size 400x400 with 1 Axes>"
      ]
     },
     "metadata": {},
     "output_type": "display_data"
    }
   ],
   "source": [
    "plt.figure(figsize=(4,4))\n",
    "plt.scatter(X_xor[y_xor==0,0], X_xor[y_xor==0,1], label=\"class 0\", s=60)\n",
    "plt.scatter(X_xor[y_xor==1,0], X_xor[y_xor==1,1], label=\"class 1\", s=60)\n",
    "plt.xlabel(\"x1\"); plt.ylabel(\"x2\"); plt.legend(); plt.title(\"XOR points\")\n",
    "plt.show()"
   ]
  },
  {
   "cell_type": "markdown",
   "id": "de34b11b",
   "metadata": {},
   "source": [
    "### 2.3 Baseline with logistic regression"
   ]
  },
  {
   "cell_type": "code",
   "execution_count": 5,
   "id": "899f7b34",
   "metadata": {},
   "outputs": [
    {
     "name": "stdout",
     "output_type": "stream",
     "text": [
      "Logistic accuracy on XOR: 0.5\n"
     ]
    },
    {
     "data": {
      "text/plain": [
       "array([[2, 0],\n",
       "       [2, 0]], dtype=int64)"
      ]
     },
     "execution_count": 5,
     "metadata": {},
     "output_type": "execute_result"
    }
   ],
   "source": [
    "logr = LogisticRegression().fit(X_xor, y_xor)\n",
    "pred_lr = logr.predict(X_xor)\n",
    "print(\"Logistic accuracy on XOR:\", accuracy_score(y_xor, pred_lr))\n",
    "confusion_matrix(y_xor, pred_lr)"
   ]
  },
  {
   "cell_type": "markdown",
   "id": "d467cd2f",
   "metadata": {},
   "source": [
    "The score is low because a single line cannot separate the classes.\n",
    "\n",
    "### 2.4 One hidden layer solves XOR"
   ]
  },
  {
   "cell_type": "code",
   "execution_count": 6,
   "id": "2ce34591",
   "metadata": {},
   "outputs": [
    {
     "name": "stdout",
     "output_type": "stream",
     "text": [
      "MLP accuracy on XOR: 1.0\n"
     ]
    },
    {
     "data": {
      "text/plain": [
       "array([[2, 0],\n",
       "       [0, 2]], dtype=int64)"
      ]
     },
     "execution_count": 6,
     "metadata": {},
     "output_type": "execute_result"
    }
   ],
   "source": [
    "mlp_xor = MLPClassifier(\n",
    "    hidden_layer_sizes=(4,),\n",
    "    activation=\"tanh\",\n",
    "    solver=\"lbfgs\",\n",
    "    random_state=0\n",
    ").fit(X_xor, y_xor)\n",
    "\n",
    "pred_nn = mlp_xor.predict(X_xor)\n",
    "print(\"MLP accuracy on XOR:\", accuracy_score(y_xor, pred_nn))\n",
    "confusion_matrix(y_xor, pred_nn)"
   ]
  },
  {
   "cell_type": "markdown",
   "id": "d614c61f",
   "metadata": {},
   "source": [
    "### 2.5 Peek at learned shapes"
   ]
  },
  {
   "cell_type": "code",
   "execution_count": 7,
   "id": "0197478b",
   "metadata": {},
   "outputs": [
    {
     "data": {
      "text/plain": [
       "([(2, 4), (4, 1)], [(4,), (1,)])"
      ]
     },
     "execution_count": 7,
     "metadata": {},
     "output_type": "execute_result"
    }
   ],
   "source": [
    "# coefs_ is a list: one weight matrix per layer\n",
    "[w.shape for w in mlp_xor.coefs_], [b.shape for b in mlp_xor.intercepts_]"
   ]
  },
  {
   "cell_type": "markdown",
   "id": "99b83de0",
   "metadata": {},
   "source": [
    "Interpretation:\n",
    "- Input to hidden: shape (2, 4) because we have 2 inputs and 4 hidden units.\n",
    "- Hidden to output: shape (4, 1) because we have 4 hidden units and 1 output.\n",
    "\n",
    "```{admonition} Exercise 2.1\n",
    "Change `hidden_layer_sizes` to `(2,)`, `(8,)`, and `(8, 8)`.  \n",
    "Use `activation=\"relu\"` once and compare accuracy.\n",
    "```\n",
    "\n",
    "```{admonition} Exercise 2.2\n",
    "Add slight Gaussian noise to the four XOR points using `X_noisy = X_xor + 0.05*np.random.randn(*X_xor.shape)`  \n",
    "Retrain the MLP and see if the decision remains correct.\n",
    "```\n",
    "\n",
    "---\n",
    "\n",
    "## 3. A first regression network on a smooth function\n",
    "\n",
    "We will fit \\( y = \\sin(2\\pi x) + \\text{noise} \\) to contrast a linear regressor and a small MLP.\n",
    "\n",
    "### 3.1 Make data"
   ]
  },
  {
   "cell_type": "code",
   "execution_count": 8,
   "id": "8743eead",
   "metadata": {},
   "outputs": [
    {
     "data": {
      "text/html": [
       "<div>\n",
       "<style scoped>\n",
       "    .dataframe tbody tr th:only-of-type {\n",
       "        vertical-align: middle;\n",
       "    }\n",
       "\n",
       "    .dataframe tbody tr th {\n",
       "        vertical-align: top;\n",
       "    }\n",
       "\n",
       "    .dataframe thead th {\n",
       "        text-align: right;\n",
       "    }\n",
       "</style>\n",
       "<table border=\"1\" class=\"dataframe\">\n",
       "  <thead>\n",
       "    <tr style=\"text-align: right;\">\n",
       "      <th></th>\n",
       "      <th>x</th>\n",
       "      <th>y</th>\n",
       "    </tr>\n",
       "  </thead>\n",
       "  <tbody>\n",
       "    <tr>\n",
       "      <th>0</th>\n",
       "      <td>0.000000</td>\n",
       "      <td>0.049671</td>\n",
       "    </tr>\n",
       "    <tr>\n",
       "      <th>1</th>\n",
       "      <td>0.012658</td>\n",
       "      <td>0.065624</td>\n",
       "    </tr>\n",
       "    <tr>\n",
       "      <th>2</th>\n",
       "      <td>0.025316</td>\n",
       "      <td>0.223167</td>\n",
       "    </tr>\n",
       "    <tr>\n",
       "      <th>3</th>\n",
       "      <td>0.037975</td>\n",
       "      <td>0.388647</td>\n",
       "    </tr>\n",
       "    <tr>\n",
       "      <th>4</th>\n",
       "      <td>0.050633</td>\n",
       "      <td>0.289381</td>\n",
       "    </tr>\n",
       "  </tbody>\n",
       "</table>\n",
       "</div>"
      ],
      "text/plain": [
       "          x         y\n",
       "0  0.000000  0.049671\n",
       "1  0.012658  0.065624\n",
       "2  0.025316  0.223167\n",
       "3  0.037975  0.388647\n",
       "4  0.050633  0.289381"
      ]
     },
     "execution_count": 8,
     "metadata": {},
     "output_type": "execute_result"
    }
   ],
   "source": [
    "rng = np.random.RandomState(42)\n",
    "x = np.linspace(0, 1, 80).reshape(-1, 1)\n",
    "y = np.sin(2*np.pi*x).ravel() + 0.1*rng.randn(len(x))\n",
    "pd.DataFrame({\"x\": x.ravel()[:5], \"y\": y[:5]})"
   ]
  },
  {
   "cell_type": "markdown",
   "id": "68e24d6e",
   "metadata": {},
   "source": [
    "### 3.2 Plot the data"
   ]
  },
  {
   "cell_type": "code",
   "execution_count": 9,
   "id": "7a546d09",
   "metadata": {},
   "outputs": [
    {
     "data": {
      "image/png": "[encoded data removed]",
      "text/plain": [
       "<Figure size 500x350 with 1 Axes>"
      ]
     },
     "metadata": {},
     "output_type": "display_data"
    }
   ],
   "source": [
    "plt.figure(figsize=(5,3.5))\n",
    "plt.scatter(x, y, s=25)\n",
    "plt.xlabel(\"x\"); plt.ylabel(\"y\"); plt.title(\"Noisy sin data\")\n",
    "plt.show()"
   ]
  },
  {
   "cell_type": "markdown",
   "id": "53b8fa1b",
   "metadata": {},
   "source": [
    "### 3.3 Linear baseline"
   ]
  },
  {
   "cell_type": "code",
   "execution_count": 10,
   "id": "af911b3d",
   "metadata": {},
   "outputs": [
    {
     "name": "stdout",
     "output_type": "stream",
     "text": [
      "Linear R2: 0.595209043110168\n"
     ]
    }
   ],
   "source": [
    "lin = LinearRegression().fit(x, y)\n",
    "y_lin = lin.predict(x)\n",
    "print(\"Linear R2:\", r2_score(y, y_lin))"
   ]
  },
  {
   "cell_type": "markdown",
   "id": "9c16b7d6",
   "metadata": {},
   "source": [
    "### 3.4 Small MLP with standardization and early stopping"
   ]
  },
  {
   "cell_type": "code",
   "execution_count": 11,
   "id": "8646cd0f",
   "metadata": {},
   "outputs": [
    {
     "name": "stdout",
     "output_type": "stream",
     "text": [
      "MLP R2: 0.9742240223189593\n"
     ]
    }
   ],
   "source": [
    "mlp_reg = Pipeline([\n",
    "    (\"scaler\", StandardScaler()),\n",
    "    (\"mlp\", MLPRegressor(\n",
    "        hidden_layer_sizes=(20,),\n",
    "        activation=\"tanh\",\n",
    "        solver=\"adam\",\n",
    "        learning_rate_init=0.01,\n",
    "        max_iter=500,\n",
    "        random_state=0,\n",
    "        early_stopping=True,\n",
    "        validation_fraction=0.15,\n",
    "        n_iter_no_change=20\n",
    "    ))\n",
    "]).fit(x, y)\n",
    "\n",
    "y_mlp = mlp_reg.predict(x)\n",
    "print(\"MLP R2:\", r2_score(y, y_mlp))"
   ]
  },
  {
   "cell_type": "markdown",
   "id": "83d6f60f",
   "metadata": {},
   "source": [
    "### 3.5 Visualize predictions"
   ]
  },
  {
   "cell_type": "code",
   "execution_count": 12,
   "id": "96968618",
   "metadata": {},
   "outputs": [
    {
     "data": {
      "image/png": "[encoded data removed]",
      "text/plain": [
       "<Figure size 500x350 with 1 Axes>"
      ]
     },
     "metadata": {},
     "output_type": "display_data"
    }
   ],
   "source": [
    "plt.figure(figsize=(5,3.5))\n",
    "plt.scatter(x, y, s=20, label=\"data\")\n",
    "plt.plot(x, y_lin, label=\"linear\")\n",
    "plt.plot(x, y_mlp, label=\"mlp\")\n",
    "plt.xlabel(\"x\"); plt.ylabel(\"y\"); plt.title(\"Linear vs MLP\")\n",
    "plt.legend(); plt.show()"
   ]
  },
  {
   "cell_type": "markdown",
   "id": "d55fb610",
   "metadata": {},
   "source": [
    "```{admonition} Exercise 3.1\n",
    "Change `activation` to `relu` and `hidden_layer_sizes` to `(50,)`.  \n",
    "Compare the R2 and the curve shape.\n",
    "```\n",
    "\n",
    "```{admonition} Exercise 3.2\n",
    "Reduce `learning_rate_init` to `0.001` and increase `max_iter` to `1000`.  \n",
    "Check if the training loss decreases more smoothly.\n",
    "```\n",
    "\n",
    "---\n",
    "\n",
    "## 4. Chemistry dataset again: descriptors plus targets\n",
    "\n",
    "We return to the C–H oxidation dataset used in earlier lectures.\n",
    "\n",
    "### 4.1 Load and compute descriptors\n",
    "\n",
    "```{admonition} Data source\n",
    "`https://raw.githubusercontent.com/zzhenglab/ai4chem/main/book/_data/C_H_oxidation_dataset.csv`\n",
    "```"
   ]
  },
  {
   "cell_type": "code",
   "execution_count": 13,
   "id": "a1112d3b",
   "metadata": {},
   "outputs": [
    {
     "data": {
      "text/plain": [
       "(575,\n",
       "                 Compound Name       CAS                  SMILES  \\\n",
       " 0  3,4-dihydro-1H-isochromene  493-05-0        c1ccc2c(c1)CCOC2   \n",
       " 1                 9H-fluorene   86-73-7  c1ccc2c(c1)Cc1ccccc1-2   \n",
       " \n",
       "    Solubility_mol_per_L   pKa   Toxicity  Melting Point  Reactivity  \\\n",
       " 0              0.103906  5.80  non_toxic           65.8           1   \n",
       " 1              0.010460  5.82      toxic           90.0           1   \n",
       " \n",
       "   Oxidation Site  \n",
       " 0           8,10  \n",
       " 1              7  )"
      ]
     },
     "execution_count": 13,
     "metadata": {},
     "output_type": "execute_result"
    }
   ],
   "source": [
    "url = \"https://raw.githubusercontent.com/zzhenglab/ai4chem/main/book/_data/C_H_oxidation_dataset.csv\"\n",
    "df_raw = pd.read_csv(url)\n",
    "len(df_raw), df_raw.head(2)"
   ]
  },
  {
   "cell_type": "code",
   "execution_count": 14,
   "id": "66d5b12d",
   "metadata": {},
   "outputs": [
    {
     "data": {
      "text/html": [
       "<div>\n",
       "<style scoped>\n",
       "    .dataframe tbody tr th:only-of-type {\n",
       "        vertical-align: middle;\n",
       "    }\n",
       "\n",
       "    .dataframe tbody tr th {\n",
       "        vertical-align: top;\n",
       "    }\n",
       "\n",
       "    .dataframe thead th {\n",
       "        text-align: right;\n",
       "    }\n",
       "</style>\n",
       "<table border=\"1\" class=\"dataframe\">\n",
       "  <thead>\n",
       "    <tr style=\"text-align: right;\">\n",
       "      <th></th>\n",
       "      <th>Compound Name</th>\n",
       "      <th>CAS</th>\n",
       "      <th>SMILES</th>\n",
       "      <th>Solubility_mol_per_L</th>\n",
       "      <th>pKa</th>\n",
       "      <th>Toxicity</th>\n",
       "      <th>Melting Point</th>\n",
       "      <th>Reactivity</th>\n",
       "      <th>Oxidation Site</th>\n",
       "      <th>MolWt</th>\n",
       "      <th>LogP</th>\n",
       "      <th>TPSA</th>\n",
       "      <th>NumRings</th>\n",
       "    </tr>\n",
       "  </thead>\n",
       "  <tbody>\n",
       "    <tr>\n",
       "      <th>0</th>\n",
       "      <td>3,4-dihydro-1H-isochromene</td>\n",
       "      <td>493-05-0</td>\n",
       "      <td>c1ccc2c(c1)CCOC2</td>\n",
       "      <td>0.103906</td>\n",
       "      <td>5.80</td>\n",
       "      <td>non_toxic</td>\n",
       "      <td>65.8</td>\n",
       "      <td>1</td>\n",
       "      <td>8,10</td>\n",
       "      <td>134.178</td>\n",
       "      <td>1.7593</td>\n",
       "      <td>9.23</td>\n",
       "      <td>2.0</td>\n",
       "    </tr>\n",
       "    <tr>\n",
       "      <th>1</th>\n",
       "      <td>9H-fluorene</td>\n",
       "      <td>86-73-7</td>\n",
       "      <td>c1ccc2c(c1)Cc1ccccc1-2</td>\n",
       "      <td>0.010460</td>\n",
       "      <td>5.82</td>\n",
       "      <td>toxic</td>\n",
       "      <td>90.0</td>\n",
       "      <td>1</td>\n",
       "      <td>7</td>\n",
       "      <td>166.223</td>\n",
       "      <td>3.2578</td>\n",
       "      <td>0.00</td>\n",
       "      <td>3.0</td>\n",
       "    </tr>\n",
       "    <tr>\n",
       "      <th>2</th>\n",
       "      <td>1,2,3,4-tetrahydronaphthalene</td>\n",
       "      <td>119-64-2</td>\n",
       "      <td>c1ccc2c(c1)CCCC2</td>\n",
       "      <td>0.020589</td>\n",
       "      <td>5.74</td>\n",
       "      <td>toxic</td>\n",
       "      <td>69.4</td>\n",
       "      <td>1</td>\n",
       "      <td>7,10</td>\n",
       "      <td>132.206</td>\n",
       "      <td>2.5654</td>\n",
       "      <td>0.00</td>\n",
       "      <td>2.0</td>\n",
       "    </tr>\n",
       "  </tbody>\n",
       "</table>\n",
       "</div>"
      ],
      "text/plain": [
       "                   Compound Name       CAS                  SMILES  \\\n",
       "0     3,4-dihydro-1H-isochromene  493-05-0        c1ccc2c(c1)CCOC2   \n",
       "1                    9H-fluorene   86-73-7  c1ccc2c(c1)Cc1ccccc1-2   \n",
       "2  1,2,3,4-tetrahydronaphthalene  119-64-2        c1ccc2c(c1)CCCC2   \n",
       "\n",
       "   Solubility_mol_per_L   pKa   Toxicity  Melting Point  Reactivity  \\\n",
       "0              0.103906  5.80  non_toxic           65.8           1   \n",
       "1              0.010460  5.82      toxic           90.0           1   \n",
       "2              0.020589  5.74      toxic           69.4           1   \n",
       "\n",
       "  Oxidation Site    MolWt    LogP  TPSA  NumRings  \n",
       "0           8,10  134.178  1.7593  9.23       2.0  \n",
       "1              7  166.223  3.2578  0.00       3.0  \n",
       "2           7,10  132.206  2.5654  0.00       2.0  "
      ]
     },
     "execution_count": 14,
     "metadata": {},
     "output_type": "execute_result"
    }
   ],
   "source": [
    "def calc_descriptors(smiles):\n",
    "    if Chem is None:\n",
    "        return pd.Series({\"MolWt\": np.nan, \"LogP\": np.nan, \"TPSA\": np.nan, \"NumRings\": np.nan})\n",
    "    m = Chem.MolFromSmiles(smiles)\n",
    "    if m is None:\n",
    "        return pd.Series({\"MolWt\": np.nan, \"LogP\": np.nan, \"TPSA\": np.nan, \"NumRings\": np.nan})\n",
    "    return pd.Series({\n",
    "        \"MolWt\": Descriptors.MolWt(m),\n",
    "        \"LogP\": Crippen.MolLogP(m),\n",
    "        \"TPSA\": rdMolDescriptors.CalcTPSA(m),\n",
    "        \"NumRings\": rdMolDescriptors.CalcNumRings(m),\n",
    "    })\n",
    "\n",
    "desc = df_raw[\"SMILES\"].apply(calc_descriptors)\n",
    "df = pd.concat([df_raw, desc], axis=1)\n",
    "df.head(3)"
   ]
  },
  {
   "cell_type": "markdown",
   "id": "a94768b8",
   "metadata": {},
   "source": [
    "```{admonition} Reminder\n",
    "These four descriptors have been our simple, reliable baseline features:\n",
    "`MolWt`, `LogP`, `TPSA`, `NumRings`.\n",
    "```\n",
    "\n",
    "---\n",
    "\n",
    "## 5. Regression: melting point with a small MLP\n",
    "\n",
    "We will predict **Melting Point** from the four descriptors. Then we will compare to Ridge from Lecture 6.\n",
    "\n",
    "### 5.1 Prepare features and target"
   ]
  },
  {
   "cell_type": "code",
   "execution_count": 15,
   "id": "8e132995",
   "metadata": {},
   "outputs": [
    {
     "data": {
      "text/plain": [
       "((460, 4), (115, 4))"
      ]
     },
     "execution_count": 15,
     "metadata": {},
     "output_type": "execute_result"
    }
   ],
   "source": [
    "df_reg = df[[\"MolWt\", \"LogP\", \"TPSA\", \"NumRings\", \"Melting Point\"]].dropna()\n",
    "X = df_reg[[\"MolWt\", \"LogP\", \"TPSA\", \"NumRings\"]].values\n",
    "y = df_reg[\"Melting Point\"].values\n",
    "\n",
    "X_train, X_test, y_train, y_test = train_test_split(\n",
    "    X, y, test_size=0.2, random_state=42\n",
    ")\n",
    "\n",
    "X_train.shape, X_test.shape"
   ]
  },
  {
   "cell_type": "markdown",
   "id": "f4111c68",
   "metadata": {},
   "source": [
    "### 5.2 Baseline Ridge"
   ]
  },
  {
   "cell_type": "code",
   "execution_count": 16,
   "id": "01024d9a",
   "metadata": {},
   "outputs": [
    {
     "name": "stdout",
     "output_type": "stream",
     "text": [
      "Ridge R2: 0.874  MAE: 15.32\n"
     ]
    }
   ],
   "source": [
    "ridge = Ridge(alpha=1.0).fit(X_train, y_train)\n",
    "y_ridge = ridge.predict(X_test)\n",
    "print(f\"Ridge R2: {r2_score(y_test, y_ridge):.3f}  MAE: {mean_absolute_error(y_test, y_ridge):.2f}\")"
   ]
  },
  {
   "cell_type": "markdown",
   "id": "063b2eea",
   "metadata": {},
   "source": [
    "### 5.3 MLPRegressor with scaling and early stopping"
   ]
  },
  {
   "cell_type": "code",
   "execution_count": 17,
   "id": "081c6447",
   "metadata": {},
   "outputs": [
    {
     "name": "stdout",
     "output_type": "stream",
     "text": [
      "MLP R2: 0.867  MAE: 15.54\n"
     ]
    }
   ],
   "source": [
    "mlp_mp = Pipeline([\n",
    "    (\"scaler\", StandardScaler()),\n",
    "    (\"mlp\", MLPRegressor(\n",
    "        hidden_layer_sizes=(64,),\n",
    "        activation=\"relu\",\n",
    "        solver=\"adam\",\n",
    "        learning_rate_init=0.005,\n",
    "        alpha=1e-4,             # L2 penalty (weight decay)\n",
    "        max_iter=800,\n",
    "        early_stopping=True,    # use a validation split automatically\n",
    "        validation_fraction=0.12,\n",
    "        n_iter_no_change=25,\n",
    "        random_state=0\n",
    "    ))\n",
    "]).fit(X_train, y_train)\n",
    "\n",
    "y_hat = mlp_mp.predict(X_test)\n",
    "print(f\"MLP R2: {r2_score(y_test, y_hat):.3f}  MAE: {mean_absolute_error(y_test, y_hat):.2f}\")"
   ]
  },
  {
   "cell_type": "markdown",
   "id": "2551a97d",
   "metadata": {},
   "source": [
    "### 5.4 Parity and residuals"
   ]
  },
  {
   "cell_type": "code",
   "execution_count": 18,
   "id": "9f819672",
   "metadata": {},
   "outputs": [
    {
     "data": {
      "image/png": "[encoded data removed]",
      "text/plain": [
       "<Figure size 500x400 with 1 Axes>"
      ]
     },
     "metadata": {},
     "output_type": "display_data"
    },
    {
     "data": {
      "image/png": "[encoded data removed]",
      "text/plain": [
       "<Figure size 500x400 with 1 Axes>"
      ]
     },
     "metadata": {},
     "output_type": "display_data"
    }
   ],
   "source": [
    "# Parity\n",
    "plt.figure(figsize=(5,4))\n",
    "plt.scatter(y_test, y_hat, alpha=0.6)\n",
    "lims = [min(y_test.min(), y_hat.min()), max(y_test.max(), y_hat.max())]\n",
    "plt.plot(lims, lims, \"k--\")\n",
    "plt.xlabel(\"True MP\"); plt.ylabel(\"Predicted MP\"); plt.title(\"Parity: MLP on MP\")\n",
    "plt.show()\n",
    "\n",
    "# Residuals\n",
    "res = y_test - y_hat\n",
    "plt.figure(figsize=(5,4))\n",
    "plt.scatter(y_hat, res, alpha=0.6)\n",
    "plt.axhline(0, ls=\":\")\n",
    "plt.xlabel(\"Predicted MP\"); plt.ylabel(\"Residual\")\n",
    "plt.title(\"Residuals: MLP on MP\")\n",
    "plt.show()"
   ]
  },
  {
   "cell_type": "markdown",
   "id": "cf805721",
   "metadata": {},
   "source": [
    "```{admonition} Exercise 5.1\n",
    "Change `hidden_layer_sizes` to `(32,)` and `(64, 32)`.  \n",
    "Compare R2 and MAE to the current model.\n",
    "```\n",
    "\n",
    "```{admonition} Exercise 5.2\n",
    "Increase `alpha` to `1e-3` and `1e-2`.  \n",
    "Is the model more stable across runs or does it start to underfit?\n",
    "```\n",
    "\n",
    "---\n",
    "\n",
    "## 6. Classification: toxicity with a small MLP\n",
    "\n",
    "We will predict the **Toxicity** label. This is a binary classification.\n",
    "\n",
    "### 6.1 Prepare features and labels"
   ]
  },
  {
   "cell_type": "code",
   "execution_count": 19,
   "id": "015e6ed6",
   "metadata": {},
   "outputs": [
    {
     "data": {
      "text/plain": [
       "((460, 4), 0.8239130434782609, 0.8260869565217391)"
      ]
     },
     "execution_count": 19,
     "metadata": {},
     "output_type": "execute_result"
    }
   ],
   "source": [
    "df_clf = df[[\"MolWt\", \"LogP\", \"TPSA\", \"NumRings\", \"Toxicity\"]].dropna()\n",
    "label_map = {\"toxic\": 1, \"non_toxic\": 0}\n",
    "y = df_clf[\"Toxicity\"].str.lower().map(label_map).astype(int).values\n",
    "X = df_clf[[\"MolWt\", \"LogP\", \"TPSA\", \"NumRings\"]].values\n",
    "\n",
    "X_train, X_test, y_train, y_test = train_test_split(\n",
    "    X, y, test_size=0.2, random_state=42, stratify=y\n",
    ")\n",
    "X_train.shape, np.mean(y_train), np.mean(y_test)"
   ]
  },
  {
   "cell_type": "markdown",
   "id": "7f019526",
   "metadata": {},
   "source": [
    "### 6.2 Baseline logistic regression"
   ]
  },
  {
   "cell_type": "code",
   "execution_count": 20,
   "id": "876ca7cd",
   "metadata": {},
   "outputs": [
    {
     "name": "stdout",
     "output_type": "stream",
     "text": [
      "LogReg Accuracy: 0.965  AUC: 0.992\n"
     ]
    }
   ],
   "source": [
    "logit = Pipeline([\n",
    "    (\"scaler\", StandardScaler()),\n",
    "    (\"clf\", LogisticRegression(max_iter=1000))\n",
    "]).fit(X_train, y_train)\n",
    "\n",
    "y_hat_lr = logit.predict(X_test)\n",
    "y_proba_lr = logit.predict_proba(X_test)[:,1]\n",
    "\n",
    "print(f\"LogReg Accuracy: {accuracy_score(y_test, y_hat_lr):.3f}  AUC: {roc_auc_score(y_test, y_proba_lr):.3f}\")"
   ]
  },
  {
   "cell_type": "markdown",
   "id": "102f4f56",
   "metadata": {},
   "source": [
    "### 6.3 MLPClassifier with early stopping"
   ]
  },
  {
   "cell_type": "code",
   "execution_count": 21,
   "id": "911632ce",
   "metadata": {},
   "outputs": [
    {
     "name": "stdout",
     "output_type": "stream",
     "text": [
      "MLP Accuracy: 0.913\n",
      "Precision: 0.957  Recall: 0.937  F1: 0.947\n",
      "AUC: 0.966\n"
     ]
    }
   ],
   "source": [
    "mlp_tox = Pipeline([\n",
    "    (\"scaler\", StandardScaler()),\n",
    "    (\"mlp\", MLPClassifier(\n",
    "        hidden_layer_sizes=(32,),\n",
    "        activation=\"relu\",\n",
    "        solver=\"adam\",\n",
    "        learning_rate_init=0.005,\n",
    "        alpha=1e-4,\n",
    "        max_iter=800,\n",
    "        early_stopping=True,\n",
    "        validation_fraction=0.12,\n",
    "        n_iter_no_change=25,\n",
    "        random_state=1\n",
    "    ))\n",
    "]).fit(X_train, y_train)\n",
    "\n",
    "y_hat_mlp = mlp_tox.predict(X_test)\n",
    "y_proba_mlp = mlp_tox.predict_proba(X_test)[:,1]\n",
    "\n",
    "print(f\"MLP Accuracy: {accuracy_score(y_test, y_hat_mlp):.3f}\")\n",
    "print(f\"Precision: {precision_score(y_test, y_hat_mlp):.3f}  Recall: {recall_score(y_test, y_hat_mlp):.3f}  F1: {f1_score(y_test, y_hat_mlp):.3f}\")\n",
    "print(f\"AUC: {roc_auc_score(y_test, y_proba_mlp):.3f}\")"
   ]
  },
  {
   "cell_type": "markdown",
   "id": "10c448d4",
   "metadata": {},
   "source": [
    "### 6.4 Confusion matrix and ROC"
   ]
  },
  {
   "cell_type": "code",
   "execution_count": 22,
   "id": "e1cd4f46",
   "metadata": {},
   "outputs": [
    {
     "data": {
      "image/png": "[encoded data removed]",
      "text/plain": [
       "<Figure size 400x400 with 2 Axes>"
      ]
     },
     "metadata": {},
     "output_type": "display_data"
    },
    {
     "data": {
      "image/png": "[encoded data removed]",
      "text/plain": [
       "<Figure size 500x400 with 1 Axes>"
      ]
     },
     "metadata": {},
     "output_type": "display_data"
    }
   ],
   "source": [
    "# Confusion matrix\n",
    "cm = confusion_matrix(y_test, y_hat_mlp)\n",
    "plt.figure(figsize=(4,4))\n",
    "plt.imshow(cm, cmap=\"Blues\")\n",
    "plt.title(\"Confusion Matrix\")\n",
    "plt.xlabel(\"Predicted\"); plt.ylabel(\"True\")\n",
    "for i in range(2):\n",
    "    for j in range(2):\n",
    "        plt.text(j, i, cm[i,j], ha=\"center\", va=\"center\")\n",
    "plt.colorbar(fraction=0.046, pad=0.04)\n",
    "plt.show()\n",
    "\n",
    "# ROC\n",
    "fpr, tpr, thr = roc_curve(y_test, y_proba_mlp)\n",
    "plt.figure(figsize=(5,4))\n",
    "plt.plot(fpr, tpr, lw=2, label=f\"AUC = {roc_auc_score(y_test, y_proba_mlp):.3f}\")\n",
    "plt.plot([0,1], [0,1], \"k--\")\n",
    "plt.xlabel(\"False Positive Rate\"); plt.ylabel(\"True Positive Rate\")\n",
    "plt.title(\"ROC curve\")\n",
    "plt.legend(); plt.show()"
   ]
  },
  {
   "cell_type": "markdown",
   "id": "dfb13d54",
   "metadata": {},
   "source": [
    "```{admonition} Exercise 6.1\n",
    "Pick a custom threshold `t` in `[0.3, 0.7]` and compute Accuracy, Precision, Recall, F1 at that threshold:\n",
    "\n",
    "```python\n",
    "t = 0.35\n",
    "pred_custom = (y_proba_mlp >= t).astype(int)\n",
    "# compute metrics\n",
    "```\n",
    "```\n",
    "\n",
    "```{admonition} Exercise 6.2\n",
    "Change `hidden_layer_sizes` to `(64,)` and then `(64, 32)`.  \n",
    "Keep `alpha=1e-4`. Report Accuracy and AUC.\n",
    "```\n",
    "\n",
    "---\n",
    "\n",
    "## 7. Training details you can control\n",
    "\n",
    "```{admonition} Practical rules\n",
    "- **Scale inputs**. Always wrap MLP in a `Pipeline` with `StandardScaler()`.\n",
    "- **Use early stopping** for small to medium data. It guards against overfitting.\n",
    "- **Start with one hidden layer**. Try sizes 16 to 128.\n",
    "- **Try ReLU first**. Switch to `tanh` if signals look smooth or small networks struggle.\n",
    "- **Alpha is L2 penalty**. Increase if the model overfits or is unstable.\n",
    "- **Learning rate**. If loss bounces, reduce `learning_rate_init`. If training stalls, increase gradually.\n",
    "```\n",
    "\n",
    "### 7.1 Track training loss\n",
    "\n",
    "Scikit-learn stores `loss_curve_` inside the `MLP*` estimator. We can access it via the pipeline."
   ]
  },
  {
   "cell_type": "code",
   "execution_count": 23,
   "id": "452630cd",
   "metadata": {},
   "outputs": [
    {
     "data": {
      "text/plain": [
       "31"
      ]
     },
     "execution_count": 23,
     "metadata": {},
     "output_type": "execute_result"
    }
   ],
   "source": [
    "mlp_est = mlp_tox.named_steps[\"mlp\"]\n",
    "loss_curve = getattr(mlp_est, \"loss_curve_\", None)\n",
    "len(loss_curve) if loss_curve is not None else None"
   ]
  },
  {
   "cell_type": "code",
   "execution_count": 24,
   "id": "894115cc",
   "metadata": {},
   "outputs": [
    {
     "data": {
      "image/png": "[encoded data removed]",
      "text/plain": [
       "<Figure size 500x350 with 1 Axes>"
      ]
     },
     "metadata": {},
     "output_type": "display_data"
    }
   ],
   "source": [
    "if loss_curve is not None:\n",
    "    plt.figure(figsize=(5,3.5))\n",
    "    plt.plot(loss_curve)\n",
    "    plt.xlabel(\"Iteration\"); plt.ylabel(\"Training loss\")\n",
    "    plt.title(\"MLP training loss curve\")\n",
    "    plt.show()\n",
    "else:\n",
    "    print(\"No loss curve found\")"
   ]
  },
  {
   "cell_type": "markdown",
   "id": "b7f2b101",
   "metadata": {},
   "source": [
    "```{admonition} Exercise 7.1\n",
    "Re-fit `mlp_tox` with `learning_rate_init=0.001` and `max_iter=1500`.  \n",
    "Plot the new loss curve. Did it become smoother or just slower?\n",
    "```\n",
    "\n",
    "---\n",
    "\n",
    "## 8. Quick theory box\n",
    "\n",
    "- **Forward pass**: compute layer by layer \\( a^{(l)} = \\phi(W^{(l)} a^{(l-1)} + b^{(l)}) \\).\n",
    "- **Loss**:  \n",
    "  - Regression uses MSE \\( \\frac{1}{n}\\sum (y-\\hat{y})^2 \\).  \n",
    "  - Binary classification uses log-loss \\( -\\frac{1}{n}\\sum y\\log p + (1-y)\\log(1-p) \\).\n",
    "- **Backpropagation**: automatic differentiation computes gradients of loss with respect to all weights.\n",
    "- **Optimizer**: gradient descent variants such as Adam update the weights to reduce loss.\n",
    "- **Capacity vs generalization**: larger hidden layers reduce bias but can overfit. Early stopping, L2 penalty, and more data help.\n",
    "\n",
    "```{admonition} Connection to earlier lectures\n",
    "- Lecture 5 used linear models. An MLP is a stack of linear pieces plus activations.\n",
    "- Lecture 6 tuned hyperparameters with CV. You can grid-search `hidden_layer_sizes` and `alpha` the same way.\n",
    "- Lecture 7 showed nonlinear rules via trees. MLPs learn nonlinear functions too, but in a smooth way.\n",
    "```\n",
    "\n",
    "---\n",
    "\n",
    "## 9. Mini hyperparameter sweep\n",
    "\n",
    "We try a very small grid on **melting point** to observe trends. Keep it tiny so it runs in class.\n",
    "\n",
    "### 9.1 Define a helper to train and score"
   ]
  },
  {
   "cell_type": "code",
   "execution_count": 25,
   "id": "2969d327",
   "metadata": {},
   "outputs": [],
   "source": [
    "def fit_score_mlp_reg(X_train, y_train, X_test, y_test, hls=(64,), act=\"relu\", alpha=1e-4, lr=0.005, seed=0):\n",
    "    pipe = Pipeline([\n",
    "        (\"scaler\", StandardScaler()),\n",
    "        (\"mlp\", MLPRegressor(\n",
    "            hidden_layer_sizes=hls,\n",
    "            activation=act,\n",
    "            alpha=alpha,\n",
    "            learning_rate_init=lr,\n",
    "            solver=\"adam\",\n",
    "            max_iter=800,\n",
    "            early_stopping=True,\n",
    "            validation_fraction=0.12,\n",
    "            n_iter_no_change=25,\n",
    "            random_state=seed\n",
    "        ))\n",
    "    ]).fit(X_train, y_train)\n",
    "    y_hat = pipe.predict(X_test)\n",
    "    return r2_score(y_test, y_hat), mean_absolute_error(y_test, y_hat)"
   ]
  },
  {
   "cell_type": "markdown",
   "id": "9b6b8444",
   "metadata": {},
   "source": [
    "### 9.2 Run a tiny grid"
   ]
  },
  {
   "cell_type": "code",
   "execution_count": 26,
   "id": "cc669947",
   "metadata": {},
   "outputs": [
    {
     "data": {
      "text/html": [
       "<div>\n",
       "<style scoped>\n",
       "    .dataframe tbody tr th:only-of-type {\n",
       "        vertical-align: middle;\n",
       "    }\n",
       "\n",
       "    .dataframe tbody tr th {\n",
       "        vertical-align: top;\n",
       "    }\n",
       "\n",
       "    .dataframe thead th {\n",
       "        text-align: right;\n",
       "    }\n",
       "</style>\n",
       "<table border=\"1\" class=\"dataframe\">\n",
       "  <thead>\n",
       "    <tr style=\"text-align: right;\">\n",
       "      <th></th>\n",
       "      <th>hidden_layer_sizes</th>\n",
       "      <th>alpha</th>\n",
       "      <th>R2</th>\n",
       "      <th>MAE</th>\n",
       "    </tr>\n",
       "  </thead>\n",
       "  <tbody>\n",
       "    <tr>\n",
       "      <th>0</th>\n",
       "      <td>(32,)</td>\n",
       "      <td>0.0001</td>\n",
       "      <td>0.554</td>\n",
       "      <td>0.18</td>\n",
       "    </tr>\n",
       "    <tr>\n",
       "      <th>1</th>\n",
       "      <td>(32,)</td>\n",
       "      <td>0.0010</td>\n",
       "      <td>0.554</td>\n",
       "      <td>0.18</td>\n",
       "    </tr>\n",
       "    <tr>\n",
       "      <th>2</th>\n",
       "      <td>(64,)</td>\n",
       "      <td>0.0001</td>\n",
       "      <td>0.616</td>\n",
       "      <td>0.15</td>\n",
       "    </tr>\n",
       "    <tr>\n",
       "      <th>3</th>\n",
       "      <td>(64,)</td>\n",
       "      <td>0.0010</td>\n",
       "      <td>0.616</td>\n",
       "      <td>0.15</td>\n",
       "    </tr>\n",
       "    <tr>\n",
       "      <th>4</th>\n",
       "      <td>(64, 32)</td>\n",
       "      <td>0.0001</td>\n",
       "      <td>0.650</td>\n",
       "      <td>0.13</td>\n",
       "    </tr>\n",
       "    <tr>\n",
       "      <th>5</th>\n",
       "      <td>(64, 32)</td>\n",
       "      <td>0.0010</td>\n",
       "      <td>0.706</td>\n",
       "      <td>0.11</td>\n",
       "    </tr>\n",
       "  </tbody>\n",
       "</table>\n",
       "</div>"
      ],
      "text/plain": [
       "  hidden_layer_sizes   alpha     R2   MAE\n",
       "0              (32,)  0.0001  0.554  0.18\n",
       "1              (32,)  0.0010  0.554  0.18\n",
       "2              (64,)  0.0001  0.616  0.15\n",
       "3              (64,)  0.0010  0.616  0.15\n",
       "4           (64, 32)  0.0001  0.650  0.13\n",
       "5           (64, 32)  0.0010  0.706  0.11"
      ]
     },
     "execution_count": 26,
     "metadata": {},
     "output_type": "execute_result"
    }
   ],
   "source": [
    "hls_grid = [(32,), (64,), (64, 32)]\n",
    "alpha_grid = [1e-4, 1e-3]\n",
    "rows = []\n",
    "for h in hls_grid:\n",
    "    for a in alpha_grid:\n",
    "        r2, mae = fit_score_mlp_reg(X_train, y_train, X_test, y_test, hls=h, alpha=a)\n",
    "        rows.append({\"hidden_layer_sizes\": h, \"alpha\": a, \"R2\": round(r2,3), \"MAE\": round(mae,2)})\n",
    "pd.DataFrame(rows)"
   ]
  },
  {
   "cell_type": "markdown",
   "id": "4f04e2de",
   "metadata": {},
   "source": [
    "```{admonition} Exercise 9.1\n",
    "Add `activation=\"tanh\"` to the helper and compare with `relu` for each `hidden_layer_sizes`.  \n",
    "Summarize which setting is most consistent across seeds 0, 1, and 2.\n",
    "```\n",
    "\n",
    "---\n",
    "\n",
    "## 10. Quick reference\n",
    "\n",
    "```{admonition} API hints\n",
    "- Regression: `MLPRegressor(hidden_layer_sizes=(64,), activation=\"relu\", alpha=1e-4, early_stopping=True)`  \n",
    "- Classification: `MLPClassifier(hidden_layer_sizes=(32,), activation=\"relu\", alpha=1e-4, early_stopping=True)`  \n",
    "- Always scale with `Pipeline([(\"scaler\", StandardScaler()), (\"mlp\", ...)])`\n",
    "- Loss curve: `estimator.loss_curve_` inside the pipeline via `named_steps[\"mlp\"]`\n",
    "```\n",
    "\n",
    "```{admonition} Common settings to try\n",
    "- hidden_layer_sizes: `(32,)`, `(64,)`, `(64, 32)`\n",
    "- activation: `relu`, `tanh`\n",
    "- alpha (L2): `1e-4`, `1e-3`, `1e-2`\n",
    "- learning_rate_init: `0.001`, `0.005`\n",
    "- early_stopping: `True` with `validation_fraction` around `0.1`\n",
    "```\n",
    "\n",
    "---\n",
    "\n",
    "## 11. Glossary\n",
    "\n",
    "```{glossary}\n",
    "neuron\n",
    "  Simple unit that applies a weighted sum plus bias, then an activation.\n",
    "activation\n",
    "  Nonlinear function such as relu, tanh, or sigmoid.\n",
    "hidden layer\n",
    "  Layer between inputs and outputs. Provides nonlinear capacity.\n",
    "loss\n",
    "  Function that measures fit quality. We minimize it during training.\n",
    "backpropagation\n",
    "  Automatic chain rule that computes gradients through layers.\n",
    "early stopping\n",
    "  Stop training when validation score stops improving.\n",
    "alpha\n",
    "  L2 regularization strength for MLP in scikit-learn.\n",
    "learning rate\n",
    "  Step size in the optimizer. Too high can diverge, too low can stall.\n",
    "```\n",
    "\n",
    "---\n",
    "\n",
    "## 12. In‑class activity\n",
    "\n",
    "Each task can be answered using code shown today. Fill in the `...` lines first. Solutions follow in Section 13.\n",
    "\n",
    "### Q1. XOR with two hidden layers\n",
    "\n",
    "Build an MLP for XOR with hidden sizes `(8, 8)` and `activation=\"tanh\"`.  \n",
    "Report accuracy and the confusion matrix."
   ]
  },
  {
   "cell_type": "code",
   "execution_count": 27,
   "id": "51629fb9",
   "metadata": {},
   "outputs": [
    {
     "name": "stdout",
     "output_type": "stream",
     "text": [
      "Acc: 1.0\n"
     ]
    },
    {
     "data": {
      "text/plain": [
       "array([[2, 0],\n",
       "       [0, 2]], dtype=int64)"
      ]
     },
     "execution_count": 27,
     "metadata": {},
     "output_type": "execute_result"
    }
   ],
   "source": [
    "# Q1 starter\n",
    "X = X_xor\n",
    "y = y_xor\n",
    "mlp = MLPClassifier(hidden_layer_sizes=(8, 8), activation=\"tanh\", solver=\"lbfgs\", random_state=0)\n",
    "mlp.fit(X, y)\n",
    "pred = mlp.predict(X)\n",
    "print(\"Acc:\", accuracy_score(y, pred))\n",
    "confusion_matrix(y, pred)"
   ]
  },
  {
   "cell_type": "markdown",
   "id": "d2e9989f",
   "metadata": {},
   "source": [
    "### Q2. Melting point MLP vs Ridge\n",
    "\n",
    "Train two models on `MolWt, LogP, TPSA, NumRings` to predict Melting Point:\n",
    "- Ridge with `alpha=1.0`\n",
    "- MLPRegressor with `(64,)`, `relu`, `alpha=1e-3`, `early_stopping=True`\n",
    "\n",
    "Report test R2 and MAE for both."
   ]
  },
  {
   "cell_type": "code",
   "execution_count": 28,
   "id": "ae43b587",
   "metadata": {},
   "outputs": [
    {
     "name": "stdout",
     "output_type": "stream",
     "text": [
      "Ridge  R2=0.860  MAE=16.17\n",
      "MLP    R2=0.781  MAE=19.41\n"
     ]
    }
   ],
   "source": [
    "# Q2 starter\n",
    "X = df_reg[[\"MolWt\", \"LogP\", \"TPSA\", \"NumRings\"]].values\n",
    "y = df_reg[\"Melting Point\"].values\n",
    "X_tr, X_te, y_tr, y_te = train_test_split(X, y, test_size=0.2, random_state=7)\n",
    "\n",
    "ridge = Ridge(alpha=1.0).fit(X_tr, y_tr)\n",
    "y_r = ridge.predict(X_te)\n",
    "\n",
    "mlp = Pipeline([\n",
    "    (\"scaler\", StandardScaler()),\n",
    "    (\"mlp\", MLPRegressor(hidden_layer_sizes=(64,), activation=\"relu\",\n",
    "                         alpha=1e-3, max_iter=800, early_stopping=True,\n",
    "                         validation_fraction=0.12, random_state=7))\n",
    "]).fit(X_tr, y_tr)\n",
    "y_m = mlp.predict(X_te)\n",
    "\n",
    "print(f\"Ridge  R2={r2_score(y_te,y_r):.3f}  MAE={mean_absolute_error(y_te,y_r):.2f}\")\n",
    "print(f\"MLP    R2={r2_score(y_te,y_m):.3f}  MAE={mean_absolute_error(y_te,y_m):.2f}\")"
   ]
  },
  {
   "cell_type": "markdown",
   "id": "f87a6068",
   "metadata": {},
   "source": [
    "### Q3. Toxicity threshold tuning\n",
    "\n",
    "Train `MLPClassifier` with `(32,)` and compute metrics at thresholds `0.3, 0.5, 0.7`.  \n",
    "Which threshold gives Recall at least `0.80` with the best Precision?"
   ]
  },
  {
   "cell_type": "code",
   "execution_count": 29,
   "id": "d9ca1e12",
   "metadata": {},
   "outputs": [
    {
     "name": "stdout",
     "output_type": "stream",
     "text": [
      "t=0.3  Acc=0.835  Prec=0.833  Rec=1.000  F1=0.909\n",
      "t=0.5  Acc=0.852  Prec=1.000  Rec=0.821  F1=0.902\n",
      "t=0.7  Acc=0.322  Prec=1.000  Rec=0.179  F1=0.304\n"
     ]
    }
   ],
   "source": [
    "# Q3 starter\n",
    "X = df_clf[[\"MolWt\",\"LogP\",\"TPSA\",\"NumRings\"]].values\n",
    "y = df_clf[\"Toxicity\"].str.lower().map({\"toxic\":1,\"non_toxic\":0}).astype(int).values\n",
    "\n",
    "X_tr, X_te, y_tr, y_te = train_test_split(X, y, test_size=0.2, random_state=42, stratify=y)\n",
    "\n",
    "clf = Pipeline([\n",
    "    (\"scaler\", StandardScaler()),\n",
    "    (\"mlp\", MLPClassifier(hidden_layer_sizes=(32,), activation=\"relu\", alpha=1e-4,\n",
    "                          max_iter=800, early_stopping=True, validation_fraction=0.12, random_state=1))\n",
    "]).fit(X_tr, y_tr)\n",
    "\n",
    "proba = clf.predict_proba(X_te)[:,1]\n",
    "for t in [0.3, 0.5, 0.7]:\n",
    "    pred = (proba >= t).astype(int)\n",
    "    print(f\"t={t:.1f}  Acc={accuracy_score(y_te,pred):.3f}  Prec={precision_score(y_te,pred):.3f}  Rec={recall_score(y_te,pred):.3f}  F1={f1_score(y_te,pred):.3f}\")"
   ]
  },
  {
   "cell_type": "markdown",
   "id": "24567654",
   "metadata": {},
   "source": [
    "### Q4. Learning rate sweep for MP\n",
    "\n",
    "Fix `(64,)`, `relu`, `alpha=1e-4`. Train with `learning_rate_init` in `[0.0005, 0.001, 0.005]`.  \n",
    "Plot training loss curves and compare final test R2."
   ]
  },
  {
   "cell_type": "code",
   "execution_count": 30,
   "id": "ed56f22c",
   "metadata": {},
   "outputs": [
    {
     "data": {
      "image/png": "[encoded data removed]",
      "text/plain": [
       "<Figure size 600x400 with 1 Axes>"
      ]
     },
     "metadata": {},
     "output_type": "display_data"
    },
    {
     "data": {
      "text/html": [
       "<div>\n",
       "<style scoped>\n",
       "    .dataframe tbody tr th:only-of-type {\n",
       "        vertical-align: middle;\n",
       "    }\n",
       "\n",
       "    .dataframe tbody tr th {\n",
       "        vertical-align: top;\n",
       "    }\n",
       "\n",
       "    .dataframe thead th {\n",
       "        text-align: right;\n",
       "    }\n",
       "</style>\n",
       "<table border=\"1\" class=\"dataframe\">\n",
       "  <thead>\n",
       "    <tr style=\"text-align: right;\">\n",
       "      <th></th>\n",
       "      <th>lr</th>\n",
       "      <th>R2</th>\n",
       "    </tr>\n",
       "  </thead>\n",
       "  <tbody>\n",
       "    <tr>\n",
       "      <th>0</th>\n",
       "      <td>0.0005</td>\n",
       "      <td>0.599346</td>\n",
       "    </tr>\n",
       "    <tr>\n",
       "      <th>1</th>\n",
       "      <td>0.0010</td>\n",
       "      <td>0.603090</td>\n",
       "    </tr>\n",
       "    <tr>\n",
       "      <th>2</th>\n",
       "      <td>0.0050</td>\n",
       "      <td>0.621330</td>\n",
       "    </tr>\n",
       "  </tbody>\n",
       "</table>\n",
       "</div>"
      ],
      "text/plain": [
       "       lr        R2\n",
       "0  0.0005  0.599346\n",
       "1  0.0010  0.603090\n",
       "2  0.0050  0.621330"
      ]
     },
     "execution_count": 30,
     "metadata": {},
     "output_type": "execute_result"
    }
   ],
   "source": [
    "# Q4 starter\n",
    "rates = [0.0005, 0.001, 0.005]\n",
    "histories = []\n",
    "scores = []\n",
    "\n",
    "for lr in rates:\n",
    "    pipe = Pipeline([\n",
    "        (\"scaler\", StandardScaler()),\n",
    "        (\"mlp\", MLPRegressor(hidden_layer_sizes=(64,), activation=\"relu\",\n",
    "                             alpha=1e-4, learning_rate_init=lr, max_iter=1200,\n",
    "                             early_stopping=True, validation_fraction=0.12,\n",
    "                             n_iter_no_change=30, random_state=0))\n",
    "    ]).fit(X_train, y_train)\n",
    "    y_hat = pipe.predict(X_test)\n",
    "    r2 = r2_score(y_test, y_hat)\n",
    "    scores.append((lr, r2))\n",
    "    histories.append((lr, pipe.named_steps[\"mlp\"].loss_curve_))\n",
    "\n",
    "plt.figure(figsize=(6,4))\n",
    "for lr, curve in histories:\n",
    "    plt.plot(curve, label=f\"lr={lr}\")\n",
    "plt.xlabel(\"Iteration\"); plt.ylabel(\"Training loss\"); plt.legend(); plt.title(\"Loss curves vs learning rate\")\n",
    "plt.show()\n",
    "\n",
    "pd.DataFrame(scores, columns=[\"lr\", \"R2\"])"
   ]
  },
  {
   "cell_type": "markdown",
   "id": "ad4cd7ae",
   "metadata": {},
   "source": [
    "### Q5. Predict two new molecules\n",
    "\n",
    "Use the fitted melting point MLP from Q2 to predict these descriptors:\n",
    "\n",
    "- `[100, 1.5, 10, 2]`\n",
    "- `[150, 2.0, 20, 3]`"
   ]
  },
  {
   "cell_type": "code",
   "execution_count": 31,
   "id": "05aba684",
   "metadata": {},
   "outputs": [
    {
     "data": {
      "text/html": [
       "<div>\n",
       "<style scoped>\n",
       "    .dataframe tbody tr th:only-of-type {\n",
       "        vertical-align: middle;\n",
       "    }\n",
       "\n",
       "    .dataframe tbody tr th {\n",
       "        vertical-align: top;\n",
       "    }\n",
       "\n",
       "    .dataframe thead th {\n",
       "        text-align: right;\n",
       "    }\n",
       "</style>\n",
       "<table border=\"1\" class=\"dataframe\">\n",
       "  <thead>\n",
       "    <tr style=\"text-align: right;\">\n",
       "      <th></th>\n",
       "      <th>MolWt</th>\n",
       "      <th>LogP</th>\n",
       "      <th>TPSA</th>\n",
       "      <th>NumRings</th>\n",
       "      <th>Predicted_MP</th>\n",
       "    </tr>\n",
       "  </thead>\n",
       "  <tbody>\n",
       "    <tr>\n",
       "      <th>0</th>\n",
       "      <td>100.0</td>\n",
       "      <td>1.5</td>\n",
       "      <td>10.0</td>\n",
       "      <td>2.0</td>\n",
       "      <td>69.901376</td>\n",
       "    </tr>\n",
       "    <tr>\n",
       "      <th>1</th>\n",
       "      <td>150.0</td>\n",
       "      <td>2.0</td>\n",
       "      <td>20.0</td>\n",
       "      <td>3.0</td>\n",
       "      <td>83.869232</td>\n",
       "    </tr>\n",
       "  </tbody>\n",
       "</table>\n",
       "</div>"
      ],
      "text/plain": [
       "   MolWt  LogP  TPSA  NumRings  Predicted_MP\n",
       "0  100.0   1.5  10.0       2.0     69.901376\n",
       "1  150.0   2.0  20.0       3.0     83.869232"
      ]
     },
     "execution_count": 31,
     "metadata": {},
     "output_type": "execute_result"
    }
   ],
   "source": [
    "# Q5 starter\n",
    "X_new = np.array([[100, 1.5, 10, 2],\n",
    "                  [150, 2.0, 20, 3]])\n",
    "preds = mlp.predict(X_new)\n",
    "pd.DataFrame(X_new, columns=[\"MolWt\",\"LogP\",\"TPSA\",\"NumRings\"]).assign(Predicted_MP=preds)"
   ]
  },
  {
   "cell_type": "markdown",
   "id": "aa84fd90",
   "metadata": {},
   "source": [
    "---\n",
    "\n",
    "## 13. Solutions\n",
    "\n",
    "### 13.1 Solution Q1"
   ]
  },
  {
   "cell_type": "code",
   "execution_count": 32,
   "id": "8688c7c6",
   "metadata": {},
   "outputs": [
    {
     "name": "stdout",
     "output_type": "stream",
     "text": [
      "Acc: 1.0\n"
     ]
    },
    {
     "data": {
      "text/plain": [
       "array([[2, 0],\n",
       "       [0, 2]], dtype=int64)"
      ]
     },
     "execution_count": 32,
     "metadata": {},
     "output_type": "execute_result"
    }
   ],
   "source": [
    "mlp = MLPClassifier(hidden_layer_sizes=(8, 8), activation=\"tanh\", solver=\"lbfgs\", random_state=0)\n",
    "mlp.fit(X_xor, y_xor)\n",
    "pred = mlp.predict(X_xor)\n",
    "print(\"Acc:\", accuracy_score(y_xor, pred))\n",
    "confusion_matrix(y_xor, pred)"
   ]
  },
  {
   "cell_type": "markdown",
   "id": "e2ae7e3d",
   "metadata": {},
   "source": [
    "### 13.2 Solution Q2"
   ]
  },
  {
   "cell_type": "code",
   "execution_count": 33,
   "id": "a3ea41c6",
   "metadata": {},
   "outputs": [
    {
     "name": "stdout",
     "output_type": "stream",
     "text": [
      "Ridge  R2=0.860  MAE=16.17\n",
      "MLP    R2=0.781  MAE=19.41\n"
     ]
    }
   ],
   "source": [
    "X = df_reg[[\"MolWt\", \"LogP\", \"TPSA\", \"NumRings\"]].values\n",
    "y = df_reg[\"Melting Point\"].values\n",
    "X_tr, X_te, y_tr, y_te = train_test_split(X, y, test_size=0.2, random_state=7)\n",
    "\n",
    "ridge = Ridge(alpha=1.0).fit(X_tr, y_tr)\n",
    "y_r = ridge.predict(X_te)\n",
    "\n",
    "mlp = Pipeline([\n",
    "    (\"scaler\", StandardScaler()),\n",
    "    (\"mlp\", MLPRegressor(hidden_layer_sizes=(64,), activation=\"relu\",\n",
    "                         alpha=1e-3, max_iter=800, early_stopping=True,\n",
    "                         validation_fraction=0.12, random_state=7))\n",
    "]).fit(X_tr, y_tr)\n",
    "y_m = mlp.predict(X_te)\n",
    "\n",
    "print(f\"Ridge  R2={r2_score(y_te,y_r):.3f}  MAE={mean_absolute_error(y_te,y_r):.2f}\")\n",
    "print(f\"MLP    R2={r2_score(y_te,y_m):.3f}  MAE={mean_absolute_error(y_te,y_m):.2f}\")"
   ]
  },
  {
   "cell_type": "markdown",
   "id": "62f5d38f",
   "metadata": {},
   "source": [
    "### 13.3 Solution Q3"
   ]
  },
  {
   "cell_type": "code",
   "execution_count": 34,
   "id": "2be379e2",
   "metadata": {},
   "outputs": [
    {
     "data": {
      "text/html": [
       "<div>\n",
       "<style scoped>\n",
       "    .dataframe tbody tr th:only-of-type {\n",
       "        vertical-align: middle;\n",
       "    }\n",
       "\n",
       "    .dataframe tbody tr th {\n",
       "        vertical-align: top;\n",
       "    }\n",
       "\n",
       "    .dataframe thead th {\n",
       "        text-align: right;\n",
       "    }\n",
       "</style>\n",
       "<table border=\"1\" class=\"dataframe\">\n",
       "  <thead>\n",
       "    <tr style=\"text-align: right;\">\n",
       "      <th></th>\n",
       "      <th>thr</th>\n",
       "      <th>Acc</th>\n",
       "      <th>Prec</th>\n",
       "      <th>Rec</th>\n",
       "      <th>F1</th>\n",
       "    </tr>\n",
       "  </thead>\n",
       "  <tbody>\n",
       "    <tr>\n",
       "      <th>0</th>\n",
       "      <td>0.3</td>\n",
       "      <td>0.835</td>\n",
       "      <td>0.833</td>\n",
       "      <td>1.000</td>\n",
       "      <td>0.909</td>\n",
       "    </tr>\n",
       "    <tr>\n",
       "      <th>1</th>\n",
       "      <td>0.5</td>\n",
       "      <td>0.852</td>\n",
       "      <td>1.000</td>\n",
       "      <td>0.821</td>\n",
       "      <td>0.902</td>\n",
       "    </tr>\n",
       "    <tr>\n",
       "      <th>2</th>\n",
       "      <td>0.7</td>\n",
       "      <td>0.322</td>\n",
       "      <td>1.000</td>\n",
       "      <td>0.179</td>\n",
       "      <td>0.304</td>\n",
       "    </tr>\n",
       "  </tbody>\n",
       "</table>\n",
       "</div>"
      ],
      "text/plain": [
       "   thr    Acc   Prec    Rec     F1\n",
       "0  0.3  0.835  0.833  1.000  0.909\n",
       "1  0.5  0.852  1.000  0.821  0.902\n",
       "2  0.7  0.322  1.000  0.179  0.304"
      ]
     },
     "execution_count": 34,
     "metadata": {},
     "output_type": "execute_result"
    }
   ],
   "source": [
    "X = df_clf[[\"MolWt\",\"LogP\",\"TPSA\",\"NumRings\"]].values\n",
    "y = df_clf[\"Toxicity\"].str.lower().map({\"toxic\":1,\"non_toxic\":0}).astype(int).values\n",
    "\n",
    "X_tr, X_te, y_tr, y_te = train_test_split(X, y, test_size=0.2, random_state=42, stratify=y)\n",
    "\n",
    "clf = Pipeline([\n",
    "    (\"scaler\", StandardScaler()),\n",
    "    (\"mlp\", MLPClassifier(hidden_layer_sizes=(32,), activation=\"relu\", alpha=1e-4,\n",
    "                          max_iter=800, early_stopping=True, validation_fraction=0.12, random_state=1))\n",
    "]).fit(X_tr, y_tr)\n",
    "proba = clf.predict_proba(X_te)[:,1]\n",
    "rows = []\n",
    "for t in [0.3, 0.5, 0.7]:\n",
    "    pred = (proba >= t).astype(int)\n",
    "    rows.append({\n",
    "        \"thr\": t,\n",
    "        \"Acc\": round(accuracy_score(y_te,pred),3),\n",
    "        \"Prec\": round(precision_score(y_te,pred),3),\n",
    "        \"Rec\": round(recall_score(y_te,pred),3),\n",
    "        \"F1\": round(f1_score(y_te,pred),3)\n",
    "    })\n",
    "pd.DataFrame(rows)"
   ]
  },
  {
   "cell_type": "markdown",
   "id": "eab20228",
   "metadata": {},
   "source": [
    "### 13.4 Solution Q4"
   ]
  },
  {
   "cell_type": "code",
   "execution_count": 35,
   "id": "113f47a6",
   "metadata": {},
   "outputs": [
    {
     "data": {
      "image/png": "[encoded data removed]",
      "text/plain": [
       "<Figure size 600x400 with 1 Axes>"
      ]
     },
     "metadata": {},
     "output_type": "display_data"
    },
    {
     "data": {
      "text/html": [
       "<div>\n",
       "<style scoped>\n",
       "    .dataframe tbody tr th:only-of-type {\n",
       "        vertical-align: middle;\n",
       "    }\n",
       "\n",
       "    .dataframe tbody tr th {\n",
       "        vertical-align: top;\n",
       "    }\n",
       "\n",
       "    .dataframe thead th {\n",
       "        text-align: right;\n",
       "    }\n",
       "</style>\n",
       "<table border=\"1\" class=\"dataframe\">\n",
       "  <thead>\n",
       "    <tr style=\"text-align: right;\">\n",
       "      <th></th>\n",
       "      <th>lr</th>\n",
       "      <th>R2</th>\n",
       "    </tr>\n",
       "  </thead>\n",
       "  <tbody>\n",
       "    <tr>\n",
       "      <th>0</th>\n",
       "      <td>0.0005</td>\n",
       "      <td>0.599346</td>\n",
       "    </tr>\n",
       "    <tr>\n",
       "      <th>1</th>\n",
       "      <td>0.0010</td>\n",
       "      <td>0.603090</td>\n",
       "    </tr>\n",
       "    <tr>\n",
       "      <th>2</th>\n",
       "      <td>0.0050</td>\n",
       "      <td>0.621330</td>\n",
       "    </tr>\n",
       "  </tbody>\n",
       "</table>\n",
       "</div>"
      ],
      "text/plain": [
       "       lr        R2\n",
       "0  0.0005  0.599346\n",
       "1  0.0010  0.603090\n",
       "2  0.0050  0.621330"
      ]
     },
     "execution_count": 35,
     "metadata": {},
     "output_type": "execute_result"
    }
   ],
   "source": [
    "rates = [0.0005, 0.001, 0.005]\n",
    "histories = []\n",
    "scores = []\n",
    "\n",
    "for lr in rates:\n",
    "    pipe = Pipeline([\n",
    "        (\"scaler\", StandardScaler()),\n",
    "        (\"mlp\", MLPRegressor(hidden_layer_sizes=(64,), activation=\"relu\",\n",
    "                             alpha=1e-4, learning_rate_init=lr, max_iter=1200,\n",
    "                             early_stopping=True, validation_fraction=0.12,\n",
    "                             n_iter_no_change=30, random_state=0))\n",
    "    ]).fit(X_train, y_train)\n",
    "    y_hat = pipe.predict(X_test)\n",
    "    r2 = r2_score(y_test, y_hat)\n",
    "    scores.append((lr, r2))\n",
    "    histories.append((lr, pipe.named_steps[\"mlp\"].loss_curve_))\n",
    "\n",
    "plt.figure(figsize=(6,4))\n",
    "for lr, curve in histories:\n",
    "    plt.plot(curve, label=f\"lr={lr}\")\n",
    "plt.xlabel(\"Iteration\"); plt.ylabel(\"Training loss\"); plt.legend(); plt.title(\"Loss curves vs learning rate\")\n",
    "plt.show()\n",
    "\n",
    "pd.DataFrame(scores, columns=[\"lr\", \"R2\"])"
   ]
  },
  {
   "cell_type": "markdown",
   "id": "980ff84d",
   "metadata": {},
   "source": [
    "### 13.5 Solution Q5"
   ]
  },
  {
   "cell_type": "code",
   "execution_count": 36,
   "id": "33288366",
   "metadata": {},
   "outputs": [
    {
     "data": {
      "text/html": [
       "<div>\n",
       "<style scoped>\n",
       "    .dataframe tbody tr th:only-of-type {\n",
       "        vertical-align: middle;\n",
       "    }\n",
       "\n",
       "    .dataframe tbody tr th {\n",
       "        vertical-align: top;\n",
       "    }\n",
       "\n",
       "    .dataframe thead th {\n",
       "        text-align: right;\n",
       "    }\n",
       "</style>\n",
       "<table border=\"1\" class=\"dataframe\">\n",
       "  <thead>\n",
       "    <tr style=\"text-align: right;\">\n",
       "      <th></th>\n",
       "      <th>MolWt</th>\n",
       "      <th>LogP</th>\n",
       "      <th>TPSA</th>\n",
       "      <th>NumRings</th>\n",
       "      <th>Predicted_MP</th>\n",
       "    </tr>\n",
       "  </thead>\n",
       "  <tbody>\n",
       "    <tr>\n",
       "      <th>0</th>\n",
       "      <td>100.0</td>\n",
       "      <td>1.5</td>\n",
       "      <td>10.0</td>\n",
       "      <td>2.0</td>\n",
       "      <td>69.901376</td>\n",
       "    </tr>\n",
       "    <tr>\n",
       "      <th>1</th>\n",
       "      <td>150.0</td>\n",
       "      <td>2.0</td>\n",
       "      <td>20.0</td>\n",
       "      <td>3.0</td>\n",
       "      <td>83.869232</td>\n",
       "    </tr>\n",
       "  </tbody>\n",
       "</table>\n",
       "</div>"
      ],
      "text/plain": [
       "   MolWt  LogP  TPSA  NumRings  Predicted_MP\n",
       "0  100.0   1.5  10.0       2.0     69.901376\n",
       "1  150.0   2.0  20.0       3.0     83.869232"
      ]
     },
     "execution_count": 36,
     "metadata": {},
     "output_type": "execute_result"
    }
   ],
   "source": [
    "X_new = np.array([[100, 1.5, 10, 2],\n",
    "                  [150, 2.0, 20, 3]])\n",
    "preds = mlp.predict(X_new)\n",
    "pd.DataFrame(X_new, columns=[\"MolWt\",\"LogP\",\"TPSA\",\"NumRings\"]).assign(Predicted_MP=preds)"
   ]
  },
  {
   "cell_type": "markdown",
   "id": "babc31e2",
   "metadata": {},
   "source": [
    "---\n",
    "\n",
    "## 14. Extra practice ideas\n",
    "\n",
    "- Replace the MP target with **log10(solubility + 1e-6)** and compare Ridge vs MLP.\n",
    "- Try `activation=\"tanh\"` for MP. Sometimes it fits smoother targets better.\n",
    "- Stratified split on toxicity with a different seed and repeat threshold tuning.\n",
    "- Use a tiny `GridSearchCV` over `hidden_layer_sizes` and `alpha` on MP. Keep the grid small to run quickly."
   ]
  }
 ],
 "metadata": {
  "jupytext": {
   "text_representation": {
    "extension": ".md",
    "format_name": "myst",
    "format_version": 0.13,
    "jupytext_version": "1.16.4"
   }
  },
  "kernelspec": {
   "display_name": "Python 3",
   "language": "python",
   "name": "python3"
  },
  "language_info": {
   "codemirror_mode": {
    "name": "ipython",
    "version": 3
   },
   "file_extension": ".py",
   "mimetype": "text/x-python",
   "name": "python",
   "nbconvert_exporter": "python",
   "pygments_lexer": "ipython3",
   "version": "3.8.10"
  },
  "source_map": [
   12,
   34,
   62,
   82,
   89,
   105,
   111,
   115,
   121,
   125,
   130,
   136,
   147,
   151,
   154,
   178,
   183,
   187,
   192,
   196,
   200,
   204,
   222,
   226,
   233,
   257,
   263,
   280,
   295,
   305,
   309,
   313,
   317,
   336,
   340,
   357,
   377,
   387,
   391,
   401,
   405,
   428,
   432,
   453,
   487,
   493,
   502,
   535,
   554,
   558,
   567,
   627,
   636,
   646,
   665,
   672,
   689,
   696,
   722,
   731,
   737,
   745,
   751,
   755,
   773,
   777,
   800,
   804,
   829,
   833,
   838
  ]
 },
 "nbformat": 4,
 "nbformat_minor": 5
}