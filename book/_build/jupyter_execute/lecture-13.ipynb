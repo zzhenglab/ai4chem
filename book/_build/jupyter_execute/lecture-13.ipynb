{
 "cells": [
  {
   "cell_type": "markdown",
   "id": "285b211b",
   "metadata": {},
   "source": [
    "# Lecture 13 - De novo Molecule Generation\n",
    "\n",
    "```{contents}\n",
    ":local:\n",
    ":depth: 1\n",
    "```\n",
    "\n",
    "## 1. Setup and data\n",
    "\n",
    "We keep code in small steps. After each step we print a small result so you can see shapes and objects."
   ]
  },
  {
   "cell_type": "code",
   "execution_count": 1,
   "id": "deb57e1d",
   "metadata": {},
   "outputs": [],
   "source": [
    "# Core\n",
    "import numpy as np\n",
    "import pandas as pd\n",
    "import matplotlib.pyplot as plt\n",
    "import warnings\n",
    "warnings.filterwarnings(\"ignore\")"
   ]
  },
  {
   "cell_type": "markdown",
   "id": "073d8049",
   "metadata": {},
   "source": [
    "RDKit is assumed in this course. If it is not present in your environment, you can still read, but some cells will not run."
   ]
  },
  {
   "cell_type": "code",
   "execution_count": 2,
   "id": "046dc58b",
   "metadata": {},
   "outputs": [
    {
     "data": {
      "text/plain": [
       "True"
      ]
     },
     "execution_count": 2,
     "metadata": {},
     "output_type": "execute_result"
    }
   ],
   "source": [
    "try:\n",
    "    from rdkit import Chem\n",
    "    from rdkit.Chem import Descriptors, Crippen, rdMolDescriptors, Draw\n",
    "    RD = True\n",
    "except Exception:\n",
    "    RD = False\n",
    "    Chem = None\n",
    "RD"
   ]
  },
  {
   "cell_type": "markdown",
   "id": "6800ce00",
   "metadata": {},
   "source": [
    "For ML we only need a few pieces. We will add more as needed."
   ]
  },
  {
   "cell_type": "code",
   "execution_count": 3,
   "id": "89d49902",
   "metadata": {},
   "outputs": [],
   "source": [
    "import torch, torch.nn as nn, torch.optim as optim\n",
    "from torch.utils.data import Dataset, DataLoader\n",
    "from sklearn.model_selection import train_test_split\n",
    "from sklearn.preprocessing import StandardScaler"
   ]
  },
  {
   "cell_type": "markdown",
   "id": "beb9191e",
   "metadata": {},
   "source": [
    "Load the small C-H oxidation dataset used in earlier lectures."
   ]
  },
  {
   "cell_type": "code",
   "execution_count": 4,
   "id": "a3fe4ba5",
   "metadata": {},
   "outputs": [
    {
     "data": {
      "text/html": [
       "<div>\n",
       "<style scoped>\n",
       "    .dataframe tbody tr th:only-of-type {\n",
       "        vertical-align: middle;\n",
       "    }\n",
       "\n",
       "    .dataframe tbody tr th {\n",
       "        vertical-align: top;\n",
       "    }\n",
       "\n",
       "    .dataframe thead th {\n",
       "        text-align: right;\n",
       "    }\n",
       "</style>\n",
       "<table border=\"1\" class=\"dataframe\">\n",
       "  <thead>\n",
       "    <tr style=\"text-align: right;\">\n",
       "      <th></th>\n",
       "      <th>Compound Name</th>\n",
       "      <th>CAS</th>\n",
       "      <th>SMILES</th>\n",
       "      <th>Solubility_mol_per_L</th>\n",
       "      <th>pKa</th>\n",
       "      <th>Toxicity</th>\n",
       "      <th>Melting Point</th>\n",
       "      <th>Reactivity</th>\n",
       "      <th>Oxidation Site</th>\n",
       "    </tr>\n",
       "  </thead>\n",
       "  <tbody>\n",
       "    <tr>\n",
       "      <th>0</th>\n",
       "      <td>3,4-dihydro-1H-isochromene</td>\n",
       "      <td>493-05-0</td>\n",
       "      <td>c1ccc2c(c1)CCOC2</td>\n",
       "      <td>0.103906</td>\n",
       "      <td>5.80</td>\n",
       "      <td>non_toxic</td>\n",
       "      <td>65.8</td>\n",
       "      <td>1</td>\n",
       "      <td>8,10</td>\n",
       "    </tr>\n",
       "    <tr>\n",
       "      <th>1</th>\n",
       "      <td>9H-fluorene</td>\n",
       "      <td>86-73-7</td>\n",
       "      <td>c1ccc2c(c1)Cc1ccccc1-2</td>\n",
       "      <td>0.010460</td>\n",
       "      <td>5.82</td>\n",
       "      <td>toxic</td>\n",
       "      <td>90.0</td>\n",
       "      <td>1</td>\n",
       "      <td>7</td>\n",
       "    </tr>\n",
       "    <tr>\n",
       "      <th>2</th>\n",
       "      <td>1,2,3,4-tetrahydronaphthalene</td>\n",
       "      <td>119-64-2</td>\n",
       "      <td>c1ccc2c(c1)CCCC2</td>\n",
       "      <td>0.020589</td>\n",
       "      <td>5.74</td>\n",
       "      <td>toxic</td>\n",
       "      <td>69.4</td>\n",
       "      <td>1</td>\n",
       "      <td>7,10</td>\n",
       "    </tr>\n",
       "  </tbody>\n",
       "</table>\n",
       "</div>"
      ],
      "text/plain": [
       "                   Compound Name       CAS                  SMILES  \\\n",
       "0     3,4-dihydro-1H-isochromene  493-05-0        c1ccc2c(c1)CCOC2   \n",
       "1                    9H-fluorene   86-73-7  c1ccc2c(c1)Cc1ccccc1-2   \n",
       "2  1,2,3,4-tetrahydronaphthalene  119-64-2        c1ccc2c(c1)CCCC2   \n",
       "\n",
       "   Solubility_mol_per_L   pKa   Toxicity  Melting Point  Reactivity  \\\n",
       "0              0.103906  5.80  non_toxic           65.8           1   \n",
       "1              0.010460  5.82      toxic           90.0           1   \n",
       "2              0.020589  5.74      toxic           69.4           1   \n",
       "\n",
       "  Oxidation Site  \n",
       "0           8,10  \n",
       "1              7  \n",
       "2           7,10  "
      ]
     },
     "execution_count": 4,
     "metadata": {},
     "output_type": "execute_result"
    }
   ],
   "source": [
    "url = \"https://raw.githubusercontent.com/zzhenglab/ai4chem/main/book/_data/C_H_oxidation_dataset.csv\"\n",
    "df_raw = pd.read_csv(url)\n",
    "df_raw.head(3)"
   ]
  },
  {
   "cell_type": "markdown",
   "id": "772d423f",
   "metadata": {},
   "source": [
    "Compute 10 quick descriptors that we will reuse several times today."
   ]
  },
  {
   "cell_type": "code",
   "execution_count": 5,
   "id": "c086e6ef",
   "metadata": {},
   "outputs": [
    {
     "data": {
      "text/plain": [
       "((575, 19),\n",
       "                 Compound Name       CAS                  SMILES  \\\n",
       " 0  3,4-dihydro-1H-isochromene  493-05-0        c1ccc2c(c1)CCOC2   \n",
       " 1                 9H-fluorene   86-73-7  c1ccc2c(c1)Cc1ccccc1-2   \n",
       " \n",
       "    Solubility_mol_per_L   pKa   Toxicity  Melting Point  Reactivity  \\\n",
       " 0              0.103906  5.80  non_toxic           65.8           1   \n",
       " 1              0.010460  5.82      toxic           90.0           1   \n",
       " \n",
       "   Oxidation Site    MolWt    LogP  TPSA  NumRings  NumHAcceptors  NumHDonors  \\\n",
       " 0           8,10  134.178  1.7593  9.23       2.0            1.0         0.0   \n",
       " 1              7  166.223  3.2578  0.00       3.0            0.0         0.0   \n",
       " \n",
       "    NumRotatableBonds  HeavyAtomCount  FractionCSP3  NumAromaticRings  \n",
       " 0                0.0            10.0      0.333333               1.0  \n",
       " 1                0.0            13.0      0.076923               2.0  )"
      ]
     },
     "execution_count": 5,
     "metadata": {},
     "output_type": "execute_result"
    }
   ],
   "source": [
    "def calc_descriptors10(smiles: str):\n",
    "    if not RD:\n",
    "        return pd.Series({k: np.nan for k in [\n",
    "            \"MolWt\",\"LogP\",\"TPSA\",\"NumRings\",\"NumHAcceptors\",\"NumHDonors\",\n",
    "            \"NumRotatableBonds\",\"HeavyAtomCount\",\"FractionCSP3\",\"NumAromaticRings\"\n",
    "        ]})\n",
    "    m = Chem.MolFromSmiles(smiles)\n",
    "    if m is None:\n",
    "        return pd.Series({k: np.nan for k in [\n",
    "            \"MolWt\",\"LogP\",\"TPSA\",\"NumRings\",\"NumHAcceptors\",\"NumHDonors\",\n",
    "            \"NumRotatableBonds\",\"HeavyAtomCount\",\"FractionCSP3\",\"NumAromaticRings\"\n",
    "        ]})\n",
    "    return pd.Series({\n",
    "        \"MolWt\": Descriptors.MolWt(m),\n",
    "        \"LogP\": Crippen.MolLogP(m),\n",
    "        \"TPSA\": rdMolDescriptors.CalcTPSA(m),\n",
    "        \"NumRings\": rdMolDescriptors.CalcNumRings(m),\n",
    "        \"NumHAcceptors\": rdMolDescriptors.CalcNumHBA(m),\n",
    "        \"NumHDonors\": rdMolDescriptors.CalcNumHBD(m),\n",
    "        \"NumRotatableBonds\": rdMolDescriptors.CalcNumRotatableBonds(m),\n",
    "        \"HeavyAtomCount\": Descriptors.HeavyAtomCount(m),\n",
    "        \"FractionCSP3\": rdMolDescriptors.CalcFractionCSP3(m),\n",
    "        \"NumAromaticRings\": rdMolDescriptors.CalcNumAromaticRings(m),\n",
    "    })\n",
    "\n",
    "desc10 = df_raw[\"SMILES\"].apply(calc_descriptors10)\n",
    "df10 = pd.concat([df_raw, desc10], axis=1).dropna()\n",
    "df10.shape, df10.head(2)"
   ]
  },
  {
   "cell_type": "markdown",
   "id": "c3c383ec",
   "metadata": {},
   "source": [
    "We pick a medium sized subset for quick AE experiments."
   ]
  },
  {
   "cell_type": "code",
   "execution_count": 6,
   "id": "3e2bfc6f",
   "metadata": {},
   "outputs": [
    {
     "data": {
      "text/plain": [
       "(500, 19)"
      ]
     },
     "execution_count": 6,
     "metadata": {},
     "output_type": "execute_result"
    }
   ],
   "source": [
    "mask = (\n",
    "    (df10[\"MolWt\"].between(120, 450)) &\n",
    "    ((df10[\"NumRings\"] >= 1) | (df10[\"NumHAcceptors\"] >= 1) | (df10[\"NumHDonors\"] >= 1))\n",
    ")\n",
    "df_small = df10[mask].copy().sample(min(500, mask.sum()), random_state=42)\n",
    "df_small.shape"
   ]
  },
  {
   "cell_type": "markdown",
   "id": "fd230a27",
   "metadata": {},
   "source": [
    "```{admonition} ⏰ Exercise 1\n",
    "Change the MolWt range to 100..380 and re-run the filter. How many rows remain Print `df_small.shape`.\n",
    "```\n",
    "\n",
    "## 2. Unsupervised recap with a tiny PCA\n",
    "\n",
    "We standardize 10D descriptors and compute a 2D PCA for a quick map. This connects to our earlier lecture on dimension reduction."
   ]
  },
  {
   "cell_type": "code",
   "execution_count": 7,
   "id": "1f031756",
   "metadata": {},
   "outputs": [
    {
     "data": {
      "text/plain": [
       "array([[ 4.49600188,  1.26404954],\n",
       "       [ 0.43883249,  0.69197567],\n",
       "       [ 0.45086122, -3.45685118]])"
      ]
     },
     "execution_count": 7,
     "metadata": {},
     "output_type": "execute_result"
    }
   ],
   "source": [
    "from sklearn.decomposition import PCA\n",
    "\n",
    "feat_cols = [\"MolWt\",\"LogP\",\"TPSA\",\"NumRings\",\"NumHAcceptors\",\"NumHDonors\",\n",
    "             \"NumRotatableBonds\",\"HeavyAtomCount\",\"FractionCSP3\",\"NumAromaticRings\"]\n",
    "X = df_small[feat_cols].to_numpy(dtype=float)\n",
    "scaler = StandardScaler().fit(X)\n",
    "Xz = scaler.transform(X)\n",
    "\n",
    "pca = PCA(n_components=2).fit(Xz)\n",
    "Zp = pca.transform(Xz)\n",
    "Zp[:3]"
   ]
  },
  {
   "cell_type": "markdown",
   "id": "21fa36d6",
   "metadata": {},
   "source": [
    "Plot the PCA map and color by number of rings."
   ]
  },
  {
   "cell_type": "code",
   "execution_count": 8,
   "id": "7511de75",
   "metadata": {},
   "outputs": [
    {
     "data": {
      "image/png": "[encoded data removed]",
      "text/plain": [
       "<Figure size 640x480 with 2 Axes>"
      ]
     },
     "metadata": {},
     "output_type": "display_data"
    }
   ],
   "source": [
    "plt.scatter(Zp[:,0], Zp[:,1], c=df_small[\"NumRings\"], cmap=\"viridis\", s=12, alpha=0.7)\n",
    "plt.colorbar(label=\"NumRings\")\n",
    "plt.xlabel(\"PC1\"); plt.ylabel(\"PC2\"); plt.title(\"PCA on 10 descriptors\")\n",
    "plt.show()"
   ]
  },
  {
   "cell_type": "markdown",
   "id": "698f3dc5",
   "metadata": {},
   "source": [
    "Look at loadings to see which descriptors drive PC1."
   ]
  },
  {
   "cell_type": "code",
   "execution_count": 9,
   "id": "0b36498e",
   "metadata": {},
   "outputs": [
    {
     "data": {
      "text/plain": [
       "FractionCSP3        -0.237596\n",
       "NumRotatableBonds   -0.022847\n",
       "LogP                 0.165198\n",
       "NumHDonors           0.251924\n",
       "NumHAcceptors        0.293134\n",
       "TPSA                 0.299482\n",
       "NumAromaticRings     0.379889\n",
       "NumRings             0.404603\n",
       "MolWt                0.418982\n",
       "HeavyAtomCount       0.439418\n",
       "dtype: float64"
      ]
     },
     "execution_count": 9,
     "metadata": {},
     "output_type": "execute_result"
    }
   ],
   "source": [
    "loadings = pd.Series(pca.components_[0], index=feat_cols).sort_values()\n",
    "loadings"
   ]
  },
  {
   "cell_type": "markdown",
   "id": "6452fb0b",
   "metadata": {},
   "source": [
    "```{admonition} ⏰ Exercise 2\n",
    "Replace color by `TPSA` in the PCA scatter. What region corresponds to high TPSA\n",
    "```\n",
    "\n",
    "## 3. Autoencoder on descriptors\n",
    "\n",
    "We build a very small autoencoder. The encoder compresses 10 numbers to 2. The decoder reconstructs the 10 numbers."
   ]
  },
  {
   "cell_type": "code",
   "execution_count": 10,
   "id": "6a35f38a",
   "metadata": {},
   "outputs": [
    {
     "data": {
      "text/plain": [
       "TinyAE(\n",
       "  (enc): Sequential(\n",
       "    (0): Linear(in_features=10, out_features=64, bias=True)\n",
       "    (1): ReLU()\n",
       "    (2): Linear(in_features=64, out_features=2, bias=True)\n",
       "  )\n",
       "  (dec): Sequential(\n",
       "    (0): Linear(in_features=2, out_features=64, bias=True)\n",
       "    (1): ReLU()\n",
       "    (2): Linear(in_features=64, out_features=10, bias=True)\n",
       "  )\n",
       ")"
      ]
     },
     "execution_count": 10,
     "metadata": {},
     "output_type": "execute_result"
    }
   ],
   "source": [
    "class TinyAE(nn.Module):\n",
    "    def __init__(self, in_dim=10, hid=64, z_dim=2):\n",
    "        super().__init__()\n",
    "        self.enc = nn.Sequential(nn.Linear(in_dim, hid), nn.ReLU(), nn.Linear(hid, z_dim))\n",
    "        self.dec = nn.Sequential(nn.Linear(z_dim, hid), nn.ReLU(), nn.Linear(hid, in_dim))\n",
    "    def encode(self, x): return self.enc(x)\n",
    "    def decode(self, z): return self.dec(z)\n",
    "    def forward(self, x):\n",
    "        z = self.enc(x)\n",
    "        xr = self.dec(z)\n",
    "        return xr, z\n",
    "\n",
    "ae = TinyAE(in_dim=10, hid=64, z_dim=2)\n",
    "ae"
   ]
  },
  {
   "cell_type": "markdown",
   "id": "cbccfbb1",
   "metadata": {},
   "source": [
    "Prepare tensors and a simple loader."
   ]
  },
  {
   "cell_type": "code",
   "execution_count": 11,
   "id": "08638f1d",
   "metadata": {},
   "outputs": [
    {
     "data": {
      "text/plain": [
       "(torch.Size([64, 10]), tensor([-1.4587, -1.2725, -0.5686, -1.0040]))"
      ]
     },
     "execution_count": 11,
     "metadata": {},
     "output_type": "execute_result"
    }
   ],
   "source": [
    "class ArrayDataset(Dataset):\n",
    "    def __init__(self, X):\n",
    "        self.X = torch.from_numpy(X.astype(np.float32))\n",
    "    def __len__(self): return len(self.X)\n",
    "    def __getitem__(self, i): return self.X[i]\n",
    "\n",
    "ds = ArrayDataset(Xz)\n",
    "dl = DataLoader(ds, batch_size=64, shuffle=True)\n",
    "xb = next(iter(dl))\n",
    "xb.shape, xb[0,:4]"
   ]
  },
  {
   "cell_type": "markdown",
   "id": "faa90e8a",
   "metadata": {},
   "source": [
    "Train for a few epochs and watch the loss."
   ]
  },
  {
   "cell_type": "code",
   "execution_count": 12,
   "id": "b5fbf553",
   "metadata": {},
   "outputs": [
    {
     "data": {
      "image/png": "[encoded data removed]",
      "text/plain": [
       "<Figure size 640x480 with 1 Axes>"
      ]
     },
     "metadata": {},
     "output_type": "display_data"
    }
   ],
   "source": [
    "opt = optim.Adam(ae.parameters(), lr=1e-3)\n",
    "losses = []\n",
    "for ep in range(8):\n",
    "    for xb in dl:\n",
    "        xr, z = ae(xb)\n",
    "        loss = nn.functional.mse_loss(xr, xb)\n",
    "        opt.zero_grad(); loss.backward(); opt.step()\n",
    "        losses.append(loss.item())\n",
    "plt.plot(losses); plt.xlabel(\"step\"); plt.ylabel(\"MSE\"); plt.title(\"AE training loss\"); plt.show()"
   ]
  },
  {
   "cell_type": "markdown",
   "id": "0c4c2885",
   "metadata": {},
   "source": [
    "Encode all rows to see the latent space. This is what **encode** returns."
   ]
  },
  {
   "cell_type": "code",
   "execution_count": 13,
   "id": "786612af",
   "metadata": {},
   "outputs": [
    {
     "data": {
      "text/plain": [
       "array([[ 0.3566122 , -2.3071775 ],\n",
       "       [-0.09010807, -0.19626446],\n",
       "       [-0.24562994, -0.8618359 ]], dtype=float32)"
      ]
     },
     "execution_count": 13,
     "metadata": {},
     "output_type": "execute_result"
    }
   ],
   "source": [
    "with torch.no_grad():\n",
    "    Z = ae.encode(torch.from_numpy(Xz.astype(np.float32))).numpy()\n",
    "Z[:3]"
   ]
  },
  {
   "cell_type": "markdown",
   "id": "4e1c5ced",
   "metadata": {},
   "source": [
    "Plot the latent and color by LogP."
   ]
  },
  {
   "cell_type": "code",
   "execution_count": 14,
   "id": "383b4d1f",
   "metadata": {},
   "outputs": [
    {
     "data": {
      "image/png": "[encoded data removed]",
      "text/plain": [
       "<Figure size 640x480 with 2 Axes>"
      ]
     },
     "metadata": {},
     "output_type": "display_data"
    }
   ],
   "source": [
    "plt.scatter(Z[:,0], Z[:,1], c=df_small[\"LogP\"], cmap=\"coolwarm\", s=12, alpha=0.8)\n",
    "plt.xlabel(\"z1\"); plt.ylabel(\"z2\"); plt.title(\"AE latent (color = LogP)\")\n",
    "plt.colorbar(); plt.show()"
   ]
  },
  {
   "cell_type": "markdown",
   "id": "51c7a215",
   "metadata": {},
   "source": [
    "```{admonition} ⏰ Exercise 3\n",
    "Change `z_dim` to 3 in `TinyAE` and plot `z[:,0]` vs `z[:,2]`. Does it reveal more structure\n",
    "```\n",
    "\n",
    "## 4. Why AE is tricky for SMILES\n",
    "\n",
    "A descriptor AE reconstructs numbers. A molecular generator must produce valid SMILES. Small mistakes create invalid molecules. Here is a tiny example of parsing errors and a safe parser that skips them."
   ]
  },
  {
   "cell_type": "code",
   "execution_count": 15,
   "id": "6368e850",
   "metadata": {},
   "outputs": [
    {
     "data": {
      "text/html": [
       "<div>\n",
       "<style scoped>\n",
       "    .dataframe tbody tr th:only-of-type {\n",
       "        vertical-align: middle;\n",
       "    }\n",
       "\n",
       "    .dataframe tbody tr th {\n",
       "        vertical-align: top;\n",
       "    }\n",
       "\n",
       "    .dataframe thead th {\n",
       "        text-align: right;\n",
       "    }\n",
       "</style>\n",
       "<table border=\"1\" class=\"dataframe\">\n",
       "  <thead>\n",
       "    <tr style=\"text-align: right;\">\n",
       "      <th></th>\n",
       "      <th>SMILES</th>\n",
       "      <th>is_valid</th>\n",
       "    </tr>\n",
       "  </thead>\n",
       "  <tbody>\n",
       "    <tr>\n",
       "      <th>0</th>\n",
       "      <td>C1CC1C1</td>\n",
       "      <td>False</td>\n",
       "    </tr>\n",
       "    <tr>\n",
       "      <th>1</th>\n",
       "      <td>CCC(C)(C)(C)</td>\n",
       "      <td>True</td>\n",
       "    </tr>\n",
       "    <tr>\n",
       "      <th>2</th>\n",
       "      <td>C=O=O</td>\n",
       "      <td>False</td>\n",
       "    </tr>\n",
       "    <tr>\n",
       "      <th>3</th>\n",
       "      <td>C(C)(C)(C)(C)C</td>\n",
       "      <td>False</td>\n",
       "    </tr>\n",
       "  </tbody>\n",
       "</table>\n",
       "</div>"
      ],
      "text/plain": [
       "           SMILES  is_valid\n",
       "0         C1CC1C1     False\n",
       "1    CCC(C)(C)(C)      True\n",
       "2           C=O=O     False\n",
       "3  C(C)(C)(C)(C)C     False"
      ]
     },
     "execution_count": 15,
     "metadata": {},
     "output_type": "execute_result"
    }
   ],
   "source": [
    "from rdkit import RDLogger\n",
    "RDLogger.DisableLog('rdApp.*')\n",
    "\n",
    "bad_smiles = [\"C1CC1C1\", \"CCC(C)(C)(C)\", \"C=O=O\", \"C(C)(C)(C)(C)C\"]\n",
    "def safe_mol_from_smiles(smi):\n",
    "    try:\n",
    "        m = Chem.MolFromSmiles(smi, sanitize=False)\n",
    "        if m is None: return None\n",
    "        Chem.SanitizeMol(m)\n",
    "        return m\n",
    "    except Exception:\n",
    "        return None\n",
    "\n",
    "parsed = [safe_mol_from_smiles(s) is not None for s in bad_smiles]\n",
    "pd.DataFrame({\"SMILES\": bad_smiles, \"is_valid\": parsed})"
   ]
  },
  {
   "cell_type": "markdown",
   "id": "8ed80c93",
   "metadata": {},
   "source": [
    "This motivates a VAE which gives a distribution in latent space so we can sample smoothly and then decode to strings.\n",
    "\n",
    "## 5. VAE concept with a tiny numeric example\n",
    "\n",
    "The VAE encoder outputs a mean and a log-variance. We compute the KL term to the standard normal. For a single sample with diagonal covariance, the KL has a closed form."
   ]
  },
  {
   "cell_type": "code",
   "execution_count": 16,
   "id": "45fa4a74",
   "metadata": {},
   "outputs": [
    {
     "data": {
      "text/plain": [
       "0.06520640682625409"
      ]
     },
     "execution_count": 16,
     "metadata": {},
     "output_type": "execute_result"
    }
   ],
   "source": [
    "mu = torch.tensor([0.2, -0.1])\n",
    "logvar = torch.tensor([np.log(0.5), np.log(1.2)])\n",
    "kl = -0.5 * torch.mean(1 + logvar - mu.pow(2) - logvar.exp())\n",
    "float(kl)"
   ]
  },
  {
   "cell_type": "markdown",
   "id": "3c6c0896",
   "metadata": {},
   "source": [
    "Reparameterization trick: sample epsilon and form z."
   ]
  },
  {
   "cell_type": "code",
   "execution_count": 17,
   "id": "f5b321c1",
   "metadata": {},
   "outputs": [
    {
     "data": {
      "text/plain": [
       "array([ 0.68454375, -1.1998065 ])"
      ]
     },
     "execution_count": 17,
     "metadata": {},
     "output_type": "execute_result"
    }
   ],
   "source": [
    "std = torch.exp(0.5*logvar)\n",
    "eps = torch.randn_like(std)\n",
    "z = mu + std * eps\n",
    "z.numpy()"
   ]
  },
  {
   "cell_type": "markdown",
   "id": "7c62c73f",
   "metadata": {},
   "source": [
    "## 6. Build SMILES vocabulary and dataset\n",
    "\n",
    "We fetch about 4k sanitized SMILES from QM9 using DeepChem, then tokenize to characters."
   ]
  },
  {
   "cell_type": "code",
   "execution_count": 18,
   "id": "b7f67e4e",
   "metadata": {},
   "outputs": [
    {
     "ename": "ModuleNotFoundError",
     "evalue": "No module named 'tensorflow'",
     "output_type": "error",
     "traceback": [
      "\u001b[31m---------------------------------------------------------------------------\u001b[39m",
      "\u001b[31mModuleNotFoundError\u001b[39m                       Traceback (most recent call last)",
      "\u001b[36mCell\u001b[39m\u001b[36m \u001b[39m\u001b[32mIn[18]\u001b[39m\u001b[32m, line 1\u001b[39m\n\u001b[32m----> \u001b[39m\u001b[32m1\u001b[39m \u001b[38;5;28;01mimport\u001b[39;00m\u001b[38;5;250m \u001b[39m\u001b[34;01mdeepchem\u001b[39;00m\u001b[38;5;250m \u001b[39m\u001b[38;5;28;01mas\u001b[39;00m\u001b[38;5;250m \u001b[39m\u001b[34;01mdc\u001b[39;00m\n\u001b[32m      2\u001b[39m tasks, datasets, transformers = dc.molnet.load_qm9(featurizer=\u001b[33m'\u001b[39m\u001b[33mRaw\u001b[39m\u001b[33m'\u001b[39m)\n\u001b[32m      3\u001b[39m train_dataset, valid_dataset, test_dataset = datasets\n",
      "\u001b[36mFile \u001b[39m\u001b[32m~\\AppData\\Local\\Programs\\Python\\Python313\\Lib\\site-packages\\deepchem\\__init__.py:10\u001b[39m\n\u001b[32m      8\u001b[39m \u001b[38;5;28;01mimport\u001b[39;00m\u001b[38;5;250m \u001b[39m\u001b[34;01mdeepchem\u001b[39;00m\u001b[34;01m.\u001b[39;00m\u001b[34;01mdata\u001b[39;00m\n\u001b[32m      9\u001b[39m \u001b[38;5;28;01mimport\u001b[39;00m\u001b[38;5;250m \u001b[39m\u001b[34;01mdeepchem\u001b[39;00m\u001b[34;01m.\u001b[39;00m\u001b[34;01mfeat\u001b[39;00m\n\u001b[32m---> \u001b[39m\u001b[32m10\u001b[39m \u001b[38;5;28;01mimport\u001b[39;00m\u001b[38;5;250m \u001b[39m\u001b[34;01mdeepchem\u001b[39;00m\u001b[34;01m.\u001b[39;00m\u001b[34;01mhyper\u001b[39;00m\n\u001b[32m     11\u001b[39m \u001b[38;5;28;01mimport\u001b[39;00m\u001b[38;5;250m \u001b[39m\u001b[34;01mdeepchem\u001b[39;00m\u001b[34;01m.\u001b[39;00m\u001b[34;01mmetalearning\u001b[39;00m\n\u001b[32m     12\u001b[39m \u001b[38;5;28;01mimport\u001b[39;00m\u001b[38;5;250m \u001b[39m\u001b[34;01mdeepchem\u001b[39;00m\u001b[34;01m.\u001b[39;00m\u001b[34;01mmetrics\u001b[39;00m\n",
      "\u001b[36mFile \u001b[39m\u001b[32m~\\AppData\\Local\\Programs\\Python\\Python313\\Lib\\site-packages\\deepchem\\hyper\\__init__.py:2\u001b[39m\n\u001b[32m      1\u001b[39m \u001b[38;5;66;03m# flake8: noqa\u001b[39;00m\n\u001b[32m----> \u001b[39m\u001b[32m2\u001b[39m \u001b[38;5;28;01mfrom\u001b[39;00m\u001b[38;5;250m \u001b[39m\u001b[34;01mdeepchem\u001b[39;00m\u001b[34;01m.\u001b[39;00m\u001b[34;01mhyper\u001b[39;00m\u001b[34;01m.\u001b[39;00m\u001b[34;01mbase_classes\u001b[39;00m\u001b[38;5;250m \u001b[39m\u001b[38;5;28;01mimport\u001b[39;00m HyperparamOpt\n\u001b[32m      3\u001b[39m \u001b[38;5;28;01mfrom\u001b[39;00m\u001b[38;5;250m \u001b[39m\u001b[34;01mdeepchem\u001b[39;00m\u001b[34;01m.\u001b[39;00m\u001b[34;01mhyper\u001b[39;00m\u001b[34;01m.\u001b[39;00m\u001b[34;01mgrid_search\u001b[39;00m\u001b[38;5;250m \u001b[39m\u001b[38;5;28;01mimport\u001b[39;00m GridHyperparamOpt\n\u001b[32m      4\u001b[39m \u001b[38;5;28;01mfrom\u001b[39;00m\u001b[38;5;250m \u001b[39m\u001b[34;01mdeepchem\u001b[39;00m\u001b[34;01m.\u001b[39;00m\u001b[34;01mhyper\u001b[39;00m\u001b[34;01m.\u001b[39;00m\u001b[34;01mgaussian_process\u001b[39;00m\u001b[38;5;250m \u001b[39m\u001b[38;5;28;01mimport\u001b[39;00m GaussianProcessHyperparamOpt\n",
      "\u001b[36mFile \u001b[39m\u001b[32m~\\AppData\\Local\\Programs\\Python\\Python313\\Lib\\site-packages\\deepchem\\hyper\\base_classes.py:5\u001b[39m\n\u001b[32m      2\u001b[39m \u001b[38;5;28;01mfrom\u001b[39;00m\u001b[38;5;250m \u001b[39m\u001b[34;01mtyping\u001b[39;00m\u001b[38;5;250m \u001b[39m\u001b[38;5;28;01mimport\u001b[39;00m Any, Callable, Dict, List, Optional, Tuple\n\u001b[32m      4\u001b[39m \u001b[38;5;28;01mfrom\u001b[39;00m\u001b[38;5;250m \u001b[39m\u001b[34;01mdeepchem\u001b[39;00m\u001b[34;01m.\u001b[39;00m\u001b[34;01mdata\u001b[39;00m\u001b[38;5;250m \u001b[39m\u001b[38;5;28;01mimport\u001b[39;00m Dataset\n\u001b[32m----> \u001b[39m\u001b[32m5\u001b[39m \u001b[38;5;28;01mfrom\u001b[39;00m\u001b[38;5;250m \u001b[39m\u001b[34;01mdeepchem\u001b[39;00m\u001b[34;01m.\u001b[39;00m\u001b[34;01mtrans\u001b[39;00m\u001b[38;5;250m \u001b[39m\u001b[38;5;28;01mimport\u001b[39;00m Transformer\n\u001b[32m      6\u001b[39m \u001b[38;5;28;01mfrom\u001b[39;00m\u001b[38;5;250m \u001b[39m\u001b[34;01mdeepchem\u001b[39;00m\u001b[34;01m.\u001b[39;00m\u001b[34;01mmodels\u001b[39;00m\u001b[38;5;250m \u001b[39m\u001b[38;5;28;01mimport\u001b[39;00m Model\n\u001b[32m      7\u001b[39m \u001b[38;5;28;01mfrom\u001b[39;00m\u001b[38;5;250m \u001b[39m\u001b[34;01mdeepchem\u001b[39;00m\u001b[34;01m.\u001b[39;00m\u001b[34;01mmetrics\u001b[39;00m\u001b[38;5;250m \u001b[39m\u001b[38;5;28;01mimport\u001b[39;00m Metric\n",
      "\u001b[36mFile \u001b[39m\u001b[32m~\\AppData\\Local\\Programs\\Python\\Python313\\Lib\\site-packages\\deepchem\\trans\\__init__.py:6\u001b[39m\n\u001b[32m      1\u001b[39m \u001b[33;03m\"\"\"\u001b[39;00m\n\u001b[32m      2\u001b[39m \u001b[33;03mGathers all transformers in one place for convenient imports\u001b[39;00m\n\u001b[32m      3\u001b[39m \u001b[33;03m\"\"\"\u001b[39;00m\n\u001b[32m      4\u001b[39m \u001b[38;5;66;03m# flake8: noqa\u001b[39;00m\n\u001b[32m----> \u001b[39m\u001b[32m6\u001b[39m \u001b[38;5;28;01mfrom\u001b[39;00m\u001b[38;5;250m \u001b[39m\u001b[34;01mdeepchem\u001b[39;00m\u001b[34;01m.\u001b[39;00m\u001b[34;01mtrans\u001b[39;00m\u001b[34;01m.\u001b[39;00m\u001b[34;01mtransformers\u001b[39;00m\u001b[38;5;250m \u001b[39m\u001b[38;5;28;01mimport\u001b[39;00m undo_transforms\n\u001b[32m      7\u001b[39m \u001b[38;5;28;01mfrom\u001b[39;00m\u001b[38;5;250m \u001b[39m\u001b[34;01mdeepchem\u001b[39;00m\u001b[34;01m.\u001b[39;00m\u001b[34;01mtrans\u001b[39;00m\u001b[34;01m.\u001b[39;00m\u001b[34;01mtransformers\u001b[39;00m\u001b[38;5;250m \u001b[39m\u001b[38;5;28;01mimport\u001b[39;00m undo_grad_transforms\n\u001b[32m      8\u001b[39m \u001b[38;5;28;01mfrom\u001b[39;00m\u001b[38;5;250m \u001b[39m\u001b[34;01mdeepchem\u001b[39;00m\u001b[34;01m.\u001b[39;00m\u001b[34;01mtrans\u001b[39;00m\u001b[34;01m.\u001b[39;00m\u001b[34;01mtransformers\u001b[39;00m\u001b[38;5;250m \u001b[39m\u001b[38;5;28;01mimport\u001b[39;00m Transformer\n",
      "\u001b[36mFile \u001b[39m\u001b[32m~\\AppData\\Local\\Programs\\Python\\Python313\\Lib\\site-packages\\deepchem\\trans\\transformers.py:13\u001b[39m\n\u001b[32m     11\u001b[39m \u001b[38;5;28;01mimport\u001b[39;00m\u001b[38;5;250m \u001b[39m\u001b[34;01mscipy\u001b[39;00m\n\u001b[32m     12\u001b[39m \u001b[38;5;28;01mimport\u001b[39;00m\u001b[38;5;250m \u001b[39m\u001b[34;01mscipy\u001b[39;00m\u001b[34;01m.\u001b[39;00m\u001b[34;01mndimage\u001b[39;00m\n\u001b[32m---> \u001b[39m\u001b[32m13\u001b[39m \u001b[38;5;28;01mimport\u001b[39;00m\u001b[38;5;250m \u001b[39m\u001b[34;01mtensorflow\u001b[39;00m\u001b[38;5;250m \u001b[39m\u001b[38;5;28;01mas\u001b[39;00m\u001b[38;5;250m \u001b[39m\u001b[34;01mtf\u001b[39;00m\n\u001b[32m     15\u001b[39m \u001b[38;5;28;01mimport\u001b[39;00m\u001b[38;5;250m \u001b[39m\u001b[34;01mdeepchem\u001b[39;00m\u001b[38;5;250m \u001b[39m\u001b[38;5;28;01mas\u001b[39;00m\u001b[38;5;250m \u001b[39m\u001b[34;01mdc\u001b[39;00m\n\u001b[32m     16\u001b[39m \u001b[38;5;28;01mfrom\u001b[39;00m\u001b[38;5;250m \u001b[39m\u001b[34;01mdeepchem\u001b[39;00m\u001b[34;01m.\u001b[39;00m\u001b[34;01mdata\u001b[39;00m\u001b[38;5;250m \u001b[39m\u001b[38;5;28;01mimport\u001b[39;00m Dataset, NumpyDataset, DiskDataset\n",
      "\u001b[31mModuleNotFoundError\u001b[39m: No module named 'tensorflow'"
     ]
    }
   ],
   "source": [
    "import deepchem as dc\n",
    "tasks, datasets, transformers = dc.molnet.load_qm9(featurizer='Raw')\n",
    "train_dataset, valid_dataset, test_dataset = datasets\n",
    "\n",
    "def canonicalize_smiles(smi):\n",
    "    if not smi: return None\n",
    "    try:\n",
    "        m = Chem.MolFromSmiles(smi, sanitize=False)\n",
    "        if m is None: return None\n",
    "        Chem.SanitizeMol(m)\n",
    "        return Chem.MolToSmiles(m, canonical=True)\n",
    "    except Exception:\n",
    "        return None\n",
    "\n",
    "def dataset_to_smiles(ds, max_n=None):\n",
    "    out = []\n",
    "    n = len(ds.X) if max_n is None else min(len(ds.X), max_n)\n",
    "    for i in range(n):\n",
    "        mol = ds.X[i]\n",
    "        if mol is None: continue\n",
    "        try:\n",
    "            s = Chem.MolToSmiles(mol, canonical=True)\n",
    "        except Exception:\n",
    "            continue\n",
    "        can = canonicalize_smiles(s)\n",
    "        if can: out.append(can)\n",
    "    return out\n",
    "\n",
    "pool_smiles = list(dict.fromkeys(dataset_to_smiles(train_dataset, max_n=10000)))\n",
    "len(pool_smiles)"
   ]
  },
  {
   "cell_type": "markdown",
   "id": "85a13a7b",
   "metadata": {},
   "source": [
    "Select ~4k and split."
   ]
  },
  {
   "cell_type": "code",
   "execution_count": null,
   "id": "162437ba",
   "metadata": {},
   "outputs": [],
   "source": [
    "rng = np.random.default_rng(42)\n",
    "target_n = 4000\n",
    "if len(pool_smiles) > target_n:\n",
    "    smiles_all = rng.choice(pool_smiles, size=target_n, replace=False).tolist()\n",
    "else:\n",
    "    smiles_all = pool_smiles[:target_n]\n",
    "\n",
    "train_smiles, val_smiles = train_test_split(smiles_all, test_size=0.1, random_state=42)\n",
    "len(train_smiles), len(val_smiles)"
   ]
  },
  {
   "cell_type": "markdown",
   "id": "ed2a9772",
   "metadata": {},
   "source": [
    "Build the character vocabulary and a simple dataset."
   ]
  },
  {
   "cell_type": "code",
   "execution_count": null,
   "id": "4658c7f8",
   "metadata": {},
   "outputs": [],
   "source": [
    "SPECIAL = [\"[PAD]\", \"[SOS]\", \"[EOS]\"]\n",
    "chars = set()\n",
    "for s in train_smiles:\n",
    "    for ch in s: chars.add(ch)\n",
    "idx2ch = SPECIAL + sorted(chars)\n",
    "ch2idx = {c:i for i,c in enumerate(idx2ch)}\n",
    "PAD, SOS, EOS = ch2idx[\"[PAD]\"], ch2idx[\"[SOS]\"], ch2idx[\"[EOS]\"]\n",
    "vocab_size = len(idx2ch); vocab_size"
   ]
  },
  {
   "cell_type": "code",
   "execution_count": null,
   "id": "4dc10336",
   "metadata": {},
   "outputs": [],
   "source": [
    "MAX_LEN = 120\n",
    "\n",
    "def smiles_to_idx(s):\n",
    "    toks = [SOS] + [ch2idx.get(ch, None) for ch in s] + [EOS]\n",
    "    toks = [t for t in toks if t is not None]\n",
    "    toks = toks[:MAX_LEN]\n",
    "    attn = [1]*len(toks)\n",
    "    if len(toks) < MAX_LEN:\n",
    "        toks += [PAD]*(MAX_LEN - len(toks))\n",
    "        attn += [0]*(MAX_LEN - len(attn))\n",
    "    return np.array(toks, np.int64), np.array(attn, np.int64)\n",
    "\n",
    "class SmilesDataset(Dataset):\n",
    "    def __init__(self, smiles_list):\n",
    "        pairs = [smiles_to_idx(s) for s in smiles_list]\n",
    "        self.toks = np.stack([p[0] for p in pairs])\n",
    "        self.attn = np.stack([p[1] for p in pairs])\n",
    "    def __len__(self): return len(self.toks)\n",
    "    def __getitem__(self, i):\n",
    "        return torch.from_numpy(self.toks[i]), torch.from_numpy(self.attn[i])\n",
    "\n",
    "train_ds = SmilesDataset(train_smiles)\n",
    "val_ds   = SmilesDataset(val_smiles)\n",
    "(train_ds[0][0][:20].numpy(), train_ds[0][1][:20].numpy().sum())"
   ]
  },
  {
   "cell_type": "markdown",
   "id": "5c2b3bd8",
   "metadata": {},
   "source": [
    "```{admonition} ⏰ Exercise 4\n",
    "Print the full `idx2ch` list and count vowels or special punctuation. What characters are most frequent in your SMILES\n",
    "```\n",
    "\n",
    "## 7. SMILES VAE model and training\n",
    "\n",
    "We use a compact GRU-based VAE. The loss is cross entropy for next character plus a small KL term."
   ]
  },
  {
   "cell_type": "code",
   "execution_count": null,
   "id": "2a4168f5",
   "metadata": {},
   "outputs": [],
   "source": [
    "class Encoder(nn.Module):\n",
    "    def __init__(self, vocab_size, emb_dim=128, hid_dim=256, z_dim=64):\n",
    "        super().__init__()\n",
    "        self.emb = nn.Embedding(vocab_size, emb_dim, padding_idx=PAD)\n",
    "        self.gru = nn.GRU(emb_dim, hid_dim, batch_first=True)\n",
    "        self.mu = nn.Linear(hid_dim, z_dim)\n",
    "        self.logvar = nn.Linear(hid_dim, z_dim)\n",
    "    def forward(self, x, attn):\n",
    "        emb = self.emb(x)\n",
    "        lengths = attn.sum(1).cpu()\n",
    "        packed = nn.utils.rnn.pack_padded_sequence(emb, lengths, batch_first=True, enforce_sorted=False)\n",
    "        _, h = self.gru(packed)\n",
    "        h = h[-1]\n",
    "        return self.mu(h), self.logvar(h)\n",
    "\n",
    "class Decoder(nn.Module):\n",
    "    def __init__(self, vocab_size, emb_dim=128, hid_dim=256, z_dim=64):\n",
    "        super().__init__()\n",
    "        self.emb = nn.Embedding(vocab_size, emb_dim, padding_idx=PAD)\n",
    "        self.fc_z = nn.Linear(z_dim, hid_dim)\n",
    "        self.gru = nn.GRU(emb_dim, hid_dim, batch_first=True)\n",
    "        self.out = nn.Linear(hid_dim, vocab_size)\n",
    "    def forward(self, z, x_in):\n",
    "        h0 = self.fc_z(z).unsqueeze(0)\n",
    "        emb = self.emb(x_in)\n",
    "        o, _ = self.gru(emb, h0)\n",
    "        return self.out(o)\n",
    "\n",
    "class VAE(nn.Module):\n",
    "    def __init__(self, vocab_size, emb_dim=128, hid_dim=256, z_dim=64):\n",
    "        super().__init__()\n",
    "        self.enc = Encoder(vocab_size, emb_dim, hid_dim, z_dim)\n",
    "        self.dec = Decoder(vocab_size, emb_dim, hid_dim, z_dim)\n",
    "    def reparameterize(self, mu, logvar):\n",
    "        std = torch.exp(0.5*logvar)\n",
    "        eps = torch.randn_like(std)\n",
    "        return mu + eps*std\n",
    "    def forward(self, x, attn):\n",
    "        mu, logvar = self.enc(x, attn)\n",
    "        z = self.reparameterize(mu, logvar)\n",
    "        logits = self.dec(z, x[:, :-1])\n",
    "        return logits, mu, logvar\n",
    "\n",
    "def vae_loss(logits, x, mu, logvar, kl_weight=0.1):\n",
    "    targets = x[:, 1:]\n",
    "    ce = nn.functional.cross_entropy(\n",
    "        logits.reshape(-1, logits.size(-1)),\n",
    "        targets.reshape(-1),\n",
    "        ignore_index=PAD\n",
    "    )\n",
    "    kl = -0.5 * torch.mean(1 + logvar - mu.pow(2) - logvar.exp())\n",
    "    return ce + kl_weight*kl, ce.item(), kl.item()\n",
    "\n",
    "model = VAE(vocab_size)\n",
    "opt = optim.Adam(model.parameters(), lr=2e-3)"
   ]
  },
  {
   "cell_type": "markdown",
   "id": "237e3cb2",
   "metadata": {},
   "source": [
    "Train 30 epochs and plot loss."
   ]
  },
  {
   "cell_type": "code",
   "execution_count": null,
   "id": "bd35c964",
   "metadata": {},
   "outputs": [],
   "source": [
    "train_loader = DataLoader(train_ds, batch_size=128, shuffle=True, drop_last=True)\n",
    "val_loader   = DataLoader(val_ds, batch_size=128, shuffle=False, drop_last=False)\n",
    "\n",
    "EPOCHS = 30\n",
    "hist = {\"train\": [], \"val\": [], \"ce\": [], \"kl\": []}\n",
    "\n",
    "for ep in range(1, EPOCHS+1):\n",
    "    model.train()\n",
    "    tr_losses, ce_losses, kl_losses = [], [], []\n",
    "    for x, a in train_loader:\n",
    "        logits, mu, logvar = model(x, a)\n",
    "        loss, ce, kl = vae_loss(logits, x, mu, logvar, kl_weight=0.1)\n",
    "        opt.zero_grad(); loss.backward()\n",
    "        nn.utils.clip_grad_norm_(model.parameters(), 1.0)\n",
    "        opt.step()\n",
    "        tr_losses.append(loss.item()); ce_losses.append(ce); kl_losses.append(kl)\n",
    "    model.eval()\n",
    "    with torch.no_grad():\n",
    "        val_losses = []\n",
    "        for x, a in val_loader:\n",
    "            logits, mu, logvar = model(x, a)\n",
    "            l, _, _ = vae_loss(logits, x, mu, logvar, kl_weight=0.1)\n",
    "            val_losses.append(l.item())\n",
    "    hist[\"train\"].append(np.mean(tr_losses))\n",
    "    hist[\"val\"].append(np.mean(val_losses) if len(val_losses)>0 else np.nan)\n",
    "    hist[\"ce\"].append(np.mean(ce_losses)); hist[\"kl\"].append(np.mean(kl_losses))\n",
    "    print(f\"Epoch {ep:02d} | train {hist['train'][-1]:.3f} | val {hist['val'][-1]:.3f} | CE {hist['ce'][-1]:.3f} | KL {hist['kl'][-1]:.3f}\")\n",
    "\n",
    "plt.plot(hist[\"train\"], label=\"train\"); plt.plot(hist[\"val\"], label=\"val\")\n",
    "plt.xlabel(\"epoch\"); plt.ylabel(\"loss\"); plt.title(\"VAE loss over epochs\"); plt.legend(); plt.show()"
   ]
  },
  {
   "cell_type": "markdown",
   "id": "931b5472",
   "metadata": {},
   "source": [
    "```{admonition} ⏰ Exercise 5\n",
    "Set `kl_weight=0.2` and train for 5 epochs. Does CE go up while KL goes down What happens to the validation curve\n",
    "```\n",
    "\n",
    "## 8. Sampling and evaluation\n",
    "\n",
    "Sample strings from the decoder by drawing z from the prior."
   ]
  },
  {
   "cell_type": "code",
   "execution_count": null,
   "id": "1b24396e",
   "metadata": {},
   "outputs": [],
   "source": [
    "def sample_smiles(n=1500, max_len=120, temp=1.0):\n",
    "    model.eval()\n",
    "    out = []\n",
    "    with torch.no_grad():\n",
    "        z = torch.randn(n, model.enc.mu.out_features)\n",
    "        x_t = torch.full((n,1), SOS, dtype=torch.long)\n",
    "        h = model.dec.fc_z(z).unsqueeze(0)\n",
    "        for t in range(max_len-1):\n",
    "            emb = model.dec.emb(x_t[:,-1:])\n",
    "            o, h = model.dec.gru(emb, h)\n",
    "            logits = model.dec.out(o[:, -1])\n",
    "            probs = nn.functional.softmax(logits / temp, dim=-1)\n",
    "            nxt = torch.multinomial(probs, num_samples=1)\n",
    "            x_t = torch.cat([x_t, nxt], dim=1)\n",
    "        seqs = x_t[:, 1:].tolist()\n",
    "    for seq in seqs:\n",
    "        chars = []\n",
    "        for idx in seq:\n",
    "            ch = idx2ch[idx]\n",
    "            if ch == \"[EOS]\": break\n",
    "            if ch not in (\"[PAD]\",\"[SOS]\"): chars.append(ch)\n",
    "        out.append(\"\".join(chars))\n",
    "    return out\n",
    "\n",
    "gen_raw = sample_smiles(n=2000, temp=1.0)\n",
    "gen_raw[:5]"
   ]
  },
  {
   "cell_type": "markdown",
   "id": "5799a830",
   "metadata": {},
   "source": [
    "Filter to valid canonical SMILES and compute metrics."
   ]
  },
  {
   "cell_type": "code",
   "execution_count": null,
   "id": "8dde2181",
   "metadata": {},
   "outputs": [],
   "source": [
    "from rdkit import RDLogger\n",
    "RDLogger.DisableLog('rdApp.*')\n",
    "\n",
    "def safe_mol_from_smiles(smi):\n",
    "    try:\n",
    "        m = Chem.MolFromSmiles(smi, sanitize=False)\n",
    "        if m is None: return None\n",
    "        Chem.SanitizeMol(m)\n",
    "        return m\n",
    "    except Exception:\n",
    "        return None\n",
    "\n",
    "def canonicalize_batch(smiles_list):\n",
    "    out = []\n",
    "    for s in smiles_list:\n",
    "        m = safe_mol_from_smiles(s)\n",
    "        if m is None: continue\n",
    "        can = Chem.MolToSmiles(m, canonical=True)\n",
    "        if can: out.append(can)\n",
    "    return out\n",
    "\n",
    "gen_smiles = canonicalize_batch(gen_raw)\n",
    "train_set = set(train_smiles)\n",
    "\n",
    "validity   = len(gen_smiles) / max(1, len(gen_raw))\n",
    "uniq_list  = list(dict.fromkeys(gen_smiles))\n",
    "uniqueness = len(uniq_list) / max(1, len(gen_smiles))\n",
    "novelty    = sum(1 for s in uniq_list if s not in train_set) / max(1, len(uniq_list))\n",
    "\n",
    "print(f\"Validity: {validity:.2f}  Uniqueness: {uniqueness:.2f}  Novelty: {novelty:.2f}\")"
   ]
  },
  {
   "cell_type": "markdown",
   "id": "18f3cd37",
   "metadata": {},
   "source": [
    "Compare property distributions."
   ]
  },
  {
   "cell_type": "code",
   "execution_count": null,
   "id": "1e5a6eb3",
   "metadata": {},
   "outputs": [],
   "source": [
    "from rdkit.Chem import QED, Crippen, Descriptors\n",
    "\n",
    "def props_from_smiles(smiles):\n",
    "    rows = []\n",
    "    for s in smiles:\n",
    "        m = safe_mol_from_smiles(s)\n",
    "        if m is None: continue\n",
    "        rows.append({\"SMILES\": s, \"QED\": QED.qed(m), \"logP\": Crippen.MolLogP(m), \"MW\": Descriptors.MolWt(m)})\n",
    "    return pd.DataFrame(rows)\n",
    "\n",
    "rng = np.random.default_rng(0)\n",
    "train_unique = list(set(train_smiles))\n",
    "gen_unique   = list(set(gen_smiles))\n",
    "train_sample = rng.choice(train_unique, size=min(3000, len(train_unique)), replace=False)\n",
    "gen_sample   = rng.choice(gen_unique, size=min(3000, len(gen_unique)), replace=False)\n",
    "\n",
    "df_train = props_from_smiles(train_sample)\n",
    "df_gen   = props_from_smiles(gen_sample)\n",
    "\n",
    "def plot_dist(metric, bins=40):\n",
    "    plt.figure(figsize=(6,4))\n",
    "    plt.hist(df_train[metric].dropna(), bins=bins, alpha=0.5, density=True, label=\"Train\")\n",
    "    plt.hist(df_gen[metric].dropna(),   bins=bins, alpha=0.5, density=True, label=\"Generated\")\n",
    "    plt.xlabel(metric); plt.ylabel(\"Density\"); plt.title(f\"{metric} distribution\"); plt.legend(); plt.show()\n",
    "\n",
    "for m in [\"QED\",\"logP\",\"MW\"]:\n",
    "    plot_dist(m)"
   ]
  },
  {
   "cell_type": "markdown",
   "id": "79cc8b9d",
   "metadata": {},
   "source": [
    "```{admonition} ⏰ Exercise 6\n",
    "Run `sample_smiles` with temperatures 0.7 and 1.3. Which one increases validity Which one increases uniqueness How do the histograms shift\n",
    "```\n",
    "\n",
    "## 9. Glossary\n",
    "\n",
    "```{glossary}\n",
    "encoder\n",
    "  A mapping from input $x$ to latent $z$.\n",
    "\n",
    "decoder\n",
    "  A mapping from latent $z$ to reconstructed $\\hat x$.\n",
    "\n",
    "autoencoder (AE)\n",
    "  A model trained to reconstruct input. Learns a compact latent code.\n",
    "\n",
    "latent space\n",
    "  The internal coordinate used by the model to organize inputs.\n",
    "\n",
    "VAE\n",
    "  A probabilistic AE that learns $q_\\theta(z\\mid x)$ near a simple prior to enable sampling.\n",
    "\n",
    "validity\n",
    "  Fraction of generated strings that sanitize as molecules.\n",
    "\n",
    "uniqueness\n",
    "  Fraction of valid generated molecules that are unique.\n",
    "\n",
    "novelty\n",
    "  Fraction of unique generated molecules not present in the training set.\n",
    "```\n",
    "\n",
    "## 10. In-class activity with solutions\n",
    "\n",
    "**Q1.** AE latent: change `z_dim` to 3 and plot `z[:,0]` vs `z[:,1]`. Compare to `z[:,1]` vs `z[:,2]`."
   ]
  },
  {
   "cell_type": "code",
   "execution_count": null,
   "id": "85c7c906",
   "metadata": {},
   "outputs": [],
   "source": [
    "ae3 = TinyAE(in_dim=10, hid=64, z_dim=3)\n",
    "opt = optim.Adam(ae3.parameters(), lr=1e-3)\n",
    "for ep in range(4):\n",
    "    for xb in dl:\n",
    "        xr, z = ae3(xb)\n",
    "        loss = nn.functional.mse_loss(xr, xb)\n",
    "        opt.zero_grad(); loss.backward(); opt.step()\n",
    "with torch.no_grad():\n",
    "    Z3 = ae3.encode(torch.from_numpy(Xz.astype(np.float32))).numpy()\n",
    "plt.figure(figsize=(10,4))\n",
    "plt.subplot(1,2,1); plt.scatter(Z3[:,0], Z3[:,1], s=10, alpha=0.7); plt.xlabel(\"z0\"); plt.ylabel(\"z1\"); plt.title(\"z0 vs z1\")\n",
    "plt.subplot(1,2,2); plt.scatter(Z3[:,1], Z3[:,2], s=10, alpha=0.7); plt.xlabel(\"z1\"); plt.ylabel(\"z2\"); plt.title(\"z1 vs z2\")\n",
    "plt.tight_layout(); plt.show()"
   ]
  },
  {
   "cell_type": "markdown",
   "id": "13f46734",
   "metadata": {},
   "source": [
    "**Q2.** VAE temperature sweep: compute validity for T in [0.7, 1.0, 1.3]."
   ]
  },
  {
   "cell_type": "code",
   "execution_count": null,
   "id": "0a5a38c4",
   "metadata": {},
   "outputs": [],
   "source": [
    "for t in [0.7, 1.0, 1.3]:\n",
    "    raw = sample_smiles(n=800, temp=t)\n",
    "    val = len(canonicalize_batch(raw)) / max(1, len(raw))\n",
    "    print(f\"T={t}: validity {val:.2f}\")"
   ]
  },
  {
   "cell_type": "markdown",
   "id": "4b7771d9",
   "metadata": {},
   "source": [
    "**Q3.** Wasserstein distance for QED."
   ]
  },
  {
   "cell_type": "code",
   "execution_count": null,
   "id": "c9fb5f56",
   "metadata": {},
   "outputs": [],
   "source": [
    "try:\n",
    "    from scipy.stats import wasserstein_distance\n",
    "    a = df_train[\"QED\"].dropna().values; b = df_gen[\"QED\"].dropna().values\n",
    "    print(\"QED W-dist:\", round(wasserstein_distance(a,b), 4))\n",
    "except Exception as e:\n",
    "    print(\"SciPy not available\")"
   ]
  },
  {
   "cell_type": "markdown",
   "id": "ac2fbdab",
   "metadata": {},
   "source": [
    "**Q4.** Show 12 novel molecules with QED."
   ]
  },
  {
   "cell_type": "code",
   "execution_count": null,
   "id": "ebdb4283",
   "metadata": {},
   "outputs": [],
   "source": [
    "uniq = list(dict.fromkeys(gen_smiles))\n",
    "novel_only = [s for s in uniq if s not in train_set][:12]\n",
    "mols = [Chem.MolFromSmiles(s) for s in novel_only]\n",
    "qed_vals = [QED.qed(m) for m in mols]\n",
    "img = Draw.MolsToGridImage(mols, molsPerRow=4, subImgSize=(220,220),\n",
    "                           legends=[f\"QED={q:.2f}\" for q in qed_vals])\n",
    "display(img)"
   ]
  },
  {
   "cell_type": "markdown",
   "id": "9067893a",
   "metadata": {},
   "source": [
    "**Q5.** AE loss: swap MSE for MAE and compare curves in one figure."
   ]
  },
  {
   "cell_type": "code",
   "execution_count": null,
   "id": "af6bd4ea",
   "metadata": {},
   "outputs": [],
   "source": [
    "# MSE run\n",
    "ae_mse = TinyAE(in_dim=10, hid=64, z_dim=2)\n",
    "opt_mse = optim.Adam(ae_mse.parameters(), lr=1e-3)\n",
    "loss_mse = []\n",
    "for ep in range(4):\n",
    "    for xb in dl:\n",
    "        xr, _ = ae_mse(xb)\n",
    "        l = nn.functional.mse_loss(xr, xb)\n",
    "        opt_mse.zero_grad(); l.backward(); opt_mse.step()\n",
    "        loss_mse.append(float(l))\n",
    "\n",
    "# MAE run\n",
    "ae_mae = TinyAE(in_dim=10, hid=64, z_dim=2)\n",
    "opt_mae = optim.Adam(ae_mae.parameters(), lr=1e-3)\n",
    "loss_mae = []\n",
    "for ep in range(4):\n",
    "    for xb in dl:\n",
    "        xr, _ = ae_mae(xb)\n",
    "        l = nn.functional.l1_loss(xr, xb)\n",
    "        opt_mae.zero_grad(); l.backward(); opt_mae.step()\n",
    "        loss_mae.append(float(l))\n",
    "\n",
    "plt.plot(loss_mse, label=\"MSE\"); plt.plot(loss_mae, label=\"MAE\")\n",
    "plt.xlabel(\"step\"); plt.ylabel(\"loss\"); plt.title(\"AE: MSE vs MAE\"); plt.legend(); plt.show()"
   ]
  }
 ],
 "metadata": {
  "jupytext": {
   "text_representation": {
    "extension": ".md",
    "format_name": "myst",
    "format_version": 0.13,
    "jupytext_version": "1.16.4"
   }
  },
  "kernelspec": {
   "display_name": "Python 3",
   "language": "python",
   "name": "python3"
  },
  "language_info": {
   "codemirror_mode": {
    "name": "ipython",
    "version": 3
   },
   "file_extension": ".py",
   "mimetype": "text/x-python",
   "name": "python",
   "nbconvert_exporter": "python",
   "pygments_lexer": "ipython3",
   "version": "3.13.5"
  },
  "source_map": [
   12,
   26,
   33,
   37,
   46,
   50,
   55,
   59,
   63,
   67,
   96,
   100,
   107,
   117,
   129,
   133,
   138,
   142,
   145,
   155,
   170,
   174,
   185,
   189,
   199,
   203,
   207,
   211,
   215,
   225,
   241,
   249,
   254,
   258,
   263,
   269,
   300,
   304,
   314,
   318,
   329,
   354,
   364,
   420,
   424,
   455,
   465,
   492,
   496,
   527,
   531,
   559,
   597,
   611,
   615,
   620,
   624,
   631,
   635,
   643,
   647
  ]
 },
 "nbformat": 4,
 "nbformat_minor": 5
}