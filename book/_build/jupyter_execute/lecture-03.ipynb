{
 "cells": [
  {
   "cell_type": "markdown",
   "id": "bf71407a",
   "metadata": {},
   "source": [
    "# Lecture 3 - SMILES and RDKit\n",
    "\n",
    "> Start with the SMILES language, practice tiny steps, then use RDKit to draw, edit, and analyze molecules. Finish with PubChem lookups.\n",
    "\n",
    "\n",
    "```{contents}\n",
    ":local:\n",
    ":depth: 1\n",
    "```\n",
    "\n",
    "## Learning goals\n",
    "\n",
    "- Read SMILES strings with confidence: atoms, bonds, branches, rings, aromaticity, charges, simple stereochemistry.\n",
    "- Use RDKit to parse SMILES, draw structures, add hydrogens, and compute basic properties.\n",
    "- Make small edits: replace atoms, neutralize groups, split salts, add a methyl group with a graph edit.\n",
    "- Query PubChem after you can edit molecules locally, then round-trip to SMILES and files.\n",
    "\n",
    "[![Colab](https://img.shields.io/badge/Open-Colab-orange)](https://colab.research.google.com/drive/184RYVf-aXx2PfOauFp7xw8LIrqJiiWW6?usp=sharing) \n",
    "---\n",
    "\n",
    "\n",
    "## 1. SMILES\n",
    "\n",
    "**What is SMILES?**\n",
    "\n",
    "SMILES (Simplified Molecular Input Line Entry System) is a compact way to describe a molecule using only a line of text. It turns molecular structures into strings that are easy for both humans and computers to read.\n",
    "\n",
    "Each atom is represented by its atomic symbol: `C` for carbon, `O` for oxygen, etc.\n",
    "\n",
    "Bonds are shown with symbols: single bonds are implicit, `=` is a double bond, `#` is a triple bond.\n",
    "\n",
    "Branches are placed in parentheses: `CC(O)C` means a side group on the middle carbon.\n",
    "\n",
    "Ring structures use numbers to show where the ring closes: `C1CCCCC1` is cyclohexane.\n",
    "\n",
    "Charges, isotopes, and stereochemistry can also be encoded.\n",
    "\n",
    "Because it’s text, SMILES is great for storing, comparing, and searching molecules in code and databases. RDKit can take a SMILES string, reconstruct the molecule, and let you visualize or analyze it.\n",
    "\n",
    "For more information: *J. Chem. Inf. Comput. Sci.* 1988, 28 (1), 31–36 [![Read](https://img.shields.io/badge/Read-Paper-blue)](https://pubs.acs.org/doi/10.1021/ci00057a005)\n",
    "\n",
    "Now, let's get started!\n",
    "\n",
    "If you use Colab, run the install cell below first."
   ]
  },
  {
   "cell_type": "code",
   "execution_count": 1,
   "id": "3b622496",
   "metadata": {},
   "outputs": [],
   "source": [
    "# Install only if needed\n",
    "try:\n",
    "    import rdkit\n",
    "    from rdkit import Chem\n",
    "    from rdkit.Chem import Draw, Descriptors, Crippen, rdMolDescriptors\n",
    "except Exception:\n",
    "    %pip install rdkit"
   ]
  },
  {
   "cell_type": "markdown",
   "id": "678964e6",
   "metadata": {},
   "source": [
    "### 1.1 Atoms\n",
    "\n",
    "- Organic set without brackets: `B C N O P S F Cl Br I`.  \n",
    "- Hydrogens are usually implicit.  \n",
    "- Charges or unusual valence use brackets."
   ]
  },
  {
   "cell_type": "code",
   "execution_count": 2,
   "id": "c38d9611",
   "metadata": {},
   "outputs": [
    {
     "data": {
      "image/jpeg": "[encoded data removed]",
      "image/png": "[encoded data removed]",
      "text/plain": [
       "<PIL.PngImagePlugin.PngImageFile image mode=RGB size=300x300>"
      ]
     },
     "execution_count": 2,
     "metadata": {},
     "output_type": "execute_result"
    }
   ],
   "source": [
    "# Plain strings to focus on notation\n",
    "ethanol = \"CCO\"         # C-C-O\n",
    "mol_1 = Chem.MolFromSmiles(ethanol)\n",
    "Draw.MolToImage(mol_1)"
   ]
  },
  {
   "cell_type": "code",
   "execution_count": 3,
   "id": "b8fae64a",
   "metadata": {},
   "outputs": [
    {
     "data": {
      "image/png": "[encoded data removed]",
      "text/plain": [
       "<PIL.Image.Image image mode=RGBA size=200x100>"
      ]
     },
     "execution_count": 3,
     "metadata": {},
     "output_type": "execute_result"
    }
   ],
   "source": [
    "acetic = \"CC(=O)O\"      # C-C with a double bonded O and an OH\n",
    "benzene = \"c1ccccc1\"    # aromatic ring\n",
    "\n",
    "mol_2 = Chem.MolFromSmiles(acetic)\n",
    "mol_3 = Chem.MolFromSmiles(benzene)\n",
    "\n",
    "# Draw both molecules side by side\n",
    "Draw.MolsToImage([mol_2, mol_3], molsPerRow=2, subImgSize=(100,100))"
   ]
  },
  {
   "cell_type": "code",
   "execution_count": 4,
   "id": "58ff6d2e",
   "metadata": {},
   "outputs": [
    {
     "data": {
      "image/png": "[encoded data removed]",
      "text/plain": [
       "<PIL.Image.Image image mode=RGBA size=200x100>"
      ]
     },
     "execution_count": 4,
     "metadata": {},
     "output_type": "execute_result"
    }
   ],
   "source": [
    "charged1 = \"[NH4+]\"     # ammonium\n",
    "charged2 = \"C(=O)[O-]\"  # carboxylate\n",
    "mol_c1 = Chem.MolFromSmiles(charged1)\n",
    "mol_c2 = Chem.MolFromSmiles(charged2)\n",
    "\n",
    "Draw.MolsToImage([mol_c1, mol_c2], molsPerRow=1, subImgSize=(100,100))\n"
   ]
  },
  {
   "cell_type": "markdown",
   "id": "8a8b708f",
   "metadata": {},
   "source": [
    "### 1.2 Bonds\n",
    "\n",
    "- Single is implied.  \n",
    "- `=` is double.  \n",
    "- `#` is triple."
   ]
  },
  {
   "cell_type": "code",
   "execution_count": 5,
   "id": "6851185b",
   "metadata": {},
   "outputs": [
    {
     "data": {
      "image/png": "[encoded data removed]",
      "text/plain": [
       "<PIL.Image.Image image mode=RGBA size=300x100>"
      ]
     },
     "execution_count": 5,
     "metadata": {},
     "output_type": "execute_result"
    }
   ],
   "source": [
    "single = \"CC\"\n",
    "double = \"C=C\"\n",
    "triple = \"C#N\"\n",
    "\n",
    "mols = [Chem.MolFromSmiles(bond) for bond in [single, double, triple]]\n",
    "\n",
    "Draw.MolsToImage(mols, molsPerRow=1, subImgSize=(100,100))\n",
    "\n"
   ]
  },
  {
   "cell_type": "markdown",
   "id": "bb3fd552",
   "metadata": {},
   "source": [
    "### 1.3 Branches\n",
    "\n",
    "- Parentheses create side branches."
   ]
  },
  {
   "cell_type": "code",
   "execution_count": 6,
   "id": "999e48d0",
   "metadata": {},
   "outputs": [
    {
     "name": "stdout",
     "output_type": "stream",
     "text": [
      "CC(O)CC CC(C)OC\n"
     ]
    },
    {
     "data": {
      "image/png": "[encoded data removed]",
      "text/plain": [
       "<PIL.Image.Image image mode=RGBA size=200x100>"
      ]
     },
     "execution_count": 6,
     "metadata": {},
     "output_type": "execute_result"
    }
   ],
   "source": [
    "isopropanol_a = \"CC(O)CC\"\n",
    "isopropanol_b = \"CC(C)OC\"    # same structure, different order\n",
    "print(isopropanol_a, isopropanol_b)\n",
    "\n",
    "mol_a = Chem.MolFromSmiles(isopropanol_a)\n",
    "mol_b = Chem.MolFromSmiles(isopropanol_b)\n",
    "\n",
    "Draw.MolsToImage([mol_a, mol_b], molsPerRow=2, subImgSize=(100,100))\n",
    "\n"
   ]
  },
  {
   "cell_type": "markdown",
   "id": "bb2a35ae",
   "metadata": {},
   "source": [
    "### 1.4 Rings\n",
    "\n",
    "- Numbers open and close rings.  \n",
    "- Same digit appears twice to close that ring."
   ]
  },
  {
   "cell_type": "code",
   "execution_count": 7,
   "id": "b787929f",
   "metadata": {},
   "outputs": [
    {
     "data": {
      "image/png": "[encoded data removed]",
      "text/plain": [
       "<PIL.Image.Image image mode=RGBA size=300x100>"
      ]
     },
     "execution_count": 7,
     "metadata": {},
     "output_type": "execute_result"
    }
   ],
   "source": [
    "cyclohexane = \"C1CCCCC1\"\n",
    "benzene = \"c1ccccc1\"\n",
    "naphthalene = \"c1cccc2c1cccc2\"\n",
    "\n",
    "mols = [Chem.MolFromSmiles(ring) for ring in [cyclohexane, benzene, naphthalene]]\n",
    "\n",
    "Draw.MolsToImage(mols, molsPerRow=3, subImgSize=(100,100))\n"
   ]
  },
  {
   "cell_type": "markdown",
   "id": "767ce3ad",
   "metadata": {},
   "source": [
    "### 1.5 Aromatic vs aliphatic\n",
    "\n",
    "- Aromatic atoms are lower case.  \n",
    "- Aliphatic are upper case."
   ]
  },
  {
   "cell_type": "code",
   "execution_count": 8,
   "id": "c652b7ea",
   "metadata": {},
   "outputs": [
    {
     "data": {
      "image/png": "[encoded data removed]",
      "text/plain": [
       "<PIL.Image.Image image mode=RGBA size=200x100>"
      ]
     },
     "execution_count": 8,
     "metadata": {},
     "output_type": "execute_result"
    }
   ],
   "source": [
    "mol_aromatic = Chem.MolFromSmiles(\"c1ccccc1\")\n",
    "mol_aliphatic = Chem.MolFromSmiles(\"C1CCCCC1\")\n",
    "\n",
    "Draw.MolsToImage([ mol_aromatic, mol_aliphatic], molsPerRow=3, subImgSize=(100,100))"
   ]
  },
  {
   "cell_type": "markdown",
   "id": "d94004ef",
   "metadata": {},
   "source": [
    "```{note}\n",
    "What the digits mean:\n",
    "A number marks a ring connection. The same digit appears twice on the two atoms that are bonded to each other to close that ring.\n",
    "For fused systems, you can reuse different digits to show where each ring closes.\n",
    "```"
   ]
  },
  {
   "cell_type": "code",
   "execution_count": 9,
   "id": "97d94c87",
   "metadata": {},
   "outputs": [
    {
     "data": {
      "image/png": "[encoded data removed]",
      "text/plain": [
       "<PIL.Image.Image image mode=RGBA size=1200x200>"
      ]
     },
     "execution_count": 9,
     "metadata": {},
     "output_type": "execute_result"
    }
   ],
   "source": [
    "ring1 = Chem.MolFromSmiles(\"C1CCC2CCCCC2C1\")\n",
    "ring2 = Chem.MolFromSmiles(\"C1CC(C)C1\")\n",
    "ring3 = Chem.MolFromSmiles(\"c1ccc(C2CCCCC2)cc1\")\n",
    "ring4 = Chem.MolFromSmiles(\"c1ccc(-c2ccc3ccccc3c2)cc1\")\n",
    "ring5 = Chem.MolFromSmiles(\"C1=CC2C=COC2=C1\")\n",
    "ring6 = Chem.MolFromSmiles(\"CC(C)c1cccc(C2CC2)c1\")\n",
    "\n",
    "Draw.MolsToImage([ring1,ring2, ring3, ring4, ring5, ring6], ubImgSize=(100,100))"
   ]
  },
  {
   "cell_type": "markdown",
   "id": "3a54c36d",
   "metadata": {},
   "source": [
    "### 1.6 Charges and salts\n",
    "\n",
    "- Use `.` to separate parts in a salt.  \n",
    "- Place charge in brackets on the atom."
   ]
  },
  {
   "cell_type": "code",
   "execution_count": 10,
   "id": "6aca4561",
   "metadata": {},
   "outputs": [
    {
     "data": {
      "image/jpeg": "[encoded data removed]",
      "image/png": "[encoded data removed]",
      "text/plain": [
       "<PIL.PngImagePlugin.PngImageFile image mode=RGB size=300x300>"
      ]
     },
     "execution_count": 10,
     "metadata": {},
     "output_type": "execute_result"
    }
   ],
   "source": [
    "salt = \"C[NH+](C)C.[Cl-]\"    # trimethylammonium chloride\n",
    "Draw.MolToImage(Chem.MolFromSmiles(salt ), molsPerRow=1, subImgSize=(100,100))\n"
   ]
  },
  {
   "cell_type": "markdown",
   "id": "62a6fe0b",
   "metadata": {},
   "source": [
    "### 1.7 Simple stereochemistry\n",
    "\n",
    "- E and Z for alkenes use slashes.  \n",
    "- `Cl/C=C/Cl` is E. `Cl/C=C\\Cl` is Z."
   ]
  },
  {
   "cell_type": "code",
   "execution_count": 11,
   "id": "1799dcad",
   "metadata": {},
   "outputs": [
    {
     "data": {
      "image/png": "[encoded data removed]",
      "text/plain": [
       "<PIL.Image.Image image mode=RGBA size=200x100>"
      ]
     },
     "execution_count": 11,
     "metadata": {},
     "output_type": "execute_result"
    }
   ],
   "source": [
    "\n",
    "mol_E = Chem.MolFromSmiles(\"Cl/C=C/Cl\")\n",
    "mol_Z = Chem.MolFromSmiles(\"Cl/C=C\\\\Cl\")\n",
    "\n",
    "Draw.MolsToImage([ mol_E, mol_Z], molsPerRow=3, subImgSize=(100,100))\n",
    "\n"
   ]
  },
  {
   "cell_type": "markdown",
   "id": "f1e1664e",
   "metadata": {},
   "source": [
    "```{admonition} Try\n",
    "Search online SMILES for these and print them:\n",
    "- isopropyl alcohol\n",
    "- benzoate anion\n",
    "- cyclopropane\n",
    "- pyridine\n",
    "```\n",
    "\n",
    "```{admonition} Try\n",
    "Search online SMILES for these and print them:\n",
    "- isopropyl alcohol\n",
    "- benzoate anion\n",
    "- cyclopropane\n",
    "- pyridine\n",
    "```\n",
    "\n",
    "---\n",
    "\n",
    "## 2. RDKit quick start"
   ]
  },
  {
   "cell_type": "code",
   "execution_count": 12,
   "id": "7231bd14",
   "metadata": {},
   "outputs": [
    {
     "data": {
      "image/jpeg": "[encoded data removed]",
      "image/png": "[encoded data removed]",
      "text/plain": [
       "<PIL.PngImagePlugin.PngImageFile image mode=RGB size=350x250>"
      ]
     },
     "execution_count": 12,
     "metadata": {},
     "output_type": "execute_result"
    }
   ],
   "source": [
    "from rdkit import Chem\n",
    "from rdkit.Chem import Draw, Descriptors, Crippen, rdMolDescriptors\n",
    "\n",
    "smi = \"CC(=O)OC1=CC=CC=C1C(=O)O\"  # aspirin\n",
    "mol = Chem.MolFromSmiles(smi)\n",
    "Draw.MolToImage(mol, size=(350, 250))"
   ]
  },
  {
   "cell_type": "code",
   "execution_count": 13,
   "id": "8ed0e505",
   "metadata": {},
   "outputs": [
    {
     "data": {
      "image/jpeg": "[encoded data removed]",
      "image/png": "[encoded data removed]",
      "text/plain": [
       "<PIL.PngImagePlugin.PngImageFile image mode=RGB size=350x250>"
      ]
     },
     "execution_count": 13,
     "metadata": {},
     "output_type": "execute_result"
    }
   ],
   "source": [
    "# Add hydrogens for clarity\n",
    "mol_H = Chem.AddHs(mol)\n",
    "Draw.MolToImage(mol_H, size=(350, 250))"
   ]
  },
  {
   "cell_type": "code",
   "execution_count": 14,
   "id": "9fbf76c6",
   "metadata": {},
   "outputs": [
    {
     "name": "stdout",
     "output_type": "stream",
     "text": [
      "MolWt 180.16 LogP 1.31 HBD 1 HBA 3 TPSA 63.6\n"
     ]
    }
   ],
   "source": [
    "# Quick properties in one place\n",
    "mw = Descriptors.MolWt(mol)\n",
    "logp = Crippen.MolLogP(mol)\n",
    "hbd = rdMolDescriptors.CalcNumHBD(mol)\n",
    "hba = rdMolDescriptors.CalcNumHBA(mol)\n",
    "tpsa = rdMolDescriptors.CalcTPSA(mol)\n",
    "print(\"MolWt\", round(mw,2), \"LogP\", round(logp,2), \"HBD\", hbd, \"HBA\", hba, \"TPSA\", round(tpsa,1))"
   ]
  },
  {
   "cell_type": "markdown",
   "id": "cafaeadc",
   "metadata": {},
   "source": [
    "```{note}\n",
    "**MolWt** → The molecular weight (molar mass) of the compound, measured in grams per mole.\n",
    "\n",
    "**LogP** → The logarithm of the partition coefficient (octanol/water); higher values mean more lipophilic (hydrophobic).\n",
    "\n",
    "**HBD** (Hydrogen Bond Donors) → Atoms (often OH or NH groups) that can donate a hydrogen in hydrogen bonding.\n",
    "\n",
    "**HBA** (Hydrogen Bond Acceptors) → Atoms (such as oxygen or nitrogen) that can accept a hydrogen bond.\n",
    "\n",
    "**TPSA** (Topological Polar Surface Area) → A measure of the molecule’s polar area, correlated with solubility and permeability.\n",
    "```"
   ]
  },
  {
   "cell_type": "code",
   "execution_count": 15,
   "id": "2ab5f79d",
   "metadata": {},
   "outputs": [
    {
     "data": {
      "image/jpeg": "[encoded data removed]",
      "image/png": "[encoded data removed]",
      "text/plain": [
       "<PIL.PngImagePlugin.PngImageFile image mode=RGB size=350x250>"
      ]
     },
     "execution_count": 15,
     "metadata": {},
     "output_type": "execute_result"
    }
   ],
   "source": [
    "# Show atom numbers to plan edits\n",
    "img = Draw.MolToImage(mol, size=(350, 250), includeAtomNumbers=True)\n",
    "img"
   ]
  },
  {
   "cell_type": "markdown",
   "id": "becccae9",
   "metadata": {},
   "source": [
    "```{admonition} Practice\n",
    "Change `smi` to caffeine or acetaminophen. Compare MolWt and TPSA.\n",
    "```\n",
    "\n",
    "---\n",
    "\n",
    "## 3. Small edits in RDKit\n",
    "\n",
    "We will avoid pattern languages here. We will use plain molecules to find and replace common pieces.\n",
    "\n",
    "### 3.1 Replace atom type by matching a small molecule\n",
    "\n",
    "Replace all chlorine atoms with fluorine in an aryl chloride."
   ]
  },
  {
   "cell_type": "code",
   "execution_count": 16,
   "id": "3103adf8",
   "metadata": {},
   "outputs": [
    {
     "data": {
      "image/jpeg": "[encoded data removed]",
      "image/png": "[encoded data removed]",
      "text/plain": [
       "<PIL.PngImagePlugin.PngImageFile image mode=RGB size=350x250>"
      ]
     },
     "execution_count": 16,
     "metadata": {},
     "output_type": "execute_result"
    }
   ],
   "source": [
    "from rdkit import Chem\n",
    "from rdkit.Chem import Draw\n",
    "\n",
    "qry = Chem.MolFromSmiles(\"Cl\")     # what to find\n",
    "rep = Chem.MolFromSmiles(\"F\")      # what to place\n",
    "mol = Chem.MolFromSmiles(\"Clc1ccc(cc1)C(=O)O\")\n",
    "\n",
    "out = Chem.ReplaceSubstructs(mol, qry, rep, replaceAll=True)[0]\n",
    "Draw.MolToImage(out, size=(350, 250))"
   ]
  },
  {
   "cell_type": "markdown",
   "id": "564c0a13",
   "metadata": {},
   "source": [
    "### 3.2 Neutralize a carboxylate"
   ]
  },
  {
   "cell_type": "code",
   "execution_count": 17,
   "id": "e5193815",
   "metadata": {},
   "outputs": [
    {
     "data": {
      "image/jpeg": "[encoded data removed]",
      "image/png": "[encoded data removed]",
      "text/plain": [
       "<PIL.PngImagePlugin.PngImageFile image mode=RGB size=320x220>"
      ]
     },
     "execution_count": 17,
     "metadata": {},
     "output_type": "execute_result"
    }
   ],
   "source": [
    "mol = Chem.MolFromSmiles(\"CC(=O)[O-]\")\n",
    "find = Chem.MolFromSmiles(\"[O-]\")  # anionic oxygen as a molecule\n",
    "put  = Chem.MolFromSmiles(\"O\")\n",
    "mol_neutral = Chem.ReplaceSubstructs(mol, find, put, replaceAll=True)[0]\n",
    "Draw.MolToImage(mol_neutral, size=(320, 220))"
   ]
  },
  {
   "cell_type": "markdown",
   "id": "cea2d3b8",
   "metadata": {},
   "source": [
    "### 3.3 Add a methyl group with a graph edit"
   ]
  },
  {
   "cell_type": "code",
   "execution_count": 18,
   "id": "72ce564f",
   "metadata": {},
   "outputs": [
    {
     "data": {
      "image/jpeg": "[encoded data removed]",
      "image/png": "[encoded data removed]",
      "text/plain": [
       "<PIL.PngImagePlugin.PngImageFile image mode=RGB size=350x250>"
      ]
     },
     "execution_count": 18,
     "metadata": {},
     "output_type": "execute_result"
    }
   ],
   "source": [
    "mol = Chem.MolFromSmiles(\"c1ccccc1\")  # benzene\n",
    "em = Chem.EditableMol(mol)\n",
    "\n",
    "idx_C = em.AddAtom(Chem.Atom(\"C\"))\n",
    "idx_H1 = em.AddAtom(Chem.Atom(\"H\"))\n",
    "idx_H2 = em.AddAtom(Chem.Atom(\"H\"))\n",
    "idx_H3 = em.AddAtom(Chem.Atom(\"H\"))\n",
    "\n",
    "em.AddBond(2, idx_C, order=Chem.BondType.SINGLE)  # attach at atom index 2\n",
    "em.AddBond(idx_C, idx_H1, order=Chem.BondType.SINGLE)\n",
    "em.AddBond(idx_C, idx_H2, order=Chem.BondType.SINGLE)\n",
    "em.AddBond(idx_C, idx_H3, order=Chem.BondType.SINGLE)\n",
    "\n",
    "mol2 = em.GetMol()\n",
    "Chem.SanitizeMol(mol2)\n",
    "Draw.MolToImage(mol2, size=(350, 250), includeAtomNumbers=True)"
   ]
  },
  {
   "cell_type": "markdown",
   "id": "480e75a4",
   "metadata": {},
   "source": [
    "```{admonition} Tip\n",
    "After graph edits, call `Chem.SanitizeMol` to check valence and aromaticity.\n",
    "```\n",
    "\n",
    "---\n",
    "\n",
    "## 3.4 Why use `EditableMol` instead of just SMILES edits?\n",
    "\n",
    "Text edits to SMILES can hit the wrong atom or make an invalid string. `EditableMol` lets you target an atom index, keep valence correct, and apply the same change across many molecules in a repeatable way.\n",
    "\n",
    "Now consider below example:\n",
    "**add a methyl group to atom index 2 across 7 inputs**"
   ]
  },
  {
   "cell_type": "code",
   "execution_count": 19,
   "id": "89023c2c",
   "metadata": {},
   "outputs": [],
   "source": [
    "smiles_list = [  \n",
    "    \"c1ccccc1\",            # benzene\n",
    "    \"Oc1ccccc1\",           # phenol\n",
    "    \"Nc1ccccc1\",           # aniline\n",
    "    \"Clc1ccccc1\",          # chlorobenzene\n",
    "    \"c1ccncc1\",            # pyridine\n",
    "    \"O=C(O)c1ccccc1\",      # benzoic acid\n",
    "    \"OCCc1ccccc1\",         # benzyl alcohol\n",
    "]  "
   ]
  },
  {
   "cell_type": "code",
   "execution_count": 20,
   "id": "ce036750",
   "metadata": {},
   "outputs": [],
   "source": [
    "def add_methyl(smi):  \n",
    "    mol = Chem.MolFromSmiles(smi)  # parse SMILES to molecule\n",
    "    if mol is None or mol.GetNumAtoms() < 3:  # quick guard for bad/short inputs\n",
    "        return None  # signal failure\n",
    "    em = Chem.EditableMol(mol)  # enter editable graph mode\n",
    "    c_idx = em.AddAtom(Chem.Atom(\"C\"))  # add the methyl carbon\n",
    "    for _ in range(3):  # add three hydrogens\n",
    "        h = em.AddAtom(Chem.Atom(\"H\"))  # create a hydrogen atom\n",
    "        em.AddBond(c_idx, h, Chem.BondType.SINGLE)  # connect H to C\n",
    "    em.AddBond(2, c_idx, Chem.BondType.SINGLE)  # attach methyl C to atom index 2\n",
    "    newmol = em.GetMol()  # exit edit mode\n",
    "    Chem.SanitizeMol(newmol)  # check valence/aromaticity\n",
    "    return newmol  # return edited molecule"
   ]
  },
  {
   "cell_type": "code",
   "execution_count": 21,
   "id": "ee34fbef",
   "metadata": {},
   "outputs": [
    {
     "name": "stdout",
     "output_type": "stream",
     "text": [
      "IN : c1ccccc1\n",
      "---------------------\n",
      "OUT: [H]C([H])([H])c1ccccc1\n",
      "---------------------\n",
      "IN : Oc1ccccc1\n",
      "---------------------\n",
      "OUT: [H]C([H])([H])c1ccccc1O\n",
      "---------------------\n",
      "IN : Nc1ccccc1\n",
      "---------------------\n",
      "OUT: [H]C([H])([H])c1ccccc1N\n",
      "---------------------\n",
      "IN : Clc1ccccc1\n",
      "---------------------\n",
      "OUT: [H]C([H])([H])c1ccccc1Cl\n",
      "---------------------\n",
      "IN : c1ccncc1\n",
      "---------------------\n",
      "OUT: [H]C([H])([H])c1ccccn1\n",
      "---------------------\n",
      "IN : O=C(O)c1ccccc1\n",
      "---------------------\n",
      "OUT: [H]C([H])([H])OC(=O)c1ccccc1\n",
      "---------------------\n",
      "IN : OCCc1ccccc1\n",
      "---------------------\n",
      "OUT: [H]C([H])([H])C(CO)c1ccccc1\n",
      "---------------------\n"
     ]
    }
   ],
   "source": [
    "for smi in smiles_list:  # iterate over the 7 SMILES\n",
    "    mol2 = add_methyl(smi)  # attempt the methyl add\n",
    "    out = Chem.MolToSmiles(mol2) if mol2 else \"failed\"  # convert to output SMILES or flag\n",
    "    print(\"IN :\", smi)  # show input\n",
    "    print(\"---------------------\")  \n",
    "    print(\"OUT:\", out)  # show output\n",
    "    print(\"---------------------\")"
   ]
  },
  {
   "cell_type": "code",
   "execution_count": 22,
   "id": "769af667",
   "metadata": {},
   "outputs": [
    {
     "data": {
      "image/svg+xml": [
       "<svg xmlns=\"http://www.w3.org/2000/svg\" xmlns:rdkit=\"http://www.rdkit.org/xml\" xmlns:xlink=\"http://www.w3.org/1999/xlink\" version=\"1.1\" baseProfile=\"full\" xml:space=\"preserve\" width=\"1000px\" height=\"540px\" viewBox=\"0 0 1000 540\">\n",
       "<!-- END OF HEADER -->\n",
       "<rect style=\"opacity:1.0;fill:#FFFFFF;stroke:none\" width=\"200.0\" height=\"180.0\" x=\"0.0\" y=\"0.0\"> </rect>\n",
       "<path class=\"bond-0 atom-0 atom-1\" d=\"M 131.8,82.0 L 115.9,109.5\" style=\"fill:none;fill-rule:evenodd;stroke:#000000;stroke-width:2.0px;stroke-linecap:butt;stroke-linejoin:miter;stroke-opacity:1\"/>\n",
       "<path class=\"bond-0 atom-0 atom-1\" d=\"M 126.3,82.0 L 113.1,104.7\" style=\"fill:none;fill-rule:evenodd;stroke:#000000;stroke-width:2.0px;stroke-linecap:butt;stroke-linejoin:miter;stroke-opacity:1\"/>\n",
       "<path class=\"bond-1 atom-1 atom-2\" d=\"M 115.9,109.5 L 84.1,109.5\" style=\"fill:none;fill-rule:evenodd;stroke:#000000;stroke-width:2.0px;stroke-linecap:butt;stroke-linejoin:miter;stroke-opacity:1\"/>\n",
       "<path class=\"bond-2 atom-2 atom-3\" d=\"M 84.1,109.5 L 68.2,82.0\" style=\"fill:none;fill-rule:evenodd;stroke:#000000;stroke-width:2.0px;stroke-linecap:butt;stroke-linejoin:miter;stroke-opacity:1\"/>\n",
       "<path class=\"bond-2 atom-2 atom-3\" d=\"M 86.9,104.7 L 73.7,82.0\" style=\"fill:none;fill-rule:evenodd;stroke:#000000;stroke-width:2.0px;stroke-linecap:butt;stroke-linejoin:miter;stroke-opacity:1\"/>\n",
       "<path class=\"bond-3 atom-3 atom-4\" d=\"M 68.2,82.0 L 84.1,54.5\" style=\"fill:none;fill-rule:evenodd;stroke:#000000;stroke-width:2.0px;stroke-linecap:butt;stroke-linejoin:miter;stroke-opacity:1\"/>\n",
       "<path class=\"bond-4 atom-4 atom-5\" d=\"M 84.1,54.5 L 115.9,54.5\" style=\"fill:none;fill-rule:evenodd;stroke:#000000;stroke-width:2.0px;stroke-linecap:butt;stroke-linejoin:miter;stroke-opacity:1\"/>\n",
       "<path class=\"bond-4 atom-4 atom-5\" d=\"M 86.9,59.3 L 113.1,59.3\" style=\"fill:none;fill-rule:evenodd;stroke:#000000;stroke-width:2.0px;stroke-linecap:butt;stroke-linejoin:miter;stroke-opacity:1\"/>\n",
       "<path class=\"bond-5 atom-5 atom-0\" d=\"M 115.9,54.5 L 131.8,82.0\" style=\"fill:none;fill-rule:evenodd;stroke:#000000;stroke-width:2.0px;stroke-linecap:butt;stroke-linejoin:miter;stroke-opacity:1\"/>\n",
       "<path d=\"M 131.0,83.4 L 131.8,82.0 L 131.0,80.6\" style=\"fill:none;stroke:#000000;stroke-width:2.0px;stroke-linecap:butt;stroke-linejoin:miter;stroke-miterlimit:10;stroke-opacity:1;\"/>\n",
       "<path d=\"M 116.7,108.1 L 115.9,109.5 L 114.3,109.5\" style=\"fill:none;stroke:#000000;stroke-width:2.0px;stroke-linecap:butt;stroke-linejoin:miter;stroke-miterlimit:10;stroke-opacity:1;\"/>\n",
       "<path d=\"M 85.7,109.5 L 84.1,109.5 L 83.3,108.1\" style=\"fill:none;stroke:#000000;stroke-width:2.0px;stroke-linecap:butt;stroke-linejoin:miter;stroke-miterlimit:10;stroke-opacity:1;\"/>\n",
       "<path d=\"M 69.0,83.4 L 68.2,82.0 L 69.0,80.6\" style=\"fill:none;stroke:#000000;stroke-width:2.0px;stroke-linecap:butt;stroke-linejoin:miter;stroke-miterlimit:10;stroke-opacity:1;\"/>\n",
       "<path d=\"M 83.3,55.9 L 84.1,54.5 L 85.7,54.5\" style=\"fill:none;stroke:#000000;stroke-width:2.0px;stroke-linecap:butt;stroke-linejoin:miter;stroke-miterlimit:10;stroke-opacity:1;\"/>\n",
       "<path d=\"M 114.3,54.5 L 115.9,54.5 L 116.7,55.9\" style=\"fill:none;stroke:#000000;stroke-width:2.0px;stroke-linecap:butt;stroke-linejoin:miter;stroke-miterlimit:10;stroke-opacity:1;\"/>\n",
       "<path class=\"legend\" d=\"M 94.9 159.7 L 96.3 159.7 L 96.3 161.1 L 94.9 161.1 L 94.9 159.7 M 94.9 162.8 L 96.3 162.8 L 96.3 171.0 L 94.9 171.0 L 94.9 162.8 \" fill=\"#000000\"/>\n",
       "<path class=\"legend\" d=\"M 102.4 162.6 Q 103.7 162.6, 104.4 163.4 Q 105.1 164.1, 105.1 165.6 L 105.1 171.0 L 103.6 171.0 L 103.6 165.7 Q 103.6 164.7, 103.2 164.3 Q 102.9 163.8, 102.0 163.8 Q 101.3 163.8, 100.7 164.2 Q 100.0 164.5, 99.6 165.1 L 99.6 171.0 L 98.1 171.0 L 98.1 162.8 L 99.4 162.8 L 99.5 163.9 Q 100.7 162.6, 102.4 162.6 \" fill=\"#000000\"/>\n",
       "<path class=\"bond-0 atom-0 atom-1\" d=\"M 336.2,82.0 L 322.9,82.0\" style=\"fill:none;fill-rule:evenodd;stroke:#FF0000;stroke-width:2.0px;stroke-linecap:butt;stroke-linejoin:miter;stroke-opacity:1\"/>\n",
       "<path class=\"bond-0 atom-0 atom-1\" d=\"M 322.9,82.0 L 309.6,82.0\" style=\"fill:none;fill-rule:evenodd;stroke:#000000;stroke-width:2.0px;stroke-linecap:butt;stroke-linejoin:miter;stroke-opacity:1\"/>\n",
       "<path class=\"bond-1 atom-1 atom-2\" d=\"M 309.6,82.0 L 293.7,109.5\" style=\"fill:none;fill-rule:evenodd;stroke:#000000;stroke-width:2.0px;stroke-linecap:butt;stroke-linejoin:miter;stroke-opacity:1\"/>\n",
       "<path class=\"bond-1 atom-1 atom-2\" d=\"M 304.1,82.0 L 291.0,104.7\" style=\"fill:none;fill-rule:evenodd;stroke:#000000;stroke-width:2.0px;stroke-linecap:butt;stroke-linejoin:miter;stroke-opacity:1\"/>\n",
       "<path class=\"bond-2 atom-2 atom-3\" d=\"M 293.7,109.5 L 262.0,109.5\" style=\"fill:none;fill-rule:evenodd;stroke:#000000;stroke-width:2.0px;stroke-linecap:butt;stroke-linejoin:miter;stroke-opacity:1\"/>\n",
       "<path class=\"bond-3 atom-3 atom-4\" d=\"M 262.0,109.5 L 246.1,82.0\" style=\"fill:none;fill-rule:evenodd;stroke:#000000;stroke-width:2.0px;stroke-linecap:butt;stroke-linejoin:miter;stroke-opacity:1\"/>\n",
       "<path class=\"bond-3 atom-3 atom-4\" d=\"M 264.7,104.7 L 251.6,82.0\" style=\"fill:none;fill-rule:evenodd;stroke:#000000;stroke-width:2.0px;stroke-linecap:butt;stroke-linejoin:miter;stroke-opacity:1\"/>\n",
       "<path class=\"bond-4 atom-4 atom-5\" d=\"M 246.1,82.0 L 262.0,54.5\" style=\"fill:none;fill-rule:evenodd;stroke:#000000;stroke-width:2.0px;stroke-linecap:butt;stroke-linejoin:miter;stroke-opacity:1\"/>\n",
       "<path class=\"bond-5 atom-5 atom-6\" d=\"M 262.0,54.5 L 293.7,54.5\" style=\"fill:none;fill-rule:evenodd;stroke:#000000;stroke-width:2.0px;stroke-linecap:butt;stroke-linejoin:miter;stroke-opacity:1\"/>\n",
       "<path class=\"bond-5 atom-5 atom-6\" d=\"M 264.7,59.3 L 291.0,59.3\" style=\"fill:none;fill-rule:evenodd;stroke:#000000;stroke-width:2.0px;stroke-linecap:butt;stroke-linejoin:miter;stroke-opacity:1\"/>\n",
       "<path class=\"bond-6 atom-6 atom-1\" d=\"M 293.7,54.5 L 309.6,82.0\" style=\"fill:none;fill-rule:evenodd;stroke:#000000;stroke-width:2.0px;stroke-linecap:butt;stroke-linejoin:miter;stroke-opacity:1\"/>\n",
       "<path d=\"M 294.5,108.1 L 293.7,109.5 L 292.1,109.5\" style=\"fill:none;stroke:#000000;stroke-width:2.0px;stroke-linecap:butt;stroke-linejoin:miter;stroke-miterlimit:10;stroke-opacity:1;\"/>\n",
       "<path d=\"M 263.5,109.5 L 262.0,109.5 L 261.2,108.1\" style=\"fill:none;stroke:#000000;stroke-width:2.0px;stroke-linecap:butt;stroke-linejoin:miter;stroke-miterlimit:10;stroke-opacity:1;\"/>\n",
       "<path d=\"M 246.9,83.4 L 246.1,82.0 L 246.9,80.6\" style=\"fill:none;stroke:#000000;stroke-width:2.0px;stroke-linecap:butt;stroke-linejoin:miter;stroke-miterlimit:10;stroke-opacity:1;\"/>\n",
       "<path d=\"M 261.2,55.9 L 262.0,54.5 L 263.5,54.5\" style=\"fill:none;stroke:#000000;stroke-width:2.0px;stroke-linecap:butt;stroke-linejoin:miter;stroke-miterlimit:10;stroke-opacity:1;\"/>\n",
       "<path d=\"M 292.1,54.5 L 293.7,54.5 L 294.5,55.9\" style=\"fill:none;stroke:#000000;stroke-width:2.0px;stroke-linecap:butt;stroke-linejoin:miter;stroke-miterlimit:10;stroke-opacity:1;\"/>\n",
       "<path class=\"atom-0\" d=\"M 337.2 82.0 Q 337.2 79.9, 338.3 78.7 Q 339.4 77.5, 341.4 77.5 Q 343.3 77.5, 344.4 78.7 Q 345.5 79.9, 345.5 82.0 Q 345.5 84.2, 344.4 85.5 Q 343.3 86.7, 341.4 86.7 Q 339.4 86.7, 338.3 85.5 Q 337.2 84.2, 337.2 82.0 M 341.4 85.7 Q 342.7 85.7, 343.5 84.8 Q 344.2 83.8, 344.2 82.0 Q 344.2 80.3, 343.5 79.4 Q 342.7 78.5, 341.4 78.5 Q 340.0 78.5, 339.2 79.4 Q 338.5 80.2, 338.5 82.0 Q 338.5 83.8, 339.2 84.8 Q 340.0 85.7, 341.4 85.7 \" fill=\"#FF0000\"/>\n",
       "<path class=\"atom-0\" d=\"M 346.9 77.6 L 348.1 77.6 L 348.1 81.4 L 352.7 81.4 L 352.7 77.6 L 353.9 77.6 L 353.9 86.5 L 352.7 86.5 L 352.7 82.4 L 348.1 82.4 L 348.1 86.5 L 346.9 86.5 L 346.9 77.6 \" fill=\"#FF0000\"/>\n",
       "<path class=\"legend\" d=\"M 294.9 159.7 L 296.3 159.7 L 296.3 161.1 L 294.9 161.1 L 294.9 159.7 M 294.9 162.8 L 296.3 162.8 L 296.3 171.0 L 294.9 171.0 L 294.9 162.8 \" fill=\"#000000\"/>\n",
       "<path class=\"legend\" d=\"M 302.4 162.6 Q 303.7 162.6, 304.4 163.4 Q 305.1 164.1, 305.1 165.6 L 305.1 171.0 L 303.6 171.0 L 303.6 165.7 Q 303.6 164.7, 303.2 164.3 Q 302.9 163.8, 302.0 163.8 Q 301.3 163.8, 300.7 164.2 Q 300.0 164.5, 299.6 165.1 L 299.6 171.0 L 298.1 171.0 L 298.1 162.8 L 299.4 162.8 L 299.5 163.9 Q 300.7 162.6, 302.4 162.6 \" fill=\"#000000\"/>\n",
       "<path class=\"bond-0 atom-0 atom-1\" d=\"M 534.2,82.0 L 520.6,82.0\" style=\"fill:none;fill-rule:evenodd;stroke:#0000FF;stroke-width:2.0px;stroke-linecap:butt;stroke-linejoin:miter;stroke-opacity:1\"/>\n",
       "<path class=\"bond-0 atom-0 atom-1\" d=\"M 520.6,82.0 L 506.9,82.0\" style=\"fill:none;fill-rule:evenodd;stroke:#000000;stroke-width:2.0px;stroke-linecap:butt;stroke-linejoin:miter;stroke-opacity:1\"/>\n",
       "<path class=\"bond-1 atom-1 atom-2\" d=\"M 506.9,82.0 L 491.0,109.5\" style=\"fill:none;fill-rule:evenodd;stroke:#000000;stroke-width:2.0px;stroke-linecap:butt;stroke-linejoin:miter;stroke-opacity:1\"/>\n",
       "<path class=\"bond-1 atom-1 atom-2\" d=\"M 501.4,82.0 L 488.3,104.7\" style=\"fill:none;fill-rule:evenodd;stroke:#000000;stroke-width:2.0px;stroke-linecap:butt;stroke-linejoin:miter;stroke-opacity:1\"/>\n",
       "<path class=\"bond-2 atom-2 atom-3\" d=\"M 491.0,109.5 L 459.3,109.5\" style=\"fill:none;fill-rule:evenodd;stroke:#000000;stroke-width:2.0px;stroke-linecap:butt;stroke-linejoin:miter;stroke-opacity:1\"/>\n",
       "<path class=\"bond-3 atom-3 atom-4\" d=\"M 459.3,109.5 L 443.4,82.0\" style=\"fill:none;fill-rule:evenodd;stroke:#000000;stroke-width:2.0px;stroke-linecap:butt;stroke-linejoin:miter;stroke-opacity:1\"/>\n",
       "<path class=\"bond-3 atom-3 atom-4\" d=\"M 462.0,104.7 L 448.9,82.0\" style=\"fill:none;fill-rule:evenodd;stroke:#000000;stroke-width:2.0px;stroke-linecap:butt;stroke-linejoin:miter;stroke-opacity:1\"/>\n",
       "<path class=\"bond-4 atom-4 atom-5\" d=\"M 443.4,82.0 L 459.3,54.5\" style=\"fill:none;fill-rule:evenodd;stroke:#000000;stroke-width:2.0px;stroke-linecap:butt;stroke-linejoin:miter;stroke-opacity:1\"/>\n",
       "<path class=\"bond-5 atom-5 atom-6\" d=\"M 459.3,54.5 L 491.0,54.5\" style=\"fill:none;fill-rule:evenodd;stroke:#000000;stroke-width:2.0px;stroke-linecap:butt;stroke-linejoin:miter;stroke-opacity:1\"/>\n",
       "<path class=\"bond-5 atom-5 atom-6\" d=\"M 462.0,59.3 L 488.3,59.3\" style=\"fill:none;fill-rule:evenodd;stroke:#000000;stroke-width:2.0px;stroke-linecap:butt;stroke-linejoin:miter;stroke-opacity:1\"/>\n",
       "<path class=\"bond-6 atom-6 atom-1\" d=\"M 491.0,54.5 L 506.9,82.0\" style=\"fill:none;fill-rule:evenodd;stroke:#000000;stroke-width:2.0px;stroke-linecap:butt;stroke-linejoin:miter;stroke-opacity:1\"/>\n",
       "<path d=\"M 491.8,108.1 L 491.0,109.5 L 489.5,109.5\" style=\"fill:none;stroke:#000000;stroke-width:2.0px;stroke-linecap:butt;stroke-linejoin:miter;stroke-miterlimit:10;stroke-opacity:1;\"/>\n",
       "<path d=\"M 460.9,109.5 L 459.3,109.5 L 458.5,108.1\" style=\"fill:none;stroke:#000000;stroke-width:2.0px;stroke-linecap:butt;stroke-linejoin:miter;stroke-miterlimit:10;stroke-opacity:1;\"/>\n",
       "<path d=\"M 444.2,83.4 L 443.4,82.0 L 444.2,80.6\" style=\"fill:none;stroke:#000000;stroke-width:2.0px;stroke-linecap:butt;stroke-linejoin:miter;stroke-miterlimit:10;stroke-opacity:1;\"/>\n",
       "<path d=\"M 458.5,55.9 L 459.3,54.5 L 460.9,54.5\" style=\"fill:none;stroke:#000000;stroke-width:2.0px;stroke-linecap:butt;stroke-linejoin:miter;stroke-miterlimit:10;stroke-opacity:1;\"/>\n",
       "<path d=\"M 489.5,54.5 L 491.0,54.5 L 491.8,55.9\" style=\"fill:none;stroke:#000000;stroke-width:2.0px;stroke-linecap:butt;stroke-linejoin:miter;stroke-miterlimit:10;stroke-opacity:1;\"/>\n",
       "<path class=\"atom-0\" d=\"M 536.7 77.5 L 539.6 82.3 Q 539.9 82.7, 540.4 83.6 Q 540.9 84.4, 540.9 84.5 L 540.9 77.5 L 542.1 77.5 L 542.1 86.5 L 540.9 86.5 L 537.7 81.3 Q 537.3 80.7, 536.9 80.0 Q 536.6 79.3, 536.4 79.1 L 536.4 86.5 L 535.3 86.5 L 535.3 77.5 L 536.7 77.5 \" fill=\"#0000FF\"/>\n",
       "<path class=\"atom-0\" d=\"M 543.8 77.5 L 545.0 77.5 L 545.0 81.3 L 549.6 81.3 L 549.6 77.5 L 550.8 77.5 L 550.8 86.5 L 549.6 86.5 L 549.6 82.3 L 545.0 82.3 L 545.0 86.5 L 543.8 86.5 L 543.8 77.5 \" fill=\"#0000FF\"/>\n",
       "<path class=\"atom-0\" d=\"M 552.6 86.2 Q 552.8 85.6, 553.3 85.3 Q 553.9 85.0, 554.6 85.0 Q 555.5 85.0, 556.0 85.5 Q 556.5 86.0, 556.5 86.8 Q 556.5 87.7, 555.8 88.5 Q 555.2 89.4, 553.8 90.3 L 556.6 90.3 L 556.6 91.0 L 552.6 91.0 L 552.6 90.4 Q 553.7 89.6, 554.4 89.1 Q 555.0 88.5, 555.3 87.9 Q 555.7 87.4, 555.7 86.9 Q 555.7 86.3, 555.4 86.0 Q 555.1 85.7, 554.6 85.7 Q 554.1 85.7, 553.8 85.9 Q 553.5 86.0, 553.2 86.5 L 552.6 86.2 \" fill=\"#0000FF\"/>\n",
       "<path class=\"legend\" d=\"M 494.9 159.7 L 496.3 159.7 L 496.3 161.1 L 494.9 161.1 L 494.9 159.7 M 494.9 162.8 L 496.3 162.8 L 496.3 171.0 L 494.9 171.0 L 494.9 162.8 \" fill=\"#000000\"/>\n",
       "<path class=\"legend\" d=\"M 502.4 162.6 Q 503.7 162.6, 504.4 163.4 Q 505.1 164.1, 505.1 165.6 L 505.1 171.0 L 503.6 171.0 L 503.6 165.7 Q 503.6 164.7, 503.2 164.3 Q 502.9 163.8, 502.0 163.8 Q 501.3 163.8, 500.7 164.2 Q 500.0 164.5, 499.6 165.1 L 499.6 171.0 L 498.1 171.0 L 498.1 162.8 L 499.4 162.8 L 499.5 163.9 Q 500.7 162.6, 502.4 162.6 \" fill=\"#000000\"/>\n",
       "<path class=\"bond-0 atom-0 atom-1\" d=\"M 740.3,82.0 L 726.7,82.0\" style=\"fill:none;fill-rule:evenodd;stroke:#00CC00;stroke-width:2.0px;stroke-linecap:butt;stroke-linejoin:miter;stroke-opacity:1\"/>\n",
       "<path class=\"bond-0 atom-0 atom-1\" d=\"M 726.7,82.0 L 713.1,82.0\" style=\"fill:none;fill-rule:evenodd;stroke:#000000;stroke-width:2.0px;stroke-linecap:butt;stroke-linejoin:miter;stroke-opacity:1\"/>\n",
       "<path class=\"bond-1 atom-1 atom-2\" d=\"M 713.1,82.0 L 697.2,109.5\" style=\"fill:none;fill-rule:evenodd;stroke:#000000;stroke-width:2.0px;stroke-linecap:butt;stroke-linejoin:miter;stroke-opacity:1\"/>\n",
       "<path class=\"bond-1 atom-1 atom-2\" d=\"M 707.6,82.0 L 694.5,104.7\" style=\"fill:none;fill-rule:evenodd;stroke:#000000;stroke-width:2.0px;stroke-linecap:butt;stroke-linejoin:miter;stroke-opacity:1\"/>\n",
       "<path class=\"bond-2 atom-2 atom-3\" d=\"M 697.2,109.5 L 665.5,109.5\" style=\"fill:none;fill-rule:evenodd;stroke:#000000;stroke-width:2.0px;stroke-linecap:butt;stroke-linejoin:miter;stroke-opacity:1\"/>\n",
       "<path class=\"bond-3 atom-3 atom-4\" d=\"M 665.5,109.5 L 649.6,82.0\" style=\"fill:none;fill-rule:evenodd;stroke:#000000;stroke-width:2.0px;stroke-linecap:butt;stroke-linejoin:miter;stroke-opacity:1\"/>\n",
       "<path class=\"bond-3 atom-3 atom-4\" d=\"M 668.2,104.7 L 655.1,82.0\" style=\"fill:none;fill-rule:evenodd;stroke:#000000;stroke-width:2.0px;stroke-linecap:butt;stroke-linejoin:miter;stroke-opacity:1\"/>\n",
       "<path class=\"bond-4 atom-4 atom-5\" d=\"M 649.6,82.0 L 665.5,54.5\" style=\"fill:none;fill-rule:evenodd;stroke:#000000;stroke-width:2.0px;stroke-linecap:butt;stroke-linejoin:miter;stroke-opacity:1\"/>\n",
       "<path class=\"bond-5 atom-5 atom-6\" d=\"M 665.5,54.5 L 697.2,54.5\" style=\"fill:none;fill-rule:evenodd;stroke:#000000;stroke-width:2.0px;stroke-linecap:butt;stroke-linejoin:miter;stroke-opacity:1\"/>\n",
       "<path class=\"bond-5 atom-5 atom-6\" d=\"M 668.2,59.3 L 694.5,59.3\" style=\"fill:none;fill-rule:evenodd;stroke:#000000;stroke-width:2.0px;stroke-linecap:butt;stroke-linejoin:miter;stroke-opacity:1\"/>\n",
       "<path class=\"bond-6 atom-6 atom-1\" d=\"M 697.2,54.5 L 713.1,82.0\" style=\"fill:none;fill-rule:evenodd;stroke:#000000;stroke-width:2.0px;stroke-linecap:butt;stroke-linejoin:miter;stroke-opacity:1\"/>\n",
       "<path d=\"M 698.0,108.1 L 697.2,109.5 L 695.6,109.5\" style=\"fill:none;stroke:#000000;stroke-width:2.0px;stroke-linecap:butt;stroke-linejoin:miter;stroke-miterlimit:10;stroke-opacity:1;\"/>\n",
       "<path d=\"M 667.1,109.5 L 665.5,109.5 L 664.7,108.1\" style=\"fill:none;stroke:#000000;stroke-width:2.0px;stroke-linecap:butt;stroke-linejoin:miter;stroke-miterlimit:10;stroke-opacity:1;\"/>\n",
       "<path d=\"M 650.4,83.4 L 649.6,82.0 L 650.4,80.6\" style=\"fill:none;stroke:#000000;stroke-width:2.0px;stroke-linecap:butt;stroke-linejoin:miter;stroke-miterlimit:10;stroke-opacity:1;\"/>\n",
       "<path d=\"M 664.7,55.9 L 665.5,54.5 L 667.1,54.5\" style=\"fill:none;stroke:#000000;stroke-width:2.0px;stroke-linecap:butt;stroke-linejoin:miter;stroke-miterlimit:10;stroke-opacity:1;\"/>\n",
       "<path d=\"M 695.6,54.5 L 697.2,54.5 L 698.0,55.9\" style=\"fill:none;stroke:#000000;stroke-width:2.0px;stroke-linecap:butt;stroke-linejoin:miter;stroke-miterlimit:10;stroke-opacity:1;\"/>\n",
       "<path class=\"atom-0\" d=\"M 741.4 82.3 Q 741.4 80.1, 742.4 78.9 Q 743.5 77.7, 745.5 77.7 Q 747.3 77.7, 748.3 79.0 L 747.5 79.7 Q 746.8 78.8, 745.5 78.8 Q 744.1 78.8, 743.4 79.7 Q 742.7 80.6, 742.7 82.3 Q 742.7 84.1, 743.4 85.0 Q 744.2 85.9, 745.6 85.9 Q 746.6 85.9, 747.8 85.3 L 748.1 86.3 Q 747.7 86.6, 746.9 86.8 Q 746.2 86.9, 745.4 86.9 Q 743.5 86.9, 742.4 85.7 Q 741.4 84.5, 741.4 82.3 \" fill=\"#00CC00\"/>\n",
       "<path class=\"atom-0\" d=\"M 749.2 77.2 L 750.4 77.2 L 750.4 86.8 L 749.2 86.8 L 749.2 77.2 \" fill=\"#00CC00\"/>\n",
       "<path class=\"legend\" d=\"M 694.9 159.7 L 696.3 159.7 L 696.3 161.1 L 694.9 161.1 L 694.9 159.7 M 694.9 162.8 L 696.3 162.8 L 696.3 171.0 L 694.9 171.0 L 694.9 162.8 \" fill=\"#000000\"/>\n",
       "<path class=\"legend\" d=\"M 702.4 162.6 Q 703.7 162.6, 704.4 163.4 Q 705.1 164.1, 705.1 165.6 L 705.1 171.0 L 703.6 171.0 L 703.6 165.7 Q 703.6 164.7, 703.2 164.3 Q 702.9 163.8, 702.0 163.8 Q 701.3 163.8, 700.7 164.2 Q 700.0 164.5, 699.6 165.1 L 699.6 171.0 L 698.1 171.0 L 698.1 162.8 L 699.4 162.8 L 699.5 163.9 Q 700.7 162.6, 702.4 162.6 \" fill=\"#000000\"/>\n",
       "<path class=\"bond-0 atom-0 atom-1\" d=\"M 933.5,82.0 L 917.6,109.5\" style=\"fill:none;fill-rule:evenodd;stroke:#000000;stroke-width:2.0px;stroke-linecap:butt;stroke-linejoin:miter;stroke-opacity:1\"/>\n",
       "<path class=\"bond-0 atom-0 atom-1\" d=\"M 928.0,82.0 L 914.8,104.7\" style=\"fill:none;fill-rule:evenodd;stroke:#000000;stroke-width:2.0px;stroke-linecap:butt;stroke-linejoin:miter;stroke-opacity:1\"/>\n",
       "<path class=\"bond-1 atom-1 atom-2\" d=\"M 917.6,109.5 L 885.8,109.5\" style=\"fill:none;fill-rule:evenodd;stroke:#000000;stroke-width:2.0px;stroke-linecap:butt;stroke-linejoin:miter;stroke-opacity:1\"/>\n",
       "<path class=\"bond-2 atom-2 atom-3\" d=\"M 885.8,109.5 L 879.5,98.5\" style=\"fill:none;fill-rule:evenodd;stroke:#000000;stroke-width:2.0px;stroke-linecap:butt;stroke-linejoin:miter;stroke-opacity:1\"/>\n",
       "<path class=\"bond-2 atom-2 atom-3\" d=\"M 879.5,98.5 L 873.2,87.5\" style=\"fill:none;fill-rule:evenodd;stroke:#0000FF;stroke-width:2.0px;stroke-linecap:butt;stroke-linejoin:miter;stroke-opacity:1\"/>\n",
       "<path class=\"bond-2 atom-2 atom-3\" d=\"M 888.6,104.7 L 882.9,95.0\" style=\"fill:none;fill-rule:evenodd;stroke:#000000;stroke-width:2.0px;stroke-linecap:butt;stroke-linejoin:miter;stroke-opacity:1\"/>\n",
       "<path class=\"bond-2 atom-2 atom-3\" d=\"M 882.9,95.0 L 877.3,85.2\" style=\"fill:none;fill-rule:evenodd;stroke:#0000FF;stroke-width:2.0px;stroke-linecap:butt;stroke-linejoin:miter;stroke-opacity:1\"/>\n",
       "<path class=\"bond-3 atom-3 atom-4\" d=\"M 873.2,76.5 L 879.5,65.5\" style=\"fill:none;fill-rule:evenodd;stroke:#0000FF;stroke-width:2.0px;stroke-linecap:butt;stroke-linejoin:miter;stroke-opacity:1\"/>\n",
       "<path class=\"bond-3 atom-3 atom-4\" d=\"M 879.5,65.5 L 885.8,54.5\" style=\"fill:none;fill-rule:evenodd;stroke:#000000;stroke-width:2.0px;stroke-linecap:butt;stroke-linejoin:miter;stroke-opacity:1\"/>\n",
       "<path class=\"bond-4 atom-4 atom-5\" d=\"M 885.8,54.5 L 917.6,54.5\" style=\"fill:none;fill-rule:evenodd;stroke:#000000;stroke-width:2.0px;stroke-linecap:butt;stroke-linejoin:miter;stroke-opacity:1\"/>\n",
       "<path class=\"bond-4 atom-4 atom-5\" d=\"M 888.6,59.3 L 914.8,59.3\" style=\"fill:none;fill-rule:evenodd;stroke:#000000;stroke-width:2.0px;stroke-linecap:butt;stroke-linejoin:miter;stroke-opacity:1\"/>\n",
       "<path class=\"bond-5 atom-5 atom-0\" d=\"M 917.6,54.5 L 933.5,82.0\" style=\"fill:none;fill-rule:evenodd;stroke:#000000;stroke-width:2.0px;stroke-linecap:butt;stroke-linejoin:miter;stroke-opacity:1\"/>\n",
       "<path d=\"M 932.7,83.4 L 933.5,82.0 L 932.7,80.6\" style=\"fill:none;stroke:#000000;stroke-width:2.0px;stroke-linecap:butt;stroke-linejoin:miter;stroke-miterlimit:10;stroke-opacity:1;\"/>\n",
       "<path d=\"M 918.4,108.1 L 917.6,109.5 L 916.0,109.5\" style=\"fill:none;stroke:#000000;stroke-width:2.0px;stroke-linecap:butt;stroke-linejoin:miter;stroke-miterlimit:10;stroke-opacity:1;\"/>\n",
       "<path d=\"M 887.4,109.5 L 885.8,109.5 L 885.5,109.0\" style=\"fill:none;stroke:#000000;stroke-width:2.0px;stroke-linecap:butt;stroke-linejoin:miter;stroke-miterlimit:10;stroke-opacity:1;\"/>\n",
       "<path d=\"M 885.5,55.0 L 885.8,54.5 L 887.4,54.5\" style=\"fill:none;stroke:#000000;stroke-width:2.0px;stroke-linecap:butt;stroke-linejoin:miter;stroke-miterlimit:10;stroke-opacity:1;\"/>\n",
       "<path d=\"M 916.0,54.5 L 917.6,54.5 L 918.4,55.9\" style=\"fill:none;stroke:#000000;stroke-width:2.0px;stroke-linecap:butt;stroke-linejoin:miter;stroke-miterlimit:10;stroke-opacity:1;\"/>\n",
       "<path class=\"atom-3\" d=\"M 868.0 77.5 L 870.9 82.3 Q 871.2 82.7, 871.7 83.6 Q 872.1 84.4, 872.2 84.5 L 872.2 77.5 L 873.4 77.5 L 873.4 86.5 L 872.1 86.5 L 869.0 81.3 Q 868.6 80.7, 868.2 80.0 Q 867.8 79.3, 867.7 79.1 L 867.7 86.5 L 866.5 86.5 L 866.5 77.5 L 868.0 77.5 \" fill=\"#0000FF\"/>\n",
       "<path class=\"legend\" d=\"M 894.9 159.7 L 896.3 159.7 L 896.3 161.1 L 894.9 161.1 L 894.9 159.7 M 894.9 162.8 L 896.3 162.8 L 896.3 171.0 L 894.9 171.0 L 894.9 162.8 \" fill=\"#000000\"/>\n",
       "<path class=\"legend\" d=\"M 902.4 162.6 Q 903.7 162.6, 904.4 163.4 Q 905.1 164.1, 905.1 165.6 L 905.1 171.0 L 903.6 171.0 L 903.6 165.7 Q 903.6 164.7, 903.2 164.3 Q 902.9 163.8, 902.0 163.8 Q 901.3 163.8, 900.7 164.2 Q 900.0 164.5, 899.6 165.1 L 899.6 171.0 L 898.1 171.0 L 898.1 162.8 L 899.4 162.8 L 899.5 163.9 Q 900.7 162.6, 902.4 162.6 \" fill=\"#000000\"/>\n",
       "<path class=\"bond-0 atom-0 atom-1\" d=\"M 148.0,241.4 L 141.4,252.8\" style=\"fill:none;fill-rule:evenodd;stroke:#FF0000;stroke-width:2.0px;stroke-linecap:butt;stroke-linejoin:miter;stroke-opacity:1\"/>\n",
       "<path class=\"bond-0 atom-0 atom-1\" d=\"M 141.4,252.8 L 134.8,264.3\" style=\"fill:none;fill-rule:evenodd;stroke:#000000;stroke-width:2.0px;stroke-linecap:butt;stroke-linejoin:miter;stroke-opacity:1\"/>\n",
       "<path class=\"bond-0 atom-0 atom-1\" d=\"M 143.9,239.0 L 137.3,250.5\" style=\"fill:none;fill-rule:evenodd;stroke:#FF0000;stroke-width:2.0px;stroke-linecap:butt;stroke-linejoin:miter;stroke-opacity:1\"/>\n",
       "<path class=\"bond-0 atom-0 atom-1\" d=\"M 137.3,250.5 L 130.7,261.9\" style=\"fill:none;fill-rule:evenodd;stroke:#000000;stroke-width:2.0px;stroke-linecap:butt;stroke-linejoin:miter;stroke-opacity:1\"/>\n",
       "<path class=\"bond-1 atom-1 atom-2\" d=\"M 133.4,261.9 L 139.7,272.9\" style=\"fill:none;fill-rule:evenodd;stroke:#000000;stroke-width:2.0px;stroke-linecap:butt;stroke-linejoin:miter;stroke-opacity:1\"/>\n",
       "<path class=\"bond-1 atom-1 atom-2\" d=\"M 139.7,272.9 L 146.1,283.8\" style=\"fill:none;fill-rule:evenodd;stroke:#FF0000;stroke-width:2.0px;stroke-linecap:butt;stroke-linejoin:miter;stroke-opacity:1\"/>\n",
       "<path class=\"bond-2 atom-1 atom-3\" d=\"M 133.4,261.9 L 101.7,261.9\" style=\"fill:none;fill-rule:evenodd;stroke:#000000;stroke-width:2.0px;stroke-linecap:butt;stroke-linejoin:miter;stroke-opacity:1\"/>\n",
       "<path class=\"bond-3 atom-3 atom-4\" d=\"M 101.7,261.9 L 85.8,289.4\" style=\"fill:none;fill-rule:evenodd;stroke:#000000;stroke-width:2.0px;stroke-linecap:butt;stroke-linejoin:miter;stroke-opacity:1\"/>\n",
       "<path class=\"bond-3 atom-3 atom-4\" d=\"M 96.2,261.9 L 83.0,284.7\" style=\"fill:none;fill-rule:evenodd;stroke:#000000;stroke-width:2.0px;stroke-linecap:butt;stroke-linejoin:miter;stroke-opacity:1\"/>\n",
       "<path class=\"bond-4 atom-4 atom-5\" d=\"M 85.8,289.4 L 54.0,289.4\" style=\"fill:none;fill-rule:evenodd;stroke:#000000;stroke-width:2.0px;stroke-linecap:butt;stroke-linejoin:miter;stroke-opacity:1\"/>\n",
       "<path class=\"bond-5 atom-5 atom-6\" d=\"M 54.0,289.4 L 38.1,261.9\" style=\"fill:none;fill-rule:evenodd;stroke:#000000;stroke-width:2.0px;stroke-linecap:butt;stroke-linejoin:miter;stroke-opacity:1\"/>\n",
       "<path class=\"bond-5 atom-5 atom-6\" d=\"M 56.8,284.7 L 43.6,261.9\" style=\"fill:none;fill-rule:evenodd;stroke:#000000;stroke-width:2.0px;stroke-linecap:butt;stroke-linejoin:miter;stroke-opacity:1\"/>\n",
       "<path class=\"bond-6 atom-6 atom-7\" d=\"M 38.1,261.9 L 54.0,234.4\" style=\"fill:none;fill-rule:evenodd;stroke:#000000;stroke-width:2.0px;stroke-linecap:butt;stroke-linejoin:miter;stroke-opacity:1\"/>\n",
       "<path class=\"bond-7 atom-7 atom-8\" d=\"M 54.0,234.4 L 85.8,234.4\" style=\"fill:none;fill-rule:evenodd;stroke:#000000;stroke-width:2.0px;stroke-linecap:butt;stroke-linejoin:miter;stroke-opacity:1\"/>\n",
       "<path class=\"bond-7 atom-7 atom-8\" d=\"M 56.8,239.2 L 83.0,239.2\" style=\"fill:none;fill-rule:evenodd;stroke:#000000;stroke-width:2.0px;stroke-linecap:butt;stroke-linejoin:miter;stroke-opacity:1\"/>\n",
       "<path class=\"bond-8 atom-8 atom-3\" d=\"M 85.8,234.4 L 101.7,261.9\" style=\"fill:none;fill-rule:evenodd;stroke:#000000;stroke-width:2.0px;stroke-linecap:butt;stroke-linejoin:miter;stroke-opacity:1\"/>\n",
       "<path d=\"M 133.7,262.5 L 133.4,261.9 L 131.8,261.9\" style=\"fill:none;stroke:#000000;stroke-width:2.0px;stroke-linecap:butt;stroke-linejoin:miter;stroke-miterlimit:10;stroke-opacity:1;\"/>\n",
       "<path d=\"M 86.6,288.1 L 85.8,289.4 L 84.2,289.4\" style=\"fill:none;stroke:#000000;stroke-width:2.0px;stroke-linecap:butt;stroke-linejoin:miter;stroke-miterlimit:10;stroke-opacity:1;\"/>\n",
       "<path d=\"M 55.6,289.4 L 54.0,289.4 L 53.2,288.1\" style=\"fill:none;stroke:#000000;stroke-width:2.0px;stroke-linecap:butt;stroke-linejoin:miter;stroke-miterlimit:10;stroke-opacity:1;\"/>\n",
       "<path d=\"M 38.9,263.3 L 38.1,261.9 L 38.9,260.6\" style=\"fill:none;stroke:#000000;stroke-width:2.0px;stroke-linecap:butt;stroke-linejoin:miter;stroke-miterlimit:10;stroke-opacity:1;\"/>\n",
       "<path d=\"M 53.2,235.8 L 54.0,234.4 L 55.6,234.4\" style=\"fill:none;stroke:#000000;stroke-width:2.0px;stroke-linecap:butt;stroke-linejoin:miter;stroke-miterlimit:10;stroke-opacity:1;\"/>\n",
       "<path d=\"M 84.2,234.4 L 85.8,234.4 L 86.6,235.8\" style=\"fill:none;stroke:#000000;stroke-width:2.0px;stroke-linecap:butt;stroke-linejoin:miter;stroke-miterlimit:10;stroke-opacity:1;\"/>\n",
       "<path class=\"atom-0\" d=\"M 145.2 234.5 Q 145.2 232.3, 146.2 231.1 Q 147.3 229.9, 149.3 229.9 Q 151.3 229.9, 152.4 231.1 Q 153.4 232.3, 153.4 234.5 Q 153.4 236.6, 152.3 237.9 Q 151.3 239.1, 149.3 239.1 Q 147.3 239.1, 146.2 237.9 Q 145.2 236.7, 145.2 234.5 M 149.3 238.1 Q 150.7 238.1, 151.4 237.2 Q 152.1 236.3, 152.1 234.5 Q 152.1 232.7, 151.4 231.8 Q 150.7 230.9, 149.3 230.9 Q 147.9 230.9, 147.2 231.8 Q 146.4 232.7, 146.4 234.5 Q 146.4 236.3, 147.2 237.2 Q 147.9 238.1, 149.3 238.1 \" fill=\"#FF0000\"/>\n",
       "<path class=\"atom-2\" d=\"M 145.2 289.5 Q 145.2 287.3, 146.2 286.1 Q 147.3 284.9, 149.3 284.9 Q 151.3 284.9, 152.4 286.1 Q 153.4 287.3, 153.4 289.5 Q 153.4 291.6, 152.3 292.9 Q 151.3 294.1, 149.3 294.1 Q 147.3 294.1, 146.2 292.9 Q 145.2 291.7, 145.2 289.5 M 149.3 293.1 Q 150.7 293.1, 151.4 292.2 Q 152.1 291.3, 152.1 289.5 Q 152.1 287.7, 151.4 286.8 Q 150.7 285.9, 149.3 285.9 Q 147.9 285.9, 147.2 286.8 Q 146.4 287.7, 146.4 289.5 Q 146.4 291.3, 147.2 292.2 Q 147.9 293.1, 149.3 293.1 \" fill=\"#FF0000\"/>\n",
       "<path class=\"atom-2\" d=\"M 154.8 285.0 L 156.0 285.0 L 156.0 288.8 L 160.6 288.8 L 160.6 285.0 L 161.9 285.0 L 161.9 294.0 L 160.6 294.0 L 160.6 289.8 L 156.0 289.8 L 156.0 294.0 L 154.8 294.0 L 154.8 285.0 \" fill=\"#FF0000\"/>\n",
       "<path class=\"legend\" d=\"M 94.9 339.7 L 96.3 339.7 L 96.3 341.1 L 94.9 341.1 L 94.9 339.7 M 94.9 342.8 L 96.3 342.8 L 96.3 351.0 L 94.9 351.0 L 94.9 342.8 \" fill=\"#000000\"/>\n",
       "<path class=\"legend\" d=\"M 102.4 342.6 Q 103.7 342.6, 104.4 343.4 Q 105.1 344.1, 105.1 345.6 L 105.1 351.0 L 103.6 351.0 L 103.6 345.7 Q 103.6 344.7, 103.2 344.3 Q 102.9 343.8, 102.0 343.8 Q 101.3 343.8, 100.7 344.2 Q 100.0 344.5, 99.6 345.1 L 99.6 351.0 L 98.1 351.0 L 98.1 342.8 L 99.4 342.8 L 99.5 343.9 Q 100.7 342.6, 102.4 342.6 \" fill=\"#000000\"/>\n",
       "<path class=\"bond-0 atom-0 atom-1\" d=\"M 239.0,260.2 L 251.8,257.1\" style=\"fill:none;fill-rule:evenodd;stroke:#FF0000;stroke-width:2.0px;stroke-linecap:butt;stroke-linejoin:miter;stroke-opacity:1\"/>\n",
       "<path class=\"bond-0 atom-0 atom-1\" d=\"M 251.8,257.1 L 264.7,253.9\" style=\"fill:none;fill-rule:evenodd;stroke:#000000;stroke-width:2.0px;stroke-linecap:butt;stroke-linejoin:miter;stroke-opacity:1\"/>\n",
       "<path class=\"bond-1 atom-1 atom-2\" d=\"M 264.7,253.9 L 286.6,276.9\" style=\"fill:none;fill-rule:evenodd;stroke:#000000;stroke-width:2.0px;stroke-linecap:butt;stroke-linejoin:miter;stroke-opacity:1\"/>\n",
       "<path class=\"bond-2 atom-2 atom-3\" d=\"M 286.6,276.9 L 317.5,269.5\" style=\"fill:none;fill-rule:evenodd;stroke:#000000;stroke-width:2.0px;stroke-linecap:butt;stroke-linejoin:miter;stroke-opacity:1\"/>\n",
       "<path class=\"bond-3 atom-3 atom-4\" d=\"M 317.5,269.5 L 326.4,239.0\" style=\"fill:none;fill-rule:evenodd;stroke:#000000;stroke-width:2.0px;stroke-linecap:butt;stroke-linejoin:miter;stroke-opacity:1\"/>\n",
       "<path class=\"bond-3 atom-3 atom-4\" d=\"M 322.8,268.2 L 330.2,243.0\" style=\"fill:none;fill-rule:evenodd;stroke:#000000;stroke-width:2.0px;stroke-linecap:butt;stroke-linejoin:miter;stroke-opacity:1\"/>\n",
       "<path class=\"bond-4 atom-4 atom-5\" d=\"M 326.4,239.0 L 357.3,231.5\" style=\"fill:none;fill-rule:evenodd;stroke:#000000;stroke-width:2.0px;stroke-linecap:butt;stroke-linejoin:miter;stroke-opacity:1\"/>\n",
       "<path class=\"bond-5 atom-5 atom-6\" d=\"M 357.3,231.5 L 379.2,254.5\" style=\"fill:none;fill-rule:evenodd;stroke:#000000;stroke-width:2.0px;stroke-linecap:butt;stroke-linejoin:miter;stroke-opacity:1\"/>\n",
       "<path class=\"bond-5 atom-5 atom-6\" d=\"M 355.7,236.8 L 373.8,255.8\" style=\"fill:none;fill-rule:evenodd;stroke:#000000;stroke-width:2.0px;stroke-linecap:butt;stroke-linejoin:miter;stroke-opacity:1\"/>\n",
       "<path class=\"bond-6 atom-6 atom-7\" d=\"M 379.2,254.5 L 370.2,285.0\" style=\"fill:none;fill-rule:evenodd;stroke:#000000;stroke-width:2.0px;stroke-linecap:butt;stroke-linejoin:miter;stroke-opacity:1\"/>\n",
       "<path class=\"bond-7 atom-7 atom-8\" d=\"M 370.2,285.0 L 339.4,292.5\" style=\"fill:none;fill-rule:evenodd;stroke:#000000;stroke-width:2.0px;stroke-linecap:butt;stroke-linejoin:miter;stroke-opacity:1\"/>\n",
       "<path class=\"bond-7 atom-7 atom-8\" d=\"M 366.4,281.0 L 340.9,287.2\" style=\"fill:none;fill-rule:evenodd;stroke:#000000;stroke-width:2.0px;stroke-linecap:butt;stroke-linejoin:miter;stroke-opacity:1\"/>\n",
       "<path class=\"bond-8 atom-8 atom-3\" d=\"M 339.4,292.5 L 317.5,269.5\" style=\"fill:none;fill-rule:evenodd;stroke:#000000;stroke-width:2.0px;stroke-linecap:butt;stroke-linejoin:miter;stroke-opacity:1\"/>\n",
       "<path d=\"M 264.0,254.1 L 264.7,253.9 L 265.8,255.1\" style=\"fill:none;stroke:#000000;stroke-width:2.0px;stroke-linecap:butt;stroke-linejoin:miter;stroke-miterlimit:10;stroke-opacity:1;\"/>\n",
       "<path d=\"M 285.5,275.8 L 286.6,276.9 L 288.1,276.6\" style=\"fill:none;stroke:#000000;stroke-width:2.0px;stroke-linecap:butt;stroke-linejoin:miter;stroke-miterlimit:10;stroke-opacity:1;\"/>\n",
       "<path d=\"M 326.0,240.5 L 326.4,239.0 L 328.0,238.6\" style=\"fill:none;stroke:#000000;stroke-width:2.0px;stroke-linecap:butt;stroke-linejoin:miter;stroke-miterlimit:10;stroke-opacity:1;\"/>\n",
       "<path d=\"M 355.7,231.9 L 357.3,231.5 L 358.4,232.7\" style=\"fill:none;stroke:#000000;stroke-width:2.0px;stroke-linecap:butt;stroke-linejoin:miter;stroke-miterlimit:10;stroke-opacity:1;\"/>\n",
       "<path d=\"M 378.1,253.4 L 379.2,254.5 L 378.7,256.1\" style=\"fill:none;stroke:#000000;stroke-width:2.0px;stroke-linecap:butt;stroke-linejoin:miter;stroke-miterlimit:10;stroke-opacity:1;\"/>\n",
       "<path d=\"M 370.7,283.5 L 370.2,285.0 L 368.7,285.4\" style=\"fill:none;stroke:#000000;stroke-width:2.0px;stroke-linecap:butt;stroke-linejoin:miter;stroke-miterlimit:10;stroke-opacity:1;\"/>\n",
       "<path d=\"M 340.9,292.1 L 339.4,292.5 L 338.3,291.3\" style=\"fill:none;stroke:#000000;stroke-width:2.0px;stroke-linecap:butt;stroke-linejoin:miter;stroke-miterlimit:10;stroke-opacity:1;\"/>\n",
       "<path class=\"atom-0\" d=\"M 220.8 257.0 L 222.0 257.0 L 222.0 260.8 L 226.6 260.8 L 226.6 257.0 L 227.9 257.0 L 227.9 266.0 L 226.6 266.0 L 226.6 261.8 L 222.0 261.8 L 222.0 266.0 L 220.8 266.0 L 220.8 257.0 \" fill=\"#FF0000\"/>\n",
       "<path class=\"atom-0\" d=\"M 229.7 261.4 Q 229.7 259.3, 230.8 258.1 Q 231.8 256.9, 233.8 256.9 Q 235.8 256.9, 236.9 258.1 Q 238.0 259.3, 238.0 261.4 Q 238.0 263.6, 236.9 264.9 Q 235.8 266.1, 233.8 266.1 Q 231.8 266.1, 230.8 264.9 Q 229.7 263.6, 229.7 261.4 M 233.8 265.1 Q 235.2 265.1, 235.9 264.2 Q 236.7 263.2, 236.7 261.4 Q 236.7 259.7, 235.9 258.8 Q 235.2 257.9, 233.8 257.9 Q 232.5 257.9, 231.7 258.8 Q 231.0 259.7, 231.0 261.4 Q 231.0 263.3, 231.7 264.2 Q 232.5 265.1, 233.8 265.1 \" fill=\"#FF0000\"/>\n",
       "<path class=\"legend\" d=\"M 294.9 339.7 L 296.3 339.7 L 296.3 341.1 L 294.9 341.1 L 294.9 339.7 M 294.9 342.8 L 296.3 342.8 L 296.3 351.0 L 294.9 351.0 L 294.9 342.8 \" fill=\"#000000\"/>\n",
       "<path class=\"legend\" d=\"M 302.4 342.6 Q 303.7 342.6, 304.4 343.4 Q 305.1 344.1, 305.1 345.6 L 305.1 351.0 L 303.6 351.0 L 303.6 345.7 Q 303.6 344.7, 303.2 344.3 Q 302.9 343.8, 302.0 343.8 Q 301.3 343.8, 300.7 344.2 Q 300.0 344.5, 299.6 345.1 L 299.6 351.0 L 298.1 351.0 L 298.1 342.8 L 299.4 342.8 L 299.5 343.9 Q 300.7 342.6, 302.4 342.6 \" fill=\"#000000\"/>\n",
       "<path class=\"bond-0 atom-0 atom-1\" d=\"M 549.4,289.5 L 517.6,289.5\" style=\"fill:none;fill-rule:evenodd;stroke:#000000;stroke-width:2.0px;stroke-linecap:butt;stroke-linejoin:miter;stroke-opacity:1\"/>\n",
       "<path class=\"bond-0 atom-0 atom-1\" d=\"M 546.6,284.7 L 520.4,284.7\" style=\"fill:none;fill-rule:evenodd;stroke:#000000;stroke-width:2.0px;stroke-linecap:butt;stroke-linejoin:miter;stroke-opacity:1\"/>\n",
       "<path class=\"bond-1 atom-1 atom-2\" d=\"M 517.6,289.5 L 501.8,262.0\" style=\"fill:none;fill-rule:evenodd;stroke:#000000;stroke-width:2.0px;stroke-linecap:butt;stroke-linejoin:miter;stroke-opacity:1\"/>\n",
       "<path class=\"bond-2 atom-2 atom-3\" d=\"M 501.8,262.0 L 517.6,234.5\" style=\"fill:none;fill-rule:evenodd;stroke:#000000;stroke-width:2.0px;stroke-linecap:butt;stroke-linejoin:miter;stroke-opacity:1\"/>\n",
       "<path class=\"bond-2 atom-2 atom-3\" d=\"M 507.3,262.0 L 520.4,239.3\" style=\"fill:none;fill-rule:evenodd;stroke:#000000;stroke-width:2.0px;stroke-linecap:butt;stroke-linejoin:miter;stroke-opacity:1\"/>\n",
       "<path class=\"bond-3 atom-3 atom-4\" d=\"M 517.6,234.5 L 549.4,234.5\" style=\"fill:none;fill-rule:evenodd;stroke:#000000;stroke-width:2.0px;stroke-linecap:butt;stroke-linejoin:miter;stroke-opacity:1\"/>\n",
       "<path class=\"bond-4 atom-4 atom-5\" d=\"M 549.4,234.5 L 565.3,262.0\" style=\"fill:none;fill-rule:evenodd;stroke:#000000;stroke-width:2.0px;stroke-linecap:butt;stroke-linejoin:miter;stroke-opacity:1\"/>\n",
       "<path class=\"bond-4 atom-4 atom-5\" d=\"M 546.6,239.3 L 559.8,262.0\" style=\"fill:none;fill-rule:evenodd;stroke:#000000;stroke-width:2.0px;stroke-linecap:butt;stroke-linejoin:miter;stroke-opacity:1\"/>\n",
       "<path class=\"bond-5 atom-5 atom-0\" d=\"M 565.3,262.0 L 549.4,289.5\" style=\"fill:none;fill-rule:evenodd;stroke:#000000;stroke-width:2.0px;stroke-linecap:butt;stroke-linejoin:miter;stroke-opacity:1\"/>\n",
       "<path class=\"bond-6 atom-6 atom-7\" d=\"M 470.0,262.0 L 442.8,262.0\" style=\"fill:none;fill-rule:evenodd;stroke:#000000;stroke-width:2.0px;stroke-linecap:butt;stroke-linejoin:miter;stroke-opacity:1\"/>\n",
       "<path class=\"bond-7 atom-6 atom-8\" d=\"M 470.0,262.0 L 470.0,235.8\" style=\"fill:none;fill-rule:evenodd;stroke:#000000;stroke-width:2.0px;stroke-linecap:butt;stroke-linejoin:miter;stroke-opacity:1\"/>\n",
       "<path class=\"bond-8 atom-6 atom-9\" d=\"M 470.0,262.0 L 470.0,288.2\" style=\"fill:none;fill-rule:evenodd;stroke:#000000;stroke-width:2.0px;stroke-linecap:butt;stroke-linejoin:miter;stroke-opacity:1\"/>\n",
       "<path class=\"bond-9 atom-2 atom-6\" d=\"M 501.8,262.0 L 470.0,262.0\" style=\"fill:none;fill-rule:evenodd;stroke:#000000;stroke-width:2.0px;stroke-linecap:butt;stroke-linejoin:miter;stroke-opacity:1\"/>\n",
       "<path d=\"M 547.8,289.5 L 549.4,289.5 L 550.2,288.1\" style=\"fill:none;stroke:#000000;stroke-width:2.0px;stroke-linecap:butt;stroke-linejoin:miter;stroke-miterlimit:10;stroke-opacity:1;\"/>\n",
       "<path d=\"M 519.2,289.5 L 517.6,289.5 L 516.8,288.1\" style=\"fill:none;stroke:#000000;stroke-width:2.0px;stroke-linecap:butt;stroke-linejoin:miter;stroke-miterlimit:10;stroke-opacity:1;\"/>\n",
       "<path d=\"M 516.8,235.9 L 517.6,234.5 L 519.2,234.5\" style=\"fill:none;stroke:#000000;stroke-width:2.0px;stroke-linecap:butt;stroke-linejoin:miter;stroke-miterlimit:10;stroke-opacity:1;\"/>\n",
       "<path d=\"M 547.8,234.5 L 549.4,234.5 L 550.2,235.9\" style=\"fill:none;stroke:#000000;stroke-width:2.0px;stroke-linecap:butt;stroke-linejoin:miter;stroke-miterlimit:10;stroke-opacity:1;\"/>\n",
       "<path d=\"M 564.5,260.6 L 565.3,262.0 L 564.5,263.4\" style=\"fill:none;stroke:#000000;stroke-width:2.0px;stroke-linecap:butt;stroke-linejoin:miter;stroke-miterlimit:10;stroke-opacity:1;\"/>\n",
       "<path class=\"atom-7\" d=\"M 434.7 257.5 L 435.9 257.5 L 435.9 261.3 L 440.5 261.3 L 440.5 257.5 L 441.8 257.5 L 441.8 266.5 L 440.5 266.5 L 440.5 262.3 L 435.9 262.3 L 435.9 266.5 L 434.7 266.5 L 434.7 257.5 \" fill=\"#000000\"/>\n",
       "<path class=\"atom-8\" d=\"M 466.5 225.7 L 467.7 225.7 L 467.7 229.6 L 472.3 229.6 L 472.3 225.7 L 473.5 225.7 L 473.5 234.7 L 472.3 234.7 L 472.3 230.6 L 467.7 230.6 L 467.7 234.7 L 466.5 234.7 L 466.5 225.7 \" fill=\"#000000\"/>\n",
       "<path class=\"atom-9\" d=\"M 466.5 289.3 L 467.7 289.3 L 467.7 293.1 L 472.3 293.1 L 472.3 289.3 L 473.5 289.3 L 473.5 298.3 L 472.3 298.3 L 472.3 294.1 L 467.7 294.1 L 467.7 298.3 L 466.5 298.3 L 466.5 289.3 \" fill=\"#000000\"/>\n",
       "<path class=\"legend\" d=\"M 488.1 346.7 Q 488.1 344.7, 489.1 343.6 Q 490.1 342.5, 492.0 342.5 Q 493.9 342.5, 494.9 343.6 Q 495.9 344.7, 495.9 346.7 Q 495.9 348.7, 494.9 349.9 Q 493.9 351.0, 492.0 351.0 Q 490.1 351.0, 489.1 349.9 Q 488.1 348.7, 488.1 346.7 M 489.6 346.7 Q 489.6 348.2, 490.2 349.0 Q 490.9 349.8, 492.0 349.8 Q 493.1 349.8, 493.8 349.0 Q 494.4 348.2, 494.4 346.7 Q 494.4 345.2, 493.8 344.5 Q 493.1 343.7, 492.0 343.7 Q 490.9 343.7, 490.2 344.5 Q 489.6 345.2, 489.6 346.7 \" fill=\"#000000\"/>\n",
       "<path class=\"legend\" d=\"M 504.3 342.6 L 504.3 350.9 L 503.1 350.9 L 502.9 349.7 Q 501.8 351.0, 500.1 351.0 Q 498.7 351.0, 498.0 350.3 Q 497.3 349.5, 497.3 348.1 L 497.3 342.6 L 498.8 342.6 L 498.8 348.0 Q 498.8 348.9, 499.2 349.4 Q 499.6 349.8, 500.4 349.8 Q 501.2 349.8, 501.8 349.5 Q 502.4 349.1, 502.8 348.5 L 502.8 342.6 L 504.3 342.6 \" fill=\"#000000\"/>\n",
       "<path class=\"legend\" d=\"M 506.3 343.8 L 506.3 342.6 L 507.9 342.6 L 508.1 340.2 L 509.3 340.2 L 509.3 342.6 L 511.8 342.6 L 511.8 343.8 L 509.3 343.8 L 509.3 348.3 Q 509.3 349.8, 510.5 349.8 Q 510.9 349.8, 511.6 349.5 L 511.9 350.6 Q 511.0 351.0, 510.2 351.0 Q 509.1 351.0, 508.4 350.3 Q 507.8 349.7, 507.8 348.4 L 507.8 343.8 L 506.3 343.8 \" fill=\"#000000\"/>\n",
       "<path class=\"bond-0 atom-0 atom-1\" d=\"M 704.1,300.0 L 710.6,289.2\" style=\"fill:none;fill-rule:evenodd;stroke:#FF0000;stroke-width:2.0px;stroke-linecap:butt;stroke-linejoin:miter;stroke-opacity:1\"/>\n",
       "<path class=\"bond-0 atom-0 atom-1\" d=\"M 710.6,289.2 L 717.1,278.4\" style=\"fill:none;fill-rule:evenodd;stroke:#000000;stroke-width:2.0px;stroke-linecap:butt;stroke-linejoin:miter;stroke-opacity:1\"/>\n",
       "<path class=\"bond-1 atom-1 atom-2\" d=\"M 717.1,278.4 L 701.8,250.6\" style=\"fill:none;fill-rule:evenodd;stroke:#000000;stroke-width:2.0px;stroke-linecap:butt;stroke-linejoin:miter;stroke-opacity:1\"/>\n",
       "<path class=\"bond-1 atom-1 atom-2\" d=\"M 719.9,273.7 L 707.3,250.7\" style=\"fill:none;fill-rule:evenodd;stroke:#000000;stroke-width:2.0px;stroke-linecap:butt;stroke-linejoin:miter;stroke-opacity:1\"/>\n",
       "<path class=\"bond-2 atom-2 atom-3\" d=\"M 701.8,250.6 L 718.2,223.4\" style=\"fill:none;fill-rule:evenodd;stroke:#000000;stroke-width:2.0px;stroke-linecap:butt;stroke-linejoin:miter;stroke-opacity:1\"/>\n",
       "<path class=\"bond-3 atom-3 atom-4\" d=\"M 718.2,223.4 L 749.9,224.0\" style=\"fill:none;fill-rule:evenodd;stroke:#000000;stroke-width:2.0px;stroke-linecap:butt;stroke-linejoin:miter;stroke-opacity:1\"/>\n",
       "<path class=\"bond-3 atom-3 atom-4\" d=\"M 720.8,228.2 L 747.1,228.7\" style=\"fill:none;fill-rule:evenodd;stroke:#000000;stroke-width:2.0px;stroke-linecap:butt;stroke-linejoin:miter;stroke-opacity:1\"/>\n",
       "<path class=\"bond-4 atom-4 atom-5\" d=\"M 749.9,224.0 L 765.3,251.8\" style=\"fill:none;fill-rule:evenodd;stroke:#000000;stroke-width:2.0px;stroke-linecap:butt;stroke-linejoin:miter;stroke-opacity:1\"/>\n",
       "<path class=\"bond-5 atom-5 atom-6\" d=\"M 765.3,251.8 L 748.9,279.0\" style=\"fill:none;fill-rule:evenodd;stroke:#000000;stroke-width:2.0px;stroke-linecap:butt;stroke-linejoin:miter;stroke-opacity:1\"/>\n",
       "<path class=\"bond-5 atom-5 atom-6\" d=\"M 759.8,251.7 L 746.2,274.2\" style=\"fill:none;fill-rule:evenodd;stroke:#000000;stroke-width:2.0px;stroke-linecap:butt;stroke-linejoin:miter;stroke-opacity:1\"/>\n",
       "<path class=\"bond-6 atom-6 atom-1\" d=\"M 748.9,279.0 L 717.1,278.4\" style=\"fill:none;fill-rule:evenodd;stroke:#000000;stroke-width:2.0px;stroke-linecap:butt;stroke-linejoin:miter;stroke-opacity:1\"/>\n",
       "<path class=\"bond-7 atom-7 atom-8\" d=\"M 670.0,250.0 L 642.8,249.5\" style=\"fill:none;fill-rule:evenodd;stroke:#000000;stroke-width:2.0px;stroke-linecap:butt;stroke-linejoin:miter;stroke-opacity:1\"/>\n",
       "<path class=\"bond-8 atom-7 atom-9\" d=\"M 670.0,250.0 L 670.5,223.8\" style=\"fill:none;fill-rule:evenodd;stroke:#000000;stroke-width:2.0px;stroke-linecap:butt;stroke-linejoin:miter;stroke-opacity:1\"/>\n",
       "<path class=\"bond-9 atom-7 atom-10\" d=\"M 670.0,250.0 L 669.5,276.2\" style=\"fill:none;fill-rule:evenodd;stroke:#000000;stroke-width:2.0px;stroke-linecap:butt;stroke-linejoin:miter;stroke-opacity:1\"/>\n",
       "<path class=\"bond-10 atom-2 atom-7\" d=\"M 701.8,250.6 L 670.0,250.0\" style=\"fill:none;fill-rule:evenodd;stroke:#000000;stroke-width:2.0px;stroke-linecap:butt;stroke-linejoin:miter;stroke-opacity:1\"/>\n",
       "<path d=\"M 717.3,224.8 L 718.2,223.4 L 719.8,223.4\" style=\"fill:none;stroke:#000000;stroke-width:2.0px;stroke-linecap:butt;stroke-linejoin:miter;stroke-miterlimit:10;stroke-opacity:1;\"/>\n",
       "<path d=\"M 748.3,224.0 L 749.9,224.0 L 750.7,225.4\" style=\"fill:none;stroke:#000000;stroke-width:2.0px;stroke-linecap:butt;stroke-linejoin:miter;stroke-miterlimit:10;stroke-opacity:1;\"/>\n",
       "<path d=\"M 764.5,250.4 L 765.3,251.8 L 764.4,253.2\" style=\"fill:none;stroke:#000000;stroke-width:2.0px;stroke-linecap:butt;stroke-linejoin:miter;stroke-miterlimit:10;stroke-opacity:1;\"/>\n",
       "<path d=\"M 749.7,277.6 L 748.9,279.0 L 747.3,279.0\" style=\"fill:none;stroke:#000000;stroke-width:2.0px;stroke-linecap:butt;stroke-linejoin:miter;stroke-miterlimit:10;stroke-opacity:1;\"/>\n",
       "<path class=\"atom-0\" d=\"M 687.7 301.1 L 688.9 301.1 L 688.9 305.0 L 693.5 305.0 L 693.5 301.1 L 694.7 301.1 L 694.7 310.1 L 693.5 310.1 L 693.5 306.0 L 688.9 306.0 L 688.9 310.1 L 687.7 310.1 L 687.7 301.1 \" fill=\"#FF0000\"/>\n",
       "<path class=\"atom-0\" d=\"M 696.6 305.6 Q 696.6 303.4, 697.6 302.2 Q 698.7 301.0, 700.7 301.0 Q 702.7 301.0, 703.8 302.2 Q 704.8 303.4, 704.8 305.6 Q 704.8 307.8, 703.7 309.0 Q 702.7 310.3, 700.7 310.3 Q 698.7 310.3, 697.6 309.0 Q 696.6 307.8, 696.6 305.6 M 700.7 309.3 Q 702.1 309.3, 702.8 308.3 Q 703.6 307.4, 703.6 305.6 Q 703.6 303.8, 702.8 303.0 Q 702.1 302.1, 700.7 302.1 Q 699.3 302.1, 698.6 302.9 Q 697.8 303.8, 697.8 305.6 Q 697.8 307.4, 698.6 308.3 Q 699.3 309.3, 700.7 309.3 \" fill=\"#FF0000\"/>\n",
       "<path class=\"atom-8\" d=\"M 634.7 244.9 L 636.0 244.9 L 636.0 248.7 L 640.6 248.7 L 640.6 244.9 L 641.8 244.9 L 641.8 253.9 L 640.6 253.9 L 640.6 249.7 L 636.0 249.7 L 636.0 253.9 L 634.7 253.9 L 634.7 244.9 \" fill=\"#000000\"/>\n",
       "<path class=\"atom-9\" d=\"M 667.1 213.7 L 668.3 213.7 L 668.3 217.6 L 672.9 217.6 L 672.9 213.7 L 674.1 213.7 L 674.1 222.7 L 672.9 222.7 L 672.9 218.6 L 668.3 218.6 L 668.3 222.7 L 667.1 222.7 L 667.1 213.7 \" fill=\"#000000\"/>\n",
       "<path class=\"atom-10\" d=\"M 665.9 277.2 L 667.1 277.2 L 667.1 281.1 L 671.7 281.1 L 671.7 277.2 L 672.9 277.2 L 672.9 286.2 L 671.7 286.2 L 671.7 282.1 L 667.1 282.1 L 667.1 286.2 L 665.9 286.2 L 665.9 277.2 \" fill=\"#000000\"/>\n",
       "<path class=\"legend\" d=\"M 688.1 346.7 Q 688.1 344.7, 689.1 343.6 Q 690.1 342.5, 692.0 342.5 Q 693.9 342.5, 694.9 343.6 Q 695.9 344.7, 695.9 346.7 Q 695.9 348.7, 694.9 349.9 Q 693.9 351.0, 692.0 351.0 Q 690.1 351.0, 689.1 349.9 Q 688.1 348.7, 688.1 346.7 M 689.6 346.7 Q 689.6 348.2, 690.2 349.0 Q 690.9 349.8, 692.0 349.8 Q 693.1 349.8, 693.8 349.0 Q 694.4 348.2, 694.4 346.7 Q 694.4 345.2, 693.8 344.5 Q 693.1 343.7, 692.0 343.7 Q 690.9 343.7, 690.2 344.5 Q 689.6 345.2, 689.6 346.7 \" fill=\"#000000\"/>\n",
       "<path class=\"legend\" d=\"M 704.3 342.6 L 704.3 350.9 L 703.1 350.9 L 702.9 349.7 Q 701.8 351.0, 700.1 351.0 Q 698.7 351.0, 698.0 350.3 Q 697.3 349.5, 697.3 348.1 L 697.3 342.6 L 698.8 342.6 L 698.8 348.0 Q 698.8 348.9, 699.2 349.4 Q 699.6 349.8, 700.4 349.8 Q 701.2 349.8, 701.8 349.5 Q 702.4 349.1, 702.8 348.5 L 702.8 342.6 L 704.3 342.6 \" fill=\"#000000\"/>\n",
       "<path class=\"legend\" d=\"M 706.3 343.8 L 706.3 342.6 L 707.9 342.6 L 708.1 340.2 L 709.3 340.2 L 709.3 342.6 L 711.8 342.6 L 711.8 343.8 L 709.3 343.8 L 709.3 348.3 Q 709.3 349.8, 710.5 349.8 Q 710.9 349.8, 711.6 349.5 L 711.9 350.6 Q 711.0 351.0, 710.2 351.0 Q 709.1 351.0, 708.4 350.3 Q 707.8 349.7, 707.8 348.4 L 707.8 343.8 L 706.3 343.8 \" fill=\"#000000\"/>\n",
       "<path class=\"bond-0 atom-0 atom-1\" d=\"M 904.0,297.9 L 910.6,287.1\" style=\"fill:none;fill-rule:evenodd;stroke:#0000FF;stroke-width:2.0px;stroke-linecap:butt;stroke-linejoin:miter;stroke-opacity:1\"/>\n",
       "<path class=\"bond-0 atom-0 atom-1\" d=\"M 910.6,287.1 L 917.1,276.2\" style=\"fill:none;fill-rule:evenodd;stroke:#000000;stroke-width:2.0px;stroke-linecap:butt;stroke-linejoin:miter;stroke-opacity:1\"/>\n",
       "<path class=\"bond-1 atom-1 atom-2\" d=\"M 917.1,276.2 L 901.8,248.4\" style=\"fill:none;fill-rule:evenodd;stroke:#000000;stroke-width:2.0px;stroke-linecap:butt;stroke-linejoin:miter;stroke-opacity:1\"/>\n",
       "<path class=\"bond-1 atom-1 atom-2\" d=\"M 919.9,271.5 L 907.3,248.5\" style=\"fill:none;fill-rule:evenodd;stroke:#000000;stroke-width:2.0px;stroke-linecap:butt;stroke-linejoin:miter;stroke-opacity:1\"/>\n",
       "<path class=\"bond-2 atom-2 atom-3\" d=\"M 901.8,248.4 L 918.2,221.2\" style=\"fill:none;fill-rule:evenodd;stroke:#000000;stroke-width:2.0px;stroke-linecap:butt;stroke-linejoin:miter;stroke-opacity:1\"/>\n",
       "<path class=\"bond-3 atom-3 atom-4\" d=\"M 918.2,221.2 L 949.9,221.9\" style=\"fill:none;fill-rule:evenodd;stroke:#000000;stroke-width:2.0px;stroke-linecap:butt;stroke-linejoin:miter;stroke-opacity:1\"/>\n",
       "<path class=\"bond-3 atom-3 atom-4\" d=\"M 920.8,226.1 L 947.1,226.6\" style=\"fill:none;fill-rule:evenodd;stroke:#000000;stroke-width:2.0px;stroke-linecap:butt;stroke-linejoin:miter;stroke-opacity:1\"/>\n",
       "<path class=\"bond-4 atom-4 atom-5\" d=\"M 949.9,221.9 L 965.3,249.7\" style=\"fill:none;fill-rule:evenodd;stroke:#000000;stroke-width:2.0px;stroke-linecap:butt;stroke-linejoin:miter;stroke-opacity:1\"/>\n",
       "<path class=\"bond-5 atom-5 atom-6\" d=\"M 965.3,249.7 L 948.9,276.8\" style=\"fill:none;fill-rule:evenodd;stroke:#000000;stroke-width:2.0px;stroke-linecap:butt;stroke-linejoin:miter;stroke-opacity:1\"/>\n",
       "<path class=\"bond-5 atom-5 atom-6\" d=\"M 959.8,249.6 L 946.2,272.0\" style=\"fill:none;fill-rule:evenodd;stroke:#000000;stroke-width:2.0px;stroke-linecap:butt;stroke-linejoin:miter;stroke-opacity:1\"/>\n",
       "<path class=\"bond-6 atom-6 atom-1\" d=\"M 948.9,276.8 L 917.1,276.2\" style=\"fill:none;fill-rule:evenodd;stroke:#000000;stroke-width:2.0px;stroke-linecap:butt;stroke-linejoin:miter;stroke-opacity:1\"/>\n",
       "<path class=\"bond-7 atom-7 atom-8\" d=\"M 870.0,247.8 L 842.8,247.3\" style=\"fill:none;fill-rule:evenodd;stroke:#000000;stroke-width:2.0px;stroke-linecap:butt;stroke-linejoin:miter;stroke-opacity:1\"/>\n",
       "<path class=\"bond-8 atom-7 atom-9\" d=\"M 870.0,247.8 L 870.5,221.6\" style=\"fill:none;fill-rule:evenodd;stroke:#000000;stroke-width:2.0px;stroke-linecap:butt;stroke-linejoin:miter;stroke-opacity:1\"/>\n",
       "<path class=\"bond-9 atom-7 atom-10\" d=\"M 870.0,247.8 L 869.5,274.0\" style=\"fill:none;fill-rule:evenodd;stroke:#000000;stroke-width:2.0px;stroke-linecap:butt;stroke-linejoin:miter;stroke-opacity:1\"/>\n",
       "<path class=\"bond-10 atom-2 atom-7\" d=\"M 901.8,248.4 L 870.0,247.8\" style=\"fill:none;fill-rule:evenodd;stroke:#000000;stroke-width:2.0px;stroke-linecap:butt;stroke-linejoin:miter;stroke-opacity:1\"/>\n",
       "<path d=\"M 917.3,222.6 L 918.2,221.2 L 919.8,221.3\" style=\"fill:none;stroke:#000000;stroke-width:2.0px;stroke-linecap:butt;stroke-linejoin:miter;stroke-miterlimit:10;stroke-opacity:1;\"/>\n",
       "<path d=\"M 948.3,221.8 L 949.9,221.9 L 950.7,223.2\" style=\"fill:none;stroke:#000000;stroke-width:2.0px;stroke-linecap:butt;stroke-linejoin:miter;stroke-miterlimit:10;stroke-opacity:1;\"/>\n",
       "<path d=\"M 964.5,248.3 L 965.3,249.7 L 964.4,251.0\" style=\"fill:none;stroke:#000000;stroke-width:2.0px;stroke-linecap:butt;stroke-linejoin:miter;stroke-miterlimit:10;stroke-opacity:1;\"/>\n",
       "<path d=\"M 949.7,275.5 L 948.9,276.8 L 947.3,276.8\" style=\"fill:none;stroke:#000000;stroke-width:2.0px;stroke-linecap:butt;stroke-linejoin:miter;stroke-miterlimit:10;stroke-opacity:1;\"/>\n",
       "<path class=\"atom-0\" d=\"M 883.3 298.9 L 884.6 298.9 L 884.6 302.8 L 889.2 302.8 L 889.2 298.9 L 890.4 298.9 L 890.4 307.9 L 889.2 307.9 L 889.2 303.8 L 884.6 303.8 L 884.6 307.9 L 883.3 307.9 L 883.3 298.9 \" fill=\"#0000FF\"/>\n",
       "<path class=\"atom-0\" d=\"M 892.1 307.6 Q 892.4 307.0, 892.9 306.7 Q 893.4 306.4, 894.1 306.4 Q 895.0 306.4, 895.5 306.9 Q 896.0 307.4, 896.0 308.3 Q 896.0 309.1, 895.4 310.0 Q 894.7 310.8, 893.4 311.8 L 896.1 311.8 L 896.1 312.4 L 892.1 312.4 L 892.1 311.9 Q 893.2 311.1, 893.9 310.5 Q 894.5 309.9, 894.9 309.4 Q 895.2 308.8, 895.2 308.3 Q 895.2 307.7, 894.9 307.4 Q 894.6 307.1, 894.1 307.1 Q 893.6 307.1, 893.3 307.3 Q 893.0 307.5, 892.8 307.9 L 892.1 307.6 \" fill=\"#0000FF\"/>\n",
       "<path class=\"atom-0\" d=\"M 898.7 298.9 L 901.7 303.7 Q 902.0 304.2, 902.4 305.0 Q 902.9 305.9, 902.9 305.9 L 902.9 298.9 L 904.1 298.9 L 904.1 307.9 L 902.9 307.9 L 899.7 302.7 Q 899.3 302.1, 899.0 301.4 Q 898.6 300.7, 898.5 300.5 L 898.5 307.9 L 897.3 307.9 L 897.3 298.9 L 898.7 298.9 \" fill=\"#0000FF\"/>\n",
       "<path class=\"atom-8\" d=\"M 834.7 242.7 L 836.0 242.7 L 836.0 246.5 L 840.6 246.5 L 840.6 242.7 L 841.8 242.7 L 841.8 251.7 L 840.6 251.7 L 840.6 247.6 L 836.0 247.6 L 836.0 251.7 L 834.7 251.7 L 834.7 242.7 \" fill=\"#000000\"/>\n",
       "<path class=\"atom-9\" d=\"M 867.1 211.6 L 868.3 211.6 L 868.3 215.4 L 872.9 215.4 L 872.9 211.6 L 874.1 211.6 L 874.1 220.6 L 872.9 220.6 L 872.9 216.4 L 868.3 216.4 L 868.3 220.6 L 867.1 220.6 L 867.1 211.6 \" fill=\"#000000\"/>\n",
       "<path class=\"atom-10\" d=\"M 865.9 275.1 L 867.1 275.1 L 867.1 278.9 L 871.7 278.9 L 871.7 275.1 L 872.9 275.1 L 872.9 284.1 L 871.7 284.1 L 871.7 279.9 L 867.1 279.9 L 867.1 284.1 L 865.9 284.1 L 865.9 275.1 \" fill=\"#000000\"/>\n",
       "<path class=\"legend\" d=\"M 888.1 346.7 Q 888.1 344.7, 889.1 343.6 Q 890.1 342.5, 892.0 342.5 Q 893.9 342.5, 894.9 343.6 Q 895.9 344.7, 895.9 346.7 Q 895.9 348.7, 894.9 349.9 Q 893.9 351.0, 892.0 351.0 Q 890.1 351.0, 889.1 349.9 Q 888.1 348.7, 888.1 346.7 M 889.6 346.7 Q 889.6 348.2, 890.2 349.0 Q 890.9 349.8, 892.0 349.8 Q 893.1 349.8, 893.8 349.0 Q 894.4 348.2, 894.4 346.7 Q 894.4 345.2, 893.8 344.5 Q 893.1 343.7, 892.0 343.7 Q 890.9 343.7, 890.2 344.5 Q 889.6 345.2, 889.6 346.7 \" fill=\"#000000\"/>\n",
       "<path class=\"legend\" d=\"M 904.3 342.6 L 904.3 350.9 L 903.1 350.9 L 902.9 349.7 Q 901.8 351.0, 900.1 351.0 Q 898.7 351.0, 898.0 350.3 Q 897.3 349.5, 897.3 348.1 L 897.3 342.6 L 898.8 342.6 L 898.8 348.0 Q 898.8 348.9, 899.2 349.4 Q 899.6 349.8, 900.4 349.8 Q 901.2 349.8, 901.8 349.5 Q 902.4 349.1, 902.8 348.5 L 902.8 342.6 L 904.3 342.6 \" fill=\"#000000\"/>\n",
       "<path class=\"legend\" d=\"M 906.3 343.8 L 906.3 342.6 L 907.9 342.6 L 908.1 340.2 L 909.3 340.2 L 909.3 342.6 L 911.8 342.6 L 911.8 343.8 L 909.3 343.8 L 909.3 348.3 Q 909.3 349.8, 910.5 349.8 Q 910.9 349.8, 911.6 349.5 L 911.9 350.6 Q 911.0 351.0, 910.2 351.0 Q 909.1 351.0, 908.4 350.3 Q 907.8 349.7, 907.8 348.4 L 907.8 343.8 L 906.3 343.8 \" fill=\"#000000\"/>\n",
       "<path class=\"bond-0 atom-0 atom-1\" d=\"M 102.3,482.8 L 109.7,470.5\" style=\"fill:none;fill-rule:evenodd;stroke:#00CC00;stroke-width:2.0px;stroke-linecap:butt;stroke-linejoin:miter;stroke-opacity:1\"/>\n",
       "<path class=\"bond-0 atom-0 atom-1\" d=\"M 109.7,470.5 L 117.1,458.3\" style=\"fill:none;fill-rule:evenodd;stroke:#000000;stroke-width:2.0px;stroke-linecap:butt;stroke-linejoin:miter;stroke-opacity:1\"/>\n",
       "<path class=\"bond-1 atom-1 atom-2\" d=\"M 117.1,458.3 L 101.8,430.5\" style=\"fill:none;fill-rule:evenodd;stroke:#000000;stroke-width:2.0px;stroke-linecap:butt;stroke-linejoin:miter;stroke-opacity:1\"/>\n",
       "<path class=\"bond-1 atom-1 atom-2\" d=\"M 119.9,453.6 L 107.3,430.6\" style=\"fill:none;fill-rule:evenodd;stroke:#000000;stroke-width:2.0px;stroke-linecap:butt;stroke-linejoin:miter;stroke-opacity:1\"/>\n",
       "<path class=\"bond-2 atom-2 atom-3\" d=\"M 101.8,430.5 L 118.2,403.3\" style=\"fill:none;fill-rule:evenodd;stroke:#000000;stroke-width:2.0px;stroke-linecap:butt;stroke-linejoin:miter;stroke-opacity:1\"/>\n",
       "<path class=\"bond-3 atom-3 atom-4\" d=\"M 118.2,403.3 L 149.9,403.9\" style=\"fill:none;fill-rule:evenodd;stroke:#000000;stroke-width:2.0px;stroke-linecap:butt;stroke-linejoin:miter;stroke-opacity:1\"/>\n",
       "<path class=\"bond-3 atom-3 atom-4\" d=\"M 120.8,408.1 L 147.1,408.6\" style=\"fill:none;fill-rule:evenodd;stroke:#000000;stroke-width:2.0px;stroke-linecap:butt;stroke-linejoin:miter;stroke-opacity:1\"/>\n",
       "<path class=\"bond-4 atom-4 atom-5\" d=\"M 149.9,403.9 L 165.3,431.7\" style=\"fill:none;fill-rule:evenodd;stroke:#000000;stroke-width:2.0px;stroke-linecap:butt;stroke-linejoin:miter;stroke-opacity:1\"/>\n",
       "<path class=\"bond-5 atom-5 atom-6\" d=\"M 165.3,431.7 L 148.9,458.9\" style=\"fill:none;fill-rule:evenodd;stroke:#000000;stroke-width:2.0px;stroke-linecap:butt;stroke-linejoin:miter;stroke-opacity:1\"/>\n",
       "<path class=\"bond-5 atom-5 atom-6\" d=\"M 159.8,431.6 L 146.2,454.1\" style=\"fill:none;fill-rule:evenodd;stroke:#000000;stroke-width:2.0px;stroke-linecap:butt;stroke-linejoin:miter;stroke-opacity:1\"/>\n",
       "<path class=\"bond-6 atom-6 atom-1\" d=\"M 148.9,458.9 L 117.1,458.3\" style=\"fill:none;fill-rule:evenodd;stroke:#000000;stroke-width:2.0px;stroke-linecap:butt;stroke-linejoin:miter;stroke-opacity:1\"/>\n",
       "<path class=\"bond-7 atom-7 atom-8\" d=\"M 70.0,429.9 L 42.8,429.3\" style=\"fill:none;fill-rule:evenodd;stroke:#000000;stroke-width:2.0px;stroke-linecap:butt;stroke-linejoin:miter;stroke-opacity:1\"/>\n",
       "<path class=\"bond-8 atom-7 atom-9\" d=\"M 70.0,429.9 L 70.5,403.6\" style=\"fill:none;fill-rule:evenodd;stroke:#000000;stroke-width:2.0px;stroke-linecap:butt;stroke-linejoin:miter;stroke-opacity:1\"/>\n",
       "<path class=\"bond-9 atom-7 atom-10\" d=\"M 70.0,429.9 L 69.5,456.1\" style=\"fill:none;fill-rule:evenodd;stroke:#000000;stroke-width:2.0px;stroke-linecap:butt;stroke-linejoin:miter;stroke-opacity:1\"/>\n",
       "<path class=\"bond-10 atom-2 atom-7\" d=\"M 101.8,430.5 L 70.0,429.9\" style=\"fill:none;fill-rule:evenodd;stroke:#000000;stroke-width:2.0px;stroke-linecap:butt;stroke-linejoin:miter;stroke-opacity:1\"/>\n",
       "<path d=\"M 117.3,404.6 L 118.2,403.3 L 119.8,403.3\" style=\"fill:none;stroke:#000000;stroke-width:2.0px;stroke-linecap:butt;stroke-linejoin:miter;stroke-miterlimit:10;stroke-opacity:1;\"/>\n",
       "<path d=\"M 148.3,403.9 L 149.9,403.9 L 150.7,405.3\" style=\"fill:none;stroke:#000000;stroke-width:2.0px;stroke-linecap:butt;stroke-linejoin:miter;stroke-miterlimit:10;stroke-opacity:1;\"/>\n",
       "<path d=\"M 164.5,430.3 L 165.3,431.7 L 164.4,433.0\" style=\"fill:none;stroke:#000000;stroke-width:2.0px;stroke-linecap:butt;stroke-linejoin:miter;stroke-miterlimit:10;stroke-opacity:1;\"/>\n",
       "<path d=\"M 149.7,457.5 L 148.9,458.9 L 147.3,458.8\" style=\"fill:none;stroke:#000000;stroke-width:2.0px;stroke-linecap:butt;stroke-linejoin:miter;stroke-miterlimit:10;stroke-opacity:1;\"/>\n",
       "<path class=\"atom-0\" d=\"M 92.3 485.8 Q 92.3 483.5, 93.3 482.4 Q 94.4 481.2, 96.4 481.2 Q 98.2 481.2, 99.2 482.5 L 98.4 483.2 Q 97.6 482.2, 96.4 482.2 Q 95.0 482.2, 94.3 483.1 Q 93.6 484.0, 93.6 485.8 Q 93.6 487.5, 94.3 488.5 Q 95.0 489.4, 96.5 489.4 Q 97.5 489.4, 98.6 488.8 L 99.0 489.7 Q 98.5 490.0, 97.8 490.2 Q 97.1 490.4, 96.3 490.4 Q 94.4 490.4, 93.3 489.2 Q 92.3 488.0, 92.3 485.8 \" fill=\"#00CC00\"/>\n",
       "<path class=\"atom-0\" d=\"M 100.1 480.6 L 101.3 480.6 L 101.3 490.3 L 100.1 490.3 L 100.1 480.6 \" fill=\"#00CC00\"/>\n",
       "<path class=\"atom-8\" d=\"M 34.7 424.7 L 36.0 424.7 L 36.0 428.6 L 40.6 428.6 L 40.6 424.7 L 41.8 424.7 L 41.8 433.7 L 40.6 433.7 L 40.6 429.6 L 36.0 429.6 L 36.0 433.7 L 34.7 433.7 L 34.7 424.7 \" fill=\"#000000\"/>\n",
       "<path class=\"atom-9\" d=\"M 67.1 393.6 L 68.3 393.6 L 68.3 397.4 L 72.9 397.4 L 72.9 393.6 L 74.1 393.6 L 74.1 402.6 L 72.9 402.6 L 72.9 398.4 L 68.3 398.4 L 68.3 402.6 L 67.1 402.6 L 67.1 393.6 \" fill=\"#000000\"/>\n",
       "<path class=\"atom-10\" d=\"M 65.9 457.1 L 67.1 457.1 L 67.1 460.9 L 71.7 460.9 L 71.7 457.1 L 72.9 457.1 L 72.9 466.1 L 71.7 466.1 L 71.7 461.9 L 67.1 461.9 L 67.1 466.1 L 65.9 466.1 L 65.9 457.1 \" fill=\"#000000\"/>\n",
       "<path class=\"legend\" d=\"M 88.1 526.7 Q 88.1 524.7, 89.1 523.6 Q 90.1 522.5, 92.0 522.5 Q 93.9 522.5, 94.9 523.6 Q 95.9 524.7, 95.9 526.7 Q 95.9 528.7, 94.9 529.9 Q 93.9 531.0, 92.0 531.0 Q 90.1 531.0, 89.1 529.9 Q 88.1 528.7, 88.1 526.7 M 89.6 526.7 Q 89.6 528.2, 90.2 529.0 Q 90.9 529.8, 92.0 529.8 Q 93.1 529.8, 93.8 529.0 Q 94.4 528.2, 94.4 526.7 Q 94.4 525.2, 93.8 524.5 Q 93.1 523.7, 92.0 523.7 Q 90.9 523.7, 90.2 524.5 Q 89.6 525.2, 89.6 526.7 \" fill=\"#000000\"/>\n",
       "<path class=\"legend\" d=\"M 104.3 522.6 L 104.3 530.9 L 103.1 530.9 L 102.9 529.7 Q 101.8 531.0, 100.1 531.0 Q 98.7 531.0, 98.0 530.3 Q 97.3 529.5, 97.3 528.1 L 97.3 522.6 L 98.8 522.6 L 98.8 528.0 Q 98.8 528.9, 99.2 529.4 Q 99.6 529.8, 100.4 529.8 Q 101.2 529.8, 101.8 529.5 Q 102.4 529.1, 102.8 528.5 L 102.8 522.6 L 104.3 522.6 \" fill=\"#000000\"/>\n",
       "<path class=\"legend\" d=\"M 106.3 523.8 L 106.3 522.6 L 107.9 522.6 L 108.1 520.2 L 109.3 520.2 L 109.3 522.6 L 111.8 522.6 L 111.8 523.8 L 109.3 523.8 L 109.3 528.3 Q 109.3 529.8, 110.5 529.8 Q 110.9 529.8, 111.6 529.5 L 111.9 530.6 Q 111.0 531.0, 110.2 531.0 Q 109.1 531.0, 108.4 530.3 Q 107.8 529.7, 107.8 528.4 L 107.8 523.8 L 106.3 523.8 \" fill=\"#000000\"/>\n",
       "<path class=\"bond-0 atom-0 atom-1\" d=\"M 349.4,469.5 L 317.6,469.5\" style=\"fill:none;fill-rule:evenodd;stroke:#000000;stroke-width:2.0px;stroke-linecap:butt;stroke-linejoin:miter;stroke-opacity:1\"/>\n",
       "<path class=\"bond-0 atom-0 atom-1\" d=\"M 346.6,464.7 L 320.4,464.7\" style=\"fill:none;fill-rule:evenodd;stroke:#000000;stroke-width:2.0px;stroke-linecap:butt;stroke-linejoin:miter;stroke-opacity:1\"/>\n",
       "<path class=\"bond-1 atom-1 atom-2\" d=\"M 317.6,469.5 L 301.8,442.0\" style=\"fill:none;fill-rule:evenodd;stroke:#000000;stroke-width:2.0px;stroke-linecap:butt;stroke-linejoin:miter;stroke-opacity:1\"/>\n",
       "<path class=\"bond-2 atom-2 atom-3\" d=\"M 301.8,442.0 L 308.1,431.0\" style=\"fill:none;fill-rule:evenodd;stroke:#000000;stroke-width:2.0px;stroke-linecap:butt;stroke-linejoin:miter;stroke-opacity:1\"/>\n",
       "<path class=\"bond-2 atom-2 atom-3\" d=\"M 308.1,431.0 L 314.4,420.0\" style=\"fill:none;fill-rule:evenodd;stroke:#0000FF;stroke-width:2.0px;stroke-linecap:butt;stroke-linejoin:miter;stroke-opacity:1\"/>\n",
       "<path class=\"bond-2 atom-2 atom-3\" d=\"M 307.3,442.0 L 312.9,432.2\" style=\"fill:none;fill-rule:evenodd;stroke:#000000;stroke-width:2.0px;stroke-linecap:butt;stroke-linejoin:miter;stroke-opacity:1\"/>\n",
       "<path class=\"bond-2 atom-2 atom-3\" d=\"M 312.9,432.2 L 318.6,422.4\" style=\"fill:none;fill-rule:evenodd;stroke:#0000FF;stroke-width:2.0px;stroke-linecap:butt;stroke-linejoin:miter;stroke-opacity:1\"/>\n",
       "<path class=\"bond-3 atom-3 atom-4\" d=\"M 322.1,414.5 L 335.7,414.5\" style=\"fill:none;fill-rule:evenodd;stroke:#0000FF;stroke-width:2.0px;stroke-linecap:butt;stroke-linejoin:miter;stroke-opacity:1\"/>\n",
       "<path class=\"bond-3 atom-3 atom-4\" d=\"M 335.7,414.5 L 349.4,414.5\" style=\"fill:none;fill-rule:evenodd;stroke:#000000;stroke-width:2.0px;stroke-linecap:butt;stroke-linejoin:miter;stroke-opacity:1\"/>\n",
       "<path class=\"bond-4 atom-4 atom-5\" d=\"M 349.4,414.5 L 365.3,442.0\" style=\"fill:none;fill-rule:evenodd;stroke:#000000;stroke-width:2.0px;stroke-linecap:butt;stroke-linejoin:miter;stroke-opacity:1\"/>\n",
       "<path class=\"bond-4 atom-4 atom-5\" d=\"M 346.6,419.3 L 359.8,442.0\" style=\"fill:none;fill-rule:evenodd;stroke:#000000;stroke-width:2.0px;stroke-linecap:butt;stroke-linejoin:miter;stroke-opacity:1\"/>\n",
       "<path class=\"bond-5 atom-5 atom-0\" d=\"M 365.3,442.0 L 349.4,469.5\" style=\"fill:none;fill-rule:evenodd;stroke:#000000;stroke-width:2.0px;stroke-linecap:butt;stroke-linejoin:miter;stroke-opacity:1\"/>\n",
       "<path class=\"bond-6 atom-6 atom-7\" d=\"M 270.0,442.0 L 242.8,442.0\" style=\"fill:none;fill-rule:evenodd;stroke:#000000;stroke-width:2.0px;stroke-linecap:butt;stroke-linejoin:miter;stroke-opacity:1\"/>\n",
       "<path class=\"bond-7 atom-6 atom-8\" d=\"M 270.0,442.0 L 270.0,415.8\" style=\"fill:none;fill-rule:evenodd;stroke:#000000;stroke-width:2.0px;stroke-linecap:butt;stroke-linejoin:miter;stroke-opacity:1\"/>\n",
       "<path class=\"bond-8 atom-6 atom-9\" d=\"M 270.0,442.0 L 270.0,468.2\" style=\"fill:none;fill-rule:evenodd;stroke:#000000;stroke-width:2.0px;stroke-linecap:butt;stroke-linejoin:miter;stroke-opacity:1\"/>\n",
       "<path class=\"bond-9 atom-2 atom-6\" d=\"M 301.8,442.0 L 270.0,442.0\" style=\"fill:none;fill-rule:evenodd;stroke:#000000;stroke-width:2.0px;stroke-linecap:butt;stroke-linejoin:miter;stroke-opacity:1\"/>\n",
       "<path d=\"M 347.8,469.5 L 349.4,469.5 L 350.2,468.1\" style=\"fill:none;stroke:#000000;stroke-width:2.0px;stroke-linecap:butt;stroke-linejoin:miter;stroke-miterlimit:10;stroke-opacity:1;\"/>\n",
       "<path d=\"M 319.2,469.5 L 317.6,469.5 L 316.8,468.1\" style=\"fill:none;stroke:#000000;stroke-width:2.0px;stroke-linecap:butt;stroke-linejoin:miter;stroke-miterlimit:10;stroke-opacity:1;\"/>\n",
       "<path d=\"M 348.7,414.5 L 349.4,414.5 L 350.2,415.9\" style=\"fill:none;stroke:#000000;stroke-width:2.0px;stroke-linecap:butt;stroke-linejoin:miter;stroke-miterlimit:10;stroke-opacity:1;\"/>\n",
       "<path d=\"M 364.5,440.6 L 365.3,442.0 L 364.5,443.4\" style=\"fill:none;stroke:#000000;stroke-width:2.0px;stroke-linecap:butt;stroke-linejoin:miter;stroke-miterlimit:10;stroke-opacity:1;\"/>\n",
       "<path class=\"atom-3\" d=\"M 315.6 410.0 L 318.6 414.8 Q 318.9 415.2, 319.4 416.1 Q 319.8 416.9, 319.9 417.0 L 319.9 410.0 L 321.0 410.0 L 321.0 419.0 L 319.8 419.0 L 316.7 413.8 Q 316.3 413.2, 315.9 412.5 Q 315.5 411.8, 315.4 411.6 L 315.4 419.0 L 314.2 419.0 L 314.2 410.0 L 315.6 410.0 \" fill=\"#0000FF\"/>\n",
       "<path class=\"atom-7\" d=\"M 234.7 437.5 L 235.9 437.5 L 235.9 441.3 L 240.5 441.3 L 240.5 437.5 L 241.8 437.5 L 241.8 446.5 L 240.5 446.5 L 240.5 442.3 L 235.9 442.3 L 235.9 446.5 L 234.7 446.5 L 234.7 437.5 \" fill=\"#000000\"/>\n",
       "<path class=\"atom-8\" d=\"M 266.5 405.7 L 267.7 405.7 L 267.7 409.6 L 272.3 409.6 L 272.3 405.7 L 273.5 405.7 L 273.5 414.7 L 272.3 414.7 L 272.3 410.6 L 267.7 410.6 L 267.7 414.7 L 266.5 414.7 L 266.5 405.7 \" fill=\"#000000\"/>\n",
       "<path class=\"atom-9\" d=\"M 266.5 469.3 L 267.7 469.3 L 267.7 473.1 L 272.3 473.1 L 272.3 469.3 L 273.5 469.3 L 273.5 478.3 L 272.3 478.3 L 272.3 474.1 L 267.7 474.1 L 267.7 478.3 L 266.5 478.3 L 266.5 469.3 \" fill=\"#000000\"/>\n",
       "<path class=\"legend\" d=\"M 288.1 526.7 Q 288.1 524.7, 289.1 523.6 Q 290.1 522.5, 292.0 522.5 Q 293.9 522.5, 294.9 523.6 Q 295.9 524.7, 295.9 526.7 Q 295.9 528.7, 294.9 529.9 Q 293.9 531.0, 292.0 531.0 Q 290.1 531.0, 289.1 529.9 Q 288.1 528.7, 288.1 526.7 M 289.6 526.7 Q 289.6 528.2, 290.2 529.0 Q 290.9 529.8, 292.0 529.8 Q 293.1 529.8, 293.8 529.0 Q 294.4 528.2, 294.4 526.7 Q 294.4 525.2, 293.8 524.5 Q 293.1 523.7, 292.0 523.7 Q 290.9 523.7, 290.2 524.5 Q 289.6 525.2, 289.6 526.7 \" fill=\"#000000\"/>\n",
       "<path class=\"legend\" d=\"M 304.3 522.6 L 304.3 530.9 L 303.1 530.9 L 302.9 529.7 Q 301.8 531.0, 300.1 531.0 Q 298.7 531.0, 298.0 530.3 Q 297.3 529.5, 297.3 528.1 L 297.3 522.6 L 298.8 522.6 L 298.8 528.0 Q 298.8 528.9, 299.2 529.4 Q 299.6 529.8, 300.4 529.8 Q 301.2 529.8, 301.8 529.5 Q 302.4 529.1, 302.8 528.5 L 302.8 522.6 L 304.3 522.6 \" fill=\"#000000\"/>\n",
       "<path class=\"legend\" d=\"M 306.3 523.8 L 306.3 522.6 L 307.9 522.6 L 308.1 520.2 L 309.3 520.2 L 309.3 522.6 L 311.8 522.6 L 311.8 523.8 L 309.3 523.8 L 309.3 528.3 Q 309.3 529.8, 310.5 529.8 Q 310.9 529.8, 311.6 529.5 L 311.9 530.6 Q 311.0 531.0, 310.2 531.0 Q 309.1 531.0, 308.4 530.3 Q 307.8 529.7, 307.8 528.4 L 307.8 523.8 L 306.3 523.8 \" fill=\"#000000\"/>\n",
       "<path class=\"bond-0 atom-0 atom-1\" d=\"M 508.6,476.0 L 504.5,463.0\" style=\"fill:none;fill-rule:evenodd;stroke:#FF0000;stroke-width:2.0px;stroke-linecap:butt;stroke-linejoin:miter;stroke-opacity:1\"/>\n",
       "<path class=\"bond-0 atom-0 atom-1\" d=\"M 504.5,463.0 L 500.3,450.0\" style=\"fill:none;fill-rule:evenodd;stroke:#000000;stroke-width:2.0px;stroke-linecap:butt;stroke-linejoin:miter;stroke-opacity:1\"/>\n",
       "<path class=\"bond-0 atom-0 atom-1\" d=\"M 513.1,474.5 L 509.0,461.5\" style=\"fill:none;fill-rule:evenodd;stroke:#FF0000;stroke-width:2.0px;stroke-linecap:butt;stroke-linejoin:miter;stroke-opacity:1\"/>\n",
       "<path class=\"bond-0 atom-0 atom-1\" d=\"M 509.0,461.5 L 504.9,448.5\" style=\"fill:none;fill-rule:evenodd;stroke:#000000;stroke-width:2.0px;stroke-linecap:butt;stroke-linejoin:miter;stroke-opacity:1\"/>\n",
       "<path class=\"bond-1 atom-1 atom-2\" d=\"M 503.0,450.6 L 511.2,441.7\" style=\"fill:none;fill-rule:evenodd;stroke:#000000;stroke-width:2.0px;stroke-linecap:butt;stroke-linejoin:miter;stroke-opacity:1\"/>\n",
       "<path class=\"bond-1 atom-1 atom-2\" d=\"M 511.2,441.7 L 519.3,432.8\" style=\"fill:none;fill-rule:evenodd;stroke:#FF0000;stroke-width:2.0px;stroke-linecap:butt;stroke-linejoin:miter;stroke-opacity:1\"/>\n",
       "<path class=\"bond-2 atom-1 atom-3\" d=\"M 503.0,450.6 L 472.0,443.7\" style=\"fill:none;fill-rule:evenodd;stroke:#000000;stroke-width:2.0px;stroke-linecap:butt;stroke-linejoin:miter;stroke-opacity:1\"/>\n",
       "<path class=\"bond-3 atom-3 atom-4\" d=\"M 472.0,443.7 L 450.6,467.1\" style=\"fill:none;fill-rule:evenodd;stroke:#000000;stroke-width:2.0px;stroke-linecap:butt;stroke-linejoin:miter;stroke-opacity:1\"/>\n",
       "<path class=\"bond-3 atom-3 atom-4\" d=\"M 466.6,442.5 L 448.9,461.9\" style=\"fill:none;fill-rule:evenodd;stroke:#000000;stroke-width:2.0px;stroke-linecap:butt;stroke-linejoin:miter;stroke-opacity:1\"/>\n",
       "<path class=\"bond-4 atom-4 atom-5\" d=\"M 450.6,467.1 L 419.6,460.3\" style=\"fill:none;fill-rule:evenodd;stroke:#000000;stroke-width:2.0px;stroke-linecap:butt;stroke-linejoin:miter;stroke-opacity:1\"/>\n",
       "<path class=\"bond-5 atom-5 atom-6\" d=\"M 419.6,460.3 L 410.0,430.0\" style=\"fill:none;fill-rule:evenodd;stroke:#000000;stroke-width:2.0px;stroke-linecap:butt;stroke-linejoin:miter;stroke-opacity:1\"/>\n",
       "<path class=\"bond-5 atom-5 atom-6\" d=\"M 423.3,456.2 L 415.4,431.2\" style=\"fill:none;fill-rule:evenodd;stroke:#000000;stroke-width:2.0px;stroke-linecap:butt;stroke-linejoin:miter;stroke-opacity:1\"/>\n",
       "<path class=\"bond-6 atom-6 atom-7\" d=\"M 410.0,430.0 L 431.4,406.6\" style=\"fill:none;fill-rule:evenodd;stroke:#000000;stroke-width:2.0px;stroke-linecap:butt;stroke-linejoin:miter;stroke-opacity:1\"/>\n",
       "<path class=\"bond-7 atom-7 atom-8\" d=\"M 431.4,406.6 L 462.4,413.4\" style=\"fill:none;fill-rule:evenodd;stroke:#000000;stroke-width:2.0px;stroke-linecap:butt;stroke-linejoin:miter;stroke-opacity:1\"/>\n",
       "<path class=\"bond-7 atom-7 atom-8\" d=\"M 433.1,411.8 L 458.7,417.5\" style=\"fill:none;fill-rule:evenodd;stroke:#000000;stroke-width:2.0px;stroke-linecap:butt;stroke-linejoin:miter;stroke-opacity:1\"/>\n",
       "<path class=\"bond-8 atom-8 atom-3\" d=\"M 462.4,413.4 L 472.0,443.7\" style=\"fill:none;fill-rule:evenodd;stroke:#000000;stroke-width:2.0px;stroke-linecap:butt;stroke-linejoin:miter;stroke-opacity:1\"/>\n",
       "<path class=\"bond-9 atom-9 atom-10\" d=\"M 555.5,434.0 L 581.9,439.8\" style=\"fill:none;fill-rule:evenodd;stroke:#000000;stroke-width:2.0px;stroke-linecap:butt;stroke-linejoin:miter;stroke-opacity:1\"/>\n",
       "<path class=\"bond-10 atom-9 atom-11\" d=\"M 555.5,434.0 L 561.1,408.5\" style=\"fill:none;fill-rule:evenodd;stroke:#000000;stroke-width:2.0px;stroke-linecap:butt;stroke-linejoin:miter;stroke-opacity:1\"/>\n",
       "<path class=\"bond-11 atom-9 atom-12\" d=\"M 555.5,434.0 L 549.8,459.4\" style=\"fill:none;fill-rule:evenodd;stroke:#000000;stroke-width:2.0px;stroke-linecap:butt;stroke-linejoin:miter;stroke-opacity:1\"/>\n",
       "<path class=\"bond-12 atom-2 atom-9\" d=\"M 529.6,428.3 L 542.6,431.1\" style=\"fill:none;fill-rule:evenodd;stroke:#FF0000;stroke-width:2.0px;stroke-linecap:butt;stroke-linejoin:miter;stroke-opacity:1\"/>\n",
       "<path class=\"bond-12 atom-2 atom-9\" d=\"M 542.6,431.1 L 555.5,434.0\" style=\"fill:none;fill-rule:evenodd;stroke:#000000;stroke-width:2.0px;stroke-linecap:butt;stroke-linejoin:miter;stroke-opacity:1\"/>\n",
       "<path d=\"M 503.4,450.1 L 503.0,450.6 L 501.5,450.2\" style=\"fill:none;stroke:#000000;stroke-width:2.0px;stroke-linecap:butt;stroke-linejoin:miter;stroke-miterlimit:10;stroke-opacity:1;\"/>\n",
       "<path d=\"M 451.7,466.0 L 450.6,467.1 L 449.0,466.8\" style=\"fill:none;stroke:#000000;stroke-width:2.0px;stroke-linecap:butt;stroke-linejoin:miter;stroke-miterlimit:10;stroke-opacity:1;\"/>\n",
       "<path d=\"M 421.1,460.6 L 419.6,460.3 L 419.1,458.8\" style=\"fill:none;stroke:#000000;stroke-width:2.0px;stroke-linecap:butt;stroke-linejoin:miter;stroke-miterlimit:10;stroke-opacity:1;\"/>\n",
       "<path d=\"M 410.5,431.5 L 410.0,430.0 L 411.1,428.8\" style=\"fill:none;stroke:#000000;stroke-width:2.0px;stroke-linecap:butt;stroke-linejoin:miter;stroke-miterlimit:10;stroke-opacity:1;\"/>\n",
       "<path d=\"M 430.4,407.8 L 431.4,406.6 L 433.0,406.9\" style=\"fill:none;stroke:#000000;stroke-width:2.0px;stroke-linecap:butt;stroke-linejoin:miter;stroke-miterlimit:10;stroke-opacity:1;\"/>\n",
       "<path d=\"M 460.9,413.1 L 462.4,413.4 L 462.9,414.9\" style=\"fill:none;stroke:#000000;stroke-width:2.0px;stroke-linecap:butt;stroke-linejoin:miter;stroke-miterlimit:10;stroke-opacity:1;\"/>\n",
       "<path class=\"atom-0\" d=\"M 508.5 480.9 Q 508.5 478.7, 509.5 477.5 Q 510.6 476.3, 512.6 476.3 Q 514.6 476.3, 515.7 477.5 Q 516.7 478.7, 516.7 480.9 Q 516.7 483.0, 515.6 484.3 Q 514.6 485.5, 512.6 485.5 Q 510.6 485.5, 509.5 484.3 Q 508.5 483.1, 508.5 480.9 M 512.6 484.5 Q 514.0 484.5, 514.7 483.6 Q 515.5 482.7, 515.5 480.9 Q 515.5 479.1, 514.7 478.2 Q 514.0 477.3, 512.6 477.3 Q 511.2 477.3, 510.5 478.2 Q 509.7 479.1, 509.7 480.9 Q 509.7 482.7, 510.5 483.6 Q 511.2 484.5, 512.6 484.5 \" fill=\"#FF0000\"/>\n",
       "<path class=\"atom-2\" d=\"M 520.3 427.2 Q 520.3 425.0, 521.4 423.8 Q 522.5 422.6, 524.5 422.6 Q 526.5 422.6, 527.5 423.8 Q 528.6 425.0, 528.6 427.2 Q 528.6 429.3, 527.5 430.6 Q 526.4 431.8, 524.5 431.8 Q 522.5 431.8, 521.4 430.6 Q 520.3 429.4, 520.3 427.2 M 524.5 430.8 Q 525.8 430.8, 526.6 429.9 Q 527.3 429.0, 527.3 427.2 Q 527.3 425.4, 526.6 424.5 Q 525.8 423.6, 524.5 423.6 Q 523.1 423.6, 522.3 424.5 Q 521.6 425.4, 521.6 427.2 Q 521.6 429.0, 522.3 429.9 Q 523.1 430.8, 524.5 430.8 \" fill=\"#FF0000\"/>\n",
       "<path class=\"atom-10\" d=\"M 583.0 436.3 L 584.2 436.3 L 584.2 440.2 L 588.8 440.2 L 588.8 436.3 L 590.0 436.3 L 590.0 445.3 L 588.8 445.3 L 588.8 441.2 L 584.2 441.2 L 584.2 445.3 L 583.0 445.3 L 583.0 436.3 \" fill=\"#000000\"/>\n",
       "<path class=\"atom-11\" d=\"M 558.8 398.5 L 560.0 398.5 L 560.0 402.3 L 564.6 402.3 L 564.6 398.5 L 565.8 398.5 L 565.8 407.5 L 564.6 407.5 L 564.6 403.3 L 560.0 403.3 L 560.0 407.5 L 558.8 407.5 L 558.8 398.5 \" fill=\"#000000\"/>\n",
       "<path class=\"atom-12\" d=\"M 545.1 460.5 L 546.3 460.5 L 546.3 464.3 L 550.9 464.3 L 550.9 460.5 L 552.1 460.5 L 552.1 469.5 L 550.9 469.5 L 550.9 465.3 L 546.3 465.3 L 546.3 469.5 L 545.1 469.5 L 545.1 460.5 \" fill=\"#000000\"/>\n",
       "<path class=\"legend\" d=\"M 488.1 526.7 Q 488.1 524.7, 489.1 523.6 Q 490.1 522.5, 492.0 522.5 Q 493.9 522.5, 494.9 523.6 Q 495.9 524.7, 495.9 526.7 Q 495.9 528.7, 494.9 529.9 Q 493.9 531.0, 492.0 531.0 Q 490.1 531.0, 489.1 529.9 Q 488.1 528.7, 488.1 526.7 M 489.6 526.7 Q 489.6 528.2, 490.2 529.0 Q 490.9 529.8, 492.0 529.8 Q 493.1 529.8, 493.8 529.0 Q 494.4 528.2, 494.4 526.7 Q 494.4 525.2, 493.8 524.5 Q 493.1 523.7, 492.0 523.7 Q 490.9 523.7, 490.2 524.5 Q 489.6 525.2, 489.6 526.7 \" fill=\"#000000\"/>\n",
       "<path class=\"legend\" d=\"M 504.3 522.6 L 504.3 530.9 L 503.1 530.9 L 502.9 529.7 Q 501.8 531.0, 500.1 531.0 Q 498.7 531.0, 498.0 530.3 Q 497.3 529.5, 497.3 528.1 L 497.3 522.6 L 498.8 522.6 L 498.8 528.0 Q 498.8 528.9, 499.2 529.4 Q 499.6 529.8, 500.4 529.8 Q 501.2 529.8, 501.8 529.5 Q 502.4 529.1, 502.8 528.5 L 502.8 522.6 L 504.3 522.6 \" fill=\"#000000\"/>\n",
       "<path class=\"legend\" d=\"M 506.3 523.8 L 506.3 522.6 L 507.9 522.6 L 508.1 520.2 L 509.3 520.2 L 509.3 522.6 L 511.8 522.6 L 511.8 523.8 L 509.3 523.8 L 509.3 528.3 Q 509.3 529.8, 510.5 529.8 Q 510.9 529.8, 511.6 529.5 L 511.9 530.6 Q 511.0 531.0, 510.2 531.0 Q 509.1 531.0, 508.4 530.3 Q 507.8 529.7, 507.8 528.4 L 507.8 523.8 L 506.3 523.8 \" fill=\"#000000\"/>\n",
       "<path class=\"bond-0 atom-0 atom-1\" d=\"M 758.2,483.2 L 745.0,481.9\" style=\"fill:none;fill-rule:evenodd;stroke:#FF0000;stroke-width:2.0px;stroke-linecap:butt;stroke-linejoin:miter;stroke-opacity:1\"/>\n",
       "<path class=\"bond-0 atom-0 atom-1\" d=\"M 745.0,481.9 L 731.8,480.5\" style=\"fill:none;fill-rule:evenodd;stroke:#000000;stroke-width:2.0px;stroke-linecap:butt;stroke-linejoin:miter;stroke-opacity:1\"/>\n",
       "<path class=\"bond-1 atom-1 atom-2\" d=\"M 731.8,480.5 L 718.8,451.5\" style=\"fill:none;fill-rule:evenodd;stroke:#000000;stroke-width:2.0px;stroke-linecap:butt;stroke-linejoin:miter;stroke-opacity:1\"/>\n",
       "<path class=\"bond-2 atom-2 atom-3\" d=\"M 718.8,451.5 L 687.2,448.3\" style=\"fill:none;fill-rule:evenodd;stroke:#000000;stroke-width:2.0px;stroke-linecap:butt;stroke-linejoin:miter;stroke-opacity:1\"/>\n",
       "<path class=\"bond-3 atom-3 atom-4\" d=\"M 687.2,448.3 L 668.6,474.1\" style=\"fill:none;fill-rule:evenodd;stroke:#000000;stroke-width:2.0px;stroke-linecap:butt;stroke-linejoin:miter;stroke-opacity:1\"/>\n",
       "<path class=\"bond-3 atom-3 atom-4\" d=\"M 681.7,447.8 L 666.4,469.0\" style=\"fill:none;fill-rule:evenodd;stroke:#000000;stroke-width:2.0px;stroke-linecap:butt;stroke-linejoin:miter;stroke-opacity:1\"/>\n",
       "<path class=\"bond-4 atom-4 atom-5\" d=\"M 668.6,474.1 L 637.0,470.8\" style=\"fill:none;fill-rule:evenodd;stroke:#000000;stroke-width:2.0px;stroke-linecap:butt;stroke-linejoin:miter;stroke-opacity:1\"/>\n",
       "<path class=\"bond-5 atom-5 atom-6\" d=\"M 637.0,470.8 L 624.0,441.9\" style=\"fill:none;fill-rule:evenodd;stroke:#000000;stroke-width:2.0px;stroke-linecap:butt;stroke-linejoin:miter;stroke-opacity:1\"/>\n",
       "<path class=\"bond-5 atom-5 atom-6\" d=\"M 640.3,466.4 L 629.5,442.4\" style=\"fill:none;fill-rule:evenodd;stroke:#000000;stroke-width:2.0px;stroke-linecap:butt;stroke-linejoin:miter;stroke-opacity:1\"/>\n",
       "<path class=\"bond-6 atom-6 atom-7\" d=\"M 624.0,441.9 L 642.6,416.1\" style=\"fill:none;fill-rule:evenodd;stroke:#000000;stroke-width:2.0px;stroke-linecap:butt;stroke-linejoin:miter;stroke-opacity:1\"/>\n",
       "<path class=\"bond-7 atom-7 atom-8\" d=\"M 642.6,416.1 L 674.2,419.3\" style=\"fill:none;fill-rule:evenodd;stroke:#000000;stroke-width:2.0px;stroke-linecap:butt;stroke-linejoin:miter;stroke-opacity:1\"/>\n",
       "<path class=\"bond-7 atom-7 atom-8\" d=\"M 644.9,421.1 L 671.0,423.8\" style=\"fill:none;fill-rule:evenodd;stroke:#000000;stroke-width:2.0px;stroke-linecap:butt;stroke-linejoin:miter;stroke-opacity:1\"/>\n",
       "<path class=\"bond-8 atom-8 atom-3\" d=\"M 674.2,419.3 L 687.2,448.3\" style=\"fill:none;fill-rule:evenodd;stroke:#000000;stroke-width:2.0px;stroke-linecap:butt;stroke-linejoin:miter;stroke-opacity:1\"/>\n",
       "<path class=\"bond-9 atom-9 atom-10\" d=\"M 737.4,425.8 L 752.0,405.6\" style=\"fill:none;fill-rule:evenodd;stroke:#000000;stroke-width:2.0px;stroke-linecap:butt;stroke-linejoin:miter;stroke-opacity:1\"/>\n",
       "<path class=\"bond-10 atom-9 atom-11\" d=\"M 737.4,425.8 L 758.6,441.1\" style=\"fill:none;fill-rule:evenodd;stroke:#000000;stroke-width:2.0px;stroke-linecap:butt;stroke-linejoin:miter;stroke-opacity:1\"/>\n",
       "<path class=\"bond-11 atom-9 atom-12\" d=\"M 737.4,425.8 L 716.2,410.5\" style=\"fill:none;fill-rule:evenodd;stroke:#000000;stroke-width:2.0px;stroke-linecap:butt;stroke-linejoin:miter;stroke-opacity:1\"/>\n",
       "<path class=\"bond-12 atom-2 atom-9\" d=\"M 718.8,451.5 L 737.4,425.8\" style=\"fill:none;fill-rule:evenodd;stroke:#000000;stroke-width:2.0px;stroke-linecap:butt;stroke-linejoin:miter;stroke-opacity:1\"/>\n",
       "<path d=\"M 732.5,480.6 L 731.8,480.5 L 731.2,479.1\" style=\"fill:none;stroke:#000000;stroke-width:2.0px;stroke-linecap:butt;stroke-linejoin:miter;stroke-miterlimit:10;stroke-opacity:1;\"/>\n",
       "<path d=\"M 669.6,472.8 L 668.6,474.1 L 667.0,473.9\" style=\"fill:none;stroke:#000000;stroke-width:2.0px;stroke-linecap:butt;stroke-linejoin:miter;stroke-miterlimit:10;stroke-opacity:1;\"/>\n",
       "<path d=\"M 638.6,471.0 L 637.0,470.8 L 636.4,469.4\" style=\"fill:none;stroke:#000000;stroke-width:2.0px;stroke-linecap:butt;stroke-linejoin:miter;stroke-miterlimit:10;stroke-opacity:1;\"/>\n",
       "<path d=\"M 624.7,443.3 L 624.0,441.9 L 625.0,440.6\" style=\"fill:none;stroke:#000000;stroke-width:2.0px;stroke-linecap:butt;stroke-linejoin:miter;stroke-miterlimit:10;stroke-opacity:1;\"/>\n",
       "<path d=\"M 641.7,417.4 L 642.6,416.1 L 644.2,416.3\" style=\"fill:none;stroke:#000000;stroke-width:2.0px;stroke-linecap:butt;stroke-linejoin:miter;stroke-miterlimit:10;stroke-opacity:1;\"/>\n",
       "<path d=\"M 672.6,419.2 L 674.2,419.3 L 674.9,420.8\" style=\"fill:none;stroke:#000000;stroke-width:2.0px;stroke-linecap:butt;stroke-linejoin:miter;stroke-miterlimit:10;stroke-opacity:1;\"/>\n",
       "<path class=\"atom-0\" d=\"M 759.3 483.8 Q 759.3 481.6, 760.3 480.4 Q 761.4 479.2, 763.4 479.2 Q 765.4 479.2, 766.5 480.4 Q 767.5 481.6, 767.5 483.8 Q 767.5 486.0, 766.4 487.2 Q 765.4 488.4, 763.4 488.4 Q 761.4 488.4, 760.3 487.2 Q 759.3 486.0, 759.3 483.8 M 763.4 487.4 Q 764.8 487.4, 765.5 486.5 Q 766.3 485.6, 766.3 483.8 Q 766.3 482.0, 765.5 481.1 Q 764.8 480.2, 763.4 480.2 Q 762.0 480.2, 761.3 481.1 Q 760.5 482.0, 760.5 483.8 Q 760.5 485.6, 761.3 486.5 Q 762.0 487.4, 763.4 487.4 \" fill=\"#FF0000\"/>\n",
       "<path class=\"atom-0\" d=\"M 768.9 479.3 L 770.1 479.3 L 770.1 483.1 L 774.7 483.1 L 774.7 479.3 L 776.0 479.3 L 776.0 488.3 L 774.7 488.3 L 774.7 484.1 L 770.1 484.1 L 770.1 488.3 L 768.9 488.3 L 768.9 479.3 \" fill=\"#FF0000\"/>\n",
       "<path class=\"atom-10\" d=\"M 752.5 395.6 L 753.7 395.6 L 753.7 399.4 L 758.3 399.4 L 758.3 395.6 L 759.5 395.6 L 759.5 404.6 L 758.3 404.6 L 758.3 400.4 L 753.7 400.4 L 753.7 404.6 L 752.5 404.6 L 752.5 395.6 \" fill=\"#000000\"/>\n",
       "<path class=\"atom-11\" d=\"M 759.6 439.9 L 760.8 439.9 L 760.8 443.7 L 765.4 443.7 L 765.4 439.9 L 766.7 439.9 L 766.7 448.9 L 765.4 448.9 L 765.4 444.7 L 760.8 444.7 L 760.8 448.9 L 759.6 448.9 L 759.6 439.9 \" fill=\"#000000\"/>\n",
       "<path class=\"atom-12\" d=\"M 708.1 402.7 L 709.4 402.7 L 709.4 406.5 L 714.0 406.5 L 714.0 402.7 L 715.2 402.7 L 715.2 411.7 L 714.0 411.7 L 714.0 407.6 L 709.4 407.6 L 709.4 411.7 L 708.1 411.7 L 708.1 402.7 \" fill=\"#000000\"/>\n",
       "<path class=\"legend\" d=\"M 688.1 526.7 Q 688.1 524.7, 689.1 523.6 Q 690.1 522.5, 692.0 522.5 Q 693.9 522.5, 694.9 523.6 Q 695.9 524.7, 695.9 526.7 Q 695.9 528.7, 694.9 529.9 Q 693.9 531.0, 692.0 531.0 Q 690.1 531.0, 689.1 529.9 Q 688.1 528.7, 688.1 526.7 M 689.6 526.7 Q 689.6 528.2, 690.2 529.0 Q 690.9 529.8, 692.0 529.8 Q 693.1 529.8, 693.8 529.0 Q 694.4 528.2, 694.4 526.7 Q 694.4 525.2, 693.8 524.5 Q 693.1 523.7, 692.0 523.7 Q 690.9 523.7, 690.2 524.5 Q 689.6 525.2, 689.6 526.7 \" fill=\"#000000\"/>\n",
       "<path class=\"legend\" d=\"M 704.3 522.6 L 704.3 530.9 L 703.1 530.9 L 702.9 529.7 Q 701.8 531.0, 700.1 531.0 Q 698.7 531.0, 698.0 530.3 Q 697.3 529.5, 697.3 528.1 L 697.3 522.6 L 698.8 522.6 L 698.8 528.0 Q 698.8 528.9, 699.2 529.4 Q 699.6 529.8, 700.4 529.8 Q 701.2 529.8, 701.8 529.5 Q 702.4 529.1, 702.8 528.5 L 702.8 522.6 L 704.3 522.6 \" fill=\"#000000\"/>\n",
       "<path class=\"legend\" d=\"M 706.3 523.8 L 706.3 522.6 L 707.9 522.6 L 708.1 520.2 L 709.3 520.2 L 709.3 522.6 L 711.8 522.6 L 711.8 523.8 L 709.3 523.8 L 709.3 528.3 Q 709.3 529.8, 710.5 529.8 Q 710.9 529.8, 711.6 529.5 L 711.9 530.6 Q 711.0 531.0, 710.2 531.0 Q 709.1 531.0, 708.4 530.3 Q 707.8 529.7, 707.8 528.4 L 707.8 523.8 L 706.3 523.8 \" fill=\"#000000\"/>\n",
       "</svg>"
      ],
      "text/plain": [
       "<IPython.core.display.SVG object>"
      ]
     },
     "execution_count": 22,
     "metadata": {},
     "output_type": "execute_result"
    }
   ],
   "source": [
    "mols_in  = [Chem.MolFromSmiles(s) for s in smiles_list]  # make inputs as mols\n",
    "mols_out = [add_methyl(s) for s in smiles_list]  # make edited outputs\n",
    "\n",
    "Draw.MolsToGridImage(  # draw a grid to compare\n",
    "    mols_in + mols_out,  # originals then edits\n",
    "    molsPerRow=5,  # how many per row\n",
    "    subImgSize=(200,180),  # image size\n",
    "    legends=[\"in\"]*len(mols_in)+[\"out\"]*len(mols_out),  # labels\n",
    "    useSVG=True  # SVG for crisp display\n",
    ")  # end drawing"
   ]
  },
  {
   "cell_type": "markdown",
   "id": "bce3a8fc",
   "metadata": {},
   "source": [
    "---\n",
    "\n",
    "\n",
    "\n",
    "## 4. PubChem and URL\n",
    "\n",
    "\n",
    "```note\n",
    "Goal: given a common name or a PubChem CID, get a SMILES string you can feed into RDKit.\n",
    "```\n",
    "\n",
    "### 4.1 Install and imports"
   ]
  },
  {
   "cell_type": "code",
   "execution_count": 23,
   "id": "540e65d0",
   "metadata": {},
   "outputs": [],
   "source": [
    "# Install requests if you do not have it\n",
    "try:\n",
    "    import requests\n",
    "except Exception:\n",
    "    %pip -q install requests\n",
    "    import requests\n",
    "\n",
    "from urllib.parse import quote_plus  "
   ]
  },
  {
   "cell_type": "markdown",
   "id": "e7bbb1fb",
   "metadata": {},
   "source": [
    "Instead of going to [PubChem’s main site](https://pubchem.ncbi.nlm.nih.gov) and manually searching for a compound, we can also use a **direct URL** to query PubChem’s REST API. This allows us to send structured requests and retrieve data in machine-readable formats such as JSON, XML, or plain text. \n",
    "\n",
    "The figure below illustrates the general workflow of PUG-REST: provide an input (like a compound name), choose an operation (for example, retrieving a CID), and specify the output format. Using URLs in this way not only automates lookups but also integrates PubChem data smoothly into code and analysis.\n",
    "\n",
    "\n",
    "\n",
    "\n",
    "![PubChem PUG-REST Figure](https://iupac.github.io/WFChemCookbook/_images/pubchem_pugrest_fig1.jpg)\n",
    "\n",
    "Here are some example URLs you can click and explore directly in a browser:\n",
    "- [https://pubchem.ncbi.nlm.nih.gov/rest/pug/compound/name/aspirin/cids/JSON](https://pubchem.ncbi.nlm.nih.gov/rest/pug/compound/name/aspirin/cids/JSON): Returns the PubChem Compound ID (CID) for aspirin.\n",
    "- [https://pubchem.ncbi.nlm.nih.gov/rest/pug/compound/cid/2244/property/IUPACName/JSON](https://pubchem.ncbi.nlm.nih.gov/rest/pug/compound/cid/2244/property/IUPACName/JSON): Returns the standardized IUPAC name.\n",
    "- [https://pubchem.ncbi.nlm.nih.gov/rest/pug/compound/cid/2244/property/CanonicalSMILES/JSON](https://pubchem.ncbi.nlm.nih.gov/rest/pug/compound/cid/2244/property/CanonicalSMILES/JSON): Returns the canonical SMILES string representation.\n",
    "\n",
    "\n",
    "```{note}\n",
    "The key idea is that PubChem is not only a website but also a programmatic data service. A well-formed URL acts like a query to their database.\n",
    "```\n",
    "\n",
    "If you are interested in learning more about PubChem URL, please read:\n",
    "- [IUPAC FAIR Chemistry Cookbook guide](https://iupac.github.io/WFChemCookbook/datasources/pubchem_pugrest1.html)\n",
    "\n",
    "\n",
    "---\n",
    "\n",
    "### 4.2 Resolve a **name** to a CID"
   ]
  },
  {
   "cell_type": "code",
   "execution_count": 24,
   "id": "1dac0f09",
   "metadata": {},
   "outputs": [
    {
     "name": "stdout",
     "output_type": "stream",
     "text": [
      "URL: https://pubchem.ncbi.nlm.nih.gov/rest/pug/compound/name/acetaminophen/cids/JSON\n"
     ]
    },
    {
     "name": "stdout",
     "output_type": "stream",
     "text": [
      "CID: 1983\n"
     ]
    }
   ],
   "source": [
    "import requests\n",
    "from urllib.parse import quote_plus\n",
    "\n",
    "name = \"acetaminophen\"\n",
    "\n",
    "# Step 1: resolve the name to one or more PubChem CIDs\n",
    "url = f\"https://pubchem.ncbi.nlm.nih.gov/rest/pug/compound/name/{quote_plus(name)}/cids/JSON\"\n",
    "print(\"URL:\", url)  # helps debug if you get HTTP 400\n",
    "\n",
    "r = requests.get(url, timeout=30)\n",
    "r.raise_for_status()\n",
    "data = r.json()\n",
    "\n",
    "cid_list = data.get(\"IdentifierList\", {}).get(\"CID\", [])\n",
    "if not cid_list:\n",
    "    raise ValueError(f\"No CID found for {name}\")\n",
    "\n",
    "cid = cid_list[0]  # take the first hit\n",
    "print(\"CID:\", cid)"
   ]
  },
  {
   "cell_type": "markdown",
   "id": "c7c2f007",
   "metadata": {},
   "source": [
    "```{note}\n",
    "CID is PubChem’s numeric identifier for a molecule. Taking the first hit is simple and works well for common drugs.\n",
    "Try to copy and paste the output URL from above copy to your browser and hit enter to see what it looks like!\n",
    "```\n",
    "Essentially, we first get the JSON format from the URL"
   ]
  },
  {
   "cell_type": "code",
   "execution_count": 25,
   "id": "44fe2cf5",
   "metadata": {},
   "outputs": [
    {
     "data": {
      "text/plain": [
       "{'IdentifierList': {'CID': [1983]}}"
      ]
     },
     "execution_count": 25,
     "metadata": {},
     "output_type": "execute_result"
    }
   ],
   "source": [
    "r = requests.get(url, timeout=30)\n",
    "data = r.json()\n",
    "data"
   ]
  },
  {
   "cell_type": "markdown",
   "id": "ed1030c4",
   "metadata": {},
   "source": [
    "Then we use `data.get()` to search for `\"IdentifierList\"`"
   ]
  },
  {
   "cell_type": "code",
   "execution_count": 26,
   "id": "a3ffd604",
   "metadata": {},
   "outputs": [
    {
     "name": "stdout",
     "output_type": "stream",
     "text": [
      "{'CID': [1983]}\n"
     ]
    }
   ],
   "source": [
    "print(data.get(\"IdentifierList\", {}))"
   ]
  },
  {
   "cell_type": "markdown",
   "id": "ecea0bbb",
   "metadata": {},
   "source": [
    "---\n",
    "\n",
    "### 4.3 Get properties from the CID\n",
    "\n",
    "#### 4.3.1 Get the **IUPAC name**"
   ]
  },
  {
   "cell_type": "code",
   "execution_count": 27,
   "id": "64d6127a",
   "metadata": {},
   "outputs": [
    {
     "name": "stdout",
     "output_type": "stream",
     "text": [
      "URL: https://pubchem.ncbi.nlm.nih.gov/rest/pug/compound/cid/1983/property/IUPACName/JSON\n"
     ]
    },
    {
     "name": "stdout",
     "output_type": "stream",
     "text": [
      "IUPAC: N-(4-hydroxyphenyl)acetamide\n"
     ]
    }
   ],
   "source": [
    "fields = \"IUPACName\"\n",
    "url = f\"https://pubchem.ncbi.nlm.nih.gov/rest/pug/compound/cid/{cid}/property/{fields}/JSON\"\n",
    "print(\"URL:\", url)\n",
    "\n",
    "r = requests.get(url, timeout=30)\n",
    "r.raise_for_status()\n",
    "data = r.json()\n",
    "\n",
    "props = data[\"PropertyTable\"][\"Properties\"][0]\n",
    "print(\"IUPAC:\", props.get(\"IUPACName\"))"
   ]
  },
  {
   "cell_type": "markdown",
   "id": "4735be6e",
   "metadata": {},
   "source": [
    "```{note}\n",
    "The IUPAC name is the standardized systematic name for the compound, defined by the International Union of Pure and Applied Chemistry.\n",
    "```\n",
    "\n",
    "Let's break it down again:"
   ]
  },
  {
   "cell_type": "code",
   "execution_count": 28,
   "id": "8df76ef3",
   "metadata": {},
   "outputs": [
    {
     "data": {
      "text/plain": [
       "{'Properties': [{'CID': 1983, 'IUPACName': 'N-(4-hydroxyphenyl)acetamide'}]}"
      ]
     },
     "execution_count": 28,
     "metadata": {},
     "output_type": "execute_result"
    }
   ],
   "source": [
    "data[\"PropertyTable\"]"
   ]
  },
  {
   "cell_type": "code",
   "execution_count": 29,
   "id": "91517d44",
   "metadata": {},
   "outputs": [
    {
     "data": {
      "text/plain": [
       "[{'CID': 1983, 'IUPACName': 'N-(4-hydroxyphenyl)acetamide'}]"
      ]
     },
     "execution_count": 29,
     "metadata": {},
     "output_type": "execute_result"
    }
   ],
   "source": [
    "data[\"PropertyTable\"][\"Properties\"]"
   ]
  },
  {
   "cell_type": "code",
   "execution_count": 30,
   "id": "34434e4c",
   "metadata": {},
   "outputs": [
    {
     "data": {
      "text/plain": [
       "{'CID': 1983, 'IUPACName': 'N-(4-hydroxyphenyl)acetamide'}"
      ]
     },
     "execution_count": 30,
     "metadata": {},
     "output_type": "execute_result"
    }
   ],
   "source": [
    "data[\"PropertyTable\"][\"Properties\"][0]"
   ]
  },
  {
   "cell_type": "markdown",
   "id": "6a95e0ed",
   "metadata": {},
   "source": [
    "---\n",
    "\n",
    "#### 4.3.2 Get the **Canonical SMILES**\n",
    "\n",
    "Now, we can even condense everything within one line:"
   ]
  },
  {
   "cell_type": "code",
   "execution_count": 31,
   "id": "b5b7799e",
   "metadata": {},
   "outputs": [
    {
     "name": "stdout",
     "output_type": "stream",
     "text": [
      "Canonical SMILES: CC(=O)NC1=CC=C(C=C1)O\n"
     ]
    }
   ],
   "source": [
    "print(\"Canonical SMILES:\", requests.get(f\"https://pubchem.ncbi.nlm.nih.gov/rest/pug/compound/cid/{cid}/property/CanonicalSMILES/TXT\").text.strip())"
   ]
  },
  {
   "cell_type": "markdown",
   "id": "2e93a24b",
   "metadata": {},
   "source": [
    "```{note}\n",
    "Canonical SMILES is a normalized form of the molecule's SMILES string.  \n",
    "It provides a unique representation but does not retain stereochemistry.\n",
    "```\n",
    "\n",
    "---\n",
    "\n",
    "#### 4.3.3 Get the **Isomeric SMILES**\n",
    "Similar:"
   ]
  },
  {
   "cell_type": "code",
   "execution_count": 32,
   "id": "5b3ab67c",
   "metadata": {},
   "outputs": [
    {
     "name": "stdout",
     "output_type": "stream",
     "text": [
      "Isomeric SMILES: CC(=O)NC1=CC=C(C=C1)O\n"
     ]
    }
   ],
   "source": [
    "print(\"Isomeric SMILES:\", requests.get(f\"https://pubchem.ncbi.nlm.nih.gov/rest/pug/compound/cid/{cid}/property/IsomericSMILES/TXT\").text.strip())"
   ]
  },
  {
   "cell_type": "markdown",
   "id": "2b8c7a89",
   "metadata": {},
   "source": [
    "```{note}\n",
    "Isomeric SMILES includes stereochemistry and isotopic information if PubChem has it.  \n",
    "This is useful for distinguishing molecules that have the same atoms but different spatial arrangements.\n",
    "```\n",
    "\n",
    "---\n",
    "\n",
    "### 4.4 Make it safe: minimal error handling"
   ]
  },
  {
   "cell_type": "code",
   "execution_count": 33,
   "id": "c918dc3b",
   "metadata": {},
   "outputs": [],
   "source": [
    "import requests  # HTTP client\n",
    "from urllib.parse import quote_plus  # safe URL encoding\n",
    "\n",
    "def safe_get_json(url, timeout=30):  # fetch JSON safely\n",
    "    r = requests.get(url, timeout=timeout)  # send request\n",
    "    r.raise_for_status()  # raise if HTTP error\n",
    "    return r.json()  # parse and return JSON\n",
    "\n",
    "def safe_get_text(url, timeout=30):  # fetch plain text safely\n",
    "    r = requests.get(url, timeout=timeout)  # send request\n",
    "    r.raise_for_status()  # raise if HTTP error\n",
    "    return r.text  # return raw text"
   ]
  },
  {
   "cell_type": "markdown",
   "id": "ece9934e",
   "metadata": {},
   "source": [
    "```note\n",
    "If you see HTTP 400, print the URL and check if the name was encoded.  \n",
    "Timeouts keep notebooks from hanging.\n",
    "```\n",
    "\n",
    "---\n",
    "\n",
    "## 4.5 Function: by **name**"
   ]
  },
  {
   "cell_type": "code",
   "execution_count": 34,
   "id": "539bdf68",
   "metadata": {},
   "outputs": [],
   "source": [
    "def pubchem_smiles_by_name(name, isomeric=True):  # look up by common name\n",
    "    nm = str(name).strip()  # clean input\n",
    "    if not nm:  # empty string check\n",
    "        raise ValueError(\"Empty name\")  # clear message\n",
    "    enc = quote_plus(nm)  # URL encode the name\n",
    "    kind = \"IsomericSMILES\" if isomeric else \"CanonicalSMILES\"  # choose field\n",
    "    # get SMILES as plain text\n",
    "    smi_url = f\"https://pubchem.ncbi.nlm.nih.gov/rest/pug/compound/name/{enc}/property/{kind}/TXT\"  # TXT endpoint\n",
    "    smiles = safe_get_text(smi_url).strip()  # fetch and strip whitespace\n",
    "    # get CID via JSON\n",
    "    cid_url = f\"https://pubchem.ncbi.nlm.nih.gov/rest/pug/compound/name/{enc}/cids/JSON\"  # CID list\n",
    "    cid_list = safe_get_json(cid_url).get(\"IdentifierList\", {}).get(\"CID\", [])  # pick from JSON\n",
    "    if not cid_list:  # handle no hits\n",
    "        raise ValueError(f\"No CID found for name: {nm}\")  # message\n",
    "    cid = int(cid_list[0])  # first hit\n",
    "    # get IUPAC name as text\n",
    "    iupac_url = f\"https://pubchem.ncbi.nlm.nih.gov/rest/pug/compound/cid/{cid}/property/IUPACName/TXT\"  # TXT endpoint\n",
    "    iupac = safe_get_text(iupac_url).strip()  # fetch IUPAC\n",
    "    return {\"name\": nm, \"cid\": cid, \"smiles\": smiles, \"iupac\": iupac}  # result dict"
   ]
  },
  {
   "cell_type": "markdown",
   "id": "10b76cbd",
   "metadata": {},
   "source": [
    "**Example**"
   ]
  },
  {
   "cell_type": "code",
   "execution_count": 35,
   "id": "85a1836f",
   "metadata": {},
   "outputs": [
    {
     "data": {
      "text/plain": [
       "{'name': 'ibuprofen',\n",
       " 'cid': 3672,\n",
       " 'smiles': 'CC(C)CC1=CC=C(C=C1)C(C)C(=O)O',\n",
       " 'iupac': '2-[4-(2-methylpropyl)phenyl]propanoic acid'}"
      ]
     },
     "execution_count": 35,
     "metadata": {},
     "output_type": "execute_result"
    }
   ],
   "source": [
    "pubchem_smiles_by_name(\"ibuprofen\")  # quick demo"
   ]
  },
  {
   "cell_type": "markdown",
   "id": "f45f7d19",
   "metadata": {},
   "source": [
    "---\n",
    "\n",
    "## 4.6 Function: by **CID**"
   ]
  },
  {
   "cell_type": "code",
   "execution_count": 36,
   "id": "ba7d12b3",
   "metadata": {},
   "outputs": [],
   "source": [
    "def pubchem_smiles_by_cid(cid, isomeric=True):  # look up by CID\n",
    "    try:\n",
    "        cid_int = int(str(cid).strip())  # coerce to int\n",
    "    except ValueError:\n",
    "        raise ValueError(f\"Bad CID: {cid}\")  # clear message\n",
    "    kind = \"IsomericSMILES\" if isomeric else \"CanonicalSMILES\"  # choose field\n",
    "    smi_url = f\"https://pubchem.ncbi.nlm.nih.gov/rest/pug/compound/cid/{cid_int}/property/{kind}/TXT\"  # TXT endpoint\n",
    "    smiles = safe_get_text(smi_url).strip()  # fetch SMILES\n",
    "    iupac_url = f\"https://pubchem.ncbi.nlm.nih.gov/rest/pug/compound/cid/{cid_int}/property/IUPACName/TXT\"  # TXT endpoint\n",
    "    iupac = safe_get_text(iupac_url).strip()  # fetch IUPAC\n",
    "    return {\"cid\": cid_int, \"smiles\": smiles, \"iupac\": iupac}  # result dict"
   ]
  },
  {
   "cell_type": "markdown",
   "id": "f672c20c",
   "metadata": {},
   "source": [
    "**Example**"
   ]
  },
  {
   "cell_type": "code",
   "execution_count": 37,
   "id": "a6c4dae2",
   "metadata": {},
   "outputs": [
    {
     "data": {
      "text/plain": [
       "{'cid': 2244,\n",
       " 'smiles': 'CC(=O)OC1=CC=CC=C1C(=O)O',\n",
       " 'iupac': '2-acetyloxybenzoic acid'}"
      ]
     },
     "execution_count": 37,
     "metadata": {},
     "output_type": "execute_result"
    }
   ],
   "source": [
    "pubchem_smiles_by_cid(2244)  # aspirin"
   ]
  },
  {
   "cell_type": "markdown",
   "id": "c5f64607",
   "metadata": {},
   "source": [
    "---\n",
    "\n",
    "## 4.7 Use with RDKit (short)"
   ]
  },
  {
   "cell_type": "code",
   "execution_count": 38,
   "id": "fa6d0976",
   "metadata": {},
   "outputs": [
    {
     "data": {
      "image/jpeg": "[encoded data removed]",
      "image/png": "[encoded data removed]",
      "text/plain": [
       "<PIL.PngImagePlugin.PngImageFile image mode=RGB size=180x180>"
      ]
     },
     "execution_count": 38,
     "metadata": {},
     "output_type": "execute_result"
    }
   ],
   "source": [
    "from rdkit import Chem  # RDKit core\n",
    "from rdkit.Chem import Draw  # drawing\n",
    "\n",
    "res = pubchem_smiles_by_name(\"acetaminophen\")  # fetch SMILES by name\n",
    "mol = Chem.MolFromSmiles(res[\"smiles\"])  # make molecule\n",
    "Draw.MolToImage(mol, size=(180, 180))  # draw image"
   ]
  },
  {
   "cell_type": "markdown",
   "id": "a291a13c",
   "metadata": {},
   "source": [
    "```{note}\n",
    "If `MolFromSmiles` gives `None`, print the SMILES string and check for copy issues.\n",
    "```\n",
    "\n",
    "---\n",
    "\n",
    "\n",
    "\n",
    "## 5. Save and export"
   ]
  },
  {
   "cell_type": "code",
   "execution_count": 39,
   "id": "a6a90591",
   "metadata": {},
   "outputs": [
    {
     "name": "stdout",
     "output_type": "stream",
     "text": [
      "canonical: CC(=O)Oc1ccccc1C(=O)O\n",
      "isomeric: CC(=O)Oc1ccccc1C(=O)O\n"
     ]
    }
   ],
   "source": [
    "mol = Chem.MolFromSmiles(\"CC(=O)OC1=CC=CC=C1C(=O)O\")\n",
    "print(\"canonical:\", Chem.MolToSmiles(mol))\n",
    "print(\"isomeric:\", Chem.MolToSmiles(mol, isomericSmiles=True))"
   ]
  },
  {
   "cell_type": "code",
   "execution_count": 40,
   "id": "a5b14702",
   "metadata": {},
   "outputs": [
    {
     "data": {
      "text/plain": [
       "'Saved molecule.sdf'"
      ]
     },
     "execution_count": 40,
     "metadata": {},
     "output_type": "execute_result"
    }
   ],
   "source": [
    "# SDF with 2D coordinates\n",
    "m = Chem.AddHs(mol)\n",
    "from rdkit.Chem import AllChem\n",
    "AllChem.Compute2DCoords(m)\n",
    "w = Chem.SDWriter(\"molecule.sdf\")\n",
    "w.write(m); w.close()\n",
    "\"Saved molecule.sdf\""
   ]
  },
  {
   "cell_type": "code",
   "execution_count": 41,
   "id": "b26a6cfc",
   "metadata": {},
   "outputs": [
    {
     "data": {
      "text/plain": [
       "'Saved molecule.png'"
      ]
     },
     "execution_count": 41,
     "metadata": {},
     "output_type": "execute_result"
    }
   ],
   "source": [
    "# PNG depiction\n",
    "img = Draw.MolToImage(mol, size=(400, 300))\n",
    "img.save(\"molecule.png\")\n",
    "\"Saved molecule.png\""
   ]
  },
  {
   "cell_type": "markdown",
   "id": "a0cdd03b",
   "metadata": {},
   "source": [
    "---\n",
    "\n",
    "## 6. Quick reference\n",
    "\n",
    "```{admonition} SMILES\n",
    "- Atoms: upper case aliphatic, lower case aromatic\n",
    "- Bonds: implicit single, =, #\n",
    "- Branches: parentheses\n",
    "- Rings: digits to open and close\n",
    "- Charges: bracket the atom, e.g., [O-], [NH4+]\n",
    "- Salts: separate parts with a dot\n",
    "- E or Z: use slashes around the double bond\n",
    "```\n",
    "\n",
    "```{admonition} RDKit\n",
    "- Parse: `Chem.MolFromSmiles`\n",
    "- Draw: `Draw.MolToImage(..., includeAtomNumbers=True)`\n",
    "- Hydrogens: `Chem.AddHs`\n",
    "- Properties: `Descriptors.MolWt`, `Crippen.MolLogP`, `CalcNumHBA/HBD`, `CalcTPSA`\n",
    "- Replace piece with piece: `Chem.ReplaceSubstructs(mol, findMol, repMol)`\n",
    "- Salt split: `Chem.GetMolFrags(..., asMols=True)`\n",
    "- Graph edit: `Chem.EditableMol`\n",
    "- Save: `Chem.MolToSmiles`, `SDWriter`, PNG via `MolToImage(...).save(...)`\n",
    "```\n",
    "\n",
    "---\n",
    "\n",
    "## 7. Glossary\n",
    "\n",
    "```{glossary}\n",
    "SMILES\n",
    "  Text line notation for molecules. Example: ethanol is CCO.\n",
    "\n",
    "aromatic\n",
    "  Conjugated ring system represented with lower case atom symbols in SMILES, for example c1ccccc1.\n",
    "\n",
    "CID\n",
    "  PubChem Compound ID for a unique compound record.\n",
    "\n",
    "sanitize\n",
    "  RDKit process that checks valence, aromaticity, and stereochemistry.\n",
    "\n",
    "descriptor\n",
    "  Computed molecular property such as molecular weight or LogP.\n",
    "\n",
    "EditableMol\n",
    "  RDKit object that exposes low level atom and bond editing.\n",
    "```\n",
    "\n",
    "---\n",
    "\n",
    "## 8. In-class activity\n",
    "\n",
    "Each task mirrors the examples above. Fill in the `...` lines. Work in pairs. Solutions are in Section 9.\n",
    "\n",
    "### 8.1 Read a SMILES and inspect\n",
    "\n",
    "Given `smi = \"O=C(O)c1ccccc1Cl\"`.  \n",
    "a) Draw with atom numbers.  \n",
    "b) Count number of rings.  \n",
    "c) Print the list of bonds with begin and end atom indices and bond orders.\n",
    "\n",
    "```python\n",
    "from rdkit import Chem\n",
    "from rdkit.Chem import Draw\n",
    "\n",
    "smi = ...  # TO DO\n",
    "\n",
    "mol = Chem.MolFromSmiles(smi)\n",
    "display(Draw.MolToImage(mol, size=(350, 250), includeAtomNumbers=True))\n",
    "\n",
    "num_rings = ...   # TO DO: Chem.GetSSSR(mol)\n",
    "print(\"rings:\", num_rings)\n",
    "\n",
    "for b in mol.GetBonds():\n",
    "    print(\"bond\", b.GetIdx(), b.GetBeginAtomIdx(), \"-\", b.GetEndAtomIdx(), \"order\", int(b.GetBondTypeAsDouble()))\n",
    "```\n",
    "\n",
    "---\n",
    "\n",
    "### 8.2 Make a small properties table\n",
    "\n",
    "Use names `[\"caffeine\", \"acetaminophen\", \"ibuprofen\"]`. For each, fetch SMILES from PubChem, then compute MolWt, LogP, HBD, HBA, and TPSA.\n",
    "\n",
    "```python\n",
    "import pandas as pd\n",
    "from rdkit.Chem import Descriptors, Crippen, rdMolDescriptors\n",
    "\n",
    "names = ...  # TO DO\n",
    "rows = []\n",
    "for nm in names:\n",
    "    info = ...  # TO DO: pubchem_smiles_by_name\n",
    "    smi = info[\"smiles\"]\n",
    "    m = Chem.MolFromSmiles(smi)\n",
    "    rows.append({\n",
    "        \"name\": nm,\n",
    "        \"smiles\": smi,\n",
    "        \"MolWt\": ...,\n",
    "        \"LogP\": ...,\n",
    "        \"HBD\": ...,\n",
    "        \"HBA\": ...,\n",
    "        \"TPSA\": ...\n",
    "    })\n",
    "\n",
    "pd.DataFrame(rows)\n",
    "```\n",
    "\n",
    "---\n",
    "\n",
    "### 8.3 Replace chlorine with fluorine\n",
    "\n",
    "Replace Cl with F in `Clc1ccc(cc1)C(=O)O` and print the result SMILES.\n",
    "\n",
    "```python\n",
    "find = Chem.MolFromSmiles(... )  # TO DO\n",
    "put  = Chem.MolFromSmiles(... )  # TO DO\n",
    "mol  = ... # TO DO\n",
    "out  = ... # TO DO\n",
    "print(Chem.MolToSmiles(out))\n",
    "```\n",
    "\n",
    "---\n",
    "\n",
    "### 8.4 Add a methyl group with a graph edit\n",
    "\n",
    "Add a methyl at atom index 2 of benzene.\n",
    "\n",
    "```python\n",
    "mol = Chem.MolFromSmiles(\"c1ccccc1\")\n",
    "em = Chem.EditableMol(mol)\n",
    "# TO DO: add code\n",
    "Draw.MolToImage(..., size=(350, 250))\n",
    "```\n",
    "\n",
    "---\n",
    "\n",
    "### 8.5 PubChem lookup to SMILES and drawing\n",
    "\n",
    "We often get inputs in different formats. Some may be PubChem CIDs (just digits) while others are SMILES strings.\n",
    "\n",
    "Tasks:\n",
    "1) For each name in `[\"446157\", \"2244\", \"CCO\", \"482752\", \"c1ccccc1\"]`\n",
    "2) Print a line: `name: ... CID=... SMILES=...`.\n",
    "3) Draw each molecule.\n",
    "\n",
    "\n",
    "```python\n",
    "    mixed = [...]\n",
    "\n",
    "for ... in ...:\n",
    "    if ...:  # looks like CID\n",
    "      ...\n",
    "    else: \n",
    "      ... \n",
    "    print(...)\n",
    "    mol = Chem.MolFromSmiles(...)\n",
    "    display(Draw.MolToImage(mol, size=(100, 100)))\n",
    "\n",
    "```\n",
    "\n",
    "```{note} Hint:\n",
    "Try `isdigit()` to distinguish between cid-like input and SMILES\n",
    "```\n",
    "---"
   ]
  }
 ],
 "metadata": {
  "jupytext": {
   "text_representation": {
    "extension": ".md",
    "format_name": "myst",
    "format_version": 0.13,
    "jupytext_version": "1.16.4"
   }
  },
  "kernelspec": {
   "display_name": "Python 3",
   "language": "python",
   "name": "python3"
  },
  "language_info": {
   "codemirror_mode": {
    "name": "ipython",
    "version": 3
   },
   "file_extension": ".py",
   "mimetype": "text/x-python",
   "name": "python",
   "nbconvert_exporter": "python",
   "pygments_lexer": "ipython3",
   "version": "3.13.5"
  },
  "source_map": [
   12,
   59,
   67,
   79,
   87,
   99,
   107,
   115,
   125,
   131,
   142,
   149,
   158,
   165,
   171,
   179,
   188,
   198,
   202,
   209,
   218,
   242,
   251,
   257,
   265,
   279,
   283,
   299,
   309,
   313,
   319,
   323,
   340,
   355,
   367,
   383,
   393,
   404,
   419,
   428,
   456,
   476,
   483,
   487,
   489,
   491,
   499,
   510,
   517,
   520,
   523,
   525,
   533,
   535,
   546,
   548,
   559,
   572,
   583,
   603,
   607,
   609,
   615,
   627,
   631,
   633,
   639,
   646,
   658,
   664,
   674,
   679
  ]
 },
 "nbformat": 4,
 "nbformat_minor": 5
}