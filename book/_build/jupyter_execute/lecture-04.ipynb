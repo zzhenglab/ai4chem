{
 "cells": [
  {
   "cell_type": "markdown",
   "id": "8221a2b5",
   "metadata": {},
   "source": [
    "# Lecture 4 - PubChem + CIR\n",
    "\n",
    "```{contents}\n",
    ":local:\n",
    ":depth: 1\n",
    "```\n",
    "\n",
    "## Learning goals\n",
    "\n",
    "- Understand PubChem as a data service via **PUG-REST** and **PUG-View**.  \n",
    "- Form URLs that return JSON, TXT or images.  \n",
    "- Resolve names, SMILES and CAS numbers to CIDs.  \n",
    "- Retrieve IUPAC, SMILES, InChIKey and selected properties.  \n",
    "- Use the **NCI Chemical Identifier Resolver (CIR)** as a second query path.  \n",
    "- Build small helper functions with error handling and fallbacks.  \n",
    "- Practice with a real Excel sheet of ligands that contains CAS numbers.  \n",
    "- Create a tiny widget that accepts name or SMILES or CAS and returns a summary and a GIF.  \n",
    "\n",
    "---\n",
    "\n",
    "## 1. PubChem PUG-REST Basics\n",
    "\n",
    "\n",
    "\n",
    "### 1.1 Setup"
   ]
  },
  {
   "cell_type": "code",
   "execution_count": 1,
   "id": "efd1ac52",
   "metadata": {
    "tags": [
     "hide-input"
    ]
   },
   "outputs": [
    {
     "name": "stdout",
     "output_type": "stream",
     "text": [
      "Note: you may need to restart the kernel to use updated packages.\n"
     ]
    }
   ],
   "source": [
    "# Networking\n",
    "try:\n",
    "    import requests\n",
    "except Exception:\n",
    "    %pip -q install requests\n",
    "    import requests\n",
    "\n",
    "from urllib.parse import quote_plus\n",
    "\n",
    "# Optional drawing and widgets\n",
    "try:\n",
    "    from rdkit import Chem\n",
    "    from rdkit.Chem import Draw, Descriptors, Crippen, rdMolDescriptors, AllChem\n",
    "except Exception:\n",
    "    try:\n",
    "        %pip -q install rdkit-pypi\n",
    "        from rdkit import Chem\n",
    "        from rdkit.Chem import Draw, Descriptors, Crippen, rdMolDescriptors, AllChem\n",
    "    except Exception as e:\n",
    "        print(\"RDKit is not available in this environment. Drawing and descriptors will be skipped.\")\n",
    "        Chem = None\n",
    "\n",
    "try:\n",
    "    import ipywidgets as widgets\n",
    "    from IPython.display import display, HTML, Image, clear_output\n",
    "except Exception:\n",
    "    try:\n",
    "        %pip -q install ipywidgets\n",
    "        import ipywidgets as widgets\n",
    "        from IPython.display import display, HTML, Image, clear_output\n",
    "    except Exception:\n",
    "        widgets = None\n",
    "\n",
    "try:\n",
    "    from PIL import Image as PILImage\n",
    "    from io import BytesIO\n",
    "except Exception:\n",
    "    %pip -q install pillow\n",
    "    from PIL import Image as PILImage\n",
    "    from io import BytesIO"
   ]
  },
  {
   "cell_type": "markdown",
   "id": "eb7f6359",
   "metadata": {},
   "source": [
    "---\n",
    "\n",
    "### 1.2 Background Information\n",
    "\n",
    "\n",
    "Instead of going to [PubChem’s main site](https://pubchem.ncbi.nlm.nih.gov) and manually searching for a compound, we can also use a **direct URL** to query PubChem’s REST API. This allows us to send structured requests and retrieve data in machine-readable formats such as JSON, XML, or plain text. \n",
    "\n",
    "The figure below illustrates the general workflow of PUG-REST: provide an input (like a compound name), choose an operation (for example, retrieving a CID), and specify the output format. Using URLs in this way not only automates lookups but also integrates PubChem data smoothly into code and analysis.\n",
    "\n",
    "\n",
    "\n",
    "\n",
    "\n",
    "\n",
    "![PubChem PUG-REST Figure](https://iupac.github.io/WFChemCookbook/_images/pubchem_pugrest_fig1.jpg)\n",
    "\n",
    "Here is a summary:\n",
    "\n",
    "- **Input**: name, CID, InChIKey, SMILES, or CAS number.  \n",
    "- **Operation**: what property you want (CID, IUPAC, SMILES, etc.).  \n",
    "- **Output**: JSON, XML, or TXT.  \n",
    "\n",
    "Here are some example URLs you can click and explore directly in a browser:\n",
    "- [https://pubchem.ncbi.nlm.nih.gov/rest/pug/compound/name/aspirin/cids/JSON](https://pubchem.ncbi.nlm.nih.gov/rest/pug/compound/name/aspirin/cids/JSON): Returns the PubChem Compound ID (CID) for aspirin.\n",
    "- [https://pubchem.ncbi.nlm.nih.gov/rest/pug/compound/cid/2244/property/IUPACName/JSON](https://pubchem.ncbi.nlm.nih.gov/rest/pug/compound/cid/2244/property/IUPACName/JSON): Returns the standardized IUPAC name.\n",
    "- [https://pubchem.ncbi.nlm.nih.gov/rest/pug/compound/cid/2244/property/CanonicalSMILES/JSON](https://pubchem.ncbi.nlm.nih.gov/rest/pug/compound/cid/2244/property/CanonicalSMILES/JSON): Returns the canonical SMILES string representation.\n",
    "\n",
    "\n",
    "\n",
    "\n",
    "```{note}\n",
    "The key idea is that PubChem is not only a website but also a programmatic data service. A well-formed URL acts like a query to their database.\n",
    "```\n",
    "\n",
    "\n",
    "If you are interested in learning more about PubChem URL, please read:\n",
    "- [IUPAC FAIR Chemistry Cookbook guide](https://iupac.github.io/WFChemCookbook/datasources/pubchem_pugrest1.html)\n",
    "\n",
    "```{note}\n",
    "Always read the URL as:  \n",
    "1. Base: `https://pubchem.ncbi.nlm.nih.gov/rest/pug`  \n",
    "2. Section: `compound` (since we work with compounds)  \n",
    "3. Identifier type: `name`, `cid`, `smiles`, `cas`  \n",
    "4. Action: what property to fetch  \n",
    "5. Format: `JSON`, `XML`, `TXT`  \n",
    "```\n",
    "\n",
    "\n",
    "\n",
    "---\n",
    "\n",
    "## 2. From name to CID and properties\n",
    "\n",
    "### 2.1 Form the URL"
   ]
  },
  {
   "cell_type": "code",
   "execution_count": 2,
   "id": "52e25b10",
   "metadata": {},
   "outputs": [
    {
     "name": "stdout",
     "output_type": "stream",
     "text": [
      "https://pubchem.ncbi.nlm.nih.gov/rest/pug/compound/name/acetaminophen/cids/JSON\n"
     ]
    }
   ],
   "source": [
    "name = \"acetaminophen\"\n",
    "url = f\"https://pubchem.ncbi.nlm.nih.gov/rest/pug/compound/name/{quote_plus(name)}/cids/JSON\"\n",
    "print(url)"
   ]
  },
  {
   "cell_type": "markdown",
   "id": "3d71f350",
   "metadata": {},
   "source": [
    "```{note}\n",
    "Try pasting this URL into your browser. You should see a JSON object with `\"CID\"`.  \n",
    "```\n",
    "\n",
    "### 2.2 Request and parse"
   ]
  },
  {
   "cell_type": "code",
   "execution_count": 3,
   "id": "6feb3500",
   "metadata": {},
   "outputs": [],
   "source": [
    "# Install requests if you do not have it\n",
    "try:\n",
    "    import requests\n",
    "except Exception:\n",
    "    %pip -q install requests\n",
    "    import requests\n",
    "\n",
    "from urllib.parse import quote_plus  "
   ]
  },
  {
   "cell_type": "code",
   "execution_count": 4,
   "id": "cfa804fa",
   "metadata": {},
   "outputs": [
    {
     "name": "stdout",
     "output_type": "stream",
     "text": [
      "{'IdentifierList': {'CID': [1983]}}\n"
     ]
    }
   ],
   "source": [
    "r = requests.get(url, timeout=30)\n",
    "data = r.json()\n",
    "print(data)"
   ]
  },
  {
   "cell_type": "markdown",
   "id": "c4db6ad1",
   "metadata": {},
   "source": [
    "Break it down:"
   ]
  },
  {
   "cell_type": "code",
   "execution_count": 5,
   "id": "28ceaf34",
   "metadata": {},
   "outputs": [
    {
     "name": "stdout",
     "output_type": "stream",
     "text": [
      "dict_keys(['IdentifierList'])\n",
      "{'CID': [1983]}\n"
     ]
    }
   ],
   "source": [
    "print(data.keys())\n",
    "print(data.get(\"IdentifierList\", {}))"
   ]
  },
  {
   "cell_type": "code",
   "execution_count": 6,
   "id": "5bae5bad",
   "metadata": {},
   "outputs": [
    {
     "name": "stdout",
     "output_type": "stream",
     "text": [
      "CID: 1983\n"
     ]
    }
   ],
   "source": [
    "cid_list = data.get(\"IdentifierList\", {}).get(\"CID\", [])\n",
    "cid = cid_list[0]\n",
    "print(\"CID:\", cid)"
   ]
  },
  {
   "cell_type": "markdown",
   "id": "3ebe9f38",
   "metadata": {},
   "source": [
    "---\n",
    "\n",
    "\n",
    "### 2.3 IUPAC name"
   ]
  },
  {
   "cell_type": "code",
   "execution_count": 7,
   "id": "a7365a74",
   "metadata": {},
   "outputs": [
    {
     "name": "stdout",
     "output_type": "stream",
     "text": [
      "IUPAC: 2-acetyloxybenzoic acid\n"
     ]
    }
   ],
   "source": [
    "cid = 2244  # aspirin\n",
    "url = f\"https://pubchem.ncbi.nlm.nih.gov/rest/pug/compound/cid/{cid}/property/IUPACName/JSON\"\n",
    "r = requests.get(url, timeout=30)\n",
    "r.raise_for_status()\n",
    "props = r.json()[\"PropertyTable\"][\"Properties\"][0]\n",
    "print(\"IUPAC:\", props[\"IUPACName\"])"
   ]
  },
  {
   "cell_type": "markdown",
   "id": "dc46193f",
   "metadata": {},
   "source": [
    "### 2.4 Canonical vs isomeric SMILES"
   ]
  },
  {
   "cell_type": "code",
   "execution_count": 8,
   "id": "e0d3aacb",
   "metadata": {},
   "outputs": [
    {
     "name": "stdout",
     "output_type": "stream",
     "text": [
      "Canonical: CC(=O)OC1=CC=CC=C1C(=O)O\n",
      "Isomeric : CC(=O)OC1=CC=CC=C1C(=O)O\n"
     ]
    }
   ],
   "source": [
    "canon = requests.get(f\"https://pubchem.ncbi.nlm.nih.gov/rest/pug/compound/cid/{cid}/property/CanonicalSMILES/TXT\", timeout=30).text.strip()\n",
    "iso   = requests.get(f\"https://pubchem.ncbi.nlm.nih.gov/rest/pug/compound/cid/{cid}/property/IsomericSMILES/TXT\", timeout=30).text.strip()\n",
    "print(\"Canonical:\", canon)\n",
    "print(\"Isomeric :\", iso)"
   ]
  },
  {
   "cell_type": "markdown",
   "id": "d12b685d",
   "metadata": {},
   "source": [
    "```{note}\n",
    "Canonical SMILES is normalized and does not carry stereochemistry.  \n",
    "Isomeric SMILES includes stereochemistry and isotopes if available.\n",
    "```\n",
    "\n",
    "---\n",
    "\n",
    "### 2.5 Safer helpers"
   ]
  },
  {
   "cell_type": "code",
   "execution_count": 9,
   "id": "7376faa6",
   "metadata": {},
   "outputs": [],
   "source": [
    "def safe_get_json(url, timeout=30):\n",
    "    r = requests.get(url, timeout=timeout)\n",
    "    r.raise_for_status()\n",
    "    return r.json()\n",
    "\n",
    "def safe_get_text(url, timeout=30):\n",
    "    r = requests.get(url, timeout=timeout)\n",
    "    r.raise_for_status()\n",
    "    return r.text.strip()\n",
    "\n",
    "def safe_get_bytes(url, timeout=30):\n",
    "    r = requests.get(url, timeout=timeout)\n",
    "    r.raise_for_status()\n",
    "    return r.content"
   ]
  },
  {
   "cell_type": "markdown",
   "id": "26833e7a",
   "metadata": {},
   "source": [
    "---\n",
    "\n",
    "\n",
    "### 2.6 Write convenience functions (by name)"
   ]
  },
  {
   "cell_type": "code",
   "execution_count": 10,
   "id": "4ddea969",
   "metadata": {},
   "outputs": [
    {
     "data": {
      "text/plain": [
       "{'input': 'ibuprofen',\n",
       " 'cid': 3672,\n",
       " 'smiles': 'CC(C)CC1=CC=C(C=C1)C(C)C(=O)O',\n",
       " 'iupac': '2-[4-(2-methylpropyl)phenyl]propanoic acid',\n",
       " 'inchikey': 'HEFNNWSXXWATRW-UHFFFAOYSA-N'}"
      ]
     },
     "execution_count": 10,
     "metadata": {},
     "output_type": "execute_result"
    }
   ],
   "source": [
    "def pubchem_by_name(name, isomeric=True):\n",
    "    enc = quote_plus(name.strip())\n",
    "    kind = \"IsomericSMILES\" if isomeric else \"CanonicalSMILES\"\n",
    "    smi_url = f\"https://pubchem.ncbi.nlm.nih.gov/rest/pug/compound/name/{enc}/property/{kind}/TXT\"\n",
    "    smiles = safe_get_text(smi_url)\n",
    "\n",
    "    cid_url = f\"https://pubchem.ncbi.nlm.nih.gov/rest/pug/compound/name/{enc}/cids/JSON\"\n",
    "    cid_list = safe_get_json(cid_url).get(\"IdentifierList\", {}).get(\"CID\", [])\n",
    "    if not cid_list:\n",
    "        raise ValueError(\"No CID found\")\n",
    "    cid = cid_list[0]\n",
    "\n",
    "    iupac_url = f\"https://pubchem.ncbi.nlm.nih.gov/rest/pug/compound/cid/{cid}/property/IUPACName/TXT\"\n",
    "    iupac = safe_get_text(iupac_url)\n",
    "\n",
    "    inchikey_url = f\"https://pubchem.ncbi.nlm.nih.gov/rest/pug/compound/cid/{cid}/property/InChIKey/TXT\"\n",
    "    inchikey = safe_get_text(inchikey_url)\n",
    "\n",
    "    return {\"input\": name, \"cid\": cid, \"smiles\": smiles, \"iupac\": iupac, \"inchikey\": inchikey}\n",
    "\n",
    "pubchem_by_name(\"ibuprofen\")"
   ]
  },
  {
   "cell_type": "markdown",
   "id": "1a2e2d66",
   "metadata": {},
   "source": [
    "### 2.7 Write convenience functions (by CID)"
   ]
  },
  {
   "cell_type": "code",
   "execution_count": 11,
   "id": "6ed62ec4",
   "metadata": {},
   "outputs": [
    {
     "data": {
      "text/plain": [
       "{'cid': 2244,\n",
       " 'smiles': 'CC(=O)OC1=CC=CC=C1C(=O)O',\n",
       " 'iupac': '2-acetyloxybenzoic acid',\n",
       " 'inchikey': 'BSYNRYMUTXBXSQ-UHFFFAOYSA-N'}"
      ]
     },
     "execution_count": 11,
     "metadata": {},
     "output_type": "execute_result"
    }
   ],
   "source": [
    "def pubchem_by_cid(cid, isomeric=True):\n",
    "    cid = int(cid)\n",
    "    kind = \"IsomericSMILES\" if isomeric else \"CanonicalSMILES\"\n",
    "    smi_url = f\"https://pubchem.ncbi.nlm.nih.gov/rest/pug/compound/cid/{cid}/property/{kind}/TXT\"\n",
    "    smiles = safe_get_text(smi_url)\n",
    "    iupac_url = f\"https://pubchem.ncbi.nlm.nih.gov/rest/pug/compound/cid/{cid}/property/IUPACName/TXT\"\n",
    "    iupac = safe_get_text(iupac_url)\n",
    "    inchikey_url = f\"https://pubchem.ncbi.nlm.nih.gov/rest/pug/compound/cid/{cid}/property/InChIKey/TXT\"\n",
    "    inchikey = safe_get_text(inchikey_url)\n",
    "    return {\"cid\": cid, \"smiles\": smiles, \"iupac\": iupac, \"inchikey\": inchikey}\n",
    "\n",
    "pubchem_by_cid(2244)"
   ]
  },
  {
   "cell_type": "markdown",
   "id": "7466b1bb",
   "metadata": {},
   "source": [
    "---\n",
    "\n",
    "## 3. Other PubChem features\n",
    "\n",
    "### 3.1 Selected computed properties"
   ]
  },
  {
   "cell_type": "code",
   "execution_count": 12,
   "id": "b060c481",
   "metadata": {},
   "outputs": [
    {
     "data": {
      "text/plain": [
       "{'CID': 2244,\n",
       " 'MolecularWeight': '180.16',\n",
       " 'XLogP': 1.2,\n",
       " 'ExactMass': '180.04225873',\n",
       " 'TPSA': 63.6,\n",
       " 'HBondDonorCount': 1,\n",
       " 'HBondAcceptorCount': 4}"
      ]
     },
     "execution_count": 12,
     "metadata": {},
     "output_type": "execute_result"
    }
   ],
   "source": [
    "def pubchem_properties(cid, fields=(\"MolecularWeight\",\"XLogP\",\"ExactMass\",\"HBondDonorCount\",\"HBondAcceptorCount\",\"TPSA\")):\n",
    "    cid = int(cid)\n",
    "    field_str = \",\".join(fields)\n",
    "    url = f\"https://pubchem.ncbi.nlm.nih.gov/rest/pug/compound/cid/{cid}/property/{field_str}/JSON\"\n",
    "    data = safe_get_json(url)\n",
    "    return data[\"PropertyTable\"][\"Properties\"][0]\n",
    "\n",
    "pubchem_properties(2244)"
   ]
  },
  {
   "cell_type": "markdown",
   "id": "5ff5982b",
   "metadata": {},
   "source": [
    "### 3.2 Synonyms"
   ]
  },
  {
   "cell_type": "code",
   "execution_count": 13,
   "id": "5c7535e1",
   "metadata": {},
   "outputs": [
    {
     "data": {
      "text/plain": [
       "['aspirin',\n",
       " 'ACETYLSALICYLIC ACID',\n",
       " '50-78-2',\n",
       " '2-Acetoxybenzoic acid',\n",
       " '2-(Acetyloxy)benzoic acid',\n",
       " 'O-Acetylsalicylic acid',\n",
       " 'o-Acetoxybenzoic acid',\n",
       " 'Acylpyrin']"
      ]
     },
     "execution_count": 13,
     "metadata": {},
     "output_type": "execute_result"
    }
   ],
   "source": [
    "def pubchem_synonyms(cid, limit=10):\n",
    "    url = f\"https://pubchem.ncbi.nlm.nih.gov/rest/pug/compound/cid/{int(cid)}/synonyms/JSON\"\n",
    "    syns = safe_get_json(url).get(\"InformationList\", {}).get(\"Information\", [{}])[0].get(\"Synonym\", [])\n",
    "    return syns[:limit]\n",
    "\n",
    "pubchem_synonyms(2244, limit=8)"
   ]
  },
  {
   "cell_type": "markdown",
   "id": "0f75ca42",
   "metadata": {},
   "source": [
    "### 3.3 PNG depiction from PubChem"
   ]
  },
  {
   "cell_type": "code",
   "execution_count": 14,
   "id": "b91d4f92",
   "metadata": {},
   "outputs": [
    {
     "data": {
      "image/png": "[encoded data removed]",
      "text/plain": [
       "<IPython.core.display.Image object>"
      ]
     },
     "metadata": {},
     "output_type": "display_data"
    }
   ],
   "source": [
    "def pubchem_png_by_cid(cid, size=300):\n",
    "    url = f\"https://pubchem.ncbi.nlm.nih.gov/rest/pug/compound/cid/{int(cid)}/PNG?image_size={int(size)}x{int(size)}\"\n",
    "    return safe_get_bytes(url)\n",
    "\n",
    "png_bytes = pubchem_png_by_cid(2244, size=300)\n",
    "display(Image(data=png_bytes))"
   ]
  },
  {
   "cell_type": "markdown",
   "id": "5a5d91ab",
   "metadata": {},
   "source": [
    "### 3.4 PUG-View for safety snippets\n",
    "\n",
    "`PUG-View` serves formatted record content such as GHS classification. The path is:\n",
    "\n",
    "```\n",
    "https://pubchem.ncbi.nlm.nih.gov/rest/pug_view/data/compound/<cid>/JSON\n",
    "```\n",
    "\n",
    "The JSON is nested. The simple utility below searches for any block whose title contains a keyword."
   ]
  },
  {
   "cell_type": "code",
   "execution_count": 15,
   "id": "a9a950f7",
   "metadata": {},
   "outputs": [
    {
     "data": {
      "text/plain": [
       "['GHS Classification', 'UN GHS Classification']"
      ]
     },
     "execution_count": 15,
     "metadata": {},
     "output_type": "execute_result"
    }
   ],
   "source": [
    "def pug_view_find_sections(cid, keyword=\"GHS\"):\n",
    "    url = f\"https://pubchem.ncbi.nlm.nih.gov/rest/pug_view/data/compound/{int(cid)}/JSON\"\n",
    "    data = safe_get_json(url)\n",
    "    hits = []\n",
    "    def walk(sections, path=\"\"):\n",
    "        for sec in sections or []:\n",
    "            title = sec.get(\"TOCHeading\", \"\") or sec.get(\"Title\", \"\")\n",
    "            if keyword.lower() in title.lower():\n",
    "                hits.append({\"title\": title, \"path\": path + \" > \" + title, \"section\": sec})\n",
    "            walk(sec.get(\"Section\"), path + \" > \" + title)\n",
    "    rec = data.get(\"Record\", {})\n",
    "    walk(rec.get(\"Section\"))\n",
    "    return hits\n",
    "\n",
    "ghs_hits = pug_view_find_sections(2244, \"GHS\")\n",
    "[x[\"title\"] for x in ghs_hits][:5]"
   ]
  },
  {
   "cell_type": "markdown",
   "id": "6f53739d",
   "metadata": {},
   "source": [
    "To show a short plain text summary, extract strings in the first hit:"
   ]
  },
  {
   "cell_type": "code",
   "execution_count": 16,
   "id": "9a7b1971",
   "metadata": {},
   "outputs": [
    {
     "name": "stdout",
     "output_type": "stream",
     "text": [
      "This chemical does not meet GHS hazard criteria for 0.3% (1  of 315) of reports.\n",
      "Warning\n",
      "H302 (95.6%): Harmful if swallowed [Warning Acute toxicity, oral]\n",
      "H315 (20.6%): Causes skin irritation [Warning Skin corrosion/irritation]\n",
      "H319 (22.2%): Causes serious eye irritation [Warning Serious eye damage/eye irritation]\n",
      "H335 (20%): May cause respiratory irritation [Warning Specific target organ toxicity, single exposure; Respiratory tract irritation]\n",
      "P261, P264, P264+P265, P270, P271, P280, P301+P317, P302+P352, P304+P340, P305+P351+P338, P319, P321, P330, P332+P317, P337+P317, P362+P364, P403+P233, P405, and P501\n",
      "Aggregated GHS information provided per 315 reports by companies from 23 notifications to the ECHA C&L Inventory. Each notification may be associated with multiple companies.\n",
      "Reported as not meeting GHS hazard criteria per 1 of 315 reports by companies.\n",
      "There are 22 notifications provided by 314 of 315 reports by companies with hazard statement code(s).\n",
      "Information may vary between notifications depending on impurities, additives, and other factors. The percentage value in parenthesis indicates the notified classification ratio from companies that provide hazard codes. Only hazard codes with percentage values above 10% are shown. For more detailed information, please visit  ECHA C&L website.\n",
      "Danger\n"
     ]
    }
   ],
   "source": [
    "def pug_view_text_from_hit(hit, max_lines=12):\n",
    "    lines = []\n",
    "    def walk(sec):\n",
    "        for i in sec.get(\"Information\", []) or []:\n",
    "            sval = i.get(\"Value\", {}).get(\"StringWithMarkup\", [])\n",
    "            for s in sval:\n",
    "                txt = s.get(\"String\", \"\").strip()\n",
    "                if txt:\n",
    "                    lines.append(txt)\n",
    "        for ch in sec.get(\"Section\", []) or []:\n",
    "            walk(ch)\n",
    "    walk(hit[\"section\"])\n",
    "    return \"\\n\".join(lines[:max_lines])\n",
    "\n",
    "if ghs_hits:\n",
    "    print(pug_view_text_from_hit(ghs_hits[0]))"
   ]
  },
  {
   "cell_type": "markdown",
   "id": "5489c002",
   "metadata": {},
   "source": [
    "---\n",
    "\n",
    "## 4. NCI Chemical Identifier Resolver (CIR) as a second path\n",
    "\n",
    "Base URL:\n",
    "\n",
    "```\n",
    "https://cactus.nci.nih.gov/chemical/structure/<input>/<output>\n",
    "```\n",
    "\n",
    "Useful outputs: `smiles`, `stdinchi`, `stdinchikey`, `names`, `cas`, `image`, `mw`"
   ]
  },
  {
   "cell_type": "code",
   "execution_count": 17,
   "id": "4d4caace",
   "metadata": {},
   "outputs": [
    {
     "name": "stdout",
     "output_type": "stream",
     "text": [
      "SMILES: CC(=O)Oc1ccccc1C(O)=O ...\n",
      "InChIKey: InChIKey=BSYNRYMUTXBXSQ-UHFFFAOYSA-N\n"
     ]
    },
    {
     "name": "stdout",
     "output_type": "stream",
     "text": [
      "CAS: 50-78-2\n",
      "11126-35-5\n",
      "11126-37-7\n",
      "2349-94-2\n",
      "26914-13-6\n",
      "98201-60-6\n"
     ]
    }
   ],
   "source": [
    "def cir_get(q, out=\"smiles\"):\n",
    "    q_enc = quote_plus(str(q).strip())\n",
    "    url = f\"https://cactus.nci.nih.gov/chemical/structure/{q_enc}/{out}\"\n",
    "    try:\n",
    "        if out == \"image\":\n",
    "            return safe_get_bytes(url)\n",
    "        else:\n",
    "            return safe_get_text(url)\n",
    "    except Exception as e:\n",
    "        return None\n",
    "\n",
    "print(\"SMILES:\", cir_get(\"aspirin\", \"smiles\"), \"...\")\n",
    "print(\"InChIKey:\", cir_get(\"aspirin\", \"stdinchikey\"))\n",
    "print(\"CAS:\", cir_get(\"aspirin\", \"cas\"))"
   ]
  },
  {
   "cell_type": "markdown",
   "id": "da1d7903",
   "metadata": {},
   "source": [
    "### 4.1 Simple fallback for SMILES"
   ]
  },
  {
   "cell_type": "code",
   "execution_count": 18,
   "id": "8a187569",
   "metadata": {},
   "outputs": [
    {
     "name": "stdout",
     "output_type": "stream",
     "text": [
      "CC(C)CC1=CC=C(C=C1)C(C)C(=O)O\n"
     ]
    }
   ],
   "source": [
    "def get_smiles_with_fallback(query):\n",
    "    # Try PubChem first\n",
    "    try:\n",
    "        if str(query).isdigit():\n",
    "            smi = safe_get_text(f\"https://pubchem.ncbi.nlm.nih.gov/rest/pug/compound/cid/{int(query)}/property/IsomericSMILES/TXT\")\n",
    "        else:\n",
    "            smi = safe_get_text(f\"https://pubchem.ncbi.nlm.nih.gov/rest/pug/compound/name/{quote_plus(str(query))}/property/IsomericSMILES/TXT\")\n",
    "        if smi:\n",
    "            return smi\n",
    "    except Exception:\n",
    "        pass\n",
    "    # Fallback to CIR\n",
    "    return cir_get(query, \"smiles\")\n",
    "\n",
    "print(get_smiles_with_fallback(\"ibuprofen\"))"
   ]
  },
  {
   "cell_type": "markdown",
   "id": "27bb599b",
   "metadata": {},
   "source": [
    "---\n",
    "\n",
    "## 5. Mini widget\n",
    "\n",
    "Enter a **name or CID or SMILES or CAS** and show a quick summary. Generates a small GIF from a PNG depiction so it can be shared easily."
   ]
  },
  {
   "cell_type": "code",
   "execution_count": 19,
   "id": "fa13aacf",
   "metadata": {},
   "outputs": [
    {
     "data": {
      "application/vnd.jupyter.widget-view+json": {
       "model_id": "e6dc2971f42c4869a4dfd101ab86ae4f",
       "version_major": 2,
       "version_minor": 0
      },
      "text/plain": [
       "HBox(children=(Text(value='aspirin', description='Query:', layout=Layout(width='60%')), ToggleButtons(descript…"
      ]
     },
     "metadata": {},
     "output_type": "display_data"
    },
    {
     "data": {
      "application/vnd.jupyter.widget-view+json": {
       "model_id": "c07aa3d031f7400d8a0b5ceeb5553f3f",
       "version_major": 2,
       "version_minor": 0
      },
      "text/plain": [
       "Output()"
      ]
     },
     "metadata": {},
     "output_type": "display_data"
    }
   ],
   "source": [
    "def to_small_gif_from_png_bytes(png_bytes, out_size=(240,240)):\n",
    "    try:\n",
    "        im = PILImage.open(BytesIO(png_bytes)).convert(\"RGBA\")\n",
    "        im = im.resize(out_size)\n",
    "        # two-frame GIF blink to satisfy the GIF requirement\n",
    "        bio = BytesIO()\n",
    "        im.save(bio, format=\"GIF\", save_all=True, append_images=[im], duration=600, loop=0)\n",
    "        return bio.getvalue()\n",
    "    except Exception as e:\n",
    "        return None\n",
    "\n",
    "def quick_summary(query, source=\"PubChem\"):\n",
    "    q = str(query).strip()\n",
    "    summary = {\"query\": q, \"source\": source}\n",
    "    try:\n",
    "        if source == \"PubChem\":\n",
    "            if q.isdigit():\n",
    "                info = pubchem_by_cid(int(q))\n",
    "            else:\n",
    "                info = pubchem_by_name(q)\n",
    "            summary.update(info)\n",
    "            png = pubchem_png_by_cid(summary[\"cid\"], size=300)\n",
    "            gif_bytes = to_small_gif_from_png_bytes(png)\n",
    "            summary[\"gif\"] = gif_bytes\n",
    "        else:\n",
    "            smi = get_smiles_with_fallback(q)\n",
    "            summary[\"smiles\"] = smi\n",
    "            summary[\"inchikey\"] = cir_get(q, \"stdinchikey\")\n",
    "            summary[\"iupac\"] = cir_get(q, \"iupac_name\")\n",
    "            img = cir_get(q, \"image\")\n",
    "            summary[\"gif\"] = to_small_gif_from_png_bytes(img) if img else None\n",
    "        return summary\n",
    "    except Exception as e:\n",
    "        summary[\"error\"] = str(e)\n",
    "        return summary\n",
    "\n",
    "if widgets is not None:\n",
    "    inp = widgets.Text(value=\"aspirin\", description=\"Query:\", layout=widgets.Layout(width=\"60%\"))\n",
    "    src = widgets.ToggleButtons(options=[\"PubChem\",\"CIR\"], description=\"Source:\")\n",
    "    btn = widgets.Button(description=\"Fetch\", button_style=\"primary\")\n",
    "    out = widgets.Output()\n",
    "\n",
    "    def run_fetch(b):\n",
    "        with out:\n",
    "            clear_output()\n",
    "            res = quick_summary(inp.value, source=src.value)\n",
    "            if \"error\" in res:\n",
    "                print(\"Error:\", res[\"error\"])\n",
    "                return\n",
    "            print(\"Source:\", res.get(\"source\"))\n",
    "            print(\"CID:\", res.get(\"cid\"))\n",
    "            print(\"IUPAC:\", res.get(\"iupac\"))\n",
    "            print(\"SMILES:\", res.get(\"smiles\"))\n",
    "            print(\"InChIKey:\", res.get(\"inchikey\"))\n",
    "            if res.get(\"gif\"):\n",
    "                display(Image(data=res[\"gif\"]))\n",
    "            else:\n",
    "                print(\"No image available\")\n",
    "    btn.on_click(run_fetch)\n",
    "    display(widgets.HBox([inp, src, btn]), out)\n",
    "else:\n",
    "    print(\"ipywidgets is not available in this environment.\")"
   ]
  },
  {
   "cell_type": "markdown",
   "id": "48b763ae",
   "metadata": {},
   "source": [
    "---\n",
    "\n",
    "## 6. Case study with CAS from Excel\n",
    "\n",
    "We will re-use the inventory file:\n",
    "\n",
    "📂 `organic ligands inventory.xlsx`  \n",
    "<https://raw.githubusercontent.com/zzhenglab/ai4chem/main/book/_data/organic_ligands_inventory.xlsx>"
   ]
  },
  {
   "cell_type": "code",
   "execution_count": 20,
   "id": "fcdf4317",
   "metadata": {},
   "outputs": [
    {
     "ename": "ImportError",
     "evalue": "Missing optional dependency 'openpyxl'.  Use pip or conda to install openpyxl.",
     "output_type": "error",
     "traceback": [
      "\u001b[1;31m---------------------------------------------------------------------------\u001b[0m",
      "\u001b[1;31mModuleNotFoundError\u001b[0m                       Traceback (most recent call last)",
      "File \u001b[1;32mc:\\users\\52377\\appdata\\local\\programs\\python\\python38\\lib\\site-packages\\pandas\\compat\\_optional.py:142\u001b[0m, in \u001b[0;36mimport_optional_dependency\u001b[1;34m(name, extra, errors, min_version)\u001b[0m\n\u001b[0;32m    141\u001b[0m \u001b[38;5;28;01mtry\u001b[39;00m:\n\u001b[1;32m--> 142\u001b[0m     module \u001b[38;5;241m=\u001b[39m \u001b[43mimportlib\u001b[49m\u001b[38;5;241;43m.\u001b[39;49m\u001b[43mimport_module\u001b[49m\u001b[43m(\u001b[49m\u001b[43mname\u001b[49m\u001b[43m)\u001b[49m\n\u001b[0;32m    143\u001b[0m \u001b[38;5;28;01mexcept\u001b[39;00m \u001b[38;5;167;01mImportError\u001b[39;00m:\n",
      "File \u001b[1;32mc:\\users\\52377\\appdata\\local\\programs\\python\\python38\\lib\\importlib\\__init__.py:127\u001b[0m, in \u001b[0;36mimport_module\u001b[1;34m(name, package)\u001b[0m\n\u001b[0;32m    126\u001b[0m         level \u001b[38;5;241m+\u001b[39m\u001b[38;5;241m=\u001b[39m \u001b[38;5;241m1\u001b[39m\n\u001b[1;32m--> 127\u001b[0m \u001b[38;5;28;01mreturn\u001b[39;00m \u001b[43m_bootstrap\u001b[49m\u001b[38;5;241;43m.\u001b[39;49m\u001b[43m_gcd_import\u001b[49m\u001b[43m(\u001b[49m\u001b[43mname\u001b[49m\u001b[43m[\u001b[49m\u001b[43mlevel\u001b[49m\u001b[43m:\u001b[49m\u001b[43m]\u001b[49m\u001b[43m,\u001b[49m\u001b[43m \u001b[49m\u001b[43mpackage\u001b[49m\u001b[43m,\u001b[49m\u001b[43m \u001b[49m\u001b[43mlevel\u001b[49m\u001b[43m)\u001b[49m\n",
      "File \u001b[1;32m<frozen importlib._bootstrap>:1014\u001b[0m, in \u001b[0;36m_gcd_import\u001b[1;34m(name, package, level)\u001b[0m\n",
      "File \u001b[1;32m<frozen importlib._bootstrap>:991\u001b[0m, in \u001b[0;36m_find_and_load\u001b[1;34m(name, import_)\u001b[0m\n",
      "File \u001b[1;32m<frozen importlib._bootstrap>:973\u001b[0m, in \u001b[0;36m_find_and_load_unlocked\u001b[1;34m(name, import_)\u001b[0m\n",
      "\u001b[1;31mModuleNotFoundError\u001b[0m: No module named 'openpyxl'",
      "\nDuring handling of the above exception, another exception occurred:\n",
      "\u001b[1;31mImportError\u001b[0m                               Traceback (most recent call last)",
      "Cell \u001b[1;32mIn[20], line 4\u001b[0m\n\u001b[0;32m      1\u001b[0m \u001b[38;5;28;01mimport\u001b[39;00m\u001b[38;5;250m \u001b[39m\u001b[38;5;21;01mpandas\u001b[39;00m\u001b[38;5;250m \u001b[39m\u001b[38;5;28;01mas\u001b[39;00m\u001b[38;5;250m \u001b[39m\u001b[38;5;21;01mpd\u001b[39;00m\n\u001b[0;32m      3\u001b[0m url \u001b[38;5;241m=\u001b[39m \u001b[38;5;124m\"\u001b[39m\u001b[38;5;124mhttps://raw.githubusercontent.com/zzhenglab/ai4chem/main/book/_data/organic_ligands_inventory.xlsx\u001b[39m\u001b[38;5;124m\"\u001b[39m\n\u001b[1;32m----> 4\u001b[0m df \u001b[38;5;241m=\u001b[39m \u001b[43mpd\u001b[49m\u001b[38;5;241;43m.\u001b[39;49m\u001b[43mread_excel\u001b[49m\u001b[43m(\u001b[49m\u001b[43murl\u001b[49m\u001b[43m,\u001b[49m\u001b[43m \u001b[49m\u001b[43mengine\u001b[49m\u001b[38;5;241;43m=\u001b[39;49m\u001b[38;5;124;43m\"\u001b[39;49m\u001b[38;5;124;43mopenpyxl\u001b[39;49m\u001b[38;5;124;43m\"\u001b[39;49m\u001b[43m)\u001b[49m\n\u001b[0;32m      5\u001b[0m df\u001b[38;5;241m.\u001b[39mhead()\n",
      "File \u001b[1;32mc:\\users\\52377\\appdata\\local\\programs\\python\\python38\\lib\\site-packages\\pandas\\io\\excel\\_base.py:478\u001b[0m, in \u001b[0;36mread_excel\u001b[1;34m(io, sheet_name, header, names, index_col, usecols, dtype, engine, converters, true_values, false_values, skiprows, nrows, na_values, keep_default_na, na_filter, verbose, parse_dates, date_parser, date_format, thousands, decimal, comment, skipfooter, storage_options, dtype_backend)\u001b[0m\n\u001b[0;32m    476\u001b[0m \u001b[38;5;28;01mif\u001b[39;00m \u001b[38;5;129;01mnot\u001b[39;00m \u001b[38;5;28misinstance\u001b[39m(io, ExcelFile):\n\u001b[0;32m    477\u001b[0m     should_close \u001b[38;5;241m=\u001b[39m \u001b[38;5;28;01mTrue\u001b[39;00m\n\u001b[1;32m--> 478\u001b[0m     io \u001b[38;5;241m=\u001b[39m \u001b[43mExcelFile\u001b[49m\u001b[43m(\u001b[49m\u001b[43mio\u001b[49m\u001b[43m,\u001b[49m\u001b[43m \u001b[49m\u001b[43mstorage_options\u001b[49m\u001b[38;5;241;43m=\u001b[39;49m\u001b[43mstorage_options\u001b[49m\u001b[43m,\u001b[49m\u001b[43m \u001b[49m\u001b[43mengine\u001b[49m\u001b[38;5;241;43m=\u001b[39;49m\u001b[43mengine\u001b[49m\u001b[43m)\u001b[49m\n\u001b[0;32m    479\u001b[0m \u001b[38;5;28;01melif\u001b[39;00m engine \u001b[38;5;129;01mand\u001b[39;00m engine \u001b[38;5;241m!=\u001b[39m io\u001b[38;5;241m.\u001b[39mengine:\n\u001b[0;32m    480\u001b[0m     \u001b[38;5;28;01mraise\u001b[39;00m \u001b[38;5;167;01mValueError\u001b[39;00m(\n\u001b[0;32m    481\u001b[0m         \u001b[38;5;124m\"\u001b[39m\u001b[38;5;124mEngine should not be specified when passing \u001b[39m\u001b[38;5;124m\"\u001b[39m\n\u001b[0;32m    482\u001b[0m         \u001b[38;5;124m\"\u001b[39m\u001b[38;5;124man ExcelFile - ExcelFile already has the engine set\u001b[39m\u001b[38;5;124m\"\u001b[39m\n\u001b[0;32m    483\u001b[0m     )\n",
      "File \u001b[1;32mc:\\users\\52377\\appdata\\local\\programs\\python\\python38\\lib\\site-packages\\pandas\\io\\excel\\_base.py:1513\u001b[0m, in \u001b[0;36mExcelFile.__init__\u001b[1;34m(self, path_or_buffer, engine, storage_options)\u001b[0m\n\u001b[0;32m   1510\u001b[0m \u001b[38;5;28mself\u001b[39m\u001b[38;5;241m.\u001b[39mengine \u001b[38;5;241m=\u001b[39m engine\n\u001b[0;32m   1511\u001b[0m \u001b[38;5;28mself\u001b[39m\u001b[38;5;241m.\u001b[39mstorage_options \u001b[38;5;241m=\u001b[39m storage_options\n\u001b[1;32m-> 1513\u001b[0m \u001b[38;5;28mself\u001b[39m\u001b[38;5;241m.\u001b[39m_reader \u001b[38;5;241m=\u001b[39m \u001b[38;5;28;43mself\u001b[39;49m\u001b[38;5;241;43m.\u001b[39;49m\u001b[43m_engines\u001b[49m\u001b[43m[\u001b[49m\u001b[43mengine\u001b[49m\u001b[43m]\u001b[49m\u001b[43m(\u001b[49m\u001b[38;5;28;43mself\u001b[39;49m\u001b[38;5;241;43m.\u001b[39;49m\u001b[43m_io\u001b[49m\u001b[43m,\u001b[49m\u001b[43m \u001b[49m\u001b[43mstorage_options\u001b[49m\u001b[38;5;241;43m=\u001b[39;49m\u001b[43mstorage_options\u001b[49m\u001b[43m)\u001b[49m\n",
      "File \u001b[1;32mc:\\users\\52377\\appdata\\local\\programs\\python\\python38\\lib\\site-packages\\pandas\\io\\excel\\_openpyxl.py:548\u001b[0m, in \u001b[0;36mOpenpyxlReader.__init__\u001b[1;34m(self, filepath_or_buffer, storage_options)\u001b[0m\n\u001b[0;32m    533\u001b[0m \u001b[38;5;129m@doc\u001b[39m(storage_options\u001b[38;5;241m=\u001b[39m_shared_docs[\u001b[38;5;124m\"\u001b[39m\u001b[38;5;124mstorage_options\u001b[39m\u001b[38;5;124m\"\u001b[39m])\n\u001b[0;32m    534\u001b[0m \u001b[38;5;28;01mdef\u001b[39;00m\u001b[38;5;250m \u001b[39m\u001b[38;5;21m__init__\u001b[39m(\n\u001b[0;32m    535\u001b[0m     \u001b[38;5;28mself\u001b[39m,\n\u001b[0;32m    536\u001b[0m     filepath_or_buffer: FilePath \u001b[38;5;241m|\u001b[39m ReadBuffer[\u001b[38;5;28mbytes\u001b[39m],\n\u001b[0;32m    537\u001b[0m     storage_options: StorageOptions \u001b[38;5;241m=\u001b[39m \u001b[38;5;28;01mNone\u001b[39;00m,\n\u001b[0;32m    538\u001b[0m ) \u001b[38;5;241m-\u001b[39m\u001b[38;5;241m>\u001b[39m \u001b[38;5;28;01mNone\u001b[39;00m:\n\u001b[0;32m    539\u001b[0m \u001b[38;5;250m    \u001b[39m\u001b[38;5;124;03m\"\"\"\u001b[39;00m\n\u001b[0;32m    540\u001b[0m \u001b[38;5;124;03m    Reader using openpyxl engine.\u001b[39;00m\n\u001b[0;32m    541\u001b[0m \n\u001b[1;32m   (...)\u001b[0m\n\u001b[0;32m    546\u001b[0m \u001b[38;5;124;03m    {storage_options}\u001b[39;00m\n\u001b[0;32m    547\u001b[0m \u001b[38;5;124;03m    \"\"\"\u001b[39;00m\n\u001b[1;32m--> 548\u001b[0m     \u001b[43mimport_optional_dependency\u001b[49m\u001b[43m(\u001b[49m\u001b[38;5;124;43m\"\u001b[39;49m\u001b[38;5;124;43mopenpyxl\u001b[39;49m\u001b[38;5;124;43m\"\u001b[39;49m\u001b[43m)\u001b[49m\n\u001b[0;32m    549\u001b[0m     \u001b[38;5;28msuper\u001b[39m()\u001b[38;5;241m.\u001b[39m\u001b[38;5;21m__init__\u001b[39m(filepath_or_buffer, storage_options\u001b[38;5;241m=\u001b[39mstorage_options)\n",
      "File \u001b[1;32mc:\\users\\52377\\appdata\\local\\programs\\python\\python38\\lib\\site-packages\\pandas\\compat\\_optional.py:145\u001b[0m, in \u001b[0;36mimport_optional_dependency\u001b[1;34m(name, extra, errors, min_version)\u001b[0m\n\u001b[0;32m    143\u001b[0m \u001b[38;5;28;01mexcept\u001b[39;00m \u001b[38;5;167;01mImportError\u001b[39;00m:\n\u001b[0;32m    144\u001b[0m     \u001b[38;5;28;01mif\u001b[39;00m errors \u001b[38;5;241m==\u001b[39m \u001b[38;5;124m\"\u001b[39m\u001b[38;5;124mraise\u001b[39m\u001b[38;5;124m\"\u001b[39m:\n\u001b[1;32m--> 145\u001b[0m         \u001b[38;5;28;01mraise\u001b[39;00m \u001b[38;5;167;01mImportError\u001b[39;00m(msg)\n\u001b[0;32m    146\u001b[0m     \u001b[38;5;28;01mreturn\u001b[39;00m \u001b[38;5;28;01mNone\u001b[39;00m\n\u001b[0;32m    148\u001b[0m \u001b[38;5;66;03m# Handle submodules: if we have submodule, grab parent module from sys.modules\u001b[39;00m\n",
      "\u001b[1;31mImportError\u001b[0m: Missing optional dependency 'openpyxl'.  Use pip or conda to install openpyxl."
     ]
    }
   ],
   "source": [
    "import pandas as pd\n",
    "\n",
    "url = \"https://raw.githubusercontent.com/zzhenglab/ai4chem/main/book/_data/organic_ligands_inventory.xlsx\"\n",
    "df = pd.read_excel(url, engine=\"openpyxl\")\n",
    "df.head()"
   ]
  },
  {
   "cell_type": "markdown",
   "id": "81877dbf",
   "metadata": {},
   "source": [
    "```{admonition} Why \"openpyxl\"?\n",
    "In previous example, we directly read csv. However, to access excell spreedsheet, we need to specify `engine=\"openpyxl\"`.\n",
    "\n",
    "```\n",
    "\n",
    "### 6.1 Query PubChem by CAS with fallback"
   ]
  },
  {
   "cell_type": "code",
   "execution_count": null,
   "id": "36cac855",
   "metadata": {},
   "outputs": [],
   "source": [
    "def by_cas_with_fallback(cas, isomeric=True):\n",
    "    enc = quote_plus(str(cas))\n",
    "    try:\n",
    "        kind = \"IsomericSMILES\" if isomeric else \"CanonicalSMILES\"\n",
    "        smi_url = f\"https://pubchem.ncbi.nlm.nih.gov/rest/pug/compound/name/{enc}/property/{kind}/TXT\"\n",
    "        smiles = safe_get_text(smi_url)\n",
    "        cid_url = f\"https://pubchem.ncbi.nlm.nih.gov/rest/pug/compound/name/{enc}/cids/TXT\"\n",
    "        try:\n",
    "            cid = int(safe_get_text(cid_url).split()[0])\n",
    "        except Exception:\n",
    "            cid = None\n",
    "    except Exception:\n",
    "        smiles = cir_get(cas, \"smiles\")\n",
    "        cid = None\n",
    "    return {\"cas\": cas, \"cid\": cid, \"smiles\": smiles}\n",
    "\n",
    "example_cas = df.loc[0, \"CAS\"]\n",
    "by_cas_with_fallback(example_cas)"
   ]
  },
  {
   "cell_type": "markdown",
   "id": "e8fe37df",
   "metadata": {},
   "source": [
    "### 6.2 Enrich a small slice"
   ]
  },
  {
   "cell_type": "code",
   "execution_count": null,
   "id": "36a56ff4",
   "metadata": {},
   "outputs": [],
   "source": [
    "rows = []\n",
    "for cas in df[\"CAS\"].head(8):\n",
    "    try:\n",
    "        rec = by_cas_with_fallback(cas)\n",
    "        if rec[\"cid\"]:\n",
    "            more = pubchem_properties(rec[\"cid\"])\n",
    "            rec.update(more)\n",
    "        rows.append(rec)\n",
    "    except Exception:\n",
    "        rows.append({\"cas\": cas, \"cid\": None, \"smiles\": None})\n",
    "pd.DataFrame(rows)"
   ]
  },
  {
   "cell_type": "markdown",
   "id": "fb1397d1",
   "metadata": {},
   "source": [
    "---\n",
    "\n",
    "\n",
    "## 7. Glossary\n",
    "\n",
    "```{glossary}\n",
    "PUG-REST\n",
    "  The PubChem REST interface that returns properties, identifiers and files via URL patterns.\n",
    "\n",
    "PUG-View\n",
    "  A service that returns human-oriented record sections such as safety and vendor data in JSON.\n",
    "\n",
    "CID\n",
    "  PubChem Compound ID for a unique compound record.\n",
    "\n",
    "SID\n",
    "  PubChem Substance ID which refers to a submitted substance record.\n",
    "\n",
    "AID\n",
    "  PubChem Assay ID for a bioassay record.\n",
    "\n",
    "SMILES\n",
    "  Text line notation for molecules. Canonical SMILES omits stereochemistry. Isomeric SMILES includes it.\n",
    "\n",
    "InChI and InChIKey\n",
    "  IUPAC identifiers. InChIKey is a hashed, fixed-length form that is easy to compare.\n",
    "\n",
    "GHS\n",
    "  Globally Harmonized System of Classification and Labelling of Chemicals. PubChem PUG-View can include these sections.\n",
    "\n",
    "CIR\n",
    "  NCI Chemical Identifier Resolver. A second service that converts between names, SMILES, InChI, InChIKey and more.\n",
    "\n",
    "sanitize\n",
    "  RDKit process that checks valence, aromaticity and stereochemistry.\n",
    "\n",
    "descriptor\n",
    "  Computed molecular property such as molecular weight or LogP.\n",
    "```\n",
    "\n",
    "---\n",
    "\n",
    "## 8. Quick reference\n",
    "\n",
    "```{admonition} PubChem endpoints to remember\n",
    "- Name to CID: `/compound/name/<name>/cids/JSON`\n",
    "- CID to properties: `/compound/cid/<cid>/property/<fields>/JSON`\n",
    "- CID to PNG depiction: `/compound/cid/<cid>/PNG?image_size=300x300`\n",
    "- Synonyms: `/compound/cid/<cid>/synonyms/JSON`\n",
    "- PUG-View record: `/rest/pug_view/data/compound/<cid>/JSON`\n",
    "```\n",
    "\n",
    "```{admonition} CIR endpoints to remember\n",
    "- `/<input>/smiles`, `/<input>/stdinchi`, `/<input>/stdinchikey`\n",
    "- `/<input>/names` and `/<input>/cas` for synonyms and CAS when available\n",
    "- `/<input>/image` to get a 2D depiction\n",
    "- `/<input>/mw` to get molecular weight\n",
    "```\n",
    "\n",
    "---\n",
    "\n",
    "## 9. In-class activity \n",
    "\n",
    "Each task is aligned with what we covered above. Work in pairs. Fill in the `...` lines. Solutions are in Section 13.\n",
    "\n",
    "### 9.1 Verify PubChem vs CIR agreement\n",
    "\n",
    "Given `targets = [\"caffeine\", \"ibuprofen\", \"acetaminophen\"]`\n",
    "\n",
    "- Get InChIKey from PubChem and from CIR.  \n",
    "- Report whether they match."
   ]
  },
  {
   "cell_type": "code",
   "execution_count": null,
   "id": "75dd0fe0",
   "metadata": {},
   "outputs": [],
   "source": [
    "targets = [\"caffeine\", \"ibuprofen\", \"acetaminophen\"]\n",
    "for t in targets:\n",
    "    pc_key = pubchem_by_name(t)[\"inchikey\"]\n",
    "    cir_key = cir_get(t, \"stdinchikey\")\n",
    "    print(f\"{t:14s} PubChem={pc_key}  CIR={cir_key}  match={pc_key==cir_key}\")"
   ]
  },
  {
   "cell_type": "markdown",
   "id": "6c4e08dc",
   "metadata": {},
   "source": [
    "### 9.2 Small properties table from names\n",
    "\n",
    "Use names `[\"caffeine\", \"acetaminophen\", \"ibuprofen\"]`. For each, fetch SMILES from PubChem, then compute MolWt, LogP, HBD, HBA, and TPSA."
   ]
  },
  {
   "cell_type": "code",
   "execution_count": null,
   "id": "382d4fd1",
   "metadata": {},
   "outputs": [],
   "source": [
    "if Chem is not None:\n",
    "    import pandas as pd\n",
    "    rows = []\n",
    "    names = [\"caffeine\", \"acetaminophen\", \"ibuprofen\"]\n",
    "    for nm in names:\n",
    "        info = pubchem_by_name(nm)\n",
    "        smi = info[\"smiles\"]\n",
    "        m = Chem.MolFromSmiles(smi)\n",
    "        rows.append({\n",
    "            \"name\": nm,\n",
    "            \"smiles\": smi,\n",
    "            \"MolWt\": Descriptors.MolWt(m),\n",
    "            \"LogP\": Crippen.MolLogP(m),\n",
    "            \"HBD\": rdMolDescriptors.CalcNumHBD(m),\n",
    "            \"HBA\": rdMolDescriptors.CalcNumHBA(m),\n",
    "            \"TPSA\": rdMolDescriptors.CalcTPSA(m)\n",
    "        })\n",
    "    pd.DataFrame(rows)\n",
    "else:\n",
    "    print(\"RDKit is not available here.\")"
   ]
  },
  {
   "cell_type": "markdown",
   "id": "cf3ecb67",
   "metadata": {},
   "source": [
    "### 9.3 Get a quick GHS note from PUG-View\n",
    "\n",
    "- For CID 2244 retrieve GHS section text.  \n",
    "- Print the first 8 lines."
   ]
  },
  {
   "cell_type": "code",
   "execution_count": null,
   "id": "8c6c6596",
   "metadata": {},
   "outputs": [],
   "source": [
    "hits = pug_view_find_sections(2244, \"GHS\")\n",
    "print(pug_view_text_from_hit(hits[0], max_lines=8))"
   ]
  },
  {
   "cell_type": "markdown",
   "id": "a2b67226",
   "metadata": {},
   "source": [
    "### 9.4 Replace chlorine with fluorine\n",
    "\n",
    "Replace Cl with F in `Clc1ccc(cc1)C(=O)O` and print the result SMILES."
   ]
  },
  {
   "cell_type": "code",
   "execution_count": null,
   "id": "fd16fb04",
   "metadata": {},
   "outputs": [],
   "source": [
    "if Chem is not None:\n",
    "    find = Chem.MolFromSmiles(\"Cl\")   # TO DO\n",
    "    put  = Chem.MolFromSmiles(\"F\")    # TO DO\n",
    "    mol  = Chem.MolFromSmiles(\"Clc1ccc(cc1)C(=O)O\")\n",
    "    out  = Chem.ReplaceSubstructs(mol, find, put, replaceAll=True)[0]\n",
    "    print(Chem.MolToSmiles(out))\n",
    "else:\n",
    "    print(\"RDKit is not available here.\")"
   ]
  },
  {
   "cell_type": "markdown",
   "id": "5eae241c",
   "metadata": {},
   "source": [
    "### 9.5 Build a one-liner resolver\n",
    "\n",
    "- Input list `[\"446157\", \"2244\", \"CCO\", \"482752\", \"c1ccccc1\"]`  \n",
    "- If it is digits treat as CID else try SMILES else treat as name.  \n",
    "- Print `input=# CID=# SMILES=...` and draw if RDKit is available."
   ]
  },
  {
   "cell_type": "code",
   "execution_count": null,
   "id": "b2b1bc7b",
   "metadata": {},
   "outputs": [],
   "source": [
    "items = [\"446157\", \"2244\", \"CCO\", \"482752\", \"c1ccccc1\"]\n",
    "\n",
    "for q in items:\n",
    "    if q.isdigit():\n",
    "        info = pubchem_by_cid(int(q))\n",
    "        smi, cid = info[\"smiles\"], info[\"cid\"]\n",
    "    elif Chem is not None and Chem.MolFromSmiles(q):\n",
    "        smi, cid = q, None\n",
    "    else:\n",
    "        info = pubchem_by_name(q)\n",
    "        smi, cid = info[\"smiles\"], info[\"cid\"]\n",
    "    print(f\"input={q} CID={cid} SMILES={smi}\")\n",
    "    if Chem is not None:\n",
    "        m = Chem.MolFromSmiles(smi)\n",
    "        display(Draw.MolToImage(m, size=(220, 180)))"
   ]
  },
  {
   "cell_type": "markdown",
   "id": "7776ecf5",
   "metadata": {},
   "source": [
    "---\n",
    "\n",
    "## 10. Solutions\n",
    "\n",
    "### Solution 9.1"
   ]
  },
  {
   "cell_type": "code",
   "execution_count": null,
   "id": "bdd59c49",
   "metadata": {},
   "outputs": [],
   "source": [
    "targets = [\"caffeine\", \"ibuprofen\", \"acetaminophen\"]\n",
    "for t in targets:\n",
    "    pc_key = pubchem_by_name(t)[\"inchikey\"]\n",
    "    cir_key = cir_get(t, \"stdinchikey\")\n",
    "    print(f\"{t:14s} PubChem={pc_key}  CIR={cir_key}  match={pc_key==cir_key}\")"
   ]
  },
  {
   "cell_type": "markdown",
   "id": "9c4d25b9",
   "metadata": {},
   "source": [
    "### Solution 9.2"
   ]
  },
  {
   "cell_type": "code",
   "execution_count": null,
   "id": "2dee1643",
   "metadata": {},
   "outputs": [],
   "source": [
    "if Chem is not None:\n",
    "    import pandas as pd\n",
    "    rows = []\n",
    "    names = [\"caffeine\", \"acetaminophen\", \"ibuprofen\"]\n",
    "    for nm in names:\n",
    "        info = pubchem_by_name(nm)\n",
    "        smi = info[\"smiles\"]\n",
    "        m = Chem.MolFromSmiles(smi)\n",
    "        rows.append({\n",
    "            \"name\": nm,\n",
    "            \"smiles\": smi,\n",
    "            \"MolWt\": Descriptors.MolWt(m),\n",
    "            \"LogP\": Crippen.MolLogP(m),\n",
    "            \"HBD\": rdMolDescriptors.CalcNumHBD(m),\n",
    "            \"HBA\": rdMolDescriptors.CalcNumHBA(m),\n",
    "            \"TPSA\": rdMolDescriptors.CalcTPSA(m)\n",
    "        })\n",
    "    pd.DataFrame(rows)\n",
    "else:\n",
    "    print(\"RDKit is not available here.\")"
   ]
  },
  {
   "cell_type": "markdown",
   "id": "09994f5c",
   "metadata": {},
   "source": [
    "### Solution 9.3"
   ]
  },
  {
   "cell_type": "code",
   "execution_count": null,
   "id": "ca779563",
   "metadata": {},
   "outputs": [],
   "source": [
    "hits = pug_view_find_sections(2244, \"GHS\")\n",
    "print(pug_view_text_from_hit(hits[0], max_lines=8))"
   ]
  },
  {
   "cell_type": "markdown",
   "id": "e6253827",
   "metadata": {},
   "source": [
    "### Solution 9.4"
   ]
  },
  {
   "cell_type": "code",
   "execution_count": null,
   "id": "d30aae4b",
   "metadata": {},
   "outputs": [],
   "source": [
    "if Chem is not None:\n",
    "    find = Chem.MolFromSmiles(\"Cl\")\n",
    "    put  = Chem.MolFromSmiles(\"F\")\n",
    "    mol  = Chem.MolFromSmiles(\"Clc1ccc(cc1)C(=O)O\")\n",
    "    out  = Chem.ReplaceSubstructs(mol, find, put, replaceAll=True)[0]\n",
    "    print(Chem.MolToSmiles(out))\n",
    "    Draw.MolToImage(out, size=(300, 220))\n",
    "else:\n",
    "    print(\"RDKit is not available here.\")"
   ]
  },
  {
   "cell_type": "markdown",
   "id": "16765ca9",
   "metadata": {},
   "source": [
    "### Solution 9.5"
   ]
  },
  {
   "cell_type": "code",
   "execution_count": null,
   "id": "d555c56f",
   "metadata": {},
   "outputs": [],
   "source": [
    "items = [\"446157\", \"2244\", \"CCO\", \"482752\", \"c1ccccc1\"]\n",
    "\n",
    "for q in items:\n",
    "    if q.isdigit():\n",
    "        info = pubchem_by_cid(int(q))\n",
    "        smi, cid = info[\"smiles\"], info[\"cid\"]\n",
    "    elif Chem is not None and Chem.MolFromSmiles(q):\n",
    "        smi, cid = q, None\n",
    "    else:\n",
    "        info = pubchem_by_name(q)\n",
    "        smi, cid = info[\"smiles\"], info[\"cid\"]\n",
    "    print(f\"input={q} CID={cid} SMILES={smi}\")\n",
    "    if Chem is not None:\n",
    "        m = Chem.MolFromSmiles(smi)\n",
    "        display(Draw.MolToImage(m, size=(220, 180)))"
   ]
  }
 ],
 "metadata": {
  "jupytext": {
   "text_representation": {
    "extension": ".md",
    "format_name": "myst",
    "format_version": 0.13,
    "jupytext_version": "1.16.4"
   }
  },
  "kernelspec": {
   "display_name": "Python 3",
   "language": "python",
   "name": "python3"
  },
  "language_info": {
   "codemirror_mode": {
    "name": "ipython",
    "version": 3
   },
   "file_extension": ".py",
   "mimetype": "text/x-python",
   "name": "python",
   "nbconvert_exporter": "python",
   "pygments_lexer": "ipython3",
   "version": "3.8.10"
  },
  "source_map": [
   12,
   40,
   83,
   139,
   143,
   150,
   162,
   166,
   170,
   175,
   179,
   185,
   192,
   197,
   202,
   213,
   228,
   235,
   257,
   261,
   274,
   282,
   291,
   295,
   302,
   306,
   313,
   325,
   342,
   346,
   363,
   377,
   392,
   397,
   413,
   421,
   484,
   495,
   501,
   509,
   528,
   532,
   544,
   618,
   624,
   630,
   651,
   658,
   661,
   667,
   676,
   684,
   700,
   709,
   715,
   719,
   740,
   744,
   747,
   751,
   761,
   765
  ]
 },
 "nbformat": 4,
 "nbformat_minor": 5
}