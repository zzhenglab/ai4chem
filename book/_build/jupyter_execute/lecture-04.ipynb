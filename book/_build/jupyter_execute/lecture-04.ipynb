{
 "cells": [
  {
   "cell_type": "markdown",
   "id": "e5bbfce6",
   "metadata": {},
   "source": [
    "---\n",
    "jupytext:\n",
    "  text_representation:\n",
    "    extension: .md\n",
    "    format_name: myst\n",
    "    format_version: 0.13\n",
    "    jupytext_version: 1.16.4\n",
    "kernelspec:\n",
    "  display_name: Python 3\n",
    "  language: python\n",
    "  name: python3\n",
    "---\n",
    "\n",
    "# Lecture 4 - PubChem, REST API, and CAS Numbers\n",
    "\n",
    "> This lecture builds carefully from the basics of PubChem URLs to more advanced lookups.  \n",
    "> We use **short code blocks** with lots of comments and notes. At the end, we connect this with a real dataset of ligands using CAS numbers.  \n",
    "\n",
    "```{contents}\n",
    ":local:\n",
    ":depth: 1\n",
    "```\n",
    "\n",
    "## Learning goals\n",
    "\n",
    "- Understand PubChem as a data service (PUG-REST).  \n",
    "- Learn to form URLs that return JSON or text data.  \n",
    "- Resolve names to CIDs step by step.  \n",
    "- Retrieve IUPAC names and SMILES representations.  \n",
    "- Build reusable helper functions with error handling.  \n",
    "- Practice with multiple compounds.  \n",
    "- Use a real Excel sheet of ligands with CAS numbers to query PubChem.  \n",
    "\n",
    "---\n",
    "\n",
    "## 1. PubChem PUG-REST Basics\n",
    "\n",
    "PubChem is not only a website — it provides an API called **PUG-REST**.  \n",
    "\n",
    "- **Input**: name, CID, InChIKey, SMILES, or CAS number.  \n",
    "- **Operation**: what property you want (CID, IUPAC, SMILES, etc.).  \n",
    "- **Output**: JSON, XML, or TXT.  \n",
    "\n",
    "Think of the URL as:  \n",
    "\n",
    "```\n",
    "https://pubchem.ncbi.nlm.nih.gov/rest/pug/compound/<input type>/<input value>/<operation>/<output format>\n",
    "```\n",
    "\n",
    "```{note}\n",
    "Always read the URL as:  \n",
    "1. Base: `https://pubchem.ncbi.nlm.nih.gov/rest/pug`  \n",
    "2. Section: `compound` (since we work with compounds)  \n",
    "3. Identifier type: `name`, `cid`, `smiles`, `cas`  \n",
    "4. Action: what property to fetch  \n",
    "5. Format: `JSON`, `XML`, `TXT`  \n",
    "```\n",
    "\n",
    "---\n",
    "\n",
    "## 2. Setup"
   ]
  },
  {
   "cell_type": "code",
   "execution_count": 1,
   "id": "18d0132a",
   "metadata": {},
   "outputs": [],
   "source": [
    "try:\n",
    "    import requests\n",
    "except Exception:\n",
    "    %pip install requests\n",
    "    import requests\n",
    "\n",
    "from urllib.parse import quote_plus"
   ]
  },
  {
   "cell_type": "markdown",
   "id": "c8254f98",
   "metadata": {},
   "source": [
    "---\n",
    "\n",
    "## 3. From Name → CID\n",
    "\n",
    "### 3.1 Form the URL"
   ]
  },
  {
   "cell_type": "code",
   "execution_count": 2,
   "id": "9c66b7fe",
   "metadata": {},
   "outputs": [
    {
     "name": "stdout",
     "output_type": "stream",
     "text": [
      "https://pubchem.ncbi.nlm.nih.gov/rest/pug/compound/name/acetaminophen/cids/JSON\n"
     ]
    }
   ],
   "source": [
    "name = \"acetaminophen\"\n",
    "url = f\"https://pubchem.ncbi.nlm.nih.gov/rest/pug/compound/name/{quote_plus(name)}/cids/JSON\"\n",
    "print(url)"
   ]
  },
  {
   "cell_type": "markdown",
   "id": "13775b14",
   "metadata": {},
   "source": [
    "```{note}\n",
    "Try pasting this URL into your browser. You should see a JSON object with `\"CID\"`.  \n",
    "```\n",
    "\n",
    "### 3.2 Request and Parse"
   ]
  },
  {
   "cell_type": "code",
   "execution_count": 3,
   "id": "a51867a5",
   "metadata": {},
   "outputs": [
    {
     "name": "stdout",
     "output_type": "stream",
     "text": [
      "{'IdentifierList': {'CID': [1983]}}\n"
     ]
    }
   ],
   "source": [
    "r = requests.get(url, timeout=30)\n",
    "data = r.json()\n",
    "print(data)"
   ]
  },
  {
   "cell_type": "markdown",
   "id": "3c873150",
   "metadata": {},
   "source": [
    "Break it down:"
   ]
  },
  {
   "cell_type": "code",
   "execution_count": 4,
   "id": "7ce5390e",
   "metadata": {},
   "outputs": [
    {
     "name": "stdout",
     "output_type": "stream",
     "text": [
      "dict_keys(['IdentifierList'])\n",
      "{'CID': [1983]}\n"
     ]
    }
   ],
   "source": [
    "print(data.keys())\n",
    "print(data.get(\"IdentifierList\", {}))"
   ]
  },
  {
   "cell_type": "code",
   "execution_count": 5,
   "id": "9849bb81",
   "metadata": {},
   "outputs": [
    {
     "name": "stdout",
     "output_type": "stream",
     "text": [
      "CID: 1983\n"
     ]
    }
   ],
   "source": [
    "cid_list = data.get(\"IdentifierList\", {}).get(\"CID\", [])\n",
    "cid = cid_list[0]\n",
    "print(\"CID:\", cid)"
   ]
  },
  {
   "cell_type": "markdown",
   "id": "ff9e4f6c",
   "metadata": {},
   "source": [
    "---\n",
    "\n",
    "## 4. From CID → Properties\n",
    "\n",
    "### 4.1 IUPAC Name"
   ]
  },
  {
   "cell_type": "code",
   "execution_count": 6,
   "id": "4299886e",
   "metadata": {},
   "outputs": [
    {
     "name": "stdout",
     "output_type": "stream",
     "text": [
      "{'PropertyTable': {'Properties': [{'CID': 2244, 'IUPACName': '2-acetyloxybenzoic acid'}]}}\n"
     ]
    }
   ],
   "source": [
    "cid = 2244  # aspirin\n",
    "url = f\"https://pubchem.ncbi.nlm.nih.gov/rest/pug/compound/cid/{cid}/property/IUPACName/JSON\"\n",
    "r = requests.get(url, timeout=30)\n",
    "data = r.json()\n",
    "print(data)"
   ]
  },
  {
   "cell_type": "code",
   "execution_count": 7,
   "id": "466dc354",
   "metadata": {},
   "outputs": [
    {
     "name": "stdout",
     "output_type": "stream",
     "text": [
      "IUPAC Name: 2-acetyloxybenzoic acid\n"
     ]
    }
   ],
   "source": [
    "props = data[\"PropertyTable\"][\"Properties\"][0]\n",
    "print(\"IUPAC Name:\", props[\"IUPACName\"])"
   ]
  },
  {
   "cell_type": "markdown",
   "id": "435af711",
   "metadata": {},
   "source": [
    "### 4.2 Canonical vs Isomeric SMILES"
   ]
  },
  {
   "cell_type": "code",
   "execution_count": 8,
   "id": "38f5181c",
   "metadata": {},
   "outputs": [
    {
     "name": "stdout",
     "output_type": "stream",
     "text": [
      "Canonical: CC(=O)OC1=CC=CC=C1C(=O)O\n"
     ]
    },
    {
     "name": "stdout",
     "output_type": "stream",
     "text": [
      "Isomeric : CC(=O)OC1=CC=CC=C1C(=O)O\n"
     ]
    }
   ],
   "source": [
    "print(\"Canonical:\", requests.get(f\"https://pubchem.ncbi.nlm.nih.gov/rest/pug/compound/cid/{cid}/property/CanonicalSMILES/TXT\").text.strip())\n",
    "print(\"Isomeric :\", requests.get(f\"https://pubchem.ncbi.nlm.nih.gov/rest/pug/compound/cid/{cid}/property/IsomericSMILES/TXT\").text.strip())"
   ]
  },
  {
   "cell_type": "markdown",
   "id": "a2f78eef",
   "metadata": {},
   "source": [
    "```{note}\n",
    "- Canonical SMILES → standardized, but no stereochemistry.  \n",
    "- Isomeric SMILES → includes stereochemistry/isotopes.  \n",
    "```\n",
    "\n",
    "---\n",
    "\n",
    "## 5. Safer Functions"
   ]
  },
  {
   "cell_type": "code",
   "execution_count": 9,
   "id": "5c6ba53b",
   "metadata": {},
   "outputs": [],
   "source": [
    "def safe_get_json(url, timeout=30):\n",
    "    r = requests.get(url, timeout=timeout)\n",
    "    r.raise_for_status()\n",
    "    return r.json()\n",
    "\n",
    "def safe_get_text(url, timeout=30):\n",
    "    r = requests.get(url, timeout=timeout)\n",
    "    r.raise_for_status()\n",
    "    return r.text.strip()"
   ]
  },
  {
   "cell_type": "markdown",
   "id": "f84cb884",
   "metadata": {},
   "source": [
    "---\n",
    "\n",
    "## 6. Convenience Functions\n",
    "\n",
    "### 6.1 By Name"
   ]
  },
  {
   "cell_type": "code",
   "execution_count": 10,
   "id": "12e6f0f6",
   "metadata": {},
   "outputs": [],
   "source": [
    "def pubchem_smiles_by_name(name, isomeric=True):\n",
    "    enc = quote_plus(name.strip())\n",
    "    kind = \"IsomericSMILES\" if isomeric else \"CanonicalSMILES\"\n",
    "    smi_url = f\"https://pubchem.ncbi.nlm.nih.gov/rest/pug/compound/name/{enc}/property/{kind}/TXT\"\n",
    "    smiles = safe_get_text(smi_url)\n",
    "\n",
    "    cid_url = f\"https://pubchem.ncbi.nlm.nih.gov/rest/pug/compound/name/{enc}/cids/JSON\"\n",
    "    cid_list = safe_get_json(cid_url).get(\"IdentifierList\", {}).get(\"CID\", [])\n",
    "    if not cid_list:\n",
    "        raise ValueError(\"No CID found\")\n",
    "    cid = cid_list[0]\n",
    "\n",
    "    iupac_url = f\"https://pubchem.ncbi.nlm.nih.gov/rest/pug/compound/cid/{cid}/property/IUPACName/TXT\"\n",
    "    iupac = safe_get_text(iupac_url)\n",
    "    return {\"name\": name, \"cid\": cid, \"smiles\": smiles, \"iupac\": iupac}"
   ]
  },
  {
   "cell_type": "code",
   "execution_count": 11,
   "id": "00d0a4fc",
   "metadata": {},
   "outputs": [
    {
     "data": {
      "text/plain": [
       "{'name': 'ibuprofen',\n",
       " 'cid': 3672,\n",
       " 'smiles': 'CC(C)CC1=CC=C(C=C1)C(C)C(=O)O',\n",
       " 'iupac': '2-[4-(2-methylpropyl)phenyl]propanoic acid'}"
      ]
     },
     "execution_count": 11,
     "metadata": {},
     "output_type": "execute_result"
    }
   ],
   "source": [
    "pubchem_smiles_by_name(\"ibuprofen\")"
   ]
  },
  {
   "cell_type": "markdown",
   "id": "fdea992a",
   "metadata": {},
   "source": [
    "### 6.2 By CID"
   ]
  },
  {
   "cell_type": "code",
   "execution_count": 12,
   "id": "9fade18a",
   "metadata": {},
   "outputs": [],
   "source": [
    "def pubchem_smiles_by_cid(cid, isomeric=True):\n",
    "    cid = int(cid)\n",
    "    kind = \"IsomericSMILES\" if isomeric else \"CanonicalSMILES\"\n",
    "    smi_url = f\"https://pubchem.ncbi.nlm.nih.gov/rest/pug/compound/cid/{cid}/property/{kind}/TXT\"\n",
    "    smiles = safe_get_text(smi_url)\n",
    "    iupac_url = f\"https://pubchem.ncbi.nlm.nih.gov/rest/pug/compound/cid/{cid}/property/IUPACName/TXT\"\n",
    "    iupac = safe_get_text(iupac_url)\n",
    "    return {\"cid\": cid, \"smiles\": smiles, \"iupac\": iupac}"
   ]
  },
  {
   "cell_type": "code",
   "execution_count": 13,
   "id": "ac2a4a86",
   "metadata": {},
   "outputs": [
    {
     "data": {
      "text/plain": [
       "{'cid': 2244,\n",
       " 'smiles': 'CC(=O)OC1=CC=CC=C1C(=O)O',\n",
       " 'iupac': '2-acetyloxybenzoic acid'}"
      ]
     },
     "execution_count": 13,
     "metadata": {},
     "output_type": "execute_result"
    }
   ],
   "source": [
    "pubchem_smiles_by_cid(2244)"
   ]
  },
  {
   "cell_type": "markdown",
   "id": "09c8310f",
   "metadata": {},
   "source": [
    "---\n",
    "\n",
    "## 7. Integration with RDKit"
   ]
  },
  {
   "cell_type": "code",
   "execution_count": 14,
   "id": "9240606e",
   "metadata": {},
   "outputs": [
    {
     "data": {
      "image/jpeg": "[encoded data removed]",
      "image/png": "[encoded data removed]",
      "text/plain": [
       "<PIL.PngImagePlugin.PngImageFile image mode=RGB size=200x200>"
      ]
     },
     "execution_count": 14,
     "metadata": {},
     "output_type": "execute_result"
    }
   ],
   "source": [
    "from rdkit import Chem\n",
    "from rdkit.Chem import Draw\n",
    "\n",
    "res = pubchem_smiles_by_name(\"acetaminophen\")\n",
    "mol = Chem.MolFromSmiles(res[\"smiles\"])\n",
    "Draw.MolToImage(mol, size=(200,200))"
   ]
  },
  {
   "cell_type": "markdown",
   "id": "2c626351",
   "metadata": {},
   "source": [
    "```{admonition} Try\n",
    "Compare the RDKit drawings for Canonical vs Isomeric SMILES of ibuprofen.  \n",
    "```\n",
    "\n",
    "---\n",
    "\n",
    "## 8. Case Study: CAS Numbers from Excel\n",
    "\n",
    "We have an inventory file:  \n",
    "\n",
    "📂 [organic ligands inventory.xlsx](https://raw.githubusercontent.com/zzhenglab/ai4chem/main/book/_data/organic%20ligands%20inventory.xlsx)\n",
    "\n",
    "### 8.1 Load with pandas"
   ]
  },
  {
   "cell_type": "code",
   "execution_count": 15,
   "id": "8ed51113",
   "metadata": {},
   "outputs": [
    {
     "ename": "ImportError",
     "evalue": "Missing optional dependency 'openpyxl'.  Use pip or conda to install openpyxl.",
     "output_type": "error",
     "traceback": [
      "\u001b[31m---------------------------------------------------------------------------\u001b[39m",
      "\u001b[31mModuleNotFoundError\u001b[39m                       Traceback (most recent call last)",
      "\u001b[36mFile \u001b[39m\u001b[32m~\\AppData\\Local\\Programs\\Python\\Python313\\Lib\\site-packages\\pandas\\compat\\_optional.py:135\u001b[39m, in \u001b[36mimport_optional_dependency\u001b[39m\u001b[34m(name, extra, errors, min_version)\u001b[39m\n\u001b[32m    134\u001b[39m \u001b[38;5;28;01mtry\u001b[39;00m:\n\u001b[32m--> \u001b[39m\u001b[32m135\u001b[39m     module = \u001b[43mimportlib\u001b[49m\u001b[43m.\u001b[49m\u001b[43mimport_module\u001b[49m\u001b[43m(\u001b[49m\u001b[43mname\u001b[49m\u001b[43m)\u001b[49m\n\u001b[32m    136\u001b[39m \u001b[38;5;28;01mexcept\u001b[39;00m \u001b[38;5;167;01mImportError\u001b[39;00m:\n",
      "\u001b[36mFile \u001b[39m\u001b[32m~\\AppData\\Local\\Programs\\Python\\Python313\\Lib\\importlib\\__init__.py:88\u001b[39m, in \u001b[36mimport_module\u001b[39m\u001b[34m(name, package)\u001b[39m\n\u001b[32m     87\u001b[39m         level += \u001b[32m1\u001b[39m\n\u001b[32m---> \u001b[39m\u001b[32m88\u001b[39m \u001b[38;5;28;01mreturn\u001b[39;00m \u001b[43m_bootstrap\u001b[49m\u001b[43m.\u001b[49m\u001b[43m_gcd_import\u001b[49m\u001b[43m(\u001b[49m\u001b[43mname\u001b[49m\u001b[43m[\u001b[49m\u001b[43mlevel\u001b[49m\u001b[43m:\u001b[49m\u001b[43m]\u001b[49m\u001b[43m,\u001b[49m\u001b[43m \u001b[49m\u001b[43mpackage\u001b[49m\u001b[43m,\u001b[49m\u001b[43m \u001b[49m\u001b[43mlevel\u001b[49m\u001b[43m)\u001b[49m\n",
      "\u001b[36mFile \u001b[39m\u001b[32m<frozen importlib._bootstrap>:1387\u001b[39m, in \u001b[36m_gcd_import\u001b[39m\u001b[34m(name, package, level)\u001b[39m\n",
      "\u001b[36mFile \u001b[39m\u001b[32m<frozen importlib._bootstrap>:1360\u001b[39m, in \u001b[36m_find_and_load\u001b[39m\u001b[34m(name, import_)\u001b[39m\n",
      "\u001b[36mFile \u001b[39m\u001b[32m<frozen importlib._bootstrap>:1324\u001b[39m, in \u001b[36m_find_and_load_unlocked\u001b[39m\u001b[34m(name, import_)\u001b[39m\n",
      "\u001b[31mModuleNotFoundError\u001b[39m: No module named 'openpyxl'",
      "\nDuring handling of the above exception, another exception occurred:\n",
      "\u001b[31mImportError\u001b[39m                               Traceback (most recent call last)",
      "\u001b[36mCell\u001b[39m\u001b[36m \u001b[39m\u001b[32mIn[15]\u001b[39m\u001b[32m, line 4\u001b[39m\n\u001b[32m      1\u001b[39m \u001b[38;5;28;01mimport\u001b[39;00m\u001b[38;5;250m \u001b[39m\u001b[34;01mpandas\u001b[39;00m\u001b[38;5;250m \u001b[39m\u001b[38;5;28;01mas\u001b[39;00m\u001b[38;5;250m \u001b[39m\u001b[34;01mpd\u001b[39;00m\n\u001b[32m      3\u001b[39m url = \u001b[33m\"\u001b[39m\u001b[33mhttps://raw.githubusercontent.com/zzhenglab/ai4chem/main/book/_data/organic\u001b[39m\u001b[38;5;132;01m%20li\u001b[39;00m\u001b[33mgands\u001b[39m\u001b[38;5;132;01m%20i\u001b[39;00m\u001b[33mnventory.xlsx\u001b[39m\u001b[33m\"\u001b[39m\n\u001b[32m----> \u001b[39m\u001b[32m4\u001b[39m df = \u001b[43mpd\u001b[49m\u001b[43m.\u001b[49m\u001b[43mread_excel\u001b[49m\u001b[43m(\u001b[49m\u001b[43murl\u001b[49m\u001b[43m)\u001b[49m\n\u001b[32m      5\u001b[39m df.head()\n",
      "\u001b[36mFile \u001b[39m\u001b[32m~\\AppData\\Local\\Programs\\Python\\Python313\\Lib\\site-packages\\pandas\\io\\excel\\_base.py:495\u001b[39m, in \u001b[36mread_excel\u001b[39m\u001b[34m(io, sheet_name, header, names, index_col, usecols, dtype, engine, converters, true_values, false_values, skiprows, nrows, na_values, keep_default_na, na_filter, verbose, parse_dates, date_parser, date_format, thousands, decimal, comment, skipfooter, storage_options, dtype_backend, engine_kwargs)\u001b[39m\n\u001b[32m    493\u001b[39m \u001b[38;5;28;01mif\u001b[39;00m \u001b[38;5;129;01mnot\u001b[39;00m \u001b[38;5;28misinstance\u001b[39m(io, ExcelFile):\n\u001b[32m    494\u001b[39m     should_close = \u001b[38;5;28;01mTrue\u001b[39;00m\n\u001b[32m--> \u001b[39m\u001b[32m495\u001b[39m     io = \u001b[43mExcelFile\u001b[49m\u001b[43m(\u001b[49m\n\u001b[32m    496\u001b[39m \u001b[43m        \u001b[49m\u001b[43mio\u001b[49m\u001b[43m,\u001b[49m\n\u001b[32m    497\u001b[39m \u001b[43m        \u001b[49m\u001b[43mstorage_options\u001b[49m\u001b[43m=\u001b[49m\u001b[43mstorage_options\u001b[49m\u001b[43m,\u001b[49m\n\u001b[32m    498\u001b[39m \u001b[43m        \u001b[49m\u001b[43mengine\u001b[49m\u001b[43m=\u001b[49m\u001b[43mengine\u001b[49m\u001b[43m,\u001b[49m\n\u001b[32m    499\u001b[39m \u001b[43m        \u001b[49m\u001b[43mengine_kwargs\u001b[49m\u001b[43m=\u001b[49m\u001b[43mengine_kwargs\u001b[49m\u001b[43m,\u001b[49m\n\u001b[32m    500\u001b[39m \u001b[43m    \u001b[49m\u001b[43m)\u001b[49m\n\u001b[32m    501\u001b[39m \u001b[38;5;28;01melif\u001b[39;00m engine \u001b[38;5;129;01mand\u001b[39;00m engine != io.engine:\n\u001b[32m    502\u001b[39m     \u001b[38;5;28;01mraise\u001b[39;00m \u001b[38;5;167;01mValueError\u001b[39;00m(\n\u001b[32m    503\u001b[39m         \u001b[33m\"\u001b[39m\u001b[33mEngine should not be specified when passing \u001b[39m\u001b[33m\"\u001b[39m\n\u001b[32m    504\u001b[39m         \u001b[33m\"\u001b[39m\u001b[33man ExcelFile - ExcelFile already has the engine set\u001b[39m\u001b[33m\"\u001b[39m\n\u001b[32m    505\u001b[39m     )\n",
      "\u001b[36mFile \u001b[39m\u001b[32m~\\AppData\\Local\\Programs\\Python\\Python313\\Lib\\site-packages\\pandas\\io\\excel\\_base.py:1567\u001b[39m, in \u001b[36mExcelFile.__init__\u001b[39m\u001b[34m(self, path_or_buffer, engine, storage_options, engine_kwargs)\u001b[39m\n\u001b[32m   1564\u001b[39m \u001b[38;5;28mself\u001b[39m.engine = engine\n\u001b[32m   1565\u001b[39m \u001b[38;5;28mself\u001b[39m.storage_options = storage_options\n\u001b[32m-> \u001b[39m\u001b[32m1567\u001b[39m \u001b[38;5;28mself\u001b[39m._reader = \u001b[38;5;28;43mself\u001b[39;49m\u001b[43m.\u001b[49m\u001b[43m_engines\u001b[49m\u001b[43m[\u001b[49m\u001b[43mengine\u001b[49m\u001b[43m]\u001b[49m\u001b[43m(\u001b[49m\n\u001b[32m   1568\u001b[39m \u001b[43m    \u001b[49m\u001b[38;5;28;43mself\u001b[39;49m\u001b[43m.\u001b[49m\u001b[43m_io\u001b[49m\u001b[43m,\u001b[49m\n\u001b[32m   1569\u001b[39m \u001b[43m    \u001b[49m\u001b[43mstorage_options\u001b[49m\u001b[43m=\u001b[49m\u001b[43mstorage_options\u001b[49m\u001b[43m,\u001b[49m\n\u001b[32m   1570\u001b[39m \u001b[43m    \u001b[49m\u001b[43mengine_kwargs\u001b[49m\u001b[43m=\u001b[49m\u001b[43mengine_kwargs\u001b[49m\u001b[43m,\u001b[49m\n\u001b[32m   1571\u001b[39m \u001b[43m\u001b[49m\u001b[43m)\u001b[49m\n",
      "\u001b[36mFile \u001b[39m\u001b[32m~\\AppData\\Local\\Programs\\Python\\Python313\\Lib\\site-packages\\pandas\\io\\excel\\_openpyxl.py:552\u001b[39m, in \u001b[36mOpenpyxlReader.__init__\u001b[39m\u001b[34m(self, filepath_or_buffer, storage_options, engine_kwargs)\u001b[39m\n\u001b[32m    534\u001b[39m \u001b[38;5;129m@doc\u001b[39m(storage_options=_shared_docs[\u001b[33m\"\u001b[39m\u001b[33mstorage_options\u001b[39m\u001b[33m\"\u001b[39m])\n\u001b[32m    535\u001b[39m \u001b[38;5;28;01mdef\u001b[39;00m\u001b[38;5;250m \u001b[39m\u001b[34m__init__\u001b[39m(\n\u001b[32m    536\u001b[39m     \u001b[38;5;28mself\u001b[39m,\n\u001b[32m   (...)\u001b[39m\u001b[32m    539\u001b[39m     engine_kwargs: \u001b[38;5;28mdict\u001b[39m | \u001b[38;5;28;01mNone\u001b[39;00m = \u001b[38;5;28;01mNone\u001b[39;00m,\n\u001b[32m    540\u001b[39m ) -> \u001b[38;5;28;01mNone\u001b[39;00m:\n\u001b[32m    541\u001b[39m \u001b[38;5;250m    \u001b[39m\u001b[33;03m\"\"\"\u001b[39;00m\n\u001b[32m    542\u001b[39m \u001b[33;03m    Reader using openpyxl engine.\u001b[39;00m\n\u001b[32m    543\u001b[39m \n\u001b[32m   (...)\u001b[39m\u001b[32m    550\u001b[39m \u001b[33;03m        Arbitrary keyword arguments passed to excel engine.\u001b[39;00m\n\u001b[32m    551\u001b[39m \u001b[33;03m    \"\"\"\u001b[39;00m\n\u001b[32m--> \u001b[39m\u001b[32m552\u001b[39m     \u001b[43mimport_optional_dependency\u001b[49m\u001b[43m(\u001b[49m\u001b[33;43m\"\u001b[39;49m\u001b[33;43mopenpyxl\u001b[39;49m\u001b[33;43m\"\u001b[39;49m\u001b[43m)\u001b[49m\n\u001b[32m    553\u001b[39m     \u001b[38;5;28msuper\u001b[39m().\u001b[34m__init__\u001b[39m(\n\u001b[32m    554\u001b[39m         filepath_or_buffer,\n\u001b[32m    555\u001b[39m         storage_options=storage_options,\n\u001b[32m    556\u001b[39m         engine_kwargs=engine_kwargs,\n\u001b[32m    557\u001b[39m     )\n",
      "\u001b[36mFile \u001b[39m\u001b[32m~\\AppData\\Local\\Programs\\Python\\Python313\\Lib\\site-packages\\pandas\\compat\\_optional.py:138\u001b[39m, in \u001b[36mimport_optional_dependency\u001b[39m\u001b[34m(name, extra, errors, min_version)\u001b[39m\n\u001b[32m    136\u001b[39m \u001b[38;5;28;01mexcept\u001b[39;00m \u001b[38;5;167;01mImportError\u001b[39;00m:\n\u001b[32m    137\u001b[39m     \u001b[38;5;28;01mif\u001b[39;00m errors == \u001b[33m\"\u001b[39m\u001b[33mraise\u001b[39m\u001b[33m\"\u001b[39m:\n\u001b[32m--> \u001b[39m\u001b[32m138\u001b[39m         \u001b[38;5;28;01mraise\u001b[39;00m \u001b[38;5;167;01mImportError\u001b[39;00m(msg)\n\u001b[32m    139\u001b[39m     \u001b[38;5;28;01mreturn\u001b[39;00m \u001b[38;5;28;01mNone\u001b[39;00m\n\u001b[32m    141\u001b[39m \u001b[38;5;66;03m# Handle submodules: if we have submodule, grab parent module from sys.modules\u001b[39;00m\n",
      "\u001b[31mImportError\u001b[39m: Missing optional dependency 'openpyxl'.  Use pip or conda to install openpyxl."
     ]
    }
   ],
   "source": [
    "import pandas as pd\n",
    "\n",
    "url = \"https://raw.githubusercontent.com/zzhenglab/ai4chem/main/book/_data/organic%20ligands%20inventory.xlsx\"\n",
    "df = pd.read_excel(url)\n",
    "df.head()"
   ]
  },
  {
   "cell_type": "markdown",
   "id": "fa8051c1",
   "metadata": {},
   "source": [
    "### 8.2 Query PubChem by CAS\n",
    "\n",
    "PubChem accepts CAS numbers too."
   ]
  },
  {
   "cell_type": "code",
   "execution_count": null,
   "id": "bac2fbf1",
   "metadata": {},
   "outputs": [],
   "source": [
    "def pubchem_from_cas(cas, isomeric=True):\n",
    "    enc = quote_plus(str(cas))\n",
    "    kind = \"IsomericSMILES\" if isomeric else \"CanonicalSMILES\"\n",
    "    smi_url = f\"https://pubchem.ncbi.nlm.nih.gov/rest/pug/compound/name/{enc}/property/{kind}/TXT\"\n",
    "    smiles = safe_get_text(smi_url)\n",
    "    cid_url = f\"https://pubchem.ncbi.nlm.nih.gov/rest/pug/compound/name/{enc}/cids/JSON\"\n",
    "    cid_list = safe_get_json(cid_url).get(\"IdentifierList\", {}).get(\"CID\", [])\n",
    "    cid = cid_list[0] if cid_list else None\n",
    "    return {\"cas\": cas, \"cid\": cid, \"smiles\": smiles}"
   ]
  },
  {
   "cell_type": "code",
   "execution_count": null,
   "id": "a659feb7",
   "metadata": {},
   "outputs": [],
   "source": [
    "example_cas = df.loc[0,\"CAS\"]\n",
    "pubchem_from_cas(example_cas)"
   ]
  },
  {
   "cell_type": "markdown",
   "id": "5519b519",
   "metadata": {},
   "source": [
    "### 8.3 Enrich the Dataset"
   ]
  },
  {
   "cell_type": "code",
   "execution_count": null,
   "id": "ac56ee76",
   "metadata": {},
   "outputs": [],
   "source": [
    "rows = []\n",
    "for cas in df[\"CAS\"].head(5):  # try first 5\n",
    "    try:\n",
    "        rows.append(pubchem_from_cas(cas))\n",
    "    except Exception as e:\n",
    "        rows.append({\"cas\": cas, \"cid\": None, \"smiles\": None})\n",
    "\n",
    "pd.DataFrame(rows)"
   ]
  },
  {
   "cell_type": "markdown",
   "id": "c8480a12",
   "metadata": {},
   "source": [
    "---\n",
    "\n",
    "## 9. Exercises\n",
    "\n",
    "```{admonition} Try\n",
    "1. For each CAS in the first 10 rows, fetch CID and SMILES.  \n",
    "2. Add MW and Purity from Excel into the same DataFrame.  \n",
    "3. Use RDKit to compute LogP and TPSA for each compound.  \n",
    "4. Compare experimental MW from Excel vs computed MW.  \n",
    "```\n",
    "\n",
    "---\n",
    "\n",
    "\n",
    "\n",
    "\n",
    "\n",
    "## 4. PubChem and URL\n",
    "\n",
    "\n",
    "```note\n",
    "Goal: given a common name or a PubChem CID, get a SMILES string you can feed into RDKit.\n",
    "```\n",
    "\n",
    "### 4.1 Install and imports"
   ]
  },
  {
   "cell_type": "code",
   "execution_count": null,
   "id": "dcbef05f",
   "metadata": {},
   "outputs": [],
   "source": [
    "# Install requests if you do not have it\n",
    "try:\n",
    "    import requests\n",
    "except Exception:\n",
    "    %pip -q install requests\n",
    "    import requests\n",
    "\n",
    "from urllib.parse import quote_plus  "
   ]
  },
  {
   "cell_type": "markdown",
   "id": "1dd03a7b",
   "metadata": {},
   "source": [
    "Instead of going to [PubChem’s main site](https://pubchem.ncbi.nlm.nih.gov) and manually searching for a compound, we can also use a **direct URL** to query PubChem’s REST API. This allows us to send structured requests and retrieve data in machine-readable formats such as JSON, XML, or plain text. \n",
    "\n",
    "The figure below illustrates the general workflow of PUG-REST: provide an input (like a compound name), choose an operation (for example, retrieving a CID), and specify the output format. Using URLs in this way not only automates lookups but also integrates PubChem data smoothly into code and analysis.\n",
    "\n",
    "\n",
    "\n",
    "\n",
    "![PubChem PUG-REST Figure](https://iupac.github.io/WFChemCookbook/_images/pubchem_pugrest_fig1.jpg)\n",
    "\n",
    "Here are some example URLs you can click and explore directly in a browser:\n",
    "- [https://pubchem.ncbi.nlm.nih.gov/rest/pug/compound/name/aspirin/cids/JSON](https://pubchem.ncbi.nlm.nih.gov/rest/pug/compound/name/aspirin/cids/JSON): Returns the PubChem Compound ID (CID) for aspirin.\n",
    "- [https://pubchem.ncbi.nlm.nih.gov/rest/pug/compound/cid/2244/property/IUPACName/JSON](https://pubchem.ncbi.nlm.nih.gov/rest/pug/compound/cid/2244/property/IUPACName/JSON): Returns the standardized IUPAC name.\n",
    "- [https://pubchem.ncbi.nlm.nih.gov/rest/pug/compound/cid/2244/property/CanonicalSMILES/JSON](https://pubchem.ncbi.nlm.nih.gov/rest/pug/compound/cid/2244/property/CanonicalSMILES/JSON): Returns the canonical SMILES string representation.\n",
    "\n",
    "\n",
    "```{note}\n",
    "The key idea is that PubChem is not only a website but also a programmatic data service. A well-formed URL acts like a query to their database.\n",
    "```\n",
    "\n",
    "If you are interested in learning more about PubChem URL, please read:\n",
    "- [IUPAC FAIR Chemistry Cookbook guide](https://iupac.github.io/WFChemCookbook/datasources/pubchem_pugrest1.html)\n",
    "\n",
    "\n",
    "---\n",
    "\n",
    "### 4.2 Resolve a **name** to a CID"
   ]
  },
  {
   "cell_type": "code",
   "execution_count": null,
   "id": "8bafbb1b",
   "metadata": {},
   "outputs": [],
   "source": [
    "import requests\n",
    "from urllib.parse import quote_plus\n",
    "\n",
    "name = \"acetaminophen\"\n",
    "\n",
    "# Step 1: resolve the name to one or more PubChem CIDs\n",
    "url = f\"https://pubchem.ncbi.nlm.nih.gov/rest/pug/compound/name/{quote_plus(name)}/cids/JSON\"\n",
    "print(\"URL:\", url)  # helps debug if you get HTTP 400\n",
    "\n",
    "r = requests.get(url, timeout=30)\n",
    "r.raise_for_status()\n",
    "data = r.json()\n",
    "\n",
    "cid_list = data.get(\"IdentifierList\", {}).get(\"CID\", [])\n",
    "if not cid_list:\n",
    "    raise ValueError(f\"No CID found for {name}\")\n",
    "\n",
    "cid = cid_list[0]  # take the first hit\n",
    "print(\"CID:\", cid)"
   ]
  },
  {
   "cell_type": "markdown",
   "id": "0792d839",
   "metadata": {},
   "source": [
    "```{note}\n",
    "CID is PubChem’s numeric identifier for a molecule. Taking the first hit is simple and works well for common drugs.\n",
    "Try to copy and paste the output URL from above copy to your browser and hit enter to see what it looks like!\n",
    "```\n",
    "Essentially, we first get the JSON format from the URL"
   ]
  },
  {
   "cell_type": "code",
   "execution_count": null,
   "id": "1a208452",
   "metadata": {},
   "outputs": [],
   "source": [
    "r = requests.get(url, timeout=30)\n",
    "data = r.json()\n",
    "data"
   ]
  },
  {
   "cell_type": "markdown",
   "id": "151587d5",
   "metadata": {},
   "source": [
    "Then we use `data.get()` to search for `\"IdentifierList\"`"
   ]
  },
  {
   "cell_type": "code",
   "execution_count": null,
   "id": "74ee46ab",
   "metadata": {},
   "outputs": [],
   "source": [
    "print(data.get(\"IdentifierList\", {}))"
   ]
  },
  {
   "cell_type": "markdown",
   "id": "d80f27e9",
   "metadata": {},
   "source": [
    "---\n",
    "\n",
    "### 4.3 Get properties from the CID\n",
    "\n",
    "#### 4.3.1 Get the **IUPAC name**"
   ]
  },
  {
   "cell_type": "code",
   "execution_count": null,
   "id": "83da489b",
   "metadata": {},
   "outputs": [],
   "source": [
    "fields = \"IUPACName\"\n",
    "url = f\"https://pubchem.ncbi.nlm.nih.gov/rest/pug/compound/cid/{cid}/property/{fields}/JSON\"\n",
    "print(\"URL:\", url)\n",
    "\n",
    "r = requests.get(url, timeout=30)\n",
    "r.raise_for_status()\n",
    "data = r.json()\n",
    "\n",
    "props = data[\"PropertyTable\"][\"Properties\"][0]\n",
    "print(\"IUPAC:\", props.get(\"IUPACName\"))"
   ]
  },
  {
   "cell_type": "markdown",
   "id": "e0346db4",
   "metadata": {},
   "source": [
    "```{note}\n",
    "The IUPAC name is the standardized systematic name for the compound, defined by the International Union of Pure and Applied Chemistry.\n",
    "```\n",
    "\n",
    "Let's break it down again:"
   ]
  },
  {
   "cell_type": "code",
   "execution_count": null,
   "id": "51d3d85f",
   "metadata": {},
   "outputs": [],
   "source": [
    "data[\"PropertyTable\"]"
   ]
  },
  {
   "cell_type": "code",
   "execution_count": null,
   "id": "8e3d65cb",
   "metadata": {},
   "outputs": [],
   "source": [
    "data[\"PropertyTable\"][\"Properties\"]"
   ]
  },
  {
   "cell_type": "code",
   "execution_count": null,
   "id": "f37c72ef",
   "metadata": {},
   "outputs": [],
   "source": [
    "data[\"PropertyTable\"][\"Properties\"][0]"
   ]
  },
  {
   "cell_type": "markdown",
   "id": "e7fbf8f8",
   "metadata": {},
   "source": [
    "---\n",
    "\n",
    "#### 4.3.2 Get the **Canonical SMILES**\n",
    "\n",
    "Now, we can even condense everything within one line:"
   ]
  },
  {
   "cell_type": "code",
   "execution_count": null,
   "id": "6bca174b",
   "metadata": {},
   "outputs": [],
   "source": [
    "print(\"Canonical SMILES:\", requests.get(f\"https://pubchem.ncbi.nlm.nih.gov/rest/pug/compound/cid/{cid}/property/CanonicalSMILES/TXT\").text.strip())"
   ]
  },
  {
   "cell_type": "markdown",
   "id": "af5ddb7e",
   "metadata": {},
   "source": [
    "```{note}\n",
    "Canonical SMILES is a normalized form of the molecule's SMILES string.  \n",
    "It provides a unique representation but does not retain stereochemistry.\n",
    "```\n",
    "\n",
    "---\n",
    "\n",
    "#### 4.3.3 Get the **Isomeric SMILES**\n",
    "Similar:"
   ]
  },
  {
   "cell_type": "code",
   "execution_count": null,
   "id": "8c6481f6",
   "metadata": {},
   "outputs": [],
   "source": [
    "print(\"Isomeric SMILES:\", requests.get(f\"https://pubchem.ncbi.nlm.nih.gov/rest/pug/compound/cid/{cid}/property/IsomericSMILES/TXT\").text.strip())"
   ]
  },
  {
   "cell_type": "markdown",
   "id": "a10ce4b4",
   "metadata": {},
   "source": [
    "```{note}\n",
    "Isomeric SMILES includes stereochemistry and isotopic information if PubChem has it.  \n",
    "This is useful for distinguishing molecules that have the same atoms but different spatial arrangements.\n",
    "```\n",
    "\n",
    "---\n",
    "\n",
    "### 4.4 Make it safe: minimal error handling"
   ]
  },
  {
   "cell_type": "code",
   "execution_count": null,
   "id": "2a041c6e",
   "metadata": {},
   "outputs": [],
   "source": [
    "import requests  # HTTP client\n",
    "from urllib.parse import quote_plus  # safe URL encoding\n",
    "\n",
    "def safe_get_json(url, timeout=30):  # fetch JSON safely\n",
    "    r = requests.get(url, timeout=timeout)  # send request\n",
    "    r.raise_for_status()  # raise if HTTP error\n",
    "    return r.json()  # parse and return JSON\n",
    "\n",
    "def safe_get_text(url, timeout=30):  # fetch plain text safely\n",
    "    r = requests.get(url, timeout=timeout)  # send request\n",
    "    r.raise_for_status()  # raise if HTTP error\n",
    "    return r.text  # return raw text"
   ]
  },
  {
   "cell_type": "markdown",
   "id": "9a6f36f6",
   "metadata": {},
   "source": [
    "```note\n",
    "If you see HTTP 400, print the URL and check if the name was encoded.  \n",
    "Timeouts keep notebooks from hanging.\n",
    "```\n",
    "\n",
    "---\n",
    "\n",
    "## 4.5 Function: by **name**"
   ]
  },
  {
   "cell_type": "code",
   "execution_count": null,
   "id": "281a8344",
   "metadata": {},
   "outputs": [],
   "source": [
    "def pubchem_smiles_by_name(name, isomeric=True):  # look up by common name\n",
    "    nm = str(name).strip()  # clean input\n",
    "    if not nm:  # empty string check\n",
    "        raise ValueError(\"Empty name\")  # clear message\n",
    "    enc = quote_plus(nm)  # URL encode the name\n",
    "    kind = \"IsomericSMILES\" if isomeric else \"CanonicalSMILES\"  # choose field\n",
    "    # get SMILES as plain text\n",
    "    smi_url = f\"https://pubchem.ncbi.nlm.nih.gov/rest/pug/compound/name/{enc}/property/{kind}/TXT\"  # TXT endpoint\n",
    "    smiles = safe_get_text(smi_url).strip()  # fetch and strip whitespace\n",
    "    # get CID via JSON\n",
    "    cid_url = f\"https://pubchem.ncbi.nlm.nih.gov/rest/pug/compound/name/{enc}/cids/JSON\"  # CID list\n",
    "    cid_list = safe_get_json(cid_url).get(\"IdentifierList\", {}).get(\"CID\", [])  # pick from JSON\n",
    "    if not cid_list:  # handle no hits\n",
    "        raise ValueError(f\"No CID found for name: {nm}\")  # message\n",
    "    cid = int(cid_list[0])  # first hit\n",
    "    # get IUPAC name as text\n",
    "    iupac_url = f\"https://pubchem.ncbi.nlm.nih.gov/rest/pug/compound/cid/{cid}/property/IUPACName/TXT\"  # TXT endpoint\n",
    "    iupac = safe_get_text(iupac_url).strip()  # fetch IUPAC\n",
    "    return {\"name\": nm, \"cid\": cid, \"smiles\": smiles, \"iupac\": iupac}  # result dict"
   ]
  },
  {
   "cell_type": "markdown",
   "id": "37b6df82",
   "metadata": {},
   "source": [
    "**Example**"
   ]
  },
  {
   "cell_type": "code",
   "execution_count": null,
   "id": "fb005789",
   "metadata": {},
   "outputs": [],
   "source": [
    "pubchem_smiles_by_name(\"ibuprofen\")  # quick demo"
   ]
  },
  {
   "cell_type": "markdown",
   "id": "1b6ca1a2",
   "metadata": {},
   "source": [
    "---\n",
    "\n",
    "## 4.6 Function: by **CID**"
   ]
  },
  {
   "cell_type": "code",
   "execution_count": null,
   "id": "027cb843",
   "metadata": {},
   "outputs": [],
   "source": [
    "def pubchem_smiles_by_cid(cid, isomeric=True):  # look up by CID\n",
    "    try:\n",
    "        cid_int = int(str(cid).strip())  # coerce to int\n",
    "    except ValueError:\n",
    "        raise ValueError(f\"Bad CID: {cid}\")  # clear message\n",
    "    kind = \"IsomericSMILES\" if isomeric else \"CanonicalSMILES\"  # choose field\n",
    "    smi_url = f\"https://pubchem.ncbi.nlm.nih.gov/rest/pug/compound/cid/{cid_int}/property/{kind}/TXT\"  # TXT endpoint\n",
    "    smiles = safe_get_text(smi_url).strip()  # fetch SMILES\n",
    "    iupac_url = f\"https://pubchem.ncbi.nlm.nih.gov/rest/pug/compound/cid/{cid_int}/property/IUPACName/TXT\"  # TXT endpoint\n",
    "    iupac = safe_get_text(iupac_url).strip()  # fetch IUPAC\n",
    "    return {\"cid\": cid_int, \"smiles\": smiles, \"iupac\": iupac}  # result dict"
   ]
  },
  {
   "cell_type": "markdown",
   "id": "279ddeec",
   "metadata": {},
   "source": [
    "**Example**"
   ]
  },
  {
   "cell_type": "code",
   "execution_count": null,
   "id": "930a4ce7",
   "metadata": {},
   "outputs": [],
   "source": [
    "pubchem_smiles_by_cid(2244)  # aspirin"
   ]
  },
  {
   "cell_type": "markdown",
   "id": "321f2406",
   "metadata": {},
   "source": [
    "---\n",
    "\n",
    "## 4.7 Use with RDKit (short)"
   ]
  },
  {
   "cell_type": "code",
   "execution_count": null,
   "id": "a5cdd68b",
   "metadata": {},
   "outputs": [],
   "source": [
    "from rdkit import Chem  # RDKit core\n",
    "from rdkit.Chem import Draw  # drawing\n",
    "\n",
    "res = pubchem_smiles_by_name(\"acetaminophen\")  # fetch SMILES by name\n",
    "mol = Chem.MolFromSmiles(res[\"smiles\"])  # make molecule\n",
    "Draw.MolToImage(mol, size=(180, 180))  # draw image"
   ]
  },
  {
   "cell_type": "markdown",
   "id": "124d10e6",
   "metadata": {},
   "source": [
    "```{note}\n",
    "If `MolFromSmiles` gives `None`, print the SMILES string and check for copy issues.\n",
    "```\n",
    "\n",
    "---\n",
    "\n",
    "\n",
    "\n",
    "## 5. Save and export"
   ]
  },
  {
   "cell_type": "code",
   "execution_count": null,
   "id": "9cc03055",
   "metadata": {},
   "outputs": [],
   "source": [
    "mol = Chem.MolFromSmiles(\"CC(=O)OC1=CC=CC=C1C(=O)O\")\n",
    "print(\"canonical:\", Chem.MolToSmiles(mol))\n",
    "print(\"isomeric:\", Chem.MolToSmiles(mol, isomericSmiles=True))"
   ]
  },
  {
   "cell_type": "code",
   "execution_count": null,
   "id": "42ac345b",
   "metadata": {},
   "outputs": [],
   "source": [
    "# SDF with 2D coordinates\n",
    "m = Chem.AddHs(mol)\n",
    "from rdkit.Chem import AllChem\n",
    "AllChem.Compute2DCoords(m)\n",
    "w = Chem.SDWriter(\"molecule.sdf\")\n",
    "w.write(m); w.close()\n",
    "\"Saved molecule.sdf\""
   ]
  },
  {
   "cell_type": "code",
   "execution_count": null,
   "id": "4b13b5fa",
   "metadata": {},
   "outputs": [],
   "source": [
    "# PNG depiction\n",
    "img = Draw.MolToImage(mol, size=(400, 300))\n",
    "img.save(\"molecule.png\")\n",
    "\"Saved molecule.png\""
   ]
  },
  {
   "cell_type": "markdown",
   "id": "96f7a40d",
   "metadata": {},
   "source": [
    "---\n",
    "\n",
    "## 6. Quick reference\n",
    "\n",
    "```{admonition} SMILES\n",
    "- Atoms: upper case aliphatic, lower case aromatic\n",
    "- Bonds: implicit single, =, #\n",
    "- Branches: parentheses\n",
    "- Rings: digits to open and close\n",
    "- Charges: bracket the atom, e.g., [O-], [NH4+]\n",
    "- Salts: separate parts with a dot\n",
    "- E or Z: use slashes around the double bond\n",
    "```\n",
    "\n",
    "```{admonition} RDKit\n",
    "- Parse: `Chem.MolFromSmiles`\n",
    "- Draw: `Draw.MolToImage(..., includeAtomNumbers=True)`\n",
    "- Hydrogens: `Chem.AddHs`\n",
    "- Properties: `Descriptors.MolWt`, `Crippen.MolLogP`, `CalcNumHBA/HBD`, `CalcTPSA`\n",
    "- Replace piece with piece: `Chem.ReplaceSubstructs(mol, findMol, repMol)`\n",
    "- Salt split: `Chem.GetMolFrags(..., asMols=True)`\n",
    "- Graph edit: `Chem.EditableMol`\n",
    "- Save: `Chem.MolToSmiles`, `SDWriter`, PNG via `MolToImage(...).save(...)`\n",
    "```\n",
    "\n",
    "---\n",
    "\n",
    "## 7. Glossary\n",
    "\n",
    "```{glossary}\n",
    "SMILES\n",
    "  Text line notation for molecules. Example: ethanol is CCO.\n",
    "\n",
    "aromatic\n",
    "  Conjugated ring system represented with lower case atom symbols in SMILES, for example c1ccccc1.\n",
    "\n",
    "CID\n",
    "  PubChem Compound ID for a unique compound record.\n",
    "\n",
    "sanitize\n",
    "  RDKit process that checks valence, aromaticity, and stereochemistry.\n",
    "\n",
    "descriptor\n",
    "  Computed molecular property such as molecular weight or LogP.\n",
    "\n",
    "EditableMol\n",
    "  RDKit object that exposes low level atom and bond editing.\n",
    "```\n",
    "\n",
    "---\n",
    "\n",
    "## 8. In-class activity\n",
    "\n",
    "Each task mirrors the examples above. Fill in the `...` lines. Work in pairs. Solutions are in Section 9.\n",
    "\n",
    "### 8.1 Read a SMILES and inspect\n",
    "\n",
    "Given `smi = \"O=C(O)c1ccccc1Cl\"`.  \n",
    "a) Draw with atom numbers.  \n",
    "b) Count number of rings.  \n",
    "c) Print the list of bonds with begin and end atom indices and bond orders.\n",
    "\n",
    "```python\n",
    "from rdkit import Chem\n",
    "from rdkit.Chem import Draw\n",
    "\n",
    "smi = ...  # TO DO\n",
    "\n",
    "mol = Chem.MolFromSmiles(smi)\n",
    "display(Draw.MolToImage(mol, size=(350, 250), includeAtomNumbers=True))\n",
    "\n",
    "num_rings = ...   # TO DO: Chem.GetSSSR(mol)\n",
    "print(\"rings:\", num_rings)\n",
    "\n",
    "for b in mol.GetBonds():\n",
    "    print(\"bond\", b.GetIdx(), b.GetBeginAtomIdx(), \"-\", b.GetEndAtomIdx(), \"order\", int(b.GetBondTypeAsDouble()))\n",
    "```\n",
    "\n",
    "---\n",
    "\n",
    "### 8.2 Make a small properties table\n",
    "\n",
    "Use names `[\"caffeine\", \"acetaminophen\", \"ibuprofen\"]`. For each, fetch SMILES from PubChem, then compute MolWt, LogP, HBD, HBA, and TPSA.\n",
    "\n",
    "```python\n",
    "import pandas as pd\n",
    "from rdkit.Chem import Descriptors, Crippen, rdMolDescriptors\n",
    "\n",
    "names = ...  # TO DO\n",
    "rows = []\n",
    "for nm in names:\n",
    "    info = ...  # TO DO: pubchem_smiles_by_name\n",
    "    smi = info[\"smiles\"]\n",
    "    m = Chem.MolFromSmiles(smi)\n",
    "    rows.append({\n",
    "        \"name\": nm,\n",
    "        \"smiles\": smi,\n",
    "        \"MolWt\": ...,\n",
    "        \"LogP\": ...,\n",
    "        \"HBD\": ...,\n",
    "        \"HBA\": ...,\n",
    "        \"TPSA\": ...\n",
    "    })\n",
    "\n",
    "pd.DataFrame(rows)\n",
    "```\n",
    "\n",
    "---\n",
    "\n",
    "### 8.3 Replace chlorine with fluorine\n",
    "\n",
    "Replace Cl with F in `Clc1ccc(cc1)C(=O)O` and print the result SMILES.\n",
    "\n",
    "```python\n",
    "find = Chem.MolFromSmiles(... )  # TO DO\n",
    "put  = Chem.MolFromSmiles(... )  # TO DO\n",
    "mol  = ... # TO DO\n",
    "out  = ... # TO DO\n",
    "print(Chem.MolToSmiles(out))\n",
    "```\n",
    "\n",
    "---\n",
    "\n",
    "### 8.4 Add a methyl group with a graph edit\n",
    "\n",
    "Add a methyl at atom index 2 of benzene.\n",
    "\n",
    "```python\n",
    "mol = Chem.MolFromSmiles(\"c1ccccc1\")\n",
    "em = Chem.EditableMol(mol)\n",
    "# TO DO: add code\n",
    "Draw.MolToImage(..., size=(350, 250))\n",
    "```\n",
    "\n",
    "---\n",
    "\n",
    "### 8.5 PubChem lookup to SMILES and drawing\n",
    "\n",
    "We often get inputs in different formats. Some may be PubChem CIDs (just digits) while others are SMILES strings.\n",
    "\n",
    "Tasks:\n",
    "1) For each name in `[\"446157\", \"2244\", \"CCO\", \"482752\", \"c1ccccc1\"]`\n",
    "2) Print a line: `name: ... CID=... SMILES=...`.\n",
    "3) Draw each molecule.\n",
    "\n",
    "\n",
    "```python\n",
    "    mixed = [...]\n",
    "\n",
    "for ... in ...:\n",
    "    if ...:  # looks like CID\n",
    "      ...\n",
    "    else: \n",
    "      ... \n",
    "    print(...)\n",
    "    mol = Chem.MolFromSmiles(...)\n",
    "    display(Draw.MolToImage(mol, size=(100, 100)))\n",
    "\n",
    "```\n",
    "\n",
    "```{note} Hint:\n",
    "Try `isdigit()` to distinguish between cid-like input and SMILES\n",
    "```\n",
    "---"
   ]
  }
 ],
 "metadata": {
  "jupytext": {
   "text_representation": {
    "extension": ".md",
    "format_name": "myst",
    "format_version": 0.13,
    "jupytext_version": "1.16.4"
   }
  },
  "kernelspec": {
   "display_name": "Python 3",
   "language": "python",
   "name": "python3"
  },
  "language_info": {
   "codemirror_mode": {
    "name": "ipython",
    "version": 3
   },
   "file_extension": ".py",
   "mimetype": "text/x-python",
   "name": "python",
   "nbconvert_exporter": "python",
   "pygments_lexer": "ipython3",
   "version": "3.13.5"
  },
  "source_map": [
   12,
   75,
   83,
   91,
   95,
   103,
   107,
   111,
   116,
   120,
   128,
   136,
   139,
   143,
   146,
   157,
   167,
   175,
   193,
   195,
   199,
   210,
   212,
   218,
   225,
   241,
   247,
   253,
   265,
   268,
   272,
   281,
   309,
   318,
   346,
   366,
   373,
   377,
   379,
   381,
   389,
   400,
   407,
   410,
   413,
   415,
   423,
   425,
   436,
   438,
   449,
   462,
   473,
   493,
   497,
   499,
   505,
   517,
   521,
   523,
   529,
   536,
   548,
   554,
   564,
   569
  ]
 },
 "nbformat": 4,
 "nbformat_minor": 5
}