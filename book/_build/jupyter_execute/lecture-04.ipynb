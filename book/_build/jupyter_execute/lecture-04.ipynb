{
 "cells": [
  {
   "cell_type": "markdown",
   "id": "56f279c6",
   "metadata": {},
   "source": [
    "# Lecture 4 - Chemical Structure Identifier\n",
    "\n",
    "```{contents}\n",
    ":local:\n",
    ":depth: 1\n",
    "```\n",
    "\n",
    "## Learning goals\n",
    "\n",
    "- Understand PubChem as a data service via **PUG-REST** and **PUG-View**.  \n",
    "- Form URLs that return JSON, TXT or images.  \n",
    "- Resolve names, SMILES and CAS numbers to CIDs.  \n",
    "- Retrieve IUPAC, SMILES, InChIKey and selected properties.  \n",
    "- Use the **NCI Chemical Identifier Resolver (CIR)** as a second query path.  \n",
    "- Build small helper functions with error handling and fallbacks.  \n",
    "- Practice with a real Excel sheet of ligands that contains CAS numbers.  \n",
    "- Create a tiny widget that accepts name or SMILES or CAS and returns a summary and a GIF.  \n",
    "  [![Colab](https://img.shields.io/badge/Open-Colab-orange)](https://colab.research.google.com/drive/1ARO7FjUB-GoDZJV96E5d3QtSpOHa-oc8?usp=sharing) \n",
    "\n",
    "---\n",
    "\n",
    "\n",
    "\n",
    "## 1. PubChem PUG-REST Basics\n",
    "\n",
    "\n",
    "\n",
    "### 1.1 Setup"
   ]
  },
  {
   "cell_type": "code",
   "execution_count": 1,
   "id": "67a5f75c",
   "metadata": {
    "tags": [
     "hide-input"
    ]
   },
   "outputs": [],
   "source": [
    "# Networking\n",
    "try:\n",
    "    import requests\n",
    "except Exception:\n",
    "    %pip -q install requests\n",
    "    import requests\n",
    "\n",
    "from urllib.parse import quote_plus\n",
    "\n",
    "# Optional drawing and widgets\n",
    "try:\n",
    "    from rdkit import Chem\n",
    "    from rdkit.Chem import Draw, Descriptors, Crippen, rdMolDescriptors, AllChem\n",
    "except Exception:\n",
    "    try:\n",
    "        %pip -q install rdkit-pypi\n",
    "        from rdkit import Chem\n",
    "        from rdkit.Chem import Draw, Descriptors, Crippen, rdMolDescriptors, AllChem\n",
    "    except Exception as e:\n",
    "        print(\"RDKit is not available in this environment. Drawing and descriptors will be skipped.\")\n",
    "        Chem = None\n",
    "\n",
    "try:\n",
    "    import ipywidgets as widgets\n",
    "    from IPython.display import display, HTML, Image, clear_output\n",
    "except Exception:\n",
    "    try:\n",
    "        %pip -q install ipywidgets\n",
    "        import ipywidgets as widgets\n",
    "        from IPython.display import display, HTML, Image, clear_output\n",
    "    except Exception:\n",
    "        widgets = None\n",
    "\n",
    "try:\n",
    "    from PIL import Image as PILImage\n",
    "    from io import BytesIO\n",
    "except Exception:\n",
    "    %pip -q install pillow\n",
    "    from PIL import Image as PILImage\n",
    "    from io import BytesIO"
   ]
  },
  {
   "cell_type": "markdown",
   "id": "37283aa1",
   "metadata": {},
   "source": [
    "---\n",
    "\n",
    "### 1.2 Background Information\n",
    "\n",
    "\n",
    "Instead of going to [PubChem’s main site](https://pubchem.ncbi.nlm.nih.gov) and manually searching for a compound, we can also use a **direct URL** to query PubChem’s REST API. This allows us to send structured requests and retrieve data in machine-readable formats such as JSON, XML, or plain text. \n",
    "\n",
    "Other latest features of PubChem can be found in  *Nucleic Acids Research*, 2025, 53 (D1), D1516–D1525. [![Read](https://img.shields.io/badge/Read-Paper-blue)](https://academic.oup.com/nar/article/53/D1/D1516/7903365?login=false) \n",
    "\n",
    "The figure below illustrates the general workflow of PUG-REST: provide an input (like a compound name), choose an operation (for example, retrieving a CID), and specify the output format. Using URLs in this way not only automates lookups but also integrates PubChem data smoothly into code and analysis.\n",
    "\n",
    "\n",
    "![PubChem PUG-REST Figure](https://iupac.github.io/WFChemCookbook/_images/pubchem_pugrest_fig1.jpg)\n",
    "\n",
    "Here is a summary:\n",
    "\n",
    "- **Input**: name, CID, InChIKey, SMILES, or CAS number.  \n",
    "- **Operation**: what property you want (CID, IUPAC, SMILES, etc.).  \n",
    "- **Output**: JSON, XML, or TXT.  \n",
    "\n",
    "Here are some example URLs you can click and explore directly in a browser:\n",
    "\n",
    "- [https://pubchem.ncbi.nlm.nih.gov/rest/pug/compound/name/aspirin/property/SMILES/TXT](https://pubchem.ncbi.nlm.nih.gov/rest/pug/compound/name/aspirin/property/SMILES/TXT): Returns the SMILES string for aspirin.\n",
    "- [https://pubchem.ncbi.nlm.nih.gov/rest/pug/compound/cid/2244/property/SMILES/JSON](https://pubchem.ncbi.nlm.nih.gov/rest/pug/compound/cid/2244/property/SMILES/JSON): Returns the SMILES string for a compound with PubChem CID 2244.\n",
    "- [https://pubchem.ncbi.nlm.nih.gov/rest/pug/compound/name/aspirin/cids/JSON](https://pubchem.ncbi.nlm.nih.gov/rest/pug/compound/name/aspirin/cids/JSON): Returns the PubChem Compound ID (CID) for aspirin.\n",
    "- [https://pubchem.ncbi.nlm.nih.gov/rest/pug/compound/cid/2244/property/IUPACName/JSON](https://pubchem.ncbi.nlm.nih.gov/rest/pug/compound/cid/2244/property/IUPACName/JSON): Returns the standardized IUPAC name.\n",
    "- [https://pubchem.ncbi.nlm.nih.gov/rest/pug/compound/cid/2244/property/CanonicalSMILES/JSON](https://pubchem.ncbi.nlm.nih.gov/rest/pug/compound/cid/2244/property/CanonicalSMILES/JSON): Returns the canonical SMILES string representation.\n",
    "\n",
    "\n",
    "For more information on how to use PUG-REST URL, please see [![Read](https://img.shields.io/badge/Open-Website-green)](https://pubchem.ncbi.nlm.nih.gov/docs/pug-rest) \n",
    "\n",
    "\n",
    "\n",
    "```{note}\n",
    "The key idea is that PubChem is not only a website but also a programmatic data service. A well-formed URL acts like a query to their database.\n",
    "```\n",
    "\n",
    "\n",
    "If you are interested in learning more about PubChem URL, please read:\n",
    "- [IUPAC FAIR Chemistry Cookbook guide](https://iupac.github.io/WFChemCookbook/datasources/pubchem_pugrest1.html)\n",
    "\n",
    "```{note}\n",
    "Always read the URL as:  \n",
    "1. Base: `https://pubchem.ncbi.nlm.nih.gov/rest/pug`  \n",
    "2. Section: `compound` (since we work with compounds)  \n",
    "3. Identifier type: `name`, `cid`, `smiles`, `cas`  \n",
    "4. Action: what property to fetch  \n",
    "5. Format: `JSON`, `XML`, `TXT`  \n",
    "```\n",
    "\n",
    "\n",
    "\n",
    "---\n",
    "\n",
    "## 2. From name to CID and properties\n",
    "\n",
    "### 2.1 Form the URL"
   ]
  },
  {
   "cell_type": "code",
   "execution_count": 2,
   "id": "6cfd2c8b",
   "metadata": {},
   "outputs": [
    {
     "name": "stdout",
     "output_type": "stream",
     "text": [
      "https://pubchem.ncbi.nlm.nih.gov/rest/pug/compound/name/acetaminophen/cids/JSON\n"
     ]
    }
   ],
   "source": [
    "name = \"acetaminophen\"\n",
    "url = f\"https://pubchem.ncbi.nlm.nih.gov/rest/pug/compound/name/{quote_plus(name)}/cids/JSON\"\n",
    "print(url)"
   ]
  },
  {
   "cell_type": "markdown",
   "id": "78b5dd94",
   "metadata": {},
   "source": [
    "```{note}\n",
    "Try pasting this URL into your browser. You should see a JSON object with `\"CID\"`.  \n",
    "```\n",
    "\n",
    "### 2.2 Request and parse"
   ]
  },
  {
   "cell_type": "code",
   "execution_count": 3,
   "id": "69f57f28",
   "metadata": {},
   "outputs": [],
   "source": [
    "# Install requests if you do not have it\n",
    "try:\n",
    "    import requests\n",
    "except Exception:\n",
    "    %pip -q install requests\n",
    "    import requests\n",
    "\n",
    "from urllib.parse import quote_plus  "
   ]
  },
  {
   "cell_type": "code",
   "execution_count": 4,
   "id": "ff07da61",
   "metadata": {},
   "outputs": [
    {
     "name": "stdout",
     "output_type": "stream",
     "text": [
      "{'IdentifierList': {'CID': [1983]}}\n"
     ]
    }
   ],
   "source": [
    "r = requests.get(url, timeout=30)\n",
    "data = r.json()\n",
    "print(data)"
   ]
  },
  {
   "cell_type": "markdown",
   "id": "9a4cd355",
   "metadata": {},
   "source": [
    "Break it down:"
   ]
  },
  {
   "cell_type": "code",
   "execution_count": 5,
   "id": "7e5c4ee5",
   "metadata": {},
   "outputs": [
    {
     "name": "stdout",
     "output_type": "stream",
     "text": [
      "dict_keys(['IdentifierList'])\n",
      "{'CID': [1983]}\n"
     ]
    }
   ],
   "source": [
    "print(data.keys())\n",
    "print(data.get(\"IdentifierList\", {}))"
   ]
  },
  {
   "cell_type": "code",
   "execution_count": 6,
   "id": "62153354",
   "metadata": {},
   "outputs": [
    {
     "name": "stdout",
     "output_type": "stream",
     "text": [
      "CID: 1983\n"
     ]
    }
   ],
   "source": [
    "cid_list = data.get(\"IdentifierList\", {}).get(\"CID\", [])\n",
    "cid = cid_list[0]\n",
    "print(\"CID:\", cid)"
   ]
  },
  {
   "cell_type": "markdown",
   "id": "f7d8a8d0",
   "metadata": {},
   "source": [
    "---\n",
    "\n",
    "\n",
    "### 2.3 IUPAC name"
   ]
  },
  {
   "cell_type": "code",
   "execution_count": 7,
   "id": "5bfb3402",
   "metadata": {},
   "outputs": [
    {
     "name": "stdout",
     "output_type": "stream",
     "text": [
      "IUPAC: 2-acetyloxybenzoic acid\n"
     ]
    }
   ],
   "source": [
    "cid = 2244  # aspirin\n",
    "url = f\"https://pubchem.ncbi.nlm.nih.gov/rest/pug/compound/cid/{cid}/property/IUPACName/JSON\"\n",
    "r = requests.get(url, timeout=30)\n",
    "r.raise_for_status()\n",
    "props = r.json()[\"PropertyTable\"][\"Properties\"][0]\n",
    "print(\"IUPAC:\", props[\"IUPACName\"])"
   ]
  },
  {
   "cell_type": "markdown",
   "id": "e10893d0",
   "metadata": {},
   "source": [
    "### 2.4 Canonical vs isomeric SMILES"
   ]
  },
  {
   "cell_type": "code",
   "execution_count": 8,
   "id": "d71032c4",
   "metadata": {},
   "outputs": [
    {
     "name": "stdout",
     "output_type": "stream",
     "text": [
      "Canonical: CC(=O)OC1=CC=CC=C1C(=O)O\n",
      "Isomeric : CC(=O)OC1=CC=CC=C1C(=O)O\n"
     ]
    }
   ],
   "source": [
    "canon = requests.get(f\"https://pubchem.ncbi.nlm.nih.gov/rest/pug/compound/cid/{cid}/property/CanonicalSMILES/TXT\", timeout=30).text.strip()\n",
    "iso   = requests.get(f\"https://pubchem.ncbi.nlm.nih.gov/rest/pug/compound/cid/{cid}/property/IsomericSMILES/TXT\", timeout=30).text.strip()\n",
    "print(\"Canonical:\", canon)\n",
    "print(\"Isomeric :\", iso)"
   ]
  },
  {
   "cell_type": "markdown",
   "id": "270ae592",
   "metadata": {},
   "source": [
    "```{note}\n",
    "Canonical SMILES is normalized and does not carry stereochemistry.  \n",
    "Isomeric SMILES includes stereochemistry and isotopes if available.\n",
    "```\n",
    "\n",
    "---\n",
    "\n",
    "### 2.5 Safer helpers"
   ]
  },
  {
   "cell_type": "code",
   "execution_count": 9,
   "id": "adb85ed5",
   "metadata": {},
   "outputs": [],
   "source": [
    "def safe_get_json(url, timeout=30):\n",
    "    r = requests.get(url, timeout=timeout)\n",
    "    r.raise_for_status()\n",
    "    return r.json()\n",
    "\n",
    "def safe_get_text(url, timeout=30):\n",
    "    r = requests.get(url, timeout=timeout)\n",
    "    r.raise_for_status()\n",
    "    return r.text.strip()\n",
    "\n",
    "def safe_get_bytes(url, timeout=30):\n",
    "    r = requests.get(url, timeout=timeout)\n",
    "    r.raise_for_status()\n",
    "    return r.content"
   ]
  },
  {
   "cell_type": "markdown",
   "id": "623900a1",
   "metadata": {},
   "source": [
    "---\n",
    "\n",
    "\n",
    "### 2.6 Write convenience functions (by name)"
   ]
  },
  {
   "cell_type": "code",
   "execution_count": 10,
   "id": "f3a2499c",
   "metadata": {},
   "outputs": [
    {
     "data": {
      "text/plain": [
       "{'input': 'ibuprofen',\n",
       " 'cid': 3672,\n",
       " 'smiles': 'CC(C)CC1=CC=C(C=C1)C(C)C(=O)O',\n",
       " 'iupac': '2-[4-(2-methylpropyl)phenyl]propanoic acid',\n",
       " 'inchikey': 'HEFNNWSXXWATRW-UHFFFAOYSA-N'}"
      ]
     },
     "execution_count": 10,
     "metadata": {},
     "output_type": "execute_result"
    }
   ],
   "source": [
    "def pubchem_by_name(name, isomeric=True):\n",
    "    enc = quote_plus(name.strip())\n",
    "    kind = \"IsomericSMILES\" if isomeric else \"CanonicalSMILES\"\n",
    "    smi_url = f\"https://pubchem.ncbi.nlm.nih.gov/rest/pug/compound/name/{enc}/property/{kind}/TXT\"\n",
    "    smiles = safe_get_text(smi_url)\n",
    "\n",
    "    cid_url = f\"https://pubchem.ncbi.nlm.nih.gov/rest/pug/compound/name/{enc}/cids/JSON\"\n",
    "    cid_list = safe_get_json(cid_url).get(\"IdentifierList\", {}).get(\"CID\", [])\n",
    "    if not cid_list:\n",
    "        raise ValueError(\"No CID found\")\n",
    "    cid = cid_list[0]\n",
    "\n",
    "    iupac_url = f\"https://pubchem.ncbi.nlm.nih.gov/rest/pug/compound/cid/{cid}/property/IUPACName/TXT\"\n",
    "    iupac = safe_get_text(iupac_url)\n",
    "\n",
    "    inchikey_url = f\"https://pubchem.ncbi.nlm.nih.gov/rest/pug/compound/cid/{cid}/property/InChIKey/TXT\"\n",
    "    inchikey = safe_get_text(inchikey_url)\n",
    "\n",
    "    return {\"input\": name, \"cid\": cid, \"smiles\": smiles, \"iupac\": iupac, \"inchikey\": inchikey}\n",
    "\n",
    "pubchem_by_name(\"ibuprofen\")"
   ]
  },
  {
   "cell_type": "markdown",
   "id": "134126b6",
   "metadata": {},
   "source": [
    "### 2.7 Write convenience functions (by CID)"
   ]
  },
  {
   "cell_type": "code",
   "execution_count": 11,
   "id": "bb29d968",
   "metadata": {},
   "outputs": [
    {
     "data": {
      "text/plain": [
       "{'cid': 2244,\n",
       " 'smiles': 'CC(=O)OC1=CC=CC=C1C(=O)O',\n",
       " 'iupac': '2-acetyloxybenzoic acid',\n",
       " 'inchikey': 'BSYNRYMUTXBXSQ-UHFFFAOYSA-N'}"
      ]
     },
     "execution_count": 11,
     "metadata": {},
     "output_type": "execute_result"
    }
   ],
   "source": [
    "def pubchem_by_cid(cid, isomeric=True):\n",
    "    cid = int(cid)\n",
    "    kind = \"IsomericSMILES\" if isomeric else \"CanonicalSMILES\"\n",
    "    smi_url = f\"https://pubchem.ncbi.nlm.nih.gov/rest/pug/compound/cid/{cid}/property/{kind}/TXT\"\n",
    "    smiles = safe_get_text(smi_url)\n",
    "    iupac_url = f\"https://pubchem.ncbi.nlm.nih.gov/rest/pug/compound/cid/{cid}/property/IUPACName/TXT\"\n",
    "    iupac = safe_get_text(iupac_url)\n",
    "    inchikey_url = f\"https://pubchem.ncbi.nlm.nih.gov/rest/pug/compound/cid/{cid}/property/InChIKey/TXT\"\n",
    "    inchikey = safe_get_text(inchikey_url)\n",
    "    return {\"cid\": cid, \"smiles\": smiles, \"iupac\": iupac, \"inchikey\": inchikey}\n",
    "\n",
    "pubchem_by_cid(2244)"
   ]
  },
  {
   "cell_type": "markdown",
   "id": "b794ced1",
   "metadata": {},
   "source": [
    "---\n",
    "\n",
    "## 3. Other PubChem features\n",
    "\n",
    "### 3.1 Selected computed properties"
   ]
  },
  {
   "cell_type": "code",
   "execution_count": 12,
   "id": "6b2dd57d",
   "metadata": {},
   "outputs": [
    {
     "data": {
      "text/plain": [
       "{'CID': 2244,\n",
       " 'MolecularWeight': '180.16',\n",
       " 'XLogP': 1.2,\n",
       " 'ExactMass': '180.04225873',\n",
       " 'TPSA': 63.6,\n",
       " 'HBondDonorCount': 1,\n",
       " 'HBondAcceptorCount': 4}"
      ]
     },
     "execution_count": 12,
     "metadata": {},
     "output_type": "execute_result"
    }
   ],
   "source": [
    "def pubchem_properties(cid, fields=(\"MolecularWeight\",\"XLogP\",\"ExactMass\",\"HBondDonorCount\",\"HBondAcceptorCount\",\"TPSA\")):\n",
    "    cid = int(cid)\n",
    "    field_str = \",\".join(fields)\n",
    "    url = f\"https://pubchem.ncbi.nlm.nih.gov/rest/pug/compound/cid/{cid}/property/{field_str}/JSON\"\n",
    "    data = safe_get_json(url)\n",
    "    return data[\"PropertyTable\"][\"Properties\"][0]\n",
    "\n",
    "pubchem_properties(2244)"
   ]
  },
  {
   "cell_type": "markdown",
   "id": "2f20f566",
   "metadata": {},
   "source": [
    "### 3.2 Synonyms"
   ]
  },
  {
   "cell_type": "code",
   "execution_count": 13,
   "id": "e518694c",
   "metadata": {},
   "outputs": [
    {
     "data": {
      "text/plain": [
       "['aspirin',\n",
       " 'ACETYLSALICYLIC ACID',\n",
       " '50-78-2',\n",
       " '2-Acetoxybenzoic acid',\n",
       " '2-(Acetyloxy)benzoic acid',\n",
       " 'O-Acetylsalicylic acid',\n",
       " 'o-Acetoxybenzoic acid',\n",
       " 'Acylpyrin']"
      ]
     },
     "execution_count": 13,
     "metadata": {},
     "output_type": "execute_result"
    }
   ],
   "source": [
    "def pubchem_synonyms(cid, limit=10):\n",
    "    url = f\"https://pubchem.ncbi.nlm.nih.gov/rest/pug/compound/cid/{int(cid)}/synonyms/JSON\"\n",
    "    syns = safe_get_json(url).get(\"InformationList\", {}).get(\"Information\", [{}])[0].get(\"Synonym\", [])\n",
    "    return syns[:limit]\n",
    "\n",
    "pubchem_synonyms(2244, limit=8)"
   ]
  },
  {
   "cell_type": "markdown",
   "id": "1ae1afe7",
   "metadata": {},
   "source": [
    "### 3.3 PNG depiction from PubChem"
   ]
  },
  {
   "cell_type": "code",
   "execution_count": 14,
   "id": "7f860c9e",
   "metadata": {},
   "outputs": [
    {
     "data": {
      "image/png": "[encoded data removed]",
      "text/plain": [
       "<IPython.core.display.Image object>"
      ]
     },
     "metadata": {},
     "output_type": "display_data"
    }
   ],
   "source": [
    "def pubchem_png_by_cid(cid, size=300):\n",
    "    url = f\"https://pubchem.ncbi.nlm.nih.gov/rest/pug/compound/cid/{int(cid)}/PNG?image_size={int(size)}x{int(size)}\"\n",
    "    return safe_get_bytes(url)\n",
    "\n",
    "png_bytes = pubchem_png_by_cid(2244, size=300)\n",
    "display(Image(data=png_bytes))"
   ]
  },
  {
   "cell_type": "markdown",
   "id": "6089edb7",
   "metadata": {},
   "source": [
    "### 3.4 PUG-View for safety snippets\n",
    "\n",
    "`PUG-View` serves formatted record content such as GHS classification. The path is:\n",
    "\n",
    "```\n",
    "https://pubchem.ncbi.nlm.nih.gov/rest/pug_view/data/compound/<cid>/JSON\n",
    "```\n",
    "\n",
    "The JSON is nested. The simple utility below searches for any block whose title contains a keyword."
   ]
  },
  {
   "cell_type": "code",
   "execution_count": 15,
   "id": "dde87688",
   "metadata": {},
   "outputs": [
    {
     "data": {
      "text/plain": [
       "['GHS Classification', 'UN GHS Classification']"
      ]
     },
     "execution_count": 15,
     "metadata": {},
     "output_type": "execute_result"
    }
   ],
   "source": [
    "def pug_view_find_sections(cid, keyword=\"GHS\"):\n",
    "    url = f\"https://pubchem.ncbi.nlm.nih.gov/rest/pug_view/data/compound/{int(cid)}/JSON\"\n",
    "    data = safe_get_json(url)\n",
    "    hits = []\n",
    "    def walk(sections, path=\"\"):\n",
    "        for sec in sections or []:\n",
    "            title = sec.get(\"TOCHeading\", \"\") or sec.get(\"Title\", \"\")\n",
    "            if keyword.lower() in title.lower():\n",
    "                hits.append({\"title\": title, \"path\": path + \" > \" + title, \"section\": sec})\n",
    "            walk(sec.get(\"Section\"), path + \" > \" + title)\n",
    "    rec = data.get(\"Record\", {})\n",
    "    walk(rec.get(\"Section\"))\n",
    "    return hits\n",
    "\n",
    "ghs_hits = pug_view_find_sections(2244, \"GHS\")\n",
    "[x[\"title\"] for x in ghs_hits][:5]"
   ]
  },
  {
   "cell_type": "markdown",
   "id": "8a9a8ab0",
   "metadata": {},
   "source": [
    "To show a short plain text summary, extract strings in the first hit:"
   ]
  },
  {
   "cell_type": "code",
   "execution_count": 16,
   "id": "239f5597",
   "metadata": {},
   "outputs": [
    {
     "name": "stdout",
     "output_type": "stream",
     "text": [
      "This chemical does not meet GHS hazard criteria for 0.3% (1  of 315) of reports.\n",
      "Warning\n",
      "H302 (95.6%): Harmful if swallowed [Warning Acute toxicity, oral]\n",
      "H315 (20.6%): Causes skin irritation [Warning Skin corrosion/irritation]\n",
      "H319 (22.2%): Causes serious eye irritation [Warning Serious eye damage/eye irritation]\n",
      "H335 (20%): May cause respiratory irritation [Warning Specific target organ toxicity, single exposure; Respiratory tract irritation]\n",
      "P261, P264, P264+P265, P270, P271, P280, P301+P317, P302+P352, P304+P340, P305+P351+P338, P319, P321, P330, P332+P317, P337+P317, P362+P364, P403+P233, P405, and P501\n",
      "Aggregated GHS information provided per 315 reports by companies from 23 notifications to the ECHA C&L Inventory. Each notification may be associated with multiple companies.\n",
      "Reported as not meeting GHS hazard criteria per 1 of 315 reports by companies.\n",
      "There are 22 notifications provided by 314 of 315 reports by companies with hazard statement code(s).\n",
      "Information may vary between notifications depending on impurities, additives, and other factors. The percentage value in parenthesis indicates the notified classification ratio from companies that provide hazard codes. Only hazard codes with percentage values above 10% are shown. For more detailed information, please visit  ECHA C&L website.\n",
      "Danger\n"
     ]
    }
   ],
   "source": [
    "def pug_view_text_from_hit(hit, max_lines=12):\n",
    "    lines = []\n",
    "    def walk(sec):\n",
    "        for i in sec.get(\"Information\", []) or []:\n",
    "            sval = i.get(\"Value\", {}).get(\"StringWithMarkup\", [])\n",
    "            for s in sval:\n",
    "                txt = s.get(\"String\", \"\").strip()\n",
    "                if txt:\n",
    "                    lines.append(txt)\n",
    "        for ch in sec.get(\"Section\", []) or []:\n",
    "            walk(ch)\n",
    "    walk(hit[\"section\"])\n",
    "    return \"\\n\".join(lines[:max_lines])\n",
    "\n",
    "if ghs_hits:\n",
    "    print(pug_view_text_from_hit(ghs_hits[0]))"
   ]
  },
  {
   "cell_type": "markdown",
   "id": "09afcc4c",
   "metadata": {},
   "source": [
    "---\n",
    "\n",
    "## 4. NCI Chemical Identifier Resolver (CIR) as a second path\n",
    "\n",
    "Base URL:\n",
    "\n",
    "```\n",
    "https://cactus.nci.nih.gov/chemical/structure/<input>/<output>\n",
    "```\n",
    "\n",
    "Useful outputs: `smiles`, `stdinchi`, `stdinchikey`, `names`, `cas`, `image`, `mw`"
   ]
  },
  {
   "cell_type": "code",
   "execution_count": 17,
   "id": "a5ca3e97",
   "metadata": {},
   "outputs": [
    {
     "name": "stdout",
     "output_type": "stream",
     "text": [
      "SMILES: CC(=O)Oc1ccccc1C(O)=O ...\n"
     ]
    },
    {
     "name": "stdout",
     "output_type": "stream",
     "text": [
      "InChIKey: InChIKey=BSYNRYMUTXBXSQ-UHFFFAOYSA-N\n"
     ]
    },
    {
     "name": "stdout",
     "output_type": "stream",
     "text": [
      "CAS: 50-78-2\n",
      "11126-35-5\n",
      "11126-37-7\n",
      "2349-94-2\n",
      "26914-13-6\n",
      "98201-60-6\n"
     ]
    }
   ],
   "source": [
    "def cir_get(q, out=\"smiles\"):\n",
    "    q_enc = quote_plus(str(q).strip())\n",
    "    url = f\"https://cactus.nci.nih.gov/chemical/structure/{q_enc}/{out}\"\n",
    "    try:\n",
    "        if out == \"image\":\n",
    "            return safe_get_bytes(url)\n",
    "        else:\n",
    "            return safe_get_text(url)\n",
    "    except Exception as e:\n",
    "        return None\n",
    "\n",
    "print(\"SMILES:\", cir_get(\"aspirin\", \"smiles\"), \"...\")\n",
    "print(\"InChIKey:\", cir_get(\"aspirin\", \"stdinchikey\"))\n",
    "print(\"CAS:\", cir_get(\"aspirin\", \"cas\"))"
   ]
  },
  {
   "cell_type": "markdown",
   "id": "a8bc5feb",
   "metadata": {},
   "source": [
    "---\n",
    "\n",
    "## 5. Mini widget\n",
    "\n",
    "Enter a **name or CID or SMILES or CAS** and show a quick summary. Generates a small GIF from a PNG depiction so it can be shared easily."
   ]
  },
  {
   "cell_type": "code",
   "execution_count": 18,
   "id": "cced660c",
   "metadata": {},
   "outputs": [
    {
     "data": {
      "application/vnd.jupyter.widget-view+json": {
       "model_id": "22199c7cbc4d4846b9326916ed3ea960",
       "version_major": 2,
       "version_minor": 0
      },
      "text/plain": [
       "HBox(children=(Text(value='aspirin', description='Query:', layout=Layout(width='60%')), ToggleButtons(descript…"
      ]
     },
     "metadata": {},
     "output_type": "display_data"
    },
    {
     "data": {
      "application/vnd.jupyter.widget-view+json": {
       "model_id": "9fdeacf02d30429c80b463ed4e1fe518",
       "version_major": 2,
       "version_minor": 0
      },
      "text/plain": [
       "Output()"
      ]
     },
     "metadata": {},
     "output_type": "display_data"
    }
   ],
   "source": [
    "def quick_summary(query, source=\"PubChem\"):\n",
    "    q = str(query).strip()\n",
    "    summary = {\"query\": q, \"source\": source}\n",
    "    try:\n",
    "        if source == \"PubChem\":  # deafault PubChem\n",
    "            if q.isdigit():\n",
    "                info = pubchem_by_cid(int(q))\n",
    "            else:\n",
    "                info = pubchem_by_name(q)\n",
    "            summary.update(info)\n",
    "            png = pubchem_png_by_cid(summary[\"cid\"], size=300)\n",
    "            summary[\"image\"] = png    \n",
    "        else: #use CIR\n",
    "            summary[\"smiles\"] = cir_by_name(q, \"smiles\")\n",
    "            summary[\"inchikey\"] = cir_by_name(q, \"stdinchikey\")\n",
    "            summary[\"iupac\"] = cir_by_name(q, \"iupac_name\")\n",
    "            img = cir_by_name(q, \"image\")\n",
    "            summary[\"image\"] = img if img else None\n",
    "        return summary\n",
    "    except Exception as e:\n",
    "        summary[\"error\"] = str(e)\n",
    "        return summary\n",
    "\n",
    "def run_fetch(b):\n",
    "    with out:\n",
    "        clear_output()\n",
    "        res = quick_summary(inp.value, source=src.value)\n",
    "        if \"error\" in res:\n",
    "             print(\"Error:\", res[\"error\"])\n",
    "             return\n",
    "        print(\"Source:\", res.get(\"source\"))\n",
    "        print(\"CID:\", res.get(\"cid\"))\n",
    "        print(\"IUPAC:\", res.get(\"iupac\"))\n",
    "        print(\"SMILES:\", res.get(\"smiles\"))\n",
    "        print(\"InChIKey:\", res.get(\"inchikey\"))\n",
    "        if res.get(\"image\"):\n",
    "            display(Image(data=res[\"image\"]))\n",
    "        else:\n",
    "            print(\"No image available\")\n",
    "                \n",
    "if widgets is not None:\n",
    "    inp = widgets.Text(value=\"aspirin\", description=\"Query:\", layout=widgets.Layout(width=\"60%\"))\n",
    "    src = widgets.ToggleButtons(options=[\"PubChem\",\"CIR\"], description=\"Source:\")\n",
    "    btn = widgets.Button(description=\"Fetch\", button_style=\"primary\")\n",
    "    out = widgets.Output()\n",
    "    btn.on_click(run_fetch)\n",
    "    display(widgets.HBox([inp, src, btn]), out)\n",
    "else:\n",
    "    print(\"ipywidgets is not available in this environment.\")"
   ]
  },
  {
   "cell_type": "markdown",
   "id": "c9f42dee",
   "metadata": {},
   "source": [
    "---\n",
    "\n",
    "## 6. Case study with CAS from Excel\n",
    "\n",
    "We will re-use the inventory file:\n",
    "\n",
    "📂 `organic ligands inventory.xlsx`  \n",
    "<https://raw.githubusercontent.com/zzhenglab/ai4chem/main/book/_data/organic_ligands_inventory.xlsx>"
   ]
  },
  {
   "cell_type": "code",
   "execution_count": 19,
   "id": "2a7f304b",
   "metadata": {},
   "outputs": [
    {
     "data": {
      "text/html": [
       "<div>\n",
       "<style scoped>\n",
       "    .dataframe tbody tr th:only-of-type {\n",
       "        vertical-align: middle;\n",
       "    }\n",
       "\n",
       "    .dataframe tbody tr th {\n",
       "        vertical-align: top;\n",
       "    }\n",
       "\n",
       "    .dataframe thead th {\n",
       "        text-align: right;\n",
       "    }\n",
       "</style>\n",
       "<table border=\"1\" class=\"dataframe\">\n",
       "  <thead>\n",
       "    <tr style=\"text-align: right;\">\n",
       "      <th></th>\n",
       "      <th>CAS</th>\n",
       "      <th>Product Name</th>\n",
       "      <th>MW</th>\n",
       "      <th>Purity</th>\n",
       "      <th>Stock</th>\n",
       "    </tr>\n",
       "  </thead>\n",
       "  <tbody>\n",
       "    <tr>\n",
       "      <th>0</th>\n",
       "      <td>2039-06-7</td>\n",
       "      <td>3,5-Diphenyl-4H-1,2,4-triazole</td>\n",
       "      <td>221.263</td>\n",
       "      <td>98%</td>\n",
       "      <td>In Stock</td>\n",
       "    </tr>\n",
       "    <tr>\n",
       "      <th>1</th>\n",
       "      <td>2127-07-3</td>\n",
       "      <td>1,2-Bis(2-(pyridin-4-yl)ethyl)disulfane</td>\n",
       "      <td>276.420</td>\n",
       "      <td>98%</td>\n",
       "      <td>In Stock</td>\n",
       "    </tr>\n",
       "    <tr>\n",
       "      <th>2</th>\n",
       "      <td>2359-09-3</td>\n",
       "      <td>5-tert-Butylisophthalic acid</td>\n",
       "      <td>222.240</td>\n",
       "      <td>96%</td>\n",
       "      <td>In Stock</td>\n",
       "    </tr>\n",
       "    <tr>\n",
       "      <th>3</th>\n",
       "      <td>2384-02-3</td>\n",
       "      <td>1H,1'H-3,3'-Bipyrazole</td>\n",
       "      <td>134.140</td>\n",
       "      <td>98%</td>\n",
       "      <td>In Stock</td>\n",
       "    </tr>\n",
       "    <tr>\n",
       "      <th>4</th>\n",
       "      <td>2790-09-2</td>\n",
       "      <td>4,6-Dimethylisophthalic acid</td>\n",
       "      <td>194.186</td>\n",
       "      <td>98%</td>\n",
       "      <td>In Stock</td>\n",
       "    </tr>\n",
       "  </tbody>\n",
       "</table>\n",
       "</div>"
      ],
      "text/plain": [
       "         CAS                             Product Name       MW Purity  \\\n",
       "0  2039-06-7           3,5-Diphenyl-4H-1,2,4-triazole  221.263    98%   \n",
       "1  2127-07-3  1,2-Bis(2-(pyridin-4-yl)ethyl)disulfane  276.420    98%   \n",
       "2  2359-09-3             5-tert-Butylisophthalic acid  222.240    96%   \n",
       "3  2384-02-3                   1H,1'H-3,3'-Bipyrazole  134.140    98%   \n",
       "4  2790-09-2             4,6-Dimethylisophthalic acid  194.186    98%   \n",
       "\n",
       "      Stock  \n",
       "0  In Stock  \n",
       "1  In Stock  \n",
       "2  In Stock  \n",
       "3  In Stock  \n",
       "4  In Stock  "
      ]
     },
     "execution_count": 19,
     "metadata": {},
     "output_type": "execute_result"
    }
   ],
   "source": [
    "import pandas as pd\n",
    "\n",
    "url = \"https://raw.githubusercontent.com/zzhenglab/ai4chem/main/book/_data/organic_ligands_inventory.xlsx\"\n",
    "df = pd.read_excel(url, engine=\"openpyxl\")\n",
    "df.head()"
   ]
  },
  {
   "cell_type": "markdown",
   "id": "944ea08c",
   "metadata": {},
   "source": [
    "```{admonition} Why \"openpyxl\"?\n",
    "In previous example, we directly read csv. However, to access excell spreedsheet, we need to specify `engine=\"openpyxl\"`.\n",
    "\n",
    "```\n",
    "\n",
    "### 6.1 Query PubChem by CAS with fallback"
   ]
  },
  {
   "cell_type": "code",
   "execution_count": 20,
   "id": "92095ff3",
   "metadata": {},
   "outputs": [
    {
     "data": {
      "text/plain": [
       "{'cas': '2039-06-7',\n",
       " 'cid': 16260,\n",
       " 'smiles': 'C1=CC=C(C=C1)C2=NC(=NN2)C3=CC=CC=C3'}"
      ]
     },
     "execution_count": 20,
     "metadata": {},
     "output_type": "execute_result"
    }
   ],
   "source": [
    "def by_cas_with_fallback(cas, isomeric=True):\n",
    "    enc = quote_plus(str(cas))\n",
    "    try:\n",
    "        kind = \"IsomericSMILES\" if isomeric else \"CanonicalSMILES\"\n",
    "        smi_url = f\"https://pubchem.ncbi.nlm.nih.gov/rest/pug/compound/name/{enc}/property/{kind}/TXT\"\n",
    "        smiles = safe_get_text(smi_url)\n",
    "        cid_url = f\"https://pubchem.ncbi.nlm.nih.gov/rest/pug/compound/name/{enc}/cids/TXT\"\n",
    "        try:\n",
    "            cid = int(safe_get_text(cid_url).split()[0])\n",
    "        except Exception:\n",
    "            cid = None\n",
    "    except Exception:\n",
    "        smiles = cir_get(cas, \"smiles\")\n",
    "        cid = None\n",
    "    return {\"cas\": cas, \"cid\": cid, \"smiles\": smiles}\n",
    "\n",
    "example_cas = df.loc[0, \"CAS\"]\n",
    "by_cas_with_fallback(example_cas)"
   ]
  },
  {
   "cell_type": "markdown",
   "id": "8151f3f8",
   "metadata": {},
   "source": [
    "### 6.2 Enrich a small slice"
   ]
  },
  {
   "cell_type": "code",
   "execution_count": 21,
   "id": "8ac8a5c4",
   "metadata": {},
   "outputs": [
    {
     "data": {
      "text/html": [
       "<div>\n",
       "<style scoped>\n",
       "    .dataframe tbody tr th:only-of-type {\n",
       "        vertical-align: middle;\n",
       "    }\n",
       "\n",
       "    .dataframe tbody tr th {\n",
       "        vertical-align: top;\n",
       "    }\n",
       "\n",
       "    .dataframe thead th {\n",
       "        text-align: right;\n",
       "    }\n",
       "</style>\n",
       "<table border=\"1\" class=\"dataframe\">\n",
       "  <thead>\n",
       "    <tr style=\"text-align: right;\">\n",
       "      <th></th>\n",
       "      <th>cas</th>\n",
       "      <th>cid</th>\n",
       "      <th>smiles</th>\n",
       "      <th>CID</th>\n",
       "      <th>MolecularWeight</th>\n",
       "      <th>XLogP</th>\n",
       "      <th>ExactMass</th>\n",
       "      <th>TPSA</th>\n",
       "      <th>HBondDonorCount</th>\n",
       "      <th>HBondAcceptorCount</th>\n",
       "    </tr>\n",
       "  </thead>\n",
       "  <tbody>\n",
       "    <tr>\n",
       "      <th>0</th>\n",
       "      <td>2039-06-7</td>\n",
       "      <td>16260.0</td>\n",
       "      <td>C1=CC=C(C=C1)C2=NC(=NN2)C3=CC=CC=C3</td>\n",
       "      <td>16260.0</td>\n",
       "      <td>221.26</td>\n",
       "      <td>3.3</td>\n",
       "      <td>221.095297364</td>\n",
       "      <td>41.6</td>\n",
       "      <td>1.0</td>\n",
       "      <td>2.0</td>\n",
       "    </tr>\n",
       "    <tr>\n",
       "      <th>1</th>\n",
       "      <td>2127-07-3</td>\n",
       "      <td>417543.0</td>\n",
       "      <td>C1=CN=CC=C1CCSSCCC2=CC=NC=C2</td>\n",
       "      <td>417543.0</td>\n",
       "      <td>276.4</td>\n",
       "      <td>2.7</td>\n",
       "      <td>276.07549087</td>\n",
       "      <td>76.4</td>\n",
       "      <td>0.0</td>\n",
       "      <td>4.0</td>\n",
       "    </tr>\n",
       "    <tr>\n",
       "      <th>2</th>\n",
       "      <td>2359-09-3</td>\n",
       "      <td>75379.0</td>\n",
       "      <td>CC(C)(C)C1=CC(=CC(=C1)C(=O)O)C(=O)O</td>\n",
       "      <td>75379.0</td>\n",
       "      <td>222.24</td>\n",
       "      <td>2.6</td>\n",
       "      <td>222.08920892</td>\n",
       "      <td>74.6</td>\n",
       "      <td>2.0</td>\n",
       "      <td>4.0</td>\n",
       "    </tr>\n",
       "    <tr>\n",
       "      <th>3</th>\n",
       "      <td>2384-02-3</td>\n",
       "      <td>584077.0</td>\n",
       "      <td>C1=C(NN=C1)C2=CC=NN2</td>\n",
       "      <td>584077.0</td>\n",
       "      <td>134.14</td>\n",
       "      <td>0.2</td>\n",
       "      <td>134.059246208</td>\n",
       "      <td>57.4</td>\n",
       "      <td>2.0</td>\n",
       "      <td>2.0</td>\n",
       "    </tr>\n",
       "    <tr>\n",
       "      <th>4</th>\n",
       "      <td>2790-09-2</td>\n",
       "      <td>314208.0</td>\n",
       "      <td>CC1=CC(=C(C=C1C(=O)O)C(=O)O)C</td>\n",
       "      <td>314208.0</td>\n",
       "      <td>194.18</td>\n",
       "      <td>1.7</td>\n",
       "      <td>194.05790880</td>\n",
       "      <td>74.6</td>\n",
       "      <td>2.0</td>\n",
       "      <td>4.0</td>\n",
       "    </tr>\n",
       "    <tr>\n",
       "      <th>5</th>\n",
       "      <td>2997-05-9</td>\n",
       "      <td>NaN</td>\n",
       "      <td>None</td>\n",
       "      <td>NaN</td>\n",
       "      <td>NaN</td>\n",
       "      <td>NaN</td>\n",
       "      <td>NaN</td>\n",
       "      <td>NaN</td>\n",
       "      <td>NaN</td>\n",
       "      <td>NaN</td>\n",
       "    </tr>\n",
       "    <tr>\n",
       "      <th>6</th>\n",
       "      <td>3097-03-8</td>\n",
       "      <td>12262901.0</td>\n",
       "      <td>C1=CC2=C(C=C1C3=CC4=C(C=C3)N=CN4)NC=N2</td>\n",
       "      <td>12262901.0</td>\n",
       "      <td>234.26</td>\n",
       "      <td>2.7</td>\n",
       "      <td>234.090546336</td>\n",
       "      <td>57.4</td>\n",
       "      <td>2.0</td>\n",
       "      <td>2.0</td>\n",
       "    </tr>\n",
       "    <tr>\n",
       "      <th>7</th>\n",
       "      <td>3711-03-3</td>\n",
       "      <td>13628397.0</td>\n",
       "      <td>C1=CC2=C(C3=C1C4=C(C=C3)C(=O)OC4=O)C(=O)OC2=O</td>\n",
       "      <td>13628397.0</td>\n",
       "      <td>268.18</td>\n",
       "      <td>1.9</td>\n",
       "      <td>268.00078784</td>\n",
       "      <td>86.7</td>\n",
       "      <td>0.0</td>\n",
       "      <td>6.0</td>\n",
       "    </tr>\n",
       "  </tbody>\n",
       "</table>\n",
       "</div>"
      ],
      "text/plain": [
       "         cas         cid                                         smiles  \\\n",
       "0  2039-06-7     16260.0            C1=CC=C(C=C1)C2=NC(=NN2)C3=CC=CC=C3   \n",
       "1  2127-07-3    417543.0                   C1=CN=CC=C1CCSSCCC2=CC=NC=C2   \n",
       "2  2359-09-3     75379.0            CC(C)(C)C1=CC(=CC(=C1)C(=O)O)C(=O)O   \n",
       "3  2384-02-3    584077.0                           C1=C(NN=C1)C2=CC=NN2   \n",
       "4  2790-09-2    314208.0                  CC1=CC(=C(C=C1C(=O)O)C(=O)O)C   \n",
       "5  2997-05-9         NaN                                           None   \n",
       "6  3097-03-8  12262901.0         C1=CC2=C(C=C1C3=CC4=C(C=C3)N=CN4)NC=N2   \n",
       "7  3711-03-3  13628397.0  C1=CC2=C(C3=C1C4=C(C=C3)C(=O)OC4=O)C(=O)OC2=O   \n",
       "\n",
       "          CID MolecularWeight  XLogP      ExactMass  TPSA  HBondDonorCount  \\\n",
       "0     16260.0          221.26    3.3  221.095297364  41.6              1.0   \n",
       "1    417543.0           276.4    2.7   276.07549087  76.4              0.0   \n",
       "2     75379.0          222.24    2.6   222.08920892  74.6              2.0   \n",
       "3    584077.0          134.14    0.2  134.059246208  57.4              2.0   \n",
       "4    314208.0          194.18    1.7   194.05790880  74.6              2.0   \n",
       "5         NaN             NaN    NaN            NaN   NaN              NaN   \n",
       "6  12262901.0          234.26    2.7  234.090546336  57.4              2.0   \n",
       "7  13628397.0          268.18    1.9   268.00078784  86.7              0.0   \n",
       "\n",
       "   HBondAcceptorCount  \n",
       "0                 2.0  \n",
       "1                 4.0  \n",
       "2                 4.0  \n",
       "3                 2.0  \n",
       "4                 4.0  \n",
       "5                 NaN  \n",
       "6                 2.0  \n",
       "7                 6.0  "
      ]
     },
     "execution_count": 21,
     "metadata": {},
     "output_type": "execute_result"
    }
   ],
   "source": [
    "rows = []\n",
    "for cas in df[\"CAS\"].head(8):\n",
    "    try:\n",
    "        rec = by_cas_with_fallback(cas)\n",
    "        if rec[\"cid\"]:\n",
    "            more = pubchem_properties(rec[\"cid\"])\n",
    "            rec.update(more)\n",
    "        rows.append(rec)\n",
    "    except Exception:\n",
    "        rows.append({\"cas\": cas, \"cid\": None, \"smiles\": None})\n",
    "pd.DataFrame(rows)"
   ]
  },
  {
   "cell_type": "markdown",
   "id": "eafc67fb",
   "metadata": {},
   "source": [
    "---\n",
    "\n",
    "\n",
    "## 7. Glossary\n",
    "\n",
    "```{glossary}\n",
    "PUG-REST\n",
    "  The PubChem REST interface that returns properties, identifiers and files via URL patterns.\n",
    "\n",
    "PUG-View\n",
    "  A service that returns human-oriented record sections such as safety and vendor data in JSON.\n",
    "\n",
    "CID\n",
    "  PubChem Compound ID for a unique compound record.\n",
    "\n",
    "SID\n",
    "  PubChem Substance ID which refers to a submitted substance record.\n",
    "\n",
    "AID\n",
    "  PubChem Assay ID for a bioassay record.\n",
    "\n",
    "SMILES\n",
    "  Text line notation for molecules. Canonical SMILES omits stereochemistry. Isomeric SMILES includes it.\n",
    "\n",
    "InChI and InChIKey\n",
    "  IUPAC identifiers. InChIKey is a hashed, fixed-length form that is easy to compare.\n",
    "\n",
    "GHS\n",
    "  Globally Harmonized System of Classification and Labelling of Chemicals. PubChem PUG-View can include these sections.\n",
    "\n",
    "CIR\n",
    "  NCI Chemical Identifier Resolver. A second service that converts between names, SMILES, InChI, InChIKey and more.\n",
    "\n",
    "sanitize\n",
    "  RDKit process that checks valence, aromaticity and stereochemistry.\n",
    "\n",
    "descriptor\n",
    "  Computed molecular property such as molecular weight or LogP.\n",
    "```\n",
    "\n",
    "---\n",
    "\n",
    "## 8. Quick reference\n",
    "\n",
    "```{admonition} PubChem endpoints to remember\n",
    "- Name to CID: `/compound/name/<name>/cids/JSON`\n",
    "- CID to properties: `/compound/cid/<cid>/property/<fields>/JSON`\n",
    "- CID to PNG depiction: `/compound/cid/<cid>/PNG?image_size=300x300`\n",
    "- Synonyms: `/compound/cid/<cid>/synonyms/JSON`\n",
    "- PUG-View record: `/rest/pug_view/data/compound/<cid>/JSON`\n",
    "```\n",
    "\n",
    "```{admonition} CIR endpoints to remember\n",
    "- `/<input>/smiles`, `/<input>/stdinchi`, `/<input>/stdinchikey`\n",
    "- `/<input>/names` and `/<input>/cas` for synonyms and CAS when available\n",
    "- `/<input>/image` to get a 2D depiction\n",
    "- `/<input>/mw` to get molecular weight\n",
    "```\n",
    "\n",
    "---\n",
    "\n",
    "## 9. In-class activity \n",
    "\n",
    "Each task is aligned with what we covered above. Work in pairs. Fill in the `...` lines. Solutions are in Section 13.\n",
    "\n",
    "### 9.1 Verify PubChem vs CIR agreement\n",
    "\n",
    "Given `targets = [\"caffeine\", \"ibuprofen\", \"acetaminophen\"]`\n",
    "\n",
    "- Get InChIKey from PubChem and from CIR.  \n",
    "- Report whether they match.\n",
    "\n",
    "```python\n",
    "targets = [\"caffeine\", \"ibuprofen\", \"acetaminophen\"]\n",
    "for t in targets:\n",
    "    pc_key = ... #TO DO\n",
    "    cir_key = ... #TO DO\n",
    "    print(f\"{t:14s} PubChem={pc_key}  CIR={cir_key}  match={pc_key==cir_key}\")\n",
    "```\n",
    "\n",
    "### 9.2 Small properties table from names\n",
    "\n",
    "Use names `[\"caffeine\", \"acetaminophen\", \"ibuprofen\"]`. For each, fetch SMILES from PubChem, then compute MolWt, LogP, HBD, HBA, and TPSA.\n",
    "\n",
    "```python\n",
    "#TO DO\n",
    "```\n",
    "\n",
    "### 9.3 Get a quick GHS note from PUG-View\n",
    "\n",
    "- For CID 2244 retrieve GHS section text.  \n",
    "- Print the first 8 lines.\n",
    "\n",
    "```python\n",
    "#TO DO\n",
    "```\n",
    "\n",
    "\n",
    "### 9.4 Build a one-liner resolver\n",
    "\n",
    "- Input list `[\"446157\", \"2244\", \"CCO\", \"482752\", \"c1ccccc1\"]`  \n",
    "- If it is digits treat as CID else try SMILES else treat as name.  \n",
    "- Print `input=# CID=# SMILES=...` and draw if RDKit is available.\n",
    "\n",
    "```python\n",
    "items = [\"446157\", \"2244\", \"CCO\", \"482752\", \"c1ccccc1\"]\n",
    "\n",
    "for q in items:\n",
    "    if ...\n",
    "    ...#TO DO\n",
    "    print(f\"input={...} CID={...} SMILES={...}\")\n",
    "```\n",
    "\n",
    "### 9.5 Process dataset\n",
    "\n",
    "Load dataset \"https://raw.githubusercontent.com/zzhenglab/ai4chem/main/book/_data/C_H_oxidation_dataset.csv\". \n",
    "\n",
    "Examine the dataset structure using `df.head()` and select the SMILES strings from first 5 rows to query CIR (see section 4) to get **number of freely rotatable bonds**.\n",
    "\n",
    "\n",
    "\n",
    "```python\n",
    "#TO DO\n",
    "```\n",
    "\n",
    "```{Hint}\n",
    "https://cactus.nci.nih.gov/chemical/structure/your_input/rotor_count\n",
    "```\n",
    "\n",
    "\n",
    "\n",
    "\n",
    "---\n",
    "## 10. Solutions\n",
    "\n",
    "### Solution 9.1"
   ]
  },
  {
   "cell_type": "code",
   "execution_count": 22,
   "id": "5b5a0283",
   "metadata": {},
   "outputs": [
    {
     "name": "stdout",
     "output_type": "stream",
     "text": [
      "caffeine       PubChem=RYYVLZVUVIJVGH-UHFFFAOYSA-N  CIR=InChIKey=RYYVLZVUVIJVGH-UHFFFAOYSA-N  match=False\n"
     ]
    },
    {
     "name": "stdout",
     "output_type": "stream",
     "text": [
      "ibuprofen      PubChem=HEFNNWSXXWATRW-UHFFFAOYSA-N  CIR=InChIKey=HEFNNWSXXWATRW-UHFFFAOYSA-N  match=False\n"
     ]
    },
    {
     "name": "stdout",
     "output_type": "stream",
     "text": [
      "acetaminophen  PubChem=RZVAJINKPMORJF-UHFFFAOYSA-N  CIR=InChIKey=RZVAJINKPMORJF-UHFFFAOYSA-N  match=False\n"
     ]
    }
   ],
   "source": [
    "targets = [\"caffeine\", \"ibuprofen\", \"acetaminophen\"]\n",
    "for t in targets:\n",
    "    pc_key = pubchem_by_name(t)[\"inchikey\"]\n",
    "    cir_key = cir_get(t, \"stdinchikey\")\n",
    "    print(f\"{t:14s} PubChem={pc_key}  CIR={cir_key}  match={pc_key==cir_key}\")"
   ]
  },
  {
   "cell_type": "markdown",
   "id": "16715d90",
   "metadata": {},
   "source": [
    "### Solution 9.2"
   ]
  },
  {
   "cell_type": "code",
   "execution_count": 23,
   "id": "660d244b",
   "metadata": {},
   "outputs": [],
   "source": [
    "if Chem is not None:\n",
    "    import pandas as pd\n",
    "    rows = []\n",
    "    names = [\"caffeine\", \"acetaminophen\", \"ibuprofen\"]\n",
    "    for nm in names:\n",
    "        info = pubchem_by_name(nm)\n",
    "        smi = info[\"smiles\"]\n",
    "        m = Chem.MolFromSmiles(smi)\n",
    "        rows.append({\n",
    "            \"name\": nm,\n",
    "            \"smiles\": smi,\n",
    "            \"MolWt\": Descriptors.MolWt(m),\n",
    "            \"LogP\": Crippen.MolLogP(m),\n",
    "            \"HBD\": rdMolDescriptors.CalcNumHBD(m),\n",
    "            \"HBA\": rdMolDescriptors.CalcNumHBA(m),\n",
    "            \"TPSA\": rdMolDescriptors.CalcTPSA(m)\n",
    "        })\n",
    "    pd.DataFrame(rows)\n",
    "else:\n",
    "    print(\"RDKit is not available here.\")"
   ]
  },
  {
   "cell_type": "markdown",
   "id": "d0961f1e",
   "metadata": {},
   "source": [
    "### Solution 9.3"
   ]
  },
  {
   "cell_type": "code",
   "execution_count": 24,
   "id": "49036e46",
   "metadata": {},
   "outputs": [
    {
     "name": "stdout",
     "output_type": "stream",
     "text": [
      "This chemical does not meet GHS hazard criteria for 0.3% (1  of 315) of reports.\n",
      "Warning\n",
      "H302 (95.6%): Harmful if swallowed [Warning Acute toxicity, oral]\n",
      "H315 (20.6%): Causes skin irritation [Warning Skin corrosion/irritation]\n",
      "H319 (22.2%): Causes serious eye irritation [Warning Serious eye damage/eye irritation]\n",
      "H335 (20%): May cause respiratory irritation [Warning Specific target organ toxicity, single exposure; Respiratory tract irritation]\n",
      "P261, P264, P264+P265, P270, P271, P280, P301+P317, P302+P352, P304+P340, P305+P351+P338, P319, P321, P330, P332+P317, P337+P317, P362+P364, P403+P233, P405, and P501\n",
      "Aggregated GHS information provided per 315 reports by companies from 23 notifications to the ECHA C&L Inventory. Each notification may be associated with multiple companies.\n"
     ]
    }
   ],
   "source": [
    "hits = pug_view_find_sections(2244, \"GHS\")\n",
    "print(pug_view_text_from_hit(hits[0], max_lines=8))"
   ]
  },
  {
   "cell_type": "markdown",
   "id": "9a690123",
   "metadata": {},
   "source": [
    "### Solution 9.4"
   ]
  },
  {
   "cell_type": "code",
   "execution_count": 25,
   "id": "165c2143",
   "metadata": {},
   "outputs": [
    {
     "name": "stdout",
     "output_type": "stream",
     "text": [
      "O=C(O)c1ccc(F)cc1\n"
     ]
    }
   ],
   "source": [
    "if Chem is not None:\n",
    "    find = Chem.MolFromSmiles(\"Cl\")\n",
    "    put  = Chem.MolFromSmiles(\"F\")\n",
    "    mol  = Chem.MolFromSmiles(\"Clc1ccc(cc1)C(=O)O\")\n",
    "    out  = Chem.ReplaceSubstructs(mol, find, put, replaceAll=True)[0]\n",
    "    print(Chem.MolToSmiles(out))\n",
    "    Draw.MolToImage(out, size=(300, 220))\n",
    "else:\n",
    "    print(\"RDKit is not available here.\")"
   ]
  },
  {
   "cell_type": "markdown",
   "id": "d70d7892",
   "metadata": {},
   "source": [
    "### Solution 9.5"
   ]
  },
  {
   "cell_type": "code",
   "execution_count": 26,
   "id": "ccc519fd",
   "metadata": {},
   "outputs": [
    {
     "name": "stdout",
     "output_type": "stream",
     "text": [
      "input=446157 CID=446157 SMILES=CC(C)C1=NC(=NC(=C1/C=C/[C@H](C[C@H](CC(=O)O)O)O)C2=CC=C(C=C2)F)N(C)S(=O)(=O)C\n"
     ]
    },
    {
     "data": {
      "image/jpeg": "[encoded data removed]",
      "image/png": "[encoded data removed]",
      "text/plain": [
       "<PIL.PngImagePlugin.PngImageFile image mode=RGB size=220x180>"
      ]
     },
     "metadata": {},
     "output_type": "display_data"
    },
    {
     "name": "stdout",
     "output_type": "stream",
     "text": [
      "input=2244 CID=2244 SMILES=CC(=O)OC1=CC=CC=C1C(=O)O\n"
     ]
    },
    {
     "data": {
      "image/jpeg": "[encoded data removed]",
      "image/png": "[encoded data removed]",
      "text/plain": [
       "<PIL.PngImagePlugin.PngImageFile image mode=RGB size=220x180>"
      ]
     },
     "metadata": {},
     "output_type": "display_data"
    },
    {
     "name": "stdout",
     "output_type": "stream",
     "text": [
      "input=CCO CID=None SMILES=CCO\n"
     ]
    },
    {
     "data": {
      "image/jpeg": "[encoded data removed]",
      "image/png": "[encoded data removed]",
      "text/plain": [
       "<PIL.PngImagePlugin.PngImageFile image mode=RGB size=220x180>"
      ]
     },
     "metadata": {},
     "output_type": "display_data"
    },
    {
     "name": "stdout",
     "output_type": "stream",
     "text": [
      "input=482752 CID=482752 SMILES=CC[N+]1=CC=C(C=C1)C2=C3C=CC(=C(C4=NC(=C(C5=CC=C([NH2+]5)C(=C6C=CC2=N6)C7=CC=[N+](C=C7)CC)C8=CC=[N+](C=C8)CC)C=C4)C9=CC=[N+](C=C9)CC)[NH2+]3.[Cl-]\n"
     ]
    },
    {
     "data": {
      "image/jpeg": "[encoded data removed]",
      "image/png": "[encoded data removed]",
      "text/plain": [
       "<PIL.PngImagePlugin.PngImageFile image mode=RGB size=220x180>"
      ]
     },
     "metadata": {},
     "output_type": "display_data"
    },
    {
     "name": "stdout",
     "output_type": "stream",
     "text": [
      "input=c1ccccc1 CID=None SMILES=c1ccccc1\n"
     ]
    },
    {
     "data": {
      "image/jpeg": "[encoded data removed]",
      "image/png": "[encoded data removed]",
      "text/plain": [
       "<PIL.PngImagePlugin.PngImageFile image mode=RGB size=220x180>"
      ]
     },
     "metadata": {},
     "output_type": "display_data"
    }
   ],
   "source": [
    "items = [\"446157\", \"2244\", \"CCO\", \"482752\", \"c1ccccc1\"]\n",
    "\n",
    "for q in items:\n",
    "    if q.isdigit():\n",
    "        info = pubchem_by_cid(int(q))\n",
    "        smi, cid = info[\"smiles\"], info[\"cid\"]\n",
    "    elif Chem is not None and Chem.MolFromSmiles(q):\n",
    "        smi, cid = q, None\n",
    "    else:\n",
    "        info = pubchem_by_name(q)\n",
    "        smi, cid = info[\"smiles\"], info[\"cid\"]\n",
    "    print(f\"input={q} CID={cid} SMILES={smi}\")\n",
    "    if Chem is not None:\n",
    "        m = Chem.MolFromSmiles(smi)\n",
    "        display(Draw.MolToImage(m, size=(220, 180)))"
   ]
  }
 ],
 "metadata": {
  "jupytext": {
   "text_representation": {
    "extension": ".md",
    "format_name": "myst",
    "format_version": 0.13,
    "jupytext_version": "1.16.4"
   }
  },
  "kernelspec": {
   "display_name": "Python 3",
   "language": "python",
   "name": "python3"
  },
  "language_info": {
   "codemirror_mode": {
    "name": "ipython",
    "version": 3
   },
   "file_extension": ".py",
   "mimetype": "text/x-python",
   "name": "python",
   "nbconvert_exporter": "python",
   "pygments_lexer": "ipython3",
   "version": "3.8.10"
  },
  "source_map": [
   12,
   43,
   86,
   145,
   149,
   156,
   168,
   172,
   176,
   181,
   185,
   191,
   198,
   203,
   208,
   219,
   234,
   241,
   263,
   267,
   280,
   288,
   297,
   301,
   308,
   312,
   319,
   331,
   348,
   352,
   369,
   383,
   398,
   407,
   457,
   468,
   474,
   482,
   501,
   505,
   517,
   656,
   662,
   666,
   687,
   691,
   694,
   698,
   708,
   712
  ],
  "widgets": {
   "application/vnd.jupyter.widget-state+json": {
    "state": {
     "08e641fceeca4f09ab1544cb61bfeda7": {
      "model_module": "@jupyter-widgets/base",
      "model_module_version": "2.0.0",
      "model_name": "LayoutModel",
      "state": {
       "_model_module": "@jupyter-widgets/base",
       "_model_module_version": "2.0.0",
       "_model_name": "LayoutModel",
       "_view_count": null,
       "_view_module": "@jupyter-widgets/base",
       "_view_module_version": "2.0.0",
       "_view_name": "LayoutView",
       "align_content": null,
       "align_items": null,
       "align_self": null,
       "border_bottom": null,
       "border_left": null,
       "border_right": null,
       "border_top": null,
       "bottom": null,
       "display": null,
       "flex": null,
       "flex_flow": null,
       "grid_area": null,
       "grid_auto_columns": null,
       "grid_auto_flow": null,
       "grid_auto_rows": null,
       "grid_column": null,
       "grid_gap": null,
       "grid_row": null,
       "grid_template_areas": null,
       "grid_template_columns": null,
       "grid_template_rows": null,
       "height": null,
       "justify_content": null,
       "justify_items": null,
       "left": null,
       "margin": null,
       "max_height": null,
       "max_width": null,
       "min_height": null,
       "min_width": null,
       "object_fit": null,
       "object_position": null,
       "order": null,
       "overflow": null,
       "padding": null,
       "right": null,
       "top": null,
       "visibility": null,
       "width": null
      }
     },
     "08ed2789e1194e3eaebe7305716c921f": {
      "model_module": "@jupyter-widgets/controls",
      "model_module_version": "2.0.0",
      "model_name": "ButtonStyleModel",
      "state": {
       "_model_module": "@jupyter-widgets/controls",
       "_model_module_version": "2.0.0",
       "_model_name": "ButtonStyleModel",
       "_view_count": null,
       "_view_module": "@jupyter-widgets/base",
       "_view_module_version": "2.0.0",
       "_view_name": "StyleView",
       "button_color": null,
       "font_family": null,
       "font_size": null,
       "font_style": null,
       "font_variant": null,
       "font_weight": null,
       "text_color": null,
       "text_decoration": null
      }
     },
     "0f1d31a0ee0c4758927d5852d0d3f237": {
      "model_module": "@jupyter-widgets/base",
      "model_module_version": "2.0.0",
      "model_name": "LayoutModel",
      "state": {
       "_model_module": "@jupyter-widgets/base",
       "_model_module_version": "2.0.0",
       "_model_name": "LayoutModel",
       "_view_count": null,
       "_view_module": "@jupyter-widgets/base",
       "_view_module_version": "2.0.0",
       "_view_name": "LayoutView",
       "align_content": null,
       "align_items": null,
       "align_self": null,
       "border_bottom": null,
       "border_left": null,
       "border_right": null,
       "border_top": null,
       "bottom": null,
       "display": null,
       "flex": null,
       "flex_flow": null,
       "grid_area": null,
       "grid_auto_columns": null,
       "grid_auto_flow": null,
       "grid_auto_rows": null,
       "grid_column": null,
       "grid_gap": null,
       "grid_row": null,
       "grid_template_areas": null,
       "grid_template_columns": null,
       "grid_template_rows": null,
       "height": null,
       "justify_content": null,
       "justify_items": null,
       "left": null,
       "margin": null,
       "max_height": null,
       "max_width": null,
       "min_height": null,
       "min_width": null,
       "object_fit": null,
       "object_position": null,
       "order": null,
       "overflow": null,
       "padding": null,
       "right": null,
       "top": null,
       "visibility": null,
       "width": null
      }
     },
     "22199c7cbc4d4846b9326916ed3ea960": {
      "model_module": "@jupyter-widgets/controls",
      "model_module_version": "2.0.0",
      "model_name": "HBoxModel",
      "state": {
       "_dom_classes": [],
       "_model_module": "@jupyter-widgets/controls",
       "_model_module_version": "2.0.0",
       "_model_name": "HBoxModel",
       "_view_count": null,
       "_view_module": "@jupyter-widgets/controls",
       "_view_module_version": "2.0.0",
       "_view_name": "HBoxView",
       "box_style": "",
       "children": [
        "IPY_MODEL_f3203331ef05409b96d3ac980978de38",
        "IPY_MODEL_dcb40b92df5844f6a5472c0a0c47a8cb",
        "IPY_MODEL_5f0f94b3adb84385b04e37754a90a7f8"
       ],
       "layout": "IPY_MODEL_0f1d31a0ee0c4758927d5852d0d3f237",
       "tabbable": null,
       "tooltip": null
      }
     },
     "44ab8321cf934633bc110be2d0a6cb29": {
      "model_module": "@jupyter-widgets/base",
      "model_module_version": "2.0.0",
      "model_name": "LayoutModel",
      "state": {
       "_model_module": "@jupyter-widgets/base",
       "_model_module_version": "2.0.0",
       "_model_name": "LayoutModel",
       "_view_count": null,
       "_view_module": "@jupyter-widgets/base",
       "_view_module_version": "2.0.0",
       "_view_name": "LayoutView",
       "align_content": null,
       "align_items": null,
       "align_self": null,
       "border_bottom": null,
       "border_left": null,
       "border_right": null,
       "border_top": null,
       "bottom": null,
       "display": null,
       "flex": null,
       "flex_flow": null,
       "grid_area": null,
       "grid_auto_columns": null,
       "grid_auto_flow": null,
       "grid_auto_rows": null,
       "grid_column": null,
       "grid_gap": null,
       "grid_row": null,
       "grid_template_areas": null,
       "grid_template_columns": null,
       "grid_template_rows": null,
       "height": null,
       "justify_content": null,
       "justify_items": null,
       "left": null,
       "margin": null,
       "max_height": null,
       "max_width": null,
       "min_height": null,
       "min_width": null,
       "object_fit": null,
       "object_position": null,
       "order": null,
       "overflow": null,
       "padding": null,
       "right": null,
       "top": null,
       "visibility": null,
       "width": null
      }
     },
     "47977215cc1a487597fb8c2fdd77c825": {
      "model_module": "@jupyter-widgets/base",
      "model_module_version": "2.0.0",
      "model_name": "LayoutModel",
      "state": {
       "_model_module": "@jupyter-widgets/base",
       "_model_module_version": "2.0.0",
       "_model_name": "LayoutModel",
       "_view_count": null,
       "_view_module": "@jupyter-widgets/base",
       "_view_module_version": "2.0.0",
       "_view_name": "LayoutView",
       "align_content": null,
       "align_items": null,
       "align_self": null,
       "border_bottom": null,
       "border_left": null,
       "border_right": null,
       "border_top": null,
       "bottom": null,
       "display": null,
       "flex": null,
       "flex_flow": null,
       "grid_area": null,
       "grid_auto_columns": null,
       "grid_auto_flow": null,
       "grid_auto_rows": null,
       "grid_column": null,
       "grid_gap": null,
       "grid_row": null,
       "grid_template_areas": null,
       "grid_template_columns": null,
       "grid_template_rows": null,
       "height": null,
       "justify_content": null,
       "justify_items": null,
       "left": null,
       "margin": null,
       "max_height": null,
       "max_width": null,
       "min_height": null,
       "min_width": null,
       "object_fit": null,
       "object_position": null,
       "order": null,
       "overflow": null,
       "padding": null,
       "right": null,
       "top": null,
       "visibility": null,
       "width": null
      }
     },
     "5f0f94b3adb84385b04e37754a90a7f8": {
      "model_module": "@jupyter-widgets/controls",
      "model_module_version": "2.0.0",
      "model_name": "ButtonModel",
      "state": {
       "_dom_classes": [],
       "_model_module": "@jupyter-widgets/controls",
       "_model_module_version": "2.0.0",
       "_model_name": "ButtonModel",
       "_view_count": null,
       "_view_module": "@jupyter-widgets/controls",
       "_view_module_version": "2.0.0",
       "_view_name": "ButtonView",
       "button_style": "primary",
       "description": "Fetch",
       "disabled": false,
       "icon": "",
       "layout": "IPY_MODEL_44ab8321cf934633bc110be2d0a6cb29",
       "style": "IPY_MODEL_08ed2789e1194e3eaebe7305716c921f",
       "tabbable": null,
       "tooltip": null
      }
     },
     "9fdeacf02d30429c80b463ed4e1fe518": {
      "model_module": "@jupyter-widgets/output",
      "model_module_version": "1.0.0",
      "model_name": "OutputModel",
      "state": {
       "_dom_classes": [],
       "_model_module": "@jupyter-widgets/output",
       "_model_module_version": "1.0.0",
       "_model_name": "OutputModel",
       "_view_count": null,
       "_view_module": "@jupyter-widgets/output",
       "_view_module_version": "1.0.0",
       "_view_name": "OutputView",
       "layout": "IPY_MODEL_08e641fceeca4f09ab1544cb61bfeda7",
       "msg_id": "",
       "outputs": [],
       "tabbable": null,
       "tooltip": null
      }
     },
     "b30fa1a1b8aa4533999ffccdd7c95db0": {
      "model_module": "@jupyter-widgets/base",
      "model_module_version": "2.0.0",
      "model_name": "LayoutModel",
      "state": {
       "_model_module": "@jupyter-widgets/base",
       "_model_module_version": "2.0.0",
       "_model_name": "LayoutModel",
       "_view_count": null,
       "_view_module": "@jupyter-widgets/base",
       "_view_module_version": "2.0.0",
       "_view_name": "LayoutView",
       "align_content": null,
       "align_items": null,
       "align_self": null,
       "border_bottom": null,
       "border_left": null,
       "border_right": null,
       "border_top": null,
       "bottom": null,
       "display": null,
       "flex": null,
       "flex_flow": null,
       "grid_area": null,
       "grid_auto_columns": null,
       "grid_auto_flow": null,
       "grid_auto_rows": null,
       "grid_column": null,
       "grid_gap": null,
       "grid_row": null,
       "grid_template_areas": null,
       "grid_template_columns": null,
       "grid_template_rows": null,
       "height": null,
       "justify_content": null,
       "justify_items": null,
       "left": null,
       "margin": null,
       "max_height": null,
       "max_width": null,
       "min_height": null,
       "min_width": null,
       "object_fit": null,
       "object_position": null,
       "order": null,
       "overflow": null,
       "padding": null,
       "right": null,
       "top": null,
       "visibility": null,
       "width": "60%"
      }
     },
     "bc2c3ebaa3a34ccdb119c0d69d0ebe0f": {
      "model_module": "@jupyter-widgets/controls",
      "model_module_version": "2.0.0",
      "model_name": "TextStyleModel",
      "state": {
       "_model_module": "@jupyter-widgets/controls",
       "_model_module_version": "2.0.0",
       "_model_name": "TextStyleModel",
       "_view_count": null,
       "_view_module": "@jupyter-widgets/base",
       "_view_module_version": "2.0.0",
       "_view_name": "StyleView",
       "background": null,
       "description_width": "",
       "font_size": null,
       "text_color": null
      }
     },
     "dcb40b92df5844f6a5472c0a0c47a8cb": {
      "model_module": "@jupyter-widgets/controls",
      "model_module_version": "2.0.0",
      "model_name": "ToggleButtonsModel",
      "state": {
       "_dom_classes": [],
       "_model_module": "@jupyter-widgets/controls",
       "_model_module_version": "2.0.0",
       "_model_name": "ToggleButtonsModel",
       "_options_labels": [
        "PubChem",
        "CIR"
       ],
       "_view_count": null,
       "_view_module": "@jupyter-widgets/controls",
       "_view_module_version": "2.0.0",
       "_view_name": "ToggleButtonsView",
       "button_style": "",
       "description": "Source:",
       "description_allow_html": false,
       "disabled": false,
       "icons": [],
       "index": 0,
       "layout": "IPY_MODEL_47977215cc1a487597fb8c2fdd77c825",
       "style": "IPY_MODEL_fda6c73f97204f1d8ab2ab6b5e920f96",
       "tabbable": null,
       "tooltip": null,
       "tooltips": []
      }
     },
     "f3203331ef05409b96d3ac980978de38": {
      "model_module": "@jupyter-widgets/controls",
      "model_module_version": "2.0.0",
      "model_name": "TextModel",
      "state": {
       "_dom_classes": [],
       "_model_module": "@jupyter-widgets/controls",
       "_model_module_version": "2.0.0",
       "_model_name": "TextModel",
       "_view_count": null,
       "_view_module": "@jupyter-widgets/controls",
       "_view_module_version": "2.0.0",
       "_view_name": "TextView",
       "continuous_update": true,
       "description": "Query:",
       "description_allow_html": false,
       "disabled": false,
       "layout": "IPY_MODEL_b30fa1a1b8aa4533999ffccdd7c95db0",
       "placeholder": "​",
       "style": "IPY_MODEL_bc2c3ebaa3a34ccdb119c0d69d0ebe0f",
       "tabbable": null,
       "tooltip": null,
       "value": "aspirin"
      }
     },
     "fda6c73f97204f1d8ab2ab6b5e920f96": {
      "model_module": "@jupyter-widgets/controls",
      "model_module_version": "2.0.0",
      "model_name": "ToggleButtonsStyleModel",
      "state": {
       "_model_module": "@jupyter-widgets/controls",
       "_model_module_version": "2.0.0",
       "_model_name": "ToggleButtonsStyleModel",
       "_view_count": null,
       "_view_module": "@jupyter-widgets/base",
       "_view_module_version": "2.0.0",
       "_view_name": "StyleView",
       "button_width": "",
       "description_width": "",
       "font_weight": ""
      }
     }
    },
    "version_major": 2,
    "version_minor": 0
   }
  }
 },
 "nbformat": 4,
 "nbformat_minor": 5
}