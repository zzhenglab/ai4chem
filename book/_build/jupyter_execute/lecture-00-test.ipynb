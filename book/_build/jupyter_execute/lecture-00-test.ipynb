{
 "cells": [
  {
   "cell_type": "markdown",
   "id": "5754e2e9",
   "metadata": {},
   "source": [
    "# Lecture 01 — Test: Machine Learning in Chemistry\n",
    "\n",
    "```{contents}\n",
    ":depth: 2\n",
    "```\n",
    "\n",
    "Welcome to our test lecture showcasing **MyST Markdown** features used in *Jupyter Book*. The scientific theme is *machine learning (ML) in chemistry*, but the real goal is to demonstrate every major styling element you might want in your own notes.\n",
    "\n",
    "## 1. Learning Goals\n",
    "\n",
    "\n",
    "123\n",
    "\n",
    "\n",
    "## 2. Background: Why ML?\n",
    "\n",
    "> *“Machine learning is rapidly becoming the third pillar of chemical discovery, alongside theory and experiment.”*\\\n",
    "> — *Someone on the Internet*\n",
    "\n",
    "### 2.1 A quick equation\n",
    "\n",
    "\\(\\hat y = f(\\mathbf x;\\,\\theta)\\)\n",
    "\n",
    "where \\$\\theta\\$ are the trainable parameters of our model.\n",
    "\n",
    "### 2.2 A mini table\n",
    "\n",
    "| Data modality | Common ML task | Example               |\n",
    "| ------------- | -------------- | --------------------- |\n",
    "| Spectra       | Regression     | Predict concentration |\n",
    "| SMILES string | Classification | Toxic vs. non‑toxic   |\n",
    "| MD trajectory | Clustering     | Conformational states |\n",
    "\n",
    "## 3. Hands‑on: Linear Regression\n",
    "\n",
    "### 3.1 Code cell (hidden *input*)"
   ]
  },
  {
   "cell_type": "code",
   "execution_count": 1,
   "id": "36db3d9f",
   "metadata": {
    "tags": [
     "hide-input"
    ]
   },
   "outputs": [
    {
     "name": "stdout",
     "output_type": "stream",
     "text": [
      "Slope = 1.98\n",
      "Intercept = 0.15\n"
     ]
    }
   ],
   "source": [
    "import numpy as np\n",
    "from sklearn.linear_model import LinearRegression\n",
    "X = np.array([[1.0],[2.0],[3.0],[4.0]])\n",
    "y = np.array([2.1, 4.1, 6.2, 8.0])\n",
    "model = LinearRegression().fit(X, y)\n",
    "print(f'Slope = {model.coef_[0]:.2f}')\n",
    "print(f'Intercept = {model.intercept_:.2f}')"
   ]
  },
  {
   "cell_type": "markdown",
   "id": "150ae41a",
   "metadata": {},
   "source": [
    "### 3.2 Code cell with a plot (visible)"
   ]
  },
  {
   "cell_type": "code",
   "execution_count": 2,
   "id": "bcfc7cdc",
   "metadata": {},
   "outputs": [
    {
     "data": {
      "image/png": "[encoded data removed]",
      "text/plain": [
       "<Figure size 640x480 with 1 Axes>"
      ]
     },
     "metadata": {},
     "output_type": "display_data"
    }
   ],
   "source": [
    "import matplotlib.pyplot as plt\n",
    "plt.scatter(X, y, label='data')\n",
    "plt.plot(X, model.predict(X), label='fit')\n",
    "plt.xlabel('Feature')\n",
    "plt.ylabel('Target')\n",
    "plt.legend()\n",
    "plt.show()"
   ]
  },
  {
   "cell_type": "markdown",
   "id": "196deba6",
   "metadata": {},
   "source": [
    "### 3.3 Exercise\n",
    "\n",
    "1234\n",
    "\n",
    "\n",
    "## 4. Sidebar notes\n",
    "\n",
    "\\:::{sidebar} Key terms **Descriptor** – a numerical representation of molecular structure.\n",
    "\n",
    "**Overfitting** – memorizing noise instead of learning signal. :::\n",
    "\n",
    "## 5. Embedding an image\n",
    "\n",
    "\n",
    "## 6. Hidden *output* example"
   ]
  },
  {
   "cell_type": "code",
   "execution_count": 3,
   "id": "a7f1ae1a",
   "metadata": {
    "tags": [
     "hide-output"
    ]
   },
   "outputs": [
    {
     "name": "stdout",
     "output_type": "stream",
     "text": [
      "Training complete! Accuracy = 0.95\n"
     ]
    }
   ],
   "source": [
    "# This cell's printout will be hidden in the final book\n",
    "print('Training complete! Accuracy = 0.95')"
   ]
  },
  {
   "cell_type": "markdown",
   "id": "2ad6f66d",
   "metadata": {},
   "source": [
    "## 7. Conclusion\n",
    "\n",
    "1111\n",
    "\n",
    "---\n",
    "\n",
    "*End of sample file.*"
   ]
  }
 ],
 "metadata": {
  "jupytext": {
   "text_representation": {
    "extension": ".md",
    "format_name": "myst",
    "format_version": 0.13,
    "jupytext_version": "1.16.4"
   }
  },
  "kernelspec": {
   "display_name": "comp-prob-solv",
   "language": "python",
   "name": "python3"
  },
  "language_info": {
   "codemirror_mode": {
    "name": "ipython",
    "version": 3
   },
   "file_extension": ".py",
   "mimetype": "text/x-python",
   "name": "python",
   "nbconvert_exporter": "python",
   "pygments_lexer": "ipython3",
   "version": "3.8.10"
  },
  "source_map": [
   12,
   51,
   60,
   64,
   72,
   90,
   94
  ]
 },
 "nbformat": 4,
 "nbformat_minor": 5
}