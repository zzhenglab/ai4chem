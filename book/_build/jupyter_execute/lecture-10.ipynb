{
 "cells": [
  {
   "cell_type": "markdown",
   "id": "4e20d143",
   "metadata": {},
   "source": [
    "---\n",
    "\n",
    "## 7) Chemprop v2: practical graph models for chemistry\n",
    "\n",
    "Chemprop implements a directed message passing neural network with strong defaults. We will:\n",
    "\n",
    "1) **Install Chemprop v2**  \n",
    "2) Run a **melting point** regression  \n",
    "3) Run a **reactivity** classification and predict on new SMILES\n",
    "\n",
    "### 7.1 Install Chemprop"
   ]
  },
  {
   "cell_type": "code",
   "execution_count": 1,
   "id": "f1d683fd",
   "metadata": {},
   "outputs": [
    {
     "name": "stdout",
     "output_type": "stream",
     "text": [
      "Note: you may need to restart the kernel to use updated packages.\n"
     ]
    },
    {
     "name": "stderr",
     "output_type": "stream",
     "text": [
      "\n",
      "[notice] A new release of pip is available: 25.1.1 -> 25.2\n",
      "[notice] To update, run: python.exe -m pip install --upgrade pip\n"
     ]
    }
   ],
   "source": [
    "# You may need a restart after install in some environments\n",
    "%pip -q install chemprop"
   ]
  },
  {
   "cell_type": "markdown",
   "id": "4efbdc35",
   "metadata": {},
   "source": [
    "### 7.2 Melting point regression\n",
    "\n",
    "Prepare a minimal CSV: `SMILES,Melting Point`."
   ]
  },
  {
   "cell_type": "code",
   "execution_count": 2,
   "id": "5c51d680",
   "metadata": {},
   "outputs": [
    {
     "ename": "NameError",
     "evalue": "name 'pd' is not defined",
     "output_type": "error",
     "traceback": [
      "\u001b[31m---------------------------------------------------------------------------\u001b[39m",
      "\u001b[31mNameError\u001b[39m                                 Traceback (most recent call last)",
      "\u001b[36mCell\u001b[39m\u001b[36m \u001b[39m\u001b[32mIn[2]\u001b[39m\u001b[32m, line 3\u001b[39m\n\u001b[32m      1\u001b[39m \u001b[38;5;66;03m# Load data and write a small CSV\u001b[39;00m\n\u001b[32m      2\u001b[39m url = \u001b[33m\"\u001b[39m\u001b[33mhttps://raw.githubusercontent.com/zzhenglab/ai4chem/main/book/_data/C_H_oxidation_dataset.csv\u001b[39m\u001b[33m\"\u001b[39m\n\u001b[32m----> \u001b[39m\u001b[32m3\u001b[39m df = \u001b[43mpd\u001b[49m.read_csv(url)\n\u001b[32m      4\u001b[39m reg_cols = [\u001b[33m\"\u001b[39m\u001b[33mSMILES\u001b[39m\u001b[33m\"\u001b[39m, \u001b[33m\"\u001b[39m\u001b[33mMelting Point\u001b[39m\u001b[33m\"\u001b[39m]\n\u001b[32m      5\u001b[39m df_reg = df[reg_cols].dropna().copy()\n",
      "\u001b[31mNameError\u001b[39m: name 'pd' is not defined"
     ]
    }
   ],
   "source": [
    "# Load data and write a small CSV\n",
    "url = \"https://raw.githubusercontent.com/zzhenglab/ai4chem/main/book/_data/C_H_oxidation_dataset.csv\"\n",
    "df = pd.read_csv(url)\n",
    "reg_cols = [\"SMILES\", \"Melting Point\"]\n",
    "df_reg = df[reg_cols].dropna().copy()\n",
    "df_reg.head(3)"
   ]
  },
  {
   "cell_type": "markdown",
   "id": "097156d2",
   "metadata": {},
   "source": [
    "Save to disk for Chemprop CLI."
   ]
  },
  {
   "cell_type": "code",
   "execution_count": null,
   "id": "9ff3b525",
   "metadata": {},
   "outputs": [],
   "source": [
    "df_reg.to_csv(\"mp_data.csv\", index=False)\n",
    "len(df_reg), df_reg.head(2)"
   ]
  },
  {
   "cell_type": "markdown",
   "id": "7caaa115",
   "metadata": {},
   "source": [
    "Train a **small** model so it runs in class. We log common metrics."
   ]
  },
  {
   "cell_type": "code",
   "execution_count": null,
   "id": "3517daa3",
   "metadata": {},
   "outputs": [],
   "source": [
    "# A short run. Increase epochs later if you have time/GPU.\n",
    "!chemprop train \\\n",
    "  --data-path mp_data.csv \\\n",
    "  -t regression \\\n",
    "  -s SMILES \\\n",
    "  --target-columns \"Melting Point\" \\\n",
    "  -o mp_model \\\n",
    "  --num-replicates 1 \\\n",
    "  --epochs 15 \\\n",
    "  --save-smiles-splits \\\n",
    "  --metrics mae rmse r2 \\\n",
    "  --tracking-metric r2"
   ]
  },
  {
   "cell_type": "markdown",
   "id": "935f6a3f",
   "metadata": {},
   "source": [
    "Make quick predictions on a few molecules."
   ]
  },
  {
   "cell_type": "code",
   "execution_count": null,
   "id": "c3e5b255",
   "metadata": {},
   "outputs": [],
   "source": [
    "smiles_list = [\n",
    "    \"CCO\",              # ethanol\n",
    "    \"c1ccccc1\",         # benzene\n",
    "    \"CC(=O)O\",          # acetic acid\n",
    "    \"CCN(CC)CC\"         # triethylamine\n",
    "]\n",
    "pd.DataFrame({\"SMILES\": smiles_list}).to_csv(\"custom_smiles_reg.csv\", index=False)\n",
    "\n",
    "!chemprop predict \\\n",
    "  --test-path custom_smiles_reg.csv \\\n",
    "  --model-paths mp_model/replicate_0/model_0/best.pt \\\n",
    "  --preds-path mp_preds.csv\n",
    "\n",
    "pd.read_csv(\"mp_preds.csv\")"
   ]
  },
  {
   "cell_type": "markdown",
   "id": "f7644169",
   "metadata": {},
   "source": [
    "### 7.3 Reactivity classification (C–H oxidation dataset)\n",
    "\n",
    "We use the `Reactivity` column and convert it to **binary** 0/1."
   ]
  },
  {
   "cell_type": "code",
   "execution_count": null,
   "id": "f02490c8",
   "metadata": {},
   "outputs": [],
   "source": [
    "df = pd.read_csv(url)\n",
    "df[\"Reactivity_bin\"] = df[\"Reactivity\"].replace({-1: 0}).astype(int)\n",
    "df[[\"SMILES\",\"Reactivity\",\"Reactivity_bin\"]].head(3)"
   ]
  },
  {
   "cell_type": "markdown",
   "id": "39ce4685",
   "metadata": {},
   "source": [
    "Write a minimal file."
   ]
  },
  {
   "cell_type": "code",
   "execution_count": null,
   "id": "8773fa6f",
   "metadata": {},
   "outputs": [],
   "source": [
    "df[[\"SMILES\", \"Reactivity_bin\"]].to_csv(\"reactivity_data_bin.csv\", index=False)\n",
    "\n",
    "# Optional: sanity check the class balance\n",
    "print(df[\"Reactivity\"].value_counts(dropna=False).to_dict())\n",
    "print(df[\"Reactivity_bin\"].value_counts(dropna=False).to_dict())"
   ]
  },
  {
   "cell_type": "markdown",
   "id": "373bad14",
   "metadata": {},
   "source": [
    "Train a short classification model."
   ]
  },
  {
   "cell_type": "code",
   "execution_count": null,
   "id": "04e53744",
   "metadata": {},
   "outputs": [],
   "source": [
    "!chemprop train \\\n",
    "  --data-path reactivity_data_bin.csv \\\n",
    "  -t classification \\\n",
    "  -s SMILES \\\n",
    "  --target-columns Reactivity_bin \\\n",
    "  -o reactivity_model \\\n",
    "  --num-replicates 1 \\\n",
    "  --epochs 15 \\\n",
    "  --class-balance \\\n",
    "  --metrics roc prc accuracy \\\n",
    "  --tracking-metric roc"
   ]
  },
  {
   "cell_type": "markdown",
   "id": "9a003e95",
   "metadata": {},
   "source": [
    "Predict on new SMILES."
   ]
  },
  {
   "cell_type": "code",
   "execution_count": null,
   "id": "635a9b41",
   "metadata": {},
   "outputs": [],
   "source": [
    "smiles_list = [\n",
    "    \"CCO\",\n",
    "    \"c1ccccc1C(F)\",\n",
    "    \"C1=C([C@@H]2C[C@H](C1)C2(C)C)\",\n",
    "    \"C1=CC=CC=C1C=O\",\n",
    "    \"CCN(CC)CC\",\n",
    "    \"c1cccc(C=CC)c1\"\n",
    "]\n",
    "pd.DataFrame({\"SMILES\": smiles_list}).to_csv(\"custom_smiles.csv\", index=False)\n",
    "\n",
    "!chemprop predict \\\n",
    "  --test-path custom_smiles.csv \\\n",
    "  --model-paths reactivity_model/replicate_0/model_0/best.pt \\\n",
    "  --preds-path custom_preds.csv\n",
    "\n",
    "pd.read_csv(\"custom_preds.csv\")"
   ]
  },
  {
   "cell_type": "markdown",
   "id": "45f8040b",
   "metadata": {},
   "source": [
    "```{admonition} Tips\n",
    "- Increase `--num-replicates` to 3 and `--epochs` to 50-100 for stronger baselines.  \n",
    "- For class imbalance, keep `--class-balance`.  \n",
    "- Use `--save-smiles-splits` to capture exact train/val/test molecules for reproducibility.  \n",
    "```\n",
    "\n",
    "```{admonition} ⏰ Exercises 7.x\n",
    "1) Add `--ensemble-size 5` during prediction by passing multiple `--model-paths` if you trained replicates. Compare ROC.  \n",
    "2) Change tracking metric to `prc` and rerun. Does validation selection change.  \n",
    "3) For melting point, add `--ffn-hidden-size 800` to increase the head capacity and try 30 epochs.  \n",
    "```"
   ]
  }
 ],
 "metadata": {
  "jupytext": {
   "text_representation": {
    "extension": ".md",
    "format_name": "myst",
    "format_version": 0.13,
    "jupytext_version": "1.16.4"
   }
  },
  "kernelspec": {
   "display_name": "Python 3",
   "language": "python",
   "name": "python3"
  },
  "language_info": {
   "codemirror_mode": {
    "name": "ipython",
    "version": 3
   },
   "file_extension": ".py",
   "mimetype": "text/x-python",
   "name": "python",
   "nbconvert_exporter": "python",
   "pygments_lexer": "ipython3",
   "version": "3.13.5"
  },
  "source_map": [
   12,
   29,
   32,
   38,
   45,
   49,
   52,
   56,
   69,
   73,
   88,
   94,
   98,
   102,
   108,
   112,
   124,
   128,
   145
  ]
 },
 "nbformat": 4,
 "nbformat_minor": 5
}