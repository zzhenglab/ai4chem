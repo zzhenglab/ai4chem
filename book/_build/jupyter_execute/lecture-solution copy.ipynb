{
 "cells": [
  {
   "cell_type": "markdown",
<<<<<<< HEAD
   "id": "c003ef2b",
=======
   "id": "8303cb2d",
>>>>>>> 6cda9aa (0929-1)
   "metadata": {},
   "source": [
    "## 7. Solution\n",
    "\n",
    "### Q1"
   ]
  },
  {
   "cell_type": "code",
   "execution_count": 1,
<<<<<<< HEAD
   "id": "c6abbd4c",
=======
   "id": "699fed2d",
>>>>>>> 6cda9aa (0929-1)
   "metadata": {},
   "outputs": [
    {
     "ename": "NameError",
     "evalue": "name 'df_20' is not defined",
     "output_type": "error",
     "traceback": [
      "\u001b[1;31m---------------------------------------------------------------------------\u001b[0m",
      "\u001b[1;31mNameError\u001b[0m                                 Traceback (most recent call last)",
      "Cell \u001b[1;32mIn[1], line 4\u001b[0m\n\u001b[0;32m      1\u001b[0m \u001b[38;5;66;03m# Q1 - Solution\u001b[39;00m\n\u001b[0;32m      2\u001b[0m \n\u001b[0;32m      3\u001b[0m \u001b[38;5;66;03m# 10-descriptor table\u001b[39;00m\n\u001b[1;32m----> 4\u001b[0m desc10_20 \u001b[38;5;241m=\u001b[39m \u001b[43mdf_20\u001b[49m[\u001b[38;5;124m\"\u001b[39m\u001b[38;5;124mSMILES\u001b[39m\u001b[38;5;124m\"\u001b[39m]\u001b[38;5;241m.\u001b[39mapply(calc_descriptors10)\n\u001b[0;32m      5\u001b[0m df10_20 \u001b[38;5;241m=\u001b[39m pd\u001b[38;5;241m.\u001b[39mconcat([df_20[[\u001b[38;5;124m\"\u001b[39m\u001b[38;5;124mCompound Name\u001b[39m\u001b[38;5;124m\"\u001b[39m,\u001b[38;5;124m\"\u001b[39m\u001b[38;5;124mSMILES\u001b[39m\u001b[38;5;124m\"\u001b[39m,\u001b[38;5;124m\"\u001b[39m\u001b[38;5;124mGroup\u001b[39m\u001b[38;5;124m\"\u001b[39m]], desc10_20], axis\u001b[38;5;241m=\u001b[39m\u001b[38;5;241m1\u001b[39m)\n\u001b[0;32m      7\u001b[0m \u001b[38;5;66;03m# 64-bit Morgan fingerprints\u001b[39;00m\n",
      "\u001b[1;31mNameError\u001b[0m: name 'df_20' is not defined"
     ]
    }
   ],
   "source": [
    "# Q1 - Solution\n",
    "\n",
    "# 10-descriptor table\n",
    "desc10_20 = df_20[\"SMILES\"].apply(calc_descriptors10)\n",
    "df10_20 = pd.concat([df_20[[\"Compound Name\",\"SMILES\",\"Group\"]], desc10_20], axis=1)\n",
    "\n",
    "# 64-bit Morgan fingerprints\n",
    "df_fp_20 = df_20.copy()\n",
    "df_fp_20[\"Fingerprint\"] = df_fp_20[\"SMILES\"].apply(lambda s: morgan_bits(s, n_bits=64, radius=2))\n",
    "\n",
    "print(\"10-descriptor table (head):\")\n",
    "display(df10_20.head().round(3))\n",
    "\n",
    "print(\"\\nFingerprint preview (first 24 bits):\")\n",
    "fp_preview = df_fp_20[[\"Compound Name\",\"Group\",\"Fingerprint\"]].copy()\n",
    "fp_preview[\"Fingerprint\"] = fp_preview[\"Fingerprint\"].str.slice(0, 24) + \"...\"\n",
    "display(fp_preview)\n",
    "\n",
    "print(\"\\nDescriptor stats:\")\n",
    "display(df10_20.drop(columns=[\"Compound Name\",\"SMILES\",\"Group\"]).agg([\"mean\",\"std\"]).round(3))\n"
   ]
  },
  {
   "cell_type": "markdown",
<<<<<<< HEAD
   "id": "db2a5f1d",
=======
   "id": "459abb34",
>>>>>>> 6cda9aa (0929-1)
   "metadata": {},
   "source": [
    "### Q2"
   ]
  },
  {
   "cell_type": "code",
   "execution_count": null,
<<<<<<< HEAD
   "id": "728a051c",
=======
   "id": "ca1f1c4f",
>>>>>>> 6cda9aa (0929-1)
   "metadata": {},
   "outputs": [],
   "source": [
    "# Q2 - Solution\n",
    "\n",
    "import numpy as np\n",
    "import matplotlib.pyplot as plt\n",
    "from sklearn.preprocessing import StandardScaler\n",
    "from sklearn.decomposition import PCA\n",
    "\n",
    "desc_cols = [\"MolWt\",\"LogP\",\"TPSA\",\"NumRings\",\n",
    "             \"NumHAcceptors\",\"NumHDonors\",\"NumRotatableBonds\",\n",
    "             \"HeavyAtomCount\",\"FractionCSP3\",\"NumAromaticRings\"]\n",
    "\n",
    "X_desc = df10_20[desc_cols].to_numpy()\n",
    "X_desc_std = StandardScaler().fit_transform(X_desc)\n",
    "\n",
    "pca_desc_full = PCA().fit(X_desc_std)\n",
    "Z_desc = pca_desc_full.transform(X_desc_std)[:, :2]\n",
    "\n",
    "# color map by group\n",
    "group_to_color = {\"A_hydrophobic_aromatics\":\"tab:orange\",\n",
    "                  \"B_polar_alc_acid\":\"tab:blue\",\n",
    "                  \"C_N_hetero_amines\":\"tab:green\"}\n",
    "colors = df10_20[\"Group\"].map(group_to_color).to_numpy()\n",
    "\n",
    "# explained variance\n",
    "plt.figure(figsize=(4,3))\n",
    "plt.plot(np.cumsum(pca_desc_full.explained_variance_ratio_), marker=\"o\")\n",
    "plt.xlabel(\"Number of PCs\"); plt.ylabel(\"Cumulative EVR\"); plt.tight_layout(); plt.show()\n",
    "\n",
    "# 2D scatter with labels\n",
    "plt.figure(figsize=(7,6))\n",
    "plt.scatter(Z_desc[:,0], Z_desc[:,1], s=80, c=colors, alpha=0.9)\n",
    "for i, name in enumerate(df10_20[\"Compound Name\"]):\n",
    "    plt.text(Z_desc[i,0]+0.03, Z_desc[i,1], name, fontsize=8)\n",
    "plt.xlabel(\"PC1\"); plt.ylabel(\"PC2\"); plt.title(\"PCA on 10 descriptors (n=20)\")\n",
    "# legend\n",
    "for g, col in group_to_color.items():\n",
    "    plt.scatter([], [], c=col, label=g)\n",
    "plt.legend(title=\"Group\", loc=\"best\")\n",
    "plt.tight_layout(); plt.show()\n"
   ]
  },
  {
   "cell_type": "markdown",
   "id": "e3a24084",
   "metadata": {},
   "source": [
    "### Q3"
   ]
  },
  {
   "cell_type": "code",
   "execution_count": null,
   "id": "a4b7ef00",
   "metadata": {},
   "outputs": [],
   "source": [
    "# Q3 - Solution\n",
    "\n",
    "from sklearn.manifold import TSNE\n",
    "\n",
    "tsne_desc = TSNE(n_components=2, perplexity=2, learning_rate=\"auto\",\n",
    "                 init=\"pca\", n_iter=1000, random_state=0)\n",
    "Y_desc = tsne_desc.fit_transform(X_desc_std)\n",
    "\n",
    "plt.figure(figsize=(7,6))\n",
    "plt.scatter(Y_desc[:,0], Y_desc[:,1], s=80, c=colors, alpha=0.9)\n",
    "for i, name in enumerate(df10_20[\"Compound Name\"]):\n",
    "    plt.text(Y_desc[i,0]+0.5, Y_desc[i,1], name, fontsize=8)\n",
    "plt.xlabel(\"tSNE-1\"); plt.ylabel(\"tSNE-2\"); plt.title(\"t-SNE on 10 descriptors (n=20)\")\n",
    "for g, col in group_to_color.items():\n",
    "    plt.scatter([], [], c=col, label=g)\n",
    "plt.legend(title=\"Group\", loc=\"best\")\n",
    "plt.tight_layout(); plt.show()\n"
   ]
  },
  {
   "cell_type": "markdown",
   "id": "548c2840",
   "metadata": {},
   "source": [
    "### Q4"
   ]
  },
  {
   "cell_type": "code",
   "execution_count": null,
   "id": "bbead684",
   "metadata": {},
   "outputs": [],
   "source": [
    "# Q4 - Solution\n",
    "\n",
    "# 0/1 matrix from bitstrings\n",
    "X_fp = np.array([[int(ch) for ch in s] for s in df_fp_20[\"Fingerprint\"]], dtype=float)\n",
    "\n",
    "# PCA on fingerprint bits\n",
    "pca_fp = PCA(n_components=2, random_state=0).fit(X_fp)\n",
    "Z_fp_pca = pca_fp.transform(X_fp)\n",
    "\n",
    "plt.figure(figsize=(7,6))\n",
    "plt.scatter(Z_fp_pca[:,0], Z_fp_pca[:,1], s=80, c=colors, alpha=0.9)\n",
    "for i, name in enumerate(df_fp_20[\"Compound Name\"]):\n",
    "    plt.text(Z_fp_pca[i,0]+0.03, Z_fp_pca[i,1], name, fontsize=8)\n",
    "plt.xlabel(\"PC1\"); plt.ylabel(\"PC2\"); plt.title(\"PCA on Morgan-64 (n=20)\")\n",
    "for g, col in group_to_color.items():\n",
    "    plt.scatter([], [], c=col, label=g)\n",
    "plt.legend(title=\"Group\", loc=\"best\")\n",
    "plt.tight_layout(); plt.show()\n",
    "\n",
    "# t-SNE on fingerprint bits\n",
    "tsne_fp = TSNE(n_components=2, perplexity=5, learning_rate=\"auto\",\n",
    "               init=\"pca\", n_iter=1000, random_state=0)\n",
    "Y_fp = tsne_fp.fit_transform(X_fp)\n",
    "\n",
    "plt.figure(figsize=(7,6))\n",
    "plt.scatter(Y_fp[:,0], Y_fp[:,1], s=80, c=colors, alpha=0.9)\n",
    "for i, name in enumerate(df_fp_20[\"Compound Name\"]):\n",
    "    plt.text(Y_fp[i,0]+0.5, Y_fp[i,1], name, fontsize=8)\n",
    "plt.xlabel(\"tSNE-1\"); plt.ylabel(\"tSNE-2\"); plt.title(\"t-SNE on Morgan-64 (n=20)\")\n",
    "for g, col in group_to_color.items():\n",
    "    plt.scatter([], [], c=col, label=g)\n",
    "plt.legend(title=\"Group\", loc=\"best\")\n",
    "plt.tight_layout(); plt.show()\n"
   ]
  },
  {
   "cell_type": "markdown",
   "id": "aceb9d94",
   "metadata": {},
   "source": [
    "### Q5"
   ]
  },
  {
   "cell_type": "code",
   "execution_count": null,
   "id": "2f6517ed",
   "metadata": {},
   "outputs": [],
   "source": [
    "# Q5 - Solution\n",
    "\n",
    "from sklearn.metrics import pairwise_distances\n",
    "from rdkit import DataStructs\n",
    "\n",
    "# choose a query row\n",
    "q = 3  # change during class to test different queries\n",
    "\n",
    "# 1) Euclidean on standardized 10D descriptors\n",
    "D_eu = pairwise_distances(X_desc_std, metric=\"euclidean\")\n",
    "order_eu = np.argsort(D_eu[q])\n",
    "nn_eu_idx = [i for i in order_eu if i != q][:5]\n",
    "\n",
    "print(f\"Query: {df10_20.loc[q,'Compound Name']}  |  Group: {df10_20.loc[q,'Group']}\")\n",
    "print(\"\\nNearest 5 by Euclidean (10 descriptors):\")\n",
    "for j in nn_eu_idx:\n",
    "    print(f\"  {df10_20.loc[j,'Compound Name']:24s}  group={df10_20.loc[j,'Group']:22s}  d_eu={D_eu[q,j]:.3f}\")\n",
    "\n",
    "# 2) Tanimoto on 64-bit fingerprints\n",
    "def fp_string_to_bvect(fp_str):\n",
    "    arr = [int(ch) for ch in fp_str]\n",
    "    bv = DataStructs.ExplicitBitVect(len(arr))\n",
    "    for k, b in enumerate(arr):\n",
    "        if b: bv.SetBit(k)\n",
    "    return bv\n",
    "\n",
    "fps = [fp_string_to_bvect(s) for s in df_fp_20[\"Fingerprint\"]]\n",
    "S_tan = np.zeros((len(fps), len(fps)))\n",
    "for i in range(len(fps)):\n",
    "    S_tan[i, :] = DataStructs.BulkTanimotoSimilarity(fps[i], fps)\n",
    "D_tan = 1.0 - S_tan\n",
    "\n",
    "order_tan = np.argsort(D_tan[q])\n",
    "nn_tan_idx = [i for i in order_tan if i != q][:5]\n",
    "\n",
    "print(\"\\nNearest 5 by Tanimoto (Morgan-64):\")\n",
    "for j in nn_tan_idx:\n",
    "    print(f\"  {df10_20.loc[j,'Compound Name']:24s}  group={df10_20.loc[j,'Group']:22s}  d_tan={D_tan[q,j]:.3f}\")\n"
   ]
  },
  {
   "cell_type": "markdown",
   "id": "26afb6d1",
   "metadata": {},
   "source": [
    "---\n",
    "\n",
    "Lecture 12\n",
    "---\n",
    "\n",
    "\n",
    "## 8. Solutions\n",
    "\n",
    "**Q1**"
   ]
  },
  {
   "cell_type": "code",
   "execution_count": null,
   "id": "139cb5b2",
   "metadata": {},
   "outputs": [],
   "source": [
    "# Q1. t-SNE on 10 descriptors\n",
    "from sklearn.preprocessing import StandardScaler\n",
    "from sklearn.manifold import TSNE\n",
    "from sklearn.cluster import KMeans, AgglomerativeClustering, DBSCAN\n",
    "from sklearn.metrics import silhouette_score\n",
    "from sklearn.metrics import pairwise_distances\n",
    "import numpy as np\n",
    "import pandas as pd\n",
    "import matplotlib.pyplot as plt\n",
    "\n",
    "# Assumes df_raw is already loaded and RDKit imports exist:\n",
    "# from rdkit import Chem\n",
    "# from rdkit.Chem import Descriptors, Crippen, rdMolDescriptors\n",
    "\n",
    "def calc_descriptors10(smiles: str):\n",
    "    m = Chem.MolFromSmiles(smiles)\n",
    "    return pd.Series({\n",
    "        \"MolWt\": Descriptors.MolWt(m),\n",
    "        \"LogP\": Crippen.MolLogP(m),\n",
    "        \"TPSA\": rdMolDescriptors.CalcTPSA(m),\n",
    "        \"NumRings\": rdMolDescriptors.CalcNumRings(m),\n",
    "        \"NumHAcceptors\": rdMolDescriptors.CalcNumHBA(m),\n",
    "        \"NumHDonors\": rdMolDescriptors.CalcNumHBD(m),\n",
    "        \"NumRotatableBonds\": rdMolDescriptors.CalcNumRotatableBonds(m),\n",
    "        \"HeavyAtomCount\": Descriptors.HeavyAtomCount(m),\n",
    "        \"FractionCSP3\": rdMolDescriptors.CalcFractionCSP3(m),\n",
    "        \"NumAromaticRings\": rdMolDescriptors.CalcNumAromaticRings(m)\n",
    "    })\n",
    "\n",
    "# 10 descriptors\n",
    "desc10 = df_raw[\"SMILES\"].apply(calc_descriptors10)\n",
    "df10 = pd.concat([df_raw.reset_index(drop=True), desc10.reset_index(drop=True)], axis=1)\n",
    "\n",
    "cols10 = [\n",
    "    \"MolWt\",\"LogP\",\"TPSA\",\"NumRings\",\"NumHAcceptors\",\n",
    "    \"NumHDonors\",\"NumRotatableBonds\",\"HeavyAtomCount\",\n",
    "    \"FractionCSP3\",\"NumAromaticRings\"\n",
    "]\n",
    "scaler10 = StandardScaler().fit(df10[cols10])\n",
    "X10 = scaler10.transform(df10[cols10])\n",
    "\n",
    "# t-SNE embedding for descriptors (reused in Q4 and Q5)\n",
    "tsne10 = TSNE(n_components=2, perplexity=30, learning_rate=\"auto\",\n",
    "              init=\"pca\", metric=\"euclidean\", random_state=0)\n",
    "Z10 = tsne10.fit_transform(X10)\n",
    "\n",
    "plt.figure(figsize=(5,4))\n",
    "plt.scatter(Z10[:,0], Z10[:,1], s=12, alpha=0.85)\n",
    "plt.xlabel(\"t-SNE 1\"); plt.ylabel(\"t-SNE 2\")\n",
    "plt.title(\"t-SNE on 10 descriptors\")\n",
    "plt.tight_layout()\n",
    "plt.show()\n"
   ]
  },
  {
   "cell_type": "markdown",
   "id": "856bf473",
   "metadata": {},
   "source": [
    "**Q2**"
   ]
  },
  {
   "cell_type": "code",
   "execution_count": null,
   "id": "4b2faa87",
   "metadata": {},
   "outputs": [],
   "source": [
    "# Q2. Elbow on KMeans (k=2..9)\n",
    "\n",
    "ks = range(2, 10)\n",
    "inertias = []\n",
    "for k in ks:\n",
    "    km = KMeans(n_clusters=k, random_state=0, n_init=10).fit(X10)\n",
    "    inertias.append(km.inertia_)\n",
    "\n",
    "plt.figure(figsize=(5,4))\n",
    "plt.plot(list(ks), inertias, marker=\"o\")\n",
    "plt.xlabel(\"k\"); plt.ylabel(\"Inertia\")\n",
    "plt.title(\"Elbow on 10-descriptor KMeans\")\n",
    "plt.grid(True); plt.tight_layout()\n",
    "plt.show()\n",
    "\n",
    "pd.DataFrame({\"k\": list(ks), \"inertia\": inertias}).round(3)"
   ]
  },
  {
   "cell_type": "markdown",
   "id": "7a07a127",
   "metadata": {},
   "source": [
    "**Q3**"
   ]
  },
  {
   "cell_type": "code",
   "execution_count": null,
   "id": "8d24e860",
   "metadata": {},
   "outputs": [],
   "source": [
    "# Q3. Silhouette on KMeans (k=2..9)\n",
    "sil_scores = []\n",
    "for k in ks:\n",
    "    km = KMeans(n_clusters=k, random_state=0, n_init=10).fit(X10)\n",
    "    sil_scores.append(silhouette_score(X10, km.labels_))\n",
    "\n",
    "plt.figure(figsize=(5,4))\n",
    "plt.plot(list(ks), sil_scores, marker=\"o\")\n",
    "plt.xlabel(\"k\"); plt.ylabel(\"Silhouette\")\n",
    "plt.title(\"Silhouette vs k on 10-descriptor KMeans\")\n",
    "plt.grid(True); plt.tight_layout()\n",
    "plt.show()\n",
    "\n",
    "best_k_sil = list(ks)[int(np.argmax(sil_scores))]\n",
    "print(\"Best k by silhouette:\", best_k_sil)\n",
    "pd.DataFrame({\"k\": list(ks), \"silhouette\": np.round(sil_scores, 3)})\n"
   ]
  },
  {
   "cell_type": "markdown",
   "id": "f1d7d6a2",
   "metadata": {},
   "source": [
    "**Q4**"
   ]
  },
  {
   "cell_type": "code",
   "execution_count": null,
   "id": "2a3c2d3e",
   "metadata": {},
   "outputs": [],
   "source": [
    "# Q4. Agglomerative sweep with plots\n",
    "sil_agg = []\n",
    "for k in ks:\n",
    "    agg = AgglomerativeClustering(n_clusters=k, linkage=\"ward\")\n",
    "    labels_agg = agg.fit_predict(X10)\n",
    "    sil_agg.append(silhouette_score(X10, labels_agg))\n",
    "\n",
    "plt.figure(figsize=(5,4))\n",
    "plt.plot(list(ks), sil_agg, marker=\"o\")\n",
    "plt.xlabel(\"k\"); plt.ylabel(\"Silhouette\")\n",
    "plt.title(\"Agglomerative (ward) silhouette vs k on 10 descriptors\")\n",
    "plt.grid(True); plt.tight_layout()\n",
    "plt.show()\n",
    "\n",
    "best_k_agg = list(ks)[int(np.argmax(sil_agg))]\n",
    "print(\"Best k for Agglomerative by silhouette:\", best_k_agg)\n",
    "\n",
    "# Fit best k and plot clusters on t-SNE plane (Z10)\n",
    "agg_best = AgglomerativeClustering(n_clusters=best_k_agg, linkage=\"ward\")\n",
    "labels_agg_best = agg_best.fit_predict(X10)\n",
    "\n",
    "plt.figure(figsize=(5,4))\n",
    "for c in np.unique(labels_agg_best):\n",
    "    idx = labels_agg_best == c\n",
    "    plt.scatter(Z10[idx,0], Z10[idx,1], s=12, alpha=0.9, label=f\"c{c}\")\n",
    "plt.xlabel(\"t-SNE 1\"); plt.ylabel(\"t-SNE 2\")\n",
    "plt.title(f\"Agglomerative (ward) on t-SNE, k={best_k_agg}\")\n",
    "plt.legend(bbox_to_anchor=(1.02,1), loc=\"upper left\")\n",
    "plt.tight_layout(); plt.show()"
   ]
  }
 ],
 "metadata": {
  "jupytext": {
   "text_representation": {
    "extension": ".md",
    "format_name": "myst",
    "format_version": 0.13,
    "jupytext_version": "1.16.4"
   }
  },
  "kernelspec": {
   "display_name": "Python 3",
   "language": "python",
   "name": "python3"
  },
  "language_info": {
   "codemirror_mode": {
    "name": "ipython",
    "version": 3
   },
   "file_extension": ".py",
   "mimetype": "text/x-python",
   "name": "python",
   "nbconvert_exporter": "python",
   "pygments_lexer": "ipython3",
   "version": "3.8.10"
  },
  "source_map": [
   12,
   20,
   42,
   45,
   86,
   90,
   109,
   112,
   147,
   151,
   191,
   204,
   258,
   262,
   279,
   284,
   302,
   306
  ]
 },
 "nbformat": 4,
 "nbformat_minor": 5
}