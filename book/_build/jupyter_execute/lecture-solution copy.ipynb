{
 "cells": [
  {
   "cell_type": "markdown",
   "id": "b43e2189",
   "metadata": {},
   "source": [
    "Lecture 12\n",
    "---\n",
    "\n",
    "\n",
    "## 8. Solutions\n",
    "\n",
    "**Q1**"
   ]
  },
  {
   "cell_type": "code",
   "execution_count": 1,
   "id": "47c4d73b",
   "metadata": {},
   "outputs": [
    {
     "ename": "NameError",
     "evalue": "name 'df_raw' is not defined",
     "output_type": "error",
     "traceback": [
      "\u001b[1;31m---------------------------------------------------------------------------\u001b[0m",
      "\u001b[1;31mNameError\u001b[0m                                 Traceback (most recent call last)",
      "Cell \u001b[1;32mIn[1], line 31\u001b[0m\n\u001b[0;32m     17\u001b[0m     \u001b[38;5;28;01mreturn\u001b[39;00m pd\u001b[38;5;241m.\u001b[39mSeries({\n\u001b[0;32m     18\u001b[0m         \u001b[38;5;124m\"\u001b[39m\u001b[38;5;124mMolWt\u001b[39m\u001b[38;5;124m\"\u001b[39m: Descriptors\u001b[38;5;241m.\u001b[39mMolWt(m),\n\u001b[0;32m     19\u001b[0m         \u001b[38;5;124m\"\u001b[39m\u001b[38;5;124mLogP\u001b[39m\u001b[38;5;124m\"\u001b[39m: Crippen\u001b[38;5;241m.\u001b[39mMolLogP(m),\n\u001b[1;32m   (...)\u001b[0m\n\u001b[0;32m     27\u001b[0m         \u001b[38;5;124m\"\u001b[39m\u001b[38;5;124mNumAromaticRings\u001b[39m\u001b[38;5;124m\"\u001b[39m: rdMolDescriptors\u001b[38;5;241m.\u001b[39mCalcNumAromaticRings(m)\n\u001b[0;32m     28\u001b[0m     })\n\u001b[0;32m     30\u001b[0m \u001b[38;5;66;03m# 10 descriptors\u001b[39;00m\n\u001b[1;32m---> 31\u001b[0m desc10 \u001b[38;5;241m=\u001b[39m \u001b[43mdf_raw\u001b[49m[\u001b[38;5;124m\"\u001b[39m\u001b[38;5;124mSMILES\u001b[39m\u001b[38;5;124m\"\u001b[39m]\u001b[38;5;241m.\u001b[39mapply(calc_descriptors10)\n\u001b[0;32m     32\u001b[0m df10 \u001b[38;5;241m=\u001b[39m pd\u001b[38;5;241m.\u001b[39mconcat([df_raw\u001b[38;5;241m.\u001b[39mreset_index(drop\u001b[38;5;241m=\u001b[39m\u001b[38;5;28;01mTrue\u001b[39;00m), desc10\u001b[38;5;241m.\u001b[39mreset_index(drop\u001b[38;5;241m=\u001b[39m\u001b[38;5;28;01mTrue\u001b[39;00m)], axis\u001b[38;5;241m=\u001b[39m\u001b[38;5;241m1\u001b[39m)\n\u001b[0;32m     34\u001b[0m cols10 \u001b[38;5;241m=\u001b[39m [\n\u001b[0;32m     35\u001b[0m     \u001b[38;5;124m\"\u001b[39m\u001b[38;5;124mMolWt\u001b[39m\u001b[38;5;124m\"\u001b[39m,\u001b[38;5;124m\"\u001b[39m\u001b[38;5;124mLogP\u001b[39m\u001b[38;5;124m\"\u001b[39m,\u001b[38;5;124m\"\u001b[39m\u001b[38;5;124mTPSA\u001b[39m\u001b[38;5;124m\"\u001b[39m,\u001b[38;5;124m\"\u001b[39m\u001b[38;5;124mNumRings\u001b[39m\u001b[38;5;124m\"\u001b[39m,\u001b[38;5;124m\"\u001b[39m\u001b[38;5;124mNumHAcceptors\u001b[39m\u001b[38;5;124m\"\u001b[39m,\n\u001b[0;32m     36\u001b[0m     \u001b[38;5;124m\"\u001b[39m\u001b[38;5;124mNumHDonors\u001b[39m\u001b[38;5;124m\"\u001b[39m,\u001b[38;5;124m\"\u001b[39m\u001b[38;5;124mNumRotatableBonds\u001b[39m\u001b[38;5;124m\"\u001b[39m,\u001b[38;5;124m\"\u001b[39m\u001b[38;5;124mHeavyAtomCount\u001b[39m\u001b[38;5;124m\"\u001b[39m,\n\u001b[0;32m     37\u001b[0m     \u001b[38;5;124m\"\u001b[39m\u001b[38;5;124mFractionCSP3\u001b[39m\u001b[38;5;124m\"\u001b[39m,\u001b[38;5;124m\"\u001b[39m\u001b[38;5;124mNumAromaticRings\u001b[39m\u001b[38;5;124m\"\u001b[39m\n\u001b[0;32m     38\u001b[0m ]\n",
      "\u001b[1;31mNameError\u001b[0m: name 'df_raw' is not defined"
     ]
    }
   ],
   "source": [
    "# Q1. t-SNE on 10 descriptors\n",
    "from sklearn.preprocessing import StandardScaler\n",
    "from sklearn.manifold import TSNE\n",
    "from sklearn.cluster import KMeans, AgglomerativeClustering, DBSCAN\n",
    "from sklearn.metrics import silhouette_score\n",
    "from sklearn.metrics import pairwise_distances\n",
    "import numpy as np\n",
    "import pandas as pd\n",
    "import matplotlib.pyplot as plt\n",
    "\n",
    "# Assumes df_raw is already loaded and RDKit imports exist:\n",
    "# from rdkit import Chem\n",
    "# from rdkit.Chem import Descriptors, Crippen, rdMolDescriptors\n",
    "\n",
    "def calc_descriptors10(smiles: str):\n",
    "    m = Chem.MolFromSmiles(smiles)\n",
    "    return pd.Series({\n",
    "        \"MolWt\": Descriptors.MolWt(m),\n",
    "        \"LogP\": Crippen.MolLogP(m),\n",
    "        \"TPSA\": rdMolDescriptors.CalcTPSA(m),\n",
    "        \"NumRings\": rdMolDescriptors.CalcNumRings(m),\n",
    "        \"NumHAcceptors\": rdMolDescriptors.CalcNumHBA(m),\n",
    "        \"NumHDonors\": rdMolDescriptors.CalcNumHBD(m),\n",
    "        \"NumRotatableBonds\": rdMolDescriptors.CalcNumRotatableBonds(m),\n",
    "        \"HeavyAtomCount\": Descriptors.HeavyAtomCount(m),\n",
    "        \"FractionCSP3\": rdMolDescriptors.CalcFractionCSP3(m),\n",
    "        \"NumAromaticRings\": rdMolDescriptors.CalcNumAromaticRings(m)\n",
    "    })\n",
    "\n",
    "# 10 descriptors\n",
    "desc10 = df_raw[\"SMILES\"].apply(calc_descriptors10)\n",
    "df10 = pd.concat([df_raw.reset_index(drop=True), desc10.reset_index(drop=True)], axis=1)\n",
    "\n",
    "cols10 = [\n",
    "    \"MolWt\",\"LogP\",\"TPSA\",\"NumRings\",\"NumHAcceptors\",\n",
    "    \"NumHDonors\",\"NumRotatableBonds\",\"HeavyAtomCount\",\n",
    "    \"FractionCSP3\",\"NumAromaticRings\"\n",
    "]\n",
    "scaler10 = StandardScaler().fit(df10[cols10])\n",
    "X10 = scaler10.transform(df10[cols10])\n",
    "\n",
    "# t-SNE embedding for descriptors (reused in Q4 and Q5)\n",
    "tsne10 = TSNE(n_components=2, perplexity=30, learning_rate=\"auto\",\n",
    "              init=\"pca\", metric=\"euclidean\", random_state=0)\n",
    "Z10 = tsne10.fit_transform(X10)\n",
    "\n",
    "plt.figure(figsize=(5,4))\n",
    "plt.scatter(Z10[:,0], Z10[:,1], s=12, alpha=0.85)\n",
    "plt.xlabel(\"t-SNE 1\"); plt.ylabel(\"t-SNE 2\")\n",
    "plt.title(\"t-SNE on 10 descriptors\")\n",
    "plt.tight_layout()\n",
    "plt.show()\n"
   ]
  },
  {
   "cell_type": "markdown",
   "id": "88fe2ea2",
   "metadata": {},
   "source": [
    "**Q2**"
   ]
  },
  {
   "cell_type": "code",
   "execution_count": null,
   "id": "850e48c2",
   "metadata": {},
   "outputs": [],
   "source": [
    "# Q2. Elbow on KMeans (k=2..9)\n",
    "\n",
    "ks = range(2, 10)\n",
    "inertias = []\n",
    "for k in ks:\n",
    "    km = KMeans(n_clusters=k, random_state=0, n_init=10).fit(X10)\n",
    "    inertias.append(km.inertia_)\n",
    "\n",
    "plt.figure(figsize=(5,4))\n",
    "plt.plot(list(ks), inertias, marker=\"o\")\n",
    "plt.xlabel(\"k\"); plt.ylabel(\"Inertia\")\n",
    "plt.title(\"Elbow on 10-descriptor KMeans\")\n",
    "plt.grid(True); plt.tight_layout()\n",
    "plt.show()\n",
    "\n",
    "pd.DataFrame({\"k\": list(ks), \"inertia\": inertias}).round(3)"
   ]
  },
  {
   "cell_type": "markdown",
   "id": "8fee03e0",
   "metadata": {},
   "source": [
    "**Q3**"
   ]
  },
  {
   "cell_type": "code",
   "execution_count": null,
   "id": "ff87f275",
   "metadata": {},
   "outputs": [],
   "source": [
    "# Q3. Silhouette on KMeans (k=2..9)\n",
    "sil_scores = []\n",
    "for k in ks:\n",
    "    km = KMeans(n_clusters=k, random_state=0, n_init=10).fit(X10)\n",
    "    sil_scores.append(silhouette_score(X10, km.labels_))\n",
    "\n",
    "plt.figure(figsize=(5,4))\n",
    "plt.plot(list(ks), sil_scores, marker=\"o\")\n",
    "plt.xlabel(\"k\"); plt.ylabel(\"Silhouette\")\n",
    "plt.title(\"Silhouette vs k on 10-descriptor KMeans\")\n",
    "plt.grid(True); plt.tight_layout()\n",
    "plt.show()\n",
    "\n",
    "best_k_sil = list(ks)[int(np.argmax(sil_scores))]\n",
    "print(\"Best k by silhouette:\", best_k_sil)\n",
    "pd.DataFrame({\"k\": list(ks), \"silhouette\": np.round(sil_scores, 3)})\n"
   ]
  },
  {
   "cell_type": "markdown",
   "id": "da89fce3",
   "metadata": {},
   "source": [
    "**Q4**"
   ]
  },
  {
   "cell_type": "code",
   "execution_count": null,
   "id": "b0219061",
   "metadata": {},
   "outputs": [],
   "source": [
    "# Q4. Agglomerative sweep with plots\n",
    "sil_agg = []\n",
    "for k in ks:\n",
    "    agg = AgglomerativeClustering(n_clusters=k, linkage=\"ward\")\n",
    "    labels_agg = agg.fit_predict(X10)\n",
    "    sil_agg.append(silhouette_score(X10, labels_agg))\n",
    "\n",
    "plt.figure(figsize=(5,4))\n",
    "plt.plot(list(ks), sil_agg, marker=\"o\")\n",
    "plt.xlabel(\"k\"); plt.ylabel(\"Silhouette\")\n",
    "plt.title(\"Agglomerative (ward) silhouette vs k on 10 descriptors\")\n",
    "plt.grid(True); plt.tight_layout()\n",
    "plt.show()\n",
    "\n",
    "best_k_agg = list(ks)[int(np.argmax(sil_agg))]\n",
    "print(\"Best k for Agglomerative by silhouette:\", best_k_agg)\n",
    "\n",
    "# Fit best k and plot clusters on t-SNE plane (Z10)\n",
    "agg_best = AgglomerativeClustering(n_clusters=best_k_agg, linkage=\"ward\")\n",
    "labels_agg_best = agg_best.fit_predict(X10)\n",
    "\n",
    "plt.figure(figsize=(5,4))\n",
    "for c in np.unique(labels_agg_best):\n",
    "    idx = labels_agg_best == c\n",
    "    plt.scatter(Z10[idx,0], Z10[idx,1], s=12, alpha=0.9, label=f\"c{c}\")\n",
    "plt.xlabel(\"t-SNE 1\"); plt.ylabel(\"t-SNE 2\")\n",
    "plt.title(f\"Agglomerative (ward) on t-SNE, k={best_k_agg}\")\n",
    "plt.legend(bbox_to_anchor=(1.02,1), loc=\"upper left\")\n",
    "plt.tight_layout(); plt.show()"
   ]
  },
  {
   "cell_type": "markdown",
   "id": "fc9d483d",
   "metadata": {},
   "source": [
    "---\n",
    "\n",
    "## lecture 13"
   ]
  },
  {
   "cell_type": "code",
   "execution_count": null,
   "id": "61e31e77",
   "metadata": {},
   "outputs": [],
   "source": [
    "from torch.utils.data import TensorDataset, DataLoader\n",
    "\n",
    "dl_desc = DataLoader(\n",
    "    TensorDataset(torch.from_numpy(Xz.astype(np.float32))),\n",
    "    batch_size=64,\n",
    "    shuffle=True,\n",
    ")\n",
    "\n",
    "# 3D latent AE and training loop (unpack with (xb,))\n",
    "ae3 = TinyAE(in_dim=10, hid=64, z_dim=3)\n",
    "opt = optim.Adam(ae3.parameters(), lr=1e-3)\n",
    "\n",
    "for ep in range(4):\n",
    "    for (xb,) in dl_desc:\n",
    "        xr, z = ae3(xb)\n",
    "        loss = nn.functional.mse_loss(xr, xb)\n",
    "        opt.zero_grad(); loss.backward(); opt.step()\n",
    "\n",
    "# Encode with the trained model\n",
    "with torch.no_grad():\n",
    "    Z3 = ae3.encode(torch.from_numpy(Xz.astype(np.float32))).numpy()\n",
    "\n",
    "\n",
    "fig = plt.figure(figsize=(6, 5))\n",
    "ax = fig.add_subplot(111, projection=\"3d\")\n",
    "\n",
    "p = ax.scatter(\n",
    "    Z3[:, 0], Z3[:, 1], Z3[:, 2],\n",
    "    c=df_small[\"LogP\"].values,\n",
    "    s=12, alpha=0.85\n",
    ")\n",
    "ax.set_xlabel(\"z0\"); ax.set_ylabel(\"z1\"); ax.set_zlabel(\"z2\")\n",
    "ax.set_title(\"AE latent space (3D), color = LogP\")\n",
    "cb = fig.colorbar(p, ax=ax, shrink=0.7, pad=0.1)\n",
    "cb.set_label(\"LogP\")\n",
    "plt.show()\n",
    "\n"
   ]
  },
  {
   "cell_type": "markdown",
   "id": "accd52dc",
   "metadata": {},
   "source": [
    "q2"
   ]
  },
  {
   "cell_type": "code",
   "execution_count": null,
   "id": "89e26416",
   "metadata": {},
   "outputs": [],
   "source": [
    "for t in [0.01, 0.1, 0.3, 0.5, 1.0, 1.5, 2]:\n",
    "    raw = sample_smiles(n=800, temp=t)\n",
    "    val = len(canonicalize_batch(raw)) / max(1, len(raw))\n",
    "    print(f\"T={t}: validity {val:.2f}\")\n"
   ]
  }
 ],
 "metadata": {
  "jupytext": {
   "text_representation": {
    "extension": ".md",
    "format_name": "myst",
    "format_version": 0.13,
    "jupytext_version": "1.16.4"
   }
  },
  "kernelspec": {
   "display_name": "Python 3",
   "language": "python",
   "name": "python3"
  },
  "language_info": {
   "codemirror_mode": {
    "name": "ipython",
    "version": 3
   },
   "file_extension": ".py",
   "mimetype": "text/x-python",
   "name": "python",
   "nbconvert_exporter": "python",
   "pygments_lexer": "ipython3",
   "version": "3.8.10"
  },
  "source_map": [
   12,
   25,
   79,
   83,
   100,
   105,
   123,
   127,
   157,
   166,
   205,
   210
  ]
 },
 "nbformat": 4,
 "nbformat_minor": 5
}