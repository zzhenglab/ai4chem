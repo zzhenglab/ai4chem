{
 "cells": [
  {
   "cell_type": "markdown",
   "id": "7396f6e1",
   "metadata": {},
   "source": [
    "---\n",
    "\n",
    "\n",
    "\n",
    "\n",
    "\n",
    "\n",
    "\n",
    "\n",
    "#Lecture 10\n",
    "\n",
    "\n",
    "### Solution Q1"
   ]
  },
  {
   "cell_type": "code",
   "execution_count": 1,
   "id": "079182df",
   "metadata": {},
   "outputs": [
    {
     "ename": "NameError",
     "evalue": "name 'df' is not defined",
     "output_type": "error",
     "traceback": [
      "\u001b[31m---------------------------------------------------------------------------\u001b[39m",
      "\u001b[31mNameError\u001b[39m                                 Traceback (most recent call last)",
      "\u001b[36mCell\u001b[39m\u001b[36m \u001b[39m\u001b[32mIn[1]\u001b[39m\u001b[32m, line 2\u001b[39m\n\u001b[32m      1\u001b[39m \u001b[38;5;66;03m# Q4 solution\u001b[39;00m\n\u001b[32m----> \u001b[39m\u001b[32m2\u001b[39m df_reg = \u001b[43mdf\u001b[49m[[\u001b[33m\"\u001b[39m\u001b[33mSMILES\u001b[39m\u001b[33m\"\u001b[39m,\u001b[33m\"\u001b[39m\u001b[33mMelting Point\u001b[39m\u001b[33m\"\u001b[39m]].dropna().copy()\n\u001b[32m      3\u001b[39m df_reg.to_csv(\u001b[33m\"\u001b[39m\u001b[33mmp_data.csv\u001b[39m\u001b[33m\"\u001b[39m, index=\u001b[38;5;28;01mFalse\u001b[39;00m)\n\u001b[32m      5\u001b[39m get_ipython().system(\u001b[33m'\u001b[39m\u001b[33mchemprop train    --data-path mp_data.csv    -t regression    -s SMILES    --target-columns \u001b[39m\u001b[33m\"\u001b[39m\u001b[33mMelting Point\u001b[39m\u001b[33m\"\u001b[39m\u001b[33m    -o mp_model_q4    --num-replicates 1    --epochs 20    --metrics mae rmse r2    --tracking-metric r2\u001b[39m\u001b[33m'\u001b[39m)\n",
      "\u001b[31mNameError\u001b[39m: name 'df' is not defined"
     ]
    }
   ],
   "source": [
    "# Q4 solution\n",
    "df_reg = df[[\"SMILES\",\"Melting Point\"]].dropna().copy()\n",
    "df_reg.to_csv(\"mp_data.csv\", index=False)\n",
    "\n",
    "!chemprop train \\\n",
    "  --data-path mp_data.csv \\\n",
    "  -t regression \\\n",
    "  -s SMILES \\\n",
    "  --target-columns \"Melting Point\" \\\n",
    "  -o mp_model_q4 \\\n",
    "  --num-replicates 1 \\\n",
    "  --epochs 20 \\\n",
    "  --metrics mae rmse r2 \\\n",
    "  --tracking-metric r2\n",
    "\n",
    "pd.DataFrame({\"SMILES\": [\"CCO\",\"c1ccccc1\",\"CC(=O)O\",\"CCN(CC)CC\",\"O=C(O)C(O)C\"]}).to_csv(\"q4_smiles.csv\", index=False)\n",
    "\n",
    "!chemprop predict \\\n",
    "  --test-path q4_smiles.csv \\\n",
    "  --model-paths mp_model_q4/replicate_0/model_0/best.pt \\\n",
    "  --preds-path q4_preds.csv\n",
    "\n",
    "pd.read_csv(\"q4_preds.csv\")"
   ]
  },
  {
   "cell_type": "markdown",
   "id": "96909a59",
   "metadata": {},
   "source": [
    "### Solution Q2"
   ]
  },
  {
   "cell_type": "code",
   "execution_count": null,
   "id": "1fcb5755",
   "metadata": {},
   "outputs": [],
   "source": [
    "# Q5 solution\n",
    "df = pd.read_csv(url)\n",
    "df = df[[\"SMILES\",\"Toxicity\"]].dropna().copy()\n",
    "df[\"Toxicity_bin\"] = df[\"Toxicity\"].str.lower().map({\"toxic\":1, \"non_toxic\":0}).astype(int)\n",
    "df[[\"SMILES\",\"Toxicity_bin\"]].to_csv(\"tox_data.csv\", index=False)\n",
    "\n",
    "!chemprop train \\\n",
    "  --data-path tox_data.csv \\\n",
    "  -t classification \\\n",
    "  -s SMILES \\\n",
    "  --target-columns Toxicity_bin \\\n",
    "  -o tox_model \\\n",
    "  --num-replicates 1 \\\n",
    "  --epochs 20 \\\n",
    "  --class-balance \\\n",
    "  --metrics roc prc accuracy \\\n",
    "  --tracking-metric roc\n",
    "\n",
    "pd.DataFrame({\"SMILES\": [\"CCO\",\"c1ccccc1\",\"O=[N+](=O)[O-]\",\"ClCCl\",\"CC(=O)Cl\"]}).to_csv(\"q5_smiles.csv\", index=False)\n",
    "\n",
    "!chemprop predict \\\n",
    "  --test-path q5_smiles.csv \\\n",
    "  --model-paths tox_model/replicate_0/model_0/best.pt \\\n",
    "  --preds-path q5_preds.csv\n",
    "\n",
    "pd.read_csv(\"q5_preds.csv\")"
   ]
  }
 ],
 "metadata": {
  "jupytext": {
   "text_representation": {
    "extension": ".md",
    "format_name": "myst",
    "format_version": 0.13,
    "jupytext_version": "1.16.4"
   }
  },
  "kernelspec": {
   "display_name": "Python 3",
   "language": "python",
   "name": "python3"
  },
  "language_info": {
   "codemirror_mode": {
    "name": "ipython",
    "version": 3
   },
   "file_extension": ".py",
   "mimetype": "text/x-python",
   "name": "python",
   "nbconvert_exporter": "python",
   "pygments_lexer": "ipython3",
   "version": "3.13.5"
  },
  "source_map": [
   12,
   30,
   54,
   57
  ]
 },
 "nbformat": 4,
 "nbformat_minor": 5
}