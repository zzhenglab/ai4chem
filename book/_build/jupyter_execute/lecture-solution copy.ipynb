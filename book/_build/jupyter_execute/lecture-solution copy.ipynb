{
 "cells": [
  {
   "cell_type": "markdown",
   "id": "600b16f7",
   "metadata": {},
   "source": [
    "## 9. Solutions\n",
    "\n",
    "Open after you try Section 8.\n",
    "\n",
    "### Solution 8.1"
   ]
  },
  {
   "cell_type": "code",
   "execution_count": 1,
   "id": "533f5cf8",
   "metadata": {},
   "outputs": [
    {
     "data": {
      "image/jpeg": "[encoded data removed]",
      "image/png": "[encoded data removed]",
      "text/plain": [
       "<PIL.PngImagePlugin.PngImageFile image mode=RGB size=350x250>"
      ]
     },
     "metadata": {},
     "output_type": "display_data"
    },
    {
     "name": "stdout",
     "output_type": "stream",
     "text": [
      "rings: <rdkit.rdBase._vectclass std::vector<int,class std::allocator<int> > object at 0x000002B4A3A718C0>\n",
      "bond 0 0 - 1 order 2\n",
      "bond 1 1 - 2 order 1\n",
      "bond 2 1 - 3 order 1\n",
      "bond 3 3 - 4 order 1\n",
      "bond 4 4 - 5 order 1\n",
      "bond 5 5 - 6 order 1\n",
      "bond 6 6 - 7 order 1\n",
      "bond 7 7 - 8 order 1\n",
      "bond 8 8 - 9 order 1\n",
      "bond 9 8 - 3 order 1\n"
     ]
    }
   ],
   "source": [
    "from rdkit import Chem\n",
    "from rdkit.Chem import Draw\n",
    "\n",
    "smi = \"O=C(O)c1ccccc1Cl\"\n",
    "\n",
    "mol = Chem.MolFromSmiles(smi)\n",
    "display(Draw.MolToImage(mol, size=(350, 250), includeAtomNumbers=True))\n",
    "\n",
    "num_rings = Chem.GetSSSR(mol)\n",
    "print(\"rings:\", num_rings)\n",
    "\n",
    "for b in mol.GetBonds():\n",
    "    print(\"bond\", b.GetIdx(), b.GetBeginAtomIdx(), \"-\", b.GetEndAtomIdx(), \"order\", int(b.GetBondTypeAsDouble()))"
   ]
  },
  {
   "cell_type": "markdown",
   "id": "b8af6d8e",
   "metadata": {},
   "source": [
    "### Solution 8.2"
   ]
  },
  {
   "cell_type": "code",
   "execution_count": 2,
   "id": "957c505f",
   "metadata": {},
   "outputs": [
    {
     "ename": "NameError",
     "evalue": "name 'pubchem_smiles_by_name' is not defined",
     "output_type": "error",
     "traceback": [
      "\u001b[1;31m---------------------------------------------------------------------------\u001b[0m",
      "\u001b[1;31mNameError\u001b[0m                                 Traceback (most recent call last)",
      "Cell \u001b[1;32mIn[2], line 7\u001b[0m\n\u001b[0;32m      5\u001b[0m rows \u001b[38;5;241m=\u001b[39m []\n\u001b[0;32m      6\u001b[0m \u001b[38;5;28;01mfor\u001b[39;00m nm \u001b[38;5;129;01min\u001b[39;00m names:\n\u001b[1;32m----> 7\u001b[0m     info \u001b[38;5;241m=\u001b[39m \u001b[43mpubchem_smiles_by_name\u001b[49m(nm)\n\u001b[0;32m      8\u001b[0m     smi \u001b[38;5;241m=\u001b[39m info[\u001b[38;5;124m\"\u001b[39m\u001b[38;5;124msmiles\u001b[39m\u001b[38;5;124m\"\u001b[39m]\n\u001b[0;32m      9\u001b[0m     m \u001b[38;5;241m=\u001b[39m Chem\u001b[38;5;241m.\u001b[39mMolFromSmiles(smi)\n",
      "\u001b[1;31mNameError\u001b[0m: name 'pubchem_smiles_by_name' is not defined"
     ]
    }
   ],
   "source": [
    "import pandas as pd\n",
    "from rdkit.Chem import Descriptors, Crippen, rdMolDescriptors\n",
    "\n",
    "names = [\"caffeine\", \"acetaminophen\", \"ibuprofen\"]\n",
    "rows = []\n",
    "for nm in names:\n",
    "    info = pubchem_smiles_by_name(nm)\n",
    "    smi = info[\"smiles\"]\n",
    "    m = Chem.MolFromSmiles(smi)\n",
    "    rows.append({\n",
    "        \"name\": nm,\n",
    "        \"smiles\": smi,\n",
    "        \"MolWt\": Descriptors.MolWt(m),\n",
    "        \"LogP\": Crippen.MolLogP(m),\n",
    "        \"HBD\": rdMolDescriptors.CalcNumHBD(m),\n",
    "        \"HBA\": rdMolDescriptors.CalcNumHBA(m),\n",
    "        \"TPSA\": rdMolDescriptors.CalcTPSA(m)\n",
    "    })\n",
    "\n",
    "pd.DataFrame(rows)"
   ]
  },
  {
   "cell_type": "markdown",
   "id": "b920ee10",
   "metadata": {},
   "source": [
    "### Solution 8.3"
   ]
  },
  {
   "cell_type": "code",
   "execution_count": null,
   "id": "3307d639",
   "metadata": {},
   "outputs": [],
   "source": [
    "find = Chem.MolFromSmiles(\"Cl\")\n",
    "put  = Chem.MolFromSmiles(\"F\")\n",
    "mol  = Chem.MolFromSmiles(\"Clc1ccc(cc1)C(=O)O\")\n",
    "out  = Chem.ReplaceSubstructs(mol, find, put, replaceAll=True)[0]\n",
    "print(Chem.MolToSmiles(out))\n",
    "Draw.MolToImage(out, size=(350, 250))"
   ]
  },
  {
   "cell_type": "markdown",
   "id": "248768d8",
   "metadata": {},
   "source": [
    "### Solution 8.4"
   ]
  },
  {
   "cell_type": "code",
   "execution_count": null,
   "id": "03fc212f",
   "metadata": {},
   "outputs": [],
   "source": [
    "mol = Chem.MolFromSmiles(\"c1ccccc1\")\n",
    "em = Chem.EditableMol(mol)\n",
    "\n",
    "idx_C = em.AddAtom(Chem.Atom(\"C\"))\n",
    "idx_H1 = em.AddAtom(Chem.Atom(\"H\"))\n",
    "idx_H2 = em.AddAtom(Chem.Atom(\"H\"))\n",
    "idx_H3 = em.AddAtom(Chem.Atom(\"H\"))\n",
    "\n",
    "em.AddBond(2, idx_C, order=Chem.BondType.SINGLE)\n",
    "em.AddBond(idx_C, idx_H1, order=Chem.BondType.SINGLE)\n",
    "em.AddBond(idx_C, idx_H2, order=Chem.BondType.SINGLE)\n",
    "em.AddBond(idx_C, idx_H3, order=Chem.BondType.SINGLE)\n",
    "\n",
    "mol2 = em.GetMol()\n",
    "Chem.SanitizeMol(mol2)\n",
    "Draw.MolToImage(mol2, size=(350, 250), includeAtomNumbers=True)"
   ]
  },
  {
   "cell_type": "markdown",
   "id": "8b62f882",
   "metadata": {},
   "source": [
    "### Solution 8.5"
   ]
  },
  {
   "cell_type": "code",
   "execution_count": null,
   "id": "12bc11f4",
   "metadata": {},
   "outputs": [],
   "source": [
    "mixed = [\"446157\", \"2244\", \"CCO\", \"482752\", \"c1ccccc1\"]\n",
    "\n",
    "for q in mixed:\n",
    "    if q.isdigit():  # looks like CID\n",
    "        info = pubchem_smiles_by_cid(int(q))\n",
    "        smi, cid = info[\"smiles\"], info[\"cid\"]\n",
    "    elif Chem.MolFromSmiles(q):  # parses as SMILES\n",
    "        smi, cid = q, None\n",
    "    else:  # treat as name\n",
    "        info = pubchem_smiles_by_name(q)\n",
    "        smi, cid = info[\"smiles\"], info[\"cid\"]\n",
    "    print(f\"input={q} CID={cid} SMILES={smi}\")\n",
    "    mol = Chem.MolFromSmiles(smi)\n",
    "    display(Draw.MolToImage(mol, size=(260, 200)))"
   ]
  }
 ],
 "metadata": {
  "jupytext": {
   "text_representation": {
    "extension": ".md",
    "format_name": "myst",
    "format_version": 0.13,
    "jupytext_version": "1.16.4"
   }
  },
  "kernelspec": {
   "display_name": "Python 3",
   "language": "python",
   "name": "python3"
  },
  "language_info": {
   "codemirror_mode": {
    "name": "ipython",
    "version": 3
   },
   "file_extension": ".py",
   "mimetype": "text/x-python",
   "name": "python",
   "nbconvert_exporter": "python",
   "pygments_lexer": "ipython3",
   "version": "3.8.10"
  },
  "source_map": [
   12,
   31,
   45,
   49,
   70,
   74,
   81,
   85,
   102,
   106
  ]
 },
 "nbformat": 4,
 "nbformat_minor": 5
}