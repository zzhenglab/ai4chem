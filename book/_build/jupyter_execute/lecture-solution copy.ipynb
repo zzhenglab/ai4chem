{
 "cells": [
  {
   "cell_type": "markdown",
   "id": "ff3f4b84",
   "metadata": {},
   "source": [
    "---\n",
    "\n",
    "## lecture 13"
   ]
  },
  {
   "cell_type": "code",
   "execution_count": 1,
   "id": "5dddeb25",
   "metadata": {},
   "outputs": [
    {
     "ename": "NameError",
     "evalue": "name 'torch' is not defined",
     "output_type": "error",
     "traceback": [
      "\u001b[31m---------------------------------------------------------------------------\u001b[39m",
      "\u001b[31mNameError\u001b[39m                                 Traceback (most recent call last)",
      "\u001b[36mCell\u001b[39m\u001b[36m \u001b[39m\u001b[32mIn[1]\u001b[39m\u001b[32m, line 4\u001b[39m\n\u001b[32m      1\u001b[39m \u001b[38;5;28;01mfrom\u001b[39;00m\u001b[38;5;250m \u001b[39m\u001b[34;01mtorch\u001b[39;00m\u001b[34;01m.\u001b[39;00m\u001b[34;01mutils\u001b[39;00m\u001b[34;01m.\u001b[39;00m\u001b[34;01mdata\u001b[39;00m\u001b[38;5;250m \u001b[39m\u001b[38;5;28;01mimport\u001b[39;00m TensorDataset, DataLoader\n\u001b[32m      3\u001b[39m dl_desc = DataLoader(\n\u001b[32m----> \u001b[39m\u001b[32m4\u001b[39m     TensorDataset(\u001b[43mtorch\u001b[49m.from_numpy(Xz.astype(np.float32))),\n\u001b[32m      5\u001b[39m     batch_size=\u001b[32m64\u001b[39m,\n\u001b[32m      6\u001b[39m     shuffle=\u001b[38;5;28;01mTrue\u001b[39;00m,\n\u001b[32m      7\u001b[39m )\n\u001b[32m      9\u001b[39m \u001b[38;5;66;03m# 3D latent AE and training loop (unpack with (xb,))\u001b[39;00m\n\u001b[32m     10\u001b[39m ae3 = TinyAE(in_dim=\u001b[32m10\u001b[39m, hid=\u001b[32m64\u001b[39m, z_dim=\u001b[32m3\u001b[39m)\n",
      "\u001b[31mNameError\u001b[39m: name 'torch' is not defined"
     ]
    }
   ],
   "source": [
    "from torch.utils.data import TensorDataset, DataLoader\n",
    "\n",
    "dl_desc = DataLoader(\n",
    "    TensorDataset(torch.from_numpy(Xz.astype(np.float32))),\n",
    "    batch_size=64,\n",
    "    shuffle=True,\n",
    ")\n",
    "\n",
    "# 3D latent AE and training loop (unpack with (xb,))\n",
    "ae3 = TinyAE(in_dim=10, hid=64, z_dim=3)\n",
    "opt = optim.Adam(ae3.parameters(), lr=1e-3)\n",
    "\n",
    "for ep in range(4):\n",
    "    for (xb,) in dl_desc:\n",
    "        xr, z = ae3(xb)\n",
    "        loss = nn.functional.mse_loss(xr, xb)\n",
    "        opt.zero_grad(); loss.backward(); opt.step()\n",
    "\n",
    "# Encode with the trained model\n",
    "with torch.no_grad():\n",
    "    Z3 = ae3.encode(torch.from_numpy(Xz.astype(np.float32))).numpy()\n",
    "\n",
    "\n",
    "fig = plt.figure(figsize=(6, 5))\n",
    "ax = fig.add_subplot(111, projection=\"3d\")\n",
    "\n",
    "p = ax.scatter(\n",
    "    Z3[:, 0], Z3[:, 1], Z3[:, 2],\n",
    "    c=df_small[\"LogP\"].values,\n",
    "    s=12, alpha=0.85\n",
    ")\n",
    "ax.set_xlabel(\"z0\"); ax.set_ylabel(\"z1\"); ax.set_zlabel(\"z2\")\n",
    "ax.set_title(\"AE latent space (3D), color = LogP\")\n",
    "cb = fig.colorbar(p, ax=ax, shrink=0.7, pad=0.1)\n",
    "cb.set_label(\"LogP\")\n",
    "plt.show()\n",
    "\n"
   ]
  },
  {
   "cell_type": "markdown",
   "id": "36d87e24",
   "metadata": {},
   "source": [
    "q2"
   ]
  },
  {
   "cell_type": "code",
   "execution_count": null,
   "id": "86bfdb45",
   "metadata": {},
   "outputs": [],
   "source": [
    "for t in [0.01, 0.1, 0.3, 0.5, 1.0, 1.5, 2]:\n",
    "    raw = sample_smiles(n=800, temp=t)\n",
    "    val = len(canonicalize_batch(raw)) / max(1, len(raw))\n",
    "    print(f\"T={t}: validity {val:.2f}\")\n"
   ]
  }
 ],
 "metadata": {
  "jupytext": {
   "text_representation": {
    "extension": ".md",
    "format_name": "myst",
    "format_version": 0.13,
    "jupytext_version": "1.16.4"
   }
  },
  "kernelspec": {
   "display_name": "Python 3",
   "language": "python",
   "name": "python3"
  },
  "language_info": {
   "codemirror_mode": {
    "name": "ipython",
    "version": 3
   },
   "file_extension": ".py",
   "mimetype": "text/x-python",
   "name": "python",
   "nbconvert_exporter": "python",
   "pygments_lexer": "ipython3",
   "version": "3.13.5"
  },
  "source_map": [
   12,
   23,
   62,
   67
  ]
 },
 "nbformat": 4,
 "nbformat_minor": 5
}