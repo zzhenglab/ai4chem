{
 "cells": [
  {
   "cell_type": "markdown",
   "id": "d377cfdb",
   "metadata": {},
   "source": [
    "## 6. In-class activity\n",
    "\n",
    "### Q1. Identify PU pieces from LU toy data\n",
    "Using the LU toy data you built (`X_lab`, `y_lab_noisy`, `X_unlab`), create a PU view by revealing only a fraction of the true positives as labeled. Report the shapes of P and U.\n",
    "\n",
    "**Task**\n",
    "1. From `y_lab_noisy`, take indices where `y=1`.\n",
    "2. Reveal 30% at random as P.\n",
    "3. Put the rest of `X_lab` plus all `X_unlab` into U.\n",
    "4. Print shapes of P and U."
   ]
  },
  {
   "cell_type": "code",
   "execution_count": 1,
   "id": "c75b1c23",
   "metadata": {},
   "outputs": [
    {
     "ename": "NameError",
     "evalue": "name 'np' is not defined",
     "output_type": "error",
     "traceback": [
      "\u001b[31m---------------------------------------------------------------------------\u001b[39m",
      "\u001b[31mNameError\u001b[39m                                 Traceback (most recent call last)",
      "\u001b[36mCell\u001b[39m\u001b[36m \u001b[39m\u001b[32mIn[1]\u001b[39m\u001b[32m, line 1\u001b[39m\n\u001b[32m----> \u001b[39m\u001b[32m1\u001b[39m rng = \u001b[43mnp\u001b[49m.random.default_rng(\u001b[32m17\u001b[39m)\n\u001b[32m      3\u001b[39m pos_idx = np.where(y_lab_noisy == \u001b[32m1\u001b[39m)[\u001b[32m0\u001b[39m]\n\u001b[32m      4\u001b[39m reveal = rng.random(\u001b[38;5;28mlen\u001b[39m(pos_idx)) < \u001b[32m0.30\u001b[39m\n",
      "\u001b[31mNameError\u001b[39m: name 'np' is not defined"
     ]
    }
   ],
   "source": [
    "rng = np.random.default_rng(17)\n",
    "\n",
    "pos_idx = np.where(y_lab_noisy == 1)[0]\n",
    "reveal = rng.random(len(pos_idx)) < 0.30\n",
    "P_idx = pos_idx[reveal]\n",
    "\n",
    "X_P = X_lab[P_idx]\n",
    "mask_lab_rest = np.ones(len(X_lab), dtype=bool)\n",
    "mask_lab_rest[P_idx] = False\n",
    "X_U = np.vstack([X_lab[mask_lab_rest], X_unlab])\n",
    "\n",
    "print(\"P shape:\", X_P.shape, \" U shape:\", X_U.shape)"
   ]
  },
  {
   "cell_type": "markdown",
   "id": "eb26767e",
   "metadata": {},
   "source": [
    "---\n",
    "\n",
    "### Q2. Train the s-model and estimate c-hat under SCAR\n",
    "Train a classifier to predict selection `s` using P vs U. Then estimate `ĉ` by averaging `P(s=1|x)` on a held out split of P.\n",
    "\n",
    "**Task**\n",
    "1. Build `X_s`, `s_lab`.\n",
    "2. Fit `LogisticRegression` or `RandomForestClassifier` (you decide).\n",
    "3. Split P into train and holdout, compute `ĉ` as mean predicted probability on the holdout."
   ]
  },
  {
   "cell_type": "code",
   "execution_count": null,
   "id": "e7ed6422",
   "metadata": {},
   "outputs": [],
   "source": [
    "# Build s-dataset\n",
    "X_s = np.vstack([X_P, X_U])\n",
    "s_lab = np.hstack([np.ones(len(X_P), dtype=int), np.zeros(len(X_U), dtype=int)])\n",
    "\n",
    "sc_s = StandardScaler().fit(X_s)\n",
    "Xs_s = sc_s.transform(X_s)\n",
    "\n",
    "s_clf = LogisticRegression(max_iter=400, random_state=17).fit(Xs_s, s_lab)\n",
    "\n",
    "# Estimate c-hat on a P holdout\n",
    "XP_tr, XP_ho = train_test_split(X_P, test_size=0.2, random_state=17)\n",
    "c_hat = s_clf.predict_proba(sc_s.transform(XP_ho))[:, 1].mean() if len(XP_ho) else 0.5\n",
    "print(\"c_hat:\", round(float(c_hat), 4))"
   ]
  },
  {
   "cell_type": "markdown",
   "id": "fd5dac25",
   "metadata": {},
   "source": [
    "---\n",
    "\n",
    "### Q3. Convert s-scores to PU probabilities and rank candidates\n",
    "Use the Elkan–Noto link under SCAR. Compute `P(y=1|x) ≈ P(s=1|x)/ĉ` and rank the top 10 U points.\n",
    "\n",
    "**Task**\n",
    "1. Score all U with the s-model.\n",
    "2. Divide by `ĉ` and clip to `[0,1]`.\n",
    "3. Show indices of the top 10 U points by PU probability."
   ]
  },
  {
   "cell_type": "code",
   "execution_count": null,
   "id": "914866a9",
   "metadata": {},
   "outputs": [],
   "source": [
    "p_s_u = s_clf.predict_proba(sc_s.transform(X_U))[:, 1]\n",
    "p_y_u = np.clip(p_s_u / max(1e-6, c_hat), 0, 1)\n",
    "\n",
    "top10 = np.argsort(-p_y_u)[:10]\n",
    "pd.DataFrame({\"u_index\": top10, \"p_y_hat\": p_y_u[top10]}).reset_index(drop=True)"
   ]
  },
  {
   "cell_type": "markdown",
   "id": "04746173",
   "metadata": {},
   "source": [
    "---\n",
    "\n",
    "### Q4. Threshold selection by prior and by quantile\n",
    "Pick candidates from U using two rules. Compare how many items each rule selects.\n",
    "\n",
    "**Task**\n",
    "1. Prior-guided threshold: estimate `π̂ = mean(p_y)` on the full candidate set `X_lab ∪ X_unlab` then pick top `π̂` fraction of U.\n",
    "2. Fixed-quantile threshold: pick top 25% of U.\n",
    "3. Report counts."
   ]
  },
  {
   "cell_type": "code",
   "execution_count": null,
   "id": "2bc13fe7",
   "metadata": {},
   "outputs": [],
   "source": [
    "# Score everyone to estimate a coarse prior\n",
    "X_all = np.vstack([X_lab, X_unlab])\n",
    "p_s_all = s_clf.predict_proba(sc_s.transform(X_all))[:, 1]\n",
    "p_y_all = np.clip(p_s_all / max(1e-6, c_hat), 0, 1)\n",
    "\n",
    "pi_hat = float(p_y_all.mean())\n",
    "\n",
    "# 1) Prior-guided threshold\n",
    "thr_pi = np.quantile(p_y_u, 1 - min(max(pi_hat, 0.01), 0.99))\n",
    "sel_pi = np.where(p_y_u >= thr_pi)[0]\n",
    "\n",
    "# 2) Fixed-quantile 25%\n",
    "thr_q = np.quantile(p_y_u, 0.75)\n",
    "sel_q = np.where(p_y_u >= thr_q)[0]\n",
    "\n",
    "print(f\"pi_hat={pi_hat:.3f}  thr_pi={thr_pi:.3f}  selected_by_prior={len(sel_pi)}\")\n",
    "print(f\"thr_q(25%)={thr_q:.3f}  selected_by_quantile={len(sel_q)}\")"
   ]
  }
 ],
 "metadata": {
  "jupytext": {
   "text_representation": {
    "extension": ".md",
    "format_name": "myst",
    "format_version": 0.13,
    "jupytext_version": "1.16.4"
   }
  },
  "kernelspec": {
   "display_name": "Python 3",
   "language": "python",
   "name": "python3"
  },
  "language_info": {
   "codemirror_mode": {
    "name": "ipython",
    "version": 3
   },
   "file_extension": ".py",
   "mimetype": "text/x-python",
   "name": "python",
   "nbconvert_exporter": "python",
   "pygments_lexer": "ipython3",
   "version": "3.13.5"
  },
  "source_map": [
   12,
   28,
   41,
   53,
   67,
   79,
   85,
   97
  ]
 },
 "nbformat": 4,
 "nbformat_minor": 5
}