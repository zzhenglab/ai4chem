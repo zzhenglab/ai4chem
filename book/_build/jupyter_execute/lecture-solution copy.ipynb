{
 "cells": [
  {
   "cell_type": "markdown",
   "id": "bb6615ca",
   "metadata": {},
   "source": [
    "## 11. Solutions\n",
    "\n",
    "### 11.1 Solution Q1"
   ]
  },
  {
   "cell_type": "code",
   "execution_count": 1,
   "id": "9b49cb38",
   "metadata": {},
   "outputs": [
    {
     "ename": "NameError",
     "evalue": "name 'df_reg_mp' is not defined",
     "output_type": "error",
     "traceback": [
      "\u001b[31m---------------------------------------------------------------------------\u001b[39m",
      "\u001b[31mNameError\u001b[39m                                 Traceback (most recent call last)",
      "\u001b[36mCell\u001b[39m\u001b[36m \u001b[39m\u001b[32mIn[1]\u001b[39m\u001b[32m, line 2\u001b[39m\n\u001b[32m      1\u001b[39m \u001b[38;5;66;03m# Log target\u001b[39;00m\n\u001b[32m----> \u001b[39m\u001b[32m2\u001b[39m df_reg_mp = \u001b[43mdf_reg_mp\u001b[49m.copy()\n\u001b[32m      3\u001b[39m y_log = np.log10(df_reg_mp[\u001b[33m\"\u001b[39m\u001b[33mSolubility_mol_per_L\u001b[39m\u001b[33m\"\u001b[39m] + \u001b[32m1e-6\u001b[39m)\n\u001b[32m      5\u001b[39m \u001b[38;5;66;03m# Features and split\u001b[39;00m\n",
      "\u001b[31mNameError\u001b[39m: name 'df_reg_mp' is not defined"
     ]
    }
   ],
   "source": [
    "# Log target\n",
    "df_reg_mp = df_reg_mp.copy()\n",
    "y_log = np.log10(df_reg_mp[\"Solubility_mol_per_L\"] + 1e-6)\n",
    "\n",
    "# Features and split\n",
    "X = df_reg_mp[[\"MolWt\",\"LogP\",\"TPSA\",\"NumRings\"]].values\n",
    "X_tr, X_te, y_tr, y_te = train_test_split(X, y_log, test_size=0.2, random_state=15)\n",
    "\n",
    "# Plots\n",
    "plt.figure(figsize=(5,3))\n",
    "plt.hist(y_log, bins=30, alpha=0.85)\n",
    "plt.xlabel(\"log10(Solubility + 1e-6)\"); plt.ylabel(\"Count\"); plt.title(\"Log-solubility\")\n",
    "plt.show()\n",
    "\n",
    "pd.plotting.scatter_matrix(df_reg_mp[[\"MolWt\",\"LogP\",\"TPSA\",\"NumRings\"]], figsize=(5.5,5.5))\n",
    "plt.suptitle(\"Descriptor scatter matrix\", y=1.02); plt.show()"
   ]
  },
  {
   "cell_type": "markdown",
   "id": "f632d929",
   "metadata": {},
   "source": [
    "### 11.2 Solution Q2"
   ]
  },
  {
   "cell_type": "code",
   "execution_count": null,
   "id": "f247dca2",
   "metadata": {},
   "outputs": [],
   "source": [
    "cv = KFold(n_splits=5, shuffle=True, random_state=1)\n",
    "alphas = np.logspace(-2, 3, 12)\n",
    "means = [cross_val_score(Ridge(alpha=a), X_tr, y_tr, cv=cv, scoring=\"r2\").mean() for a in alphas]\n",
    "best_a = float(alphas[int(np.argmax(means))])\n",
    "ridge_best = Ridge(alpha=best_a).fit(X_tr, y_tr)\n",
    "print(f\"best alpha={best_a:.4f}  CV mean R2={max(means):.3f}\")"
   ]
  },
  {
   "cell_type": "markdown",
   "id": "15f36410",
   "metadata": {},
   "source": [
    "### 11.3 Solution Q3"
   ]
  },
  {
   "cell_type": "code",
   "execution_count": null,
   "id": "bf3ebc16",
   "metadata": {},
   "outputs": [],
   "source": [
    "y_hat = ridge_best.predict(X_te)\n",
    "print(f\"Test MSE={mean_squared_error(y_te,y_hat):.4f}  \"\n",
    "      f\"MAE={mean_absolute_error(y_te,y_hat):.4f}  \"\n",
    "      f\"R2={r2_score(y_te,y_hat):.3f}\")\n",
    "\n",
    "plt.figure(figsize=(4.2,4))\n",
    "plt.scatter(y_te, y_hat, alpha=0.7)\n",
    "lims = [min(y_te.min(), y_hat.min()), max(y_te.max(), y_hat.max())]\n",
    "plt.plot(lims, lims, \"k--\", lw=1)\n",
    "plt.xlabel(\"True log-solubility\"); plt.ylabel(\"Predicted\"); plt.title(\"Parity — Ridge\"); plt.show()\n",
    "\n",
    "resid = y_te - y_hat\n",
    "plt.figure(figsize=(4.2,4))\n",
    "plt.scatter(y_hat, resid, alpha=0.7); plt.axhline(0, color=\"k\", ls=\":\")\n",
    "plt.xlabel(\"Predicted\"); plt.ylabel(\"Residual\"); plt.title(\"Residuals — Ridge\"); plt.show()"
   ]
  },
  {
   "cell_type": "markdown",
   "id": "d126677a",
   "metadata": {},
   "source": [
    "### 11.4 Solution Q4"
   ]
  },
  {
   "cell_type": "code",
   "execution_count": null,
   "id": "85c6122c",
   "metadata": {},
   "outputs": [],
   "source": [
    "X_new = np.array([\n",
    "    [135.0,  2.0,  9.2, 2],   # Molecule A\n",
    "    [301.0,  0.5, 17.7, 2]    # Molecule B\n",
    "])  # descriptors: [MolWt, LogP, TPSA, NumRings]\n",
    "\n",
    "y_new = ridge_best.predict(X_new)\n",
    "print(pd.DataFrame({\n",
    "    \"MolWt\": X_new[:,0], \"LogP\": X_new[:,1], \"TPSA\": X_new[:,2], \"NumRings\": X_new[:,3],\n",
    "    \"Predicted log10(solubility)\": y_new\n",
    "}))"
   ]
  },
  {
   "cell_type": "markdown",
   "id": "0af6c687",
   "metadata": {},
   "source": [
    "### 11.5 Solution Q5"
   ]
  },
  {
   "cell_type": "code",
   "execution_count": null,
   "id": "6943a2f4",
   "metadata": {},
   "outputs": [],
   "source": [
    "feat = [\"MolWt\",\"LogP\",\"TPSA\",\"NumRings\"]\n",
    "\n",
    "coef_ser = pd.Series(ridge_best.coef_, index=feat).sort_values(key=np.abs, ascending=False)\n",
    "print(\"Ridge coefficients:\\n\", coef_ser)\n",
    "coef_ser.plot(kind=\"barh\"); plt.gca().invert_yaxis()\n",
    "plt.xlabel(\"Coefficient\"); plt.title(\"Ridge coefficients\"); plt.show()\n",
    "\n",
    "perm = permutation_importance(ridge_best, X_te, y_te, scoring=\"r2\", n_repeats=30, random_state=1)\n",
    "perm_ser = pd.Series(perm.importances_mean, index=feat).sort_values()\n",
    "perm_ser.plot(kind=\"barh\"); plt.xlabel(\"Mean decrease in R²\"); plt.title(\"Permutation importance on test\"); plt.show()"
   ]
  },
  {
   "cell_type": "markdown",
   "id": "f1050e05",
   "metadata": {},
   "source": [
    "---\n",
    "\n",
    "\n",
    "\n",
    "\n",
    "## 8. Solutions\n",
    "\n",
    "\n",
    "### 8.1 Tree vs Forest on log-solubility\n",
    "\n",
    "Goal: predict log-solubility and compare a small tree to a forest."
   ]
  },
  {
   "cell_type": "code",
   "execution_count": null,
   "id": "72d454fb",
   "metadata": {},
   "outputs": [],
   "source": [
    "# Create target: log10(solubility + 1e-6) to avoid log(0)\n",
    "# If your dataframe already has a numeric solubility column named 'Solubility_mol_per_L', reuse it.\n",
    "df_sol = df.copy()\n",
    "df_sol[\"y_log\"] = np.log10(df_sol[\"Solubility_mol_per_L\"] + 1e-6)\n",
    "\n",
    "Xs = df_sol[[\"MolWt\", \"LogP\", \"TPSA\", \"NumRings\"]].dropna()\n",
    "ys = df_sol.loc[Xs.index, \"y_log\"]\n",
    "\n",
    "Xs_train, Xs_test, ys_train, ys_test = train_test_split(\n",
    "    Xs, ys, test_size=0.2, random_state=42\n",
    ")\n",
    "\n",
    "# Models\n",
    "tree_sol = DecisionTreeRegressor(max_depth=4, min_samples_leaf=5, random_state=0).fit(Xs_train, ys_train)\n",
    "rf_sol   = RandomForestRegressor(n_estimators=300, min_samples_leaf=5, random_state=0, n_jobs=-1).fit(Xs_train, ys_train)\n",
    "\n",
    "# Scores\n",
    "yhat_tree = tree_sol.predict(Xs_test)\n",
    "yhat_rf   = rf_sol.predict(Xs_test)\n",
    "\n",
    "print(f\"Tree R2:   {r2_score(ys_test, yhat_tree):.3f}\")\n",
    "print(f\"Forest R2: {r2_score(ys_test, yhat_rf):.3f}\")"
   ]
  },
  {
   "cell_type": "markdown",
   "id": "b6c308dc",
   "metadata": {},
   "source": [
    "Parity plots for both models."
   ]
  },
  {
   "cell_type": "code",
   "execution_count": null,
   "id": "8ab0e061",
   "metadata": {},
   "outputs": [],
   "source": [
    "# Parity for tree\n",
    "plt.scatter(ys_test, yhat_tree, alpha=0.6)\n",
    "lims = [min(ys_test.min(), yhat_tree.min()), max(ys_test.max(), yhat_tree.max())]\n",
    "plt.plot(lims, lims, \"k--\")\n",
    "plt.xlabel(\"True\")\n",
    "plt.ylabel(\"Predicted\")\n",
    "plt.title(\"Parity plot: Tree on log-solubility\")\n",
    "plt.show()\n",
    "\n",
    "# Parity for forest\n",
    "plt.scatter(ys_test, yhat_rf, alpha=0.6)\n",
    "lims = [min(ys_test.min(), yhat_rf.min()), max(ys_test.max(), yhat_rf.max())]\n",
    "plt.plot(lims, lims, \"k--\")\n",
    "plt.xlabel(\"True\")\n",
    "plt.ylabel(\"Predicted\")\n",
    "plt.title(\"Parity plot: Forest on log-solubility\")\n",
    "plt.show()"
   ]
  },
  {
   "cell_type": "markdown",
   "id": "5063ebfd",
   "metadata": {},
   "source": [
    "---\n",
    "\n",
    "### 8.2 Pruning with `min_samples_leaf`\n",
    "\n",
    "Fix `max_depth=None` for a classifier on toxicity and sweep leaf size."
   ]
  },
  {
   "cell_type": "code",
   "execution_count": null,
   "id": "9e1e3c73",
   "metadata": {},
   "outputs": [],
   "source": [
    "leaf_grid = [1, 2, 3, 5, 8, 12, 20]\n",
    "accs = []\n",
    "\n",
    "for leaf in leaf_grid:\n",
    "    clf = DecisionTreeClassifier(max_depth=None, min_samples_leaf=leaf, random_state=0).fit(X_train, y_train)\n",
    "    accs.append(accuracy_score(y_test, clf.predict(X_test)))\n",
    "\n",
    "pd.DataFrame({\"min_samples_leaf\": leaf_grid, \"Accuracy\": np.round(accs, 3)})"
   ]
  },
  {
   "cell_type": "code",
   "execution_count": null,
   "id": "4bf0e843",
   "metadata": {},
   "outputs": [],
   "source": [
    "plt.plot(leaf_grid, accs, marker=\"o\")\n",
    "plt.xlabel(\"min_samples_leaf\")\n",
    "plt.ylabel(\"Accuracy (test)\")\n",
    "plt.title(\"Pruning with min_samples_leaf\")\n",
    "plt.grid(True)\n",
    "plt.show()"
   ]
  },
  {
   "cell_type": "markdown",
   "id": "aec9925d",
   "metadata": {},
   "source": [
    "Hint for interpretation: very small leaves may overfit while very large leaves may underfit.\n",
    "\n",
    "---\n",
    "\n",
    "### 8.3 OOB sanity check\n",
    "\n",
    "Compare OOB score to test accuracy across seeds."
   ]
  },
  {
   "cell_type": "code",
   "execution_count": null,
   "id": "e8ce9b7c",
   "metadata": {},
   "outputs": [],
   "source": [
    "seeds = [0, 7, 21, 42]\n",
    "rows_oob = []\n",
    "\n",
    "for s in seeds:\n",
    "    X_tr, X_te, y_tr, y_te = train_test_split(X, y, test_size=0.2, random_state=s, stratify=y)\n",
    "    rf = RandomForestClassifier(\n",
    "        n_estimators=300, max_features=\"sqrt\", min_samples_leaf=3,\n",
    "        oob_score=True, random_state=s, n_jobs=-1\n",
    "    ).fit(X_tr, y_tr)\n",
    "    acc_test = accuracy_score(y_te, rf.predict(X_te))\n",
    "    rows_oob.append({\"seed\": s, \"OOB\": rf.oob_score_, \"TestAcc\": acc_test})\n",
    "\n",
    "pd.DataFrame(rows_oob).round(3)"
   ]
  },
  {
   "cell_type": "code",
   "execution_count": null,
   "id": "f5e744de",
   "metadata": {},
   "outputs": [],
   "source": [
    "df_oob = pd.DataFrame(rows_oob)\n",
    "plt.plot(df_oob[\"seed\"], df_oob[\"OOB\"], \"o-\", label=\"OOB\")\n",
    "plt.plot(df_oob[\"seed\"], df_oob[\"TestAcc\"], \"o-\", label=\"Test\")\n",
    "plt.xlabel(\"random_state\")\n",
    "plt.ylabel(\"Accuracy\")\n",
    "plt.title(\"OOB vs Test accuracy\")\n",
    "plt.grid(True)\n",
    "plt.legend()\n",
    "plt.show()"
   ]
  },
  {
   "cell_type": "markdown",
   "id": "ddbc8fa0",
   "metadata": {},
   "source": [
    "Expect OOB to track test accuracy closely. Small differences are normal.\n",
    "\n",
    "---\n",
    "\n",
    "### 8.4 Feature importance agreement on melting point\n",
    "\n",
    "Compare built-in importance to permutation importance for a random forest regressor."
   ]
  },
  {
   "cell_type": "code",
   "execution_count": null,
   "id": "3b001f85",
   "metadata": {},
   "outputs": [],
   "source": [
    "rf_imp = RandomForestRegressor(\n",
    "    n_estimators=400, min_samples_leaf=3, max_features=\"sqrt\",\n",
    "    random_state=0, n_jobs=-1\n",
    ").fit(Xr_train, yr_train)\n",
    "\n",
    "# Built-in importance\n",
    "imp_series = pd.Series(rf_imp.feature_importances_, index=Xr_train.columns).sort_values()\n",
    "\n",
    "# Permutation importance on test\n",
    "perm_r = permutation_importance(\n",
    "    rf_imp, Xr_test, yr_test, scoring=\"r2\", n_repeats=20, random_state=0\n",
    ")\n",
    "perm_series = pd.Series(perm_r.importances_mean, index=Xr_train.columns).sort_values()\n",
    "\n",
    "# Plots\n",
    "imp_series.plot(kind=\"barh\")\n",
    "plt.title(\"Random Forest feature_importances_ (regression)\")\n",
    "plt.show()\n",
    "\n",
    "perm_series.plot(kind=\"barh\")\n",
    "plt.title(\"Permutation importance on test (regression)\")\n",
    "plt.show()\n",
    "\n",
    "pd.DataFrame({\"Built_in\": imp_series, \"Permutation\": perm_series})"
   ]
  },
  {
   "cell_type": "markdown",
   "id": "d6f03b7b",
   "metadata": {},
   "source": [
    "Look for agreement on the top features. Disagreements can signal correlation or overfitting in the training trees.\n",
    "\n",
    "---\n",
    "\n",
    "### 8.5 Small tree visualization and split rules\n",
    "\n",
    "Fit a very small classifier tree and print its first two rules in plain language."
   ]
  },
  {
   "cell_type": "code",
   "execution_count": null,
   "id": "7550e290",
   "metadata": {},
   "outputs": [],
   "source": [
    "small_tree = DecisionTreeClassifier(max_depth=2, random_state=0).fit(X_train, y_train)\n",
    "\n",
    "plt.figure(figsize=(7,5))\n",
    "plot_tree(small_tree, feature_names=feat_names, class_names=[\"non_toxic\",\"toxic\"], filled=True)\n",
    "plt.title(\"Small Decision Tree (max_depth=2)\")\n",
    "plt.show()\n",
    "\n",
    "# Extract split rules programmatically for the top two levels\n",
    "feat_idx = small_tree.tree_.feature\n",
    "thresh = small_tree.tree_.threshold\n",
    "left = small_tree.tree_.children_left\n",
    "right = small_tree.tree_.children_right\n",
    "\n",
    "def node_rule(node_id):\n",
    "    f = feat_idx[node_id]\n",
    "    t = thresh[node_id]\n",
    "    return f\"{feat_names[f]} <= {t:.3f} ?\"\n",
    "\n",
    "print(\"Root rule:\", node_rule(0))\n",
    "print(\"Left child rule:\", node_rule(left[0]) if left[0] != -1 else \"Left child is a leaf\")\n",
    "print(\"Right child rule:\", node_rule(right[0]) if right[0] != -1 else \"Right child is a leaf\")"
   ]
  },
  {
   "cell_type": "markdown",
   "id": "d6a97c26",
   "metadata": {},
   "source": [
    "Read the rules as binary questions. Samples that satisfy a rule go left. Others go right."
   ]
  }
 ],
 "metadata": {
  "jupytext": {
   "text_representation": {
    "extension": ".md",
    "format_name": "myst",
    "format_version": 0.13,
    "jupytext_version": "1.16.4"
   }
  },
  "kernelspec": {
   "display_name": "Python 3",
   "language": "python",
   "name": "python3"
  },
  "language_info": {
   "codemirror_mode": {
    "name": "ipython",
    "version": 3
   },
   "file_extension": ".py",
   "mimetype": "text/x-python",
   "name": "python",
   "nbconvert_exporter": "python",
   "pygments_lexer": "ipython3",
   "version": "3.13.5"
  },
  "source_map": [
   12,
   31,
   48,
   52,
   59,
   63,
   79,
   83,
   94,
   98,
   109,
   123,
   146,
   150,
   168,
   176,
   187,
   194,
   204,
   220,
   230,
   240,
   265,
   275,
   297
  ]
 },
 "nbformat": 4,
 "nbformat_minor": 5
}