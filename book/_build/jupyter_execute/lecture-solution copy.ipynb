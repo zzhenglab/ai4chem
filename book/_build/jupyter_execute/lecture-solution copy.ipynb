{
 "cells": [
  {
   "cell_type": "markdown",
   "id": "da010b2f",
   "metadata": {},
   "source": [
    "## 8. Solutions\n",
    "\n",
    "\n",
    "### 8.1 Tree vs Forest on log-solubility\n",
    "\n",
    "Goal: predict log-solubility and compare a small tree to a forest."
   ]
  },
  {
   "cell_type": "code",
   "execution_count": 1,
   "id": "f0905cde",
   "metadata": {},
   "outputs": [
    {
     "ename": "NameError",
     "evalue": "name 'df' is not defined",
     "output_type": "error",
     "traceback": [
      "\u001b[31m---------------------------------------------------------------------------\u001b[39m",
      "\u001b[31mNameError\u001b[39m                                 Traceback (most recent call last)",
      "\u001b[36mCell\u001b[39m\u001b[36m \u001b[39m\u001b[32mIn[1]\u001b[39m\u001b[32m, line 3\u001b[39m\n\u001b[32m      1\u001b[39m \u001b[38;5;66;03m# Create target: log10(solubility + 1e-6) to avoid log(0)\u001b[39;00m\n\u001b[32m      2\u001b[39m \u001b[38;5;66;03m# If your dataframe already has a numeric solubility column named 'Solubility_mol_per_L', reuse it.\u001b[39;00m\n\u001b[32m----> \u001b[39m\u001b[32m3\u001b[39m df_sol = \u001b[43mdf\u001b[49m.copy()\n\u001b[32m      4\u001b[39m df_sol[\u001b[33m\"\u001b[39m\u001b[33my_log\u001b[39m\u001b[33m\"\u001b[39m] = np.log10(df_sol[\u001b[33m\"\u001b[39m\u001b[33mSolubility_mol_per_L\u001b[39m\u001b[33m\"\u001b[39m] + \u001b[32m1e-6\u001b[39m)\n\u001b[32m      6\u001b[39m Xs = df_sol[[\u001b[33m\"\u001b[39m\u001b[33mMolWt\u001b[39m\u001b[33m\"\u001b[39m, \u001b[33m\"\u001b[39m\u001b[33mLogP\u001b[39m\u001b[33m\"\u001b[39m, \u001b[33m\"\u001b[39m\u001b[33mTPSA\u001b[39m\u001b[33m\"\u001b[39m, \u001b[33m\"\u001b[39m\u001b[33mNumRings\u001b[39m\u001b[33m\"\u001b[39m]].dropna()\n",
      "\u001b[31mNameError\u001b[39m: name 'df' is not defined"
     ]
    }
   ],
   "source": [
    "# Create target: log10(solubility + 1e-6) to avoid log(0)\n",
    "# If your dataframe already has a numeric solubility column named 'Solubility_mol_per_L', reuse it.\n",
    "df_sol = df.copy()\n",
    "df_sol[\"y_log\"] = np.log10(df_sol[\"Solubility_mol_per_L\"] + 1e-6)\n",
    "\n",
    "Xs = df_sol[[\"MolWt\", \"LogP\", \"TPSA\", \"NumRings\"]].dropna()\n",
    "ys = df_sol.loc[Xs.index, \"y_log\"]\n",
    "\n",
    "Xs_train, Xs_test, ys_train, ys_test = train_test_split(\n",
    "    Xs, ys, test_size=0.2, random_state=42\n",
    ")\n",
    "\n",
    "# Models\n",
    "tree_sol = DecisionTreeRegressor(max_depth=4, min_samples_leaf=5, random_state=0).fit(Xs_train, ys_train)\n",
    "rf_sol   = RandomForestRegressor(n_estimators=300, min_samples_leaf=5, random_state=0, n_jobs=-1).fit(Xs_train, ys_train)\n",
    "\n",
    "# Scores\n",
    "yhat_tree = tree_sol.predict(Xs_test)\n",
    "yhat_rf   = rf_sol.predict(Xs_test)\n",
    "\n",
    "print(f\"Tree R2:   {r2_score(ys_test, yhat_tree):.3f}\")\n",
    "print(f\"Forest R2: {r2_score(ys_test, yhat_rf):.3f}\")"
   ]
  },
  {
   "cell_type": "markdown",
   "id": "9faebb87",
   "metadata": {},
   "source": [
    "Parity plots for both models."
   ]
  },
  {
   "cell_type": "code",
   "execution_count": null,
   "id": "706b7988",
   "metadata": {},
   "outputs": [],
   "source": [
    "# Parity for tree\n",
    "plt.scatter(ys_test, yhat_tree, alpha=0.6)\n",
    "lims = [min(ys_test.min(), yhat_tree.min()), max(ys_test.max(), yhat_tree.max())]\n",
    "plt.plot(lims, lims, \"k--\")\n",
    "plt.xlabel(\"True\")\n",
    "plt.ylabel(\"Predicted\")\n",
    "plt.title(\"Parity plot: Tree on log-solubility\")\n",
    "plt.show()\n",
    "\n",
    "# Parity for forest\n",
    "plt.scatter(ys_test, yhat_rf, alpha=0.6)\n",
    "lims = [min(ys_test.min(), yhat_rf.min()), max(ys_test.max(), yhat_rf.max())]\n",
    "plt.plot(lims, lims, \"k--\")\n",
    "plt.xlabel(\"True\")\n",
    "plt.ylabel(\"Predicted\")\n",
    "plt.title(\"Parity plot: Forest on log-solubility\")\n",
    "plt.show()"
   ]
  },
  {
   "cell_type": "markdown",
   "id": "4f68373d",
   "metadata": {},
   "source": [
    "---\n",
    "\n",
    "### 8.2 Pruning with `min_samples_leaf`\n",
    "\n",
    "Fix `max_depth=None` for a classifier on toxicity and sweep leaf size."
   ]
  },
  {
   "cell_type": "code",
   "execution_count": null,
   "id": "6f67cc5b",
   "metadata": {},
   "outputs": [],
   "source": [
    "leaf_grid = [1, 2, 3, 5, 8, 12, 20]\n",
    "accs = []\n",
    "\n",
    "for leaf in leaf_grid:\n",
    "    clf = DecisionTreeClassifier(max_depth=None, min_samples_leaf=leaf, random_state=0).fit(X_train, y_train)\n",
    "    accs.append(accuracy_score(y_test, clf.predict(X_test)))\n",
    "\n",
    "pd.DataFrame({\"min_samples_leaf\": leaf_grid, \"Accuracy\": np.round(accs, 3)})"
   ]
  },
  {
   "cell_type": "code",
   "execution_count": null,
   "id": "89dd0622",
   "metadata": {},
   "outputs": [],
   "source": [
    "plt.plot(leaf_grid, accs, marker=\"o\")\n",
    "plt.xlabel(\"min_samples_leaf\")\n",
    "plt.ylabel(\"Accuracy (test)\")\n",
    "plt.title(\"Pruning with min_samples_leaf\")\n",
    "plt.grid(True)\n",
    "plt.show()"
   ]
  },
  {
   "cell_type": "markdown",
   "id": "5ba4bbfb",
   "metadata": {},
   "source": [
    "Hint for interpretation: very small leaves may overfit while very large leaves may underfit.\n",
    "\n",
    "---\n",
    "\n",
    "### 8.3 OOB sanity check\n",
    "\n",
    "Compare OOB score to test accuracy across seeds."
   ]
  },
  {
   "cell_type": "code",
   "execution_count": null,
   "id": "261c426b",
   "metadata": {},
   "outputs": [],
   "source": [
    "seeds = [0, 7, 21, 42]\n",
    "rows_oob = []\n",
    "\n",
    "for s in seeds:\n",
    "    X_tr, X_te, y_tr, y_te = train_test_split(X, y, test_size=0.2, random_state=s, stratify=y)\n",
    "    rf = RandomForestClassifier(\n",
    "        n_estimators=300, max_features=\"sqrt\", min_samples_leaf=3,\n",
    "        oob_score=True, random_state=s, n_jobs=-1\n",
    "    ).fit(X_tr, y_tr)\n",
    "    acc_test = accuracy_score(y_te, rf.predict(X_te))\n",
    "    rows_oob.append({\"seed\": s, \"OOB\": rf.oob_score_, \"TestAcc\": acc_test})\n",
    "\n",
    "pd.DataFrame(rows_oob).round(3)"
   ]
  },
  {
   "cell_type": "code",
   "execution_count": null,
   "id": "09de8dcd",
   "metadata": {},
   "outputs": [],
   "source": [
    "df_oob = pd.DataFrame(rows_oob)\n",
    "plt.plot(df_oob[\"seed\"], df_oob[\"OOB\"], \"o-\", label=\"OOB\")\n",
    "plt.plot(df_oob[\"seed\"], df_oob[\"TestAcc\"], \"o-\", label=\"Test\")\n",
    "plt.xlabel(\"random_state\")\n",
    "plt.ylabel(\"Accuracy\")\n",
    "plt.title(\"OOB vs Test accuracy\")\n",
    "plt.grid(True)\n",
    "plt.legend()\n",
    "plt.show()"
   ]
  },
  {
   "cell_type": "markdown",
   "id": "3615112a",
   "metadata": {},
   "source": [
    "Expect OOB to track test accuracy closely. Small differences are normal.\n",
    "\n",
    "---\n",
    "\n",
    "### 8.4 Feature importance agreement on melting point\n",
    "\n",
    "Compare built-in importance to permutation importance for a random forest regressor."
   ]
  },
  {
   "cell_type": "code",
   "execution_count": null,
   "id": "ce9fe75a",
   "metadata": {},
   "outputs": [],
   "source": [
    "rf_imp = RandomForestRegressor(\n",
    "    n_estimators=400, min_samples_leaf=3, max_features=\"sqrt\",\n",
    "    random_state=0, n_jobs=-1\n",
    ").fit(Xr_train, yr_train)\n",
    "\n",
    "# Built-in importance\n",
    "imp_series = pd.Series(rf_imp.feature_importances_, index=Xr_train.columns).sort_values()\n",
    "\n",
    "# Permutation importance on test\n",
    "perm_r = permutation_importance(\n",
    "    rf_imp, Xr_test, yr_test, scoring=\"r2\", n_repeats=20, random_state=0\n",
    ")\n",
    "perm_series = pd.Series(perm_r.importances_mean, index=Xr_train.columns).sort_values()\n",
    "\n",
    "# Plots\n",
    "imp_series.plot(kind=\"barh\")\n",
    "plt.title(\"Random Forest feature_importances_ (regression)\")\n",
    "plt.show()\n",
    "\n",
    "perm_series.plot(kind=\"barh\")\n",
    "plt.title(\"Permutation importance on test (regression)\")\n",
    "plt.show()\n",
    "\n",
    "pd.DataFrame({\"Built_in\": imp_series, \"Permutation\": perm_series})"
   ]
  },
  {
   "cell_type": "markdown",
   "id": "ad6817b4",
   "metadata": {},
   "source": [
    "Look for agreement on the top features. Disagreements can signal correlation or overfitting in the training trees.\n",
    "\n",
    "---\n",
    "\n",
    "### 8.5 Small tree visualization and split rules\n",
    "\n",
    "Fit a very small classifier tree and print its first two rules in plain language."
   ]
  },
  {
   "cell_type": "code",
   "execution_count": null,
   "id": "ff645a20",
   "metadata": {},
   "outputs": [],
   "source": [
    "small_tree = DecisionTreeClassifier(max_depth=2, random_state=0).fit(X_train, y_train)\n",
    "\n",
    "plt.figure(figsize=(7,5))\n",
    "plot_tree(small_tree, feature_names=feat_names, class_names=[\"non_toxic\",\"toxic\"], filled=True)\n",
    "plt.title(\"Small Decision Tree (max_depth=2)\")\n",
    "plt.show()\n",
    "\n",
    "# Extract split rules programmatically for the top two levels\n",
    "feat_idx = small_tree.tree_.feature\n",
    "thresh = small_tree.tree_.threshold\n",
    "left = small_tree.tree_.children_left\n",
    "right = small_tree.tree_.children_right\n",
    "\n",
    "def node_rule(node_id):\n",
    "    f = feat_idx[node_id]\n",
    "    t = thresh[node_id]\n",
    "    return f\"{feat_names[f]} <= {t:.3f} ?\"\n",
    "\n",
    "print(\"Root rule:\", node_rule(0))\n",
    "print(\"Left child rule:\", node_rule(left[0]) if left[0] != -1 else \"Left child is a leaf\")\n",
    "print(\"Right child rule:\", node_rule(right[0]) if right[0] != -1 else \"Right child is a leaf\")"
   ]
  },
  {
   "cell_type": "markdown",
   "id": "a8ac8a4a",
   "metadata": {},
   "source": [
    "Read the rules as binary questions. Samples that satisfy a rule go left. Others go right."
   ]
  }
 ],
 "metadata": {
  "jupytext": {
   "text_representation": {
    "extension": ".md",
    "format_name": "myst",
    "format_version": 0.13,
    "jupytext_version": "1.16.4"
   }
  },
  "kernelspec": {
   "display_name": "Python 3",
   "language": "python",
   "name": "python3"
  },
  "language_info": {
   "codemirror_mode": {
    "name": "ipython",
    "version": 3
   },
   "file_extension": ".py",
   "mimetype": "text/x-python",
   "name": "python",
   "nbconvert_exporter": "python",
   "pygments_lexer": "ipython3",
   "version": "3.13.5"
  },
  "source_map": [
   12,
   33,
   56,
   60,
   78,
   86,
   97,
   104,
   114,
   130,
   140,
   150,
   175,
   185,
   207
  ]
 },
 "nbformat": 4,
 "nbformat_minor": 5
}