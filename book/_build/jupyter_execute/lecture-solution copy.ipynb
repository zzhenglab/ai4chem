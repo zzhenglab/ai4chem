{
 "cells": [
  {
   "cell_type": "markdown",
   "id": "411e4b66",
   "metadata": {},
   "source": [
    "## 11. Solutions\n",
    "\n",
    "### 11.1 Solution Q1"
   ]
  },
  {
   "cell_type": "code",
   "execution_count": 1,
   "id": "2ff61ff2",
   "metadata": {},
   "outputs": [
    {
     "ename": "NameError",
     "evalue": "name 'df_reg_mp' is not defined",
     "output_type": "error",
     "traceback": [
      "\u001b[1;31m---------------------------------------------------------------------------\u001b[0m",
      "\u001b[1;31mNameError\u001b[0m                                 Traceback (most recent call last)",
      "Cell \u001b[1;32mIn[1], line 2\u001b[0m\n\u001b[0;32m      1\u001b[0m \u001b[38;5;66;03m# Log target\u001b[39;00m\n\u001b[1;32m----> 2\u001b[0m df_reg_mp \u001b[38;5;241m=\u001b[39m \u001b[43mdf_reg_mp\u001b[49m\u001b[38;5;241m.\u001b[39mcopy()\n\u001b[0;32m      3\u001b[0m y_log \u001b[38;5;241m=\u001b[39m np\u001b[38;5;241m.\u001b[39mlog10(df_reg_mp[\u001b[38;5;124m\"\u001b[39m\u001b[38;5;124mSolubility_mol_per_L\u001b[39m\u001b[38;5;124m\"\u001b[39m] \u001b[38;5;241m+\u001b[39m \u001b[38;5;241m1e-6\u001b[39m)\n\u001b[0;32m      5\u001b[0m \u001b[38;5;66;03m# Features and split\u001b[39;00m\n",
      "\u001b[1;31mNameError\u001b[0m: name 'df_reg_mp' is not defined"
     ]
    }
   ],
   "source": [
    "# Log target\n",
    "df_reg_mp = df_reg_mp.copy()\n",
    "y_log = np.log10(df_reg_mp[\"Solubility_mol_per_L\"] + 1e-6)\n",
    "\n",
    "# Features and split\n",
    "X = df_reg_mp[[\"MolWt\",\"LogP\",\"TPSA\",\"NumRings\"]].values\n",
    "X_tr, X_te, y_tr, y_te = train_test_split(X, y_log, test_size=0.2, random_state=15)\n",
    "\n",
    "# Plots\n",
    "plt.figure(figsize=(5,3))\n",
    "plt.hist(y_log, bins=30, alpha=0.85)\n",
    "plt.xlabel(\"log10(Solubility + 1e-6)\"); plt.ylabel(\"Count\"); plt.title(\"Log-solubility\")\n",
    "plt.show()\n",
    "\n",
    "pd.plotting.scatter_matrix(df_reg_mp[[\"MolWt\",\"LogP\",\"TPSA\",\"NumRings\"]], figsize=(5.5,5.5))\n",
    "plt.suptitle(\"Descriptor scatter matrix\", y=1.02); plt.show()"
   ]
  },
  {
   "cell_type": "markdown",
   "id": "6714e078",
   "metadata": {},
   "source": [
    "### 11.2 Solution Q2"
   ]
  },
  {
   "cell_type": "code",
   "execution_count": null,
   "id": "6c189dae",
   "metadata": {},
   "outputs": [],
   "source": [
    "cv = KFold(n_splits=5, shuffle=True, random_state=1)\n",
    "alphas = np.logspace(-2, 3, 12)\n",
    "means = [cross_val_score(Ridge(alpha=a), X_tr, y_tr, cv=cv, scoring=\"r2\").mean() for a in alphas]\n",
    "best_a = float(alphas[int(np.argmax(means))])\n",
    "ridge_best = Ridge(alpha=best_a).fit(X_tr, y_tr)\n",
    "print(f\"best alpha={best_a:.4f}  CV mean R2={max(means):.3f}\")"
   ]
  },
  {
   "cell_type": "markdown",
   "id": "b96198bb",
   "metadata": {},
   "source": [
    "### 11.3 Solution Q3"
   ]
  },
  {
   "cell_type": "code",
   "execution_count": null,
   "id": "72e53f52",
   "metadata": {},
   "outputs": [],
   "source": [
    "y_hat = ridge_best.predict(X_te)\n",
    "print(f\"Test MSE={mean_squared_error(y_te,y_hat):.4f}  \"\n",
    "      f\"MAE={mean_absolute_error(y_te,y_hat):.4f}  \"\n",
    "      f\"R2={r2_score(y_te,y_hat):.3f}\")\n",
    "\n",
    "plt.figure(figsize=(4.2,4))\n",
    "plt.scatter(y_te, y_hat, alpha=0.7)\n",
    "lims = [min(y_te.min(), y_hat.min()), max(y_te.max(), y_hat.max())]\n",
    "plt.plot(lims, lims, \"k--\", lw=1)\n",
    "plt.xlabel(\"True log-solubility\"); plt.ylabel(\"Predicted\"); plt.title(\"Parity — Ridge\"); plt.show()\n",
    "\n",
    "resid = y_te - y_hat\n",
    "plt.figure(figsize=(4.2,4))\n",
    "plt.scatter(y_hat, resid, alpha=0.7); plt.axhline(0, color=\"k\", ls=\":\")\n",
    "plt.xlabel(\"Predicted\"); plt.ylabel(\"Residual\"); plt.title(\"Residuals — Ridge\"); plt.show()"
   ]
  },
  {
   "cell_type": "markdown",
   "id": "f2b9eac4",
   "metadata": {},
   "source": [
    "### 11.4 Solution Q4"
   ]
  },
  {
   "cell_type": "code",
   "execution_count": null,
   "id": "370ea5b0",
   "metadata": {},
   "outputs": [],
   "source": [
    "X_new = np.array([\n",
    "    [135.0,  2.0,  9.2, 2],   # Molecule A\n",
    "    [301.0,  0.5, 17.7, 2]    # Molecule B\n",
    "])  # descriptors: [MolWt, LogP, TPSA, NumRings]\n",
    "\n",
    "y_new = ridge_best.predict(X_new)\n",
    "print(pd.DataFrame({\n",
    "    \"MolWt\": X_new[:,0], \"LogP\": X_new[:,1], \"TPSA\": X_new[:,2], \"NumRings\": X_new[:,3],\n",
    "    \"Predicted log10(solubility)\": y_new\n",
    "}))"
   ]
  },
  {
   "cell_type": "markdown",
   "id": "0e142a22",
   "metadata": {},
   "source": [
    "### 11.5 Solution Q5"
   ]
  },
  {
   "cell_type": "code",
   "execution_count": null,
   "id": "cfd14126",
   "metadata": {},
   "outputs": [],
   "source": [
    "feat = [\"MolWt\",\"LogP\",\"TPSA\",\"NumRings\"]\n",
    "\n",
    "coef_ser = pd.Series(ridge_best.coef_, index=feat).sort_values(key=np.abs, ascending=False)\n",
    "print(\"Ridge coefficients:\\n\", coef_ser)\n",
    "coef_ser.plot(kind=\"barh\"); plt.gca().invert_yaxis()\n",
    "plt.xlabel(\"Coefficient\"); plt.title(\"Ridge coefficients\"); plt.show()\n",
    "\n",
    "perm = permutation_importance(ridge_best, X_te, y_te, scoring=\"r2\", n_repeats=30, random_state=1)\n",
    "perm_ser = pd.Series(perm.importances_mean, index=feat).sort_values()\n",
    "perm_ser.plot(kind=\"barh\"); plt.xlabel(\"Mean decrease in R²\"); plt.title(\"Permutation importance on test\"); plt.show()"
   ]
  },
  {
   "cell_type": "markdown",
   "id": "3000e278",
   "metadata": {},
   "source": [
    "---"
   ]
  }
 ],
 "metadata": {
  "jupytext": {
   "text_representation": {
    "extension": ".md",
    "format_name": "myst",
    "format_version": 0.13,
    "jupytext_version": "1.16.4"
   }
  },
  "kernelspec": {
   "display_name": "Python 3",
   "language": "python",
   "name": "python3"
  },
  "language_info": {
   "codemirror_mode": {
    "name": "ipython",
    "version": 3
   },
   "file_extension": ".py",
   "mimetype": "text/x-python",
   "name": "python",
   "nbconvert_exporter": "python",
   "pygments_lexer": "ipython3",
   "version": "3.8.10"
  },
  "source_map": [
   12,
   31,
   48,
   52,
   59,
   63,
   79,
   83,
   94,
   98,
   109
  ]
 },
 "nbformat": 4,
 "nbformat_minor": 5
}