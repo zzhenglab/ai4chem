{
 "cells": [
  {
   "cell_type": "markdown",
   "id": "b3f8413a",
   "metadata": {},
   "source": [
    "Lecture 12\n",
    "---\n",
    "\n",
    "\n",
    "## 8. Solutions\n",
    "\n",
    "**Q1**"
   ]
  },
  {
   "cell_type": "code",
   "execution_count": 1,
   "id": "b75d5562",
   "metadata": {},
   "outputs": [
    {
     "ename": "NameError",
     "evalue": "name 'df_raw' is not defined",
     "output_type": "error",
     "traceback": [
      "\u001b[31m---------------------------------------------------------------------------\u001b[39m",
      "\u001b[31mNameError\u001b[39m                                 Traceback (most recent call last)",
      "\u001b[36mCell\u001b[39m\u001b[36m \u001b[39m\u001b[32mIn[1]\u001b[39m\u001b[32m, line 31\u001b[39m\n\u001b[32m     17\u001b[39m     \u001b[38;5;28;01mreturn\u001b[39;00m pd.Series({\n\u001b[32m     18\u001b[39m         \u001b[33m\"\u001b[39m\u001b[33mMolWt\u001b[39m\u001b[33m\"\u001b[39m: Descriptors.MolWt(m),\n\u001b[32m     19\u001b[39m         \u001b[33m\"\u001b[39m\u001b[33mLogP\u001b[39m\u001b[33m\"\u001b[39m: Crippen.MolLogP(m),\n\u001b[32m   (...)\u001b[39m\u001b[32m     27\u001b[39m         \u001b[33m\"\u001b[39m\u001b[33mNumAromaticRings\u001b[39m\u001b[33m\"\u001b[39m: rdMolDescriptors.CalcNumAromaticRings(m)\n\u001b[32m     28\u001b[39m     })\n\u001b[32m     30\u001b[39m \u001b[38;5;66;03m# 10 descriptors\u001b[39;00m\n\u001b[32m---> \u001b[39m\u001b[32m31\u001b[39m desc10 = \u001b[43mdf_raw\u001b[49m[\u001b[33m\"\u001b[39m\u001b[33mSMILES\u001b[39m\u001b[33m\"\u001b[39m].apply(calc_descriptors10)\n\u001b[32m     32\u001b[39m df10 = pd.concat([df_raw.reset_index(drop=\u001b[38;5;28;01mTrue\u001b[39;00m), desc10.reset_index(drop=\u001b[38;5;28;01mTrue\u001b[39;00m)], axis=\u001b[32m1\u001b[39m)\n\u001b[32m     34\u001b[39m cols10 = [\n\u001b[32m     35\u001b[39m     \u001b[33m\"\u001b[39m\u001b[33mMolWt\u001b[39m\u001b[33m\"\u001b[39m,\u001b[33m\"\u001b[39m\u001b[33mLogP\u001b[39m\u001b[33m\"\u001b[39m,\u001b[33m\"\u001b[39m\u001b[33mTPSA\u001b[39m\u001b[33m\"\u001b[39m,\u001b[33m\"\u001b[39m\u001b[33mNumRings\u001b[39m\u001b[33m\"\u001b[39m,\u001b[33m\"\u001b[39m\u001b[33mNumHAcceptors\u001b[39m\u001b[33m\"\u001b[39m,\n\u001b[32m     36\u001b[39m     \u001b[33m\"\u001b[39m\u001b[33mNumHDonors\u001b[39m\u001b[33m\"\u001b[39m,\u001b[33m\"\u001b[39m\u001b[33mNumRotatableBonds\u001b[39m\u001b[33m\"\u001b[39m,\u001b[33m\"\u001b[39m\u001b[33mHeavyAtomCount\u001b[39m\u001b[33m\"\u001b[39m,\n\u001b[32m     37\u001b[39m     \u001b[33m\"\u001b[39m\u001b[33mFractionCSP3\u001b[39m\u001b[33m\"\u001b[39m,\u001b[33m\"\u001b[39m\u001b[33mNumAromaticRings\u001b[39m\u001b[33m\"\u001b[39m\n\u001b[32m     38\u001b[39m ]\n",
      "\u001b[31mNameError\u001b[39m: name 'df_raw' is not defined"
     ]
    }
   ],
   "source": [
    "# Q1. t-SNE on 10 descriptors\n",
    "from sklearn.preprocessing import StandardScaler\n",
    "from sklearn.manifold import TSNE\n",
    "from sklearn.cluster import KMeans, AgglomerativeClustering, DBSCAN\n",
    "from sklearn.metrics import silhouette_score\n",
    "from sklearn.metrics import pairwise_distances\n",
    "import numpy as np\n",
    "import pandas as pd\n",
    "import matplotlib.pyplot as plt\n",
    "\n",
    "# Assumes df_raw is already loaded and RDKit imports exist:\n",
    "# from rdkit import Chem\n",
    "# from rdkit.Chem import Descriptors, Crippen, rdMolDescriptors\n",
    "\n",
    "def calc_descriptors10(smiles: str):\n",
    "    m = Chem.MolFromSmiles(smiles)\n",
    "    return pd.Series({\n",
    "        \"MolWt\": Descriptors.MolWt(m),\n",
    "        \"LogP\": Crippen.MolLogP(m),\n",
    "        \"TPSA\": rdMolDescriptors.CalcTPSA(m),\n",
    "        \"NumRings\": rdMolDescriptors.CalcNumRings(m),\n",
    "        \"NumHAcceptors\": rdMolDescriptors.CalcNumHBA(m),\n",
    "        \"NumHDonors\": rdMolDescriptors.CalcNumHBD(m),\n",
    "        \"NumRotatableBonds\": rdMolDescriptors.CalcNumRotatableBonds(m),\n",
    "        \"HeavyAtomCount\": Descriptors.HeavyAtomCount(m),\n",
    "        \"FractionCSP3\": rdMolDescriptors.CalcFractionCSP3(m),\n",
    "        \"NumAromaticRings\": rdMolDescriptors.CalcNumAromaticRings(m)\n",
    "    })\n",
    "\n",
    "# 10 descriptors\n",
    "desc10 = df_raw[\"SMILES\"].apply(calc_descriptors10)\n",
    "df10 = pd.concat([df_raw.reset_index(drop=True), desc10.reset_index(drop=True)], axis=1)\n",
    "\n",
    "cols10 = [\n",
    "    \"MolWt\",\"LogP\",\"TPSA\",\"NumRings\",\"NumHAcceptors\",\n",
    "    \"NumHDonors\",\"NumRotatableBonds\",\"HeavyAtomCount\",\n",
    "    \"FractionCSP3\",\"NumAromaticRings\"\n",
    "]\n",
    "scaler10 = StandardScaler().fit(df10[cols10])\n",
    "X10 = scaler10.transform(df10[cols10])\n",
    "\n",
    "# t-SNE embedding for descriptors (reused in Q4 and Q5)\n",
    "tsne10 = TSNE(n_components=2, perplexity=30, learning_rate=\"auto\",\n",
    "              init=\"pca\", metric=\"euclidean\", random_state=0)\n",
    "Z10 = tsne10.fit_transform(X10)\n",
    "\n",
    "plt.figure(figsize=(5,4))\n",
    "plt.scatter(Z10[:,0], Z10[:,1], s=12, alpha=0.85)\n",
    "plt.xlabel(\"t-SNE 1\"); plt.ylabel(\"t-SNE 2\")\n",
    "plt.title(\"t-SNE on 10 descriptors\")\n",
    "plt.tight_layout()\n",
    "plt.show()\n"
   ]
  },
  {
   "cell_type": "markdown",
   "id": "5328bd4a",
   "metadata": {},
   "source": [
    "**Q2**"
   ]
  },
  {
   "cell_type": "code",
   "execution_count": null,
   "id": "42f44715",
   "metadata": {},
   "outputs": [],
   "source": [
    "# Q2. Elbow on KMeans (k=2..9)\n",
    "\n",
    "ks = range(2, 10)\n",
    "inertias = []\n",
    "for k in ks:\n",
    "    km = KMeans(n_clusters=k, random_state=0, n_init=10).fit(X10)\n",
    "    inertias.append(km.inertia_)\n",
    "\n",
    "plt.figure(figsize=(5,4))\n",
    "plt.plot(list(ks), inertias, marker=\"o\")\n",
    "plt.xlabel(\"k\"); plt.ylabel(\"Inertia\")\n",
    "plt.title(\"Elbow on 10-descriptor KMeans\")\n",
    "plt.grid(True); plt.tight_layout()\n",
    "plt.show()\n",
    "\n",
    "pd.DataFrame({\"k\": list(ks), \"inertia\": inertias}).round(3)"
   ]
  },
  {
   "cell_type": "markdown",
   "id": "500ca310",
   "metadata": {},
   "source": [
    "**Q3**"
   ]
  },
  {
   "cell_type": "code",
   "execution_count": null,
   "id": "1b49f42b",
   "metadata": {},
   "outputs": [],
   "source": [
    "# Q3. Silhouette on KMeans (k=2..9)\n",
    "sil_scores = []\n",
    "for k in ks:\n",
    "    km = KMeans(n_clusters=k, random_state=0, n_init=10).fit(X10)\n",
    "    sil_scores.append(silhouette_score(X10, km.labels_))\n",
    "\n",
    "plt.figure(figsize=(5,4))\n",
    "plt.plot(list(ks), sil_scores, marker=\"o\")\n",
    "plt.xlabel(\"k\"); plt.ylabel(\"Silhouette\")\n",
    "plt.title(\"Silhouette vs k on 10-descriptor KMeans\")\n",
    "plt.grid(True); plt.tight_layout()\n",
    "plt.show()\n",
    "\n",
    "best_k_sil = list(ks)[int(np.argmax(sil_scores))]\n",
    "print(\"Best k by silhouette:\", best_k_sil)\n",
    "pd.DataFrame({\"k\": list(ks), \"silhouette\": np.round(sil_scores, 3)})\n"
   ]
  },
  {
   "cell_type": "markdown",
   "id": "d331f415",
   "metadata": {},
   "source": [
    "**Q4**"
   ]
  },
  {
   "cell_type": "code",
   "execution_count": null,
   "id": "78827b66",
   "metadata": {},
   "outputs": [],
   "source": [
    "# Q4. Agglomerative sweep with plots\n",
    "sil_agg = []\n",
    "for k in ks:\n",
    "    agg = AgglomerativeClustering(n_clusters=k, linkage=\"ward\")\n",
    "    labels_agg = agg.fit_predict(X10)\n",
    "    sil_agg.append(silhouette_score(X10, labels_agg))\n",
    "\n",
    "plt.figure(figsize=(5,4))\n",
    "plt.plot(list(ks), sil_agg, marker=\"o\")\n",
    "plt.xlabel(\"k\"); plt.ylabel(\"Silhouette\")\n",
    "plt.title(\"Agglomerative (ward) silhouette vs k on 10 descriptors\")\n",
    "plt.grid(True); plt.tight_layout()\n",
    "plt.show()\n",
    "\n",
    "best_k_agg = list(ks)[int(np.argmax(sil_agg))]\n",
    "print(\"Best k for Agglomerative by silhouette:\", best_k_agg)\n",
    "\n",
    "# Fit best k and plot clusters on t-SNE plane (Z10)\n",
    "agg_best = AgglomerativeClustering(n_clusters=best_k_agg, linkage=\"ward\")\n",
    "labels_agg_best = agg_best.fit_predict(X10)\n",
    "\n",
    "plt.figure(figsize=(5,4))\n",
    "for c in np.unique(labels_agg_best):\n",
    "    idx = labels_agg_best == c\n",
    "    plt.scatter(Z10[idx,0], Z10[idx,1], s=12, alpha=0.9, label=f\"c{c}\")\n",
    "plt.xlabel(\"t-SNE 1\"); plt.ylabel(\"t-SNE 2\")\n",
    "plt.title(f\"Agglomerative (ward) on t-SNE, k={best_k_agg}\")\n",
    "plt.legend(bbox_to_anchor=(1.02,1), loc=\"upper left\")\n",
    "plt.tight_layout(); plt.show()"
   ]
  }
 ],
 "metadata": {
  "jupytext": {
   "text_representation": {
    "extension": ".md",
    "format_name": "myst",
    "format_version": 0.13,
    "jupytext_version": "1.16.4"
   }
  },
  "kernelspec": {
   "display_name": "Python 3",
   "language": "python",
   "name": "python3"
  },
  "language_info": {
   "codemirror_mode": {
    "name": "ipython",
    "version": 3
   },
   "file_extension": ".py",
   "mimetype": "text/x-python",
   "name": "python",
   "nbconvert_exporter": "python",
   "pygments_lexer": "ipython3",
   "version": "3.13.5"
  },
  "source_map": [
   12,
   25,
   79,
   83,
   100,
   105,
   123,
   127
  ]
 },
 "nbformat": 4,
 "nbformat_minor": 5
}