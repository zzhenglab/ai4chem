{
 "cells": [
  {
   "cell_type": "code",
   "execution_count": 1,
   "id": "51c1c616",
   "metadata": {},
   "outputs": [
    {
     "name": "stdout",
     "output_type": "stream",
     "text": [
      "Hello World\n"
     ]
    }
   ],
   "source": [
    "print(\"Hello World\")"
   ]
  },
  {
   "cell_type": "code",
   "execution_count": 2,
   "id": "8bc6b57f",
   "metadata": {},
   "outputs": [
    {
     "data": {
      "text/plain": [
       "4"
      ]
     },
     "execution_count": 2,
     "metadata": {},
     "output_type": "execute_result"
    }
   ],
   "source": [
    "2 + 2"
   ]
  },
  {
   "cell_type": "code",
   "execution_count": 3,
   "id": "ba1b7e0b",
   "metadata": {},
   "outputs": [],
   "source": [
    "# This line is a comment. Remove the # and the line will run.\n",
    "# 1 + 3"
   ]
  },
  {
   "cell_type": "code",
   "execution_count": 4,
   "id": "106bedef",
   "metadata": {},
   "outputs": [
    {
     "data": {
      "text/plain": [
       "2"
      ]
     },
     "execution_count": 4,
     "metadata": {},
     "output_type": "execute_result"
    }
   ],
   "source": [
    "1 + 1  # this adds one plus one"
   ]
  },
  {
   "cell_type": "code",
   "execution_count": 5,
   "id": "e0c88e01",
   "metadata": {},
   "outputs": [
    {
     "data": {
      "text/plain": [
       "2"
      ]
     },
     "execution_count": 5,
     "metadata": {},
     "output_type": "execute_result"
    }
   ],
   "source": [
    "2 + 2\n",
    "1 + 1   # only this result will display"
   ]
  },
  {
   "cell_type": "code",
   "execution_count": 6,
   "id": "dde28c44",
   "metadata": {},
   "outputs": [
    {
     "name": "stdout",
     "output_type": "stream",
     "text": [
      "4\n",
      "2\n"
     ]
    },
    {
     "data": {
      "text/plain": [
       "(4, 2)"
      ]
     },
     "execution_count": 6,
     "metadata": {},
     "output_type": "execute_result"
    }
   ],
   "source": [
    "print(2 + 2)\n",
    "print(1 + 1)\n",
    "\n",
    "# or as a pair (tuple)\n",
    "(2 + 2, 1 + 1)"
   ]
  },
  {
   "cell_type": "code",
   "execution_count": 7,
   "id": "67bc6258",
   "metadata": {},
   "outputs": [
    {
     "data": {
      "text/plain": [
       "32"
      ]
     },
     "execution_count": 7,
     "metadata": {},
     "output_type": "execute_result"
    }
   ],
   "source": [
    "3 * 4      # multiply\n",
    "10 / 4     # true division (float)\n",
    "10 // 4    # floor division (integer result)\n",
    "10 % 4     # remainder (modulo)\n",
    "2 ** 5     # exponent (2 to the 5)"
   ]
  },
  {
   "cell_type": "code",
   "execution_count": 8,
   "id": "77775dcb",
   "metadata": {},
   "outputs": [
    {
     "data": {
      "text/plain": [
       "20"
      ]
     },
     "execution_count": 8,
     "metadata": {},
     "output_type": "execute_result"
    }
   ],
   "source": [
    "2 + 3 * 4        # multiplication first\n",
    "(2 + 3) * 4      # parentheses change the order"
   ]
  },
  {
   "cell_type": "code",
   "execution_count": 9,
   "id": "6849ac03",
   "metadata": {},
   "outputs": [
    {
     "data": {
      "text/plain": [
       "(float, int)"
      ]
     },
     "execution_count": 9,
     "metadata": {},
     "output_type": "execute_result"
    }
   ],
   "source": [
    "type(10 / 3), type(10 // 3)"
   ]
  },
  {
   "cell_type": "code",
   "execution_count": 10,
   "id": "aa67d7eb",
   "metadata": {},
   "outputs": [
    {
     "data": {
      "text/plain": [
       "100"
      ]
     },
     "execution_count": 10,
     "metadata": {},
     "output_type": "execute_result"
    }
   ],
   "source": [
    "x = 100        # set x to one hundred\n",
    "x"
   ]
  },
  {
   "cell_type": "code",
   "execution_count": 11,
   "id": "6c32de6b",
   "metadata": {},
   "outputs": [
    {
     "data": {
      "text/plain": [
       "201"
      ]
     },
     "execution_count": 11,
     "metadata": {},
     "output_type": "execute_result"
    }
   ],
   "source": [
    "2 * x + 1"
   ]
  },
  {
   "cell_type": "code",
   "execution_count": 12,
   "id": "66f459f9",
   "metadata": {},
   "outputs": [
    {
     "data": {
      "text/plain": [
       "1.1"
      ]
     },
     "execution_count": 12,
     "metadata": {},
     "output_type": "execute_result"
    }
   ],
   "source": [
    "x = 1.1        # replace the old value with a new one\n",
    "x"
   ]
  },
  {
   "cell_type": "code",
   "execution_count": 13,
   "id": "faa49411",
   "metadata": {},
   "outputs": [
    {
     "data": {
      "text/plain": [
       "(float, float)"
      ]
     },
     "execution_count": 13,
     "metadata": {},
     "output_type": "execute_result"
    }
   ],
   "source": [
    "temperature_K = 298.15              # Kelvin\n",
    "R = 0.082057                         # L·atm·mol^-1·K^-1\n",
    "type(temperature_K), type(R)"
   ]
  },
  {
   "cell_type": "code",
   "execution_count": 14,
   "id": "40ce3f82",
   "metadata": {},
   "outputs": [
    {
     "data": {
      "text/plain": [
       "44.009"
      ]
     },
     "execution_count": 14,
     "metadata": {},
     "output_type": "execute_result"
    }
   ],
   "source": [
    "C = 12.011     # g mol^-1\n",
    "O = 15.999     # g mol^-1\n",
    "\n",
    "M_CO2 = C + 2 * O   # 1 carbon and 2 oxygens\n",
    "M_CO2"
   ]
  },
  {
   "cell_type": "code",
   "execution_count": 15,
   "id": "342637ee",
   "metadata": {},
   "outputs": [
    {
     "name": "stdout",
     "output_type": "stream",
     "text": [
      "M_CO2 = 44.009 g mol^-1\n"
     ]
    }
   ],
   "source": [
    "print(f\"M_CO2 = {M_CO2:.3f} g mol^-1\")"
   ]
  },
  {
   "cell_type": "code",
   "execution_count": 16,
   "id": "9b2d2732",
   "metadata": {},
   "outputs": [
    {
     "data": {
      "text/plain": [
       "0.22722624917630485"
      ]
     },
     "execution_count": 16,
     "metadata": {},
     "output_type": "execute_result"
    }
   ],
   "source": [
    "mass_g = 10.0            # grams of CO2\n",
    "moles = mass_g / M_CO2   # mol\n",
    "moles"
   ]
  },
  {
   "cell_type": "code",
   "execution_count": 17,
   "id": "77f8f16a",
   "metadata": {},
   "outputs": [
    {
     "name": "stdout",
     "output_type": "stream",
     "text": [
      "moles of CO2 in 10.0 g = 0.2272 mol\n"
     ]
    }
   ],
   "source": [
    "print(f\"moles of CO2 in {mass_g} g = {moles:.4f} mol\")"
   ]
  },
  {
   "cell_type": "code",
   "execution_count": 18,
   "id": "ccebc9a4",
   "metadata": {},
   "outputs": [
    {
     "data": {
      "text/plain": [
       "(['HCl', 'HNO3', 'H2SO4'], 3)"
      ]
     },
     "execution_count": 18,
     "metadata": {},
     "output_type": "execute_result"
    }
   ],
   "source": [
    "acids = [\"HCl\", \"HNO3\", \"H2SO4\"]   # a list of strings\n",
    "acids, len(acids)"
   ]
  },
  {
   "cell_type": "code",
   "execution_count": 19,
   "id": "44d0f044",
   "metadata": {},
   "outputs": [
    {
     "data": {
      "text/plain": [
       "('HCl', 'HNO3', 'H2SO4')"
      ]
     },
     "execution_count": 19,
     "metadata": {},
     "output_type": "execute_result"
    }
   ],
   "source": [
    "acids[0], acids[1], acids[-1]"
   ]
  },
  {
   "cell_type": "code",
   "execution_count": 20,
   "id": "2fe17bca",
   "metadata": {},
   "outputs": [
    {
     "data": {
      "text/plain": [
       "['HCl', 'HNO3']"
      ]
     },
     "execution_count": 20,
     "metadata": {},
     "output_type": "execute_result"
    }
   ],
   "source": [
    "acids[0:2]   # from index 0 up to but not including 2"
   ]
  },
  {
   "cell_type": "code",
   "execution_count": 21,
   "id": "2a05fef4",
   "metadata": {},
   "outputs": [
    {
     "data": {
      "text/plain": [
       "['HCl', 'HF', 'HBr', 'H2SO4', 'HNO3']"
      ]
     },
     "execution_count": 21,
     "metadata": {},
     "output_type": "execute_result"
    }
   ],
   "source": [
    "acids[1] = \"HBr\"     # replace the second item\n",
    "acids.append(\"HNO3\") # add to the end\n",
    "acids.insert(1, \"HF\")# insert at position 1\n",
    "acids"
   ]
  },
  {
   "cell_type": "code",
   "execution_count": 22,
   "id": "382c9ad0",
   "metadata": {},
   "outputs": [
    {
     "data": {
      "text/plain": [
       "('HCl', ['HBr', 'H2SO4', 'HNO3'])"
      ]
     },
     "execution_count": 22,
     "metadata": {},
     "output_type": "execute_result"
    }
   ],
   "source": [
    "acids.remove(\"HF\")   # removes the first matching \"HF\"\n",
    "popped = acids.pop(0) # removes and returns the item at index 0\n",
    "popped, acids"
   ]
  },
  {
   "cell_type": "code",
   "execution_count": 23,
   "id": "e188375e",
   "metadata": {},
   "outputs": [
    {
     "data": {
      "text/plain": [
       "['HBr', 'H2SO4', 'HNO3', 'HClO4', 'HI']"
      ]
     },
     "execution_count": 23,
     "metadata": {},
     "output_type": "execute_result"
    }
   ],
   "source": [
    "acids.extend([\"HClO4\", \"HI\"])\n",
    "acids"
   ]
  },
  {
   "cell_type": "code",
   "execution_count": 24,
   "id": "026bda93",
   "metadata": {},
   "outputs": [
    {
     "data": {
      "text/plain": [
       "(True, False)"
      ]
     },
     "execution_count": 24,
     "metadata": {},
     "output_type": "execute_result"
    }
   ],
   "source": [
    "\"HBr\" in acids, \"NaOH\" in acids   # True or False"
   ]
  },
  {
   "cell_type": "code",
   "execution_count": 25,
   "id": "f78dc1d6",
   "metadata": {},
   "outputs": [
    {
     "data": {
      "text/plain": [
       "0"
      ]
     },
     "execution_count": 25,
     "metadata": {},
     "output_type": "execute_result"
    }
   ],
   "source": [
    "acids.index(\"HBr\")   # index of the first \"HBr\" if present"
   ]
  },
  {
   "cell_type": "code",
   "execution_count": 26,
   "id": "388c9e16",
   "metadata": {},
   "outputs": [
    {
     "data": {
      "text/plain": [
       "4"
      ]
     },
     "execution_count": 26,
     "metadata": {},
     "output_type": "execute_result"
    }
   ],
   "source": [
    "acids.index(\"HI\")   # index of the first \"HI\" if present"
   ]
  },
  {
   "cell_type": "code",
   "execution_count": 27,
   "id": "3eb97956",
   "metadata": {},
   "outputs": [
    {
     "data": {
      "text/plain": [
       "(15.999, True)"
      ]
     },
     "execution_count": 27,
     "metadata": {},
     "output_type": "execute_result"
    }
   ],
   "source": [
    "aw = {\"H\": 1.008, \"C\": 12.011, \"O\": 15.999, \"N\": 14.007, \"Cl\": 35.45}\n",
    "aw[\"O\"], \"H\" in aw"
   ]
  },
  {
   "cell_type": "code",
   "execution_count": 28,
   "id": "8272bcfe",
   "metadata": {},
   "outputs": [
    {
     "data": {
      "text/plain": [
       "(22.99, 32.06)"
      ]
     },
     "execution_count": 28,
     "metadata": {},
     "output_type": "execute_result"
    }
   ],
   "source": [
    "aw[\"Na\"] = 22.990          # add sodium\n",
    "aw.update({\"S\": 32.06})    # add sulfur with update\n",
    "aw[\"Na\"], aw[\"S\"]"
   ]
  },
  {
   "cell_type": "code",
   "execution_count": 29,
   "id": "31a0018b",
   "metadata": {},
   "outputs": [
    {
     "data": {
      "text/plain": [
       "(None, 39.1)"
      ]
     },
     "execution_count": 29,
     "metadata": {},
     "output_type": "execute_result"
    }
   ],
   "source": [
    "aw.get(\"K\"), aw.get(\"K\", 39.10)   # None vs default value if missing"
   ]
  },
  {
   "cell_type": "code",
   "execution_count": 30,
   "id": "8bd0650c",
   "metadata": {},
   "outputs": [
    {
     "data": {
      "text/plain": [
       "False"
      ]
     },
     "execution_count": 30,
     "metadata": {},
     "output_type": "execute_result"
    }
   ],
   "source": [
    "del aw[\"S\"]\n",
    "\"S\" in aw"
   ]
  },
  {
   "cell_type": "code",
   "execution_count": 31,
   "id": "0f592f9a",
   "metadata": {},
   "outputs": [
    {
     "data": {
      "text/plain": [
       "(44.009, 18.015)"
      ]
     },
     "execution_count": 31,
     "metadata": {},
     "output_type": "execute_result"
    }
   ],
   "source": [
    "M_CO2 = aw[\"C\"] + 2 * aw[\"O\"]\n",
    "M_H2O = 2 * aw[\"H\"] + aw[\"O\"]\n",
    "M_CO2, M_H2O"
   ]
  },
  {
   "cell_type": "code",
   "execution_count": 32,
   "id": "26e1500c",
   "metadata": {},
   "outputs": [
    {
     "name": "stdout",
     "output_type": "stream",
     "text": [
      "M_CO2 = 44.009 g mol^-1\n",
      "M_H2O = 18.015 g mol^-1\n"
     ]
    }
   ],
   "source": [
    "print(f\"M_CO2 = {M_CO2:.3f} g mol^-1\")\n",
    "print(f\"M_H2O = {M_H2O:.3f} g mol^-1\")"
   ]
  },
  {
   "cell_type": "code",
   "execution_count": 33,
   "id": "d53f7760",
   "metadata": {},
   "outputs": [
    {
     "data": {
      "text/plain": [
       "['acidic', 'neutral', 'basic']"
      ]
     },
     "execution_count": 33,
     "metadata": {},
     "output_type": "execute_result"
    }
   ],
   "source": [
    "def classify_pH(pH):\n",
    "    if pH < 7:\n",
    "        return \"acidic\"\n",
    "    elif pH > 7:\n",
    "        return \"basic\"\n",
    "    else:\n",
    "        return \"neutral\"\n",
    "\n",
    "[classify_pH(x) for x in [2.0, 7.0, 8.3]]"
   ]
  },
  {
   "cell_type": "code",
   "execution_count": 34,
   "id": "e0bf233e",
   "metadata": {},
   "outputs": [
    {
     "name": "stdout",
     "output_type": "stream",
     "text": [
      "Formula: CO2\n",
      "Formula: H2O\n",
      "Formula: NH3\n"
     ]
    }
   ],
   "source": [
    "formulas = [\"CO2\", \"H2O\", \"NH3\"]\n",
    "for f in formulas:\n",
    "    print(\"Formula:\", f)"
   ]
  },
  {
   "cell_type": "code",
   "execution_count": 35,
   "id": "bf087c28",
   "metadata": {},
   "outputs": [
    {
     "name": "stdout",
     "output_type": "stream",
     "text": [
      "i = 1\n",
      "i = 2\n",
      "i = 3\n"
     ]
    }
   ],
   "source": [
    "# Count up to 3\n",
    "i = 1\n",
    "while i <= 3:\n",
    "    print(\"i =\", i)\n",
    "    i += 1"
   ]
  },
  {
   "cell_type": "code",
   "execution_count": 36,
   "id": "6728fdba",
   "metadata": {},
   "outputs": [
    {
     "data": {
      "text/plain": [
       "(123, 'abc')"
      ]
     },
     "execution_count": 36,
     "metadata": {},
     "output_type": "execute_result"
    }
   ],
   "source": [
    "s = \"123abc\"\n",
    "i = 0\n",
    "num = 0\n",
    "while i < len(s) and s[i].isdigit():\n",
    "    num = num * 10 + int(s[i])\n",
    "    i += 1\n",
    "num, s[i:]"
   ]
  },
  {
   "cell_type": "code",
   "execution_count": 37,
   "id": "8d38b261",
   "metadata": {},
   "outputs": [
    {
     "data": {
      "text/plain": [
       "(298.15, 0.227223667617219)"
      ]
     },
     "execution_count": 37,
     "metadata": {},
     "output_type": "execute_result"
    }
   ],
   "source": [
    "def celsius_to_kelvin(c):\n",
    "    return c + 273.15\n",
    "\n",
    "def grams_to_moles(mass_g, molar_mass):\n",
    "    return mass_g / molar_mass\n",
    "\n",
    "celsius_to_kelvin(25.0), grams_to_moles(10.0, 44.0095)"
   ]
  },
  {
   "cell_type": "code",
   "execution_count": 38,
   "id": "2c85e495",
   "metadata": {},
   "outputs": [
    {
     "data": {
      "text/plain": [
       "44.009"
      ]
     },
     "execution_count": 38,
     "metadata": {},
     "output_type": "execute_result"
    }
   ],
   "source": [
    "def molar_mass_from_counts(counts, atomic_weights):\n",
    "    \"\"\"\n",
    "    counts: dict like {'C': 1, 'O': 2}\n",
    "    atomic_weights: dict of element -> atomic weight\n",
    "    \"\"\"\n",
    "    total = 0.0\n",
    "    for elem, count in counts.items():\n",
    "        total += atomic_weights[elem] * count\n",
    "    return total\n",
    "\n",
    "molar_mass_from_counts({\"C\": 1, \"O\": 2}, aw)"
   ]
  },
  {
   "cell_type": "code",
   "execution_count": 39,
   "id": "f7cef358",
   "metadata": {},
   "outputs": [
    {
     "data": {
      "text/plain": [
       "{'C': 6, 'H': 12, 'O': 6}"
      ]
     },
     "execution_count": 39,
     "metadata": {},
     "output_type": "execute_result"
    }
   ],
   "source": [
    "def parse_formula(formula):\n",
    "    counts = {}\n",
    "    i = 0\n",
    "    while i < len(formula):\n",
    "        # element symbol\n",
    "        elem = formula[i]\n",
    "        i += 1\n",
    "        if i < len(formula) and formula[i].islower():\n",
    "            elem += formula[i]\n",
    "            i += 1\n",
    "        # digits (may be empty)\n",
    "        num = 0\n",
    "        while i < len(formula) and formula[i].isdigit():\n",
    "            num = num * 10 + int(formula[i])\n",
    "            i += 1\n",
    "        num = num or 1\n",
    "        counts[elem] = counts.get(elem, 0) + num\n",
    "    return counts\n",
    "\n",
    "parse_formula(\"C6H12O6\")"
   ]
  },
  {
   "cell_type": "code",
   "execution_count": 40,
   "id": "21c021ac",
   "metadata": {},
   "outputs": [
    {
     "data": {
      "text/plain": [
       "(44.009, 18.015, 180.156)"
      ]
     },
     "execution_count": 40,
     "metadata": {},
     "output_type": "execute_result"
    }
   ],
   "source": [
    "def molar_mass(formula, atomic_weights):\n",
    "    return molar_mass_from_counts(parse_formula(formula), atomic_weights)\n",
    "\n",
    "molar_mass(\"CO2\", aw), molar_mass(\"H2O\", aw), molar_mass(\"C6H12O6\", aw)"
   ]
  },
  {
   "cell_type": "code",
   "execution_count": 41,
   "id": "b662deee",
   "metadata": {},
   "outputs": [
    {
     "name": "stdout",
     "output_type": "stream",
     "text": [
      "M_ethanol = 46.069 g mol^-1\n",
      "moles in 9.2 g = 0.19970044932601097\n"
     ]
    }
   ],
   "source": [
    "# Atomic weights (g mol^-1)\n",
    "C = 12.011\n",
    "H = 1.008\n",
    "O = 15.999\n",
    "\n",
    "# Molar mass of ethanol: C2H6O\n",
    "M_ethanol = 2*C + 6*H + 1*O   # TODO\n",
    "\n",
    "# Mass to moles\n",
    "mass_g = 9.2\n",
    "moles = mass_g / M_ethanol       # TODO\n",
    "\n",
    "print(\"M_ethanol =\", M_ethanol, \"g mol^-1\")\n",
    "print(\"moles in\", mass_g, \"g =\", moles)"
   ]
  },
  {
   "cell_type": "code",
   "execution_count": 42,
   "id": "25d5eaad",
   "metadata": {},
   "outputs": [
    {
     "name": "stdout",
     "output_type": "stream",
     "text": [
      "2.5 -> acidic\n",
      "7.0 -> neutral\n",
      "8.1 -> basic\n",
      "6.9 -> acidic\n",
      "7.3 -> basic\n"
     ]
    }
   ],
   "source": [
    "pH_values = [2.5, 7.0, 8.1, 6.9, 7.3] #TODO\n",
    "\n",
    "for pH in pH_values:     # TODO\n",
    "    if pH < 7:               # TODO\n",
    "        status = \"acidic\"\n",
    "    elif pH > 7:             # TODO\n",
    "        status = \"basic\"\n",
    "    else:\n",
    "        status = \"neutral\"\n",
    "    print(pH, \"->\", status)"
   ]
  },
  {
   "cell_type": "code",
   "execution_count": 43,
   "id": "b84ab372",
   "metadata": {},
   "outputs": [
    {
     "name": "stdout",
     "output_type": "stream",
     "text": [
      "M_glucose = 0.0 g mol^-1\n"
     ]
    }
   ],
   "source": [
    "# Atomic weights\n",
    "aw = {\"H\": 1.008, \"C\": 12.011, \"O\": 15.999}\n",
    "\n",
    "# Counts for C6H12O6\n",
    "counts = {\"C\": 6, \"H\": 12, \"O\": 6}\n",
    "\n",
    "M_glucose = 0.0\n",
    "for elem, n in counts.items():       # TODO\n",
    "    M_glucose + aw[elem] * n       # TODO \n",
    "\n",
    "print(\"M_glucose =\", M_glucose, \"g mol^-1\")"
   ]
  },
  {
   "cell_type": "code",
   "execution_count": 44,
   "id": "4052849e",
   "metadata": {},
   "outputs": [
    {
     "name": "stdout",
     "output_type": "stream",
     "text": [
      "Parsed: 25 C\n",
      "Temperature in K: 298.15\n"
     ]
    }
   ],
   "source": [
    "s = \"25C\"   # try \"298K\" too\n",
    "\n",
    "# Parse leading integer value\n",
    "i = 0\n",
    "value = 0\n",
    "while i < len(s) and s[i].isdigit():\n",
    "    value = value * 10 + int(s[i])\n",
    "    i += 1\n",
    "\n",
    "unit = s[i:]  # the rest of the string, e.g. \"C\" or \"K\"\n",
    "\n",
    "if unit == \"C\":                  # TODO\n",
    "    temp_K = value + 273.15       # TODO\n",
    "else:\n",
    "    temp_K = value\n",
    "\n",
    "print(\"Parsed:\", value, unit)\n",
    "print(\"Temperature in K:\", temp_K)"
   ]
  },
  {
   "cell_type": "code",
   "execution_count": 45,
   "id": "0b1f8b04",
   "metadata": {},
   "outputs": [
    {
     "name": "stdout",
     "output_type": "stream",
     "text": [
      "Largest moles: NH3 with 0.23486583289295992 mol\n"
     ]
    }
   ],
   "source": [
    "aw = {\"H\": 1.008, \"C\": 12.011, \"O\": 15.999, \"N\": 14.007}\n",
    "\n",
    "mixture = [\n",
    "    (2.00, \"CO2\", {\"C\": 1, \"O\": 2}),\n",
    "    (3.00, \"H2O\", {\"H\": 2, \"O\": 1}),\n",
    "    (4.00, \"NH3\", {\"N\": 1, \"H\": 3}),\n",
    "]\n",
    "\n",
    "max_moles = -1.0\n",
    "winner = None\n",
    "\n",
    "for mass_g, name, counts in mixture:         # TODO\n",
    "    # Compute molar mass from counts\n",
    "    M = 0.0\n",
    "    for elem, n in counts.items():    # TODO\n",
    "        M = M + aw[elem] * n   # TODO\n",
    "    n_moles = mass_g / M        # TODO\n",
    "\n",
    "    if n_moles > max_moles:          # TODO\n",
    "        max_moles = n_moles\n",
    "        winner = name\n",
    "\n",
    "print(\"Largest moles:\", winner, \"with\", max_moles, \"mol\")"
   ]
  }
 ],
 "metadata": {
  "jupytext": {
   "text_representation": {
    "extension": ".md",
    "format_name": "myst",
    "format_version": 0.13,
    "jupytext_version": "1.16.4"
   }
  },
  "kernelspec": {
   "display_name": "Python 3",
   "language": "python",
   "name": "python3"
  },
  "language_info": {
   "codemirror_mode": {
    "name": "ipython",
    "version": 3
   },
   "file_extension": ".py",
   "mimetype": "text/x-python",
   "name": "python",
   "nbconvert_exporter": "python",
   "pygments_lexer": "ipython3",
   "version": "3.8.10"
  },
  "source_map": [
   12,
   112,
   114,
   121,
   123,
   134,
   137,
   141,
   143,
   147,
   150,
   154,
   160,
   164,
   170,
   174,
   177,
   181,
   183,
   204,
   207,
   211,
   213,
   217,
   220,
   226,
   230,
   253,
   259,
   263,
   265,
   271,
   275,
   279,
   281,
   327,
   330,
   339,
   341,
   345,
   347,
   353,
   358,
   362,
   366,
   370,
   373,
   383,
   387,
   391,
   393,
   404,
   407,
   411,
   415,
   419,
   421,
   425,
   428,
   439,
   443,
   447,
   450,
   486,
   496,
   505,
   509,
   517,
   523,
   527,
   535,
   555,
   563,
   572,
   584,
   594,
   615,
   619,
   624,
   830,
   846,
   852,
   864,
   871,
   884,
   890,
   909,
   916
  ]
 },
 "nbformat": 4,
 "nbformat_minor": 5
}