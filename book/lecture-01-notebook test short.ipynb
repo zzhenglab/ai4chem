{
 "cells": [
  {
   "cell_type": "markdown",
   "metadata": {},
   "source": [
    "# AI for Chemistry: Python and Jupyter Primer\n",
    "\n",
    "Welcome. This notebook guides you through Python basics with chemistry examples. It is designed for about 40 minutes of live demo time.\n",
    "\n",
    "### What you will learn\n",
    "1. How to run cells in Jupyter\n",
    "2. Python variables and basic math\n",
    "3. Lists, dictionaries, and loops\n",
    "4. Writing simple functions\n",
    "5. Plotting with matplotlib\n",
    "6. A tiny taste of AI for chemistry using a linear model on calibration data\n",
    "\n",
    "You can run a cell with **Shift+Enter**. Use **A** to insert a cell above and **B** to insert below when in command mode. Use **M** to change a cell to Markdown and **Y** to change to Code.\n"
   ]
  },
  {
   "cell_type": "markdown",
   "metadata": {},
   "source": [
    "## 1. First steps in Python\n",
    "Python can work as a calculator. We will start with values that show up in chemistry.\n"
   ]
  },
  {
   "cell_type": "code",
   "execution_count": null,
   "metadata": {},
   "outputs": [],
   "source": [
    "# Avogadro's number and simple math\n",
    "NA = 6.022_140_76e23  # exact by definition\n",
    "moles = 0.015\n",
    "particles = moles * NA\n",
    "print(\"Particles in\", moles, \"mol:\", particles)\n",
    "\n",
    "# Unit conversion example: grams to kilograms\n",
    "grams = 18.0\n",
    "kilograms = grams / 1000\n",
    "kilograms"
   ]
  },
  {
   "cell_type": "markdown",
   "metadata": {},
   "source": [
    "## 2. Variables, types, and comments\n",
    "A variable is a name for a value. The `#` symbol starts a comment that Python ignores. Use comments to explain your work.\n"
   ]
  },
  {
   "cell_type": "code",
   "execution_count": null,
   "metadata": {},
   "outputs": [],
   "source": [
    "# Store atomic masses for a few common elements (g/mol)\n",
    "atomic_mass = {\n",
    "    \"H\": 1.008,\n",
    "    \"C\": 12.011,\n",
    "    \"N\": 14.007,\n",
    "    \"O\": 15.999,\n",
    "    \"Na\": 22.990,\n",
    "    \"Cl\": 35.45,\n",
    "}\n",
    "\n",
    "type(atomic_mass), list(atomic_mass.items())[:3]"
   ]
  },
  {
   "cell_type": "markdown",
   "metadata": {},
   "source": [
    "## 3. Lists, loops, and a quick chemistry task\n",
    "We will compute simple molar masses for a few small molecules using a very small dictionary. This is not a full periodic table, but it is enough to get started.\n"
   ]
  },
  {
   "cell_type": "code",
   "execution_count": null,
   "metadata": {},
   "outputs": [],
   "source": [
    "# Simple helper that accepts a formula like H2O or CO2 with only integers for counts\n",
    "# This keeps things beginner friendly. It handles one or two letter symbols and positive integers.\n",
    "import re\n",
    "\n",
    "def molar_mass_simple(formula, masses=atomic_mass):\n",
    "    tokens = re.findall(r\"([A-Z][a-z]?)(\\d*)\", formula)\n",
    "    if not tokens:\n",
    "        raise ValueError(\"Could not read formula\")\n",
    "    total = 0.0\n",
    "    for sym, count in tokens:\n",
    "        if sym not in masses:\n",
    "            raise KeyError(f\"Element {sym} not in mass table\")\n",
    "        n = int(count) if count else 1\n",
    "        total += masses[sym] * n\n",
    "    return total\n",
    "\n",
    "for f in [\"H2O\", \"CO2\", \"NaCl\", \"C6H12O6\"]:\n",
    "    print(f, molar_mass_simple(f))"
   ]
  },
  {
   "cell_type": "markdown",
   "metadata": {},
   "source": [
    "### Practice\n",
    "Add your own formula to the list above and run the cell. Try CH3OH or C2H5OH.\n"
   ]
  },
  {
   "cell_type": "markdown",
   "metadata": {},
   "source": [
    "## 4. Functions made for chemistry\n",
    "We will write a function that converts a mass of a compound to moles using its molar mass. Then we will compute the number of particles.\n"
   ]
  },
  {
   "cell_type": "code",
   "execution_count": null,
   "metadata": {},
   "outputs": [],
   "source": [
    "def grams_to_moles(grams, formula):\n",
    "    mm = molar_mass_simple(formula)\n",
    "    return grams / mm\n",
    "\n",
    "def particles_from_grams(grams, formula, NA=NA):\n",
    "    n = grams_to_moles(grams, formula)\n",
    "    return n * NA\n",
    "\n",
    "grams = 10.0\n",
    "formula = \"CO2\"\n",
    "n = grams_to_moles(grams, formula)\n",
    "N = particles_from_grams(grams, formula)\n",
    "print(f\"{grams} g of {formula} is {n:.4f} mol and {N:.3e} particles\")"
   ]
  },
  {
   "cell_type": "markdown",
   "metadata": {},
   "source": [
    "## 5. Plotting data with matplotlib\n",
    "We will create a small calibration curve for a dye using the Beer\u2013Lambert idea: `A = \u03b5 * l * c`. In practice we collect pairs of concentration and absorbance. We will fit a straight line and use it to estimate an unknown.\n"
   ]
  },
  {
   "cell_type": "code",
   "execution_count": null,
   "metadata": {},
   "outputs": [],
   "source": [
    "# If matplotlib is not installed in your environment, uncomment the line below\n",
    "# !pip install matplotlib\n",
    "import numpy as np\n",
    "import matplotlib.pyplot as plt\n",
    "\n",
    "# Make synthetic calibration data (concentration in mM, absorbance unitless)\n",
    "c = np.array([0.0, 0.5, 1.0, 1.5, 2.0])\n",
    "true_eps_l = 0.42  # slope\n",
    "rng = np.random.default_rng(42)\n",
    "A = true_eps_l * c + rng.normal(0, 0.01, size=c.size)  # small noise\n",
    "\n",
    "# Fit line with numpy\n",
    "coeffs = np.polyfit(c, A, 1)\n",
    "slope, intercept = coeffs[0], coeffs[1]\n",
    "fit_A = slope * c + intercept\n",
    "\n",
    "# Compute R^2 by hand for learning\n",
    "ss_res = np.sum((A - fit_A)**2)\n",
    "ss_tot = np.sum((A - np.mean(A))**2)\n",
    "r2 = 1 - ss_res/ss_tot\n",
    "\n",
    "print(\"slope:\", slope)\n",
    "print(\"intercept:\", intercept)\n",
    "print(\"R^2:\", r2)\n",
    "\n",
    "plt.figure()\n",
    "plt.scatter(c, A, label=\"data\")\n",
    "plt.plot(c, fit_A, label=\"fit\")\n",
    "plt.xlabel(\"Concentration (mM)\")\n",
    "plt.ylabel(\"Absorbance\")\n",
    "plt.title(\"Calibration curve\")\n",
    "plt.legend()\n",
    "plt.show()"
   ]
  },
  {
   "cell_type": "markdown",
   "metadata": {},
   "source": [
    "## 6. A tiny AI step: linear regression with scikit-learn\n",
    "Machine learning can fit a model to data and then make predictions on new samples. We will use a very small dataset to mirror what you saw above. If scikit-learn is not installed, the first cell will install it.\n"
   ]
  },
  {
   "cell_type": "code",
   "execution_count": null,
   "metadata": {},
   "outputs": [],
   "source": [
    "# Uncomment if needed\n",
    "# !pip install scikit-learn\n",
    "from sklearn.linear_model import LinearRegression\n",
    "import numpy as np\n",
    "\n",
    "# Use the same c and A from above, or recreate them here for safety\n",
    "c = np.array([0.0, 0.5, 1.0, 1.5, 2.0]).reshape(-1, 1)\n",
    "A = np.array([0.00, 0.20, 0.41, 0.61, 0.84])  # a small clean set\n",
    "\n",
    "model = LinearRegression()\n",
    "model.fit(c, A)\n",
    "print(\"slope (epsilon*l):\", model.coef_[0])\n",
    "print(\"intercept:\", model.intercept_)\n",
    "print(\"R^2:\", model.score(c, A))\n",
    "\n",
    "# Predict concentration from a new absorbance reading by inverting the line\n",
    "A_unknown = 0.50\n",
    "pred_c = (A_unknown - model.intercept_) / model.coef_[0]\n",
    "print(\"Predicted concentration for A=0.50:\", float(pred_c), \"mM\")"
   ]
  },
  {
   "cell_type": "markdown",
   "metadata": {},
   "source": [
    "## 7. Arrays and simple vectorized chemistry math\n",
    "NumPy arrays let you apply the same math to many values at once. Here we convert several masses to moles in one step.\n"
   ]
  },
  {
   "cell_type": "code",
   "execution_count": null,
   "metadata": {},
   "outputs": [],
   "source": [
    "import numpy as np\n",
    "\n",
    "masses = np.array([9.0, 18.0, 36.0])  # grams of water\n",
    "mm_H2O = molar_mass_simple(\"H2O\")\n",
    "moles = masses / mm_H2O\n",
    "particles_each = moles * NA\n",
    "masses, moles, particles_each"
   ]
  },
  {
   "cell_type": "markdown",
   "metadata": {},
   "source": [
    "## 8. Mini project: estimate solution pH for a strong acid by concentration\n",
    "For a strong monoprotic acid at 25 \u00b0C, a rough estimate treats the acid as fully dissociated. Then `[H\u207a] \u2248 c` and `pH = -log10([H\u207a])`. This breaks down at very low concentrations, but it works for a quick check.\n"
   ]
  },
  {
   "cell_type": "code",
   "execution_count": null,
   "metadata": {},
   "outputs": [],
   "source": [
    "import numpy as np\n",
    "\n",
    "def estimate_pH_strong_acid(conc_M):\n",
    "    conc_M = np.asarray(conc_M, dtype=float)\n",
    "    H = np.clip(conc_M, 1e-14, None)  # guard against log of zero\n",
    "    return -np.log10(H)\n",
    "\n",
    "c_values = np.array([1e-1, 1e-2, 1e-3, 1e-4])\n",
    "pH_values = estimate_pH_strong_acid(c_values)\n",
    "list(zip(c_values, pH_values))"
   ]
  },
  {
   "cell_type": "markdown",
   "metadata": {},
   "source": [
    "### Plot the estimate\n",
    "We will see the near linear trend on a log scale.\n"
   ]
  },
  {
   "cell_type": "code",
   "execution_count": null,
   "metadata": {},
   "outputs": [],
   "source": [
    "import matplotlib.pyplot as plt\n",
    "import numpy as np\n",
    "\n",
    "c_grid = np.logspace(-6, 0, 50)\n",
    "pH_grid = estimate_pH_strong_acid(c_grid)\n",
    "\n",
    "plt.figure()\n",
    "plt.semilogx(c_grid, pH_grid)\n",
    "plt.xlabel(\"Acid concentration (M)\")\n",
    "plt.ylabel(\"Estimated pH\")\n",
    "plt.title(\"Strong acid pH estimate\")\n",
    "plt.show()"
   ]
  },
  {
   "cell_type": "markdown",
   "metadata": {},
   "source": [
    "## 9. Exercises\n",
    "Try these on your own. Add new cells as needed.\n",
    "\n",
    "1. Extend `atomic_mass` with K and Ca, then compute the molar mass of KCl and CaCO3.\n",
    "2. Modify `molar_mass_simple` to allow parentheses for a case like Ca(OH)2. Hint: count the group, then add to the total.\n",
    "3. Create your own calibration data for a different range of concentrations and fit a line. Report slope, intercept, and R\u00b2.\n",
    "4. Use the fitted line to predict the concentration of an unknown from a measured absorbance.\n"
   ]
  },
  {
   "cell_type": "markdown",
   "metadata": {},
   "source": [
    "## 10. Wrap up\n",
    "You wrote Python code, made functions, plotted data, and built a tiny model that predicts concentration from absorbance. This is the start of using Python and simple AI ideas in chemistry.\n",
    "\n",
    "Next topics to explore later: reading CSV files with `pandas`, more realistic models for pH, stoichiometry from balanced reactions, and an introduction to molecular descriptors.\n"
   ]
  }
 ],
 "metadata": {
  "kernelspec": {
   "display_name": "Python 3",
   "language": "python",
   "name": "python3"
  },
  "language_info": {
   "name": "python",
   "version": "3.11",
   "mimetype": "text/x-python",
   "codemirror_mode": {
    "name": "ipython",
    "version": 3
   },
   "pygments_lexer": "ipython3",
   "nbconvert_exporter": "python",
   "file_extension": ".py"
  },
  "colab": {
   "name": "AI_for_Chemistry_Intro_Notebook.ipynb",
   "version": "v2"
  },
  "authors": [
   {
    "name": "ChatGPT"
   },
   {
    "name": "Instructor"
   }
  ],
  "created": "2025-08-19"
 },
 "nbformat": 4,
 "nbformat_minor": 5
}