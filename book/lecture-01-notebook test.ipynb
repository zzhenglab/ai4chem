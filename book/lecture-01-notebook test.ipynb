{
 "cells": [
  {
   "cell_type": "markdown",
   "metadata": {},
   "source": [
    "# AI for Chemistry: Step-by-Step Python and Jupyter Guide\n",
    "\n",
    "This notebook is for your first class. It walks slowly, explains every step, and uses chemistry examples throughout.\n",
    "\n",
    "### How to use this notebook\n",
    "- Click any cell, then press **Shift+Enter** to run it.\n",
    "- Blue left border means **edit mode**. Gray left border means **command mode**. Press **Esc** to switch to command mode, **Enter** to edit.\n",
    "- Common shortcuts in command mode: **A** adds a cell above, **B** adds below, **M** makes a Markdown cell, **Y** makes a Code cell, **DD** deletes the current cell.\n",
    "- If you see an error, read the last two lines of the red text. They usually tell you what went wrong.\n",
    "\n",
    "### What we will cover\n",
    "1. Jupyter basics and why scientists use notebooks\n",
    "2. Python as a calculator using chemistry quantities\n",
    "3. Variables and types\n",
    "4. Lists, dictionaries, and loops for organizing data from the lab\n",
    "5. Writing small functions to reuse work\n",
    "6. Plotting with matplotlib, error bars, and simple curve fits\n",
    "7. A first AI model: linear regression for a calibration curve\n",
    "8. A bonus mini project on stoichiometry and pH\n",
    "9. Reading simple CSV data with pandas\n",
    "10. Practice tasks and common mistakes\n"
   ]
  },
  {
   "cell_type": "markdown",
   "metadata": {},
   "source": [
    "## 0. What makes notebooks useful to chemists\n",
    "\n",
    "- You can mix text, math, code, and plots in one place.\n",
    "- You can show how a result was obtained, not only the final number.\n",
    "- You can re-run the same workflow on new data from a later experiment.\n",
    "\n",
    "**Tip**: Save often. Use the save icon or press **Ctrl+S** (Windows) or **Cmd+S** (Mac).\n"
   ]
  },
  {
   "cell_type": "markdown",
   "metadata": {},
   "source": [
    "## 1. Python as a calculator with chemistry constants\n",
    "\n",
    "We start with a few constants and simple arithmetic. Treat this like a smart calculator that remembers names.\n"
   ]
  },
  {
   "cell_type": "code",
   "execution_count": null,
   "metadata": {},
   "outputs": [],
   "source": [
    "# Avogadro constant (exact by definition since 2019, mol^-1)\n",
    "NA = 6.022_140_76e23\n",
    "\n",
    "# Gas constant in J/(mol*K)\n",
    "R = 8.314462618\n",
    "\n",
    "# Example: how many particles are in 0.020 mol\n",
    "moles = 0.020\n",
    "particles = moles * NA\n",
    "print(\"Particles in\", moles, \"mol:\", particles)\n",
    "\n",
    "# Example: ideal gas PV = nRT  ->  V = nRT / P\n",
    "# 1.00 mol at 298 K and 1.00 atm (convert atm to Pa: 1 atm = 101325 Pa)\n",
    "P_atm = 1.00\n",
    "P_Pa = P_atm * 101_325\n",
    "n = 1.00\n",
    "T = 298.0\n",
    "V_m3 = n * R * T / P_Pa\n",
    "V_L = V_m3 * 1000.0\n",
    "print(\"Molar volume estimate at 298 K and 1 atm:\", V_L, \"L\")\n"
   ]
  },
  {
   "cell_type": "markdown",
   "metadata": {},
   "source": [
    "**Step-by-step**\n",
    "1. We created names `NA` and `R` to store constants.\n",
    "2. We computed a count of particles by multiplying `moles` and `NA`.\n",
    "3. We rearranged the ideal gas law to compute volume in cubic meters, then converted to liters.\n"
   ]
  },
  {
   "cell_type": "markdown",
   "metadata": {},
   "source": [
    "## 2. Variables, types, and comments\n",
    "\n",
    "- A variable is a name that points to a value.\n",
    "- The `#` sign starts a comment.\n",
    "- Use `type(x)` to see what kind of value `x` is.\n"
   ]
  },
  {
   "cell_type": "code",
   "execution_count": null,
   "metadata": {},
   "outputs": [],
   "source": [
    "sample_name = \"Sodium chloride solution\"   # text is called a string\n",
    "mass_g = 5.000                               # a float is a decimal number\n",
    "count = 3                                    # an integer is a whole number\n",
    "is_clear = True                              # a boolean is True or False\n",
    "\n",
    "print(type(sample_name), type(mass_g), type(count), type(is_clear))\n",
    "\n",
    "# The print function can show multiple values separated by commas\n",
    "print(\"Sample:\", sample_name, \"Mass [g]:\", mass_g, \"Replicates:\", count, \"Clear:\", is_clear)\n"
   ]
  },
  {
   "cell_type": "markdown",
   "metadata": {},
   "source": [
    "### Formatting output\n",
    "`f-strings` make readable lines. Place names inside `{}`.\n"
   ]
  },
  {
   "cell_type": "code",
   "execution_count": null,
   "metadata": {},
   "outputs": [],
   "source": [
    "molar_mass_NaCl = 58.44   # g/mol, approximate\n",
    "moles_NaCl = mass_g / molar_mass_NaCl\n",
    "print(f\"{mass_g:.3f} g NaCl is {moles_NaCl:.4f} mol\")"
   ]
  },
  {
   "cell_type": "markdown",
   "metadata": {},
   "source": [
    "## 3. Lists, dictionaries, and loops\n",
    "\n",
    "- A **list** is an ordered collection.\n",
    "- A **dictionary** maps a key to a value. Great for a tiny periodic table.\n",
    "- A **loop** repeats the same action for each item.\n"
   ]
  },
  {
   "cell_type": "code",
   "execution_count": null,
   "metadata": {},
   "outputs": [],
   "source": [
    "# A tiny periodic table for this class (g/mol). Values are rounded for teaching.\n",
    "atomic_mass = {\n",
    "    \"H\": 1.008, \"C\": 12.011, \"N\": 14.007, \"O\": 15.999,\n",
    "    \"Na\": 22.990, \"Mg\": 24.305, \"Al\": 26.982, \"Si\": 28.085,\n",
    "    \"P\": 30.974, \"S\": 32.06, \"Cl\": 35.45, \"K\": 39.098, \"Ca\": 40.078,\n",
    "    \"Fe\": 55.845, \"Cu\": 63.546, \"Zn\": 65.38\n",
    "}\n",
    "\n",
    "elements = [\"H\", \"C\", \"N\", \"O\"]  # a list\n",
    "for e in elements:\n",
    "    print(e, \"->\", atomic_mass[e])"
   ]
  },
  {
   "cell_type": "markdown",
   "metadata": {},
   "source": [
    "### Practice\n",
    "- Add `\"F\": 18.998` to `atomic_mass`. Print the mass.\n",
    "- Create a list of three elements you used last week and loop over them.\n"
   ]
  },
  {
   "cell_type": "markdown",
   "metadata": {},
   "source": [
    "## 4. Parsing simple chemical formulas\n",
    "\n",
    "We will write a small function to compute molar mass from a formula like `H2O` or `Ca(OH)2` or `CuSO4\u00b75H2O`. This is a good place to see how loops and dictionaries help us.\n"
   ]
  },
  {
   "cell_type": "code",
   "execution_count": null,
   "metadata": {},
   "outputs": [],
   "source": [
    "import re\n",
    "\n",
    "# Pattern finds element symbols, optional integer count, and handles simple parentheses and dot hydrates.\n",
    "# This parser is meant for teaching and covers many common cases. It is not a full chemistry parser.\n",
    "def molar_mass(formula, masses=atomic_mass):\n",
    "    # Handle dot hydrates like CuSO4\u00b75H2O or CuSO4.5H2O\n",
    "    parts = re.split(r\"[\u00b7\\.]\", formula)\n",
    "    total = 0.0\n",
    "    for part in parts:\n",
    "        # If the part starts with a number, it is a multiplier for a group, like 5H2O\n",
    "        m = re.match(r\"^(\\d+)(.*)$\", part.strip())\n",
    "        multiplier = 1\n",
    "        sub = part\n",
    "        if m:\n",
    "            multiplier = int(m.group(1))\n",
    "            sub = m.group(2)\n",
    "\n",
    "        total += multiplier * _mass_with_parentheses(sub, masses)\n",
    "    return total\n",
    "\n",
    "def _mass_with_parentheses(formula, masses):\n",
    "    # Resolve parentheses by recursion, e.g., Ca(OH)2\n",
    "    # Find innermost (...)k patterns and replace them with repeated groups\n",
    "    while True:\n",
    "        m = re.search(r\"\\(([A-Za-z0-9]+)\\)(\\d+)\", formula)\n",
    "        if not m:\n",
    "            break\n",
    "        group, k = m.group(1), int(m.group(2))\n",
    "        # Replace \"(group)k\" with group repeated k times conceptually\n",
    "        expanded = \"\".join([group] * k)\n",
    "        formula = formula[:m.start()] + expanded + formula[m.end():]\n",
    "\n",
    "    # Now parse simple symbol + optional count\n",
    "    tokens = re.findall(r\"([A-Z][a-z]?)(\\d*)\", formula)\n",
    "    if not tokens:\n",
    "        raise ValueError(f\"Could not understand: {formula}\")\n",
    "    s = 0.0\n",
    "    for sym, num in tokens:\n",
    "        if sym not in masses:\n",
    "            raise KeyError(f\"Unknown element: {sym}\")\n",
    "        n = int(num) if num else 1\n",
    "        s += masses[sym] * n\n",
    "    return s\n",
    "\n",
    "# Try a few examples\n",
    "for f in [\"H2O\", \"CO2\", \"NaCl\", \"C6H12O6\", \"Ca(OH)2\", \"CuSO4\u00b75H2O\"]:\n",
    "    print(f, \"->\", round(molar_mass(f), 3), \"g/mol\")"
   ]
  },
  {
   "cell_type": "markdown",
   "metadata": {},
   "source": [
    "**Step-by-step**\n",
    "1. Split on `\u00b7` or `.` to support hydrates.\n",
    "2. Expand parentheses by repeating the inner group.\n",
    "3. Use a pattern to read each element symbol and its count.\n",
    "4. Look up each symbol in our dictionary and accumulate the mass.\n"
   ]
  },
  {
   "cell_type": "markdown",
   "metadata": {},
   "source": [
    "## 5. Reusable functions for common lab math\n",
    "\n",
    "We will create small functions to convert between grams, moles, and particles. Functions help you avoid repeating code.\n"
   ]
  },
  {
   "cell_type": "code",
   "execution_count": null,
   "metadata": {},
   "outputs": [],
   "source": [
    "NA = 6.022_140_76e23  # redefine here so this cell works alone if needed\n",
    "\n",
    "def grams_to_moles(mass_g, formula):\n",
    "    mm = molar_mass(formula)\n",
    "    return mass_g / mm\n",
    "\n",
    "def moles_to_particles(moles):\n",
    "    return moles * NA\n",
    "\n",
    "def grams_to_particles(mass_g, formula):\n",
    "    return moles_to_particles(grams_to_moles(mass_g, formula))\n",
    "\n",
    "print(\"10.0 g of CO2 in mol:\", round(grams_to_moles(10.0, \"CO2\"), 5))\n",
    "print(\"Particles in 10.0 g CO2:\", \"{:.3e}\".format(grams_to_particles(10.0, \"CO2\")))"
   ]
  },
  {
   "cell_type": "markdown",
   "metadata": {},
   "source": [
    "## 6. Control flow with `if`\n",
    "\n",
    "We will classify a solution as dilute or concentrated by a simple rule, then print a message.\n"
   ]
  },
  {
   "cell_type": "code",
   "execution_count": null,
   "metadata": {},
   "outputs": [],
   "source": [
    "concentration_M = 0.025\n",
    "if concentration_M < 0.010:\n",
    "    print(\"Dilute sample\")\n",
    "elif concentration_M < 0.100:\n",
    "    print(\"Moderate sample\")\n",
    "else:\n",
    "    print(\"Concentrated sample\")"
   ]
  },
  {
   "cell_type": "markdown",
   "metadata": {},
   "source": [
    "## 7. Loops to build a small table\n",
    "\n",
    "Let us tabulate masses, moles, and estimated particle counts for a list of sample masses.\n"
   ]
  },
  {
   "cell_type": "code",
   "execution_count": null,
   "metadata": {},
   "outputs": [],
   "source": [
    "masses_g = [1.0, 2.5, 5.0, 10.0]\n",
    "formula = \"H2O\"\n",
    "print(\"mass_g\\tmoles\\tparticles\")\n",
    "for m in masses_g:\n",
    "    n = grams_to_moles(m, formula)\n",
    "    N = moles_to_particles(n)\n",
    "    print(f\"{m:.2f}\\t{n:.5f}\\t{N:.3e}\")"
   ]
  },
  {
   "cell_type": "markdown",
   "metadata": {},
   "source": [
    "## 8. Plotting with matplotlib\n",
    "\n",
    "We will generate synthetic calibration data for a dye using the idea behind Beer Lambert law. Then we will plot the data and the fitted line.\n"
   ]
  },
  {
   "cell_type": "code",
   "execution_count": null,
   "metadata": {},
   "outputs": [],
   "source": [
    "# If matplotlib is missing in your environment, you can install it using pip in a terminal.\n",
    "# Inside a notebook you could run: !pip install matplotlib\n",
    "\n",
    "import numpy as np\n",
    "import matplotlib.pyplot as plt\n",
    "\n",
    "# Make a small dataset: concentration in mM, absorbance unitless\n",
    "c = np.array([0.0, 0.5, 1.0, 1.5, 2.0])\n",
    "true_slope = 0.42\n",
    "rng = np.random.default_rng(123)\n",
    "A = true_slope * c + rng.normal(0, 0.015, size=c.size)  # add small noise\n",
    "\n",
    "# Fit a straight line using numpy\n",
    "coef = np.polyfit(c, A, 1)\n",
    "slope, intercept = coef\n",
    "fit_A = slope * c + intercept\n",
    "\n",
    "# Compute R^2\n",
    "ss_res = np.sum((A - fit_A)**2)\n",
    "ss_tot = np.sum((A - np.mean(A))**2)\n",
    "r2 = 1 - ss_res/ss_tot\n",
    "\n",
    "print(\"slope:\", slope)\n",
    "print(\"intercept:\", intercept)\n",
    "print(\"R^2:\", r2)\n",
    "\n",
    "plt.figure()\n",
    "plt.scatter(c, A, label=\"data\")\n",
    "plt.plot(c, fit_A, label=\"fit\")\n",
    "plt.xlabel(\"Concentration (mM)\")\n",
    "plt.ylabel(\"Absorbance\")\n",
    "plt.title(\"Calibration plot\")\n",
    "plt.legend()\n",
    "plt.show()"
   ]
  },
  {
   "cell_type": "markdown",
   "metadata": {},
   "source": [
    "### Error bars\n",
    "\n",
    "Real data has variability. We can show one standard deviation as error bars if we have replicates.\n"
   ]
  },
  {
   "cell_type": "code",
   "execution_count": null,
   "metadata": {},
   "outputs": [],
   "source": [
    "# Create 3 replicates at each concentration\n",
    "c_rep = np.repeat(c, 3)\n",
    "A_rep = true_slope * c_rep + rng.normal(0, 0.02, size=c_rep.size)\n",
    "\n",
    "# Compute mean and std at each concentration\n",
    "means = [A_rep[c_rep == x].mean() for x in c]\n",
    "stds  = [A_rep[c_rep == x].std(ddof=1) for x in c]\n",
    "\n",
    "plt.figure()\n",
    "plt.errorbar(c, means, yerr=stds, fmt='o')\n",
    "plt.xlabel(\"Concentration (mM)\")\n",
    "plt.ylabel(\"Absorbance\")\n",
    "plt.title(\"Calibration with error bars\")\n",
    "plt.show()"
   ]
  },
  {
   "cell_type": "markdown",
   "metadata": {},
   "source": [
    "## 9. A first AI model for calibration\n",
    "\n",
    "We will let a linear regression model learn the mapping from concentration to absorbance. Then we will invert the line to estimate concentration from a new absorbance.\n"
   ]
  },
  {
   "cell_type": "code",
   "execution_count": null,
   "metadata": {},
   "outputs": [],
   "source": [
    "# If scikit-learn is missing: !pip install scikit-learn\n",
    "from sklearn.linear_model import LinearRegression\n",
    "import numpy as np\n",
    "\n",
    "# Use clean pairs for teaching\n",
    "c_train = np.array([0.0, 0.5, 1.0, 1.5, 2.0]).reshape(-1, 1)\n",
    "A_train = np.array([0.00, 0.22, 0.43, 0.64, 0.84])\n",
    "\n",
    "model = LinearRegression()\n",
    "model.fit(c_train, A_train)\n",
    "\n",
    "print(\"slope:\", model.coef_[0])\n",
    "print(\"intercept:\", model.intercept_)\n",
    "print(\"R^2 on training:\", model.score(c_train, A_train))\n",
    "\n",
    "# Predict concentration from a new absorbance A by rearranging y = m x + b -> x = (y - b)/m\n",
    "A_unknown = 0.50\n",
    "pred_c = (A_unknown - model.intercept_) / model.coef_[0]\n",
    "print(\"Predicted concentration for A=0.50:\", float(pred_c), \"mM\")"
   ]
  },
  {
   "cell_type": "markdown",
   "metadata": {},
   "source": [
    "### Train and test split\n",
    "\n",
    "We split data into train and test to see how the model performs on new points.\n"
   ]
  },
  {
   "cell_type": "code",
   "execution_count": null,
   "metadata": {},
   "outputs": [],
   "source": [
    "from sklearn.model_selection import train_test_split\n",
    "from sklearn.metrics import r2_score, mean_squared_error\n",
    "import numpy as np\n",
    "\n",
    "rng = np.random.default_rng(7)\n",
    "c_all = np.linspace(0, 2.0, 25).reshape(-1, 1)\n",
    "A_all = 0.42 * c_all.squeeze() + rng.normal(0, 0.01, size=c_all.size)\n",
    "\n",
    "c_tr, c_te, A_tr, A_te = train_test_split(c_all, A_all, test_size=0.3, random_state=0)\n",
    "\n",
    "m = LinearRegression().fit(c_tr, A_tr)\n",
    "A_pred = m.predict(c_te)\n",
    "print(\"Test R^2:\", r2_score(A_te, A_pred))\n",
    "print(\"Test RMSE:\", mean_squared_error(A_te, A_pred, squared=False))"
   ]
  },
  {
   "cell_type": "markdown",
   "metadata": {},
   "source": [
    "## 10. Bonus: slight curvature and polynomial regression\n",
    "\n",
    "Spectrometers can show curvature at high absorbance. We can model that using a polynomial of degree 2.\n"
   ]
  },
  {
   "cell_type": "code",
   "execution_count": null,
   "metadata": {},
   "outputs": [],
   "source": [
    "from sklearn.preprocessing import PolynomialFeatures\n",
    "from sklearn.pipeline import make_pipeline\n",
    "\n",
    "rng = np.random.default_rng(11)\n",
    "c_curve = np.linspace(0, 3.0, 40).reshape(-1, 1)\n",
    "# Create mild curvature: A = 0.45*c - 0.015*c^2 + noise\n",
    "A_curve = 0.45*c_curve.squeeze() - 0.015*(c_curve.squeeze()**2) + rng.normal(0, 0.02, size=c_curve.size)\n",
    "\n",
    "poly2 = make_pipeline(PolynomialFeatures(2, include_bias=False), LinearRegression())\n",
    "poly2.fit(c_curve, A_curve)\n",
    "A_fit = poly2.predict(c_curve)\n",
    "\n",
    "import matplotlib.pyplot as plt\n",
    "plt.figure()\n",
    "plt.scatter(c_curve, A_curve, s=15, label=\"data\")\n",
    "plt.plot(c_curve, A_fit, label=\"quadratic fit\")\n",
    "plt.xlabel(\"Concentration\")\n",
    "plt.ylabel(\"Absorbance\")\n",
    "plt.title(\"Mild curvature example\")\n",
    "plt.legend()\n",
    "plt.show()"
   ]
  },
  {
   "cell_type": "markdown",
   "metadata": {},
   "source": [
    "## 11. Mini project: simple stoichiometry and limiting reagent\n",
    "\n",
    "Reaction: `HCl(aq) + Na2CO3(aq) -> NaCl(aq) + H2O(l) + CO2(g)`\n",
    "\n",
    "Balanced form: `2 HCl + Na2CO3 -> 2 NaCl + H2O + CO2`\n",
    "\n",
    "We will compute the limiting reagent and the amount of CO2 formed given solution volumes and molarities.\n"
   ]
  },
  {
   "cell_type": "code",
   "execution_count": null,
   "metadata": {},
   "outputs": [],
   "source": [
    "def limiting_reagent_HCl_Na2CO3(M_HCl, V_HCl_L, M_Na2CO3, V_Na2CO3_L):\n",
    "    # Stoichiometric coefficients\n",
    "    nu_HCl = 2\n",
    "    nu_Na2CO3 = 1\n",
    "    nu_CO2 = 1\n",
    "\n",
    "    n_HCl = M_HCl * V_HCl_L\n",
    "    n_Na2CO3 = M_Na2CO3 * V_Na2CO3_L\n",
    "\n",
    "    # Compare required ratios: n/nu\n",
    "    avail_HCl = n_HCl / nu_HCl\n",
    "    avail_Na2CO3 = n_Na2CO3 / nu_Na2CO3\n",
    "\n",
    "    # Limiting reagent is the smaller of availabilities\n",
    "    if avail_HCl < avail_Na2CO3:\n",
    "        limiting = \"HCl\"\n",
    "        extent = avail_HCl\n",
    "    else:\n",
    "        limiting = \"Na2CO3\"\n",
    "        extent = avail_Na2CO3\n",
    "\n",
    "    n_CO2 = extent * nu_CO2\n",
    "    return limiting, n_CO2\n",
    "\n",
    "limiting, n_CO2 = limiting_reagent_HCl_Na2CO3(M_HCl=0.50, V_HCl_L=0.040, M_Na2CO3=0.20, V_Na2CO3_L=0.050)\n",
    "print(\"Limiting reagent:\", limiting)\n",
    "print(\"Moles of CO2 formed:\", round(n_CO2, 4))"
   ]
  },
  {
   "cell_type": "markdown",
   "metadata": {},
   "source": [
    "### Convert moles of CO2 to a gas volume estimate at room conditions\n",
    "\n",
    "Use the ideal gas law again.\n"
   ]
  },
  {
   "cell_type": "code",
   "execution_count": null,
   "metadata": {},
   "outputs": [],
   "source": [
    "R = 8.314462618    # J/(mol*K)\n",
    "T = 298.0           # K\n",
    "P = 101_325         # Pa\n",
    "\n",
    "V_m3 = n_CO2 * R * T / P\n",
    "print(\"Volume of CO2 at 298 K and 1 atm:\", V_m3*1000, \"L\")"
   ]
  },
  {
   "cell_type": "markdown",
   "metadata": {},
   "source": [
    "## 12. pH estimator for a strong acid\n",
    "\n",
    "For a strong monoprotic acid at 25 C, assume full dissociation. Then `[H+] = c` and `pH = -log10([H+])`.\n"
   ]
  },
  {
   "cell_type": "code",
   "execution_count": null,
   "metadata": {},
   "outputs": [],
   "source": [
    "import numpy as np\n",
    "\n",
    "def pH_strong_acid(c_M):\n",
    "    c = float(c_M)\n",
    "    H = max(c, 1e-14)\n",
    "    return -np.log10(H)\n",
    "\n",
    "for c in [1e-1, 1e-2, 1e-3, 1e-4]:\n",
    "    print(f\"c = {c:.1e} M -> pH = {pH_strong_acid(c):.2f}\")"
   ]
  },
  {
   "cell_type": "markdown",
   "metadata": {},
   "source": [
    "### Plot the estimate on a log x-axis\n"
   ]
  },
  {
   "cell_type": "code",
   "execution_count": null,
   "metadata": {},
   "outputs": [],
   "source": [
    "import numpy as np\n",
    "import matplotlib.pyplot as plt\n",
    "\n",
    "c_grid = np.logspace(-6, 0, 100)\n",
    "pH = [-np.log10(max(c, 1e-14)) for c in c_grid]\n",
    "\n",
    "plt.figure()\n",
    "plt.semilogx(c_grid, pH)\n",
    "plt.xlabel(\"Acid concentration (M)\")\n",
    "plt.ylabel(\"Estimated pH\")\n",
    "plt.title(\"Strong acid pH estimate\")\n",
    "plt.show()"
   ]
  },
  {
   "cell_type": "markdown",
   "metadata": {},
   "source": [
    "## 13. Reading a simple CSV with pandas\n",
    "\n",
    "Datasets often arrive as CSV files. We will create a small CSV in memory, read it with pandas, and compute a fit. In your work you would load your real file from disk.\n"
   ]
  },
  {
   "cell_type": "code",
   "execution_count": null,
   "metadata": {},
   "outputs": [],
   "source": [
    "# If pandas is missing: !pip install pandas\n",
    "import io, pandas as pd, numpy as np\n",
    "\n",
    "csv_text = \"\"\"concentration_mM,absorbance\n",
    "0.0,0.000\n",
    "0.5,0.210\n",
    "1.0,0.415\n",
    "1.5,0.625\n",
    "2.0,0.825\n",
    "\"\"\"\n",
    "\n",
    "df = pd.read_csv(io.StringIO(csv_text))\n",
    "df"
   ]
  },
  {
   "cell_type": "code",
   "execution_count": null,
   "metadata": {},
   "outputs": [],
   "source": [
    "# Fit a line using numpy on the DataFrame columns\n",
    "coef = np.polyfit(df[\"concentration_mM\"].values, df[\"absorbance\"].values, 1)\n",
    "slope, intercept = coef\n",
    "print(\"slope:\", slope, \"intercept:\", intercept)\n",
    "\n",
    "# Predict output for an unknown\n",
    "A_unknown = 0.50\n",
    "c_est = (A_unknown - intercept) / slope\n",
    "print(\"Estimated concentration for A=0.50:\", c_est, \"mM\")"
   ]
  },
  {
   "cell_type": "markdown",
   "metadata": {},
   "source": [
    "## 14. Common mistakes and how to fix them\n",
    "\n",
    "- **NameError: name 'something' is not defined**  \n",
    "  You tried to use a variable before creating it. Run the cell where it was defined or fix the name.\n",
    "\n",
    "- **SyntaxError**  \n",
    "  Python could not read the code. Check quotes, parentheses, and colons.\n",
    "\n",
    "- **KeyError** from the formula function  \n",
    "  You used an element symbol that is not in `atomic_mass`. Add the symbol to the dictionary.\n",
    "\n",
    "- **TypeError** mixing strings and numbers  \n",
    "  Convert types as needed. For example use `float(\"3.5\")` or `str(3.5)`.\n"
   ]
  },
  {
   "cell_type": "markdown",
   "metadata": {},
   "source": [
    "## 15. Practice tasks\n",
    "\n",
    "Try these now. You can duplicate cells if you want a template.\n",
    "\n",
    "1. Add `\"Br\": 79.904` and `\"I\": 126.904` to `atomic_mass` then compute the molar mass of KI and NaBr.\n",
    "2. Use `molar_mass(\"Ca(OH)2\")` and compute the grams needed to prepare 250.0 mL of a 0.0500 M solution.\n",
    "3. Create your own calibration data at 0.25 mM intervals from 0 to 2.0 mM, add noise with `rng.normal`, fit a line, and report slope, intercept, and R\u00b2.\n",
    "4. Write a function `density_to_mass(density_g_per_mL, volume_mL)` and use it to compute grams of ethanol given 15.0 mL and density 0.789 g/mL.\n",
    "5. Challenge: Modify the formula parser to support nested parentheses like `Al2(SO4)3` without expanding by repetition. Hint: use a stack.\n"
   ]
  },
  {
   "cell_type": "markdown",
   "metadata": {},
   "source": [
    "## 16. Next steps\n",
    "\n",
    "- Read and write CSV files from your instrument folder.\n",
    "- Move calculations into functions so you can test them.\n",
    "- Explore polynomial and regularized regression for curved calibration data.\n",
    "- Try simple molecular descriptors and predict a property with a regression model.\n"
   ]
  }
 ],
 "metadata": {
  "kernelspec": {
   "display_name": "Python 3",
   "language": "python",
   "name": "python3"
  },
  "language_info": {
   "name": "python",
   "version": "3.11",
   "mimetype": "text/x-python",
   "codemirror_mode": {
    "name": "ipython",
    "version": 3
   },
   "pygments_lexer": "ipython3",
   "nbconvert_exporter": "python",
   "file_extension": ".py"
  },
  "colab": {
   "name": "AI_for_Chemistry_Intro_FULL.ipynb",
   "version": "v1"
  },
  "authors": [
   {
    "name": "Instructor"
   },
   {
    "name": "ChatGPT"
   }
  ],
  "created": "2025-08-19T00:43:27.711863Z"
 },
 "nbformat": 4,
 "nbformat_minor": 5
}